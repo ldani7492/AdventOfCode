{
 "cells": [
  {
   "cell_type": "markdown",
   "metadata": {},
   "source": [
    "# Day 1"
   ]
  },
  {
   "cell_type": "markdown",
   "metadata": {},
   "source": [
    "## Part 1"
   ]
  },
  {
   "cell_type": "code",
   "execution_count": 6,
   "metadata": {},
   "outputs": [
    {
     "data": {
      "text/plain": [
       "74"
      ]
     },
     "execution_count": 6,
     "metadata": {},
     "output_type": "execute_result"
    }
   ],
   "source": [
    "with open('inputs/day1.txt') as f:\n",
    "    s = f.read()\n",
    "\n",
    "def value(c):\n",
    "    if c == '(':\n",
    "        return 1\n",
    "    return -1\n",
    "\n",
    "transitions = [value(c) for c in s]\n",
    "sum(transitions)"
   ]
  },
  {
   "cell_type": "markdown",
   "metadata": {},
   "source": [
    "## Part 2"
   ]
  },
  {
   "cell_type": "code",
   "execution_count": 9,
   "metadata": {},
   "outputs": [
    {
     "data": {
      "text/plain": [
       "1795"
      ]
     },
     "execution_count": 9,
     "metadata": {},
     "output_type": "execute_result"
    }
   ],
   "source": [
    "i = 1\n",
    "floor = 0\n",
    "for t in transitions:\n",
    "    floor += t\n",
    "    if floor < 0:\n",
    "        break\n",
    "    i += 1\n",
    "    \n",
    "i"
   ]
  },
  {
   "cell_type": "markdown",
   "metadata": {},
   "source": [
    "# Day 2"
   ]
  },
  {
   "cell_type": "markdown",
   "metadata": {},
   "source": [
    "## Part 1"
   ]
  },
  {
   "cell_type": "code",
   "execution_count": 25,
   "metadata": {},
   "outputs": [
    {
     "data": {
      "text/plain": [
       "1588178"
      ]
     },
     "execution_count": 25,
     "metadata": {},
     "output_type": "execute_result"
    }
   ],
   "source": [
    "with open('inputs/day2.txt') as f:\n",
    "    s = f.read()\n",
    "    \n",
    "presents = [[int(side) for side in present.split('x')] for present in s.split('\\n')[:-1]]\n",
    "\n",
    "def paper_area(present):\n",
    "    sides = [present[0] * present[1], present[0] * present[2], present[1] * present[2]]\n",
    "    return 2*sum(sides) + min(sides)\n",
    "\n",
    "sum([paper_area(present) for present in presents])"
   ]
  },
  {
   "cell_type": "markdown",
   "metadata": {},
   "source": [
    "## Part 2"
   ]
  },
  {
   "cell_type": "code",
   "execution_count": 27,
   "metadata": {},
   "outputs": [
    {
     "data": {
      "text/plain": [
       "3783758"
      ]
     },
     "execution_count": 27,
     "metadata": {},
     "output_type": "execute_result"
    }
   ],
   "source": [
    "def ribbon(present):\n",
    "    short_edges = present.copy()\n",
    "    short_edges.remove(max(short_edges))\n",
    "    return 2*sum(short_edges) + present[0]*present[1]*present[2]\n",
    "\n",
    "sum([ribbon(present) for present in presents])"
   ]
  },
  {
   "cell_type": "markdown",
   "metadata": {},
   "source": [
    "# Day 3"
   ]
  },
  {
   "cell_type": "markdown",
   "metadata": {},
   "source": [
    "## Part 1"
   ]
  },
  {
   "cell_type": "code",
   "execution_count": 37,
   "metadata": {},
   "outputs": [
    {
     "data": {
      "text/plain": [
       "2081"
      ]
     },
     "execution_count": 37,
     "metadata": {},
     "output_type": "execute_result"
    }
   ],
   "source": [
    "with open('inputs/day3.txt') as f:\n",
    "    s = f.read()\n",
    "    \n",
    "directions = {'^': (0,-1),\n",
    "              'v': (0,1),\n",
    "              '<': (-1,0),\n",
    "              '>': (1,0)}\n",
    "    \n",
    "location = (0,0)\n",
    "houses = set()\n",
    "houses.add(location)\n",
    "\n",
    "for d in s:\n",
    "    direction = directions[d]\n",
    "    location = (location[0] + direction[0], location[1] + direction[1])\n",
    "    houses.add(location)\n",
    "    \n",
    "len(houses)"
   ]
  },
  {
   "cell_type": "markdown",
   "metadata": {},
   "source": [
    "## Part 2"
   ]
  },
  {
   "cell_type": "code",
   "execution_count": 43,
   "metadata": {},
   "outputs": [
    {
     "data": {
      "text/plain": [
       "2341"
      ]
     },
     "execution_count": 43,
     "metadata": {},
     "output_type": "execute_result"
    }
   ],
   "source": [
    "location1 = (0,0)\n",
    "location2 = (0,0)\n",
    "houses = set()\n",
    "houses.add(location1)\n",
    "santa = True\n",
    "\n",
    "for d in s:\n",
    "    direction = directions[d]\n",
    "    if santa:\n",
    "        location1 = (location1[0] + direction[0], location1[1] + direction[1])\n",
    "        houses.add(location1)\n",
    "    else:\n",
    "        location2 = (location2[0] + direction[0], location2[1] + direction[1])\n",
    "        houses.add(location2)\n",
    "    santa = not santa\n",
    "    \n",
    "len(houses)"
   ]
  },
  {
   "cell_type": "markdown",
   "metadata": {},
   "source": [
    "# Day 4"
   ]
  },
  {
   "cell_type": "markdown",
   "metadata": {},
   "source": [
    "## Part 1"
   ]
  },
  {
   "cell_type": "code",
   "execution_count": 53,
   "metadata": {},
   "outputs": [
    {
     "data": {
      "text/plain": [
       "254575"
      ]
     },
     "execution_count": 53,
     "metadata": {},
     "output_type": "execute_result"
    }
   ],
   "source": [
    "secret = 'bgvyzdsv'\n",
    "\n",
    "import hashlib \n",
    "\n",
    "def md5_hash(secret):\n",
    "    md5 = hashlib.md5(secret.encode())\n",
    "    return md5.hexdigest()\n",
    "\n",
    "i = 0\n",
    "md5 = 'ffffff'\n",
    "while md5[:5] != '00000':\n",
    "    i += 1\n",
    "    md5 = md5_hash(secret + (str(i)))\n",
    "    \n",
    "i"
   ]
  },
  {
   "cell_type": "markdown",
   "metadata": {},
   "source": [
    "## Part 2"
   ]
  },
  {
   "cell_type": "code",
   "execution_count": 54,
   "metadata": {},
   "outputs": [
    {
     "data": {
      "text/plain": [
       "1038736"
      ]
     },
     "execution_count": 54,
     "metadata": {},
     "output_type": "execute_result"
    }
   ],
   "source": [
    "i = 0\n",
    "md5 = 'ffffff'\n",
    "while md5[:6] != '000000':\n",
    "    i += 1\n",
    "    md5 = md5_hash(secret + (str(i)))\n",
    "    \n",
    "i"
   ]
  },
  {
   "cell_type": "markdown",
   "metadata": {},
   "source": [
    "# Day 5"
   ]
  },
  {
   "cell_type": "markdown",
   "metadata": {},
   "source": [
    "## Part 1"
   ]
  },
  {
   "cell_type": "code",
   "execution_count": 67,
   "metadata": {},
   "outputs": [
    {
     "data": {
      "text/plain": [
       "255"
      ]
     },
     "execution_count": 67,
     "metadata": {},
     "output_type": "execute_result"
    }
   ],
   "source": [
    "with open('inputs/day5.txt') as f:\n",
    "    s = f.read()\n",
    "    \n",
    "strings = [line for line in s.split('\\n')[:-1]]\n",
    "\n",
    "letters = 'abcdefghijklmnopqrstuvwxyz'\n",
    "vowels = 'aeiou'\n",
    "stopwords = ['ab', 'cd', 'pq', 'xy']\n",
    "\n",
    "def vowel_count(string):\n",
    "    count = 0\n",
    "    for v in vowels:\n",
    "        count += string.count(v)\n",
    "    return count\n",
    "    \n",
    "    \n",
    "def doubles(string):\n",
    "    for l in letters:\n",
    "        if 2*l in string:\n",
    "            return True\n",
    "    return False\n",
    "\n",
    "\n",
    "def is_nice(string):\n",
    "    for w in stopwords:\n",
    "        if w in string:\n",
    "            return False\n",
    "    if vowel_count(string) < 3:\n",
    "        return False\n",
    "    return doubles(string)\n",
    "    \n",
    "count = 0\n",
    "for string in strings:\n",
    "    if is_nice(string):\n",
    "        count += 1\n",
    "        \n",
    "count"
   ]
  },
  {
   "cell_type": "markdown",
   "metadata": {},
   "source": [
    "## Part 2"
   ]
  },
  {
   "cell_type": "code",
   "execution_count": 74,
   "metadata": {},
   "outputs": [
    {
     "data": {
      "text/plain": [
       "55"
      ]
     },
     "execution_count": 74,
     "metadata": {},
     "output_type": "execute_result"
    }
   ],
   "source": [
    "pairs = [a+b for b in letters for a in letters]\n",
    "threes = [a+b+a for b in letters for a in letters]\n",
    "\n",
    "def is_nice(string):\n",
    "    match = False\n",
    "    for p in pairs:\n",
    "        if string.count(p) >= 2:\n",
    "            match = True\n",
    "            break\n",
    "    if match:\n",
    "        for t in threes:\n",
    "            if t in string:\n",
    "                return True\n",
    "    return False\n",
    "\n",
    "count = 0\n",
    "for string in strings:\n",
    "    if is_nice(string):\n",
    "        count += 1\n",
    "        \n",
    "count"
   ]
  },
  {
   "cell_type": "markdown",
   "metadata": {},
   "source": [
    "# Day 6"
   ]
  },
  {
   "cell_type": "markdown",
   "metadata": {},
   "source": [
    "## Part 1"
   ]
  },
  {
   "cell_type": "code",
   "execution_count": 46,
   "metadata": {},
   "outputs": [
    {
     "data": {
      "text/plain": [
       "569999"
      ]
     },
     "execution_count": 46,
     "metadata": {},
     "output_type": "execute_result"
    }
   ],
   "source": [
    "with open('inputs/day6.txt') as f:\n",
    "    s = f.read()\n",
    "\n",
    "lines = [line for line in s.split('\\n')[:-1]]\n",
    "grid = [[0 for x in range(0,1000)] for y in range(0,1000)]\n",
    "\n",
    "def toggle(grid, x, y):\n",
    "    grid[y][x] = abs(grid[y][x] - 1)\n",
    "\n",
    "\n",
    "def turn_on(grid, x, y):\n",
    "    grid[y][x] = 1\n",
    "    \n",
    "\n",
    "def turn_off(grid, x, y):\n",
    "    grid[y][x] = 0\n",
    "    \n",
    "\n",
    "def modify_grid(grid, start, end, command):\n",
    "    for x in range(start[0], end[0]+1):\n",
    "        for y in range(start[1], end[1]+1):\n",
    "            command(grid, x, y)\n",
    "\n",
    "            \n",
    "def get_command(line):\n",
    "    if 'turn on' in line:\n",
    "        command = turn_on\n",
    "        line = line.replace('turn on ', '')\n",
    "    elif 'turn off' in line:\n",
    "        command = turn_off\n",
    "        line = line.replace('turn off ', '')\n",
    "    else:\n",
    "        command = toggle\n",
    "        line = line.replace('toggle ', '')\n",
    "    return (command, line)\n",
    "\n",
    "\n",
    "def get_corners(line):\n",
    "    coords = [[int(coord) for coord in corner.split(',')] for corner in line.split(' through ')]\n",
    "    return ((coords[0][0], coords[0][1]),(coords[1][0], coords[1][1]))\n",
    "\n",
    "\n",
    "def parse(line):\n",
    "    (command, line) = get_command(line)\n",
    "    corners = get_corners(line)\n",
    "    corners = get_corners(line)\n",
    "    \n",
    "    return (command, corners[0], corners[1])\n",
    "\n",
    "\n",
    "def execute(grid, line):\n",
    "    (command, start, end) = parse(line)\n",
    "    modify_grid(grid, start, end, command)\n",
    "    \n",
    "\n",
    "for line in lines:\n",
    "    execute(grid, line)\n",
    "    \n",
    "sum([sum(y) for y in grid])"
   ]
  },
  {
   "cell_type": "markdown",
   "metadata": {},
   "source": [
    "## Part 2"
   ]
  },
  {
   "cell_type": "code",
   "execution_count": 56,
   "metadata": {},
   "outputs": [
    {
     "data": {
      "text/plain": [
       "17836115"
      ]
     },
     "execution_count": 56,
     "metadata": {},
     "output_type": "execute_result"
    }
   ],
   "source": [
    "def toggle(grid, x, y):\n",
    "    grid[y][x] += 2\n",
    "\n",
    "\n",
    "def turn_on(grid, x, y):\n",
    "    grid[y][x] += 1\n",
    "    \n",
    "\n",
    "def turn_off(grid, x, y):\n",
    "    grid[y][x] = max(grid[y][x]-1, 0)\n",
    "    \n",
    "\n",
    "grid = [[0 for x in range(0,1000)] for y in range(0,1000)]\n",
    "for line in lines:\n",
    "    execute(grid, line)\n",
    "    \n",
    "sum([sum(y) for y in grid])"
   ]
  },
  {
   "cell_type": "markdown",
   "metadata": {},
   "source": [
    "# Day 7"
   ]
  },
  {
   "cell_type": "markdown",
   "metadata": {},
   "source": [
    "## Part 1"
   ]
  },
  {
   "cell_type": "code",
   "execution_count": 39,
   "metadata": {},
   "outputs": [
    {
     "data": {
      "text/plain": [
       "3176"
      ]
     },
     "execution_count": 39,
     "metadata": {},
     "output_type": "execute_result"
    }
   ],
   "source": [
    "with open('inputs/day7.txt') as f:\n",
    "    s = f.read()\n",
    "    \n",
    "instructions = s.split('\\n')[:-1]\n",
    "wires = {i.split(' -> ')[1]: None for i in instructions}\n",
    "    \n",
    "def read(w):\n",
    "    if w in wires:\n",
    "        return wires[w]\n",
    "    return int(w)\n",
    "\n",
    "def ready(w):\n",
    "    return w not in wires or wires[w] is not None\n",
    "\n",
    "def write(in1, out):\n",
    "    if ready(in1):\n",
    "        wires[out] = read(in1)\n",
    "\n",
    "def b_and(in1, in2, out):\n",
    "    if ready(in1) and ready(in2):\n",
    "        write(read(in1) & read(in2), out)\n",
    "    \n",
    "def b_or(in1, in2, out):\n",
    "    if ready(in1) and ready(in2):\n",
    "        write(read(in1) | read(in2), out)\n",
    "    \n",
    "def b_not(in1, out):\n",
    "    if ready(in1):\n",
    "        write(~read(in1), out)\n",
    "    \n",
    "def lshift(in1, shift, out):\n",
    "    if ready(in1):\n",
    "        write(read(in1) << int(shift), out)\n",
    "    \n",
    "def rshift(in1, shift, out):\n",
    "    if ready(in1):\n",
    "        write(read(in1) >> int(shift), out)\n",
    "        \n",
    "def execute(instruction):\n",
    "    (inp, out) = instruction.split(' -> ')\n",
    "    if wires[out] is None:\n",
    "        if 'AND' in inp:\n",
    "            (in1, in2) = inp.split(' AND ')\n",
    "            b_and(in1, in2, out)\n",
    "        elif 'OR' in inp:\n",
    "            (in1, in2) = inp.split(' OR ')\n",
    "            b_or(in1, in2, out)\n",
    "        elif 'NOT' in inp:\n",
    "            in1 = inp.replace('NOT ', '')\n",
    "            b_not(in1, out)\n",
    "        elif 'LSHIFT' in inp:\n",
    "            (in1, shift) = inp.split(' LSHIFT ')\n",
    "            lshift(in1, shift, out)\n",
    "        elif 'RSHIFT' in inp:\n",
    "            (in1, shift) = inp.split(' RSHIFT ')\n",
    "            rshift(in1, shift, out)\n",
    "        else:\n",
    "            write(inp, out)\n",
    "\n",
    "while wires['a'] is None:\n",
    "    for instruction in instructions:\n",
    "        execute(instruction)\n",
    "\n",
    "wires['a']"
   ]
  },
  {
   "cell_type": "markdown",
   "metadata": {},
   "source": [
    "## Part 2"
   ]
  },
  {
   "cell_type": "code",
   "execution_count": 40,
   "metadata": {},
   "outputs": [
    {
     "data": {
      "text/plain": [
       "14710"
      ]
     },
     "execution_count": 40,
     "metadata": {},
     "output_type": "execute_result"
    }
   ],
   "source": [
    "wires['b'] = wires['a']\n",
    "for wire in wires:\n",
    "    if wire != 'b':\n",
    "        wires[wire] = None\n",
    "        \n",
    "while wires['a'] is None:\n",
    "    for instruction in instructions:\n",
    "        execute(instruction)\n",
    "        \n",
    "wires['a']"
   ]
  },
  {
   "cell_type": "markdown",
   "metadata": {},
   "source": [
    "# Day 8"
   ]
  },
  {
   "cell_type": "markdown",
   "metadata": {},
   "source": [
    "## Part 1"
   ]
  },
  {
   "cell_type": "code",
   "execution_count": 1,
   "metadata": {},
   "outputs": [
    {
     "data": {
      "text/plain": [
       "1342"
      ]
     },
     "execution_count": 1,
     "metadata": {},
     "output_type": "execute_result"
    }
   ],
   "source": [
    "with open('inputs/day8.txt', encoding='utf-8') as f:\n",
    "    l = f.read()\n",
    "\n",
    "with open('inputs/day8.txt', encoding='unicode_escape') as f:\n",
    "    e = f.read()\n",
    "\n",
    "literal = l.split('\\n')[:-1]\n",
    "escaped = [s for s in '\\\"\\n{}\\\"'.format(e).split('\\\"\\n\\\"')[1:-1]]\n",
    "\n",
    "sum([len(literal[i]) - len(escaped[i]) for i in range(0, len(literal))])"
   ]
  },
  {
   "cell_type": "markdown",
   "metadata": {},
   "source": [
    "## Part 2"
   ]
  },
  {
   "cell_type": "code",
   "execution_count": 12,
   "metadata": {},
   "outputs": [
    {
     "data": {
      "text/plain": [
       "2074"
      ]
     },
     "execution_count": 12,
     "metadata": {},
     "output_type": "execute_result"
    }
   ],
   "source": [
    "sum([l.count('\\\\') + l.count('\"') + 2 for l in literal])"
   ]
  },
  {
   "cell_type": "markdown",
   "metadata": {},
   "source": [
    "# Day 9"
   ]
  },
  {
   "cell_type": "markdown",
   "metadata": {},
   "source": [
    "## Part 1"
   ]
  },
  {
   "cell_type": "code",
   "execution_count": 72,
   "metadata": {},
   "outputs": [
    {
     "data": {
      "text/plain": [
       "207"
      ]
     },
     "execution_count": 72,
     "metadata": {},
     "output_type": "execute_result"
    }
   ],
   "source": [
    "with open('inputs/day9.txt') as f:\n",
    "    s = f.read()\n",
    "\n",
    "def parse(line):\n",
    "    words = line.split(' ')\n",
    "    return (words[0], words[2], int(words[-1]))\n",
    "\n",
    "pairs = [parse(line) for line in s.split('\\n')[:-1]]\n",
    "\n",
    "distances = {}\n",
    "for p in pairs:\n",
    "    if p[0] not in distances:\n",
    "        distances[p[0]] = {}\n",
    "    if p[1] not in distances:\n",
    "        distances[p[1]] = {}\n",
    "    distances[p[0]][p[1]] = p[2] \n",
    "    distances[p[1]][p[0]] = p[2]\n",
    "    \n",
    "def shortest_path(start, finish, remaining, cost):\n",
    "    if len(remaining) == 2:\n",
    "        return cost + distances[start][finish]\n",
    "    return min([shortest_path(start, \n",
    "                              v, \n",
    "                              [r for r in remaining if r != finish], \n",
    "                              cost + distances[v][finish]) \n",
    "                for v in remaining if v != start and v != finish])\n",
    "\n",
    "shortest = {v: {} for v in distances}\n",
    "for start in distances:\n",
    "    for finish in distances:\n",
    "        if start != finish and finish not in shortest[start]:\n",
    "            cost = shortest_path(start,\n",
    "                                 finish,\n",
    "                                 distances.keys(), \n",
    "                                 0)\n",
    "            shortest[start][finish] = cost\n",
    "            shortest[finish][start] = cost\n",
    "            \n",
    "min([min(shortest[v0].values()) for v0 in shortest])"
   ]
  },
  {
   "cell_type": "markdown",
   "metadata": {},
   "source": [
    "## Part 2"
   ]
  },
  {
   "cell_type": "code",
   "execution_count": 77,
   "metadata": {},
   "outputs": [
    {
     "data": {
      "text/plain": [
       "804"
      ]
     },
     "execution_count": 77,
     "metadata": {},
     "output_type": "execute_result"
    }
   ],
   "source": [
    "def longest_path(start, finish, remaining, cost):\n",
    "    if len(remaining) == 2:\n",
    "        return cost + distances[start][finish]\n",
    "    return max([longest_path(start, \n",
    "                             v, \n",
    "                             [r for r in remaining if r != finish], \n",
    "                             cost + distances[v][finish]) \n",
    "                for v in remaining if v != start and v != finish])\n",
    "\n",
    "longest = {v: {} for v in distances}\n",
    "for start in distances:\n",
    "    for finish in distances:\n",
    "        if start != finish and finish not in longest[start]:\n",
    "            cost = longest_path(start,\n",
    "                                finish,\n",
    "                                distances.keys(), \n",
    "                                0)\n",
    "            longest[start][finish] = cost\n",
    "            longest[finish][start] = cost\n",
    "            \n",
    "max([max(longest[v0].values()) for v0 in longest])"
   ]
  },
  {
   "cell_type": "markdown",
   "metadata": {},
   "source": [
    "# Day 10"
   ]
  },
  {
   "cell_type": "markdown",
   "metadata": {},
   "source": [
    "## Part 1"
   ]
  },
  {
   "cell_type": "code",
   "execution_count": 3,
   "metadata": {},
   "outputs": [
    {
     "data": {
      "text/plain": [
       "329356"
      ]
     },
     "execution_count": 3,
     "metadata": {},
     "output_type": "execute_result"
    }
   ],
   "source": [
    "import math\n",
    "\n",
    "number = '3113322113'\n",
    "\n",
    "def say(number):\n",
    "    s = number\n",
    "    c = s[0]\n",
    "    j = 1\n",
    "    result = ''\n",
    "    for i in range(0, len(s)-1):\n",
    "        if s[i] == s[i+1]:\n",
    "            j += 1\n",
    "        else:\n",
    "            result += str(j) + c\n",
    "            c = s[i+1]\n",
    "            j = 1\n",
    "    result += str(j) + c\n",
    "    return result\n",
    "\n",
    "for i in range(0, 40):\n",
    "    number = say(number)\n",
    "    \n",
    "len(number)"
   ]
  },
  {
   "cell_type": "markdown",
   "metadata": {},
   "source": [
    "## Part 2"
   ]
  },
  {
   "cell_type": "code",
   "execution_count": 4,
   "metadata": {},
   "outputs": [
    {
     "data": {
      "text/plain": [
       "4666278"
      ]
     },
     "execution_count": 4,
     "metadata": {},
     "output_type": "execute_result"
    }
   ],
   "source": [
    "number = '3113322113'\n",
    "\n",
    "for i in range(0, 50):\n",
    "    number = say(number)\n",
    "    \n",
    "len(number)"
   ]
  },
  {
   "cell_type": "markdown",
   "metadata": {},
   "source": [
    "# Day 11"
   ]
  },
  {
   "cell_type": "markdown",
   "metadata": {},
   "source": [
    "## Part 1"
   ]
  },
  {
   "cell_type": "code",
   "execution_count": 41,
   "metadata": {},
   "outputs": [
    {
     "data": {
      "text/plain": [
       "'vzbxxyzz'"
      ]
     },
     "execution_count": 41,
     "metadata": {},
     "output_type": "execute_result"
    }
   ],
   "source": [
    "password = 'vzbxkghb'\n",
    "\n",
    "def first_illegal(password):\n",
    "    illegal = [password.find(c) for c in 'iol']\n",
    "    illegal = [i for i in illegal if i >= 0]\n",
    "    if len(illegal) > 0:\n",
    "        return min(illegal)\n",
    "    else:\n",
    "        return -1\n",
    "\n",
    "def inc(password):\n",
    "    i = 0\n",
    "    illegal = first_illegal(password)\n",
    "    if illegal != -1:\n",
    "        return password[0:illegal] + chr(ord(password[illegal])+1) + 'a'*(len(password)-illegal-1)\n",
    "    while password[-1-i] == 'z' and i < len(password):\n",
    "        i += 1\n",
    "    next_char = chr(ord(password[-1-i])+1)\n",
    "    if next_char in 'iol':\n",
    "        next_char = chr(ord(next_char)+1)\n",
    "    return password[0:len(password)-i-1] + next_char + 'a'*i\n",
    "\n",
    "def contains(password, sequences, count):\n",
    "    contains = 0\n",
    "    for s in sequences:\n",
    "        if s in password:\n",
    "            contains += 1\n",
    "    return contains >= count\n",
    "\n",
    "threes = [chr(c) + chr(c+1) + chr(c+2) for c in range(ord('a'), (ord('z')-1))]\n",
    "pairs = [chr(c)*2 for c in range(ord('a'), (ord('z')+1))]\n",
    "\n",
    "def valid(password):\n",
    "    return contains(password, threes, 1) and contains(password, pairs, 2)\n",
    "\n",
    "password = inc(password)\n",
    "while not valid(password):\n",
    "    password = inc(password)\n",
    "    \n",
    "password"
   ]
  },
  {
   "cell_type": "markdown",
   "metadata": {},
   "source": [
    "## Part 2"
   ]
  },
  {
   "cell_type": "code",
   "execution_count": 42,
   "metadata": {},
   "outputs": [
    {
     "data": {
      "text/plain": [
       "'vzcaabcc'"
      ]
     },
     "execution_count": 42,
     "metadata": {},
     "output_type": "execute_result"
    }
   ],
   "source": [
    "password = inc(password)\n",
    "while not valid(password):\n",
    "    password = inc(password)\n",
    "    \n",
    "password"
   ]
  },
  {
   "cell_type": "markdown",
   "metadata": {},
   "source": [
    "# Day 12"
   ]
  },
  {
   "cell_type": "markdown",
   "metadata": {},
   "source": [
    "## Part 1"
   ]
  },
  {
   "cell_type": "code",
   "execution_count": 54,
   "metadata": {},
   "outputs": [
    {
     "data": {
      "text/plain": [
       "156366"
      ]
     },
     "execution_count": 54,
     "metadata": {},
     "output_type": "execute_result"
    }
   ],
   "source": [
    "import re\n",
    "\n",
    "with open('inputs/day12.txt') as f:\n",
    "    s = f.read()\n",
    "\n",
    "sum([int(i) for i in re.findall('-?\\d+', s)])"
   ]
  },
  {
   "cell_type": "markdown",
   "metadata": {},
   "source": [
    "## Part 2"
   ]
  },
  {
   "cell_type": "code",
   "execution_count": 82,
   "metadata": {},
   "outputs": [
    {
     "data": {
      "text/plain": [
       "96852"
      ]
     },
     "execution_count": 82,
     "metadata": {},
     "output_type": "execute_result"
    }
   ],
   "source": [
    "import json\n",
    "\n",
    "json_obj = json.loads(s)\n",
    "\n",
    "def purge(obj):\n",
    "    if type(obj) is list:\n",
    "        for i in range(0, len(obj)):\n",
    "            obj[i] = purge(obj[i])\n",
    "    if type(obj) is dict:\n",
    "        for k in obj:\n",
    "            if obj[k] == 'red':\n",
    "                return {}\n",
    "            elif type(obj[k]) != str:\n",
    "                obj[k] = purge(obj[k])\n",
    "    return obj\n",
    "\n",
    "string = json.dumps(purge(json_obj))\n",
    "\n",
    "sum([int(i) for i in re.findall('-?\\d+', string)])"
   ]
  },
  {
   "cell_type": "markdown",
   "metadata": {},
   "source": [
    "# Day 13"
   ]
  },
  {
   "cell_type": "markdown",
   "metadata": {},
   "source": [
    "## Part 1"
   ]
  },
  {
   "cell_type": "code",
   "execution_count": 49,
   "metadata": {},
   "outputs": [
    {
     "data": {
      "text/plain": [
       "733"
      ]
     },
     "execution_count": 49,
     "metadata": {},
     "output_type": "execute_result"
    }
   ],
   "source": [
    "with open('inputs/day13.txt') as f:\n",
    "    s = f.read()\n",
    "    \n",
    "s = s.replace('gain ', '')\n",
    "s = s.replace('lose ', '-')\n",
    "\n",
    "happy = [line[:-1] for line in s.split('\\n')[:-1]]\n",
    "happy = {(h.split(' ')[0], h.split(' ')[-1]): int(h.split(' ')[2]) for h in happy}\n",
    "\n",
    "names = set()\n",
    "for h in happy:\n",
    "    names.add(h[0])\n",
    "names = list(names)\n",
    "\n",
    "def permutations(elements):\n",
    "    if len(elements) == 1:\n",
    "        return [elements]\n",
    "    perms = []\n",
    "    for e in elements:\n",
    "        local = permutations([ee for ee in elements if ee != e])\n",
    "        for l in local:\n",
    "            l.insert(0,e)\n",
    "            perms.append(l)\n",
    "    return perms\n",
    "        \n",
    "\n",
    "orders = permutations(names)\n",
    "\n",
    "def value(order):\n",
    "    a = 0\n",
    "    for i in range(len(order)):\n",
    "        a += happy[order[i], order[(i+1)%len(order)]]\n",
    "        a += happy[order[(i+1)%len(order)], order[i]]\n",
    "    return a\n",
    "\n",
    "max_value = 0\n",
    "for order in orders:\n",
    "    v = value(order)\n",
    "    if v > max_value:\n",
    "        max_value = v\n",
    "        \n",
    "max_value"
   ]
  },
  {
   "cell_type": "markdown",
   "metadata": {},
   "source": [
    "## Part 2"
   ]
  },
  {
   "cell_type": "code",
   "execution_count": 55,
   "metadata": {},
   "outputs": [
    {
     "data": {
      "text/plain": [
       "725"
      ]
     },
     "execution_count": 55,
     "metadata": {},
     "output_type": "execute_result"
    }
   ],
   "source": [
    "happy = [line[:-1] for line in s.split('\\n')[:-1]]\n",
    "happy = {(h.split(' ')[0], h.split(' ')[-1]): int(h.split(' ')[2]) for h in happy}\n",
    "\n",
    "names = set()\n",
    "for h in happy:\n",
    "    names.add(h[0])\n",
    "names = list(names)\n",
    "\n",
    "for n in names:\n",
    "    happy[(n, 'Me')] = 0\n",
    "    happy[('Me', n)] = 0\n",
    "\n",
    "names.append('Me')\n",
    "\n",
    "orders = permutations(names)\n",
    "\n",
    "max_value = 0\n",
    "for order in orders:\n",
    "    v = value(order)\n",
    "    if v > max_value:\n",
    "        max_value = v\n",
    "        \n",
    "max_value"
   ]
  },
  {
   "cell_type": "markdown",
   "metadata": {},
   "source": [
    "# Day 14"
   ]
  },
  {
   "cell_type": "markdown",
   "metadata": {},
   "source": [
    "## Part 1"
   ]
  },
  {
   "cell_type": "code",
   "execution_count": 77,
   "metadata": {},
   "outputs": [
    {
     "data": {
      "text/plain": [
       "2660"
      ]
     },
     "execution_count": 77,
     "metadata": {},
     "output_type": "execute_result"
    }
   ],
   "source": [
    "with open('inputs/day14.txt') as f:\n",
    "    s = f.read()\n",
    "\n",
    "duration = 2503\n",
    "    \n",
    "class Reindeer:\n",
    "    def __init__(self, speed, stamina, rest):\n",
    "        self.speed = int(speed)\n",
    "        self.stamina = int(stamina)\n",
    "        self.rest = int(rest)\n",
    "        self.poinst = 0\n",
    "        \n",
    "    def position(self, duration):\n",
    "        cycle_length = self.stamina + self.rest\n",
    "        cycles = duration // cycle_length\n",
    "        remaining_movement = min(duration % cycle_length, self.stamina)\n",
    "        return cycles*self.stamina*self.speed  + remaining_movement*self.speed\n",
    "        \n",
    "    \n",
    "deers = [line\n",
    "         .replace('can fly ', '')\n",
    "         .replace('seconds, but then must rest for ', '')\n",
    "         .replace('km/s for ', '')\n",
    "         .replace(' seconds.', '')\n",
    "         .split(' ')\n",
    "         for line in s.split('\\n')[:-1]]\n",
    "\n",
    "reindeers = {d[0]: Reindeer(d[1], d[2], d[3]) for d in deers}\n",
    "positions = {r: reindeers[r].position(duration) for r in reindeers}\n",
    "\n",
    "positions[max(positions, key=positions.get)]"
   ]
  },
  {
   "cell_type": "markdown",
   "metadata": {},
   "source": [
    "## Part 2"
   ]
  },
  {
   "cell_type": "code",
   "execution_count": 87,
   "metadata": {},
   "outputs": [
    {
     "data": {
      "text/plain": [
       "1256"
      ]
     },
     "execution_count": 87,
     "metadata": {},
     "output_type": "execute_result"
    }
   ],
   "source": [
    "points = {r: 0 for r in reindeers}\n",
    "\n",
    "def leading(positions):\n",
    "    lead_position = positions[max(positions, key=positions.get)]\n",
    "    return [r for r in positions if positions[r] == lead_position]\n",
    "    \n",
    "\n",
    "for t in range(1, duration + 1):\n",
    "    positions = {r: reindeers[r].position(t) for r in reindeers}\n",
    "    lead = leading(positions)\n",
    "    for r in lead:\n",
    "        points[r] += 1 \n",
    "    \n",
    "points[max(points, key=points.get)]"
   ]
  },
  {
   "cell_type": "markdown",
   "metadata": {},
   "source": [
    "# Day 15"
   ]
  },
  {
   "cell_type": "markdown",
   "metadata": {},
   "source": [
    "## Part 1"
   ]
  },
  {
   "cell_type": "code",
   "execution_count": 132,
   "metadata": {},
   "outputs": [
    {
     "data": {
      "text/plain": [
       "18965440"
      ]
     },
     "execution_count": 132,
     "metadata": {},
     "output_type": "execute_result"
    }
   ],
   "source": [
    "with open('inputs/day15.txt') as f:\n",
    "    s = f.read()\n",
    "    \n",
    "recipes = [line\n",
    "           .replace(': capacity ', ' ')\n",
    "           .replace(', durability ', ' ')\n",
    "           .replace(', flavor ', ' ')\n",
    "           .replace(', texture ', ' ')\n",
    "           .replace(', calories ', ' ')\n",
    "           for line in s.split('\\n')[:-1]]\n",
    "\n",
    "qualities = [[int(r.split(' ')[1]), int(r.split(' ')[2]), int(r.split(' ')[3]), int(r.split(' ')[4]), int(r.split(' ')[5])]\n",
    "             for r in recipes]\n",
    "\n",
    "def quality_values(amounts):\n",
    "    values = [0,0,0,0,0]\n",
    "    for i in range(0, len(amounts)):\n",
    "        a = 0\n",
    "        for j in range(len(qualities[i])):\n",
    "            values[j] += amounts[i]*qualities[i][j]\n",
    "    return values\n",
    "\n",
    "\n",
    "def calc_value(values):\n",
    "    q = 1\n",
    "    for v in values[:-1]:\n",
    "        q *= max(v,0)\n",
    "    return q\n",
    "    \n",
    "\n",
    "def value(amounts):\n",
    "    values = quality_values(amounts)\n",
    "    return calc_value(values)\n",
    "\n",
    "\n",
    "max_value = 0\n",
    "for x0 in range(0, 101):\n",
    "    for x1 in range(0, 101-x0):\n",
    "        for x2 in range(0, 101-x0-x1):\n",
    "            x3 = 100-x0-x1-x2\n",
    "            v = value([x0,x1,x2,x3])\n",
    "            if v > max_value:\n",
    "                max_value = v\n",
    "\n",
    "max_value"
   ]
  },
  {
   "cell_type": "markdown",
   "metadata": {},
   "source": [
    "## Part 2"
   ]
  },
  {
   "cell_type": "code",
   "execution_count": 133,
   "metadata": {},
   "outputs": [
    {
     "data": {
      "text/plain": [
       "15862900"
      ]
     },
     "execution_count": 133,
     "metadata": {},
     "output_type": "execute_result"
    }
   ],
   "source": [
    "calories = 500\n",
    "\n",
    "def value(amounts, calories):\n",
    "    values = quality_values(amounts)\n",
    "    return calc_value(values) if values[4] == calories else 0\n",
    "\n",
    "max_value = 0\n",
    "for x0 in range(0, 101):\n",
    "    for x1 in range(0, 101-x0):\n",
    "        for x2 in range(0, 101-x0-x1):\n",
    "            x3 = 100-x0-x1-x2\n",
    "            v = value([x0,x1,x2,x3], calories)\n",
    "            if v > max_value:\n",
    "                max_value = v\n",
    "\n",
    "max_value"
   ]
  },
  {
   "cell_type": "markdown",
   "metadata": {},
   "source": [
    "# Day 16"
   ]
  },
  {
   "cell_type": "markdown",
   "metadata": {},
   "source": [
    "## Part 1"
   ]
  },
  {
   "cell_type": "code",
   "execution_count": 149,
   "metadata": {},
   "outputs": [
    {
     "data": {
      "text/plain": [
       "{'Sue 373': {'pomeranians': 3, 'perfumes': 1, 'vizslas': 0}}"
      ]
     },
     "execution_count": 149,
     "metadata": {},
     "output_type": "execute_result"
    }
   ],
   "source": [
    "with open('inputs/day16.txt') as f:\n",
    "    s = f.read()\n",
    "\n",
    "clues = {'children': 3,\n",
    "         'cats': 7, \n",
    "         'samoyeds': 2, \n",
    "         'pomeranians': 3,\n",
    "         'akitas': 0, \n",
    "         'vizslas': 0, \n",
    "         'goldfish': 5, \n",
    "         'trees': 3,\n",
    "         'cars': 2,\n",
    "         'perfumes': 1}   \n",
    "    \n",
    "lines = [line for line in s.split('\\n')[:-1]]\n",
    "sues = {line.split(': ')[0]: \n",
    "        {attr.split(': ')[0]: int(attr.split(': ')[1]) \n",
    "         for attr in line[line.index(':')+2:].split(', ')} \n",
    "        for line in lines}\n",
    "\n",
    "def match(sue, clues):\n",
    "    for c in clues:\n",
    "        if c in sue and sue[c] != clues[c]:\n",
    "            return False\n",
    "    return True\n",
    "\n",
    "\n",
    "matches = {sue: sues[sue] for sue in sues if match(sues[sue], clues)}\n",
    "matches"
   ]
  },
  {
   "cell_type": "markdown",
   "metadata": {},
   "source": [
    "## Part 2"
   ]
  },
  {
   "cell_type": "code",
   "execution_count": 151,
   "metadata": {},
   "outputs": [
    {
     "data": {
      "text/plain": [
       "{'Sue 260': {'goldfish': 0, 'vizslas': 0, 'samoyeds': 2}}"
      ]
     },
     "execution_count": 151,
     "metadata": {},
     "output_type": "execute_result"
    }
   ],
   "source": [
    "def match(sue, clues):\n",
    "    for c in clues:\n",
    "        if c in sue:\n",
    "            if (c in {'cats', 'trees'} and sue[c] <= clues[c]) or \\\n",
    "                (c in {'pomeranians', 'goldfish'} and sue[c] >= clues[c]) or \\\n",
    "                (c not in {'cats', 'trees', 'pomeranians', 'goldfish'} and sue[c] != clues[c]):\n",
    "                return False\n",
    "    return True\n",
    "\n",
    "\n",
    "matches = {sue: sues[sue] for sue in sues if match(sues[sue], clues)}\n",
    "matches"
   ]
  },
  {
   "cell_type": "markdown",
   "metadata": {},
   "source": [
    "# Day 17"
   ]
  },
  {
   "cell_type": "markdown",
   "metadata": {},
   "source": [
    "## Part 1"
   ]
  },
  {
   "cell_type": "code",
   "execution_count": 165,
   "metadata": {},
   "outputs": [
    {
     "data": {
      "text/plain": [
       "654"
      ]
     },
     "execution_count": 165,
     "metadata": {},
     "output_type": "execute_result"
    }
   ],
   "source": [
    "with open('inputs/day17.txt') as f:\n",
    "    s = f.read()\n",
    "\n",
    "amount = 150\n",
    "    \n",
    "containers = [int(line) for line in s.split('\\n')[:-1]]\n",
    "\n",
    "def count(containers, amount, matches):\n",
    "    if amount == 0:\n",
    "        return matches + 1\n",
    "    if amount < 0 or len(containers) == 0:\n",
    "        return matches\n",
    "    matches = count(containers[:-1], amount - containers[-1], matches)\n",
    "    matches = count(containers[:-1], amount, matches)\n",
    "    return matches\n",
    "\n",
    "count(containers, amount, 0)"
   ]
  },
  {
   "cell_type": "markdown",
   "metadata": {},
   "source": [
    "## Part 2"
   ]
  },
  {
   "cell_type": "code",
   "execution_count": 168,
   "metadata": {},
   "outputs": [
    {
     "data": {
      "text/plain": [
       "(654, 4, 57)"
      ]
     },
     "execution_count": 168,
     "metadata": {},
     "output_type": "execute_result"
    }
   ],
   "source": [
    "min_containers = len(containers)\n",
    "min_container_count = 0\n",
    "\n",
    "def count(containers, amount, matches, containers_used, min_containers, min_container_count):\n",
    "    if amount == 0:\n",
    "        if containers_used == min_containers:\n",
    "            min_container_count += 1\n",
    "        elif containers_used < min_containers:\n",
    "            min_containers = containers_used\n",
    "            min_container_count = 1\n",
    "        return matches + 1, min_containers, min_container_count\n",
    "    if amount < 0 or len(containers) == 0:\n",
    "        return matches, min_containers, min_container_count\n",
    "    matches, min_containers, min_container_count = \\\n",
    "        count(containers[:-1], amount - containers[-1], matches, containers_used + 1, min_containers, min_container_count)\n",
    "    matches, min_containers, min_container_count = \\\n",
    "        count(containers[:-1], amount, matches, containers_used, min_containers, min_container_count)\n",
    "    return matches, min_containers, min_container_count\n",
    "\n",
    "count(containers, amount, 0, 0, len(containers), min_container_count)"
   ]
  },
  {
   "cell_type": "markdown",
   "metadata": {},
   "source": [
    "# Day 18"
   ]
  },
  {
   "cell_type": "markdown",
   "metadata": {},
   "source": [
    "## Part 1"
   ]
  },
  {
   "cell_type": "code",
   "execution_count": 190,
   "metadata": {},
   "outputs": [
    {
     "data": {
      "text/plain": [
       "814"
      ]
     },
     "execution_count": 190,
     "metadata": {},
     "output_type": "execute_result"
    }
   ],
   "source": [
    "with open('inputs/day18.txt') as f:\n",
    "    s = f.read()\n",
    "    \n",
    "board = [list(row) for row in s.split('\\n')[:-1]]\n",
    "cols = len(board)\n",
    "rows = len(board[0])\n",
    "\n",
    "def value(board, x, y):\n",
    "    if x < 0 or y < 0 or x >= rows or y >= cols:\n",
    "        return '.'\n",
    "    else:\n",
    "        return board[y][x]\n",
    "\n",
    "def neighbors_on(board, x, y):\n",
    "    neighbors = []\n",
    "    neighbors.append(value(board,x-1,y-1))\n",
    "    neighbors.append(value(board,x-1,y))\n",
    "    neighbors.append(value(board,x-1,y+1))\n",
    "    neighbors.append(value(board,x,y-1))\n",
    "    neighbors.append(value(board,x,y+1))\n",
    "    neighbors.append(value(board,x+1,y-1))\n",
    "    neighbors.append(value(board,x+1,y))\n",
    "    neighbors.append(value(board,x+1,y+1))\n",
    "    return neighbors.count('#')\n",
    "    \n",
    "    \n",
    "def next_value(board, x, y):\n",
    "    current = value(board,x,y)\n",
    "    neighbor_count = neighbors_on(board,x,y)\n",
    "    if (current == '#' and neighbor_count == 2) or neighbor_count == 3:\n",
    "        return '#'\n",
    "    else:\n",
    "        return '.'\n",
    "\n",
    "    \n",
    "def next_board(board):\n",
    "    return [[next_value(board,x,y) for x in range(rows)] for y in range(cols)]\n",
    "\n",
    "for i in range(100):\n",
    "    board = next_board(board)\n",
    "    \n",
    "sum([row.count('#') for row in board])"
   ]
  },
  {
   "cell_type": "markdown",
   "metadata": {},
   "source": [
    "## Part 2"
   ]
  },
  {
   "cell_type": "code",
   "execution_count": 193,
   "metadata": {},
   "outputs": [
    {
     "data": {
      "text/plain": [
       "924"
      ]
     },
     "execution_count": 193,
     "metadata": {},
     "output_type": "execute_result"
    }
   ],
   "source": [
    "board = [list(row) for row in s.split('\\n')[:-1]]\n",
    "board[0][0] = '#'\n",
    "board[99][0] = '#'\n",
    "board[0][99] = '#'\n",
    "board[99][99] = '#'\n",
    "\n",
    "def next_value(board, x, y):\n",
    "    if x == 0 and y == 0 or \\\n",
    "        x == 0 and y == 99 or \\\n",
    "        x == 99 and y == 0 or \\\n",
    "        x == 99 and y == 99:\n",
    "        return '#'\n",
    "    current = value(board,x,y)\n",
    "    neighbor_count = neighbors_on(board,x,y)\n",
    "    if (current == '#' and neighbor_count == 2) or neighbor_count == 3:\n",
    "        return '#'\n",
    "    else:\n",
    "        return '.'\n",
    "\n",
    "for i in range(100):\n",
    "    board = next_board(board)\n",
    "    \n",
    "sum([row.count('#') for row in board])"
   ]
  },
  {
   "cell_type": "markdown",
   "metadata": {},
   "source": [
    "# Day 19"
   ]
  },
  {
   "cell_type": "markdown",
   "metadata": {},
   "source": [
    "## Part 1"
   ]
  },
  {
   "cell_type": "code",
   "execution_count": 18,
   "metadata": {},
   "outputs": [
    {
     "data": {
      "text/plain": [
       "576"
      ]
     },
     "execution_count": 18,
     "metadata": {},
     "output_type": "execute_result"
    }
   ],
   "source": [
    "with open('inputs/day19.txt') as f:\n",
    "    s = f.read()\n",
    "    \n",
    "molecule = s.split('\\n')[-2]\n",
    "reactions = [(r.split(' => ')[0], r.split(' => ')[1]) for r in s.split('\\n')[:-3]]\n",
    "\n",
    "def part_indices(molecule, s):\n",
    "    indices = set()\n",
    "    m = molecule\n",
    "    pos = 0\n",
    "    while s in m:\n",
    "        i = m.index(s) + pos\n",
    "        indices.add(i)\n",
    "        pos = i + len(s)\n",
    "        m = molecule[pos:]\n",
    "    return indices\n",
    "\n",
    "\n",
    "def react(molecule, s0, s1):\n",
    "    indices = part_indices(molecule, s0)\n",
    "    res = set()\n",
    "    for i in indices:\n",
    "        res.add(molecule[:i] + s1 + molecule[i+len(s0):])\n",
    "    return res\n",
    "\n",
    "\n",
    "results = set()\n",
    "for r in reactions:\n",
    "    results.update(react(molecule, r[0], r[1]))\n",
    "    \n",
    "len(results)"
   ]
  },
  {
   "cell_type": "markdown",
   "metadata": {},
   "source": [
    "## Part 2"
   ]
  },
  {
   "cell_type": "code",
   "execution_count": 23,
   "metadata": {},
   "outputs": [
    {
     "data": {
      "text/plain": [
       "207"
      ]
     },
     "execution_count": 23,
     "metadata": {},
     "output_type": "execute_result"
    }
   ],
   "source": [
    "symbols = sum([1 for m in molecule if m.isupper()])\n",
    "opens = molecule.count('Rn')\n",
    "closes = molecule.count('Ar')\n",
    "commas = molecule.count('Y')\n",
    "\n",
    "symbols - opens - closes - 2*commas -1"
   ]
  },
  {
   "cell_type": "markdown",
   "metadata": {},
   "source": [
    "# Day 20"
   ]
  },
  {
   "cell_type": "markdown",
   "metadata": {},
   "source": [
    "## Part 1"
   ]
  },
  {
   "cell_type": "code",
   "execution_count": 65,
   "metadata": {},
   "outputs": [
    {
     "data": {
      "text/plain": [
       "831600"
      ]
     },
     "execution_count": 65,
     "metadata": {},
     "output_type": "execute_result"
    }
   ],
   "source": [
    "import math\n",
    "\n",
    "presents = 36000000\n",
    "multiplier = 10\n",
    "\n",
    "def div_sum(n):\n",
    "    a = 0\n",
    "    for d in range(1, int(math.sqrt(n)+1)):\n",
    "        if n % d == 0:\n",
    "            a += d\n",
    "            if d != n//d:\n",
    "                a += n//d\n",
    "    return a\n",
    "\n",
    "s = 0\n",
    "n = 0\n",
    "while s < presents/multiplier:\n",
    "    n += 1\n",
    "    s = div_sum(n)\n",
    "    \n",
    "n"
   ]
  },
  {
   "cell_type": "markdown",
   "metadata": {},
   "source": [
    "## Part 2"
   ]
  },
  {
   "cell_type": "code",
   "execution_count": 68,
   "metadata": {},
   "outputs": [
    {
     "data": {
      "text/plain": [
       "884520"
      ]
     },
     "execution_count": 68,
     "metadata": {},
     "output_type": "execute_result"
    }
   ],
   "source": [
    "limit = 50\n",
    "multiplier = 11\n",
    "\n",
    "def div_sum_limited(n, l):\n",
    "    a = 0\n",
    "    limit = math.ceil(n/l)\n",
    "    for d in range(1, int(math.sqrt(n)+1)):\n",
    "        if n % d == 0:\n",
    "            if d >= limit:\n",
    "                a += d\n",
    "            if n//d >= limit and d != n//d:  \n",
    "                a += (n//d)\n",
    "    return a\n",
    "\n",
    "s = 0\n",
    "n = 0\n",
    "while s < presents/multiplier:\n",
    "    n += 1\n",
    "    s = div_sum_limited(n, limit)\n",
    "    \n",
    "n"
   ]
  },
  {
   "cell_type": "markdown",
   "metadata": {},
   "source": [
    "# Day 21"
   ]
  },
  {
   "cell_type": "markdown",
   "metadata": {},
   "source": [
    "## Part 1"
   ]
  },
  {
   "cell_type": "code",
   "execution_count": 335,
   "metadata": {},
   "outputs": [
    {
     "data": {
      "text/plain": [
       "78"
      ]
     },
     "execution_count": 335,
     "metadata": {},
     "output_type": "execute_result"
    }
   ],
   "source": [
    "import math\n",
    "\n",
    "player_hp = 100\n",
    "\n",
    "boss_hp = 104\n",
    "boss_dmg = 8\n",
    "boss_def = 1\n",
    "\n",
    "def_min = 0\n",
    "def_max = 10\n",
    "\n",
    "weapons = {4: 8, 5: 10, 6: 25, 7: 40, 8: 74}\n",
    "armors = {1: 13, 2: 31, 3: 53, 4: 75, 5: 102}\n",
    "rings_dmg = {1: 25, 2: 50, 3:100}\n",
    "rings_def = {1:20 , 2:40 , 3:80}\n",
    "\n",
    "\n",
    "class Equipment:\n",
    "    def __init__(self, weapon, armor=0, dmg_ring1=0, dmg_ring2=0, def_ring1=0, def_ring2=0):\n",
    "        self.weapon = weapon\n",
    "        self.armor = armor\n",
    "        self.dmg_ring1 = dmg_ring1\n",
    "        self.dmg_ring2 = dmg_ring2\n",
    "        self.def_ring1 = def_ring1\n",
    "        self.def_ring2 = def_ring2\n",
    "        self.p_dmg = self.weapon + self.dmg_ring1 + self.dmg_ring2\n",
    "        self.p_def = self.armor + self.def_ring1 + self.def_ring2\n",
    "        self.cost = 0\n",
    "        self.cost += weapons.get(weapon, 0)\n",
    "        self.cost += armors.get(armor, 0)\n",
    "        self.cost += rings_dmg.get(dmg_ring1, 0)\n",
    "        self.cost += rings_dmg.get(dmg_ring2, 0)\n",
    "        self.cost += rings_def.get(def_ring1, 0)\n",
    "        self.cost += rings_def.get(def_ring2, 0)\n",
    "    \n",
    "    def win(self):\n",
    "        return math.ceil(boss_hp/max(self.p_dmg-boss_def, 1)) <= math.ceil(player_hp/max(boss_dmg-self.p_def, 1))\n",
    "    \n",
    "equipments = []\n",
    "for w in weapons:\n",
    "    equipments.append(Equipment(weapon=w))\n",
    "    for a in armors:\n",
    "        equipments.append(Equipment(weapon=w, armor=a))\n",
    "        for r_dmg in rings_dmg:\n",
    "            equipments.append(Equipment(weapon=w, armor=a, dmg_ring1=r_dmg))\n",
    "            r_dmg_left = [r for r in rings_dmg if r != r_dmg]\n",
    "            equipments.append(Equipment(weapon=w, armor=a, dmg_ring1=r_dmg_left[0], dmg_ring2=r_dmg_left[1]))\n",
    "            for r_def in rings_def:\n",
    "                equipments.append(Equipment(weapon=w, armor=a, dmg_ring1=r_dmg, def_ring1=r_def))\n",
    "        for r_def in rings_def:\n",
    "            equipments.append(Equipment(weapon=w, armor=a, def_ring1=r_def))\n",
    "            r_def_left = [r for r in rings_def if r != r_def]\n",
    "            equipments.append(Equipment(weapon=w, armor=a, def_ring1=r_def_left[0], def_ring2=r_def_left[1]))\n",
    "    for r_dmg in rings_dmg:\n",
    "            equipments.append(Equipment(weapon=w, dmg_ring1=r_dmg))\n",
    "            r_dmg_left = [r for r in rings_dmg if r != r_dmg]\n",
    "            equipments.append(Equipment(weapon=w, dmg_ring1=r_dmg_left[0], dmg_ring2=r_dmg_left[1]))\n",
    "            for r_def in rings_def:\n",
    "                equipments.append(Equipment(weapon=w, dmg_ring1=r_dmg, def_ring1=r_def))\n",
    "    for r_def in rings_def:    \n",
    "        equipments.append(Equipment(weapon=w, def_ring1=r_def))\n",
    "        r_def_left = [r for r in rings_def if r != r_def]\n",
    "        equipments.append(Equipment(weapon=w, def_ring1=r_def_left[0], def_ring2=r_def_left[1]))\n",
    "\n",
    "min([e.cost for e in equipments if e.win()])"
   ]
  },
  {
   "cell_type": "markdown",
   "metadata": {},
   "source": [
    "## Part 2"
   ]
  },
  {
   "cell_type": "code",
   "execution_count": 334,
   "metadata": {},
   "outputs": [
    {
     "data": {
      "text/plain": [
       "148"
      ]
     },
     "execution_count": 334,
     "metadata": {},
     "output_type": "execute_result"
    }
   ],
   "source": [
    "max([e.cost for e in equipments if not e.win()])"
   ]
  },
  {
   "cell_type": "markdown",
   "metadata": {},
   "source": [
    "# Day 22"
   ]
  },
  {
   "cell_type": "markdown",
   "metadata": {},
   "source": [
    "## Part 1"
   ]
  },
  {
   "cell_type": "code",
   "execution_count": 39,
   "metadata": {},
   "outputs": [
    {
     "data": {
      "text/plain": [
       "1269"
      ]
     },
     "execution_count": 39,
     "metadata": {},
     "output_type": "execute_result"
    }
   ],
   "source": [
    "boss_dmg = 9\n",
    "spells = {'mm': 53, 'drain': 73, 'shield': 113, 'poison': 173, 'recharge': 229}\n",
    "\n",
    "min_mana = None\n",
    "\n",
    "state_cache = {}\n",
    "def game_state(player_hp=50, player_mana=500, player_def=0, boss_hp=58, shield_timer=0, poison_timer=0, recharge_timer=0, mana_spent=0, next_spell=None, winner=None):\n",
    "    return (player_hp, player_mana, player_def, boss_hp, shield_timer, poison_timer, recharge_timer, mana_spent, next_spell, winner)\n",
    "   \n",
    "def turn(state):\n",
    "    global min_mana\n",
    "    \n",
    "    if state in state_cache:\n",
    "        return state_cache[state]\n",
    "    else:\n",
    "        (player_hp, player_mana, player_def, boss_hp, shield_timer, poison_timer, recharge_timer, mana_spent, next_spell, winner) = state\n",
    "        \n",
    "        if min_mana is not None and mana_spent > min_mana:\n",
    "            winner = False\n",
    "        else:        \n",
    "            player_def = 0\n",
    "            if shield_timer != 0:\n",
    "                player_def = 7\n",
    "                shield_timer -= 1\n",
    "            if poison_timer != 0:\n",
    "                boss_hp -= 3\n",
    "                poison_timer -= 1\n",
    "            if recharge_timer != 0:\n",
    "                player_mana += 101\n",
    "                recharge_timer -= 1\n",
    "\n",
    "            if boss_hp <= 0:\n",
    "                winner = True\n",
    "            elif player_mana < spells[next_spell] or \\\n",
    "                (next_spell == 'shield' and shield_timer != 0) or \\\n",
    "                (next_spell == 'poison' and poison_timer != 0) or \\\n",
    "                (next_spell == 'recharge' and recharge_timer != 0):\n",
    "                winner = False\n",
    "            else:\n",
    "                mana_spent += spells[next_spell]\n",
    "                player_mana -= spells[next_spell]\n",
    "                if next_spell == 'mm':\n",
    "                    boss_hp -= 4\n",
    "                elif next_spell == 'drain':\n",
    "                    boss_hp -= 2\n",
    "                    player_hp = min(player_hp+2, 50)\n",
    "                elif next_spell == 'shield':\n",
    "                    shield_timer = 6\n",
    "                elif next_spell == 'poison':\n",
    "                    poison_timer = 6\n",
    "                elif next_spell == 'recharge':\n",
    "                    recharge_timer = 5\n",
    "\n",
    "                if boss_hp <= 0:\n",
    "                    winner = True\n",
    "                else:\n",
    "                    player_def = 0\n",
    "                    if shield_timer != 0:\n",
    "                        player_def = 7\n",
    "                        shield_timer -= 1\n",
    "                    if poison_timer != 0:\n",
    "                        boss_hp -= 3\n",
    "                        poison_timer -= 1\n",
    "                    if recharge_timer != 0:\n",
    "                        player_mana += 101\n",
    "                        recharge_timer -= 1\n",
    "\n",
    "                    if boss_hp <= 0:\n",
    "                        winner = True\n",
    "                    else:\n",
    "                        player_hp -= max(boss_dmg-player_def, 1)\n",
    "\n",
    "                        if player_hp <= 0:\n",
    "                            winner = False\n",
    "\n",
    "    if winner is not None:\n",
    "        if winner and (min_mana is None or min_mana > mana_spent):\n",
    "            min_mana = mana_spent\n",
    "        result = (mana_spent, winner)\n",
    "    else:\n",
    "        results = []\n",
    "        for spell in spells:\n",
    "            results.append(turn((player_hp, player_mana, player_def, boss_hp, shield_timer, poison_timer, recharge_timer, mana_spent, spell, winner)))\n",
    "        results = [s for s in results if s[-1]]\n",
    "        if len(results) == 0:\n",
    "            result = (0, False)\n",
    "        else:\n",
    "            best = min([s[0] for s in results])\n",
    "            result = [s for s in results if s[0] == best][0]\n",
    "            \n",
    "    state_cache[state] = result\n",
    "    return result\n",
    "    \n",
    "    \n",
    "for spell in spells:\n",
    "    turn(game_state(next_spell=spell))\n",
    "\n",
    "min_mana"
   ]
  },
  {
   "cell_type": "markdown",
   "metadata": {},
   "source": [
    "## Day 22"
   ]
  },
  {
   "cell_type": "code",
   "execution_count": 42,
   "metadata": {},
   "outputs": [
    {
     "data": {
      "text/plain": [
       "1309"
      ]
     },
     "execution_count": 42,
     "metadata": {},
     "output_type": "execute_result"
    }
   ],
   "source": [
    "min_mana = None\n",
    "state_cache = {}\n",
    "\n",
    "def turn(state):\n",
    "    global min_mana\n",
    "    \n",
    "    if state in state_cache:\n",
    "        return state_cache[state]\n",
    "    else:\n",
    "        (player_hp, player_mana, player_def, boss_hp, shield_timer, poison_timer, recharge_timer, mana_spent, next_spell, winner) = state\n",
    "        \n",
    "        if min_mana is not None and mana_spent > min_mana:\n",
    "            winner = False\n",
    "        else:\n",
    "            player_hp -= 1\n",
    "            if player_hp <= 0:\n",
    "                winner = False\n",
    "            else:\n",
    "                player_def = 0\n",
    "                if shield_timer != 0:\n",
    "                    player_def = 7\n",
    "                    shield_timer -= 1\n",
    "                if poison_timer != 0:\n",
    "                    boss_hp -= 3\n",
    "                    poison_timer -= 1\n",
    "                if recharge_timer != 0:\n",
    "                    player_mana += 101\n",
    "                    recharge_timer -= 1\n",
    "\n",
    "                if boss_hp <= 0:\n",
    "                    winner = True\n",
    "                elif player_mana < spells[next_spell] or \\\n",
    "                    (next_spell == 'shield' and shield_timer != 0) or \\\n",
    "                    (next_spell == 'poison' and poison_timer != 0) or \\\n",
    "                    (next_spell == 'recharge' and recharge_timer != 0):\n",
    "                    winner = False\n",
    "                else:\n",
    "                    mana_spent += spells[next_spell]\n",
    "                    player_mana -= spells[next_spell]\n",
    "                    if next_spell == 'mm':\n",
    "                        boss_hp -= 4\n",
    "                    elif next_spell == 'drain':\n",
    "                        boss_hp -= 2\n",
    "                        player_hp = min(player_hp+2, 50)\n",
    "                    elif next_spell == 'shield':\n",
    "                        shield_timer = 6\n",
    "                    elif next_spell == 'poison':\n",
    "                        poison_timer = 6\n",
    "                    elif next_spell == 'recharge':\n",
    "                        recharge_timer = 5\n",
    "\n",
    "                    if boss_hp <= 0:\n",
    "                        winner = True\n",
    "                    else:\n",
    "                        player_def = 0\n",
    "                        if shield_timer != 0:\n",
    "                            player_def = 7\n",
    "                            shield_timer -= 1\n",
    "                        if poison_timer != 0:\n",
    "                            boss_hp -= 3\n",
    "                            poison_timer -= 1\n",
    "                        if recharge_timer != 0:\n",
    "                            player_mana += 101\n",
    "                            recharge_timer -= 1\n",
    "\n",
    "                        if boss_hp <= 0:\n",
    "                            winner = True\n",
    "                        else:\n",
    "                            player_hp -= max(boss_dmg-player_def, 1)\n",
    "\n",
    "                            if player_hp <= 0:\n",
    "                                winner = False\n",
    "\n",
    "    if winner is not None:\n",
    "        if winner and (min_mana is None or min_mana > mana_spent):\n",
    "            min_mana = mana_spent\n",
    "        result = (mana_spent, winner)\n",
    "    else:\n",
    "        results = []\n",
    "        for spell in spells:\n",
    "            results.append(turn((player_hp, player_mana, player_def, boss_hp, shield_timer, poison_timer, recharge_timer, mana_spent, spell, winner)))\n",
    "        results = [s for s in results if s[-1]]\n",
    "        if len(results) == 0:\n",
    "            result = (0, False)\n",
    "        else:\n",
    "            best = min([s[0] for s in results])\n",
    "            result = [s for s in results if s[0] == best][0]\n",
    "            \n",
    "    state_cache[state] = result\n",
    "    return result\n",
    "    \n",
    "    \n",
    "for spell in spells:\n",
    "    turn(game_state(next_spell=spell))\n",
    "\n",
    "min_mana"
   ]
  },
  {
   "cell_type": "markdown",
   "metadata": {},
   "source": [
    "# Day 23"
   ]
  },
  {
   "cell_type": "markdown",
   "metadata": {},
   "source": [
    "## Part 1"
   ]
  },
  {
   "cell_type": "code",
   "execution_count": 57,
   "metadata": {},
   "outputs": [
    {
     "data": {
      "text/plain": [
       "184"
      ]
     },
     "execution_count": 57,
     "metadata": {},
     "output_type": "execute_result"
    }
   ],
   "source": [
    "with open('inputs/day23.txt') as f:\n",
    "    s = f.read()\n",
    "    \n",
    "instructions = [i for i in s.split('\\n')[:-1]]\n",
    "registers = {'a': 0, 'b': 0}\n",
    "\n",
    "def hlf(r, i):\n",
    "    registers[r] //= 2\n",
    "    return i+1\n",
    "\n",
    "def tpl(r, i):\n",
    "    registers[r] *= 3\n",
    "    return i+1\n",
    "\n",
    "def inc(r, i):\n",
    "    registers[r] += 1\n",
    "    return i+1\n",
    "     \n",
    "def jmp(offset, i):\n",
    "    return i + int(offset)\n",
    "    \n",
    "def jie(r, offset, i):\n",
    "    return i+int(offset) if registers[r]%2 == 0 else i+1\n",
    "    \n",
    "def jio(r, offset, i):\n",
    "    return i+int(offset) if registers[r] == 1 else i+1\n",
    "        \n",
    "def process_instruction(i):\n",
    "    inst = instructions[i].replace(',','').split(' ')\n",
    "    if 'hlf' in inst:\n",
    "        i = hlf(inst[1], i)\n",
    "    if 'tpl' in inst:\n",
    "        i = tpl(inst[1], i)\n",
    "    if 'inc' in inst:\n",
    "        i = inc(inst[1], i)\n",
    "    if 'jmp' in inst:\n",
    "        i = jmp(inst[1], i)\n",
    "    if 'jie' in inst:\n",
    "        i = jie(inst[1], inst[2], i)\n",
    "    if 'jio' in inst:\n",
    "        i = jio(inst[1], inst[2], i)\n",
    "    return i\n",
    "\n",
    "i = 0\n",
    "while i in range(0, len(instructions)):\n",
    "    i = process_instruction(i)\n",
    "\n",
    "registers['b']"
   ]
  },
  {
   "cell_type": "markdown",
   "metadata": {},
   "source": [
    "## Part 2"
   ]
  },
  {
   "cell_type": "code",
   "execution_count": 58,
   "metadata": {},
   "outputs": [
    {
     "data": {
      "text/plain": [
       "231"
      ]
     },
     "execution_count": 58,
     "metadata": {},
     "output_type": "execute_result"
    }
   ],
   "source": [
    "registers = {'a': 1, 'b': 0}\n",
    "i = 0\n",
    "while i in range(0, len(instructions)):\n",
    "    i = process_instruction(i)\n",
    "\n",
    "registers['b']"
   ]
  },
  {
   "cell_type": "markdown",
   "metadata": {},
   "source": [
    "# Day 24"
   ]
  },
  {
   "cell_type": "markdown",
   "metadata": {},
   "source": [
    "## Part 1"
   ]
  },
  {
   "cell_type": "code",
   "execution_count": 77,
   "metadata": {},
   "outputs": [
    {
     "data": {
      "text/plain": [
       "11266889531"
      ]
     },
     "execution_count": 77,
     "metadata": {},
     "output_type": "execute_result"
    }
   ],
   "source": [
    "with open('inputs/day24.txt') as f:\n",
    "    s = f.read()\n",
    "    \n",
    "packs = [int(p) for p in s.split('\\n')[:-1]]\n",
    "size = sum(packs)//3\n",
    "\n",
    "min_groups = {}\n",
    "\n",
    "# Since all pack weights are odd, at least 6 packs are necessary for each group\n",
    "for i0 in range(0,len(packs)-5):\n",
    "    for i1 in range(i0+1, len(packs)-4):\n",
    "        for i2 in range(i1+1, len(packs)-3):\n",
    "            for i3 in range(i2+1, len(packs)-2):\n",
    "                for i4 in range(i3+1, len(packs)-1):\n",
    "                    for i5 in range(i4+1, len(packs)):\n",
    "                        group = (packs[i0], packs[i1], packs[i2], packs[i3], packs[i4], packs[i5])\n",
    "                        if sum(group) == size:\n",
    "                            min_groups[group] = packs[i0]*packs[i1]*packs[i2]*packs[i3]*packs[i4]*packs[i5]\n",
    "\n",
    "min([min_groups[g] for g in min_groups])"
   ]
  },
  {
   "cell_type": "markdown",
   "metadata": {},
   "source": [
    "## Day 2"
   ]
  },
  {
   "cell_type": "code",
   "execution_count": 86,
   "metadata": {},
   "outputs": [
    {
     "data": {
      "text/plain": [
       "77387711"
      ]
     },
     "execution_count": 86,
     "metadata": {},
     "output_type": "execute_result"
    }
   ],
   "source": [
    "size = sum(packs)//4\n",
    "\n",
    "min_groups = {}\n",
    "\n",
    "# Since all pack weights are odd, at least 5 packs are necessary for each group\n",
    "for i0 in range(0,len(packs)-4):\n",
    "    for i1 in range(i0+1, len(packs)-3):\n",
    "        for i2 in range(i1+1, len(packs)-2):\n",
    "            for i3 in range(i2+1, len(packs)-1):\n",
    "                for i4 in range(i3+1, len(packs)):\n",
    "                    group = (packs[i0], packs[i1], packs[i2], packs[i3], packs[i4])\n",
    "                    if sum(group) == size:\n",
    "                        min_groups[group] = packs[i0]*packs[i1]*packs[i2]*packs[i3]*packs[i4]\n",
    "\n",
    "min([min_groups[g] for g in min_groups])"
   ]
  },
  {
   "cell_type": "markdown",
   "metadata": {},
   "source": [
    "# Day 25"
   ]
  },
  {
   "cell_type": "code",
   "execution_count": 95,
   "metadata": {},
   "outputs": [
    {
     "data": {
      "text/plain": [
       "19980801"
      ]
     },
     "execution_count": 95,
     "metadata": {},
     "output_type": "execute_result"
    }
   ],
   "source": [
    "row = 2947\n",
    "column = 3029\n",
    "\n",
    "init = 20151125\n",
    "m = 252533\n",
    "d = 33554393\n",
    "\n",
    "diag_starting_row = row + (column-1)\n",
    "diag_starting_num = 1 + (diag_starting_row * (diag_starting_row-1))//2\n",
    "\n",
    "target = diag_starting_num + (column-1)\n",
    "\n",
    "cache = {}\n",
    "def next_num(n):\n",
    "    if n in cache:\n",
    "        return cache[n]\n",
    "    else:\n",
    "        result = n*m % d\n",
    "        cache[n] = result\n",
    "    return result\n",
    "\n",
    "n = init\n",
    "for i in range(1,target):\n",
    "    n = next_num(n)\n",
    "    \n",
    "n"
   ]
  }
 ],
 "metadata": {
  "kernelspec": {
   "display_name": "Python 3",
   "language": "python",
   "name": "python3"
  },
  "language_info": {
   "codemirror_mode": {
    "name": "ipython",
    "version": 3
   },
   "file_extension": ".py",
   "mimetype": "text/x-python",
   "name": "python",
   "nbconvert_exporter": "python",
   "pygments_lexer": "ipython3",
   "version": "3.7.4"
  }
 },
 "nbformat": 4,
 "nbformat_minor": 2
}
