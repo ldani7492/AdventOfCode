{
 "cells": [
  {
   "cell_type": "markdown",
   "metadata": {},
   "source": [
    "# Day 1"
   ]
  },
  {
   "cell_type": "markdown",
   "metadata": {},
   "source": [
    "## Part 1"
   ]
  },
  {
   "cell_type": "code",
   "execution_count": 11,
   "metadata": {},
   "outputs": [
    {
     "data": {
      "text/plain": [
       "230"
      ]
     },
     "execution_count": 11,
     "metadata": {},
     "output_type": "execute_result"
    }
   ],
   "source": [
    "with open('inputs/day1.txt') as f:\n",
    "    s = f.read()\n",
    "    \n",
    "instructions = s[:-1].split(', ')\n",
    "\n",
    "dirs = {0: (0,1), 1: (-1,0), 2: (0,-1), 3: (1,0)}\n",
    "\n",
    "pos = (0,0)\n",
    "d = 0\n",
    "\n",
    "for i in instructions:\n",
    "    if i[0] == 'R':\n",
    "        d = (d-1)%(len(dirs))\n",
    "    else:\n",
    "        d = (d+1)%(len(dirs))\n",
    "    \n",
    "    move = int(i[1:])\n",
    "    pos = (pos[0]+dirs[d][0]*move, pos[1]+dirs[d][1]*move)\n",
    "    \n",
    "abs(pos[0])+abs(pos[1])"
   ]
  },
  {
   "cell_type": "markdown",
   "metadata": {},
   "source": [
    "## Part 2"
   ]
  },
  {
   "cell_type": "code",
   "execution_count": 16,
   "metadata": {},
   "outputs": [
    {
     "data": {
      "text/plain": [
       "154"
      ]
     },
     "execution_count": 16,
     "metadata": {},
     "output_type": "execute_result"
    }
   ],
   "source": [
    "pos = (0,0)\n",
    "d = 0\n",
    "\n",
    "visited = set()\n",
    "\n",
    "for i in instructions:\n",
    "    if i[0] == 'R':\n",
    "        d = (d-1)%(len(dirs))\n",
    "    else:\n",
    "        d = (d+1)%(len(dirs))\n",
    "    \n",
    "    move = int(i[1:])\n",
    "    for m in range(move):\n",
    "        pos = (pos[0]+dirs[d][0], pos[1]+dirs[d][1])\n",
    "        if pos in visited:\n",
    "            break\n",
    "        else:\n",
    "            visited.add(pos)\n",
    "    if m != move-1:\n",
    "        break\n",
    "        \n",
    "abs(pos[0])+abs(pos[1])"
   ]
  },
  {
   "cell_type": "markdown",
   "metadata": {},
   "source": [
    "# Day 2"
   ]
  },
  {
   "cell_type": "markdown",
   "metadata": {},
   "source": [
    "## Part 1"
   ]
  },
  {
   "cell_type": "code",
   "execution_count": 43,
   "metadata": {},
   "outputs": [
    {
     "data": {
      "text/plain": [
       "'56983'"
      ]
     },
     "execution_count": 43,
     "metadata": {},
     "output_type": "execute_result"
    }
   ],
   "source": [
    "with open('inputs/day2.txt') as f:\n",
    "    s = f.read()\n",
    "    \n",
    "instructions = [key for key in s.split('\\n')[:-1]]\n",
    "\n",
    "keys = {(-1,-1): '1', ( 0,-1): '2', ( 1,-1): '3',\n",
    "        (-1, 0): '4', ( 0, 0): '5', ( 1, 0): '6',\n",
    "        (-1, 1): '7', ( 0, 1): '8', ( 1, 1): '9'}\n",
    "dirs = {'L': (-1,0), 'R': (1,0), 'U': (0,-1), 'D': (0,1)}\n",
    "\n",
    "pos = (0,0)\n",
    "\n",
    "def next_pos(pos, d):\n",
    "    p = (pos[0] + dirs[d][0], pos[1] + dirs[d][1])\n",
    "    return p if p in keys else pos\n",
    "\n",
    "code = ''\n",
    "for i in instructions:\n",
    "    for d in i:\n",
    "        pos = next_pos(pos, d)\n",
    "    code += keys[pos]\n",
    "    \n",
    "code"
   ]
  },
  {
   "cell_type": "markdown",
   "metadata": {},
   "source": [
    "## Part 2"
   ]
  },
  {
   "cell_type": "code",
   "execution_count": 44,
   "metadata": {},
   "outputs": [
    {
     "data": {
      "text/plain": [
       "'8B8B1'"
      ]
     },
     "execution_count": 44,
     "metadata": {},
     "output_type": "execute_result"
    }
   ],
   "source": [
    "keys = {                            ( 0,-2): '1', \n",
    "                      (-1,-1): '2', ( 0,-1): '3', ( 1,-1): '4', \n",
    "        (-2, 0): '5', (-1, 0): '6', ( 0, 0): '7', ( 1, 0): '8', ( 2, 0): '9',\n",
    "                      (-1, 1): 'A', ( 0, 1): 'B', ( 1, 1): 'C',\n",
    "                                    ( 0, 2): 'D'}\n",
    "\n",
    "pos = (-2,0)\n",
    "\n",
    "code = ''\n",
    "for i in instructions:\n",
    "    for d in i:\n",
    "        pos = next_pos(pos, d)\n",
    "    code += keys[pos]\n",
    "    \n",
    "code"
   ]
  },
  {
   "cell_type": "markdown",
   "metadata": {},
   "source": [
    "# Day 3"
   ]
  },
  {
   "cell_type": "markdown",
   "metadata": {},
   "source": [
    "## Part 1"
   ]
  },
  {
   "cell_type": "code",
   "execution_count": 52,
   "metadata": {},
   "outputs": [
    {
     "data": {
      "text/plain": [
       "1032"
      ]
     },
     "execution_count": 52,
     "metadata": {},
     "output_type": "execute_result"
    }
   ],
   "source": [
    "with open('inputs/day3.txt') as f:\n",
    "    s = f.read()\n",
    "    \n",
    "data = [[int(side) for side in line.split(' ') if side != ''] for line in s.split('\\n')[:-1]]\n",
    "\n",
    "def is_valid_triangle(a, b, c):\n",
    "    return a + b > c and a + c > b and b + c > a\n",
    "\n",
    "triangles = [d for d in data if is_valid_triangle(d[0], d[1], d[2])]\n",
    "\n",
    "len(triangles)"
   ]
  },
  {
   "cell_type": "markdown",
   "metadata": {},
   "source": [
    "## Part 2"
   ]
  },
  {
   "cell_type": "code",
   "execution_count": 59,
   "metadata": {},
   "outputs": [
    {
     "data": {
      "text/plain": [
       "1838"
      ]
     },
     "execution_count": 59,
     "metadata": {},
     "output_type": "execute_result"
    }
   ],
   "source": [
    "groups = []\n",
    "\n",
    "for row in range(0, len(data), 3):\n",
    "    groups.append([data[row][0], data[row+1][0], data[row+2][0]])\n",
    "    groups.append([data[row][1], data[row+1][1], data[row+2][1]])\n",
    "    groups.append([data[row][2], data[row+1][2], data[row+2][2]])\n",
    "    \n",
    "triangles = [d for d in groups if is_valid_triangle(d[0], d[1], d[2])]\n",
    "\n",
    "len(triangles)"
   ]
  },
  {
   "cell_type": "markdown",
   "metadata": {},
   "source": [
    "# Day 4"
   ]
  },
  {
   "cell_type": "markdown",
   "metadata": {},
   "source": [
    "## Part 1"
   ]
  },
  {
   "cell_type": "code",
   "execution_count": 118,
   "metadata": {},
   "outputs": [
    {
     "data": {
      "text/plain": [
       "173787"
      ]
     },
     "execution_count": 118,
     "metadata": {},
     "output_type": "execute_result"
    }
   ],
   "source": [
    "with open('inputs/day4.txt') as f:\n",
    "    s = f.read()\n",
    "    \n",
    "rooms = [r for r in s.split('\\n')[:-1]]\n",
    "\n",
    "def is_valid(room):\n",
    "    name_norm = ''.join(room.split('-')[:-1])\n",
    "    chars = {}    \n",
    "    for c in name_norm:\n",
    "        chars[c] = chars.get(c,0)+1\n",
    "    max_chars = []\n",
    "    while len(max_chars) < 5:\n",
    "        max_char = max(chars, key=chars.get)\n",
    "        ties = [c for c in chars if chars[c] == chars[max_char]]\n",
    "        ties.sort()\n",
    "        for c in ties:\n",
    "            if len(max_chars) < 5:\n",
    "                max_chars.append(c)\n",
    "                del(chars[c])\n",
    "    checksum = room[:-1].split('[')[-1]\n",
    "    for c in checksum:\n",
    "        if c not in max_chars:\n",
    "            return False\n",
    "    return True\n",
    "\n",
    "def sector(room):\n",
    "    sector = room.split('[')[0].split('-')[-1]\n",
    "    return int(sector)\n",
    "\n",
    "valid = [room for room in rooms if is_valid(room)]\n",
    "sum([sector(room) for room in valid])"
   ]
  },
  {
   "cell_type": "markdown",
   "metadata": {},
   "source": [
    "## Part 2"
   ]
  },
  {
   "cell_type": "code",
   "execution_count": 125,
   "metadata": {},
   "outputs": [
    {
     "data": {
      "text/plain": [
       "{'northpole object storage': 548}"
      ]
     },
     "execution_count": 125,
     "metadata": {},
     "output_type": "execute_result"
    }
   ],
   "source": [
    "def rotate(c, shift):\n",
    "    base = ord('z') - ord('a') + 1\n",
    "    n = ord(c) - ord('a') + shift\n",
    "    return chr(n % base + ord('a')) if ord(c) >= ord('a') and ord(c) <= ord('z') else c\n",
    "\n",
    "def decypher(room):\n",
    "    name = room[:room.rfind('-')]\n",
    "    name = name.replace('-', ' ')\n",
    "    s = sector(room)\n",
    "    return ''.join([rotate(c, s) for c in name])\n",
    "\n",
    "decyphered = {decypher(room): sector(room) for room in valid}\n",
    "\n",
    "{room: decyphered[room] for room in decyphered if 'north' in room}"
   ]
  },
  {
   "cell_type": "markdown",
   "metadata": {},
   "source": [
    "# Day 5"
   ]
  },
  {
   "cell_type": "markdown",
   "metadata": {},
   "source": [
    "## Part 1"
   ]
  },
  {
   "cell_type": "code",
   "execution_count": 133,
   "metadata": {},
   "outputs": [
    {
     "data": {
      "text/plain": [
       "'2414bc77'"
      ]
     },
     "execution_count": 133,
     "metadata": {},
     "output_type": "execute_result"
    }
   ],
   "source": [
    "import hashlib \n",
    "\n",
    "door_id = 'wtnhxymk'\n",
    "password_length = 8\n",
    "i = 0\n",
    "\n",
    "def md5_hash(door, i):\n",
    "    return hashlib.md5((door_id + str(i)).encode()).hexdigest()\n",
    "    \n",
    "def valid(md5):\n",
    "    return '00000' == md5[:5]\n",
    "\n",
    "password = ''\n",
    "while len(password) < 8:\n",
    "    md5 = md5_hash(door_id, i)\n",
    "    while not valid(md5):\n",
    "        i += 1\n",
    "        md5 = md5_hash(door_id, i)\n",
    "    password += md5[5]\n",
    "    i += 1\n",
    "\n",
    "password"
   ]
  },
  {
   "cell_type": "markdown",
   "metadata": {},
   "source": [
    "## Day 2"
   ]
  },
  {
   "cell_type": "code",
   "execution_count": 147,
   "metadata": {},
   "outputs": [
    {
     "data": {
      "text/plain": [
       "'437e60fc'"
      ]
     },
     "execution_count": 147,
     "metadata": {},
     "output_type": "execute_result"
    }
   ],
   "source": [
    "password = list('        ')\n",
    "i = 0\n",
    "while ' ' in password:\n",
    "    md5 = md5_hash(door_id, i)\n",
    "    while not valid(md5):\n",
    "        i += 1\n",
    "        md5 = md5_hash(door_id, i)\n",
    "    if md5[5].isdigit() and int(md5[5]) < len(password) and password[int(md5[5])] == ' ':\n",
    "        password[int(md5[5])] = md5[6]\n",
    "    i += 1\n",
    "\n",
    "''.join(password)"
   ]
  },
  {
   "cell_type": "markdown",
   "metadata": {},
   "source": [
    "# Day 6"
   ]
  },
  {
   "cell_type": "markdown",
   "metadata": {},
   "source": [
    "## Part 1"
   ]
  },
  {
   "cell_type": "code",
   "execution_count": 159,
   "metadata": {},
   "outputs": [
    {
     "data": {
      "text/plain": [
       "'agmwzecr'"
      ]
     },
     "execution_count": 159,
     "metadata": {},
     "output_type": "execute_result"
    }
   ],
   "source": [
    "with open('inputs/day6.txt') as f:\n",
    "    s = f.read()\n",
    "    \n",
    "codes = [list(c) for c in s.split('\\n')[:-1]]\n",
    "\n",
    "codes_t = []\n",
    "for i in range(len(codes[0])):\n",
    "    codes_t.append(''.join([c[i] for c in codes]))\n",
    "\n",
    "def most_common(string):\n",
    "    chars = {}    \n",
    "    for c in string:\n",
    "        chars[c] = chars.get(c,0)+1\n",
    "    return max(chars, key=chars.get)\n",
    "    \n",
    "''.join([most_common(c) for c in codes_t])"
   ]
  },
  {
   "cell_type": "markdown",
   "metadata": {},
   "source": [
    "## Part 2"
   ]
  },
  {
   "cell_type": "code",
   "execution_count": 160,
   "metadata": {},
   "outputs": [
    {
     "data": {
      "text/plain": [
       "'owlaxqvq'"
      ]
     },
     "execution_count": 160,
     "metadata": {},
     "output_type": "execute_result"
    }
   ],
   "source": [
    "def least_common(string):\n",
    "    chars = {}    \n",
    "    for c in string:\n",
    "        chars[c] = chars.get(c,0)+1\n",
    "    return min(chars, key=chars.get)\n",
    "    \n",
    "''.join([least_common(c) for c in codes_t])"
   ]
  },
  {
   "cell_type": "markdown",
   "metadata": {},
   "source": [
    "# Day 7"
   ]
  },
  {
   "cell_type": "markdown",
   "metadata": {},
   "source": [
    "## Part 1"
   ]
  },
  {
   "cell_type": "code",
   "execution_count": 173,
   "metadata": {},
   "outputs": [
    {
     "data": {
      "text/plain": [
       "118"
      ]
     },
     "execution_count": 173,
     "metadata": {},
     "output_type": "execute_result"
    }
   ],
   "source": [
    "with open('inputs/day7.txt') as f:\n",
    "    s = f.read()\n",
    "    \n",
    "ips = [ip for ip in s.split('\\n')[:-1]]\n",
    "\n",
    "def hypernets(ip):\n",
    "    hypernet = False\n",
    "    hypernet_list = []\n",
    "    for i in range(len(ip)):\n",
    "        if ip[i] == '[':\n",
    "            start = i+1\n",
    "        if ip[i] == ']':\n",
    "            hypernet_list.append(ip[start:i])\n",
    "    return hypernet_list\n",
    "            \n",
    "\n",
    "def abba(string):\n",
    "    for i in range(len(string)-3):\n",
    "        if string[i] == string[i+3] and string[i+1] == string[i+2] and string[i] != string[i+1]:\n",
    "            return True\n",
    "    return False\n",
    "    \n",
    "    \n",
    "def tls(ip):\n",
    "    blocks = ip.replace('[', ' ').replace(']', ' ').split(' ')\n",
    "    has_tls = False\n",
    "    for block in blocks:\n",
    "        if abba(block):\n",
    "            has_tls = True\n",
    "            break\n",
    "    if not has_tls:\n",
    "        return False\n",
    "    \n",
    "    hyper = hypernets(ip)\n",
    "    for block in hyper:\n",
    "        if abba(block):\n",
    "            has_tls = False\n",
    "            break\n",
    "    return has_tls\n",
    "    \n",
    "has_tls = [ip for ip in ips if tls(ip)]\n",
    "len(has_tls)"
   ]
  },
  {
   "cell_type": "markdown",
   "metadata": {},
   "source": [
    "## Part 2"
   ]
  },
  {
   "cell_type": "code",
   "execution_count": 180,
   "metadata": {},
   "outputs": [
    {
     "data": {
      "text/plain": [
       "260"
      ]
     },
     "execution_count": 180,
     "metadata": {},
     "output_type": "execute_result"
    }
   ],
   "source": [
    "def aba(string):\n",
    "    abas = []\n",
    "    for i in range(len(string)-2):\n",
    "        if string[i] == string[i+2] and string[i] != string[i+1]:\n",
    "            abas.append(string[i] + string[i+1] + string[i+2])\n",
    "    return abas\n",
    "\n",
    "def ssl(ip):\n",
    "    blocks = ip.replace('[', ' ').replace(']', ' ').split(' ')\n",
    "    hyper = hypernets(ip)\n",
    "    supernets = [block for block in blocks if block not in hyper]\n",
    "    abas = []\n",
    "    for s in supernets:\n",
    "        abas.extend(aba(s))\n",
    "    babs = [aba[1:]+aba[1] for aba in abas]\n",
    "    for bab in babs:\n",
    "        for h in hyper:\n",
    "            if bab in h:\n",
    "                return True\n",
    "    return False\n",
    "    \n",
    "has_ssl = [ip for ip in ips if ssl(ip)]\n",
    "len(has_ssl)"
   ]
  },
  {
   "cell_type": "markdown",
   "metadata": {},
   "source": [
    "# Day 8"
   ]
  },
  {
   "cell_type": "markdown",
   "metadata": {},
   "source": [
    "## Part 1"
   ]
  },
  {
   "cell_type": "code",
   "execution_count": 198,
   "metadata": {},
   "outputs": [
    {
     "data": {
      "text/plain": [
       "110"
      ]
     },
     "execution_count": 198,
     "metadata": {},
     "output_type": "execute_result"
    }
   ],
   "source": [
    "with open('inputs/day8.txt') as f:\n",
    "    s = f.read()\n",
    "    \n",
    "instructions = [i for i in s.split('\\n')[:-1]]\n",
    "\n",
    "h = 6\n",
    "w = 50\n",
    "\n",
    "display = [['.' for x in range(w)] for y in range(h)]\n",
    "\n",
    "def rect(a,b,display):\n",
    "    for x in range(a):\n",
    "        for y in range(b):\n",
    "            display[y][x] = '#'\n",
    "    return display\n",
    "\n",
    "\n",
    "def rotate_row(a,b,display):\n",
    "    row = [display[a][(x-b)%w] for x in range(w)]\n",
    "    display[a] = row\n",
    "    return display\n",
    "\n",
    "\n",
    "def rotate_column(a,b,display):\n",
    "    column = [display[(y-b)%h][a] for y in range(h)]\n",
    "    for y in range(h):\n",
    "        display[y][a] = column[y]\n",
    "    return display\n",
    "\n",
    "\n",
    "def parse(instruction, display):\n",
    "    if 'rect' in instruction:\n",
    "        params = instruction.split(' ')[-1]\n",
    "        a = int(params.split('x')[0])\n",
    "        b = int(params.split('x')[1])\n",
    "        display = rect(a ,b , display)\n",
    "    elif 'row' in instruction:\n",
    "        params = instruction.replace('rotate row y=', '')\n",
    "        a = int(params.split(' by ')[0])\n",
    "        b = int(params.split(' by ')[1])\n",
    "        display = rotate_row(a ,b , display)\n",
    "    elif 'column' in instruction:\n",
    "        params = instruction.replace('rotate column x=', '')\n",
    "        a = int(params.split(' by ')[0])\n",
    "        b = int(params.split(' by ')[1])\n",
    "        display = rotate_column(a ,b , display)\n",
    "    \n",
    "    return display\n",
    "\n",
    "\n",
    "for i in instructions:\n",
    "    display = parse(i, display)\n",
    "    \n",
    "sum([row.count('#') for row in display])"
   ]
  },
  {
   "cell_type": "markdown",
   "metadata": {},
   "source": [
    "## Part 2"
   ]
  },
  {
   "cell_type": "code",
   "execution_count": 197,
   "metadata": {
    "scrolled": true
   },
   "outputs": [
    {
     "data": {
      "text/plain": [
       "['####...##.#..#.###..#..#..##..###..#....#...#..##.',\n",
       " '...#....#.#..#.#..#.#.#..#..#.#..#.#....#...#...#.',\n",
       " '..#.....#.####.#..#.##...#....#..#.#.....#.#....#.',\n",
       " '.#......#.#..#.###..#.#..#....###..#......#.....#.',\n",
       " '#....#..#.#..#.#.#..#.#..#..#.#....#......#..#..#.',\n",
       " '####..##..#..#.#..#.#..#..##..#....####...#...##..']"
      ]
     },
     "execution_count": 197,
     "metadata": {},
     "output_type": "execute_result"
    }
   ],
   "source": [
    "[''.join(row) for row in display]"
   ]
  },
  {
   "cell_type": "markdown",
   "metadata": {},
   "source": [
    "# Day 9"
   ]
  },
  {
   "cell_type": "markdown",
   "metadata": {},
   "source": [
    "## Part 1"
   ]
  },
  {
   "cell_type": "code",
   "execution_count": 212,
   "metadata": {},
   "outputs": [
    {
     "data": {
      "text/plain": [
       "70186"
      ]
     },
     "execution_count": 212,
     "metadata": {},
     "output_type": "execute_result"
    }
   ],
   "source": [
    "with open('inputs/day9.txt') as f:\n",
    "    data = f.read()[:-1]\n",
    "    \n",
    "def data_length(data):\n",
    "    decoded_len = 0\n",
    "    \n",
    "    control = False\n",
    "    separated = False\n",
    "    length = ''\n",
    "    times = ''\n",
    "    i = 0\n",
    "    \n",
    "    while i in range(len(data)):\n",
    "        c = data[i]\n",
    "        if not control:\n",
    "            if c == '(':\n",
    "                control = True\n",
    "            else:\n",
    "                decoded_len += 1\n",
    "        else:\n",
    "            if not separated:\n",
    "                if c == 'x':\n",
    "                    separated = True\n",
    "                else:\n",
    "                    length += c\n",
    "            else:\n",
    "                if c == ')':\n",
    "                    control = False\n",
    "                    separated = False\n",
    "                    l = int(length)\n",
    "                    t = int(times)\n",
    "                    decoded_len += l*t\n",
    "                    i += l\n",
    "                    length = ''\n",
    "                    times = ''\n",
    "                else:\n",
    "                    times += c\n",
    "        i += 1\n",
    "    return decoded_len\n",
    "    \n",
    "data_length(data)"
   ]
  },
  {
   "cell_type": "markdown",
   "metadata": {},
   "source": [
    "## Part 2"
   ]
  },
  {
   "cell_type": "code",
   "execution_count": 217,
   "metadata": {},
   "outputs": [
    {
     "data": {
      "text/plain": [
       "10915059201"
      ]
     },
     "execution_count": 217,
     "metadata": {},
     "output_type": "execute_result"
    }
   ],
   "source": [
    "cache = {}\n",
    "\n",
    "def data_length(data):\n",
    "    if data in cache:\n",
    "        return cache[data]\n",
    "    \n",
    "    decoded_len = 0\n",
    "    \n",
    "    control = False\n",
    "    separated = False\n",
    "    length = ''\n",
    "    times = ''\n",
    "    i = 0\n",
    "    \n",
    "    while i in range(len(data)):\n",
    "        c = data[i]\n",
    "        if not control:\n",
    "            if c == '(':\n",
    "                control = True\n",
    "            else:\n",
    "                decoded_len += 1\n",
    "        else:\n",
    "            if not separated:\n",
    "                if c == 'x':\n",
    "                    separated = True\n",
    "                else:\n",
    "                    length += c\n",
    "            else:\n",
    "                if c == ')':\n",
    "                    control = False\n",
    "                    separated = False\n",
    "                    l = int(length)\n",
    "                    t = int(times)\n",
    "                    substring = data[i+1:i+1+l]*t\n",
    "                    decoded_len += data_length(substring)\n",
    "                    i += l\n",
    "                    length = ''\n",
    "                    times = ''\n",
    "                else:\n",
    "                    times += c\n",
    "        i += 1\n",
    "    cache[data] = decoded_len\n",
    "    return decoded_len\n",
    "    \n",
    "data_length(data)"
   ]
  },
  {
   "cell_type": "markdown",
   "metadata": {},
   "source": [
    "# Day 10"
   ]
  },
  {
   "cell_type": "markdown",
   "metadata": {},
   "source": [
    "## Part 1"
   ]
  },
  {
   "cell_type": "code",
   "execution_count": 255,
   "metadata": {},
   "outputs": [
    {
     "name": "stdout",
     "output_type": "stream",
     "text": [
      "bot 181\n"
     ]
    }
   ],
   "source": [
    "with open('inputs/day10.txt') as f:\n",
    "    s = f.read()\n",
    "    \n",
    "instructions = [i for i in s.split('\\n')[:-1]]\n",
    "\n",
    "storage = {}\n",
    "chips = {}\n",
    "\n",
    "class Bot:\n",
    "    def __init__(self, name, low, high):\n",
    "        self.chips = []\n",
    "        self.name = name\n",
    "        self.low = low\n",
    "        self.high = high\n",
    "        \n",
    "    def get(self, chip):\n",
    "        if len(self.chips) < 2:\n",
    "            self.chips.append(chip)\n",
    "            chips[chip] = self\n",
    "            return True\n",
    "        return False\n",
    "        \n",
    "    def handoff(self):\n",
    "        if len(self.chips) == 2:\n",
    "            low = min(self.chips)\n",
    "            high = max(self.chips)            \n",
    "            if storage[self.low].get(low):\n",
    "                self.chips.remove(low)\n",
    "            if storage[self.high].get(high):\n",
    "                self.chips.remove(high)\n",
    "     \n",
    "    \n",
    "class Output:\n",
    "    def __init__(self):\n",
    "        self.chips = []\n",
    "        \n",
    "    def get(self, chip):\n",
    "        self.chips.append(chip)\n",
    "\n",
    "\n",
    "def create_bot(instruction):\n",
    "    storages = instruction.replace(' gives low to ',';').replace(' and high to ', ';').split(';')\n",
    "    storage[storages[0]] = Bot(storages[0], storages[1], storages[2])\n",
    "    if storages[1] not in storage and 'output' in storages[1]:\n",
    "        storage[storages[1]] = Output()\n",
    "    if storages[2] not in storage and 'output' in storages[2]:\n",
    "        storage[storages[2]] = Output()\n",
    "\n",
    "        \n",
    "def create_chip(instruction):\n",
    "    inst = instruction.replace('value ','').replace(' goes to ',';').split(';')\n",
    "    storage[inst[1]].get(int(inst[0]))\n",
    "\n",
    "        \n",
    "def load_all(instructions):\n",
    "    for i in instructions:\n",
    "        if 'gives' in i:\n",
    "            create_bot(i)\n",
    "    for i in instructions:\n",
    "        if 'goes' in i:\n",
    "            create_chip(i)\n",
    "            \n",
    "load_all(instructions)\n",
    "\n",
    "stop = False\n",
    "while not stop:\n",
    "    for chip in chips:\n",
    "        if (chip == 61 and 17 in chips[chip].chips) or (chip == 17 and 61 in chips[chip].chips):\n",
    "            stop = True\n",
    "            print(chips[chip].name)\n",
    "        chips[chip].handoff()"
   ]
  },
  {
   "cell_type": "markdown",
   "metadata": {},
   "source": [
    "## Part 2"
   ]
  },
  {
   "cell_type": "code",
   "execution_count": 256,
   "metadata": {},
   "outputs": [
    {
     "data": {
      "text/plain": [
       "12567"
      ]
     },
     "execution_count": 256,
     "metadata": {},
     "output_type": "execute_result"
    }
   ],
   "source": [
    "storage = {}\n",
    "chips = {}\n",
    "load_all(instructions)\n",
    "\n",
    "stop = False\n",
    "while not stop:\n",
    "    for chip in chips:\n",
    "        if len(storage['output 0'].chips) > 0 and len(storage['output 1'].chips) > 0 and len(storage['output 2'].chips) > 0:\n",
    "            stop = True\n",
    "        chips[chip].handoff()\n",
    "        \n",
    "int(storage['output 0'].chips[0])*int(storage['output 1'].chips[0])*int(storage['output 2'].chips[0])"
   ]
  },
  {
   "cell_type": "markdown",
   "metadata": {},
   "source": [
    "# Day 11"
   ]
  },
  {
   "cell_type": "markdown",
   "metadata": {},
   "source": [
    "## Part 1"
   ]
  },
  {
   "cell_type": "code",
   "execution_count": 42,
   "metadata": {
    "scrolled": true
   },
   "outputs": [
    {
     "data": {
      "text/plain": [
       "33"
      ]
     },
     "execution_count": 42,
     "metadata": {},
     "output_type": "execute_result"
    }
   ],
   "source": [
    "import queue\n",
    "\n",
    "init_floors = {4: [],\n",
    "               3: ['CoM', 'CmM', 'RuM', 'PuM'],\n",
    "               2: ['CoG', 'CmG', 'RuG', 'PuG'],\n",
    "               1: ['PmG', 'PmM']}\n",
    "winning_floors = {4: ['PmG', 'PmM', 'CoG', 'CoM', 'CmG', 'CmM', 'RuG', 'RuM', 'PuG', 'PuM'],\n",
    "                  3: [],\n",
    "                  2: [],\n",
    "                  1: []}\n",
    "\n",
    "generators = {'PmG': 'PmM',\n",
    "              'CoG': 'CoM',\n",
    "              'CmG': 'CmM',\n",
    "              'RuG': 'RuM',\n",
    "              'PuG': 'PuM'}\n",
    "chips = {generators[k]:k for k in generators}\n",
    "\n",
    "floor_map = ('PmG', 'PmM', 'CoG', 'CoM', 'CmG', 'CmM', 'RuG', 'RuM', 'PuG', 'PuM')\n",
    "\n",
    "cache = {}\n",
    "q = queue.Queue()\n",
    "\n",
    "def floor_state(present):\n",
    "    return ('0G' in present,\n",
    "            '0M' in present,\n",
    "            '1G' in present,\n",
    "            '1M' in present,\n",
    "            '2G' in present,\n",
    "            '2M' in present,\n",
    "            '3G' in present,\n",
    "            '3M' in present,\n",
    "            '4G' in present,\n",
    "            '4M' in present)\n",
    "\n",
    "\n",
    "def floor(floor_state):\n",
    "    return [floor_map[i] for i in range(len(floor_map)) if floor_state[i]]\n",
    "    \n",
    "    \n",
    "def create_state(loc, floors):\n",
    "    order = {}\n",
    "    i = 0\n",
    "    for j in range(1,4+1):\n",
    "        for e in floors[j]:\n",
    "            if e[:-1] not in order:\n",
    "                order[e[:-1]] = str(i)\n",
    "                i += 1\n",
    "                \n",
    "    floors = {floor:[order[element[:-1]]+element[-1] for element in floors[floor]] for floor in floors}\n",
    "    \n",
    "    return (loc,\n",
    "            floor_state(floors[1]),\n",
    "            floor_state(floors[2]),\n",
    "            floor_state(floors[3]),\n",
    "            floor_state(floors[4]))\n",
    "\n",
    "\n",
    "def floor_fails(floor):\n",
    "    for chip in chips:\n",
    "        if chip in floor and chips[chip] not in floor:\n",
    "            for gen in generators:\n",
    "                if gen in floor:\n",
    "                    return True\n",
    "    return False\n",
    "\n",
    "\n",
    "def fails(floors):\n",
    "    if floor_fails(floors[1]):\n",
    "        return True\n",
    "    if floor_fails(floors[2]):\n",
    "        return True\n",
    "    if floor_fails(floors[3]):\n",
    "        return True\n",
    "    if floor_fails(floors[4]):\n",
    "        return True\n",
    "    return False\n",
    "\n",
    "\n",
    "def move(loc, floors, next_floor, elevator1, elevator2=None):\n",
    "    floors = {i: [e for e in floors[i] if loc != i or (e != elevator1 and e != elevator2)] for i in range(1,4+1)}\n",
    "    \n",
    "    floors[next_floor].append(elevator1)\n",
    "    if elevator2 is not None:\n",
    "        floors[next_floor].append(elevator2)\n",
    "        \n",
    "    return create_state(next_floor, floors)\n",
    "\n",
    "\n",
    "def components_below(loc, floors):\n",
    "    for i in range(1, loc):\n",
    "        if len(floors[i]) != 0:\n",
    "            return True\n",
    "    return False\n",
    "\n",
    "\n",
    "def bfs(state, movements):\n",
    "    if state in cache:\n",
    "        return cache[state]\n",
    "        \n",
    "    (loc, floor1_map, floor2_map, floor3_map, floor4_map) = state\n",
    "    floors = {1 : floor(floor1_map),\n",
    "              2 : floor(floor2_map),\n",
    "              3 : floor(floor3_map),\n",
    "              4 : floor(floor4_map)}\n",
    "    \n",
    "    if not fails(floors):\n",
    "        cache[state] = movements\n",
    "    else:\n",
    "        cache[state] = None\n",
    "        return None\n",
    "\n",
    "    movements += 1\n",
    "    \n",
    "    for i in range(len(floors[loc])):\n",
    "        e1 = floors[loc][i]\n",
    "        if loc > 1 and components_below(loc, floors):\n",
    "            next_state = move(loc, floors, loc-1, e1)\n",
    "            if next_state not in cache:\n",
    "                q.put((next_state, movements))\n",
    "        if loc < 4:\n",
    "            next_state = move(loc, floors, loc+1, e1)\n",
    "            if next_state not in cache:\n",
    "                q.put((next_state, movements))\n",
    "            \n",
    "        if len(floors[loc]) > 1:\n",
    "            for j in range(i+1, len(floors[loc])):\n",
    "                e2 = floors[loc][j]\n",
    "                if loc > 1 and components_below(loc, floors):\n",
    "                    next_state = move(loc, floors, loc-1, e1, e2)\n",
    "                    if next_state not in cache:\n",
    "                        q.put((next_state, movements))\n",
    "                if loc < 4:\n",
    "                    next_state = move(loc, floors, loc+1, e1, e2)\n",
    "                    if next_state not in cache:\n",
    "                        q.put((next_state, movements))\n",
    "\n",
    "\n",
    "init_state = create_state(1, init_floors)\n",
    "winning_state = create_state(4, winning_floors)\n",
    "\n",
    "q.put((init_state, 0))\n",
    "while not q.empty() and winning_state not in cache:\n",
    "    (state, movements) = q.get()\n",
    "    bfs(state, movements)\n",
    "\n",
    "cache[winning_state]"
   ]
  },
  {
   "cell_type": "markdown",
   "metadata": {},
   "source": [
    "## Part 2"
   ]
  },
  {
   "cell_type": "code",
   "execution_count": 44,
   "metadata": {},
   "outputs": [
    {
     "data": {
      "text/plain": [
       "57"
      ]
     },
     "execution_count": 44,
     "metadata": {},
     "output_type": "execute_result"
    }
   ],
   "source": [
    "init_floors = {4: [],\n",
    "               3: ['CoM', 'CmM', 'RuM', 'PuM'],\n",
    "               2: ['CoG', 'CmG', 'RuG', 'PuG'],\n",
    "               1: ['PmG', 'PmM', 'ElG', 'ElM', 'Li2G', 'Li2M']}\n",
    "winning_floors = {4: ['PmG', 'PmM', 'CoG', 'CoM', 'CmG', 'CmM', 'RuG', 'RuM', 'PuG', 'PuM', 'ElG', 'ElM', 'Li2G', 'Li2M'],\n",
    "                  3: [],\n",
    "                  2: [],\n",
    "                  1: []}\n",
    "\n",
    "generators = {'PmG': 'PmM',\n",
    "              'CoG': 'CoM',\n",
    "              'CmG': 'CmM',\n",
    "              'RuG': 'RuM',\n",
    "              'PuG': 'PuM',\n",
    "              'ElG': 'ElM',\n",
    "              'Li2G': 'Li2M'}\n",
    "chips = {generators[k]:k for k in generators}\n",
    "\n",
    "floor_map = ('PmG', 'PmM', 'CoG', 'CoM', 'CmG', 'CmM', 'RuG', 'RuM', 'PuG', 'PuM', 'ElG', 'ElM', 'Li2G', 'Li2M')\n",
    "\n",
    "cache = {}\n",
    "q = queue.Queue()\n",
    "\n",
    "def floor_state(present):\n",
    "    return ('0G' in present,\n",
    "            '0M' in present,\n",
    "            '1G' in present,\n",
    "            '1M' in present,\n",
    "            '2G' in present,\n",
    "            '2M' in present,\n",
    "            '3G' in present,\n",
    "            '3M' in present,\n",
    "            '4G' in present,\n",
    "            '4M' in present,\n",
    "            '5G' in present,\n",
    "            '5M' in present,\n",
    "            '6G' in present,\n",
    "            '6M' in present)\n",
    "\n",
    "init_state = create_state(1, init_floors)\n",
    "winning_state = create_state(4, winning_floors)\n",
    "\n",
    "q.put((init_state, 0))\n",
    "while not q.empty() and winning_state not in cache:\n",
    "    (state, movements) = q.get()\n",
    "    bfs(state, movements)\n",
    "\n",
    "cache[winning_state]"
   ]
  },
  {
   "cell_type": "markdown",
   "metadata": {},
   "source": [
    "# Day 12"
   ]
  },
  {
   "cell_type": "markdown",
   "metadata": {},
   "source": [
    "## Part 1"
   ]
  },
  {
   "cell_type": "code",
   "execution_count": 31,
   "metadata": {},
   "outputs": [
    {
     "data": {
      "text/plain": [
       "318117"
      ]
     },
     "execution_count": 31,
     "metadata": {},
     "output_type": "execute_result"
    }
   ],
   "source": [
    "with open('inputs/day12.txt') as f:\n",
    "    s = f.read()\n",
    "    \n",
    "instructions = [i for i in s.split('\\n')[:-1]]\n",
    "registers = {'a': 0, 'b': 0, 'c': 0, 'd': 0}\n",
    "\n",
    "def cpy(x,y,i):\n",
    "    if x in registers:\n",
    "        value = registers[x]\n",
    "    else:\n",
    "        value = int(x)\n",
    "    if y in registers:\n",
    "        registers[y] = value\n",
    "    return i+1\n",
    "\n",
    "def inc(x,i):\n",
    "    if x in registers:\n",
    "        registers[x] += 1\n",
    "    return i+1\n",
    "\n",
    "def dec(x,i):\n",
    "    if x in registers:\n",
    "        registers[x] -= 1\n",
    "    return i+1\n",
    "\n",
    "def jnz(x,y,i):\n",
    "    if x in registers:\n",
    "        value = registers[x]\n",
    "    else:\n",
    "        value = int(x)\n",
    "    if y in registers:\n",
    "        jmp = registers[y]\n",
    "    else:\n",
    "        jmp = int(y)\n",
    "    if value != 0:\n",
    "        return i+jmp\n",
    "    else:\n",
    "        return i+1\n",
    "    \n",
    "def process(i):\n",
    "    inst = instructions[i]\n",
    "    if 'cpy' in inst:\n",
    "        return cpy(inst.split(' ')[1], inst.split(' ')[2], i)\n",
    "    if 'inc' in inst:\n",
    "        return inc(inst.split(' ')[1], i)\n",
    "    if 'dec' in inst:\n",
    "        return dec(inst.split(' ')[1], i)\n",
    "    if 'jnz' in inst:\n",
    "        return jnz(inst.split(' ')[1], inst.split(' ')[2], i)\n",
    "    \n",
    "i = 0\n",
    "while i in range(len(instructions)):\n",
    "    i = process(i)\n",
    "    \n",
    "registers['a']"
   ]
  },
  {
   "cell_type": "markdown",
   "metadata": {},
   "source": [
    "## Part 2"
   ]
  },
  {
   "cell_type": "code",
   "execution_count": 32,
   "metadata": {},
   "outputs": [
    {
     "data": {
      "text/plain": [
       "9227771"
      ]
     },
     "execution_count": 32,
     "metadata": {},
     "output_type": "execute_result"
    }
   ],
   "source": [
    "registers = {'a': 0, 'b': 0, 'c': 1, 'd': 0}\n",
    "i = 0\n",
    "\n",
    "while i in range(len(instructions)):\n",
    "    i = process(i)\n",
    "    \n",
    "registers['a']"
   ]
  },
  {
   "cell_type": "markdown",
   "metadata": {},
   "source": [
    "# Day 13"
   ]
  },
  {
   "cell_type": "markdown",
   "metadata": {},
   "source": [
    "## Part 1"
   ]
  },
  {
   "cell_type": "code",
   "execution_count": 68,
   "metadata": {},
   "outputs": [
    {
     "data": {
      "text/plain": [
       "96"
      ]
     },
     "execution_count": 68,
     "metadata": {},
     "output_type": "execute_result"
    }
   ],
   "source": [
    "import queue\n",
    "\n",
    "magic_number = 1358\n",
    "target = (31,39)\n",
    "\n",
    "bit_cache = {}\n",
    "floor = {}\n",
    "\n",
    "def set_bits(n):\n",
    "    if n in cache:\n",
    "        return bit_cache[n]\n",
    "    i = 0\n",
    "    while n != 0:\n",
    "        n = n&(n-1)\n",
    "        i += 1\n",
    "    bit_cache[n] = i\n",
    "    return i\n",
    "\n",
    "def odd_bits(n):\n",
    "    return set_bits(n)%2 == 1\n",
    "\n",
    "def is_wall(x,y):\n",
    "    return x < 0 or y < 0 or odd_bits(x*x + 3*x + 2*x*y + y + y*y + magic_number)\n",
    "\n",
    "q = queue.Queue()\n",
    "\n",
    "def bfs(x,y,d):\n",
    "    if (x,y) in floor:\n",
    "        return floor[(x,y)]\n",
    "    \n",
    "    if not is_wall(x,y):\n",
    "        floor[(x,y)] = d\n",
    "        q.put(((x, y-1), d+1))\n",
    "        q.put(((x, y+1), d+1))\n",
    "        q.put(((x-1, y), d+1))\n",
    "        q.put(((x+1, y), d+1))\n",
    "    \n",
    "q.put(((1,1),0))\n",
    "while not q.empty():\n",
    "    state = q.get()\n",
    "    bfs(state[0][0], state[0][1], state[1])\n",
    "    \n",
    "floor[target]"
   ]
  },
  {
   "cell_type": "markdown",
   "metadata": {},
   "source": [
    "## Part 2"
   ]
  },
  {
   "cell_type": "code",
   "execution_count": 69,
   "metadata": {},
   "outputs": [
    {
     "data": {
      "text/plain": [
       "141"
      ]
     },
     "execution_count": 69,
     "metadata": {},
     "output_type": "execute_result"
    }
   ],
   "source": [
    "sum([1 for f in floor if floor[f] <= 50])"
   ]
  },
  {
   "cell_type": "markdown",
   "metadata": {},
   "source": [
    "# Day 14"
   ]
  },
  {
   "cell_type": "markdown",
   "metadata": {},
   "source": [
    "## Part 1"
   ]
  },
  {
   "cell_type": "code",
   "execution_count": 136,
   "metadata": {},
   "outputs": [
    {
     "data": {
      "text/plain": [
       "15035"
      ]
     },
     "execution_count": 136,
     "metadata": {},
     "output_type": "execute_result"
    }
   ],
   "source": [
    "import hashlib \n",
    "\n",
    "salt = 'ihaygndm'\n",
    "candidates = {}\n",
    "keys = []\n",
    "key_count = 64\n",
    "\n",
    "def md5_hash(i):\n",
    "    return hashlib.md5((salt + str(i)).encode()).hexdigest()\n",
    "\n",
    "def triplets(md5):\n",
    "    t = {}\n",
    "    for i in range(0,10):\n",
    "        if str(i)*3 in md5:\n",
    "            t[str(i)] = md5.index(str(i)*3)\n",
    "    for i in range(ord('a'), ord('f')+1):\n",
    "        if chr(i)*3 in md5:\n",
    "            t[chr(i)] = md5.index(chr(i)*3)\n",
    "    return t\n",
    "\n",
    "def candidate(md5, i):\n",
    "    t = triplets(md5)\n",
    "    if len(t) > 0:\n",
    "        candidates[i] = min(t, key=t.get)\n",
    "        \n",
    "\n",
    "def verify(md5, i):\n",
    "    verified = []\n",
    "    for c in candidates:\n",
    "        if 5*candidates[c] in md5:\n",
    "            keys.append(c)\n",
    "            verified.append(c)\n",
    "    for c in verified:\n",
    "        del(candidates[c])\n",
    "        \n",
    "i = 0\n",
    "while len(keys) < key_count or len(candidates) > 0:\n",
    "    md5 = md5_hash(i)\n",
    "    verify(md5, i)\n",
    "    if len(keys) < key_count:\n",
    "        candidate(md5, i)\n",
    "    \n",
    "    if i-1000 in candidates:\n",
    "        del(candidates[i-1000])\n",
    "        \n",
    "    i += 1\n",
    "\n",
    "keys.sort()\n",
    "keys[63]"
   ]
  },
  {
   "cell_type": "markdown",
   "metadata": {},
   "source": [
    "## Part 2"
   ]
  },
  {
   "cell_type": "code",
   "execution_count": 137,
   "metadata": {},
   "outputs": [
    {
     "data": {
      "text/plain": [
       "19968"
      ]
     },
     "execution_count": 137,
     "metadata": {},
     "output_type": "execute_result"
    }
   ],
   "source": [
    "stretches = 2017\n",
    "\n",
    "def md5_hash(i):\n",
    "    base = salt + str(i)\n",
    "    for i in range(stretches):\n",
    "        result = hashlib.md5(base.encode()).hexdigest()\n",
    "        cache[base] = result\n",
    "        base = result\n",
    "    return result\n",
    "\n",
    "i = 0\n",
    "candidates = {}\n",
    "keys = []\n",
    "\n",
    "while len(keys) < key_count or len(candidates) > 0:\n",
    "    md5 = md5_hash(i)\n",
    "    verify(md5, i)\n",
    "    if len(keys) < key_count:\n",
    "        candidate(md5, i)\n",
    "    \n",
    "    if i-1000 in candidates:\n",
    "        del(candidates[i-1000])\n",
    "        \n",
    "    i += 1\n",
    "\n",
    "keys.sort()\n",
    "keys[63]"
   ]
  },
  {
   "cell_type": "markdown",
   "metadata": {},
   "source": [
    "# Day 15"
   ]
  },
  {
   "cell_type": "markdown",
   "metadata": {},
   "source": [
    "## Part 1"
   ]
  },
  {
   "cell_type": "code",
   "execution_count": 192,
   "metadata": {},
   "outputs": [
    {
     "data": {
      "text/plain": [
       "16824"
      ]
     },
     "execution_count": 192,
     "metadata": {},
     "output_type": "execute_result"
    }
   ],
   "source": [
    "with open('inputs/day15.txt') as f:\n",
    "    s = f.read()\n",
    "    \n",
    "discs = s.split('\\n')[:-1]\n",
    "\n",
    "disc_positions = {}\n",
    "disc_inits = {}\n",
    "\n",
    "for d in discs:\n",
    "    parts = d[:-1].split(' ')\n",
    "    n = int(parts[1][1:])\n",
    "    disc_positions[n] = int(parts[3])\n",
    "    disc_inits[n] = int(parts[-1])\n",
    "    \n",
    "disc_timed_inits = {d: (disc_inits[d]+d)%disc_positions[d] for d in disc_inits}\n",
    "\n",
    "def timed_positions(t):\n",
    "    return {d: (disc_timed_inits[d]+t)%disc_positions[d] for d in disc_timed_inits}\n",
    "\n",
    "def lines_up(discs):\n",
    "    return len([d for d in discs if discs[d] != 0]) == 0\n",
    "\n",
    "t = 0\n",
    "positions = timed_positions(t)\n",
    "while not lines_up(positions):\n",
    "    t += 1\n",
    "    positions = timed_positions(t)\n",
    "\n",
    "t"
   ]
  },
  {
   "cell_type": "markdown",
   "metadata": {},
   "source": [
    "## Part 2"
   ]
  },
  {
   "cell_type": "code",
   "execution_count": 195,
   "metadata": {},
   "outputs": [
    {
     "data": {
      "text/plain": [
       "3543984"
      ]
     },
     "execution_count": 195,
     "metadata": {},
     "output_type": "execute_result"
    }
   ],
   "source": [
    "disc_positions[7] = 11\n",
    "disc_inits[7] = 0\n",
    "\n",
    "disc_timed_inits = {d: (disc_inits[d]+d)%disc_positions[d] for d in disc_inits}\n",
    "\n",
    "t = 0\n",
    "positions = timed_positions(t)\n",
    "while not lines_up(positions):\n",
    "    t += 1\n",
    "    positions = timed_positions(t)\n",
    "\n",
    "t"
   ]
  },
  {
   "cell_type": "markdown",
   "metadata": {},
   "source": [
    "# Day 16"
   ]
  },
  {
   "cell_type": "markdown",
   "metadata": {},
   "source": [
    "## Part 1"
   ]
  },
  {
   "cell_type": "code",
   "execution_count": 206,
   "metadata": {},
   "outputs": [
    {
     "data": {
      "text/plain": [
       "'10101001010100001'"
      ]
     },
     "execution_count": 206,
     "metadata": {},
     "output_type": "execute_result"
    }
   ],
   "source": [
    "init_state = '10001001100000001'\n",
    "disk_size = 272\n",
    "\n",
    "def fold(data):\n",
    "    d = data + '0'\n",
    "    for i in range(len(data)-1, -1, -1):\n",
    "        d += ('0' if data[i] == '1' else '1')\n",
    "    return d\n",
    "\n",
    "def checksum(data):\n",
    "    chk = ''\n",
    "    for i in range(0, len(data), 2):\n",
    "        chk += ('1' if data[i] == data[i+1] else '0')\n",
    "    return chk\n",
    "\n",
    "data = init_state\n",
    "while len(data) < disk_size:\n",
    "    data = fold(data)\n",
    "    \n",
    "data = data[:disk_size]\n",
    "\n",
    "chk = checksum(data)\n",
    "while len(chk)%2 != 1:\n",
    "    chk = checksum(chk)\n",
    "    \n",
    "chk"
   ]
  },
  {
   "cell_type": "markdown",
   "metadata": {},
   "source": [
    "## Part 2"
   ]
  },
  {
   "cell_type": "code",
   "execution_count": 209,
   "metadata": {},
   "outputs": [
    {
     "data": {
      "text/plain": [
       "'10100001110101001'"
      ]
     },
     "execution_count": 209,
     "metadata": {},
     "output_type": "execute_result"
    }
   ],
   "source": [
    "disk_size = 35651584\n",
    "\n",
    "data = init_state\n",
    "while len(data) < disk_size:\n",
    "    data = fold(data)\n",
    "    \n",
    "data = data[:disk_size]\n",
    "\n",
    "chk = checksum(data)\n",
    "while len(chk)%2 != 1:\n",
    "    chk = checksum(chk)\n",
    "    \n",
    "chk"
   ]
  },
  {
   "cell_type": "markdown",
   "metadata": {},
   "source": [
    "# Day 17"
   ]
  },
  {
   "cell_type": "markdown",
   "metadata": {},
   "source": [
    "## Part 1"
   ]
  },
  {
   "cell_type": "code",
   "execution_count": 3,
   "metadata": {},
   "outputs": [
    {
     "name": "stdout",
     "output_type": "stream",
     "text": [
      "DDURRLRRDD\n"
     ]
    }
   ],
   "source": [
    "import hashlib, queue\n",
    "\n",
    "passcode = 'bwnlcvfs'\n",
    "target = (3,3)\n",
    "\n",
    "open_codes = 'bcdef'\n",
    "directions = {'U': (0,-1), 'D': (0,1), 'L': (-1,0), 'R': (1,0)}\n",
    "\n",
    "def md5_hash(path):\n",
    "    return hashlib.md5((passcode + path).encode()).hexdigest()\n",
    "\n",
    "def open_doors(path, loc):\n",
    "    o = []\n",
    "    if loc == target:\n",
    "        return o\n",
    "    \n",
    "    md5 = md5_hash(path)\n",
    "    \n",
    "    if loc[1] != 0 and md5[0] in open_codes:\n",
    "        o.append('U')\n",
    "    if loc[1] != 3 and md5[1] in open_codes:\n",
    "        o.append('D')\n",
    "    if loc[0] != 0 and md5[2] in open_codes:\n",
    "        o.append('L')\n",
    "    if loc[0] != 3 and md5[3] in open_codes:\n",
    "        o.append('R')\n",
    "    return o\n",
    "\n",
    "\n",
    "visited = set()\n",
    "visited_locations = set()\n",
    "q = queue.Queue()\n",
    "def bfs(state):\n",
    "    (path, loc) = state\n",
    "    if path not in visited:\n",
    "        visited.add(path)\n",
    "    visited_locations.add(loc)\n",
    "    \n",
    "    if loc == target:\n",
    "        print(path)\n",
    "        \n",
    "    for o in open_doors(path, loc):\n",
    "        next_loc = (loc[0]+directions[o][0], loc[1]+directions[o][1])\n",
    "        q.put((path+o, next_loc))\n",
    "\n",
    "\n",
    "loc = (0,0)\n",
    "path = ''\n",
    "q.put((path, loc))\n",
    "while target not in visited_locations:\n",
    "    bfs(q.get())\n",
    "    \n"
   ]
  },
  {
   "cell_type": "markdown",
   "metadata": {},
   "source": [
    "## Part 2"
   ]
  },
  {
   "cell_type": "code",
   "execution_count": 4,
   "metadata": {},
   "outputs": [
    {
     "data": {
      "text/plain": [
       "436"
      ]
     },
     "execution_count": 4,
     "metadata": {},
     "output_type": "execute_result"
    }
   ],
   "source": [
    "visited = set()\n",
    "max_len = 0\n",
    "q = queue.Queue()\n",
    "\n",
    "def bfs(state):\n",
    "    global max_len\n",
    "    (path, loc) = state\n",
    "    \n",
    "    if path not in visited:\n",
    "        visited.add(path)\n",
    "        if loc == target:\n",
    "            if len(path) > max_len:\n",
    "                max_len = len(path)\n",
    "        for o in open_doors(path, loc):\n",
    "            next_loc = (loc[0]+directions[o][0], loc[1]+directions[o][1])\n",
    "            q.put((path+o, next_loc))\n",
    "\n",
    "\n",
    "loc = (0,0)\n",
    "path = ''\n",
    "q.put((path, loc))\n",
    "while not q.empty():\n",
    "    bfs(q.get())\n",
    "    \n",
    "\n",
    "max_len"
   ]
  },
  {
   "cell_type": "markdown",
   "metadata": {},
   "source": [
    "# Day 18"
   ]
  },
  {
   "cell_type": "markdown",
   "metadata": {},
   "source": [
    "## Part 1"
   ]
  },
  {
   "cell_type": "code",
   "execution_count": 22,
   "metadata": {},
   "outputs": [
    {
     "data": {
      "text/plain": [
       "1987"
      ]
     },
     "execution_count": 22,
     "metadata": {},
     "output_type": "execute_result"
    }
   ],
   "source": [
    "with open('inputs/day18.txt') as f:\n",
    "    row0 = f.read()[:-1]\n",
    "\n",
    "trap_patterns = ['^^.', '.^^', '^..', '..^']\n",
    "\n",
    "def next_row(row):\n",
    "    base = '.' + row + '.'\n",
    "    return ''.join([('^' if (base[i:i+3] in trap_patterns) else '.') for i in range(len(row))])\n",
    "       \n",
    "row = row0\n",
    "a = 0\n",
    "for i in range(40):\n",
    "    a += row.count('.')\n",
    "    row = next_row(row)\n",
    "    \n",
    "a"
   ]
  },
  {
   "cell_type": "markdown",
   "metadata": {},
   "source": [
    "## Part 2"
   ]
  },
  {
   "cell_type": "code",
   "execution_count": 25,
   "metadata": {},
   "outputs": [
    {
     "data": {
      "text/plain": [
       "19984714"
      ]
     },
     "execution_count": 25,
     "metadata": {},
     "output_type": "execute_result"
    }
   ],
   "source": [
    "row = row0\n",
    "a = 0\n",
    "for i in range(400000):\n",
    "    a += row.count('.')\n",
    "    row = next_row(row)\n",
    "\n",
    "a"
   ]
  },
  {
   "cell_type": "markdown",
   "metadata": {},
   "source": [
    "# Day 19"
   ]
  },
  {
   "cell_type": "markdown",
   "metadata": {},
   "source": [
    "## Part 1"
   ]
  },
  {
   "cell_type": "code",
   "execution_count": 98,
   "metadata": {},
   "outputs": [
    {
     "data": {
      "text/plain": [
       "1808357"
      ]
     },
     "execution_count": 98,
     "metadata": {},
     "output_type": "execute_result"
    }
   ],
   "source": [
    "elves = 3001330\n",
    "\n",
    "elf_list = list(range(1,elves+1))\n",
    "while len(elf_list) != 1:\n",
    "    rotate = len(elf_list)%2 == 1\n",
    "    elf_list = [elf_list[i] for i in range(0, len(elf_list), 2)]\n",
    "    if rotate:\n",
    "        elf_list = elf_list[1:]\n",
    "    \n",
    "elf_list[0]"
   ]
  },
  {
   "cell_type": "markdown",
   "metadata": {},
   "source": [
    "## Part 2"
   ]
  },
  {
   "cell_type": "code",
   "execution_count": 225,
   "metadata": {},
   "outputs": [
    {
     "data": {
      "text/plain": [
       "1407007"
      ]
     },
     "execution_count": 225,
     "metadata": {},
     "output_type": "execute_result"
    }
   ],
   "source": [
    "class Node:\n",
    "    def __init__(self, elf):\n",
    "        self.id = elf\n",
    "    \n",
    "    def delete(self):\n",
    "        self.prev.next = self.next\n",
    "        self.next.prev = self.prev\n",
    "        \n",
    "elf_list = [Node(e+1) for e in range(elves)]\n",
    "for i in range(len(elf_list)):\n",
    "    elf_list[i].prev = elf_list[(i-1)%elves]\n",
    "    elf_list[i].next = elf_list[(i+1)%elves]\n",
    "    \n",
    "e = elf_list[elves//2]\n",
    "for i in range(elves-1):\n",
    "    e.delete()\n",
    "    e = e.next\n",
    "    if (elves-i)%2 == 1:\n",
    "        e = e.next\n",
    "    \n",
    "e.id"
   ]
  },
  {
   "cell_type": "markdown",
   "metadata": {},
   "source": [
    "# Day 20"
   ]
  },
  {
   "cell_type": "markdown",
   "metadata": {},
   "source": [
    "## Part 1"
   ]
  },
  {
   "cell_type": "code",
   "execution_count": 67,
   "metadata": {},
   "outputs": [
    {
     "data": {
      "text/plain": [
       "32259706"
      ]
     },
     "execution_count": 67,
     "metadata": {},
     "output_type": "execute_result"
    }
   ],
   "source": [
    "with open('inputs/day20.txt') as f:\n",
    "    s = f.read()[:-1]\n",
    "    \n",
    "blacklist = [(int(line.split('-')[0]), int(line.split('-')[1])) for line in s.split('\\n')]\n",
    "blacklist.sort(key=lambda r: r[1])\n",
    "\n",
    "def merge(i0, i1):\n",
    "    if i0[1]+1 < i1[0]:\n",
    "        return [i0, i1]\n",
    "    else:\n",
    "        return [(min(i0[0], i1[0]), i1[1])]\n",
    "\n",
    "def compact(blacklist):\n",
    "    blacklist_new = [blacklist[0]]\n",
    "    for i in range(1, len(blacklist)):\n",
    "        merged = merge(blacklist_new[-1], blacklist[i])\n",
    "        if len(merged) == 1:\n",
    "            blacklist_new[-1] = merged[0]\n",
    "        else:\n",
    "            blacklist_new.append(merged[1])\n",
    "    blacklist_new.sort(key=lambda r: r[1])\n",
    "    return blacklist_new\n",
    "        \n",
    "\n",
    "blacklist_new = compact(blacklist)\n",
    "while blacklist != blacklist_new:\n",
    "    blacklist = blacklist_new\n",
    "    blacklist_new = compact(blacklist)\n",
    "    \n",
    "blacklist[0][1] + 1"
   ]
  },
  {
   "cell_type": "markdown",
   "metadata": {},
   "source": [
    "## Part 2"
   ]
  },
  {
   "cell_type": "code",
   "execution_count": 69,
   "metadata": {},
   "outputs": [
    {
     "data": {
      "text/plain": [
       "113"
      ]
     },
     "execution_count": 69,
     "metadata": {},
     "output_type": "execute_result"
    }
   ],
   "source": [
    "total = 2**32\n",
    "for block in blacklist:\n",
    "    total -= block[1]-block[0]+1\n",
    "    \n",
    "total"
   ]
  },
  {
   "cell_type": "markdown",
   "metadata": {},
   "source": [
    "# Day 21"
   ]
  },
  {
   "cell_type": "markdown",
   "metadata": {},
   "source": [
    "## Part 1"
   ]
  },
  {
   "cell_type": "code",
   "execution_count": 146,
   "metadata": {},
   "outputs": [
    {
     "data": {
      "text/plain": [
       "'gfdhebac'"
      ]
     },
     "execution_count": 146,
     "metadata": {},
     "output_type": "execute_result"
    }
   ],
   "source": [
    "with open('inputs/day21.txt') as f:\n",
    "    s = f.read()[:-1]\n",
    "    \n",
    "instructions = [line for line in s.split('\\n')]\n",
    "password = 'abcdefgh'\n",
    "\n",
    "def swap_pos(x,y,s):\n",
    "    if x > y:\n",
    "        z = x\n",
    "        x = y\n",
    "        y = z\n",
    "    return s[:x] + s[y] + s[x+1:y] + s[x] + s[y+1:]\n",
    "\n",
    "def swap_letter(x,y,s):\n",
    "    return s.replace(x,'_').replace(y,';').replace('_',y).replace(';',x)\n",
    "\n",
    "def rotate_left(x,s):\n",
    "    return s[x:] + s[:x]\n",
    "    \n",
    "def rotate_right(x,s):\n",
    "    return rotate_left(len(s)-x, s)\n",
    "\n",
    "def rotate_pos(x,s):\n",
    "    r = s.index(x)\n",
    "    if r >= 4:\n",
    "        r += 1\n",
    "    return rotate_right(r+1, s)\n",
    "\n",
    "def reverse(x,y,s):\n",
    "    if x > y:\n",
    "        z = x\n",
    "        x = y\n",
    "        y = z\n",
    "    return s[:x] + s[x:y+1][::-1] + s[y+1:]\n",
    "\n",
    "def move(x,y,s):\n",
    "    if x < y:\n",
    "        return s[:x] + s[x+1:y+1] + s[x] + s[y+1:]\n",
    "    return s[:y] + s[x] + s[y:x] +s[x+1:]\n",
    "    \n",
    "def process(instruction,s):\n",
    "    if 'swap position' in instruction:\n",
    "        params = instruction.replace('swap position ','').split(' with position ')\n",
    "        return swap_pos(int(params[0]), int(params[1]), s)\n",
    "    if 'swap letter' in instruction:\n",
    "        params = instruction.replace('swap letter ','').split(' with letter ')\n",
    "        return swap_letter(params[0], params[1], s)\n",
    "    if 'rotate left' in instruction:\n",
    "        param = int(instruction.replace('rotate left ','').replace(' steps', '').replace(' step', ''))\n",
    "        return rotate_left(param, s)\n",
    "    if 'rotate right' in instruction:\n",
    "        param = int(instruction.replace('rotate right ','').replace(' steps', '').replace(' step', ''))\n",
    "        return rotate_right(param, s)\n",
    "    if 'rotate based on position of letter' in instruction:\n",
    "        param = instruction.replace('rotate based on position of letter ','')\n",
    "        return rotate_pos(param, s)\n",
    "    if 'reverse positions' in instruction:\n",
    "        params = instruction.replace('reverse positions ','').split(' through ')\n",
    "        return reverse(int(params[0]), int(params[1]), s)\n",
    "    if 'move position' in instruction:\n",
    "        params = instruction.replace('move position ','').split(' to position ')\n",
    "        return move(int(params[0]), int(params[1]), s)\n",
    "    \n",
    "p = password\n",
    "for i in instructions:\n",
    "    p = process(i,p)\n",
    "    \n",
    "p"
   ]
  },
  {
   "cell_type": "markdown",
   "metadata": {},
   "source": [
    "## Part 2"
   ]
  },
  {
   "cell_type": "code",
   "execution_count": 154,
   "metadata": {},
   "outputs": [
    {
     "data": {
      "text/plain": [
       "'dhaegfbc'"
      ]
     },
     "execution_count": 154,
     "metadata": {},
     "output_type": "execute_result"
    }
   ],
   "source": [
    "scrambled = 'fbgdceah'\n",
    "\n",
    "instructions = [line for line in s.split('\\n')]\n",
    "instructions.reverse()\n",
    "\n",
    "rotations = {i:(2*i+1+(1 if i >= 4 else 0))%len(password) for i in range(len(password))}\n",
    "reverse_rotations = {rotations[k]: (rotations[k]-k)%len(password) for k in rotations}\n",
    "\n",
    "def rotate_pos(x,s):\n",
    "    r = s.index(x)\n",
    "    return rotate_left(reverse_rotations[r], s)\n",
    "\n",
    "def process(instruction,s):\n",
    "    if 'swap position' in instruction:\n",
    "        params = instruction.replace('swap position ','').split(' with position ')\n",
    "        return swap_pos(int(params[0]), int(params[1]), s)\n",
    "    if 'swap letter' in instruction:\n",
    "        params = instruction.replace('swap letter ','').split(' with letter ')\n",
    "        return swap_letter(params[0], params[1], s)\n",
    "    if 'rotate left' in instruction:\n",
    "        param = int(instruction.replace('rotate left ','').replace(' steps', '').replace(' step', ''))\n",
    "        return rotate_right(param, s)\n",
    "    if 'rotate right' in instruction:\n",
    "        param = int(instruction.replace('rotate right ','').replace(' steps', '').replace(' step', ''))\n",
    "        return rotate_left(param, s)\n",
    "    if 'rotate based on position of letter' in instruction:\n",
    "        param = instruction.replace('rotate based on position of letter ','')\n",
    "        return rotate_pos(param, s)\n",
    "    if 'reverse positions' in instruction:\n",
    "        params = instruction.replace('reverse positions ','').split(' through ')\n",
    "        return reverse(int(params[0]), int(params[1]), s)\n",
    "    if 'move position' in instruction:\n",
    "        params = instruction.replace('move position ','').split(' to position ')\n",
    "        return move(int(params[1]), int(params[0]), s)\n",
    "\n",
    "p = scrambled\n",
    "for i in instructions:\n",
    "    p = process(i,p)\n",
    "    \n",
    "p"
   ]
  },
  {
   "cell_type": "markdown",
   "metadata": {},
   "source": [
    "# Day 22"
   ]
  },
  {
   "cell_type": "markdown",
   "metadata": {},
   "source": [
    "## Part 1"
   ]
  },
  {
   "cell_type": "code",
   "execution_count": 50,
   "metadata": {},
   "outputs": [
    {
     "data": {
      "text/plain": [
       "872"
      ]
     },
     "execution_count": 50,
     "metadata": {},
     "output_type": "execute_result"
    }
   ],
   "source": [
    "with open('inputs/day22.txt') as f:\n",
    "    s = f.read()[:-1]\n",
    "\n",
    "disks = {}\n",
    "\n",
    "class Disk:\n",
    "    def __init__(self, x, y, size, used, percent):\n",
    "        self.x = x\n",
    "        self.y = y\n",
    "        self.size = size\n",
    "        self.used = used\n",
    "        if used == 0:\n",
    "            self.type = '_'\n",
    "        elif size < 100 and percent > 50:\n",
    "            self.type = '.'\n",
    "        elif size > 100:\n",
    "            self.type = '#'\n",
    "        \n",
    "    def __repr__(self):\n",
    "        return self.type\n",
    "        \n",
    "    def viable(self, target):\n",
    "        return self.used != 0 and self != target and self.used <= (target.size - target.used)\n",
    "    \n",
    "    def viables(self):\n",
    "        v = []\n",
    "        if (self.x, self.y-1) in disks:\n",
    "            target = disks[(self.x, self.y-1)]\n",
    "            if self.viable(target):\n",
    "                v.append(target)\n",
    "        if (self.x, self.y+1) in disks:\n",
    "            target = disks[(self.x, self.y+1)]\n",
    "            if self.viable(target):\n",
    "                v.append(target)\n",
    "        if (self.x-1, self.y) in disks:\n",
    "            target = disks[(self.x-1, self.y)]\n",
    "            if self.viable(target):\n",
    "                v.append(target)\n",
    "        if (self.x+1, self.y) in disks:\n",
    "            target = disks[(self.x+1, self.y)]\n",
    "            if self.viable(target):\n",
    "                v.append(target)\n",
    "        return v\n",
    "        \n",
    "            \n",
    "    def move(self, target):\n",
    "        if self.viable(target):\n",
    "            target.receive(self.used)\n",
    "            target.used += data\n",
    "            self.used = 0\n",
    "            self.type = '_'\n",
    "            target.type = '.'\n",
    "\n",
    "    \n",
    "def parse(disk):\n",
    "    d = disk.replace('/dev/grid/node-', '')\n",
    "    d = [part for part in d.split(' ') if len(part) > 0]\n",
    "    \n",
    "    x = int(d[0].split('-')[0][1:])\n",
    "    y = int(d[0].split('-')[1][1:])\n",
    "    size = int(d[1][:-1])\n",
    "    used = int(d[2][:-1])\n",
    "    percent = int(d[4][:-1])\n",
    "    \n",
    "    return Disk(x,y,size,used,percent)\n",
    "  \n",
    "\n",
    "for line in s.split('\\n')[2:]:\n",
    "    disk = parse(line)\n",
    "    disks[(disk.x, disk.y)] = disk\n",
    "    \n",
    "viables = 0\n",
    "for disk1 in disks:\n",
    "    for disk2 in disks:\n",
    "        if disks[disk1].viable(disks[disk2]):\n",
    "            viables += 1\n",
    "        \n",
    "viables"
   ]
  },
  {
   "cell_type": "markdown",
   "metadata": {},
   "source": [
    "## Part 2"
   ]
  },
  {
   "cell_type": "code",
   "execution_count": 51,
   "metadata": {},
   "outputs": [
    {
     "data": {
      "text/plain": [
       "211"
      ]
     },
     "execution_count": 51,
     "metadata": {},
     "output_type": "execute_result"
    }
   ],
   "source": [
    "access = (0,0)\n",
    "target = (31, 0)\n",
    "\n",
    "for y in range(28):\n",
    "    for x in range(32):\n",
    "        if disks[(x,y)].type == '_':\n",
    "            empty = (x,y)\n",
    "        if disks[(x,y)].type == '#' and disks[(x-1,y)].type != '#':\n",
    "            corridor = (x-1,y)\n",
    "\n",
    "movements = 0\n",
    "movements += empty[0]-corridor[0]\n",
    "movements += empty[1]\n",
    "movements += target[0]-corridor[0]\n",
    "movements += 5*(target[0]-1)\n",
    "\n",
    "movements"
   ]
  },
  {
   "cell_type": "markdown",
   "metadata": {},
   "source": [
    "# Day 23"
   ]
  },
  {
   "cell_type": "markdown",
   "metadata": {},
   "source": [
    "## Part 1"
   ]
  },
  {
   "cell_type": "code",
   "execution_count": 87,
   "metadata": {},
   "outputs": [
    {
     "data": {
      "text/plain": [
       "11610"
      ]
     },
     "execution_count": 87,
     "metadata": {},
     "output_type": "execute_result"
    }
   ],
   "source": [
    "with open('inputs/day23.txt') as f:\n",
    "    s = f.read()\n",
    "    \n",
    "instructions = [i for i in s.split('\\n')[:-1]]\n",
    "registers = {'a': 7, 'b': 0, 'c': 0, 'd': 0}\n",
    "toggle = {'cpy': 'jnz', 'inc': 'dec', 'dec': 'inc', 'jnz': 'cpy', 'tgl': 'inc'}\n",
    "\n",
    "def cpy(x,y,i):\n",
    "    if x in registers:\n",
    "        value = registers[x]\n",
    "    else:\n",
    "        value = int(x)\n",
    "    if y in registers:\n",
    "        registers[y] = value\n",
    "    return i+1\n",
    "\n",
    "def inc(x,i):\n",
    "    if x in registers:\n",
    "        registers[x] += 1\n",
    "    return i+1\n",
    "\n",
    "def dec(x,i):\n",
    "    if x in registers:\n",
    "        registers[x] -= 1\n",
    "    return i+1\n",
    "\n",
    "def jnz(x,y,i):\n",
    "    if x in registers:\n",
    "        value = registers[x]\n",
    "    else:\n",
    "        value = int(x)\n",
    "    if y in registers:\n",
    "        jmp = registers[y]\n",
    "    else:\n",
    "        jmp = int(y)\n",
    "    if value != 0:\n",
    "        return i+jmp\n",
    "    else:\n",
    "        return i+1\n",
    "    \n",
    "def tgl(x,i):\n",
    "    if x in registers:\n",
    "        value = i+registers[x]\n",
    "    else:\n",
    "        value = i+int(x)\n",
    "    if value in range(len(instructions)):\n",
    "        inst = instructions[value].split(' ')[0]\n",
    "        instructions[value] = instructions[value].replace(inst, toggle[inst])\n",
    "    return i+1\n",
    "\n",
    "    \n",
    "def process(i):\n",
    "    inst = instructions[i]\n",
    "    if 'cpy' in inst:\n",
    "        return cpy(inst.split(' ')[1], inst.split(' ')[2], i)\n",
    "    if 'inc' in inst:\n",
    "        return inc(inst.split(' ')[1], i)\n",
    "    if 'dec' in inst:\n",
    "        return dec(inst.split(' ')[1], i)\n",
    "    if 'jnz' in inst:\n",
    "        return jnz(inst.split(' ')[1], inst.split(' ')[2], i)\n",
    "    if 'tgl' in inst:\n",
    "        return tgl(inst.split(' ')[1], i)\n",
    "\n",
    "i = 0\n",
    "while i in range(len(instructions)):\n",
    "    i = process(i)\n",
    "    \n",
    "registers['a']"
   ]
  },
  {
   "cell_type": "markdown",
   "metadata": {},
   "source": [
    "## Part 2"
   ]
  },
  {
   "cell_type": "code",
   "execution_count": 88,
   "metadata": {},
   "outputs": [
    {
     "data": {
      "text/plain": [
       "479008170"
      ]
     },
     "execution_count": 88,
     "metadata": {},
     "output_type": "execute_result"
    }
   ],
   "source": [
    "a = 12\n",
    "for i in range(1,12):\n",
    "    a *= i\n",
    "    \n",
    "c = int(instructions[19].split(' ')[1])\n",
    "d = int(instructions[20].split(' ')[1])\n",
    "    \n",
    "a + c*d"
   ]
  },
  {
   "cell_type": "markdown",
   "metadata": {},
   "source": [
    "# Day 24"
   ]
  },
  {
   "cell_type": "markdown",
   "metadata": {},
   "source": [
    "## Part 1"
   ]
  },
  {
   "cell_type": "code",
   "execution_count": 153,
   "metadata": {},
   "outputs": [
    {
     "data": {
      "text/plain": [
       "428"
      ]
     },
     "execution_count": 153,
     "metadata": {},
     "output_type": "execute_result"
    }
   ],
   "source": [
    "import queue\n",
    "\n",
    "with open('inputs/day24.txt') as f:\n",
    "    s = f.read()[:-1]\n",
    "    \n",
    "plan = [row for row in s.split('\\n')]\n",
    "objects = {}\n",
    "object_distances = {}\n",
    "\n",
    "for y in range(len(plan)):\n",
    "    for x in range(len(plan[0])):\n",
    "        if plan[y][x] not in '#.':\n",
    "            objects[plan[y][x]] = (x,y)\n",
    "\n",
    "def bfs(location):\n",
    "    (x,y,d) = location\n",
    "    if (x,y) not in distances:\n",
    "        distances[(x,y)] = d\n",
    "        if plan[y-1][x] != '#':\n",
    "            q.put((x,y-1,d+1))\n",
    "        if plan[y+1][x] != '#':\n",
    "            q.put((x,y+1,d+1))\n",
    "        if plan[y][x-1] != '#':\n",
    "            q.put((x-1,y,d+1))\n",
    "        if plan[y][x+1] != '#':\n",
    "            q.put((x+1,y,d+1))\n",
    "            \n",
    "for o in objects:\n",
    "    distances = {}            \n",
    "    q = queue.Queue()\n",
    "    q.put((objects[o][0],objects[o][1],0))\n",
    "    while not q.empty():\n",
    "        bfs(q.get())\n",
    "    \n",
    "    object_distances[o] = {}\n",
    "    for o1 in objects:\n",
    "        if o != o1:\n",
    "            object_distances[o][o1] = distances[objects[o1]] \n",
    "\n",
    "def permutations(l):\n",
    "    if len(l) == 1:\n",
    "        return [[l[0]]]\n",
    "    perms = [[[l[i]] + sub for sub in permutations([x for x in l if x != l[i]])] for i in range(len(l))]\n",
    "    return [item for sub in perms for item in sub]\n",
    "    \n",
    "def length(order):\n",
    "    a = 0\n",
    "    for i in range(len(order)-1):\n",
    "        a += object_distances[order[i]][order[i+1]]\n",
    "    return a\n",
    "\n",
    "perms = [p for p in permutations(list(objects)) if p[0] == '0']\n",
    "\n",
    "min_length = None\n",
    "for p in perms:\n",
    "    l = length(p)\n",
    "    if min_length is None or l < min_length:\n",
    "        min_length = l\n",
    "        \n",
    "min_length"
   ]
  },
  {
   "cell_type": "markdown",
   "metadata": {},
   "source": [
    "## Part 2"
   ]
  },
  {
   "cell_type": "code",
   "execution_count": 154,
   "metadata": {},
   "outputs": [
    {
     "data": {
      "text/plain": [
       "680"
      ]
     },
     "execution_count": 154,
     "metadata": {},
     "output_type": "execute_result"
    }
   ],
   "source": [
    "perms = [p+['0'] for p in permutations(list(objects)) if p[0] == '0']\n",
    "\n",
    "min_length = None\n",
    "for p in perms:\n",
    "    l = length(p)\n",
    "    if min_length is None or l < min_length:\n",
    "        min_length = l\n",
    "        \n",
    "min_length"
   ]
  },
  {
   "cell_type": "markdown",
   "metadata": {},
   "source": [
    "# Day 25"
   ]
  },
  {
   "cell_type": "code",
   "execution_count": 174,
   "metadata": {},
   "outputs": [
    {
     "data": {
      "text/plain": [
       "198"
      ]
     },
     "execution_count": 174,
     "metadata": {},
     "output_type": "execute_result"
    }
   ],
   "source": [
    "with open('inputs/day25.txt') as f:\n",
    "    s = f.read()\n",
    "    \n",
    "instructions = [i for i in s.split('\\n')[:-1]]\n",
    "registers = {'a': 0, 'b': 0, 'c': 0, 'd': 0, 'next_signal': 0, 'count': 10}\n",
    "\n",
    "def cpy(x,y,i):\n",
    "    if x in registers:\n",
    "        value = registers[x]\n",
    "    else:\n",
    "        value = int(x)\n",
    "    if y in registers:\n",
    "        registers[y] = value\n",
    "    return i+1\n",
    "\n",
    "def inc(x,i):\n",
    "    if x in registers:\n",
    "        registers[x] += 1\n",
    "    return i+1\n",
    "\n",
    "def dec(x,i):\n",
    "    if x in registers:\n",
    "        registers[x] -= 1\n",
    "    return i+1\n",
    "\n",
    "def jnz(x,y,i):\n",
    "    if x in registers:\n",
    "        value = registers[x]\n",
    "    else:\n",
    "        value = int(x)\n",
    "    if y in registers:\n",
    "        jmp = registers[y]\n",
    "    else:\n",
    "        jmp = int(y)\n",
    "    if value != 0:\n",
    "        return i+jmp\n",
    "    else:\n",
    "        return i+1\n",
    "\n",
    "def out(x,i):\n",
    "    if x in registers:\n",
    "        value = registers[x]\n",
    "    else:\n",
    "        value = int(x)\n",
    "    if value == registers['next_signal']:\n",
    "        registers['next_signal'] = 1-registers['next_signal']\n",
    "        registers['count'] -= 1\n",
    "        if registers['count'] > 0:\n",
    "            return i+1\n",
    "        else:\n",
    "            return -1\n",
    "    else:\n",
    "        return -1\n",
    "\n",
    "\n",
    "def process(i):\n",
    "    inst = instructions[i]\n",
    "    if 'cpy' in inst:\n",
    "        return cpy(inst.split(' ')[1], inst.split(' ')[2], i)\n",
    "    if 'inc' in inst:\n",
    "        return inc(inst.split(' ')[1], i)\n",
    "    if 'dec' in inst:\n",
    "        return dec(inst.split(' ')[1], i)\n",
    "    if 'jnz' in inst:\n",
    "        return jnz(inst.split(' ')[1], inst.split(' ')[2], i)\n",
    "    if 'out' in inst:\n",
    "        return out(inst.split(' ')[1], i)\n",
    "\n",
    "def init(value):\n",
    "    registers['a'] = value\n",
    "    registers['b'] = 0\n",
    "    registers['c'] = 0\n",
    "    registers['d'] = 0\n",
    "    registers['next_signal'] = 0\n",
    "    registers['count'] = 10\n",
    "    \n",
    "i = 0\n",
    "while i in range(len(instructions)):\n",
    "    i = process(i)\n",
    "    \n",
    "a = 0\n",
    "while registers['count'] != 0:\n",
    "    a += 1\n",
    "    init(a)\n",
    "    i = 0\n",
    "    while i in range(len(instructions)):\n",
    "        i = process(i)\n",
    "\n",
    "a"
   ]
  }
 ],
 "metadata": {
  "kernelspec": {
   "display_name": "Python 3",
   "language": "python",
   "name": "python3"
  },
  "language_info": {
   "codemirror_mode": {
    "name": "ipython",
    "version": 3
   },
   "file_extension": ".py",
   "mimetype": "text/x-python",
   "name": "python",
   "nbconvert_exporter": "python",
   "pygments_lexer": "ipython3",
   "version": "3.7.4"
  }
 },
 "nbformat": 4,
 "nbformat_minor": 2
}
