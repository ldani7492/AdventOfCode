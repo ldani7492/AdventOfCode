{
 "cells": [
  {
   "cell_type": "markdown",
   "metadata": {},
   "source": [
    "# Day 1"
   ]
  },
  {
   "cell_type": "markdown",
   "metadata": {},
   "source": [
    "## Part 1"
   ]
  },
  {
   "cell_type": "code",
   "execution_count": 5,
   "metadata": {},
   "outputs": [
    {
     "data": {
      "text/plain": [
       "1228"
      ]
     },
     "execution_count": 5,
     "metadata": {},
     "output_type": "execute_result"
    }
   ],
   "source": [
    "with open('inputs/day1.txt') as f:\n",
    "    s = f.read()[:-1]\n",
    "    \n",
    "a = 0\n",
    "for i in range(len(s)):\n",
    "    if s[i] == s[(i+1)%len(s)]:\n",
    "        a += int(s[i])\n",
    "        \n",
    "a"
   ]
  },
  {
   "cell_type": "markdown",
   "metadata": {},
   "source": [
    "## Part 2"
   ]
  },
  {
   "cell_type": "code",
   "execution_count": 7,
   "metadata": {},
   "outputs": [
    {
     "data": {
      "text/plain": [
       "1238"
      ]
     },
     "execution_count": 7,
     "metadata": {},
     "output_type": "execute_result"
    }
   ],
   "source": [
    "a = 0\n",
    "for i in range(len(s)):\n",
    "    if s[i] == s[(i+len(s)//2)%len(s)]:\n",
    "        a += int(s[i])\n",
    "        \n",
    "a"
   ]
  },
  {
   "cell_type": "markdown",
   "metadata": {},
   "source": [
    "# Day 2"
   ]
  },
  {
   "cell_type": "markdown",
   "metadata": {},
   "source": [
    "## Part 1"
   ]
  },
  {
   "cell_type": "code",
   "execution_count": 11,
   "metadata": {},
   "outputs": [
    {
     "data": {
      "text/plain": [
       "30994"
      ]
     },
     "execution_count": 11,
     "metadata": {},
     "output_type": "execute_result"
    }
   ],
   "source": [
    "with open('inputs/day2.txt') as f:\n",
    "    s = f.read()[:-1]\n",
    "    \n",
    "data = [[int(num) for num in row.split('\\t')] for row in s.split('\\n')]\n",
    "sums = [max(row)-min(row) for row in data]\n",
    "\n",
    "sum(sums)"
   ]
  },
  {
   "cell_type": "markdown",
   "metadata": {},
   "source": [
    "## Part 2"
   ]
  },
  {
   "cell_type": "code",
   "execution_count": 13,
   "metadata": {},
   "outputs": [
    {
     "data": {
      "text/plain": [
       "233"
      ]
     },
     "execution_count": 13,
     "metadata": {},
     "output_type": "execute_result"
    }
   ],
   "source": [
    "divs = []\n",
    "for row in data:\n",
    "    for a in row:\n",
    "        for b in row:\n",
    "            if a != b and a % b == 0:\n",
    "                divs.append(a//b)\n",
    "                \n",
    "sum(divs)"
   ]
  },
  {
   "cell_type": "markdown",
   "metadata": {},
   "source": [
    "# Day 3"
   ]
  },
  {
   "cell_type": "markdown",
   "metadata": {},
   "source": [
    "## Part 1"
   ]
  },
  {
   "cell_type": "code",
   "execution_count": 95,
   "metadata": {},
   "outputs": [
    {
     "data": {
      "text/plain": [
       "371"
      ]
     },
     "execution_count": 95,
     "metadata": {},
     "output_type": "execute_result"
    }
   ],
   "source": [
    "port = 368078\n",
    "\n",
    "def coords(port):\n",
    "    square_size = 1\n",
    "    while (square_size+2)**2 <= port:\n",
    "        square_size += 2\n",
    "        \n",
    "    if square_size**2 == port:\n",
    "        return (square_size//2, -(square_size//2))\n",
    "        \n",
    "    i = 0\n",
    "    while (square_size)**2 + (i+1)*(square_size+1) <= port:\n",
    "        i += 1\n",
    "    d = port - ((square_size)**2 + i*(square_size+1))\n",
    "    if i == 0:\n",
    "        x = square_size//2 + 1\n",
    "        y = -(square_size//2 + 1) + d\n",
    "\n",
    "    if i == 1:\n",
    "        y = square_size//2 + 1\n",
    "        x = square_size//2 + 1 - d\n",
    "\n",
    "    if i == 2:\n",
    "        x = -(square_size//2) - 1\n",
    "        y = square_size//2 + 1 - d\n",
    "\n",
    "    if i == 3:\n",
    "        y = -(square_size//2) - 1\n",
    "        x = -(square_size//2) - 1 + d\n",
    "        \n",
    "    return(x,y)\n",
    "\n",
    "c = coords(port)\n",
    "\n",
    "abs(x)+abs(y)"
   ]
  },
  {
   "cell_type": "markdown",
   "metadata": {},
   "source": [
    "## Part 2"
   ]
  },
  {
   "cell_type": "code",
   "execution_count": 103,
   "metadata": {},
   "outputs": [
    {
     "data": {
      "text/plain": [
       "369601"
      ]
     },
     "execution_count": 103,
     "metadata": {},
     "output_type": "execute_result"
    }
   ],
   "source": [
    "values = {(0,0): 1}\n",
    "\n",
    "def value(coords):\n",
    "    (x,y) = coords\n",
    "    return sum([values.get((x+xd,y+yd),0)for xd in range(-1,1+1) for yd in range(-1,1+1) if not (xd == 0 and yd == 0)])\n",
    "\n",
    "v = 1\n",
    "p = 1\n",
    "while v <= port:\n",
    "    p += 1\n",
    "    c = coords(p)\n",
    "    v = value(c)\n",
    "    values[c] = v\n",
    "    \n",
    "v"
   ]
  },
  {
   "cell_type": "markdown",
   "metadata": {},
   "source": [
    "# Day 4"
   ]
  },
  {
   "cell_type": "markdown",
   "metadata": {},
   "source": [
    "## Part 1"
   ]
  },
  {
   "cell_type": "code",
   "execution_count": 106,
   "metadata": {},
   "outputs": [
    {
     "data": {
      "text/plain": [
       "455"
      ]
     },
     "execution_count": 106,
     "metadata": {},
     "output_type": "execute_result"
    }
   ],
   "source": [
    "with open('inputs/day4.txt') as f:\n",
    "    s = f.read()[:-1]\n",
    "    \n",
    "phrases = [phrase for phrase in s.split('\\n')]\n",
    "\n",
    "def valid(phrase):\n",
    "    words = [word for word in phrase.split(' ')]\n",
    "    word_set = set(words)\n",
    "    return len(words) == len(word_set)\n",
    "\n",
    "sum([1 for phrase in phrases if valid(phrase)])"
   ]
  },
  {
   "cell_type": "markdown",
   "metadata": {},
   "source": [
    "## Part 2"
   ]
  },
  {
   "cell_type": "code",
   "execution_count": 112,
   "metadata": {},
   "outputs": [
    {
     "data": {
      "text/plain": [
       "186"
      ]
     },
     "execution_count": 112,
     "metadata": {},
     "output_type": "execute_result"
    }
   ],
   "source": [
    "def valid(phrase):\n",
    "    words = []\n",
    "    for word in phrase.split(' '):\n",
    "        w = list(word)\n",
    "        w.sort()\n",
    "        words.append(''.join(w))\n",
    "    word_set = set(words)\n",
    "    return len(words) == len(word_set)\n",
    "\n",
    "sum([1 for phrase in phrases if valid(phrase)])"
   ]
  },
  {
   "cell_type": "markdown",
   "metadata": {},
   "source": [
    "# Day 5"
   ]
  },
  {
   "cell_type": "markdown",
   "metadata": {},
   "source": [
    "## Part 1"
   ]
  },
  {
   "cell_type": "code",
   "execution_count": 116,
   "metadata": {},
   "outputs": [
    {
     "data": {
      "text/plain": [
       "375042"
      ]
     },
     "execution_count": 116,
     "metadata": {},
     "output_type": "execute_result"
    }
   ],
   "source": [
    "with open('inputs/day5.txt') as f:\n",
    "    s = f.read()[:-1]\n",
    "    \n",
    "instructions = [int(i) for i in s.split('\\n')]\n",
    "\n",
    "i = 0\n",
    "steps = 0\n",
    "while i in range(len(instructions)):\n",
    "    j = i + instructions[i]\n",
    "    instructions[i] += 1\n",
    "    i = j\n",
    "    steps += 1\n",
    "    \n",
    "steps"
   ]
  },
  {
   "cell_type": "markdown",
   "metadata": {},
   "source": [
    "## Part 2"
   ]
  },
  {
   "cell_type": "code",
   "execution_count": 117,
   "metadata": {},
   "outputs": [
    {
     "data": {
      "text/plain": [
       "28707598"
      ]
     },
     "execution_count": 117,
     "metadata": {},
     "output_type": "execute_result"
    }
   ],
   "source": [
    "instructions = [int(i) for i in s.split('\\n')]\n",
    "\n",
    "i = 0\n",
    "steps = 0\n",
    "while i in range(len(instructions)):\n",
    "    j = i + instructions[i]\n",
    "    if instructions[i] >= 3:\n",
    "        instructions[i] -= 1\n",
    "    else:\n",
    "        instructions[i] += 1\n",
    "    i = j\n",
    "    steps += 1\n",
    "    \n",
    "steps"
   ]
  },
  {
   "cell_type": "markdown",
   "metadata": {},
   "source": [
    "# Day 6"
   ]
  },
  {
   "cell_type": "markdown",
   "metadata": {},
   "source": [
    "## Part 1"
   ]
  },
  {
   "cell_type": "code",
   "execution_count": 134,
   "metadata": {},
   "outputs": [
    {
     "data": {
      "text/plain": [
       "14029"
      ]
     },
     "execution_count": 134,
     "metadata": {},
     "output_type": "execute_result"
    }
   ],
   "source": [
    "with open('inputs/day6.txt') as f:\n",
    "    s = f.read()[:-1]\n",
    "    \n",
    "mem = [int(m) for m in s.split('\\t')]\n",
    "states = set()\n",
    "\n",
    "def max_blocks(mem):\n",
    "    max_b = 0\n",
    "    for i in range(len(mem)):\n",
    "        if mem[i] > mem[max_b]:\n",
    "            max_b = i\n",
    "    return max_b\n",
    "\n",
    "def distribute(mem,d):\n",
    "    i = mem[d]\n",
    "    mem[d] = 0\n",
    "    while i != 0:\n",
    "        mem[(d+i)%len(mem)] += 1\n",
    "        i -= 1\n",
    "\n",
    "cycles = 0\n",
    "while tuple(mem) not in states:      \n",
    "    states.add(tuple(mem))\n",
    "    cycles += 1\n",
    "    distribute(mem,max_blocks(mem))\n",
    "    \n",
    "cycles"
   ]
  },
  {
   "cell_type": "markdown",
   "metadata": {},
   "source": [
    "## Part 2"
   ]
  },
  {
   "cell_type": "code",
   "execution_count": 135,
   "metadata": {},
   "outputs": [
    {
     "data": {
      "text/plain": [
       "2765"
      ]
     },
     "execution_count": 135,
     "metadata": {},
     "output_type": "execute_result"
    }
   ],
   "source": [
    "states = set()\n",
    "\n",
    "cycles = 0\n",
    "while tuple(mem) not in states:      \n",
    "    states.add(tuple(mem))\n",
    "    cycles += 1\n",
    "    distribute(mem,max_blocks(mem))\n",
    "    \n",
    "cycles"
   ]
  },
  {
   "cell_type": "markdown",
   "metadata": {},
   "source": [
    "# Day 7"
   ]
  },
  {
   "cell_type": "markdown",
   "metadata": {},
   "source": [
    "## Part 1"
   ]
  },
  {
   "cell_type": "code",
   "execution_count": 216,
   "metadata": {},
   "outputs": [
    {
     "data": {
      "text/plain": [
       "{'xegshds': []}"
      ]
     },
     "execution_count": 216,
     "metadata": {},
     "output_type": "execute_result"
    }
   ],
   "source": [
    "with open('inputs/day7.txt') as f:\n",
    "    lines = f.read()[:-1].split('\\n')\n",
    "\n",
    "programs = {line.split(' ')[0]: ([p for p in line.split('-> ')[1].split(', ')] if '->' in line else []) for line in lines}\n",
    "    \n",
    "while len(programs) != 1:\n",
    "    top = [p for p in programs if len(programs[p]) == 0]\n",
    "    programs = {p:[p1 for p1 in programs[p] if p1 not in top] for p in programs if p not in top}\n",
    "        \n",
    "programs"
   ]
  },
  {
   "cell_type": "markdown",
   "metadata": {},
   "source": [
    "## Part 2"
   ]
  },
  {
   "cell_type": "code",
   "execution_count": 223,
   "metadata": {},
   "outputs": [
    {
     "data": {
      "text/plain": [
       "299"
      ]
     },
     "execution_count": 223,
     "metadata": {},
     "output_type": "execute_result"
    }
   ],
   "source": [
    "programs = {line.split(' ')[0]: ([p for p in line.split('-> ')[1].split(', ')] if '->' in line else []) for line in lines}\n",
    "weights = {line.split(' (')[0]: int(line.split(')')[0].split('(')[1]) for line in lines}\n",
    "\n",
    "stop = False\n",
    "\n",
    "def top_holding(p, top):\n",
    "    return p not in top and all([p1 in top for p1 in programs[p]])\n",
    "\n",
    "def balanced(p):\n",
    "    return len({weights[p1] for p1 in programs[p]}) == 1\n",
    "\n",
    "while not stop:\n",
    "    top = [p for p in programs if len(programs[p]) == 0]\n",
    "    thp = [p for p in programs if top_holding(p,top)]\n",
    "    for p in thp:\n",
    "        if not balanced(p):\n",
    "            stop = True\n",
    "            break\n",
    "    if not stop:\n",
    "        balanced_top = [p for p in thp if balanced(p)]\n",
    "        for p in balanced_top:\n",
    "            for p1 in programs[p]:\n",
    "                weights[p] += weights[p1]\n",
    "            programs[p] = []\n",
    "    \n",
    "balance = {p1:weights[p1] for p1 in programs[p]}\n",
    "\n",
    "weights = {line.split(' (')[0]: int(line.split(')')[0].split('(')[1]) for line in lines}\n",
    "weights['fabacam']-6"
   ]
  },
  {
   "cell_type": "markdown",
   "metadata": {},
   "source": [
    "# Day 8"
   ]
  },
  {
   "cell_type": "markdown",
   "metadata": {},
   "source": [
    "## Part 1"
   ]
  },
  {
   "cell_type": "code",
   "execution_count": 245,
   "metadata": {},
   "outputs": [
    {
     "data": {
      "text/plain": [
       "4416"
      ]
     },
     "execution_count": 245,
     "metadata": {},
     "output_type": "execute_result"
    }
   ],
   "source": [
    "with open('inputs/day8.txt') as f:\n",
    "    instructions = f.read()[:-1].split('\\n')\n",
    "    \n",
    "registers = {}\n",
    "    \n",
    "def value(r):\n",
    "    if r.isdigit() or r[1:].isdigit():\n",
    "        return int(r)\n",
    "    else:\n",
    "        return registers.get(r,0)\n",
    "    \n",
    "def eq(r0,r1):\n",
    "    return value(r0) == value(r1)\n",
    "\n",
    "def neq(r0,r1):\n",
    "    return value(r0) != value(r1)\n",
    "\n",
    "def lt(r0,r1):\n",
    "    return value(r0) < value(r1)\n",
    "\n",
    "def gt(r0,r1):\n",
    "    return value(r0) > value(r1)\n",
    "\n",
    "def lte(r0,r1):\n",
    "    return value(r0) <= value(r1)\n",
    "\n",
    "def gte(r0,r1):\n",
    "    return value(r0) >= value(r1)\n",
    "\n",
    "def inc(r,n):\n",
    "    registers[r] = value(r) + value(n)\n",
    "\n",
    "def dec(r,n):\n",
    "    registers[r] = value(r) - value(n)\n",
    "    \n",
    "def parse(instruction):\n",
    "    [command, condition] = instruction.split(' if ')\n",
    "    if '==' in condition:\n",
    "        cond = eq(condition.split(' == ')[0], condition.split(' == ')[1])\n",
    "    elif '!=' in condition:\n",
    "        cond = neq(condition.split(' != ')[0], condition.split(' != ')[1])\n",
    "    elif '<=' in condition:\n",
    "        cond = lte(condition.split(' <= ')[0], condition.split(' <= ')[1])\n",
    "    elif '>=' in condition:\n",
    "        cond = gte(condition.split(' >= ')[0], condition.split(' >= ')[1])\n",
    "    elif '<' in condition:\n",
    "        cond = lt(condition.split(' < ')[0], condition.split(' < ')[1])\n",
    "    elif '>' in condition:\n",
    "        cond = gt(condition.split(' > ')[0], condition.split(' > ')[1])\n",
    "        \n",
    "    if cond:\n",
    "        if 'inc' in command:\n",
    "            inc(command.split(' inc ')[0], command.split(' inc ')[1])\n",
    "        elif 'dec' in command:\n",
    "            dec(command.split(' dec ')[0], command.split(' dec ')[1])\n",
    "            \n",
    "for i in instructions:\n",
    "    parse(i)\n",
    "    \n",
    "max(registers.values())"
   ]
  },
  {
   "cell_type": "markdown",
   "metadata": {},
   "source": [
    "## Part 2"
   ]
  },
  {
   "cell_type": "code",
   "execution_count": 248,
   "metadata": {},
   "outputs": [
    {
     "data": {
      "text/plain": [
       "5199"
      ]
     },
     "execution_count": 248,
     "metadata": {},
     "output_type": "execute_result"
    }
   ],
   "source": [
    "registers = {}\n",
    "max_value = 4416\n",
    "\n",
    "def inspect(instruction):\n",
    "    global max_value\n",
    "    parse(instruction)\n",
    "    if value(instruction.split(' ')[0]) > max_value:\n",
    "        max_value = value(instruction.split(' ')[0])\n",
    "        \n",
    "for i in instructions:\n",
    "    inspect(i)\n",
    "    \n",
    "max_value"
   ]
  },
  {
   "cell_type": "markdown",
   "metadata": {},
   "source": [
    "# Day 9"
   ]
  },
  {
   "cell_type": "markdown",
   "metadata": {},
   "source": [
    "## Part 1"
   ]
  },
  {
   "cell_type": "code",
   "execution_count": 273,
   "metadata": {},
   "outputs": [
    {
     "data": {
      "text/plain": [
       "17390"
      ]
     },
     "execution_count": 273,
     "metadata": {},
     "output_type": "execute_result"
    }
   ],
   "source": [
    "with open('inputs/day9.txt') as f:\n",
    "    stream = f.read()[:-1]\n",
    "    \n",
    "score = 0\n",
    "depth = 0\n",
    "garbage = False\n",
    "\n",
    "i = 0\n",
    "while i in range(len(stream)):\n",
    "    c = stream[i]\n",
    "    if c == '!':\n",
    "        i += 1\n",
    "    elif garbage:\n",
    "        if c == '>':\n",
    "            garbage = False\n",
    "    else:\n",
    "        if c == '<':\n",
    "            garbage = True\n",
    "        elif c == '}':\n",
    "            depth -= 1\n",
    "        elif c == '{':\n",
    "            depth += 1\n",
    "            score += depth\n",
    "    i += 1\n",
    "            \n",
    "score"
   ]
  },
  {
   "cell_type": "markdown",
   "metadata": {},
   "source": [
    "## Part 2"
   ]
  },
  {
   "cell_type": "code",
   "execution_count": 274,
   "metadata": {},
   "outputs": [
    {
     "data": {
      "text/plain": [
       "7825"
      ]
     },
     "execution_count": 274,
     "metadata": {},
     "output_type": "execute_result"
    }
   ],
   "source": [
    "garbage = False\n",
    "garbage_count = 0\n",
    "\n",
    "i = 0\n",
    "while i in range(len(stream)):\n",
    "    c = stream[i]\n",
    "    if c == '!':\n",
    "        i += 1\n",
    "    elif garbage:\n",
    "        if c == '>':\n",
    "            garbage = False\n",
    "        else:\n",
    "            garbage_count += 1\n",
    "    elif c == '<':\n",
    "        garbage = True\n",
    "    i += 1\n",
    "    \n",
    "garbage_count"
   ]
  },
  {
   "cell_type": "markdown",
   "metadata": {},
   "source": [
    "# Day 10"
   ]
  },
  {
   "cell_type": "markdown",
   "metadata": {},
   "source": [
    "## Part 1"
   ]
  },
  {
   "cell_type": "code",
   "execution_count": 301,
   "metadata": {},
   "outputs": [
    {
     "data": {
      "text/plain": [
       "23874"
      ]
     },
     "execution_count": 301,
     "metadata": {},
     "output_type": "execute_result"
    }
   ],
   "source": [
    "with open('inputs/day10.txt') as f:\n",
    "    s = f.read()[:-1]\n",
    "\n",
    "lengths = [int(n) for n in s.split(',')]\n",
    "numbers = list(range(256))\n",
    "current = 0\n",
    "skip = 0\n",
    "\n",
    "def tie(numbers, current, length):\n",
    "    rev = [numbers[(current+i)%len(numbers)] for i in range(length-1,-1,-1)]\n",
    "    if current + length < len(numbers):\n",
    "        return numbers[0:current] + rev + numbers[current+length:]\n",
    "    else:\n",
    "        rem = (current + length) % len(numbers)\n",
    "        return rev[length-rem:] + numbers[rem:current] + rev[:length-rem]\n",
    "    \n",
    "def step(numbers, current, skip, length):\n",
    "    numbers = tie(numbers, current, length)\n",
    "    current = (current + length + skip)%len(numbers)\n",
    "    skip += 1\n",
    "    return (numbers, current, skip)\n",
    "\n",
    "for l in lengths:\n",
    "    (numbers, current, skip) = step(numbers, current, skip, l)\n",
    "    \n",
    "numbers[0]*numbers[1]"
   ]
  },
  {
   "cell_type": "markdown",
   "metadata": {},
   "source": [
    "## Part 2"
   ]
  },
  {
   "cell_type": "code",
   "execution_count": 329,
   "metadata": {
    "scrolled": true
   },
   "outputs": [
    {
     "data": {
      "text/plain": [
       "'e1a65bfb5a5ce396025fab5528c25a87'"
      ]
     },
     "execution_count": 329,
     "metadata": {},
     "output_type": "execute_result"
    }
   ],
   "source": [
    "lengths = [ord(c) for c in s] + [17, 31, 73, 47, 23]\n",
    "numbers = list(range(256))\n",
    "current = 0\n",
    "skip = 0\n",
    "\n",
    "for i in range(64):\n",
    "    for l in lengths:\n",
    "        (numbers, current, skip) = step(numbers, current, skip, l)\n",
    "\n",
    "def hexa(n):\n",
    "    h = hex(n).split('x')[-1]\n",
    "    if len(h) == 1:\n",
    "        h = '0' + h\n",
    "    return h\n",
    "\n",
    "def dense(group):\n",
    "    a = 0\n",
    "    for n in group:\n",
    "        a ^= n\n",
    "    return hexa(a)\n",
    "    \n",
    "dense_hash = ''.join([dense(numbers[i:i+16]) for i in range(0, len(numbers), 16)])\n",
    "dense_hash"
   ]
  },
  {
   "cell_type": "markdown",
   "metadata": {},
   "source": [
    "# Day 11"
   ]
  },
  {
   "cell_type": "markdown",
   "metadata": {},
   "source": [
    "## Part 1"
   ]
  },
  {
   "cell_type": "code",
   "execution_count": 342,
   "metadata": {},
   "outputs": [
    {
     "data": {
      "text/plain": [
       "747"
      ]
     },
     "execution_count": 342,
     "metadata": {},
     "output_type": "execute_result"
    }
   ],
   "source": [
    "with open('inputs/day11.txt') as f:\n",
    "    s = f.read()[:-1]\n",
    "\n",
    "path = s.split(',')\n",
    "pos = (0,0,0)\n",
    "directions = {'n': (0,1,-1), 's': (0,-1,1), 'ne': (1,0,-1), 'sw': (-1,0,1), 'nw': (-1,1,0), 'se': (1,-1,0)}\n",
    "\n",
    "for step in path:\n",
    "    pos = (pos[0] + directions[step][0], pos[1] + directions[step][1], pos[2] + directions[step][2])\n",
    "    \n",
    "def dist(pos):\n",
    "    return (abs(pos[0]) + abs(pos[1]) + abs(pos[2]))//2\n",
    "    \n",
    "dist(pos)"
   ]
  },
  {
   "cell_type": "markdown",
   "metadata": {},
   "source": [
    "## Part 2"
   ]
  },
  {
   "cell_type": "code",
   "execution_count": 344,
   "metadata": {},
   "outputs": [
    {
     "data": {
      "text/plain": [
       "1544"
      ]
     },
     "execution_count": 344,
     "metadata": {},
     "output_type": "execute_result"
    }
   ],
   "source": [
    "max_dist = 0\n",
    "pos = (0,0,0)\n",
    "\n",
    "for step in path:\n",
    "    pos = (pos[0] + directions[step][0], pos[1] + directions[step][1], pos[2] + directions[step][2])\n",
    "    d = dist(pos)\n",
    "    if d > max_dist:\n",
    "        max_dist = d\n",
    "    \n",
    "max_dist"
   ]
  },
  {
   "cell_type": "markdown",
   "metadata": {},
   "source": [
    "# Day 12"
   ]
  },
  {
   "cell_type": "markdown",
   "metadata": {},
   "source": [
    "## Part 1"
   ]
  },
  {
   "cell_type": "code",
   "execution_count": 372,
   "metadata": {},
   "outputs": [
    {
     "data": {
      "text/plain": [
       "175"
      ]
     },
     "execution_count": 372,
     "metadata": {},
     "output_type": "execute_result"
    }
   ],
   "source": [
    "import queue\n",
    "\n",
    "with open('inputs/day12.txt') as f:\n",
    "    s = f.read()[:-1]\n",
    "    \n",
    "pipes = {int(p.split(' <-> ')[0]): [int(prog) for prog in p.split(' <-> ')[1].split(', ')] for p in s.split('\\n')}\n",
    "\n",
    "def discover_group(origo):\n",
    "    group = set()\n",
    "    q = queue.Queue()\n",
    "    q.put(origo)\n",
    "    while not q.empty():\n",
    "        p = q.get()\n",
    "        group.add(p)\n",
    "        for p1 in pipes[p]:\n",
    "            if p1 not in group:\n",
    "                q.put(p1)\n",
    "    return group\n",
    "            \n",
    "len(discover_group(0))"
   ]
  },
  {
   "cell_type": "markdown",
   "metadata": {},
   "source": [
    "## Part 2"
   ]
  },
  {
   "cell_type": "code",
   "execution_count": 373,
   "metadata": {},
   "outputs": [
    {
     "data": {
      "text/plain": [
       "213"
      ]
     },
     "execution_count": 373,
     "metadata": {},
     "output_type": "execute_result"
    }
   ],
   "source": [
    "pipes = {int(p.split(' <-> ')[0]): [int(prog) for prog in p.split(' <-> ')[1].split(', ')] for p in s.split('\\n')}\n",
    "\n",
    "groups = 0\n",
    "while len(pipes) > 0:\n",
    "    origo = next(iter(pipes))\n",
    "    group = discover_group(origo)\n",
    "    groups += 1\n",
    "    pipes = {p:pipes[p] for p in pipes if p not in group}\n",
    "    \n",
    "groups"
   ]
  },
  {
   "cell_type": "markdown",
   "metadata": {},
   "source": [
    "# Day 13"
   ]
  },
  {
   "cell_type": "markdown",
   "metadata": {},
   "source": [
    "## Part 1"
   ]
  },
  {
   "cell_type": "code",
   "execution_count": 394,
   "metadata": {},
   "outputs": [
    {
     "data": {
      "text/plain": [
       "1632"
      ]
     },
     "execution_count": 394,
     "metadata": {},
     "output_type": "execute_result"
    }
   ],
   "source": [
    "with open('inputs/day13.txt') as f:\n",
    "    s = f.read()[:-1]\n",
    "\n",
    "layers = {int(layer.split(': ')[0]): int(layer.split(': ')[1]) for layer in s.split('\\n')}\n",
    "\n",
    "sum([l*layers[l] for l in layers if l%(2*layers[l]-2) == 0])"
   ]
  },
  {
   "cell_type": "markdown",
   "metadata": {},
   "source": [
    "## Part 2"
   ]
  },
  {
   "cell_type": "code",
   "execution_count": 395,
   "metadata": {},
   "outputs": [
    {
     "data": {
      "text/plain": [
       "3834136"
      ]
     },
     "execution_count": 395,
     "metadata": {},
     "output_type": "execute_result"
    }
   ],
   "source": [
    "def severity(delay):\n",
    "    return sum([1 for l in layers if (delay+l)%(2*layers[l]-2) == 0])\n",
    "\n",
    "d = 0\n",
    "s = severity(d)\n",
    "while s != 0:\n",
    "    d += 1\n",
    "    s = severity(d)\n",
    "    \n",
    "d"
   ]
  },
  {
   "cell_type": "markdown",
   "metadata": {},
   "source": [
    "# Day 14"
   ]
  },
  {
   "cell_type": "markdown",
   "metadata": {},
   "source": [
    "## Part 1"
   ]
  },
  {
   "cell_type": "code",
   "execution_count": 36,
   "metadata": {},
   "outputs": [
    {
     "data": {
      "text/plain": [
       "8148"
      ]
     },
     "execution_count": 36,
     "metadata": {},
     "output_type": "execute_result"
    }
   ],
   "source": [
    "key = 'vbqugkhl'\n",
    "\n",
    "def tie(numbers, current, length):\n",
    "    rev = [numbers[(current+i)%len(numbers)] for i in range(length-1,-1,-1)]\n",
    "    if current + length < len(numbers):\n",
    "        return numbers[0:current] + rev + numbers[current+length:]\n",
    "    else:\n",
    "        rem = (current + length) % len(numbers)\n",
    "        return rev[length-rem:] + numbers[rem:current] + rev[:length-rem]\n",
    "    \n",
    "def step(numbers, current, skip, length):\n",
    "    numbers = tie(numbers, current, length)\n",
    "    current = (current + length + skip)%len(numbers)\n",
    "    skip += 1\n",
    "    return (numbers, current, skip)\n",
    "\n",
    "def hexa(n):\n",
    "    h = hex(n).split('x')[-1]\n",
    "    if len(h) == 1:\n",
    "        h = '0' + h\n",
    "    return h\n",
    "\n",
    "def dense(group):\n",
    "    a = 0\n",
    "    for n in group:\n",
    "        a ^= n\n",
    "    return hexa(a)\n",
    "    \n",
    "def knot_hash(key):\n",
    "    current = 0\n",
    "    skip = 0\n",
    "    numbers = list(range(256))\n",
    "    lengths = [ord(c) for c in key] + [17, 31, 73, 47, 23]\n",
    "    \n",
    "    for i in range(64):\n",
    "        for l in lengths:\n",
    "            (numbers, current, skip) = step(numbers, current, skip, l)\n",
    "            \n",
    "    dense_hash = ''.join([dense(numbers[i:i+16]) for i in range(0, len(numbers), 16)])\n",
    "    return dense_hash\n",
    "\n",
    "def binary(h):\n",
    "    if h.isdigit():\n",
    "        h = int(h)\n",
    "    else:\n",
    "        h = 10 + ord(h) - ord('a')\n",
    "    b = bin(h).split('b')[-1]\n",
    "    b = '0'*(4-len(b)) + b\n",
    "    return b\n",
    "\n",
    "def hex_string_to_bin(h):\n",
    "    return ''.join([binary(c) for c in h])\n",
    "\n",
    "grid = [hex_string_to_bin(knot_hash(key + '-' + str(i))) for i in range(128)]\n",
    "\n",
    "count = 0\n",
    "for g in grid:\n",
    "    count += g.count('1')\n",
    "    \n",
    "count"
   ]
  },
  {
   "cell_type": "markdown",
   "metadata": {},
   "source": [
    "## Part 2"
   ]
  },
  {
   "cell_type": "code",
   "execution_count": 47,
   "metadata": {},
   "outputs": [
    {
     "data": {
      "text/plain": [
       "1180"
      ]
     },
     "execution_count": 47,
     "metadata": {},
     "output_type": "execute_result"
    }
   ],
   "source": [
    "import queue\n",
    "\n",
    "visited = set()\n",
    "groups = 0\n",
    "set_bits = {(x,y) for y in range(len(grid)) for x in range(len(grid[0])) if grid[y][x] == '1'}\n",
    "\n",
    "def bfs(coords,q):    \n",
    "    visited.add(coords)\n",
    "    (x,y) = coords\n",
    "    if (x,y-1) in set_bits and (x,y-1) not in visited:\n",
    "        q.put((x,y-1))\n",
    "    if (x,y+1) in set_bits and (x,y+1) not in visited:\n",
    "        q.put((x,y+1))\n",
    "    if (x-1,y) in set_bits and (x-1,y) not in visited:\n",
    "        q.put((x-1,y))\n",
    "    if (x+1,y) in set_bits and (x+1,y) not in visited:\n",
    "        q.put((x+1,y))\n",
    "\n",
    "for b in set_bits:\n",
    "    if b not in visited:\n",
    "        groups += 1\n",
    "        q = queue.Queue()\n",
    "        q.put(b)\n",
    "        while not q.empty():\n",
    "            bfs(q.get(),q)\n",
    "            \n",
    "groups"
   ]
  },
  {
   "cell_type": "markdown",
   "metadata": {},
   "source": [
    "# Day 15"
   ]
  },
  {
   "cell_type": "markdown",
   "metadata": {},
   "source": [
    "## Part 1"
   ]
  },
  {
   "cell_type": "code",
   "execution_count": 55,
   "metadata": {},
   "outputs": [
    {
     "data": {
      "text/plain": [
       "577"
      ]
     },
     "execution_count": 55,
     "metadata": {},
     "output_type": "execute_result"
    }
   ],
   "source": [
    "v_a = 618\n",
    "v_b = 814\n",
    "\n",
    "def gen_a(v):\n",
    "    return (v*16807)%2147483647\n",
    "\n",
    "def gen_b(v):\n",
    "    return (v*48271)%2147483647\n",
    "\n",
    "def match(a,b):\n",
    "    return bin(a)[-16:] == bin(b)[-16:]\n",
    "\n",
    "matches = 0\n",
    "for i in range(40000000):\n",
    "    v_a = gen_a(v_a)\n",
    "    v_b = gen_b(v_b)\n",
    "    if match(v_a, v_b):\n",
    "        matches += 1\n",
    "        \n",
    "matches"
   ]
  },
  {
   "cell_type": "markdown",
   "metadata": {},
   "source": [
    "## Part 2"
   ]
  },
  {
   "cell_type": "code",
   "execution_count": 62,
   "metadata": {},
   "outputs": [
    {
     "data": {
      "text/plain": [
       "316"
      ]
     },
     "execution_count": 62,
     "metadata": {},
     "output_type": "execute_result"
    }
   ],
   "source": [
    "v_a = 618\n",
    "v_b = 814\n",
    "\n",
    "def gen_a(v):\n",
    "    v = (v*16807)%2147483647\n",
    "    while v % 4 != 0:\n",
    "        v = (v*16807)%2147483647\n",
    "    return v\n",
    "\n",
    "def gen_b(v):\n",
    "    v = (v*48271)%2147483647\n",
    "    while v % 8 != 0:\n",
    "        v = (v*48271)%2147483647\n",
    "    return v\n",
    "\n",
    "matches = 0\n",
    "for i in range(5000000):\n",
    "    v_a = gen_a(v_a)\n",
    "    v_b = gen_b(v_b)\n",
    "    if match(v_a, v_b):\n",
    "        matches += 1\n",
    "        \n",
    "matches"
   ]
  },
  {
   "cell_type": "markdown",
   "metadata": {},
   "source": [
    "# Day 16"
   ]
  },
  {
   "cell_type": "markdown",
   "metadata": {},
   "source": [
    "## Part 1"
   ]
  },
  {
   "cell_type": "code",
   "execution_count": 115,
   "metadata": {},
   "outputs": [
    {
     "data": {
      "text/plain": [
       "'cgpfhdnambekjiol'"
      ]
     },
     "execution_count": 115,
     "metadata": {},
     "output_type": "execute_result"
    }
   ],
   "source": [
    "with open('inputs/day16.txt') as f:\n",
    "    s = f.read()[:-1]\n",
    "    \n",
    "moves = s.split(',')\n",
    "programs = ''.join([chr(ord('a')+i) for i in range(16)])\n",
    "states = {}\n",
    "\n",
    "def spin(x,programs):\n",
    "    x = int(x)\n",
    "    return programs[-x:] + programs[:len(programs)-x]\n",
    "\n",
    "def exchange(x,y,programs):\n",
    "    x = int(x)\n",
    "    y = int(y)\n",
    "    a = min([x,y])\n",
    "    b = max([x,y])\n",
    "    return programs[:a] + programs[b] + programs[a+1:b] + programs[a] + programs[b+1:]\n",
    "\n",
    "def partner(x,y,programs):\n",
    "    x_i = programs.index(x)\n",
    "    y_i = programs.index(y)\n",
    "    return exchange(x_i,y_i,programs)\n",
    "\n",
    "def move(m,programs):\n",
    "    if (programs,m) in states:\n",
    "        return states[(programs,m)]\n",
    "    \n",
    "    if m[0] == 's':\n",
    "        result = spin(m[1:],programs)\n",
    "    if m[0] == 'x':\n",
    "        params = m[1:].split('/')\n",
    "        result = exchange(params[0],params[1],programs)\n",
    "    if m[0] == 'p':\n",
    "        params = m[1:].split('/')\n",
    "        result = partner(params[0],params[1],programs)\n",
    "        \n",
    "    states[(programs,m)] = result\n",
    "    return result\n",
    "    \n",
    "for m in moves:\n",
    "    programs = move(m,programs)\n",
    "    \n",
    "programs"
   ]
  },
  {
   "cell_type": "markdown",
   "metadata": {},
   "source": [
    "## Part 2"
   ]
  },
  {
   "cell_type": "code",
   "execution_count": 124,
   "metadata": {},
   "outputs": [
    {
     "data": {
      "text/plain": [
       "'gjmiofcnaehpdlbk'"
      ]
     },
     "execution_count": 124,
     "metadata": {},
     "output_type": "execute_result"
    }
   ],
   "source": [
    "programs = ''.join([chr(ord('a')+i) for i in range(16)])\n",
    "states = {}\n",
    "starting_states = {}\n",
    "cycle_start = None\n",
    "cycle_length = 0\n",
    "cycle_finished = False\n",
    "\n",
    "c = 0\n",
    "\n",
    "i = 1000000000\n",
    "while i in range(1,1000000000+1):\n",
    "    if programs in starting_states:\n",
    "        if cycle_start is None:\n",
    "            cycle_start = programs\n",
    "            cycle_length += 1\n",
    "        else:\n",
    "            if programs == cycle_start:\n",
    "                cycle_finished = True\n",
    "                i %= cycle_length\n",
    "            elif not cycle_finished:\n",
    "                cycle_length += 1\n",
    "        programs = starting_states[programs]\n",
    "    else:\n",
    "        start = programs\n",
    "        for m in moves:\n",
    "            programs = move(m,programs)\n",
    "        starting_states[start] = programs\n",
    "    i -= 1\n",
    "    \n",
    "programs"
   ]
  },
  {
   "cell_type": "markdown",
   "metadata": {},
   "source": [
    "# Day 17"
   ]
  },
  {
   "cell_type": "markdown",
   "metadata": {},
   "source": [
    "## Part 1"
   ]
  },
  {
   "cell_type": "code",
   "execution_count": 159,
   "metadata": {},
   "outputs": [
    {
     "data": {
      "text/plain": [
       "1547"
      ]
     },
     "execution_count": 159,
     "metadata": {},
     "output_type": "execute_result"
    }
   ],
   "source": [
    "steps = 369\n",
    "\n",
    "spinlock = [0]\n",
    "pos = 0\n",
    "\n",
    "for i in range(2017):\n",
    "    pos = (pos + steps) % (i+1)\n",
    "    pos += 1\n",
    "    spinlock.insert(pos, i+1)\n",
    "    \n",
    "spinlock[pos+1]"
   ]
  },
  {
   "cell_type": "markdown",
   "metadata": {},
   "source": [
    "## Part 2"
   ]
  },
  {
   "cell_type": "code",
   "execution_count": 161,
   "metadata": {},
   "outputs": [
    {
     "data": {
      "text/plain": [
       "31154878"
      ]
     },
     "execution_count": 161,
     "metadata": {},
     "output_type": "execute_result"
    }
   ],
   "source": [
    "steps = 369\n",
    "pos = 0\n",
    "\n",
    "i1 = 0\n",
    "for i in range(1,50000000+1):\n",
    "    pos = (pos + steps) % (i)\n",
    "    pos += 1\n",
    "    if pos == 1:\n",
    "        i1 = i\n",
    "\n",
    "i1"
   ]
  },
  {
   "cell_type": "markdown",
   "metadata": {},
   "source": [
    "# Day 18"
   ]
  },
  {
   "cell_type": "markdown",
   "metadata": {},
   "source": [
    "## Part 1"
   ]
  },
  {
   "cell_type": "code",
   "execution_count": 3,
   "metadata": {},
   "outputs": [
    {
     "name": "stdout",
     "output_type": "stream",
     "text": [
      "2951\n"
     ]
    }
   ],
   "source": [
    "with open('inputs/day18.txt') as f:\n",
    "    s = f.read()[:-1]\n",
    "    \n",
    "instructions = s.split('\\n')\n",
    "registers = {}\n",
    "last_played = 0\n",
    "\n",
    "def read(x):\n",
    "    if x.isdigit() or x[1:].isdigit():\n",
    "        return int(x)\n",
    "    else:\n",
    "        return registers.get(x,0)\n",
    "\n",
    "def snd(x):\n",
    "    global last_played\n",
    "    last_played = read(x)\n",
    "    \n",
    "def set_r(x,y):\n",
    "    registers[x] = read(y)\n",
    "    \n",
    "def add(x,y):\n",
    "    registers[x] = read(x) + read(y)\n",
    "    \n",
    "def mul(x,y):\n",
    "    registers[x] = read(x) * read(y)\n",
    "    \n",
    "def mod(x,y):\n",
    "    registers[x] = read(x) % read(y)\n",
    "    \n",
    "def rcv(x):\n",
    "    if read(x) != 0 and last_played != 0:\n",
    "        print(last_played)\n",
    "        return len(instructions)+1\n",
    "    return 1\n",
    "        \n",
    "def jgz(x,y):\n",
    "    return read(y) if read(x) > 0 else 1\n",
    "        \n",
    "def process(instruction):\n",
    "    if 'snd' in instruction:\n",
    "        snd(instruction.split(' ')[1])\n",
    "        return 1\n",
    "    if 'set' in instruction:\n",
    "        set_r(instruction.split(' ')[1], instruction.split(' ')[2])\n",
    "        return 1\n",
    "    if 'add' in instruction:\n",
    "        add(instruction.split(' ')[1], instruction.split(' ')[2])\n",
    "        return 1\n",
    "    if 'mul' in instruction:\n",
    "        mul(instruction.split(' ')[1], instruction.split(' ')[2])\n",
    "        return 1\n",
    "    if 'mod' in instruction:\n",
    "        mod(instruction.split(' ')[1], instruction.split(' ')[2])\n",
    "        return 1\n",
    "    if 'rcv' in instruction:\n",
    "        return rcv(instruction.split(' ')[1])\n",
    "    if 'jgz' in instruction:\n",
    "        return jgz(instruction.split(' ')[1], instruction.split(' ')[2])\n",
    "\n",
    "i = 0\n",
    "while i in range(len(instructions)):\n",
    "    i += process(instructions[i])\n"
   ]
  },
  {
   "cell_type": "markdown",
   "metadata": {},
   "source": [
    "## Part 2"
   ]
  },
  {
   "cell_type": "code",
   "execution_count": 19,
   "metadata": {},
   "outputs": [
    {
     "data": {
      "text/plain": [
       "7366"
      ]
     },
     "execution_count": 19,
     "metadata": {},
     "output_type": "execute_result"
    }
   ],
   "source": [
    "import queue\n",
    "import threading\n",
    "\n",
    "class Program:\n",
    "    def __init__(self, pid, instructions):\n",
    "        self.pid = pid\n",
    "        self.queue = queue.Queue()\n",
    "        self.registers = {}\n",
    "        self.registers['p'] = pid\n",
    "        self.instructions = instructions\n",
    "        self.send_count = 0\n",
    "        self.finished = False\n",
    "        self.waiting = False\n",
    "        \n",
    "    def connect(self, program):\n",
    "        self.target = program\n",
    "        \n",
    "             \n",
    "    def read(self, x):\n",
    "        if x.isdigit() or x[1:].isdigit():\n",
    "            return int(x)\n",
    "        else:\n",
    "            return self.registers.get(x,0)\n",
    "\n",
    "    def snd(self, x):\n",
    "        self.send_count += 1\n",
    "        self.target.queue.put(self.read(x))\n",
    "        \n",
    "    def set_r(self, x,y):\n",
    "        self.registers[x] = self.read(y)\n",
    "\n",
    "    def add(self, x,y):\n",
    "        self.registers[x] = self.read(x) + self.read(y)\n",
    "\n",
    "    def mul(self, x,y):\n",
    "        self.registers[x] = self.read(x) * self.read(y)\n",
    "\n",
    "    def mod(self, x,y):\n",
    "        self.registers[x] = self.read(x) % self.read(y)\n",
    "\n",
    "    def rcv(self, x):\n",
    "        self.waiting = True\n",
    "        if self.target.waiting and self.queue.qsize() == 0 and self.target.queue.qsize() == 0:\n",
    "            self.target.finished = True\n",
    "            self.finished = True\n",
    "            self.send_count -= 1\n",
    "            self.snd('-1')\n",
    "        else:\n",
    "            self.registers[x] = self.queue.get()\n",
    "        self.waiting = False\n",
    "        \n",
    "    def jgz(self, x,y):\n",
    "        return self.read(y) if self.read(x) > 0 else 1\n",
    "\n",
    "    def process(self, instruction):\n",
    "        if 'snd' in instruction:\n",
    "            self.snd(instruction.split(' ')[1])\n",
    "            return 1\n",
    "        if 'set' in instruction:\n",
    "            self.set_r(instruction.split(' ')[1], instruction.split(' ')[2])\n",
    "            return 1\n",
    "        if 'add' in instruction:\n",
    "            self.add(instruction.split(' ')[1], instruction.split(' ')[2])\n",
    "            return 1\n",
    "        if 'mul' in instruction:\n",
    "            self.mul(instruction.split(' ')[1], instruction.split(' ')[2])\n",
    "            return 1\n",
    "        if 'mod' in instruction:\n",
    "            self.mod(instruction.split(' ')[1], instruction.split(' ')[2])\n",
    "            return 1\n",
    "        if 'rcv' in instruction:\n",
    "            self.rcv(instruction.split(' ')[1])\n",
    "            return 1\n",
    "        if 'jgz' in instruction:\n",
    "            return self.jgz(instruction.split(' ')[1], instruction.split(' ')[2])\n",
    "        \n",
    "    def execute(self):\n",
    "        self.finished = False\n",
    "        i = 0\n",
    "        while i in range(len(self.instructions)) and not self.finished:\n",
    "            i += self.process(self.instructions[i])\n",
    "        self.finished = True\n",
    "            \n",
    "    def start(self):\n",
    "        self.thread = threading.Thread(target = self.execute)\n",
    "        self.thread.start()\n",
    "        return self.thread\n",
    "            \n",
    "p0 = Program(0,instructions)\n",
    "p1 = Program(1,instructions)\n",
    "\n",
    "p0.connect(p1)\n",
    "p1.connect(p0)\n",
    "\n",
    "t0 = p0.start()\n",
    "t1 = p1.start()\n",
    "\n",
    "t0.join()\n",
    "t1.join()\n",
    "\n",
    "p1.send_count"
   ]
  },
  {
   "cell_type": "markdown",
   "metadata": {},
   "source": [
    "# Day 19"
   ]
  },
  {
   "cell_type": "markdown",
   "metadata": {},
   "source": [
    "## Part 1"
   ]
  },
  {
   "cell_type": "code",
   "execution_count": 35,
   "metadata": {},
   "outputs": [
    {
     "data": {
      "text/plain": [
       "'HATBMQJYZ'"
      ]
     },
     "execution_count": 35,
     "metadata": {},
     "output_type": "execute_result"
    }
   ],
   "source": [
    "with open('inputs/day19.txt') as f:\n",
    "    s = f.read()[:-1]\n",
    "    \n",
    "diagram = s.split('\\n')\n",
    "road = {'|','+','-'}\n",
    "directions = {(0,-1), (0,1), (-1,0), (1,0)}\n",
    "\n",
    "location = (diagram[0].index('|'), 0)\n",
    "direction = (0,1)\n",
    "collected = []\n",
    "\n",
    "def move(location, direction):\n",
    "    if diagram[location[1]+direction[1]][location[0]+direction[0]] != ' ':\n",
    "        return ((location[0]+direction[0], location[1]+direction[1]), direction)\n",
    "    else:\n",
    "        dirs = [d for d in directions if d != direction and d != (-direction[0], -direction[1])]\n",
    "        if diagram[location[1]+dirs[0][1]][location[0]+dirs[0][0]] != ' ':\n",
    "            return (location, dirs[0])\n",
    "        elif diagram[location[1]+dirs[1][1]][location[0]+dirs[1][0]] != ' ':\n",
    "            return (location, dirs[1])\n",
    "        else:\n",
    "            return (location, direction)\n",
    "        \n",
    "(l,d) = move(location, direction)\n",
    "while (l,d) != (location, direction):\n",
    "    (location, direction) = (l,d)\n",
    "    if diagram[location[1]][location[0]] not in road:\n",
    "        collected.append(diagram[location[1]][location[0]])\n",
    "    (l,d) = move(location, direction)\n",
    "    \n",
    "''.join(collected)"
   ]
  },
  {
   "cell_type": "markdown",
   "metadata": {},
   "source": [
    "## Part 2"
   ]
  },
  {
   "cell_type": "code",
   "execution_count": 36,
   "metadata": {},
   "outputs": [
    {
     "data": {
      "text/plain": [
       "16332"
      ]
     },
     "execution_count": 36,
     "metadata": {},
     "output_type": "execute_result"
    }
   ],
   "source": [
    "steps = 1\n",
    "\n",
    "location = (diagram[0].index('|'), 0)\n",
    "direction = (0,1)\n",
    "\n",
    "def move(location, direction):\n",
    "    global steps\n",
    "    if diagram[location[1]+direction[1]][location[0]+direction[0]] != ' ':\n",
    "        steps += 1\n",
    "        return ((location[0]+direction[0], location[1]+direction[1]), direction)\n",
    "    else:\n",
    "        dirs = [d for d in directions if d != direction and d != (-direction[0], -direction[1])]\n",
    "        if diagram[location[1]+dirs[0][1]][location[0]+dirs[0][0]] != ' ':\n",
    "            return (location, dirs[0])\n",
    "        elif diagram[location[1]+dirs[1][1]][location[0]+dirs[1][0]] != ' ':\n",
    "            return (location, dirs[1])\n",
    "        else:\n",
    "            return (location, direction)\n",
    "        \n",
    "(l,d) = move(location, direction)\n",
    "while (l,d) != (location, direction):\n",
    "    (location, direction) = (l,d)\n",
    "    (l,d) = move(location, direction)\n",
    "    \n",
    "steps"
   ]
  },
  {
   "cell_type": "markdown",
   "metadata": {},
   "source": [
    "# Day 20"
   ]
  },
  {
   "cell_type": "markdown",
   "metadata": {},
   "source": [
    "## Part 1"
   ]
  },
  {
   "cell_type": "code",
   "execution_count": 83,
   "metadata": {},
   "outputs": [
    {
     "data": {
      "text/plain": [
       "457"
      ]
     },
     "execution_count": 83,
     "metadata": {},
     "output_type": "execute_result"
    }
   ],
   "source": [
    "with open('inputs/day20.txt') as f:\n",
    "    s = f.read()[:-1]\n",
    "\n",
    "class Particle:\n",
    "    def __init__(self,p,v,a):\n",
    "        self.px = p[0]\n",
    "        self.py = p[1]\n",
    "        self.pz = p[2]\n",
    "        self.vx = v[0]\n",
    "        self.vy = v[1]\n",
    "        self.vz = v[2]\n",
    "        self.ax = a[0]\n",
    "        self.ay = a[1]\n",
    "        self.az = a[2]\n",
    "        \n",
    "    def __repr__(self):\n",
    "        return 'p=<{},{},{}>, v=<{},{},{}>, a=<{},{},{}>'.format(self.px, self.py, self.pz, self.vx, self.vy, self.vz, self.ax, self.ay, self.az)\n",
    "    \n",
    "    def move(self):\n",
    "        self.vx += self.ax\n",
    "        self.vy += self.ay\n",
    "        self.vz += self.az\n",
    "        self.px += self.vx\n",
    "        self.py += self.vy\n",
    "        self.pz += self.vz\n",
    "        \n",
    "    def distance(self):\n",
    "        return abs(self.px) + abs(self.py) + abs(self.pz)\n",
    "    \n",
    "    def position(self):\n",
    "        return (self.px, self.py, self.pz)\n",
    "    \n",
    "    def collides(self, other):\n",
    "        return self.position() == other.position()\n",
    "    \n",
    "def parse(string):\n",
    "    values = [[int(v) for v in p.split('>')[0].split(',')] for p in string.split('<')[1:]]\n",
    "    return Particle(values[0], values[1], values[2])\n",
    "        \n",
    "particles = {p[0]: parse(p[1]) for p in enumerate(s.split('\\n'))}\n",
    "\n",
    "closest = min(particles, key=lambda p: particles[p].distance())\n",
    "dist_count = 1000\n",
    "\n",
    "while dist_count != 0:\n",
    "    for p in particles:\n",
    "        particles[p].move()\n",
    "    c = min(particles, key=lambda p: particles[p].distance())\n",
    "    if c == closest:\n",
    "        dist_count -= 1\n",
    "    else:\n",
    "        closest = c\n",
    "        dist_count = 1000\n",
    "\n",
    "closest"
   ]
  },
  {
   "cell_type": "markdown",
   "metadata": {},
   "source": [
    "## Part 2"
   ]
  },
  {
   "cell_type": "code",
   "execution_count": 84,
   "metadata": {},
   "outputs": [
    {
     "data": {
      "text/plain": [
       "448"
      ]
     },
     "execution_count": 84,
     "metadata": {},
     "output_type": "execute_result"
    }
   ],
   "source": [
    "particles = {p[0]: parse(p[1]) for p in enumerate(s.split('\\n'))}\n",
    "\n",
    "def collisions(particles):\n",
    "    coll = set()\n",
    "    for p0 in particles:\n",
    "        for p1 in particles:\n",
    "            if p0 != p1 and particles[p0].collides(particles[p1]):\n",
    "                coll.add(p0)\n",
    "                coll.add(p1)\n",
    "    return coll\n",
    "\n",
    "coll_count = 1000\n",
    "while coll_count != 0:\n",
    "    coll = collisions(particles)\n",
    "    if len(coll) == 0:\n",
    "        coll_count -= 1\n",
    "    else:\n",
    "        particles = {p: particles[p] for p in particles if p not in coll}\n",
    "        coll_count = 1000\n",
    "    for p in particles:\n",
    "        particles[p].move()\n",
    "        \n",
    "len(particles)"
   ]
  },
  {
   "cell_type": "markdown",
   "metadata": {},
   "source": [
    "# Day 21"
   ]
  },
  {
   "cell_type": "markdown",
   "metadata": {},
   "source": [
    "## Part 1"
   ]
  },
  {
   "cell_type": "code",
   "execution_count": 65,
   "metadata": {
    "scrolled": true
   },
   "outputs": [
    {
     "data": {
      "text/plain": [
       "139"
      ]
     },
     "execution_count": 65,
     "metadata": {},
     "output_type": "execute_result"
    }
   ],
   "source": [
    "import math\n",
    "\n",
    "with open('inputs/day21.txt') as f:\n",
    "    s = f.read()[:-1]\n",
    "    \n",
    "rotations = {2: {(0,0): (1,0), \n",
    "                 (1,0): (1,1), \n",
    "                 (1,1): (0,1), \n",
    "                 (0,1): (0,0)},\n",
    "             3: {(0,0): (2,0), \n",
    "                 (2,0): (2,2), \n",
    "                 (2,2): (0,2), \n",
    "                 (0,2): (0,0),\n",
    "                 (1,1): (1,1),\n",
    "                 (1,0): (2,1),\n",
    "                 (2,1): (1,2),\n",
    "                 (1,2): (0,1),\n",
    "                 (0,1): (1,0)}}\n",
    "\n",
    "init = [['.','#','.'],['.','.','#'],['#','#','#']]\n",
    "\n",
    "def squarify(string):\n",
    "    return [list(s) for s in string.split('/')]\n",
    "\n",
    "def stringify(square):\n",
    "    return '/'.join([''.join(row) for row in square])\n",
    "\n",
    "def rotate(square):\n",
    "    r = rotations[len(square)]\n",
    "    return [[square[r[(x,y)][1]][r[(x,y)][0]] for x in range(len(square))] for y in range(len(square))]\n",
    "    \n",
    "def flip(square):\n",
    "    return [[square[y][len(square)-1-x] for x in range(len(square))] for y in range(len(square))]\n",
    "\n",
    "def congruents(square):\n",
    "    c = {stringify(square)}\n",
    "    s = square\n",
    "    for i in range(3):\n",
    "        s = rotate(s)\n",
    "        c.add(stringify(s))\n",
    "    s = flip(square)\n",
    "    c.add(stringify(s))\n",
    "    for i in range(3):\n",
    "        s = rotate(s)\n",
    "        c.add(stringify(s))\n",
    "    return c\n",
    "\n",
    "transformations = {t.split(' => ')[0]: t.split(' => ')[1] for t in s.split('\\n')}\n",
    "t_all = {}\n",
    "for t in transformations:\n",
    "    for c in congruents(squarify(t)):\n",
    "        t_all[c] = transformations[t]\n",
    "        \n",
    "transformations = t_all\n",
    "\n",
    "def transform(square):\n",
    "    square_size = len(square)\n",
    "    if square_size % 2 == 0:\n",
    "        squares = [[[square[y][x],  square[y][x+1]], \\\n",
    "                    [square[y+1][x],square[y+1][x+1]]] \\\n",
    "                   for y in range(0,square_size,2) for x in range(0,square_size,2)]\n",
    "        square_size = 3\n",
    "    elif square_size % 3 == 0:\n",
    "        squares = [[[square[y][x],square[y][x+1],square[y][x+2]], \\\n",
    "                    [square[y+1][x],square[y+1][x+1],square[y+1][x+2]], \\\n",
    "                    [square[y+2][x],square[y+2][x+1],square[y+2][x+2]]] \\\n",
    "                   for y in range(0,square_size,3) for x in range(0,square_size,3)]\n",
    "        square_size = 4\n",
    "    separated = [squarify(transformations[stringify(s)]) for s in squares]\n",
    "    square_width = int(math.sqrt(len(separated)))\n",
    "    result = []\n",
    "    for x in range(0,len(separated),square_width):\n",
    "        for y in range(square_size):\n",
    "            row = []\n",
    "            for i in range(square_width):\n",
    "                row += separated[x+i][y]\n",
    "            result.append(row)\n",
    "    return result\n",
    "\n",
    "square = init\n",
    "for i in range(5):\n",
    "    square = transform(square)\n",
    "\n",
    "sum([row.count('#') for row in square])"
   ]
  },
  {
   "cell_type": "markdown",
   "metadata": {},
   "source": [
    "## Part 2"
   ]
  },
  {
   "cell_type": "code",
   "execution_count": 66,
   "metadata": {},
   "outputs": [
    {
     "data": {
      "text/plain": [
       "1857134"
      ]
     },
     "execution_count": 66,
     "metadata": {},
     "output_type": "execute_result"
    }
   ],
   "source": [
    "square = init\n",
    "for i in range(18):\n",
    "    square = transform(square)\n",
    "\n",
    "sum([row.count('#') for row in square])"
   ]
  },
  {
   "cell_type": "markdown",
   "metadata": {},
   "source": [
    "# Day 22"
   ]
  },
  {
   "cell_type": "markdown",
   "metadata": {},
   "source": [
    "## Part 1"
   ]
  },
  {
   "cell_type": "code",
   "execution_count": 186,
   "metadata": {},
   "outputs": [
    {
     "data": {
      "text/plain": [
       "5182"
      ]
     },
     "execution_count": 186,
     "metadata": {},
     "output_type": "execute_result"
    }
   ],
   "source": [
    "with open('inputs/day22.txt') as f:\n",
    "    s = f.read()[:-1].split('\\n')\n",
    "    \n",
    "grid = {(x-len(s[0])//2, y-len(s)//2): s[y][x] for x in range(len(s[0])) for y in range(len(s))}\n",
    "directions = {'u': (0,-1), 'd': (0,1), 'l':(-1,0), 'r': (1,0)}\n",
    "dir_list = ['u', 'r', 'd', 'l']\n",
    "\n",
    "position = (0,0)\n",
    "direction = 'u'\n",
    "infections = 0\n",
    "\n",
    "def left(direction):\n",
    "    return dir_list[(dir_list.index(direction) - 1) % 4]\n",
    "\n",
    "def right(direction):\n",
    "    return dir_list[(dir_list.index(direction) + 1) % 4]\n",
    "    \n",
    "def move(position, direction):\n",
    "    return (position[0]+directions[direction][0], position[1]+directions[direction][1])\n",
    "    \n",
    "def burst(position, direction):\n",
    "    global infections\n",
    "    current = grid.get(position, '.')\n",
    "    if current == '#':\n",
    "        direction = right(direction)\n",
    "        grid[position] = '.'\n",
    "    else:\n",
    "        infections += 1\n",
    "        direction = left(direction)\n",
    "        grid[position] = '#'\n",
    "    position = move(position, direction)\n",
    "    return (position, direction)\n",
    "\n",
    "for i in range(10000):\n",
    "    (position, direction) = burst(position, direction)\n",
    "    \n",
    "infections"
   ]
  },
  {
   "cell_type": "markdown",
   "metadata": {},
   "source": [
    "## Part 2"
   ]
  },
  {
   "cell_type": "code",
   "execution_count": 189,
   "metadata": {},
   "outputs": [
    {
     "data": {
      "text/plain": [
       "2512008"
      ]
     },
     "execution_count": 189,
     "metadata": {},
     "output_type": "execute_result"
    }
   ],
   "source": [
    "grid = {(x-len(s[0])//2, y-len(s)//2): s[y][x] for x in range(len(s[0])) for y in range(len(s))}\n",
    "position = (0,0)\n",
    "direction = 'u'\n",
    "states = ['.', 'W', '#', 'F']\n",
    "infections = 0\n",
    "\n",
    "def next_state(state):\n",
    "    return states[(states.index(state) + 1) % 4]\n",
    "\n",
    "def burst(position, direction):\n",
    "    global infections\n",
    "    current = grid.get(position, '.')\n",
    "    if current == '.':\n",
    "        direction = left(direction)\n",
    "    elif current == 'W':\n",
    "        infections += 1\n",
    "    elif current == '#':\n",
    "        direction = right(direction)\n",
    "    elif current == 'F':\n",
    "        direction = left(left(direction))\n",
    "    grid[position] = next_state(current)\n",
    "    position = move(position, direction)\n",
    "    return (position, direction)\n",
    "\n",
    "for i in range(10000000):\n",
    "    (position, direction) = burst(position, direction)\n",
    "    \n",
    "infections"
   ]
  },
  {
   "cell_type": "markdown",
   "metadata": {},
   "source": [
    "# Day 23"
   ]
  },
  {
   "cell_type": "markdown",
   "metadata": {},
   "source": [
    "## Part 1"
   ]
  },
  {
   "cell_type": "code",
   "execution_count": 268,
   "metadata": {},
   "outputs": [
    {
     "data": {
      "text/plain": [
       "5929"
      ]
     },
     "execution_count": 268,
     "metadata": {},
     "output_type": "execute_result"
    }
   ],
   "source": [
    "with open('inputs/day23.txt') as f:\n",
    "    instructions = f.read()[:-1].split('\\n')\n",
    "    \n",
    "class Program:\n",
    "    def __init__(self, instructions):\n",
    "        self.registers = {}\n",
    "        self.instructions = instructions\n",
    "        self.mul_count = 0      \n",
    "             \n",
    "    def read(self, x):\n",
    "        if x.isdigit() or x[1:].isdigit():\n",
    "            return int(x)\n",
    "        else:\n",
    "            return self.registers.get(x,0)\n",
    "        \n",
    "    def set_r(self, x,y):\n",
    "        self.registers[x] = self.read(y)\n",
    "\n",
    "    def sub(self, x,y):\n",
    "        self.registers[x] = self.read(x) - self.read(y)\n",
    "\n",
    "    def mul(self, x,y):\n",
    "        self.mul_count += 1\n",
    "        self.registers[x] = self.read(x) * self.read(y)\n",
    "\n",
    "    def jnz(self, x,y):\n",
    "        return self.read(y) if self.read(x) != 0 else 1\n",
    "\n",
    "    def process(self, instruction):\n",
    "        if 'set' in instruction:\n",
    "            self.set_r(instruction.split(' ')[1], instruction.split(' ')[2])\n",
    "            return 1\n",
    "        if 'sub' in instruction:\n",
    "            self.sub(instruction.split(' ')[1], instruction.split(' ')[2])\n",
    "            return 1\n",
    "        if 'mul' in instruction:\n",
    "            self.mul(instruction.split(' ')[1], instruction.split(' ')[2])\n",
    "            return 1\n",
    "        if 'jnz' in instruction:\n",
    "            return self.jnz(instruction.split(' ')[1], instruction.split(' ')[2])\n",
    "        \n",
    "    def execute(self):\n",
    "        i = 0\n",
    "        while i in range(len(self.instructions)):\n",
    "            i += self.process(self.instructions[i])\n",
    "            \n",
    "p = Program(instructions)\n",
    "p.execute()\n",
    "p.mul_count"
   ]
  },
  {
   "cell_type": "markdown",
   "metadata": {},
   "source": [
    "## Day 2"
   ]
  },
  {
   "cell_type": "code",
   "execution_count": 269,
   "metadata": {},
   "outputs": [
    {
     "data": {
      "text/plain": [
       "907"
      ]
     },
     "execution_count": 269,
     "metadata": {},
     "output_type": "execute_result"
    }
   ],
   "source": [
    "import math\n",
    "\n",
    "b = 79*100 + 100000\n",
    "c = b + 17000\n",
    "jump_size = 17\n",
    "h = 0\n",
    "\n",
    "for n in range(b,c+1,jump_size):\n",
    "    for d in range(2, int(math.sqrt(n))+1):\n",
    "        if n % d == 0:\n",
    "            h += 1\n",
    "            break\n",
    "            \n",
    "h"
   ]
  },
  {
   "cell_type": "markdown",
   "metadata": {},
   "source": [
    "# Day 24"
   ]
  },
  {
   "cell_type": "markdown",
   "metadata": {},
   "source": [
    "## Part 1"
   ]
  },
  {
   "cell_type": "code",
   "execution_count": 280,
   "metadata": {},
   "outputs": [
    {
     "data": {
      "text/plain": [
       "1511"
      ]
     },
     "execution_count": 280,
     "metadata": {},
     "output_type": "execute_result"
    }
   ],
   "source": [
    "with open('inputs/day24.txt') as f:\n",
    "    s = f.read()[:-1].split('\\n')\n",
    "    \n",
    "components = {(int(c.split('/')[0]), int(c.split('/')[1])): int(c.split('/')[0])+int(c.split('/')[1]) for c in s}\n",
    "    \n",
    "def build(available, next_port, value):\n",
    "    fitting = {c: available[c] for c in available if c[0] == next_port or c[1] == next_port}\n",
    "    if len(fitting) == 0:\n",
    "        return value\n",
    "    candidates = []\n",
    "    for c in fitting:\n",
    "        a = {comp: available[comp] for comp in available if comp != c}\n",
    "        if c[0] == next_port:\n",
    "            n = c[1]\n",
    "        else:\n",
    "            n = c[0]\n",
    "        v = value + fitting[c]\n",
    "        candidates.append(build(a,n,v))\n",
    "    return max(candidates)\n",
    "\n",
    "build(components, 0, 0)"
   ]
  },
  {
   "cell_type": "markdown",
   "metadata": {},
   "source": [
    "## Part 2"
   ]
  },
  {
   "cell_type": "code",
   "execution_count": 284,
   "metadata": {},
   "outputs": [
    {
     "data": {
      "text/plain": [
       "1471"
      ]
     },
     "execution_count": 284,
     "metadata": {},
     "output_type": "execute_result"
    }
   ],
   "source": [
    "def build(available, next_port, length, value):\n",
    "    fitting = {c: available[c] for c in available if c[0] == next_port or c[1] == next_port}\n",
    "    if len(fitting) == 0:\n",
    "        return (length, value)\n",
    "    candidates = []\n",
    "    for c in fitting:\n",
    "        a = {comp: available[comp] for comp in available if comp != c}\n",
    "        if c[0] == next_port:\n",
    "            n = c[1]\n",
    "        else:\n",
    "            n = c[0]\n",
    "        v = value + fitting[c]\n",
    "        candidates.append(build(a,n,length+1,v))\n",
    "    max_length = max(candidates, key=lambda c: c[0])\n",
    "    max_length_candidates = [c[1] for c in candidates if c[0] == max_length]\n",
    "    return max(candidates)\n",
    "\n",
    "build(components, 0, 0, 0)[1]"
   ]
  },
  {
   "cell_type": "markdown",
   "metadata": {},
   "source": [
    "# Day 25"
   ]
  },
  {
   "cell_type": "code",
   "execution_count": 293,
   "metadata": {},
   "outputs": [
    {
     "data": {
      "text/plain": [
       "3554"
      ]
     },
     "execution_count": 293,
     "metadata": {},
     "output_type": "execute_result"
    }
   ],
   "source": [
    "with open('inputs/day25.txt') as f:\n",
    "    s = f.read()[:-1].split('\\n')\n",
    "    \n",
    "steps = 12683008\n",
    "tape = {}\n",
    "cursor = 0\n",
    "state = 'A'\n",
    "\n",
    "def read(cursor):\n",
    "    return tape.get(cursor, 0)\n",
    "\n",
    "def a(cursor):\n",
    "    if read(cursor) == 0:\n",
    "        tape[cursor] = 1\n",
    "        return (cursor+1, 'B')\n",
    "    else:\n",
    "        tape[cursor] = 0\n",
    "        return (cursor-1, 'B')\n",
    "\n",
    "def b(cursor):\n",
    "    if read(cursor) == 0:\n",
    "        tape[cursor] = 1\n",
    "        return (cursor-1, 'C')\n",
    "    else:\n",
    "        tape[cursor] = 0\n",
    "        return (cursor+1, 'E')\n",
    "\n",
    "def c(cursor):\n",
    "    if read(cursor) == 0:\n",
    "        tape[cursor] = 1\n",
    "        return (cursor+1, 'E')\n",
    "    else:\n",
    "        tape[cursor] = 0\n",
    "        return (cursor-1, 'D')\n",
    "\n",
    "def d(cursor):\n",
    "    if read(cursor) == 0:\n",
    "        tape[cursor] = 1\n",
    "        return (cursor-1, 'A')\n",
    "    else:\n",
    "        tape[cursor] = 1\n",
    "        return (cursor-1, 'A')\n",
    "\n",
    "def e(cursor):\n",
    "    if read(cursor) == 0:\n",
    "        tape[cursor] = 0\n",
    "        return (cursor+1, 'A')\n",
    "    else:\n",
    "        tape[cursor] = 0\n",
    "        return (cursor+1, 'F')\n",
    "\n",
    "def f(cursor):\n",
    "    if read(cursor) == 0:\n",
    "        tape[cursor] = 1\n",
    "        return (cursor+1, 'E')\n",
    "    else:\n",
    "        tape[cursor] = 1\n",
    "        return (cursor+1, 'A')\n",
    "\n",
    "def step(cursor, state):\n",
    "    if state == 'A':\n",
    "        return a(cursor)\n",
    "    if state == 'B':\n",
    "        return b(cursor)\n",
    "    if state == 'C':\n",
    "        return c(cursor)\n",
    "    if state == 'D':\n",
    "        return d(cursor)\n",
    "    if state == 'E':\n",
    "        return e(cursor)\n",
    "    if state == 'F':\n",
    "        return f(cursor)\n",
    "\n",
    "for i in range(steps):\n",
    "    (cursor, state) = step(cursor, state)\n",
    "    \n",
    "sum(tape.values())"
   ]
  }
 ],
 "metadata": {
  "kernelspec": {
   "display_name": "Python 3",
   "language": "python",
   "name": "python3"
  },
  "language_info": {
   "codemirror_mode": {
    "name": "ipython",
    "version": 3
   },
   "file_extension": ".py",
   "mimetype": "text/x-python",
   "name": "python",
   "nbconvert_exporter": "python",
   "pygments_lexer": "ipython3",
   "version": "3.7.4"
  }
 },
 "nbformat": 4,
 "nbformat_minor": 2
}
