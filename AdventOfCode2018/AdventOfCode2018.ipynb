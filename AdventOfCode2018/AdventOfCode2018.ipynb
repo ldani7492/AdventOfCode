{
 "cells": [
  {
   "cell_type": "markdown",
   "metadata": {},
   "source": [
    "# Day 1"
   ]
  },
  {
   "cell_type": "markdown",
   "metadata": {},
   "source": [
    "## Part 1"
   ]
  },
  {
   "cell_type": "code",
   "execution_count": 6,
   "metadata": {},
   "outputs": [
    {
     "data": {
      "text/plain": [
       "525"
      ]
     },
     "execution_count": 6,
     "metadata": {},
     "output_type": "execute_result"
    }
   ],
   "source": [
    "with open('inputs/day1.txt') as f:\n",
    "    s = f.read()[:-1].split('\\n')\n",
    "    \n",
    "sum([int(n) for n in s])"
   ]
  },
  {
   "cell_type": "markdown",
   "metadata": {},
   "source": [
    "## Part 2"
   ]
  },
  {
   "cell_type": "code",
   "execution_count": 10,
   "metadata": {},
   "outputs": [
    {
     "data": {
      "text/plain": [
       "75749"
      ]
     },
     "execution_count": 10,
     "metadata": {},
     "output_type": "execute_result"
    }
   ],
   "source": [
    "seen = set()\n",
    "\n",
    "frequencies = [int(n) for n in s]\n",
    "\n",
    "i = 0\n",
    "f = 0\n",
    "while f not in seen:\n",
    "    seen.add(f)\n",
    "    f += frequencies[i%len(frequencies)]\n",
    "    i += 1\n",
    "    \n",
    "f"
   ]
  },
  {
   "cell_type": "markdown",
   "metadata": {},
   "source": [
    "# Day 2"
   ]
  },
  {
   "cell_type": "markdown",
   "metadata": {},
   "source": [
    "## Part 1"
   ]
  },
  {
   "cell_type": "code",
   "execution_count": 21,
   "metadata": {},
   "outputs": [
    {
     "data": {
      "text/plain": [
       "7350"
      ]
     },
     "execution_count": 21,
     "metadata": {},
     "output_type": "execute_result"
    }
   ],
   "source": [
    "with open('inputs/day2.txt') as f:\n",
    "    s = f.read()[:-1].split('\\n')\n",
    "\n",
    "twos = 0\n",
    "threes = 0\n",
    "for box in s:\n",
    "    two = False\n",
    "    three = False\n",
    "    for c in range(ord('a'), ord('z')+1):\n",
    "        count = box.count(chr(c))\n",
    "        if count == 2:\n",
    "            two = True\n",
    "        if count == 3:\n",
    "            three = True\n",
    "    if two:\n",
    "        twos += 1\n",
    "    if three:\n",
    "        threes += 1\n",
    "            \n",
    "twos*threes"
   ]
  },
  {
   "cell_type": "markdown",
   "metadata": {},
   "source": [
    "## Part 2"
   ]
  },
  {
   "cell_type": "code",
   "execution_count": 25,
   "metadata": {},
   "outputs": [
    {
     "data": {
      "text/plain": [
       "'wmlnjevbfodamyiqpucrhsukg'"
      ]
     },
     "execution_count": 25,
     "metadata": {},
     "output_type": "execute_result"
    }
   ],
   "source": [
    "def hamming(s1,s2):\n",
    "    d = 0\n",
    "    for i in range(len(s1)):\n",
    "        if s1[i] != s2[i]:\n",
    "            d += 1\n",
    "    return d\n",
    "\n",
    "for i in range(len(s)):\n",
    "    for j in range(i+1,len(s)):\n",
    "        if hamming(s[i],s[j]) == 1:\n",
    "            s1 = s[i]\n",
    "            s2 = s[j]\n",
    "            \n",
    "''.join([s1[i] for i in range(len(s1)) if s1[i] == s2[i]])"
   ]
  },
  {
   "cell_type": "markdown",
   "metadata": {},
   "source": [
    "# Day 3"
   ]
  },
  {
   "cell_type": "markdown",
   "metadata": {},
   "source": [
    "## Part 1"
   ]
  },
  {
   "cell_type": "code",
   "execution_count": 45,
   "metadata": {},
   "outputs": [
    {
     "data": {
      "text/plain": [
       "111935"
      ]
     },
     "execution_count": 45,
     "metadata": {},
     "output_type": "execute_result"
    }
   ],
   "source": [
    "with open('inputs/day3.txt') as f:\n",
    "    s = f.read()[:-1].split('\\n')\n",
    "    \n",
    "def parse(claim):\n",
    "    pos = claim.split('@ ')[1].split(':')[0]\n",
    "    pos = (int(pos.split(',')[0]), int(pos.split(',')[1]))\n",
    "    size = claim.split(': ')[-1]\n",
    "    size = (int(size.split('x')[0]), int(size.split('x')[1]))\n",
    "    return (pos, (pos[0]+size[0], pos[1]+size[1]))\n",
    "    \n",
    "claims = {parse(c): c.split(' ')[0][1:] for c in s}\n",
    "claimed = set()\n",
    "double_claimed = set()\n",
    "\n",
    "for c in claims:\n",
    "    for x in range(c[0][0], c[1][0]):\n",
    "        for y in range(c[0][1], c[1][1]):\n",
    "            if (x,y) in claimed:\n",
    "                double_claimed.add((x,y))\n",
    "            else:\n",
    "                claimed.add((x,y))\n",
    "            \n",
    "len(double_claimed)"
   ]
  },
  {
   "cell_type": "markdown",
   "metadata": {},
   "source": [
    "## Part 2"
   ]
  },
  {
   "cell_type": "code",
   "execution_count": 46,
   "metadata": {},
   "outputs": [
    {
     "data": {
      "text/plain": [
       "'650'"
      ]
     },
     "execution_count": 46,
     "metadata": {},
     "output_type": "execute_result"
    }
   ],
   "source": [
    "for c in claims:\n",
    "    match = True\n",
    "    for x in range(c[0][0], c[1][0]):\n",
    "        for y in range(c[0][1], c[1][1]):\n",
    "            if (x,y) in double_claimed:\n",
    "                match = False\n",
    "    if match:\n",
    "        break\n",
    "        \n",
    "claims[c]"
   ]
  },
  {
   "cell_type": "markdown",
   "metadata": {},
   "source": [
    "# Day 4"
   ]
  },
  {
   "cell_type": "markdown",
   "metadata": {},
   "source": [
    "## Part 1"
   ]
  },
  {
   "cell_type": "code",
   "execution_count": 70,
   "metadata": {},
   "outputs": [
    {
     "data": {
      "text/plain": [
       "8421"
      ]
     },
     "execution_count": 70,
     "metadata": {},
     "output_type": "execute_result"
    }
   ],
   "source": [
    "with open('inputs/day4.txt') as f:\n",
    "    s = f.read()[:-1].split('\\n')\n",
    "    \n",
    "s.sort()\n",
    "current_guard = None\n",
    "last_sleep = None\n",
    "last_wake = None\n",
    "sleeping = False\n",
    "shifts = {}\n",
    "\n",
    "def parse(entry):\n",
    "    global current_guard\n",
    "    global last_sleep\n",
    "    global last_wake\n",
    "    global sleeping\n",
    "    \n",
    "    minute = int(entry.split(':')[1].split(']')[0])\n",
    "    hour = int(entry.split(' ')[1].split(':')[0])\n",
    "    if hour != 0:\n",
    "        minute = 0\n",
    "    if 'Guard' in entry:\n",
    "        if sleeping:\n",
    "            for t in range(last_sleep, 60):\n",
    "                shifts[current_guard][len(shifts[current_guard])-1].append(t)\n",
    "        sleeping = False\n",
    "        \n",
    "        current_guard = int(entry.split('#')[1].split(' ')[0])\n",
    "        if current_guard not in shifts:\n",
    "            shifts[current_guard] = {}\n",
    "        shifts[current_guard][len(shifts[current_guard])] = []\n",
    "    else:\n",
    "        if 'asleep' in entry:\n",
    "            last_sleep = minute\n",
    "            sleeping = True\n",
    "        else:\n",
    "            sleeping = False\n",
    "            last_wake = minute\n",
    "            for t in range(last_sleep, last_wake):\n",
    "                shifts[current_guard][len(shifts[current_guard])-1].append(t)\n",
    "        \n",
    "for entry in s:\n",
    "    parse(entry)\n",
    "    \n",
    "sleeps = {guard: sum([len(shifts[guard][s]) for s in shifts[guard]]) for guard in shifts}\n",
    "most_sleeping = max(sleeps, key=sleeps.get)\n",
    "\n",
    "sleep_minutes = []\n",
    "for shift in shifts[most_sleeping]:\n",
    "    sleep_minutes += shifts[most_sleeping][shift]\n",
    "\n",
    "minute_sleep_count = [sleep_minutes.count(t) for t in range(60)]\n",
    "max_slept_minute = max(minute_sleep_count)\n",
    "most_slept_minute = minute_sleep_count.index(max_slept_minute)\n",
    "\n",
    "most_sleeping*most_slept_minute"
   ]
  },
  {
   "cell_type": "markdown",
   "metadata": {},
   "source": [
    "## Part 2"
   ]
  },
  {
   "cell_type": "code",
   "execution_count": 75,
   "metadata": {},
   "outputs": [
    {
     "data": {
      "text/plain": [
       "83359"
      ]
     },
     "execution_count": 75,
     "metadata": {},
     "output_type": "execute_result"
    }
   ],
   "source": [
    "frequencies = {}\n",
    "\n",
    "for guard in shifts:\n",
    "    sleep_minutes = []\n",
    "    for shift in shifts[guard]:\n",
    "        sleep_minutes += shifts[guard][shift]\n",
    "    frequencies[guard] = [sleep_minutes.count(t) for t in range(60)]\n",
    "    \n",
    "max_guard_minute = 0\n",
    "guard = 0\n",
    "minute = 0\n",
    "for g in frequencies:\n",
    "    for m in range(60):\n",
    "        if frequencies[g][m] > max_guard_minute:\n",
    "            max_guard_minute = frequencies[g][m]\n",
    "            guard = g\n",
    "            minute = m\n",
    "            \n",
    "guard*minute"
   ]
  },
  {
   "cell_type": "markdown",
   "metadata": {},
   "source": [
    "# Day 5"
   ]
  },
  {
   "cell_type": "markdown",
   "metadata": {},
   "source": [
    "## Part 1"
   ]
  },
  {
   "cell_type": "code",
   "execution_count": 108,
   "metadata": {},
   "outputs": [
    {
     "data": {
      "text/plain": [
       "11298"
      ]
     },
     "execution_count": 108,
     "metadata": {},
     "output_type": "execute_result"
    }
   ],
   "source": [
    "with open('inputs/day5.txt') as f:\n",
    "    s = f.read()[:-1]\n",
    "\n",
    "units = [chr(c) for c in range(ord('a'), ord('z')+1)]\n",
    "\n",
    "def react(s):\n",
    "    start = ''\n",
    "    result = s\n",
    "    while len(start) != len(result):\n",
    "        start = result\n",
    "        for u in units:\n",
    "            while u + u.upper() in result:\n",
    "                result = result.replace(u + u.upper(), '')\n",
    "            while u.upper() + u in result:\n",
    "                result = result.replace(u.upper() + u, '')\n",
    "    return result\n",
    "    \n",
    "len(react(s))"
   ]
  },
  {
   "cell_type": "markdown",
   "metadata": {},
   "source": [
    "## Part 2"
   ]
  },
  {
   "cell_type": "code",
   "execution_count": 109,
   "metadata": {},
   "outputs": [
    {
     "data": {
      "text/plain": [
       "5148"
      ]
     },
     "execution_count": 109,
     "metadata": {},
     "output_type": "execute_result"
    }
   ],
   "source": [
    "min_length = len(s)\n",
    "for u in units:\n",
    "    poly = ''.join([c for c in s if c != u and c != u.upper()])\n",
    "    result = react(poly)\n",
    "    if len(result) < min_length:\n",
    "        min_length = len(result)\n",
    "        \n",
    "min_length"
   ]
  },
  {
   "cell_type": "markdown",
   "metadata": {},
   "source": [
    "# Day 6"
   ]
  },
  {
   "cell_type": "markdown",
   "metadata": {},
   "source": [
    "## Part 1"
   ]
  },
  {
   "cell_type": "code",
   "execution_count": 24,
   "metadata": {
    "scrolled": true
   },
   "outputs": [
    {
     "data": {
      "text/plain": [
       "4060"
      ]
     },
     "execution_count": 24,
     "metadata": {},
     "output_type": "execute_result"
    }
   ],
   "source": [
    "import queue\n",
    "\n",
    "with open('inputs/day6.txt') as f:\n",
    "    s = f.read()[:-1].split('\\n')\n",
    "    \n",
    "coords = {i: (int(s[i].split(', ')[0]), int(s[i].split(', ')[1])) for i in range(len(s))}\n",
    "closest = {}\n",
    "\n",
    "limit = 10000\n",
    "\n",
    "def distances(coord):    \n",
    "    return {c: abs(coords[c][0]-coord[0]) + abs(coords[c][1]-coord[1]) for c in coords}\n",
    "\n",
    "def closest(coord):    \n",
    "    d = distances(coord)\n",
    "    min_d = min(d.values())\n",
    "    d = {c: d[c] for c in d if d[c] == min_d}\n",
    "    return next(iter(d)) if len(d) == 1 else -1\n",
    "    \n",
    "def bfs(source, coord, visited, matching, q):\n",
    "    if coord in visited:\n",
    "        return\n",
    "    \n",
    "    visited.add(coord)\n",
    "    \n",
    "    if closest(coord) == source:\n",
    "        matching.add(coord)\n",
    "\n",
    "        (x,y) = coord\n",
    "        if (x,y-1) not in visited:\n",
    "            q.put((x,y-1))\n",
    "        if (x,y+1) not in visited:\n",
    "            q.put((x,y+1))\n",
    "        if (x-1,y) not in visited:\n",
    "            q.put((x-1,y))\n",
    "        if (x+1,y) not in visited:\n",
    "            q.put((x+1,y))\n",
    "            \n",
    "def discover(source):\n",
    "    q = queue.Queue()\n",
    "    matching = set()\n",
    "    visited = set()\n",
    "    q.put(coords[source])\n",
    "    while not q.empty() and len(matching) < limit:\n",
    "        bfs(source, q.get(), visited, matching, q)\n",
    "    if not q.empty():\n",
    "        return -1\n",
    "    else:\n",
    "        return len(matching)\n",
    "    \n",
    "areas = {c: discover(c) for c in coords}\n",
    "\n",
    "max(areas.values())"
   ]
  },
  {
   "cell_type": "markdown",
   "metadata": {},
   "source": [
    "## Part 2"
   ]
  },
  {
   "cell_type": "code",
   "execution_count": 32,
   "metadata": {},
   "outputs": [
    {
     "data": {
      "text/plain": [
       "36136"
      ]
     },
     "execution_count": 32,
     "metadata": {},
     "output_type": "execute_result"
    }
   ],
   "source": [
    "matches = 0\n",
    "for x in range(500):\n",
    "    for y in range(500):\n",
    "        if sum(distances((x,y)).values()) < 10000:\n",
    "            matches += 1\n",
    "            \n",
    "matches"
   ]
  },
  {
   "cell_type": "markdown",
   "metadata": {},
   "source": [
    "# Day 7"
   ]
  },
  {
   "cell_type": "markdown",
   "metadata": {},
   "source": [
    "## Part 1"
   ]
  },
  {
   "cell_type": "code",
   "execution_count": 48,
   "metadata": {},
   "outputs": [
    {
     "data": {
      "text/plain": [
       "'FMOXCDGJRAUIHKNYZTESWLPBQV'"
      ]
     },
     "execution_count": 48,
     "metadata": {},
     "output_type": "execute_result"
    }
   ],
   "source": [
    "with open('inputs/day7.txt') as f:\n",
    "    s = f.read()[:-1].split('\\n')\n",
    "\n",
    "deps = [(d.split(' ')[1], d.split(' ')[-3]) for d in s]\n",
    "    \n",
    "dependencies = {}\n",
    "for dep in deps:\n",
    "    if dep[0] not in dependencies:\n",
    "        dependencies[dep[0]] = []\n",
    "    if dep[1] not in dependencies:\n",
    "        dependencies[dep[1]] = []\n",
    "    dependencies[dep[1]].append(dep[0])\n",
    "    \n",
    "order = []\n",
    "\n",
    "while len(dependencies) != len(order):\n",
    "    executable = [d for d in dependencies if len(dependencies[d]) == 0 and d not in order]\n",
    "    executable.sort()\n",
    "    e = executable[0]\n",
    "    order.append(e)\n",
    "    dependencies = {d: [d1 for d1 in dependencies[d] if d1!= e] for d in dependencies}\n",
    "    \n",
    "''.join(order)"
   ]
  },
  {
   "cell_type": "markdown",
   "metadata": {},
   "source": [
    "## Part 2"
   ]
  },
  {
   "cell_type": "code",
   "execution_count": 60,
   "metadata": {},
   "outputs": [
    {
     "data": {
      "text/plain": [
       "1053"
      ]
     },
     "execution_count": 60,
     "metadata": {},
     "output_type": "execute_result"
    }
   ],
   "source": [
    "finish_times = {}\n",
    "startable_time = {}\n",
    "free_workers = 5\n",
    "\n",
    "dependencies = {}\n",
    "for dep in deps:\n",
    "    if dep[0] not in dependencies:\n",
    "        dependencies[dep[0]] = []\n",
    "    if dep[1] not in dependencies:\n",
    "        dependencies[dep[1]] = []\n",
    "    dependencies[dep[1]].append(dep[0])\n",
    "\n",
    "def task_time(task_id):\n",
    "    return ord(task_id) - 4\n",
    "\n",
    "def free_worker():\n",
    "    global free_workers\n",
    "    free_workers = min(free_workers+1, 5)\n",
    "    \n",
    "def tick(t):\n",
    "    global dependencies\n",
    "    finished = [f for f in finish_times if finish_times[f] == t]\n",
    "    for f in finished:\n",
    "        free_worker()\n",
    "        dependencies = {d: [d1 for d1 in dependencies[d] if d1!= f] for d in dependencies}\n",
    "    executable = [d for d in dependencies if len(dependencies[d]) == 0 and d not in finish_times]\n",
    "    executable.sort()\n",
    "    for i in range(min(free_workers, len(executable))):\n",
    "        e = executable[0]\n",
    "        executable = executable[1:]\n",
    "        finish_times[e] = t + task_time(e)\n",
    "        \n",
    "        \n",
    "t = 0\n",
    "while len(dependencies) != len(finish_times):\n",
    "    tick(t)\n",
    "    t += 1\n",
    "    \n",
    "max(finish_times.values())"
   ]
  },
  {
   "cell_type": "markdown",
   "metadata": {},
   "source": [
    "# Day 8"
   ]
  },
  {
   "cell_type": "markdown",
   "metadata": {},
   "source": [
    "## Part 1"
   ]
  },
  {
   "cell_type": "code",
   "execution_count": 60,
   "metadata": {},
   "outputs": [
    {
     "data": {
      "text/plain": [
       "46096"
      ]
     },
     "execution_count": 60,
     "metadata": {},
     "output_type": "execute_result"
    }
   ],
   "source": [
    "with open('inputs/day8.txt') as f:\n",
    "    s = f.read()[:-1]\n",
    "    \n",
    "tree = [int(n) for n in s.split(' ')]\n",
    "\n",
    "class Node:\n",
    "    def __init__(self, parent=None):\n",
    "        self.parent = parent\n",
    "        self.children = []\n",
    "        self.metadata = []\n",
    "        \n",
    "    def meta_sum(self):\n",
    "        a = sum(self.metadata)\n",
    "        for child in self.children:\n",
    "            a += child.meta_sum()\n",
    "        return a\n",
    "    \n",
    "    def value(self):\n",
    "        if len(self.children) == 0:\n",
    "            return sum(self.metadata)\n",
    "        else:\n",
    "            a = 0\n",
    "            for m in self.metadata:\n",
    "                if m <= len(self.children):\n",
    "                    a += self.children[m-1].value()\n",
    "            return a\n",
    "                \n",
    "        \n",
    "root = Node()\n",
    "current = root\n",
    "offset = 0\n",
    "while len(tree) > 0:\n",
    "    while tree[offset] != 0:\n",
    "        offset += 2\n",
    "        current.children.append(Node(current))\n",
    "        current = current.children[-1]\n",
    "        \n",
    "    for i in range(offset+2, offset+2+tree[offset+1]):\n",
    "        current.metadata.append(tree[i])\n",
    "        \n",
    "    tree = tree[:offset] + tree[offset+2+tree[offset+1]:]\n",
    "    \n",
    "    if offset != 0:\n",
    "        offset -= 2\n",
    "        tree[offset] -= 1\n",
    "        current = current.parent\n",
    "        \n",
    "root.meta_sum()"
   ]
  },
  {
   "cell_type": "markdown",
   "metadata": {},
   "source": [
    "## Part 2"
   ]
  },
  {
   "cell_type": "code",
   "execution_count": 61,
   "metadata": {},
   "outputs": [
    {
     "data": {
      "text/plain": [
       "24820"
      ]
     },
     "execution_count": 61,
     "metadata": {},
     "output_type": "execute_result"
    }
   ],
   "source": [
    "root.value()"
   ]
  },
  {
   "cell_type": "markdown",
   "metadata": {},
   "source": [
    "# Day 9"
   ]
  },
  {
   "cell_type": "markdown",
   "metadata": {},
   "source": [
    "## Part 1"
   ]
  },
  {
   "cell_type": "code",
   "execution_count": 69,
   "metadata": {},
   "outputs": [
    {
     "data": {
      "text/plain": [
       "436720"
      ]
     },
     "execution_count": 69,
     "metadata": {},
     "output_type": "execute_result"
    }
   ],
   "source": [
    "elves = 416\n",
    "max_marble = 71617\n",
    "\n",
    "class Node:\n",
    "    def __init__(self, value, prev_node = None, next_node = None):\n",
    "        self.value = value\n",
    "        if prev_node is not None:\n",
    "            self.prev = prev_node\n",
    "            prev_node.next = self\n",
    "        else:\n",
    "            self.prev = self\n",
    "        if next_node is not None:\n",
    "            self.next = next_node\n",
    "            next_node.prev = self\n",
    "        else:\n",
    "            self.next = self\n",
    "        \n",
    "    def pick(self):\n",
    "        self.prev.next = self.next\n",
    "        self.next.prev = self.prev\n",
    "        return self.value\n",
    "\n",
    "players = {i: 0 for i in range(elves)}\n",
    "current = Node(0)\n",
    "\n",
    "for i in range(0, max_marble):\n",
    "    if (i+1) % 23 != 0:\n",
    "        current = current.next\n",
    "        current = Node(i+1, current, current.next)\n",
    "    else:\n",
    "        players[i%elves] += i+1\n",
    "        for j in range(7):\n",
    "            current = current.prev\n",
    "        players[i%elves] += current.pick()\n",
    "        current = current.next\n",
    "        \n",
    "max(players.values())"
   ]
  },
  {
   "cell_type": "markdown",
   "metadata": {},
   "source": [
    "## Part 2"
   ]
  },
  {
   "cell_type": "code",
   "execution_count": 72,
   "metadata": {},
   "outputs": [
    {
     "data": {
      "text/plain": [
       "3527845091"
      ]
     },
     "execution_count": 72,
     "metadata": {},
     "output_type": "execute_result"
    }
   ],
   "source": [
    "max_marble = 7161700\n",
    "\n",
    "players = {i: 0 for i in range(elves)}\n",
    "current = Node(0)\n",
    "\n",
    "for i in range(0, max_marble):\n",
    "    if (i+1) % 23 != 0:\n",
    "        current = current.next\n",
    "        current = Node(i+1, current, current.next)\n",
    "    else:\n",
    "        players[i%elves] += i+1\n",
    "        for j in range(7):\n",
    "            current = current.prev\n",
    "        players[i%elves] += current.pick()\n",
    "        current = current.next\n",
    "        \n",
    "max(players.values())"
   ]
  },
  {
   "cell_type": "markdown",
   "metadata": {},
   "source": [
    "# Day 10"
   ]
  },
  {
   "cell_type": "markdown",
   "metadata": {},
   "source": [
    "## Part 1"
   ]
  },
  {
   "cell_type": "code",
   "execution_count": 121,
   "metadata": {
    "scrolled": true
   },
   "outputs": [
    {
     "data": {
      "text/plain": [
       "['#####...#####...#....#..#....#..#....#..######..######..#####.',\n",
       " '#....#..#....#..##...#..##...#..#....#..#............#..#....#',\n",
       " '#....#..#....#..##...#..##...#...#..#...#............#..#....#',\n",
       " '#....#..#....#..#.#..#..#.#..#...#..#...#...........#...#....#',\n",
       " '#####...#####...#.#..#..#.#..#....##....#####......#....#####.',\n",
       " '#..#....#.......#..#.#..#..#.#....##....#.........#.....#..#..',\n",
       " '#...#...#.......#..#.#..#..#.#...#..#...#........#......#...#.',\n",
       " '#...#...#.......#...##..#...##...#..#...#.......#.......#...#.',\n",
       " '#....#..#.......#...##..#...##..#....#..#.......#.......#....#',\n",
       " '#....#..#.......#....#..#....#..#....#..#.......######..#....#']"
      ]
     },
     "execution_count": 121,
     "metadata": {},
     "output_type": "execute_result"
    }
   ],
   "source": [
    "with open('inputs/day10.txt') as f:\n",
    "    s = f.read()[:-1].split('\\n')\n",
    "    \n",
    "def parse(string):\n",
    "    numbers = string[:-1].replace('position=<', '').replace('> velocity=<', ', ').split(', ')\n",
    "    return ((int(numbers[0]), int(numbers[1])),(int(numbers[2]), int(numbers[3])))\n",
    "\n",
    "stars = [(parse(star)[0], parse(star)[1])  for star in s]\n",
    "\n",
    "def move(stars):\n",
    "    return [((star[0][0] + star[1][0], star[0][1] + star[1][1]), star[1]) for star in stars]\n",
    "\n",
    "def draw(stars):\n",
    "    stars = {s[0] for s in stars}\n",
    "    min_x = min_y = max_x = max_y = None\n",
    "    for star in stars:\n",
    "        if min_x is None or min_x > star[0]:\n",
    "            min_x = star[0]\n",
    "        if max_x is None or max_x < star[0]:\n",
    "            max_x = star[0]\n",
    "        if min_y is None or min_y > star[1]:\n",
    "            min_y = star[1]\n",
    "        if max_y is None or max_y < star[1]:\n",
    "            max_y = star[1]\n",
    "    \n",
    "    return [''.join(['#' if (x,y) in stars else '.' for x in range(min_x, max_x+1)]) for y in range(min_y, max_y+1)]\n",
    "\n",
    "pattern_size = 6\n",
    "def check_for_message(stars):\n",
    "    stars = {s[0] for s in stars}\n",
    "    for star in stars:\n",
    "        (x,y) = star\n",
    "        \n",
    "        match_x = True\n",
    "        match_y = True\n",
    "        \n",
    "        for i in range(1,pattern_size+1):\n",
    "            if match_x:\n",
    "                match_x = (x+i, y) in stars\n",
    "            if match_y:\n",
    "                match_y = (x, y+i) in stars\n",
    "            if not (match_x or match_y):\n",
    "                break\n",
    "        \n",
    "        if match_x or match_y:\n",
    "            return True\n",
    "    return False\n",
    "    \n",
    "while not check_for_message(stars):\n",
    "    stars = move(stars)\n",
    "\n",
    "draw(stars)"
   ]
  },
  {
   "cell_type": "markdown",
   "metadata": {},
   "source": [
    "## Part 2"
   ]
  },
  {
   "cell_type": "code",
   "execution_count": 122,
   "metadata": {},
   "outputs": [
    {
     "data": {
      "text/plain": [
       "10946"
      ]
     },
     "execution_count": 122,
     "metadata": {},
     "output_type": "execute_result"
    }
   ],
   "source": [
    "stars = [(parse(star)[0], parse(star)[1])  for star in s]\n",
    "\n",
    "moves = 0\n",
    "while not check_for_message(stars):\n",
    "    moves += 1\n",
    "    stars = move(stars)\n",
    "    \n",
    "moves"
   ]
  },
  {
   "cell_type": "markdown",
   "metadata": {},
   "source": [
    "# Day 11"
   ]
  },
  {
   "cell_type": "markdown",
   "metadata": {},
   "source": [
    "## Part 1"
   ]
  },
  {
   "cell_type": "code",
   "execution_count": 145,
   "metadata": {},
   "outputs": [
    {
     "data": {
      "text/plain": [
       "(21, 76)"
      ]
     },
     "execution_count": 145,
     "metadata": {},
     "output_type": "execute_result"
    }
   ],
   "source": [
    "sn = 3031\n",
    "\n",
    "def power(x,y):\n",
    "    rack_id = x+10\n",
    "    power_level = rack_id * y\n",
    "    power_level += sn\n",
    "    power_level *= rack_id\n",
    "    power_level //= 100\n",
    "    power_level %= 10\n",
    "    power_level -= 5\n",
    "    return power_level\n",
    "    \n",
    "cells = {(x,y): power(x,y) for y in range(1,301) for x in range(1,301)}\n",
    "cache = {}\n",
    "\n",
    "def area_power(x,y,size):\n",
    "    if (x,y,size) in cache:\n",
    "        return cache[(x,y,size)]\n",
    "    if size == 1:\n",
    "        return cells[(x,y)]\n",
    "    power = area_power(x,y,size-1)\n",
    "    for i in range(size):\n",
    "        power += cells[(x+size-1,y+i)]\n",
    "        power += cells[(x+i,y+size-1)]\n",
    "    power -= cells[(x+size-1,y+size-1)]\n",
    "            \n",
    "    cache[(x,y,size)] = power\n",
    "    return power\n",
    "\n",
    "def max_coords(size):\n",
    "    max_power = -1000000\n",
    "    max_x = max_y = 0\n",
    "    for x in range(1,301-(size-1)):\n",
    "        for y in range(1, 301-(size-1)):\n",
    "            power = area_power(x,y,size)\n",
    "            if power > max_power:\n",
    "                max_power = power\n",
    "                max_x = x\n",
    "                max_y = y\n",
    "    return max_power, max_x, max_y\n",
    "\n",
    "\n",
    "max_coords(3)[1:]"
   ]
  },
  {
   "cell_type": "markdown",
   "metadata": {},
   "source": [
    "## Part 2"
   ]
  },
  {
   "cell_type": "code",
   "execution_count": 159,
   "metadata": {},
   "outputs": [
    {
     "data": {
      "text/plain": [
       "(234, 108, 16)"
      ]
     },
     "execution_count": 159,
     "metadata": {},
     "output_type": "execute_result"
    }
   ],
   "source": [
    "max_power = -1000000\n",
    "max_x = max_y = max_size = 0\n",
    "for size in range(1, 301):\n",
    "    power,x,y = max_coords(size)\n",
    "    if power > max_power:\n",
    "        max_power = power\n",
    "        max_x = x\n",
    "        max_y = y\n",
    "        max_size = size\n",
    "    \n",
    "(max_x, max_y, max_size)"
   ]
  },
  {
   "cell_type": "markdown",
   "metadata": {},
   "source": [
    "# Day 12"
   ]
  },
  {
   "cell_type": "markdown",
   "metadata": {},
   "source": [
    "## Part 1"
   ]
  },
  {
   "cell_type": "code",
   "execution_count": 192,
   "metadata": {},
   "outputs": [
    {
     "data": {
      "text/plain": [
       "3258"
      ]
     },
     "execution_count": 192,
     "metadata": {},
     "output_type": "execute_result"
    }
   ],
   "source": [
    "with open('inputs/day12.txt') as f:\n",
    "    s = f.read()[:-1].split('\\n')\n",
    "    \n",
    "init = s[0].replace('initial state: ', '')\n",
    "rules = {r.split(' => ')[0]: r.split(' => ')[1] for r in s[2:]}\n",
    "\n",
    "def surroundings(state,i):\n",
    "    l = len(state)\n",
    "    if i == 0:\n",
    "        return '..' + state[:3]\n",
    "    if i == 1:\n",
    "        return '.' + state[:4]\n",
    "    if i == l-1:\n",
    "        return state[l-3:] + '..'\n",
    "    if i == l-2:\n",
    "        return state[l-4:] + '.'\n",
    "    return state[i-2:i+3]\n",
    "\n",
    "def next_state(state, start):\n",
    "    new_state = '..' + state + '..'\n",
    "    start -= 2\n",
    "    new_state = ''.join([rules[surroundings(new_state, i)] for i in range(len(new_state))])\n",
    "    first_plant = new_state.index('#')\n",
    "    start += first_plant\n",
    "    return new_state[first_plant:new_state.rindex('#')+1], start\n",
    "\n",
    "state = init\n",
    "start = 0\n",
    "generations = 20\n",
    "for i in range(generations):\n",
    "    state, start = next_state(state, start)\n",
    "    \n",
    "def plants(state, start):\n",
    "    a = 0\n",
    "    for i in range(len(state)):\n",
    "        if state[i] == '#':\n",
    "            a += start+i\n",
    "    return a\n",
    "\n",
    "plants(state, start)"
   ]
  },
  {
   "cell_type": "markdown",
   "metadata": {},
   "source": [
    "## Part 2"
   ]
  },
  {
   "cell_type": "code",
   "execution_count": 213,
   "metadata": {},
   "outputs": [
    {
     "data": {
      "text/plain": [
       "3600000002022"
      ]
     },
     "execution_count": 213,
     "metadata": {},
     "output_type": "execute_result"
    }
   ],
   "source": [
    "generations = 50000000000\n",
    "stability_limit = 100\n",
    "last_diff = 0\n",
    "last_sum = 0\n",
    "stability = 0\n",
    "\n",
    "state = init\n",
    "start = 0\n",
    "for i in range(generations):\n",
    "    state, start = next_state(state, start)\n",
    "    a = plants(state, start)\n",
    "    diff = a - last_sum\n",
    "    if diff == last_diff:\n",
    "        stability += 1\n",
    "    last_diff = diff\n",
    "    last_sum = a\n",
    "    if stability >= stability_limit:\n",
    "        break\n",
    "    \n",
    "last_sum + last_diff*(generations-i-1)"
   ]
  },
  {
   "cell_type": "markdown",
   "metadata": {},
   "source": [
    "# Day 13"
   ]
  },
  {
   "cell_type": "markdown",
   "metadata": {},
   "source": [
    "## Part 1"
   ]
  },
  {
   "cell_type": "code",
   "execution_count": 345,
   "metadata": {},
   "outputs": [
    {
     "name": "stdout",
     "output_type": "stream",
     "text": [
      "123 18\n"
     ]
    }
   ],
   "source": [
    "with open('inputs/day13.txt') as f:\n",
    "    s = f.read()[:-1]\n",
    "    \n",
    "tracks = s.split('\\n')\n",
    "left = {(0,-1): (-1,0), (-1,0): (0,1), (0,1): (1,0), (1,0): (0,-1)}\n",
    "right = {left[d]: d for d in left}\n",
    "directions = {'<': (-1,0), '>': (1,0), '^': (0,-1), 'v': (0,1)}\n",
    "turning_order = [lambda d: left[d], lambda d: d, lambda d: right[d]]\n",
    "    \n",
    "def cart_at(x,y,carts):\n",
    "    return [c for c in carts if carts[c].x == x and carts[c].y == y]\n",
    "    \n",
    "class Cart:\n",
    "    def __init__(self,cart_id,x,y,direction):\n",
    "        self.x = x\n",
    "        self.y = y\n",
    "        self.direction = direction\n",
    "        self.state = 0\n",
    "        self.cart_id = cart_id\n",
    "        \n",
    "    def __repr__(self):\n",
    "        return '({}, {})'.format(self.x, self.y)\n",
    "        \n",
    "    def crashed(self,carts):\n",
    "        carts_here = cart_at(self.x, self.y,carts)\n",
    "        return carts_here if len(carts_here) > 1 else []\n",
    "        \n",
    "    def move(self):\n",
    "        self.x += self.direction[0]\n",
    "        self.y += self.direction[1]\n",
    "        if tracks[self.y][self.x] == '\\\\' and self.direction[0] == 0:\n",
    "            self.direction = left[self.direction]\n",
    "        elif tracks[self.y][self.x] == '\\\\' and self.direction[1] == 0:\n",
    "            self.direction = right[self.direction]\n",
    "        elif tracks[self.y][self.x] == '/' and self.direction[0] == 0:\n",
    "            self.direction = right[self.direction]\n",
    "        elif tracks[self.y][self.x] == '/' and self.direction[1] == 0:\n",
    "            self.direction = left[self.direction]\n",
    "        elif tracks[self.y][self.x] == '+':\n",
    "            self.direction = turning_order[self.state](self.direction)\n",
    "            self.state = (self.state + 1) % 3\n",
    "        \n",
    "        \n",
    "carts = {}\n",
    "for y in range(len(tracks)):\n",
    "    for x in range(len(tracks[0])):\n",
    "        if tracks[y][x] in '<>^v':\n",
    "            carts[len(carts)] = Cart(len(carts),x,y,directions[tracks[y][x]])\n",
    "    tracks[y] = tracks[y].replace('^', '|').replace('v', '|').replace('<','-').replace('>','-')\n",
    "    \n",
    "safe = True\n",
    "def move_carts():\n",
    "    global safe\n",
    "    cart_order = [(cart, carts[cart].x, carts[cart].y) for cart in carts]\n",
    "    cart_order.sort(key=lambda cart: cart[2])\n",
    "    cart_order.sort(key=lambda cart: cart[1])\n",
    "    \n",
    "    crashed = []\n",
    "    carts_new = {c:carts[c] for c in carts}\n",
    "    for cart in [c[0] for c in cart_order]:\n",
    "        if cart not in crashed:\n",
    "            carts_new[cart].move()\n",
    "            crash = carts_new[cart].crashed(carts_new)\n",
    "            if len(crash) != 0 and safe:\n",
    "                print(carts_new[cart].x, carts_new[cart].y)\n",
    "                safe = False\n",
    "            crashed += crash\n",
    "            carts_new = {c: carts_new[c] for c in carts_new if c not in crashed}\n",
    "    return carts_new\n",
    "\n",
    "while safe:\n",
    "    carts = move_carts()"
   ]
  },
  {
   "cell_type": "markdown",
   "metadata": {},
   "source": [
    "## Part 2"
   ]
  },
  {
   "cell_type": "code",
   "execution_count": 346,
   "metadata": {},
   "outputs": [
    {
     "data": {
      "text/plain": [
       "{2: (71, 123)}"
      ]
     },
     "execution_count": 346,
     "metadata": {},
     "output_type": "execute_result"
    }
   ],
   "source": [
    "tracks = s.split('\\n')\n",
    "carts = {}\n",
    "for y in range(len(tracks)):\n",
    "    for x in range(len(tracks[0])):\n",
    "        if tracks[y][x] in '<>^v':\n",
    "            carts[len(carts)] = Cart(len(carts),x,y,directions[tracks[y][x]])\n",
    "    tracks[y] = tracks[y].replace('^', '|').replace('v', '|').replace('<','-').replace('>','-')\n",
    "\n",
    "while len(carts) != 1:\n",
    "    carts = move_carts()\n",
    "\n",
    "carts"
   ]
  },
  {
   "cell_type": "markdown",
   "metadata": {},
   "source": [
    "# Day 14"
   ]
  },
  {
   "cell_type": "markdown",
   "metadata": {},
   "source": [
    "## Part 1"
   ]
  },
  {
   "cell_type": "code",
   "execution_count": 360,
   "metadata": {},
   "outputs": [
    {
     "data": {
      "text/plain": [
       "'1052903161'"
      ]
     },
     "execution_count": 360,
     "metadata": {},
     "output_type": "execute_result"
    }
   ],
   "source": [
    "recipe_count = 440231\n",
    "recipes = ['3','7']\n",
    "e0 = 0\n",
    "e1 = 1\n",
    "\n",
    "def create(recipes, e0, e1):\n",
    "    new_recipe = int(recipes[e0])+int(recipes[e1])\n",
    "    if new_recipe < 10:\n",
    "        recipes.append(str(new_recipe))\n",
    "    else:\n",
    "        recipes.append(str(new_recipe//10))\n",
    "        recipes.append(str(new_recipe%10))\n",
    "    e0 = (e0 + int(recipes[e0]) + 1) % len(recipes)\n",
    "    e1 = (e1 + int(recipes[e1]) + 1) % len(recipes)\n",
    "    return recipes, e0, e1\n",
    "\n",
    "while len(recipes) < recipe_count + 10:\n",
    "    recipes, e0, e1 = create(recipes, e0, e1)\n",
    "    \n",
    "''.join(recipes[recipe_count:recipe_count+10])"
   ]
  },
  {
   "cell_type": "markdown",
   "metadata": {},
   "source": [
    "## Part 2"
   ]
  },
  {
   "cell_type": "code",
   "execution_count": 378,
   "metadata": {},
   "outputs": [
    {
     "data": {
      "text/plain": [
       "20165504"
      ]
     },
     "execution_count": 378,
     "metadata": {},
     "output_type": "execute_result"
    }
   ],
   "source": [
    "recipe_count_str = str(recipe_count)\n",
    "recipes = ['3','7']\n",
    "e0 = 0\n",
    "e1 = 1\n",
    "\n",
    "while recipe_count_str not in ''.join(recipes[-10:]):\n",
    "    recipes, e0, e1 = create(recipes, e0, e1)\n",
    "    \n",
    "''.join(recipes).index(recipe_count_str)"
   ]
  },
  {
   "cell_type": "markdown",
   "metadata": {},
   "source": [
    "# Day 15"
   ]
  },
  {
   "cell_type": "markdown",
   "metadata": {},
   "source": [
    "## Part 1"
   ]
  },
  {
   "cell_type": "code",
   "execution_count": 121,
   "metadata": {},
   "outputs": [
    {
     "data": {
      "text/plain": [
       "214731"
      ]
     },
     "execution_count": 121,
     "metadata": {},
     "output_type": "execute_result"
    }
   ],
   "source": [
    "import queue\n",
    "\n",
    "with open('inputs/day15.txt') as f:\n",
    "    s = f.read()[:-1].split('\\n')\n",
    "\n",
    "characters = {'E': {}, 'G': {}}\n",
    "ground = set()\n",
    "    \n",
    "def adjecent(position):\n",
    "    adj = [(position[0],   position[1]-1), \\\n",
    "           (position[0]-1, position[1]), \\\n",
    "           (position[0]+1, position[1]), \\\n",
    "           (position[0],   position[1]+1)]\n",
    "    return [p for p in adj if p in ground]\n",
    "    \n",
    "def adjecent_list(positions):\n",
    "    adj = set()\n",
    "    for p in positions:\n",
    "        adj.update(adjecent(p))\n",
    "    return adj\n",
    "\n",
    "visited = {}\n",
    "q = queue.Queue()\n",
    "def bfs(path):\n",
    "    (position, first, length) = path\n",
    "    if position not in visited: \n",
    "        visited[position] = (first, length)\n",
    "        adj = adjecent(position)\n",
    "        for pos in adj:\n",
    "            if pos not in visited and pos not in characters['E'] and pos not in characters['G']:\n",
    "                f = pos if first is None else first\n",
    "                q.put((pos, f, length+1))\n",
    "    \n",
    "def next_on_shortest_path(position, targets):\n",
    "    global q\n",
    "    global visited\n",
    "    \n",
    "    visited = {}\n",
    "    q = queue.Queue()\n",
    "    q.put((position, None, 0))\n",
    "    while not q.empty():\n",
    "        bfs(q.get())\n",
    "    \n",
    "    target_distances = {v: visited[v] for v in visited if v in targets and v != position}\n",
    "    if len(target_distances) > 0:\n",
    "        min_dist = target_distances[min(target_distances, key=lambda x: target_distances[x][1])][1]\n",
    "        min_distance_targets = [t for t in target_distances if target_distances[t][1] == min_dist]\n",
    "        min_distance_targets.sort(key=lambda t: t[0])\n",
    "        min_distance_targets.sort(key=lambda t: t[1])\n",
    "        target = min_distance_targets[0]\n",
    "        \n",
    "        return target_distances[target][0]\n",
    "    else:\n",
    "        return position\n",
    "\n",
    "class Character:\n",
    "    def __init__(self, position):\n",
    "        self.position = position\n",
    "        self.hp = 200\n",
    "        \n",
    "    def __repr__(self):\n",
    "        return '<Type: {}, HP: {}, Position: {}>'.format(self.character_type, self.hp, self.position)\n",
    "    \n",
    "    def move(self, targets):\n",
    "        new_position = next_on_shortest_path(self.position, targets)\n",
    "        if new_position != self.position:\n",
    "            characters[self.character_type][new_position] = self\n",
    "            del characters[self.character_type][self.position]\n",
    "            self.position = new_position        \n",
    "        \n",
    "    def pick_target(self):\n",
    "        targets = [t for t in adjecent(self.position) if t in characters[self.enemy_type]]\n",
    "        hps = {enemy: characters[self.enemy_type][enemy].hp for enemy in targets}\n",
    "        min_hp = hps[min(hps, key=hps.get)]\n",
    "        min_hps = set(enemy for enemy in hps if hps[enemy] == min_hp)\n",
    "        reading_order = adjecent(self.position)\n",
    "        for p in reading_order:\n",
    "            if p in min_hps:\n",
    "                return characters[self.enemy_type][p]\n",
    "    \n",
    "    def attack(self, character):\n",
    "        character.damage(self.ap)\n",
    "    \n",
    "    def damage(self, damage):\n",
    "        self.hp -= damage\n",
    "        if self.hp <= 0:\n",
    "            self.die()\n",
    "            \n",
    "    def die(self):\n",
    "        del characters[self.character_type][self.position]\n",
    "    \n",
    "    def act(self):\n",
    "        if self.hp > 0:\n",
    "            attack_targets = characters[self.enemy_type]\n",
    "            move_targets = adjecent_list(attack_targets)\n",
    "            if self.position not in move_targets:\n",
    "                self.move(move_targets)\n",
    "            if self.position in move_targets:\n",
    "                target = self.pick_target()\n",
    "                self.attack(target)\n",
    "\n",
    "class Elf(Character):\n",
    "    def __init__(self, position, ap):\n",
    "        self.character_type = 'E'\n",
    "        self.enemy_type = 'G'\n",
    "        self.ap = ap\n",
    "        super().__init__(position)\n",
    "        \n",
    "class Goblin(Character):\n",
    "    def __init__(self, position):\n",
    "        self.character_type = 'G'\n",
    "        self.enemy_type = 'E'\n",
    "        self.ap = 3\n",
    "        super().__init__(position)\n",
    "\n",
    "def play(elf_ap):\n",
    "    global characters\n",
    "    \n",
    "    characters = {'E': {}, 'G': {}}\n",
    "    for y in range(len(s)):\n",
    "        for x in range(len(s[0])):\n",
    "            if s[y][x] != '#':\n",
    "                ground.add((x,y))\n",
    "            if s[y][x] == 'E':\n",
    "                characters['E'][(x,y)] = Elf((x,y),elf_ap)\n",
    "            if s[y][x] == 'G':\n",
    "                characters['G'][(x,y)] = Goblin((x,y))\n",
    "\n",
    "    elves = len(characters['E'])\n",
    "    rounds = 0\n",
    "    while len(characters['E']) != 0 and len(characters['G']) != 0:\n",
    "        all_characters = []\n",
    "        all_characters += [(c[0], c[1], characters['E'][c]) for c in characters['E']]\n",
    "        all_characters += [(c[0], c[1], characters['G'][c]) for c in characters['G']]\n",
    "        all_characters.sort(key=lambda c: c[0])\n",
    "        all_characters.sort(key=lambda c: c[1])\n",
    "        for character in all_characters:\n",
    "            character[2].act()\n",
    "        if len(characters['E']) != 0 and len(characters['G']) != 0:\n",
    "            rounds += 1\n",
    "            \n",
    "    hps = [char.hp for char in list(characters['E'].values()) + list(characters['G'].values())]\n",
    "            \n",
    "    return (len(characters['E']) == elves, rounds*sum(hps))\n",
    "        \n",
    "play(3)[1]"
   ]
  },
  {
   "cell_type": "markdown",
   "metadata": {},
   "source": [
    "## Part 2"
   ]
  },
  {
   "cell_type": "code",
   "execution_count": 124,
   "metadata": {},
   "outputs": [
    {
     "data": {
      "text/plain": [
       "53222"
      ]
     },
     "execution_count": 124,
     "metadata": {},
     "output_type": "execute_result"
    }
   ],
   "source": [
    "elf_ap = 3\n",
    "outcome = play(elf_ap)\n",
    "while not outcome[0]:\n",
    "    elf_ap += 1\n",
    "    outcome = play(elf_ap)\n",
    "    \n",
    "outcome[1]"
   ]
  },
  {
   "cell_type": "markdown",
   "metadata": {},
   "source": [
    "# Day 16"
   ]
  },
  {
   "cell_type": "markdown",
   "metadata": {},
   "source": [
    "## Part 1"
   ]
  },
  {
   "cell_type": "code",
   "execution_count": 177,
   "metadata": {},
   "outputs": [
    {
     "data": {
      "text/plain": [
       "500"
      ]
     },
     "execution_count": 177,
     "metadata": {},
     "output_type": "execute_result"
    }
   ],
   "source": [
    "with open('inputs/day16.txt') as f:\n",
    "    s = f.read()[:-1]\n",
    "    \n",
    "sample = [t.split('\\n') for t in s.split('\\n\\n\\n')[0].split('\\n\\n')]\n",
    "    \n",
    "def addr(a,b,c,registers):\n",
    "    registers[c] = registers[a] + registers[b]\n",
    "    return registers\n",
    "    \n",
    "def addi(a,b,c,registers):\n",
    "    registers[c] = registers[a] + b\n",
    "    return registers\n",
    "    \n",
    "def mulr(a,b,c,registers):\n",
    "    registers[c] = registers[a] * registers[b]\n",
    "    return registers\n",
    "    \n",
    "def muli(a,b,c,registers):\n",
    "    registers[c] = registers[a] * b\n",
    "    return registers\n",
    "    \n",
    "def banr(a,b,c,registers):\n",
    "    registers[c] = registers[a] & registers[b]\n",
    "    return registers\n",
    "    \n",
    "def bani(a,b,c,registers):\n",
    "    registers[c] = registers[a] & b\n",
    "    return registers\n",
    "    \n",
    "def borr(a,b,c,registers):\n",
    "    registers[c] = registers[a] | registers[b]\n",
    "    return registers\n",
    "    \n",
    "def bori(a,b,c,registers):\n",
    "    registers[c] = registers[a] | b\n",
    "    return registers\n",
    "    \n",
    "def setr(a,b,c,registers):\n",
    "    registers[c] = registers[a]\n",
    "    return registers\n",
    "    \n",
    "def seti(a,b,c,registers):\n",
    "    registers[c] = a\n",
    "    return registers\n",
    "    \n",
    "def gtir(a,b,c,registers):\n",
    "    registers[c] = int(a > registers[b])\n",
    "    return registers\n",
    "    \n",
    "def gtri(a,b,c,registers):\n",
    "    registers[c] = int(registers[a] > b)\n",
    "    return registers\n",
    "    \n",
    "def gtrr(a,b,c,registers):\n",
    "    registers[c] = int(registers[a] > registers[b])\n",
    "    return registers\n",
    "    \n",
    "def eqir(a,b,c,registers):\n",
    "    registers[c] = int(a == registers[b])\n",
    "    return registers\n",
    "    \n",
    "def eqri(a,b,c,registers):\n",
    "    registers[c] = int(registers[a] == b)\n",
    "    return registers\n",
    "    \n",
    "def eqrr(a,b,c,registers):\n",
    "    registers[c] = int(registers[a] == registers[b])\n",
    "    return registers\n",
    "\n",
    "ops = {addr, addi, mulr, muli, banr, bani, borr, bori, setr, seti, gtir, gtri, gtrr, eqir, eqri, eqrr}\n",
    "def test(args):\n",
    "    [opcode, a, b, c] = [int(v) for v in args[1].split(' ')]\n",
    "    after = [int(v) for v in args[2][9:-1].split(', ')]\n",
    "    \n",
    "    correct = 0\n",
    "    for op in ops:\n",
    "        before = [int(v) for v in args[0][9:-1].split(', ')]\n",
    "        if op(a,b,c,before) == after:\n",
    "            correct += 1\n",
    "            \n",
    "    return correct\n",
    "    \n",
    "gte3 = 0\n",
    "for t in sample:\n",
    "    if test(t) >= 3:\n",
    "        gte3 += 1\n",
    "    \n",
    "gte3"
   ]
  },
  {
   "cell_type": "markdown",
   "metadata": {},
   "source": [
    "## Part 2"
   ]
  },
  {
   "cell_type": "code",
   "execution_count": 186,
   "metadata": {},
   "outputs": [
    {
     "data": {
      "text/plain": [
       "533"
      ]
     },
     "execution_count": 186,
     "metadata": {},
     "output_type": "execute_result"
    }
   ],
   "source": [
    "op_codes = {code: {op for op in ops} for code in range(16)}\n",
    "\n",
    "def test(args):\n",
    "    [op_code, a, b, c] = [int(v) for v in args[1].split(' ')]\n",
    "    after = [int(v) for v in args[2][9:-1].split(', ')]\n",
    "    \n",
    "    incorrect = set()\n",
    "    for op in op_codes[op_code]:\n",
    "        before = [int(v) for v in args[0][9:-1].split(', ')]\n",
    "        if op(a,b,c,before) != after:\n",
    "            incorrect.add(op)\n",
    "            \n",
    "    op_codes[op_code] = {op for op in op_codes[op_code] if op not in incorrect}\n",
    "    if len(op_codes[op_code]) == 1:\n",
    "        taken = next(iter(op_codes[op_code]))\n",
    "        for code in op_codes:\n",
    "            if code != op_code:\n",
    "                op_codes[code] = {op for op in op_codes[code] if op != taken}\n",
    "\n",
    "for t in sample:\n",
    "    test(t)\n",
    "    \n",
    "op_codes = {op: next(iter(op_codes[op])) for op in op_codes}\n",
    "    \n",
    "test_program = s.split('\\n\\n\\n\\n')[1].split('\\n')\n",
    "\n",
    "def execute(program):\n",
    "    registers = [0,0,0,0]\n",
    "    for operation in program:\n",
    "        [op_code, a, b, c] = [int(v) for v in operation.split(' ')]\n",
    "        op_codes[op_code](a,b,c,registers)\n",
    "    return registers\n",
    "    \n",
    "\n",
    "execute(test_program)[0]"
   ]
  },
  {
   "cell_type": "markdown",
   "metadata": {},
   "source": [
    "# Day 17"
   ]
  },
  {
   "cell_type": "markdown",
   "metadata": {},
   "source": [
    "## Part 1"
   ]
  },
  {
   "cell_type": "code",
   "execution_count": 123,
   "metadata": {},
   "outputs": [
    {
     "data": {
      "text/plain": [
       "31383"
      ]
     },
     "execution_count": 123,
     "metadata": {},
     "output_type": "execute_result"
    }
   ],
   "source": [
    "import queue\n",
    "\n",
    "with open('inputs/day17.txt') as f:\n",
    "    s = f.read()[:-1].split('\\n')\n",
    "    \n",
    "def build_level(clay):\n",
    "    for line in s:\n",
    "        for coord in line.split(', '):\n",
    "            if '..' not in coord:\n",
    "                n = int(coord[2:])\n",
    "                if 'x' in coord:\n",
    "                    x = range(n,n+1)\n",
    "                else:\n",
    "                    y = range(n,n+1)\n",
    "            else:\n",
    "                r = coord[2:].split('..')\n",
    "                low = int(r[0])\n",
    "                high = int(r[1])\n",
    "                if 'x' in coord:\n",
    "                    x = range(low,high+1)\n",
    "                else:\n",
    "                    y = range(low,high+1)\n",
    "        for x_i in x:\n",
    "            for y_i in y:\n",
    "                clay.add((x_i,y_i))\n",
    "        \n",
    "def flow(source,clay,water,running_water,limit):\n",
    "    x,y = source\n",
    "    while (x,y+1) not in clay and (x,y+1) not in water and y+1 <= limit:\n",
    "        y += 1\n",
    "        if (x,y+1) not in running_water:\n",
    "            running_water_q.put((x,y))\n",
    "        running_water.add((x,y))\n",
    "    return x,y\n",
    "    \n",
    "def fill(source,clay,water,running_water,running_water_q,limit):\n",
    "    bottom = flow(source,clay,water,running_water,limit)\n",
    "    if bottom == source:\n",
    "        x,y = source\n",
    "        if (x,y+1) in water or (x,y+1) in clay:\n",
    "            path = set()\n",
    "            path.add((x,y))\n",
    "            running = False\n",
    "            while (x-1,y) not in clay and ((x-1,y+1) in clay or (x-1,y+1) in water):\n",
    "                x -= 1\n",
    "                path.add((x,y))\n",
    "            if not ((x-1,y+1) in clay or (x-1,y+1) in water):\n",
    "                running = True\n",
    "            if (x-1,y) not in clay:\n",
    "                path.add((x-1,y))\n",
    "                x_min = x-1\n",
    "            x,y = source\n",
    "            while (x+1,y) not in clay and ((x+1,y+1) in clay or (x+1,y+1) in water):\n",
    "                x += 1\n",
    "                path.add((x,y))\n",
    "            if not ((x+1,y+1) in clay or (x+1,y+1) in water):\n",
    "                running = True\n",
    "            if (x+1,y) not in clay:\n",
    "                path.add((x+1,y))\n",
    "                x_max = x+1\n",
    "            if running:\n",
    "                for w in path:\n",
    "                    if w not in running_water:\n",
    "                        running_water_q.put(w)\n",
    "                running_water.update(path)\n",
    "            else:\n",
    "                for w in path:\n",
    "                    if w in running_water:\n",
    "                        running_water.remove(w)\n",
    "                water.update(path)\n",
    "    \n",
    "           \n",
    "clay = set()\n",
    "spring = (500,0)\n",
    "water = set()\n",
    "running_water = set()\n",
    "running_water_q = queue.LifoQueue()\n",
    "build_level(clay)\n",
    "min_y = min([c[1] for c in clay])\n",
    "max_y = max([c[1] for c in clay])\n",
    "running_water_q.put(spring)\n",
    "\n",
    "while not running_water_q.empty():\n",
    "    fill(running_water_q.get(),clay,water,running_water,running_water_q,max_y)\n",
    "\n",
    "len([w for w in water if w[1] in range(min_y, max_y+1)]) + len([w for w in running_water if w[1] in range(min_y, max_y+1)])"
   ]
  },
  {
   "cell_type": "markdown",
   "metadata": {},
   "source": [
    "## Day 2"
   ]
  },
  {
   "cell_type": "code",
   "execution_count": 125,
   "metadata": {},
   "outputs": [
    {
     "data": {
      "text/plain": [
       "25376"
      ]
     },
     "execution_count": 125,
     "metadata": {},
     "output_type": "execute_result"
    }
   ],
   "source": [
    "len(water)"
   ]
  },
  {
   "cell_type": "markdown",
   "metadata": {},
   "source": [
    "# Day 18"
   ]
  },
  {
   "cell_type": "markdown",
   "metadata": {},
   "source": [
    "## Part 1"
   ]
  },
  {
   "cell_type": "code",
   "execution_count": 140,
   "metadata": {},
   "outputs": [
    {
     "data": {
      "text/plain": [
       "506385"
      ]
     },
     "execution_count": 140,
     "metadata": {},
     "output_type": "execute_result"
    }
   ],
   "source": [
    "with open('inputs/day18.txt') as f:\n",
    "    s = f.read()[:-1].split('\\n')\n",
    "    \n",
    "lumber = [list(row) for row in s]\n",
    "\n",
    "def adjecent(x,y,lumber):\n",
    "    types = {'.': 0, '|': 0, '#': 0}\n",
    "    for i in range(-1,2):\n",
    "        for j in range(-1,2):\n",
    "            if x+i in range(50) and y+j in range(50) and not (i == 0 and j == 0):\n",
    "                types[lumber[y+j][x+i]] += 1\n",
    "                \n",
    "    return types\n",
    "\n",
    "def next_state(x,y,lumber):\n",
    "    adj = adjecent(x,y,lumber)\n",
    "    current = lumber[y][x]\n",
    "    if current == '.' and adj['|'] >= 3:\n",
    "        current = '|'\n",
    "    elif current == '|' and adj['#'] >= 3:\n",
    "        current = '#'\n",
    "    elif current == '#' and (adj['#'] < 1 or adj['|'] < 1):\n",
    "        current = '.'\n",
    "    return current\n",
    "\n",
    "def tick(lumber):\n",
    "    return [[next_state(x,y,lumber) for x in range(50)] for y in range(50)]\n",
    "\n",
    "state = lumber\n",
    "for t in range(10):\n",
    "    state = tick(state)\n",
    "    \n",
    "string = ''.join([''.join(row) for row in state])\n",
    "\n",
    "string.count('|') * string.count('#')"
   ]
  },
  {
   "cell_type": "markdown",
   "metadata": {},
   "source": [
    "## Part 2"
   ]
  },
  {
   "cell_type": "code",
   "execution_count": 169,
   "metadata": {},
   "outputs": [
    {
     "data": {
      "text/plain": [
       "215404"
      ]
     },
     "execution_count": 169,
     "metadata": {},
     "output_type": "execute_result"
    }
   ],
   "source": [
    "visited = {}\n",
    "minutes = 1000000000\n",
    "\n",
    "def stringify(state):\n",
    "    return ''.join([''.join(row) for row in state])\n",
    "\n",
    "state = lumber\n",
    "while minutes > 0:\n",
    "    string = stringify(state)\n",
    "    if string in visited:\n",
    "        cycle_length = visited[string] - minutes\n",
    "        minutes %= cycle_length\n",
    "        minutes += 1\n",
    "        visited = {}\n",
    "    visited[string] = minutes\n",
    "    state = tick(state)\n",
    "    minutes -= 1\n",
    "\n",
    "string.count('|') * string.count('#')"
   ]
  },
  {
   "cell_type": "markdown",
   "metadata": {},
   "source": [
    "# Day 19"
   ]
  },
  {
   "cell_type": "markdown",
   "metadata": {},
   "source": [
    "## Part 1"
   ]
  },
  {
   "cell_type": "code",
   "execution_count": 197,
   "metadata": {},
   "outputs": [
    {
     "data": {
      "text/plain": [
       "1248"
      ]
     },
     "execution_count": 197,
     "metadata": {},
     "output_type": "execute_result"
    }
   ],
   "source": [
    "with open('inputs/day19.txt') as f:\n",
    "    instructions = f.read()[:-1].split('\\n')\n",
    "        \n",
    "def addr(a,b,c,registers):\n",
    "    registers[c] = registers[a] + registers[b]\n",
    "    return registers\n",
    "    \n",
    "def addi(a,b,c,registers):\n",
    "    registers[c] = registers[a] + b\n",
    "    return registers\n",
    "    \n",
    "def mulr(a,b,c,registers):\n",
    "    registers[c] = registers[a] * registers[b]\n",
    "    return registers\n",
    "    \n",
    "def muli(a,b,c,registers):\n",
    "    registers[c] = registers[a] * b\n",
    "    return registers\n",
    "    \n",
    "def banr(a,b,c,registers):\n",
    "    registers[c] = registers[a] & registers[b]\n",
    "    return registers\n",
    "    \n",
    "def bani(a,b,c,registers):\n",
    "    registers[c] = registers[a] & b\n",
    "    return registers\n",
    "    \n",
    "def borr(a,b,c,registers):\n",
    "    registers[c] = registers[a] | registers[b]\n",
    "    return registers\n",
    "    \n",
    "def bori(a,b,c,registers):\n",
    "    registers[c] = registers[a] | b\n",
    "    return registers\n",
    "    \n",
    "def setr(a,b,c,registers):\n",
    "    registers[c] = registers[a]\n",
    "    return registers\n",
    "    \n",
    "def seti(a,b,c,registers):\n",
    "    registers[c] = a\n",
    "    return registers\n",
    "    \n",
    "def gtir(a,b,c,registers):\n",
    "    registers[c] = int(a > registers[b])\n",
    "    return registers\n",
    "    \n",
    "def gtri(a,b,c,registers):\n",
    "    registers[c] = int(registers[a] > b)\n",
    "    return registers\n",
    "    \n",
    "def gtrr(a,b,c,registers):\n",
    "    registers[c] = int(registers[a] > registers[b])\n",
    "    return registers\n",
    "    \n",
    "def eqir(a,b,c,registers):\n",
    "    registers[c] = int(a == registers[b])\n",
    "    return registers\n",
    "    \n",
    "def eqri(a,b,c,registers):\n",
    "    registers[c] = int(registers[a] == b)\n",
    "    return registers\n",
    "    \n",
    "def eqrr(a,b,c,registers):\n",
    "    registers[c] = int(registers[a] == registers[b])\n",
    "    return registers\n",
    "\n",
    "ops = {'addr': addr, \n",
    "       'addi': addi,\n",
    "       'mulr': mulr, \n",
    "       'muli': muli, \n",
    "       'banr': banr, \n",
    "       'bani': bani, \n",
    "       'borr': borr, \n",
    "       'bori': bori,\n",
    "       'setr': setr, \n",
    "       'seti': seti, \n",
    "       'gtir': gtir,\n",
    "       'gtri': gtri, \n",
    "       'gtrr': gtrr,\n",
    "       'eqir': eqir, \n",
    "       'eqri': eqri,\n",
    "       'eqrr': eqrr}\n",
    "\n",
    "def process(instruction,inst_register,registers):\n",
    "    op = instruction.split(' ')[0]\n",
    "    args = [int(arg) for arg in instruction.split(' ')[1:]]\n",
    "    \n",
    "    return ops[instruction.split(' ')[0]](args[0], args[1], args[2], registers)\n",
    "\n",
    "def execute(instructions_all, registers):\n",
    "    inst_register = int(instructions_all[0].split(' ')[1])\n",
    "    instructions = instructions_all[1:]\n",
    "    i = 0\n",
    "    while i in range(len(instructions)):\n",
    "        registers[inst_register] = i\n",
    "        registers = process(instructions[i],inst_register,registers)\n",
    "        i = registers[inst_register] + 1\n",
    "    return registers\n",
    "\n",
    "registers = [0 for i in range(6)]\n",
    "execute(instructions, registers)[0]"
   ]
  },
  {
   "cell_type": "markdown",
   "metadata": {},
   "source": [
    "## Part 2"
   ]
  },
  {
   "cell_type": "code",
   "execution_count": 196,
   "metadata": {},
   "outputs": [
    {
     "data": {
      "text/plain": [
       "14952912"
      ]
     },
     "execution_count": 196,
     "metadata": {},
     "output_type": "execute_result"
    }
   ],
   "source": [
    "e = 10551275\n",
    "a = 0\n",
    "for i in range(1,e+1):\n",
    "    if e % i == 0:\n",
    "        a += i\n",
    "        \n",
    "a"
   ]
  },
  {
   "cell_type": "markdown",
   "metadata": {},
   "source": [
    "# Day 20"
   ]
  },
  {
   "cell_type": "markdown",
   "metadata": {},
   "source": [
    "## Part 1"
   ]
  },
  {
   "cell_type": "code",
   "execution_count": 229,
   "metadata": {},
   "outputs": [
    {
     "data": {
      "text/plain": [
       "3725"
      ]
     },
     "execution_count": 229,
     "metadata": {},
     "output_type": "execute_result"
    }
   ],
   "source": [
    "import queue\n",
    "\n",
    "with open('inputs/day20.txt') as f:\n",
    "    s = f.read()[:-1]\n",
    "    \n",
    "graph = {}\n",
    "position = (0,0)\n",
    "directions = {'N': (0,-1), 'S': (0,1), 'W': (-1,0), 'E': (1,0)}\n",
    "    \n",
    "class Node:\n",
    "    def __init__(self, start, parent=None):\n",
    "        self.start = start\n",
    "        self.directions = []\n",
    "        self.children = []\n",
    "        self.parent = parent\n",
    "        if parent is not None:\n",
    "            parent.children.append(self)\n",
    "        \n",
    "    def add_direction(self,direction):\n",
    "        self.directions.append(direction)        \n",
    "\n",
    "root = Node(position)\n",
    "current = root\n",
    "for d in s[1:-1]:\n",
    "    if d not in '(|)':\n",
    "        current.add_direction(d)\n",
    "        next_position = (position[0] + directions[d][0], position[1] + directions[d][1])\n",
    "        if position not in graph:\n",
    "            graph[position] = set()\n",
    "        graph[position].add(next_position)\n",
    "        position = next_position\n",
    "    elif d == '(':\n",
    "        current = Node(position,current)\n",
    "    elif d == '|':\n",
    "        position = current.start\n",
    "        current = current.parent\n",
    "        current = Node(position,current)\n",
    "    elif d == ')':\n",
    "        position = current.start\n",
    "        current = current.parent\n",
    "        \n",
    "visited = {}\n",
    "q = queue.Queue()\n",
    "def bfs(state):\n",
    "    position, distance = state\n",
    "    if position not in visited:\n",
    "        visited[position] = distance\n",
    "        if position in graph:\n",
    "            for door in graph[position]:\n",
    "                q.put((door, distance+1))\n",
    "            \n",
    "q.put(((0,0), 0))\n",
    "while not q.empty():\n",
    "    bfs(q.get())\n",
    "    \n",
    "visited[max(visited, key=visited.get)]"
   ]
  },
  {
   "cell_type": "markdown",
   "metadata": {},
   "source": [
    "## Part 2"
   ]
  },
  {
   "cell_type": "code",
   "execution_count": 230,
   "metadata": {},
   "outputs": [
    {
     "data": {
      "text/plain": [
       "8541"
      ]
     },
     "execution_count": 230,
     "metadata": {},
     "output_type": "execute_result"
    }
   ],
   "source": [
    "sum([1 for distance in visited.values() if distance >= 1000])"
   ]
  },
  {
   "cell_type": "markdown",
   "metadata": {},
   "source": [
    "# Day 21"
   ]
  },
  {
   "cell_type": "markdown",
   "metadata": {},
   "source": [
    "## Part 1"
   ]
  },
  {
   "cell_type": "code",
   "execution_count": 365,
   "metadata": {
    "scrolled": false
   },
   "outputs": [
    {
     "data": {
      "text/plain": [
       "7129803"
      ]
     },
     "execution_count": 365,
     "metadata": {},
     "output_type": "execute_result"
    }
   ],
   "source": [
    "with open('inputs/day21.txt') as f:\n",
    "    instructions = f.read()[:-1].split('\\n')\n",
    "        \n",
    "def addr(a,b,c,registers):\n",
    "    registers[c] = registers[a] + registers[b]\n",
    "    return registers\n",
    "    \n",
    "def addi(a,b,c,registers):\n",
    "    registers[c] = registers[a] + b\n",
    "    return registers\n",
    "    \n",
    "def mulr(a,b,c,registers):\n",
    "    registers[c] = registers[a] * registers[b]\n",
    "    return registers\n",
    "    \n",
    "def muli(a,b,c,registers):\n",
    "    registers[c] = registers[a] * b\n",
    "    return registers\n",
    "    \n",
    "def banr(a,b,c,registers):\n",
    "    registers[c] = registers[a] & registers[b]\n",
    "    return registers\n",
    "    \n",
    "def bani(a,b,c,registers):\n",
    "    registers[c] = registers[a] & b\n",
    "    return registers\n",
    "    \n",
    "def borr(a,b,c,registers):\n",
    "    registers[c] = registers[a] | registers[b]\n",
    "    return registers\n",
    "    \n",
    "def bori(a,b,c,registers):\n",
    "    registers[c] = registers[a] | b\n",
    "    return registers\n",
    "    \n",
    "def setr(a,b,c,registers):\n",
    "    registers[c] = registers[a]\n",
    "    return registers\n",
    "    \n",
    "def seti(a,b,c,registers):\n",
    "    registers[c] = a\n",
    "    return registers\n",
    "    \n",
    "def gtir(a,b,c,registers):\n",
    "    registers[c] = int(a > registers[b])\n",
    "    return registers\n",
    "    \n",
    "def gtri(a,b,c,registers):\n",
    "    registers[c] = int(registers[a] > b)\n",
    "    return registers\n",
    "    \n",
    "def gtrr(a,b,c,registers):\n",
    "    registers[c] = int(registers[a] > registers[b])\n",
    "    return registers\n",
    "    \n",
    "def eqir(a,b,c,registers):\n",
    "    registers[c] = int(a == registers[b])\n",
    "    return registers\n",
    "    \n",
    "def eqri(a,b,c,registers):\n",
    "    registers[c] = int(registers[a] == b)\n",
    "    return registers\n",
    "    \n",
    "def eqrr(a,b,c,registers):\n",
    "    registers[c] = int(registers[a] == registers[b])\n",
    "    return registers\n",
    "\n",
    "ops = {'addr': addr, \n",
    "       'addi': addi,\n",
    "       'mulr': mulr, \n",
    "       'muli': muli, \n",
    "       'banr': banr, \n",
    "       'bani': bani, \n",
    "       'borr': borr, \n",
    "       'bori': bori,\n",
    "       'setr': setr, \n",
    "       'seti': seti, \n",
    "       'gtir': gtir,\n",
    "       'gtri': gtri, \n",
    "       'gtrr': gtrr,\n",
    "       'eqir': eqir, \n",
    "       'eqri': eqri,\n",
    "       'eqrr': eqrr}\n",
    "\n",
    "def process(instruction,inst_register,registers):\n",
    "    op = instruction.split(' ')[0]\n",
    "    args = [int(arg) for arg in instruction.split(' ')[1:]]\n",
    "    \n",
    "    return ops[instruction.split(' ')[0]](args[0], args[1], args[2], registers)\n",
    "\n",
    "def execute(instructions_all, registers):\n",
    "    inst_register = int(instructions_all[0].split(' ')[1])\n",
    "    instructions = instructions_all[1:]\n",
    "    i = 0\n",
    "    while i in range(len(instructions)):\n",
    "        registers[inst_register] = i\n",
    "        registers = process(instructions[i],inst_register,registers)\n",
    "        i = registers[inst_register] + 1\n",
    "    return registers\n",
    "\n",
    "registers = [0 for i in range(6)]\n",
    "execute(instructions[:-2], registers)[4]"
   ]
  },
  {
   "cell_type": "markdown",
   "metadata": {},
   "source": [
    "## Part 2"
   ]
  },
  {
   "cell_type": "code",
   "execution_count": 364,
   "metadata": {},
   "outputs": [
    {
     "data": {
      "text/plain": [
       "12284643"
      ]
     },
     "execution_count": 364,
     "metadata": {},
     "output_type": "execute_result"
    }
   ],
   "source": [
    "def next_halt(b):\n",
    "    e = 2024736\n",
    "    while b >= 1:\n",
    "        c = b & 255\n",
    "        e += c\n",
    "        e &= 16777215\n",
    "        e *= 65899\n",
    "        e &= 16777215\n",
    "        b //= 256\n",
    "    b = e|65536\n",
    "    return b,e\n",
    "    \n",
    "\n",
    "visited = set()\n",
    "\n",
    "b = 65536\n",
    "while b not in visited:\n",
    "    visited.add(b)\n",
    "    b,e_next = next_halt(b)\n",
    "    if b not in visited:\n",
    "        e = e_next\n",
    "\n",
    "e"
   ]
  },
  {
   "cell_type": "markdown",
   "metadata": {},
   "source": [
    "# Day 22"
   ]
  },
  {
   "cell_type": "markdown",
   "metadata": {},
   "source": [
    "## Part 1"
   ]
  },
  {
   "cell_type": "code",
   "execution_count": 28,
   "metadata": {},
   "outputs": [
    {
     "data": {
      "text/plain": [
       "6318"
      ]
     },
     "execution_count": 28,
     "metadata": {},
     "output_type": "execute_result"
    }
   ],
   "source": [
    "depth = 11820\n",
    "target = (7,782)\n",
    "\n",
    "geo = {(0,0): 0, target: 0}\n",
    "erosion = {}\n",
    "types = {}\n",
    "\n",
    "def geologic_index(x,y):\n",
    "    if (x,y) in geo:\n",
    "        return geo[(x,y)]\n",
    "    else:\n",
    "        if y == 0:\n",
    "            index = 16807*x\n",
    "            geo[(x,y)] = index\n",
    "            return index\n",
    "        elif x == 0:\n",
    "            index = 48271*y\n",
    "            geo[(x,y)] = index\n",
    "            return index\n",
    "        else:\n",
    "            index = erosion_level(x-1,y)*erosion_level(x,y-1)\n",
    "            geo[(x,y)] = index\n",
    "            return index\n",
    "\n",
    "def erosion_level(x,y):\n",
    "    if (x,y) in erosion:\n",
    "        return erosion[(x,y)]\n",
    "    else:\n",
    "        level = (geologic_index(x,y) + depth) % 20183\n",
    "        erosion[(x,y)] = level\n",
    "        return level\n",
    "\n",
    "def region_type(x,y):\n",
    "    if (x,y) in types:\n",
    "        return types[(x,y)]\n",
    "    else:\n",
    "        result = erosion_level(x,y) % 3\n",
    "        types[(x,y)] = result\n",
    "    return result\n",
    "\n",
    "sum([region_type(x,y) for y in range(target[1]+1) for x in range(target[0]+1)])"
   ]
  },
  {
   "cell_type": "markdown",
   "metadata": {},
   "source": [
    "## Part 2"
   ]
  },
  {
   "cell_type": "code",
   "execution_count": 29,
   "metadata": {},
   "outputs": [
    {
     "data": {
      "text/plain": [
       "1075"
      ]
     },
     "execution_count": 29,
     "metadata": {},
     "output_type": "execute_result"
    }
   ],
   "source": [
    "import queue\n",
    "\n",
    "valid_gears = {0: {'C', 'T'}, 1: {'C', 'N'}, 2: {'T', 'N'}}\n",
    "start = (0,0,'T')\n",
    "finish = (7,782,'T')\n",
    "\n",
    "def switch_gear(equipped,region_type,t):\n",
    "    return [g for g in valid_gears[region_type] if g != equipped][0], t+7\n",
    "\n",
    "def move_targets(x,y,equipped,t):\n",
    "    possible = [(x,y-1), (x,y+1), (x-1,y), (x+1,y)]\n",
    "    return [(x,y) for (x,y) in possible if x >= 0 and y >= 0 and x < 50 and y < 1000 and equipped in valid_gears[region_type(x,y)]], t+1\n",
    "    \n",
    "visited = {}\n",
    "min_distance = None\n",
    "q = queue.Queue()\n",
    "def bfs(state):\n",
    "    global min_distance\n",
    "    \n",
    "    (status,distance) = state\n",
    "    if min_distance is not None and distance > min_distance:\n",
    "        return\n",
    "    \n",
    "    if status == finish:\n",
    "        if min_distance is None or min_distance > distance:\n",
    "            min_distance = distance\n",
    "            \n",
    "    if status not in visited or visited[status] > distance:\n",
    "        visited[status] = distance\n",
    "        (x,y,equipped) = status\n",
    "        \n",
    "        new_eq, new_d = switch_gear(equipped, region_type(x,y),distance)\n",
    "        new_status = (x,y,new_eq)\n",
    "        if new_status not in visited or visited[new_status] > new_d:\n",
    "            new_state = (new_status,new_d)\n",
    "            q.put(new_state)\n",
    "        \n",
    "        new_positions, new_d = move_targets(x,y,equipped,distance)\n",
    "        for new_pos in new_positions:\n",
    "            (new_x, new_y) = new_pos\n",
    "            new_status = (new_x,new_y,equipped)\n",
    "            if new_status not in visited or visited[new_status] > new_d:\n",
    "                new_state = (new_status,new_d)\n",
    "                q.put(new_state)\n",
    "            \n",
    "            \n",
    "q.put((start,0))\n",
    "while not q.empty():\n",
    "    bfs(q.get())\n",
    "    \n",
    "min_distance"
   ]
  },
  {
   "cell_type": "markdown",
   "metadata": {},
   "source": [
    "# Day 23"
   ]
  },
  {
   "cell_type": "markdown",
   "metadata": {},
   "source": [
    "## Part 1"
   ]
  },
  {
   "cell_type": "code",
   "execution_count": 122,
   "metadata": {},
   "outputs": [
    {
     "data": {
      "text/plain": [
       "481"
      ]
     },
     "execution_count": 122,
     "metadata": {},
     "output_type": "execute_result"
    }
   ],
   "source": [
    "with open('inputs/day23.txt') as f:\n",
    "    s = f.read()[:-1].split('\\n')\n",
    "\n",
    "def parse(bot):\n",
    "    [position, radius] = bot[5:].split('>, r=')\n",
    "    position = tuple([int(c) for c in position.split(',')])\n",
    "    radius = int(radius)\n",
    "    return (position, radius)\n",
    "\n",
    "def distance(a,b):\n",
    "    return abs(a[0]-b[0]) + abs(a[1]-b[1]) + abs(a[2]-b[2])\n",
    "\n",
    "bots = [parse(bot) for bot in s]\n",
    "\n",
    "max_radius = max(bots, key=lambda bot: bot[1])\n",
    "in_range = [bot for bot in bots if distance(bot[0], max_radius[0]) <= max_radius[1]]\n",
    "\n",
    "len(in_range)"
   ]
  },
  {
   "cell_type": "markdown",
   "metadata": {},
   "source": [
    "## Part 2"
   ]
  },
  {
   "cell_type": "code",
   "execution_count": 125,
   "metadata": {},
   "outputs": [
    {
     "data": {
      "text/plain": [
       "47141479"
      ]
     },
     "execution_count": 125,
     "metadata": {},
     "output_type": "execute_result"
    }
   ],
   "source": [
    "def box_dist(box, bot):\n",
    "    (bot_x, bot_y, bot_z) = bot\n",
    "    dist = 0\n",
    "    dist += box.x - bot_x if bot_x <= box.x else bot_x - (box.x + box.size - 1)\n",
    "    dist += box.y - bot_y if bot_y <= box.y else bot_y - (box.y + box.size - 1)\n",
    "    dist += box.z - bot_z if bot_z <= box.z else bot_z - (box.z + box.size - 1)\n",
    "    \n",
    "    return dist\n",
    "\n",
    "def box_in_range(box):\n",
    "    return len([bot for bot in bots if box_dist(box, bot[0]) <= bot[1]])\n",
    "\n",
    "class Box:\n",
    "    def __init__(self,x,y,z,size):\n",
    "        self.x = x\n",
    "        self.y = y\n",
    "        self.z = z\n",
    "        self.size = size\n",
    "        self.distance = abs(x) + abs(y) + abs(z)\n",
    "        self.in_range = box_in_range(self)\n",
    "        \n",
    "def split(box):\n",
    "    split_x = box.x + box.size//2\n",
    "    split_y = box.y + box.size//2\n",
    "    split_z = box.z + box.size//2\n",
    "    \n",
    "    boxes.add(Box(box.x, box.y, box.z, box.size//2))\n",
    "    boxes.add(Box(box.x, box.y, split_z, box.size//2))\n",
    "    boxes.add(Box(box.x, split_y, box.z, box.size//2))\n",
    "    boxes.add(Box(box.x, split_y, split_z, box.size//2))\n",
    "    boxes.add(Box(split_x, box.y, box.z, box.size//2))\n",
    "    boxes.add(Box(split_x, box.y, split_z, box.size//2))\n",
    "    boxes.add(Box(split_x, split_y, box.z, box.size//2))\n",
    "    boxes.add(Box(split_x, split_y, split_z, box.size//2))\n",
    "\n",
    "min_x = min([bot[0][0] for bot in bots] + [0])\n",
    "max_x = max([bot[0][0] for bot in bots] + [0])\n",
    "min_y = min([bot[0][1] for bot in bots] + [0])\n",
    "max_y = max([bot[0][1] for bot in bots] + [0])\n",
    "min_z = min([bot[0][2] for bot in bots] + [0])\n",
    "max_z = max([bot[0][2] for bot in bots] + [0])\n",
    "\n",
    "box_size = 1\n",
    "while min_x + box_size < max_x or min_y + box_size < max_y or min_z + box_size < max_z:\n",
    "    box_size *= 2\n",
    "\n",
    "box = Box(min_x, min_y, min_z, box_size)\n",
    "boxes = {box}\n",
    "\n",
    "def get_box():\n",
    "    max_bots = max(boxes, key=lambda box: box.in_range).in_range\n",
    "    most_bots = [box for box in boxes if box.in_range == max_bots]\n",
    "    most_bots.sort(key=lambda box: box.size)\n",
    "    most_bots.sort(key=lambda box: box.distance)\n",
    "    \n",
    "    box = most_bots[0]\n",
    "    boxes.remove(box)\n",
    "    return box\n",
    "        \n",
    "while box.size != 1:\n",
    "    box = get_box()\n",
    "    split(box)\n",
    "    \n",
    "box.distance"
   ]
  },
  {
   "cell_type": "markdown",
   "metadata": {},
   "source": [
    "# Day 24"
   ]
  },
  {
   "cell_type": "markdown",
   "metadata": {},
   "source": [
    "## Part 1"
   ]
  },
  {
   "cell_type": "code",
   "execution_count": 345,
   "metadata": {},
   "outputs": [
    {
     "data": {
      "text/plain": [
       "20340"
      ]
     },
     "execution_count": 345,
     "metadata": {},
     "output_type": "execute_result"
    }
   ],
   "source": [
    "with open('inputs/day24.txt') as f:\n",
    "    s = f.read()[:-1].split('\\n')\n",
    "    \n",
    "class Group:\n",
    "    def __init__(self, units, hp, dmg, dmg_type, init, team, weak, immune):\n",
    "        self.units = units\n",
    "        self.hp = hp\n",
    "        self.dmg = dmg\n",
    "        self.dmg_type = dmg_type\n",
    "        self.init = init\n",
    "        self.team = team\n",
    "        self.weak = weak\n",
    "        self.immune = immune\n",
    "        self.enemy = 'Infection' if team == 'Immune' else 'Immune'\n",
    "        self.target = None\n",
    "        self.attacking = None\n",
    "        \n",
    "    def __repr__(self):\n",
    "        return ', '.join([self.team, str(self.init), str(self.units)])\n",
    "        \n",
    "    def power(self):\n",
    "        return max(self.units ,0) * self.dmg\n",
    "        \n",
    "    def attack_effect(self, dmg, dmg_type):\n",
    "        if dmg_type in self.immune:\n",
    "            return 0\n",
    "        if dmg_type in self.weak:\n",
    "            return dmg*2\n",
    "        return dmg\n",
    "    \n",
    "    def damage(self, dmg, dmg_type):\n",
    "        actual_dmg = self.attack_effect(dmg, dmg_type)\n",
    "        self.units -= actual_dmg // self.hp\n",
    "        if self.units <= 0:\n",
    "            self.die()\n",
    "        return actual_dmg // self.hp > 0\n",
    "            \n",
    "    def die(self):\n",
    "        groups.remove(self)\n",
    "        \n",
    "    def pick_target(self):\n",
    "        targets = [group for group in groups if group.team == self.enemy and group.attacking is None]\n",
    "        if self in groups and len(targets) > 0:\n",
    "            targets.sort(reverse=True, key=lambda group: group.init)\n",
    "            targets.sort(reverse=True, key=lambda group: group.power())\n",
    "            targets.sort(reverse=True, key=lambda group: group.attack_effect(self.power(), self.dmg_type))\n",
    "            target = targets[0]\n",
    "            if target.attack_effect(self.power(), self.dmg_type) > 0:\n",
    "                self.target = target\n",
    "                self.target.attacking = self\n",
    "    \n",
    "    def attack(self):\n",
    "        if self in groups and self.target in groups:\n",
    "            return self.target.damage(self.power(), self.dmg_type)\n",
    "        return False\n",
    "        \n",
    "        \n",
    "def tick():\n",
    "    for group in groups:\n",
    "        group.target = None\n",
    "        group.attacking = None\n",
    "    order = [group for group in groups]\n",
    "    order.sort(reverse=True, key=lambda group: group.init)\n",
    "    order.sort(reverse=True, key=lambda group: group.power())\n",
    "    for group in order:\n",
    "        group.pick_target()\n",
    "    order = [group for group in order if group.target is not None]\n",
    "    order.sort(reverse=True, key=lambda group: group.init)\n",
    "    attacked = False\n",
    "    for group in order:\n",
    "        if group in groups:\n",
    "            attacked |= group.attack()\n",
    "    return attacked\n",
    "\n",
    "def parse_modifier(mod):\n",
    "    weak = []\n",
    "    immune = []\n",
    "    for modifier in mod.split('; '):\n",
    "        if 'weak' in modifier:\n",
    "            weak = modifier[8:].split(', ')\n",
    "        else:\n",
    "            immune = modifier[10:].split(', ')\n",
    "    return weak, immune\n",
    "            \n",
    "def parse(group, team, boost=0):\n",
    "    units = int(group.split(' ')[0])\n",
    "    hp = int(group.split(' ')[4])\n",
    "    weak = []\n",
    "    immune = []\n",
    "    if '(' in group:\n",
    "        weak, immune = parse_modifier(group[group.index('(')+1:group.index(')')])\n",
    "    group = group[group.index('attack'):]\n",
    "    dmg = int(group.split(' ')[3])\n",
    "    if team == 'Immune':\n",
    "        dmg += boost\n",
    "    dmg_type = group.split(' ')[4]\n",
    "    init = int(group.split(' ')[-1])\n",
    "    return Group(units, hp, dmg, dmg_type, init, team, weak, immune)\n",
    "    \n",
    "            \n",
    "groups = []\n",
    "for line in s:\n",
    "    if 'Immune' in line:\n",
    "        team = 'Immune'\n",
    "    elif 'Infection' in line:\n",
    "        team = 'Infection'\n",
    "    elif 'units' in line:\n",
    "        groups.append(parse(line, team))\n",
    "\n",
    "progress = True\n",
    "while len({group.team for group in groups}) > 1 and progress:\n",
    "    progress = tick()\n",
    "\n",
    "sum([group.units for group in groups])"
   ]
  },
  {
   "cell_type": "markdown",
   "metadata": {},
   "source": [
    "## Part 2"
   ]
  },
  {
   "cell_type": "code",
   "execution_count": 354,
   "metadata": {},
   "outputs": [
    {
     "data": {
      "text/plain": [
       "3862"
      ]
     },
     "execution_count": 354,
     "metadata": {},
     "output_type": "execute_result"
    }
   ],
   "source": [
    "boost = 0\n",
    "progress = True\n",
    "winner = 'Infection'\n",
    "\n",
    "while not (winner == 'Immune' and progress):\n",
    "    boost += 1\n",
    "    groups = []\n",
    "    for line in s:\n",
    "        if 'Immune' in line:\n",
    "            team = 'Immune'\n",
    "        elif 'Infection' in line:\n",
    "            team = 'Infection'\n",
    "        elif 'units' in line:\n",
    "            groups.append(parse(line, team, boost))\n",
    "\n",
    "    progress = True\n",
    "    while len({group.team for group in groups}) > 1 and progress:\n",
    "        progress = tick()\n",
    "    winner = groups[0].team\n",
    "    \n",
    "sum([group.units for group in groups])"
   ]
  },
  {
   "cell_type": "markdown",
   "metadata": {},
   "source": [
    "# Day 25"
   ]
  },
  {
   "cell_type": "code",
   "execution_count": 379,
   "metadata": {},
   "outputs": [
    {
     "data": {
      "text/plain": [
       "390"
      ]
     },
     "execution_count": 379,
     "metadata": {},
     "output_type": "execute_result"
    }
   ],
   "source": [
    "with open('inputs/day25.txt') as f:\n",
    "    s = f.read()[:-1].split('\\n')\n",
    "    \n",
    "points = [(int(p.split(',')[0]), int(p.split(',')[1]), int(p.split(',')[2]), int(p.split(',')[3])) for p in s]\n",
    "\n",
    "def manhattan(p0, p1):\n",
    "    return abs(p0[0]-p1[0]) + abs(p0[1]-p1[1]) + abs(p0[2]-p1[2]) + abs(p0[3]-p1[3])\n",
    "\n",
    "visited = set()\n",
    "constellations = {}\n",
    "while len(points) > 0:\n",
    "    point = points[0]\n",
    "    constellation = len(constellations)\n",
    "    constellations[constellation] = {point}\n",
    "    visited.add(point)\n",
    "    new_points = [point]\n",
    "    while len(new_points) != 0:\n",
    "        new_points = []\n",
    "        for p0 in constellations[constellation]:\n",
    "            for p1 in points:\n",
    "                if p1 not in visited and manhattan(p0,p1) <= 3:\n",
    "                    new_points.append(p1)\n",
    "        constellations[constellation].update(new_points)\n",
    "        visited.update(new_points)\n",
    "    points = [point for point in points if point not in visited]\n",
    "        \n",
    "len(constellations)"
   ]
  }
 ],
 "metadata": {
  "kernelspec": {
   "display_name": "Python 3",
   "language": "python",
   "name": "python3"
  },
  "language_info": {
   "codemirror_mode": {
    "name": "ipython",
    "version": 3
   },
   "file_extension": ".py",
   "mimetype": "text/x-python",
   "name": "python",
   "nbconvert_exporter": "python",
   "pygments_lexer": "ipython3",
   "version": "3.7.4"
  }
 },
 "nbformat": 4,
 "nbformat_minor": 2
}
