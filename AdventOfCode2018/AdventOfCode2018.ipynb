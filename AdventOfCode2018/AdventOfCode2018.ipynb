{
 "cells": [
  {
   "cell_type": "markdown",
   "metadata": {},
   "source": [
    "# Day 1"
   ]
  },
  {
   "cell_type": "markdown",
   "metadata": {},
   "source": [
    "## Part 1"
   ]
  },
  {
   "cell_type": "code",
   "execution_count": 6,
   "metadata": {},
   "outputs": [
    {
     "data": {
      "text/plain": [
       "525"
      ]
     },
     "execution_count": 6,
     "metadata": {},
     "output_type": "execute_result"
    }
   ],
   "source": [
    "with open('inputs/day1.txt') as f:\n",
    "    s = f.read()[:-1].split('\\n')\n",
    "    \n",
    "sum([int(n) for n in s])"
   ]
  },
  {
   "cell_type": "markdown",
   "metadata": {},
   "source": [
    "## Part 2"
   ]
  },
  {
   "cell_type": "code",
   "execution_count": 10,
   "metadata": {},
   "outputs": [
    {
     "data": {
      "text/plain": [
       "75749"
      ]
     },
     "execution_count": 10,
     "metadata": {},
     "output_type": "execute_result"
    }
   ],
   "source": [
    "seen = set()\n",
    "\n",
    "frequencies = [int(n) for n in s]\n",
    "\n",
    "i = 0\n",
    "f = 0\n",
    "while f not in seen:\n",
    "    seen.add(f)\n",
    "    f += frequencies[i%len(frequencies)]\n",
    "    i += 1\n",
    "    \n",
    "f"
   ]
  },
  {
   "cell_type": "markdown",
   "metadata": {},
   "source": [
    "# Day 2"
   ]
  },
  {
   "cell_type": "markdown",
   "metadata": {},
   "source": [
    "## Part 1"
   ]
  },
  {
   "cell_type": "code",
   "execution_count": 21,
   "metadata": {},
   "outputs": [
    {
     "data": {
      "text/plain": [
       "7350"
      ]
     },
     "execution_count": 21,
     "metadata": {},
     "output_type": "execute_result"
    }
   ],
   "source": [
    "with open('inputs/day2.txt') as f:\n",
    "    s = f.read()[:-1].split('\\n')\n",
    "\n",
    "twos = 0\n",
    "threes = 0\n",
    "for box in s:\n",
    "    two = False\n",
    "    three = False\n",
    "    for c in range(ord('a'), ord('z')+1):\n",
    "        count = box.count(chr(c))\n",
    "        if count == 2:\n",
    "            two = True\n",
    "        if count == 3:\n",
    "            three = True\n",
    "    if two:\n",
    "        twos += 1\n",
    "    if three:\n",
    "        threes += 1\n",
    "            \n",
    "twos*threes"
   ]
  },
  {
   "cell_type": "markdown",
   "metadata": {},
   "source": [
    "## Part 2"
   ]
  },
  {
   "cell_type": "code",
   "execution_count": 25,
   "metadata": {},
   "outputs": [
    {
     "data": {
      "text/plain": [
       "'wmlnjevbfodamyiqpucrhsukg'"
      ]
     },
     "execution_count": 25,
     "metadata": {},
     "output_type": "execute_result"
    }
   ],
   "source": [
    "def hamming(s1,s2):\n",
    "    d = 0\n",
    "    for i in range(len(s1)):\n",
    "        if s1[i] != s2[i]:\n",
    "            d += 1\n",
    "    return d\n",
    "\n",
    "for i in range(len(s)):\n",
    "    for j in range(i+1,len(s)):\n",
    "        if hamming(s[i],s[j]) == 1:\n",
    "            s1 = s[i]\n",
    "            s2 = s[j]\n",
    "            \n",
    "''.join([s1[i] for i in range(len(s1)) if s1[i] == s2[i]])"
   ]
  },
  {
   "cell_type": "markdown",
   "metadata": {},
   "source": [
    "# Day 3"
   ]
  },
  {
   "cell_type": "markdown",
   "metadata": {},
   "source": [
    "## Part 1"
   ]
  },
  {
   "cell_type": "code",
   "execution_count": 45,
   "metadata": {},
   "outputs": [
    {
     "data": {
      "text/plain": [
       "111935"
      ]
     },
     "execution_count": 45,
     "metadata": {},
     "output_type": "execute_result"
    }
   ],
   "source": [
    "with open('inputs/day3.txt') as f:\n",
    "    s = f.read()[:-1].split('\\n')\n",
    "    \n",
    "def parse(claim):\n",
    "    pos = claim.split('@ ')[1].split(':')[0]\n",
    "    pos = (int(pos.split(',')[0]), int(pos.split(',')[1]))\n",
    "    size = claim.split(': ')[-1]\n",
    "    size = (int(size.split('x')[0]), int(size.split('x')[1]))\n",
    "    return (pos, (pos[0]+size[0], pos[1]+size[1]))\n",
    "    \n",
    "claims = {parse(c): c.split(' ')[0][1:] for c in s}\n",
    "claimed = set()\n",
    "double_claimed = set()\n",
    "\n",
    "for c in claims:\n",
    "    for x in range(c[0][0], c[1][0]):\n",
    "        for y in range(c[0][1], c[1][1]):\n",
    "            if (x,y) in claimed:\n",
    "                double_claimed.add((x,y))\n",
    "            else:\n",
    "                claimed.add((x,y))\n",
    "            \n",
    "len(double_claimed)"
   ]
  },
  {
   "cell_type": "markdown",
   "metadata": {},
   "source": [
    "## Part 2"
   ]
  },
  {
   "cell_type": "code",
   "execution_count": 46,
   "metadata": {},
   "outputs": [
    {
     "data": {
      "text/plain": [
       "'650'"
      ]
     },
     "execution_count": 46,
     "metadata": {},
     "output_type": "execute_result"
    }
   ],
   "source": [
    "for c in claims:\n",
    "    match = True\n",
    "    for x in range(c[0][0], c[1][0]):\n",
    "        for y in range(c[0][1], c[1][1]):\n",
    "            if (x,y) in double_claimed:\n",
    "                match = False\n",
    "    if match:\n",
    "        break\n",
    "        \n",
    "claims[c]"
   ]
  },
  {
   "cell_type": "markdown",
   "metadata": {},
   "source": [
    "# Day 4"
   ]
  },
  {
   "cell_type": "markdown",
   "metadata": {},
   "source": [
    "## Part 1"
   ]
  },
  {
   "cell_type": "code",
   "execution_count": 70,
   "metadata": {},
   "outputs": [
    {
     "data": {
      "text/plain": [
       "8421"
      ]
     },
     "execution_count": 70,
     "metadata": {},
     "output_type": "execute_result"
    }
   ],
   "source": [
    "with open('inputs/day4.txt') as f:\n",
    "    s = f.read()[:-1].split('\\n')\n",
    "    \n",
    "s.sort()\n",
    "current_guard = None\n",
    "last_sleep = None\n",
    "last_wake = None\n",
    "sleeping = False\n",
    "shifts = {}\n",
    "\n",
    "def parse(entry):\n",
    "    global current_guard\n",
    "    global last_sleep\n",
    "    global last_wake\n",
    "    global sleeping\n",
    "    \n",
    "    minute = int(entry.split(':')[1].split(']')[0])\n",
    "    hour = int(entry.split(' ')[1].split(':')[0])\n",
    "    if hour != 0:\n",
    "        minute = 0\n",
    "    if 'Guard' in entry:\n",
    "        if sleeping:\n",
    "            for t in range(last_sleep, 60):\n",
    "                shifts[current_guard][len(shifts[current_guard])-1].append(t)\n",
    "        sleeping = False\n",
    "        \n",
    "        current_guard = int(entry.split('#')[1].split(' ')[0])\n",
    "        if current_guard not in shifts:\n",
    "            shifts[current_guard] = {}\n",
    "        shifts[current_guard][len(shifts[current_guard])] = []\n",
    "    else:\n",
    "        if 'asleep' in entry:\n",
    "            last_sleep = minute\n",
    "            sleeping = True\n",
    "        else:\n",
    "            sleeping = False\n",
    "            last_wake = minute\n",
    "            for t in range(last_sleep, last_wake):\n",
    "                shifts[current_guard][len(shifts[current_guard])-1].append(t)\n",
    "        \n",
    "for entry in s:\n",
    "    parse(entry)\n",
    "    \n",
    "sleeps = {guard: sum([len(shifts[guard][s]) for s in shifts[guard]]) for guard in shifts}\n",
    "most_sleeping = max(sleeps, key=sleeps.get)\n",
    "\n",
    "sleep_minutes = []\n",
    "for shift in shifts[most_sleeping]:\n",
    "    sleep_minutes += shifts[most_sleeping][shift]\n",
    "\n",
    "minute_sleep_count = [sleep_minutes.count(t) for t in range(60)]\n",
    "max_slept_minute = max(minute_sleep_count)\n",
    "most_slept_minute = minute_sleep_count.index(max_slept_minute)\n",
    "\n",
    "most_sleeping*most_slept_minute"
   ]
  },
  {
   "cell_type": "markdown",
   "metadata": {},
   "source": [
    "## Part 2"
   ]
  },
  {
   "cell_type": "code",
   "execution_count": 75,
   "metadata": {},
   "outputs": [
    {
     "data": {
      "text/plain": [
       "83359"
      ]
     },
     "execution_count": 75,
     "metadata": {},
     "output_type": "execute_result"
    }
   ],
   "source": [
    "frequencies = {}\n",
    "\n",
    "for guard in shifts:\n",
    "    sleep_minutes = []\n",
    "    for shift in shifts[guard]:\n",
    "        sleep_minutes += shifts[guard][shift]\n",
    "    frequencies[guard] = [sleep_minutes.count(t) for t in range(60)]\n",
    "    \n",
    "max_guard_minute = 0\n",
    "guard = 0\n",
    "minute = 0\n",
    "for g in frequencies:\n",
    "    for m in range(60):\n",
    "        if frequencies[g][m] > max_guard_minute:\n",
    "            max_guard_minute = frequencies[g][m]\n",
    "            guard = g\n",
    "            minute = m\n",
    "            \n",
    "guard*minute"
   ]
  },
  {
   "cell_type": "markdown",
   "metadata": {},
   "source": [
    "# Day 5"
   ]
  },
  {
   "cell_type": "markdown",
   "metadata": {},
   "source": [
    "## Part 1"
   ]
  },
  {
   "cell_type": "code",
   "execution_count": 108,
   "metadata": {},
   "outputs": [
    {
     "data": {
      "text/plain": [
       "11298"
      ]
     },
     "execution_count": 108,
     "metadata": {},
     "output_type": "execute_result"
    }
   ],
   "source": [
    "with open('inputs/day5.txt') as f:\n",
    "    s = f.read()[:-1]\n",
    "\n",
    "units = [chr(c) for c in range(ord('a'), ord('z')+1)]\n",
    "\n",
    "def react(s):\n",
    "    start = ''\n",
    "    result = s\n",
    "    while len(start) != len(result):\n",
    "        start = result\n",
    "        for u in units:\n",
    "            while u + u.upper() in result:\n",
    "                result = result.replace(u + u.upper(), '')\n",
    "            while u.upper() + u in result:\n",
    "                result = result.replace(u.upper() + u, '')\n",
    "    return result\n",
    "    \n",
    "len(react(s))"
   ]
  },
  {
   "cell_type": "markdown",
   "metadata": {},
   "source": [
    "## Part 2"
   ]
  },
  {
   "cell_type": "code",
   "execution_count": 109,
   "metadata": {},
   "outputs": [
    {
     "data": {
      "text/plain": [
       "5148"
      ]
     },
     "execution_count": 109,
     "metadata": {},
     "output_type": "execute_result"
    }
   ],
   "source": [
    "min_length = len(s)\n",
    "for u in units:\n",
    "    poly = ''.join([c for c in s if c != u and c != u.upper()])\n",
    "    result = react(poly)\n",
    "    if len(result) < min_length:\n",
    "        min_length = len(result)\n",
    "        \n",
    "min_length"
   ]
  },
  {
   "cell_type": "markdown",
   "metadata": {},
   "source": [
    "# Day 6"
   ]
  },
  {
   "cell_type": "markdown",
   "metadata": {},
   "source": [
    "## Part 1"
   ]
  },
  {
   "cell_type": "code",
   "execution_count": 24,
   "metadata": {
    "scrolled": true
   },
   "outputs": [
    {
     "data": {
      "text/plain": [
       "4060"
      ]
     },
     "execution_count": 24,
     "metadata": {},
     "output_type": "execute_result"
    }
   ],
   "source": [
    "import queue\n",
    "\n",
    "with open('inputs/day6.txt') as f:\n",
    "    s = f.read()[:-1].split('\\n')\n",
    "    \n",
    "coords = {i: (int(s[i].split(', ')[0]), int(s[i].split(', ')[1])) for i in range(len(s))}\n",
    "closest = {}\n",
    "\n",
    "limit = 10000\n",
    "\n",
    "def distances(coord):    \n",
    "    return {c: abs(coords[c][0]-coord[0]) + abs(coords[c][1]-coord[1]) for c in coords}\n",
    "\n",
    "def closest(coord):    \n",
    "    d = distances(coord)\n",
    "    min_d = min(d.values())\n",
    "    d = {c: d[c] for c in d if d[c] == min_d}\n",
    "    return next(iter(d)) if len(d) == 1 else -1\n",
    "    \n",
    "def bfs(source, coord, visited, matching, q):\n",
    "    if coord in visited:\n",
    "        return\n",
    "    \n",
    "    visited.add(coord)\n",
    "    \n",
    "    if closest(coord) == source:\n",
    "        matching.add(coord)\n",
    "\n",
    "        (x,y) = coord\n",
    "        if (x,y-1) not in visited:\n",
    "            q.put((x,y-1))\n",
    "        if (x,y+1) not in visited:\n",
    "            q.put((x,y+1))\n",
    "        if (x-1,y) not in visited:\n",
    "            q.put((x-1,y))\n",
    "        if (x+1,y) not in visited:\n",
    "            q.put((x+1,y))\n",
    "            \n",
    "def discover(source):\n",
    "    q = queue.Queue()\n",
    "    matching = set()\n",
    "    visited = set()\n",
    "    q.put(coords[source])\n",
    "    while not q.empty() and len(matching) < limit:\n",
    "        bfs(source, q.get(), visited, matching, q)\n",
    "    if not q.empty():\n",
    "        return -1\n",
    "    else:\n",
    "        return len(matching)\n",
    "    \n",
    "areas = {c: discover(c) for c in coords}\n",
    "\n",
    "max(areas.values())"
   ]
  },
  {
   "cell_type": "markdown",
   "metadata": {},
   "source": [
    "## Part 2"
   ]
  },
  {
   "cell_type": "code",
   "execution_count": 32,
   "metadata": {},
   "outputs": [
    {
     "data": {
      "text/plain": [
       "36136"
      ]
     },
     "execution_count": 32,
     "metadata": {},
     "output_type": "execute_result"
    }
   ],
   "source": [
    "matches = 0\n",
    "for x in range(500):\n",
    "    for y in range(500):\n",
    "        if sum(distances((x,y)).values()) < 10000:\n",
    "            matches += 1\n",
    "            \n",
    "matches"
   ]
  },
  {
   "cell_type": "markdown",
   "metadata": {},
   "source": [
    "# Day 7"
   ]
  },
  {
   "cell_type": "markdown",
   "metadata": {},
   "source": [
    "## Part 1"
   ]
  },
  {
   "cell_type": "code",
   "execution_count": 48,
   "metadata": {},
   "outputs": [
    {
     "data": {
      "text/plain": [
       "'FMOXCDGJRAUIHKNYZTESWLPBQV'"
      ]
     },
     "execution_count": 48,
     "metadata": {},
     "output_type": "execute_result"
    }
   ],
   "source": [
    "with open('inputs/day7.txt') as f:\n",
    "    s = f.read()[:-1].split('\\n')\n",
    "\n",
    "deps = [(d.split(' ')[1], d.split(' ')[-3]) for d in s]\n",
    "    \n",
    "dependencies = {}\n",
    "for dep in deps:\n",
    "    if dep[0] not in dependencies:\n",
    "        dependencies[dep[0]] = []\n",
    "    if dep[1] not in dependencies:\n",
    "        dependencies[dep[1]] = []\n",
    "    dependencies[dep[1]].append(dep[0])\n",
    "    \n",
    "order = []\n",
    "\n",
    "while len(dependencies) != len(order):\n",
    "    executable = [d for d in dependencies if len(dependencies[d]) == 0 and d not in order]\n",
    "    executable.sort()\n",
    "    e = executable[0]\n",
    "    order.append(e)\n",
    "    dependencies = {d: [d1 for d1 in dependencies[d] if d1!= e] for d in dependencies}\n",
    "    \n",
    "''.join(order)"
   ]
  },
  {
   "cell_type": "markdown",
   "metadata": {},
   "source": [
    "## Part 2"
   ]
  },
  {
   "cell_type": "code",
   "execution_count": 60,
   "metadata": {},
   "outputs": [
    {
     "data": {
      "text/plain": [
       "1053"
      ]
     },
     "execution_count": 60,
     "metadata": {},
     "output_type": "execute_result"
    }
   ],
   "source": [
    "finish_times = {}\n",
    "startable_time = {}\n",
    "free_workers = 5\n",
    "\n",
    "dependencies = {}\n",
    "for dep in deps:\n",
    "    if dep[0] not in dependencies:\n",
    "        dependencies[dep[0]] = []\n",
    "    if dep[1] not in dependencies:\n",
    "        dependencies[dep[1]] = []\n",
    "    dependencies[dep[1]].append(dep[0])\n",
    "\n",
    "def task_time(task_id):\n",
    "    return ord(task_id) - 4\n",
    "\n",
    "def free_worker():\n",
    "    global free_workers\n",
    "    free_workers = min(free_workers+1, 5)\n",
    "    \n",
    "def tick(t):\n",
    "    global dependencies\n",
    "    finished = [f for f in finish_times if finish_times[f] == t]\n",
    "    for f in finished:\n",
    "        free_worker()\n",
    "        dependencies = {d: [d1 for d1 in dependencies[d] if d1!= f] for d in dependencies}\n",
    "    executable = [d for d in dependencies if len(dependencies[d]) == 0 and d not in finish_times]\n",
    "    executable.sort()\n",
    "    for i in range(min(free_workers, len(executable))):\n",
    "        e = executable[0]\n",
    "        executable = executable[1:]\n",
    "        finish_times[e] = t + task_time(e)\n",
    "        \n",
    "        \n",
    "t = 0\n",
    "while len(dependencies) != len(finish_times):\n",
    "    tick(t)\n",
    "    t += 1\n",
    "    \n",
    "max(finish_times.values())"
   ]
  },
  {
   "cell_type": "markdown",
   "metadata": {},
   "source": [
    "# Day 8"
   ]
  },
  {
   "cell_type": "markdown",
   "metadata": {},
   "source": [
    "## Part 1"
   ]
  },
  {
   "cell_type": "code",
   "execution_count": 60,
   "metadata": {},
   "outputs": [
    {
     "data": {
      "text/plain": [
       "46096"
      ]
     },
     "execution_count": 60,
     "metadata": {},
     "output_type": "execute_result"
    }
   ],
   "source": [
    "with open('inputs/day8.txt') as f:\n",
    "    s = f.read()[:-1]\n",
    "    \n",
    "tree = [int(n) for n in s.split(' ')]\n",
    "\n",
    "class Node:\n",
    "    def __init__(self, parent=None):\n",
    "        self.parent = parent\n",
    "        self.children = []\n",
    "        self.metadata = []\n",
    "        \n",
    "    def meta_sum(self):\n",
    "        a = sum(self.metadata)\n",
    "        for child in self.children:\n",
    "            a += child.meta_sum()\n",
    "        return a\n",
    "    \n",
    "    def value(self):\n",
    "        if len(self.children) == 0:\n",
    "            return sum(self.metadata)\n",
    "        else:\n",
    "            a = 0\n",
    "            for m in self.metadata:\n",
    "                if m <= len(self.children):\n",
    "                    a += self.children[m-1].value()\n",
    "            return a\n",
    "                \n",
    "        \n",
    "root = Node()\n",
    "current = root\n",
    "offset = 0\n",
    "while len(tree) > 0:\n",
    "    while tree[offset] != 0:\n",
    "        offset += 2\n",
    "        current.children.append(Node(current))\n",
    "        current = current.children[-1]\n",
    "        \n",
    "    for i in range(offset+2, offset+2+tree[offset+1]):\n",
    "        current.metadata.append(tree[i])\n",
    "        \n",
    "    tree = tree[:offset] + tree[offset+2+tree[offset+1]:]\n",
    "    \n",
    "    if offset != 0:\n",
    "        offset -= 2\n",
    "        tree[offset] -= 1\n",
    "        current = current.parent\n",
    "        \n",
    "root.meta_sum()"
   ]
  },
  {
   "cell_type": "markdown",
   "metadata": {},
   "source": [
    "## Part 2"
   ]
  },
  {
   "cell_type": "code",
   "execution_count": 61,
   "metadata": {},
   "outputs": [
    {
     "data": {
      "text/plain": [
       "24820"
      ]
     },
     "execution_count": 61,
     "metadata": {},
     "output_type": "execute_result"
    }
   ],
   "source": [
    "root.value()"
   ]
  },
  {
   "cell_type": "markdown",
   "metadata": {},
   "source": [
    "# Day 9"
   ]
  },
  {
   "cell_type": "markdown",
   "metadata": {},
   "source": [
    "## Part 1"
   ]
  },
  {
   "cell_type": "code",
   "execution_count": 69,
   "metadata": {},
   "outputs": [
    {
     "data": {
      "text/plain": [
       "436720"
      ]
     },
     "execution_count": 69,
     "metadata": {},
     "output_type": "execute_result"
    }
   ],
   "source": [
    "elves = 416\n",
    "max_marble = 71617\n",
    "\n",
    "class Node:\n",
    "    def __init__(self, value, prev_node = None, next_node = None):\n",
    "        self.value = value\n",
    "        if prev_node is not None:\n",
    "            self.prev = prev_node\n",
    "            prev_node.next = self\n",
    "        else:\n",
    "            self.prev = self\n",
    "        if next_node is not None:\n",
    "            self.next = next_node\n",
    "            next_node.prev = self\n",
    "        else:\n",
    "            self.next = self\n",
    "        \n",
    "    def pick(self):\n",
    "        self.prev.next = self.next\n",
    "        self.next.prev = self.prev\n",
    "        return self.value\n",
    "\n",
    "players = {i: 0 for i in range(elves)}\n",
    "current = Node(0)\n",
    "\n",
    "for i in range(0, max_marble):\n",
    "    if (i+1) % 23 != 0:\n",
    "        current = current.next\n",
    "        current = Node(i+1, current, current.next)\n",
    "    else:\n",
    "        players[i%elves] += i+1\n",
    "        for j in range(7):\n",
    "            current = current.prev\n",
    "        players[i%elves] += current.pick()\n",
    "        current = current.next\n",
    "        \n",
    "max(players.values())"
   ]
  },
  {
   "cell_type": "markdown",
   "metadata": {},
   "source": [
    "## Part 2"
   ]
  },
  {
   "cell_type": "code",
   "execution_count": 72,
   "metadata": {},
   "outputs": [
    {
     "data": {
      "text/plain": [
       "3527845091"
      ]
     },
     "execution_count": 72,
     "metadata": {},
     "output_type": "execute_result"
    }
   ],
   "source": [
    "max_marble = 7161700\n",
    "\n",
    "players = {i: 0 for i in range(elves)}\n",
    "current = Node(0)\n",
    "\n",
    "for i in range(0, max_marble):\n",
    "    if (i+1) % 23 != 0:\n",
    "        current = current.next\n",
    "        current = Node(i+1, current, current.next)\n",
    "    else:\n",
    "        players[i%elves] += i+1\n",
    "        for j in range(7):\n",
    "            current = current.prev\n",
    "        players[i%elves] += current.pick()\n",
    "        current = current.next\n",
    "        \n",
    "max(players.values())"
   ]
  },
  {
   "cell_type": "markdown",
   "metadata": {},
   "source": [
    "# Day 10"
   ]
  },
  {
   "cell_type": "markdown",
   "metadata": {},
   "source": [
    "## Part 1"
   ]
  },
  {
   "cell_type": "code",
   "execution_count": 121,
   "metadata": {
    "scrolled": true
   },
   "outputs": [
    {
     "data": {
      "text/plain": [
       "['#####...#####...#....#..#....#..#....#..######..######..#####.',\n",
       " '#....#..#....#..##...#..##...#..#....#..#............#..#....#',\n",
       " '#....#..#....#..##...#..##...#...#..#...#............#..#....#',\n",
       " '#....#..#....#..#.#..#..#.#..#...#..#...#...........#...#....#',\n",
       " '#####...#####...#.#..#..#.#..#....##....#####......#....#####.',\n",
       " '#..#....#.......#..#.#..#..#.#....##....#.........#.....#..#..',\n",
       " '#...#...#.......#..#.#..#..#.#...#..#...#........#......#...#.',\n",
       " '#...#...#.......#...##..#...##...#..#...#.......#.......#...#.',\n",
       " '#....#..#.......#...##..#...##..#....#..#.......#.......#....#',\n",
       " '#....#..#.......#....#..#....#..#....#..#.......######..#....#']"
      ]
     },
     "execution_count": 121,
     "metadata": {},
     "output_type": "execute_result"
    }
   ],
   "source": [
    "with open('inputs/day10.txt') as f:\n",
    "    s = f.read()[:-1].split('\\n')\n",
    "    \n",
    "def parse(string):\n",
    "    numbers = string[:-1].replace('position=<', '').replace('> velocity=<', ', ').split(', ')\n",
    "    return ((int(numbers[0]), int(numbers[1])),(int(numbers[2]), int(numbers[3])))\n",
    "\n",
    "stars = [(parse(star)[0], parse(star)[1])  for star in s]\n",
    "\n",
    "def move(stars):\n",
    "    return [((star[0][0] + star[1][0], star[0][1] + star[1][1]), star[1]) for star in stars]\n",
    "\n",
    "def draw(stars):\n",
    "    stars = {s[0] for s in stars}\n",
    "    min_x = min_y = max_x = max_y = None\n",
    "    for star in stars:\n",
    "        if min_x is None or min_x > star[0]:\n",
    "            min_x = star[0]\n",
    "        if max_x is None or max_x < star[0]:\n",
    "            max_x = star[0]\n",
    "        if min_y is None or min_y > star[1]:\n",
    "            min_y = star[1]\n",
    "        if max_y is None or max_y < star[1]:\n",
    "            max_y = star[1]\n",
    "    \n",
    "    return [''.join(['#' if (x,y) in stars else '.' for x in range(min_x, max_x+1)]) for y in range(min_y, max_y+1)]\n",
    "\n",
    "pattern_size = 6\n",
    "def check_for_message(stars):\n",
    "    stars = {s[0] for s in stars}\n",
    "    for star in stars:\n",
    "        (x,y) = star\n",
    "        \n",
    "        match_x = True\n",
    "        match_y = True\n",
    "        \n",
    "        for i in range(1,pattern_size+1):\n",
    "            if match_x:\n",
    "                match_x = (x+i, y) in stars\n",
    "            if match_y:\n",
    "                match_y = (x, y+i) in stars\n",
    "            if not (match_x or match_y):\n",
    "                break\n",
    "        \n",
    "        if match_x or match_y:\n",
    "            return True\n",
    "    return False\n",
    "    \n",
    "while not check_for_message(stars):\n",
    "    stars = move(stars)\n",
    "\n",
    "draw(stars)"
   ]
  },
  {
   "cell_type": "markdown",
   "metadata": {},
   "source": [
    "## Part 2"
   ]
  },
  {
   "cell_type": "code",
   "execution_count": 122,
   "metadata": {},
   "outputs": [
    {
     "data": {
      "text/plain": [
       "10946"
      ]
     },
     "execution_count": 122,
     "metadata": {},
     "output_type": "execute_result"
    }
   ],
   "source": [
    "stars = [(parse(star)[0], parse(star)[1])  for star in s]\n",
    "\n",
    "moves = 0\n",
    "while not check_for_message(stars):\n",
    "    moves += 1\n",
    "    stars = move(stars)\n",
    "    \n",
    "moves"
   ]
  },
  {
   "cell_type": "markdown",
   "metadata": {},
   "source": [
    "# Day 11"
   ]
  },
  {
   "cell_type": "markdown",
   "metadata": {},
   "source": [
    "## Part 1"
   ]
  },
  {
   "cell_type": "code",
   "execution_count": 145,
   "metadata": {},
   "outputs": [
    {
     "data": {
      "text/plain": [
       "(21, 76)"
      ]
     },
     "execution_count": 145,
     "metadata": {},
     "output_type": "execute_result"
    }
   ],
   "source": [
    "sn = 3031\n",
    "\n",
    "def power(x,y):\n",
    "    rack_id = x+10\n",
    "    power_level = rack_id * y\n",
    "    power_level += sn\n",
    "    power_level *= rack_id\n",
    "    power_level //= 100\n",
    "    power_level %= 10\n",
    "    power_level -= 5\n",
    "    return power_level\n",
    "    \n",
    "cells = {(x,y): power(x,y) for y in range(1,301) for x in range(1,301)}\n",
    "cache = {}\n",
    "\n",
    "def area_power(x,y,size):\n",
    "    if (x,y,size) in cache:\n",
    "        return cache[(x,y,size)]\n",
    "    if size == 1:\n",
    "        return cells[(x,y)]\n",
    "    power = area_power(x,y,size-1)\n",
    "    for i in range(size):\n",
    "        power += cells[(x+size-1,y+i)]\n",
    "        power += cells[(x+i,y+size-1)]\n",
    "    power -= cells[(x+size-1,y+size-1)]\n",
    "            \n",
    "    cache[(x,y,size)] = power\n",
    "    return power\n",
    "\n",
    "def max_coords(size):\n",
    "    max_power = -1000000\n",
    "    max_x = max_y = 0\n",
    "    for x in range(1,301-(size-1)):\n",
    "        for y in range(1, 301-(size-1)):\n",
    "            power = area_power(x,y,size)\n",
    "            if power > max_power:\n",
    "                max_power = power\n",
    "                max_x = x\n",
    "                max_y = y\n",
    "    return max_power, max_x, max_y\n",
    "\n",
    "\n",
    "max_coords(3)[1:]"
   ]
  },
  {
   "cell_type": "markdown",
   "metadata": {},
   "source": [
    "## Part 2"
   ]
  },
  {
   "cell_type": "code",
   "execution_count": 159,
   "metadata": {},
   "outputs": [
    {
     "data": {
      "text/plain": [
       "(234, 108, 16)"
      ]
     },
     "execution_count": 159,
     "metadata": {},
     "output_type": "execute_result"
    }
   ],
   "source": [
    "max_power = -1000000\n",
    "max_x = max_y = max_size = 0\n",
    "for size in range(1, 301):\n",
    "    power,x,y = max_coords(size)\n",
    "    if power > max_power:\n",
    "        max_power = power\n",
    "        max_x = x\n",
    "        max_y = y\n",
    "        max_size = size\n",
    "    \n",
    "(max_x, max_y, max_size)"
   ]
  },
  {
   "cell_type": "markdown",
   "metadata": {},
   "source": [
    "# Day 12"
   ]
  },
  {
   "cell_type": "markdown",
   "metadata": {},
   "source": [
    "## Part 1"
   ]
  },
  {
   "cell_type": "code",
   "execution_count": 192,
   "metadata": {},
   "outputs": [
    {
     "data": {
      "text/plain": [
       "3258"
      ]
     },
     "execution_count": 192,
     "metadata": {},
     "output_type": "execute_result"
    }
   ],
   "source": [
    "with open('inputs/day12.txt') as f:\n",
    "    s = f.read()[:-1].split('\\n')\n",
    "    \n",
    "init = s[0].replace('initial state: ', '')\n",
    "rules = {r.split(' => ')[0]: r.split(' => ')[1] for r in s[2:]}\n",
    "\n",
    "def surroundings(state,i):\n",
    "    l = len(state)\n",
    "    if i == 0:\n",
    "        return '..' + state[:3]\n",
    "    if i == 1:\n",
    "        return '.' + state[:4]\n",
    "    if i == l-1:\n",
    "        return state[l-3:] + '..'\n",
    "    if i == l-2:\n",
    "        return state[l-4:] + '.'\n",
    "    return state[i-2:i+3]\n",
    "\n",
    "def next_state(state, start):\n",
    "    new_state = '..' + state + '..'\n",
    "    start -= 2\n",
    "    new_state = ''.join([rules[surroundings(new_state, i)] for i in range(len(new_state))])\n",
    "    first_plant = new_state.index('#')\n",
    "    start += first_plant\n",
    "    return new_state[first_plant:new_state.rindex('#')+1], start\n",
    "\n",
    "state = init\n",
    "start = 0\n",
    "generations = 20\n",
    "for i in range(generations):\n",
    "    state, start = next_state(state, start)\n",
    "    \n",
    "def plants(state, start):\n",
    "    a = 0\n",
    "    for i in range(len(state)):\n",
    "        if state[i] == '#':\n",
    "            a += start+i\n",
    "    return a\n",
    "\n",
    "plants(state, start)"
   ]
  },
  {
   "cell_type": "markdown",
   "metadata": {},
   "source": [
    "## Part 2"
   ]
  },
  {
   "cell_type": "code",
   "execution_count": 213,
   "metadata": {},
   "outputs": [
    {
     "data": {
      "text/plain": [
       "3600000002022"
      ]
     },
     "execution_count": 213,
     "metadata": {},
     "output_type": "execute_result"
    }
   ],
   "source": [
    "generations = 50000000000\n",
    "stability_limit = 100\n",
    "last_diff = 0\n",
    "last_sum = 0\n",
    "stability = 0\n",
    "\n",
    "state = init\n",
    "start = 0\n",
    "for i in range(generations):\n",
    "    state, start = next_state(state, start)\n",
    "    a = plants(state, start)\n",
    "    diff = a - last_sum\n",
    "    if diff == last_diff:\n",
    "        stability += 1\n",
    "    last_diff = diff\n",
    "    last_sum = a\n",
    "    if stability >= stability_limit:\n",
    "        break\n",
    "    \n",
    "last_sum + last_diff*(generations-i-1)"
   ]
  },
  {
   "cell_type": "markdown",
   "metadata": {},
   "source": [
    "# Day 13"
   ]
  },
  {
   "cell_type": "markdown",
   "metadata": {},
   "source": [
    "## Part 1"
   ]
  },
  {
   "cell_type": "code",
   "execution_count": 345,
   "metadata": {},
   "outputs": [
    {
     "name": "stdout",
     "output_type": "stream",
     "text": [
      "123 18\n"
     ]
    }
   ],
   "source": [
    "with open('inputs/day13.txt') as f:\n",
    "    s = f.read()[:-1]\n",
    "    \n",
    "tracks = s.split('\\n')\n",
    "left = {(0,-1): (-1,0), (-1,0): (0,1), (0,1): (1,0), (1,0): (0,-1)}\n",
    "right = {left[d]: d for d in left}\n",
    "directions = {'<': (-1,0), '>': (1,0), '^': (0,-1), 'v': (0,1)}\n",
    "turning_order = [lambda d: left[d], lambda d: d, lambda d: right[d]]\n",
    "    \n",
    "def cart_at(x,y,carts):\n",
    "    return [c for c in carts if carts[c].x == x and carts[c].y == y]\n",
    "    \n",
    "class Cart:\n",
    "    def __init__(self,cart_id,x,y,direction):\n",
    "        self.x = x\n",
    "        self.y = y\n",
    "        self.direction = direction\n",
    "        self.state = 0\n",
    "        self.cart_id = cart_id\n",
    "        \n",
    "    def __repr__(self):\n",
    "        return '({}, {})'.format(self.x, self.y)\n",
    "        \n",
    "    def crashed(self,carts):\n",
    "        carts_here = cart_at(self.x, self.y,carts)\n",
    "        return carts_here if len(carts_here) > 1 else []\n",
    "        \n",
    "    def move(self):\n",
    "        self.x += self.direction[0]\n",
    "        self.y += self.direction[1]\n",
    "        if tracks[self.y][self.x] == '\\\\' and self.direction[0] == 0:\n",
    "            self.direction = left[self.direction]\n",
    "        elif tracks[self.y][self.x] == '\\\\' and self.direction[1] == 0:\n",
    "            self.direction = right[self.direction]\n",
    "        elif tracks[self.y][self.x] == '/' and self.direction[0] == 0:\n",
    "            self.direction = right[self.direction]\n",
    "        elif tracks[self.y][self.x] == '/' and self.direction[1] == 0:\n",
    "            self.direction = left[self.direction]\n",
    "        elif tracks[self.y][self.x] == '+':\n",
    "            self.direction = turning_order[self.state](self.direction)\n",
    "            self.state = (self.state + 1) % 3\n",
    "        \n",
    "        \n",
    "carts = {}\n",
    "for y in range(len(tracks)):\n",
    "    for x in range(len(tracks[0])):\n",
    "        if tracks[y][x] in '<>^v':\n",
    "            carts[len(carts)] = Cart(len(carts),x,y,directions[tracks[y][x]])\n",
    "    tracks[y] = tracks[y].replace('^', '|').replace('v', '|').replace('<','-').replace('>','-')\n",
    "    \n",
    "safe = True\n",
    "def move_carts():\n",
    "    global safe\n",
    "    cart_order = [(cart, carts[cart].x, carts[cart].y) for cart in carts]\n",
    "    cart_order.sort(key=lambda cart: cart[2])\n",
    "    cart_order.sort(key=lambda cart: cart[1])\n",
    "    \n",
    "    crashed = []\n",
    "    carts_new = {c:carts[c] for c in carts}\n",
    "    for cart in [c[0] for c in cart_order]:\n",
    "        if cart not in crashed:\n",
    "            carts_new[cart].move()\n",
    "            crash = carts_new[cart].crashed(carts_new)\n",
    "            if len(crash) != 0 and safe:\n",
    "                print(carts_new[cart].x, carts_new[cart].y)\n",
    "                safe = False\n",
    "            crashed += crash\n",
    "            carts_new = {c: carts_new[c] for c in carts_new if c not in crashed}\n",
    "    return carts_new\n",
    "\n",
    "while safe:\n",
    "    carts = move_carts()"
   ]
  },
  {
   "cell_type": "markdown",
   "metadata": {},
   "source": [
    "## Part 2"
   ]
  },
  {
   "cell_type": "code",
   "execution_count": 346,
   "metadata": {},
   "outputs": [
    {
     "data": {
      "text/plain": [
       "{2: (71, 123)}"
      ]
     },
     "execution_count": 346,
     "metadata": {},
     "output_type": "execute_result"
    }
   ],
   "source": [
    "tracks = s.split('\\n')\n",
    "carts = {}\n",
    "for y in range(len(tracks)):\n",
    "    for x in range(len(tracks[0])):\n",
    "        if tracks[y][x] in '<>^v':\n",
    "            carts[len(carts)] = Cart(len(carts),x,y,directions[tracks[y][x]])\n",
    "    tracks[y] = tracks[y].replace('^', '|').replace('v', '|').replace('<','-').replace('>','-')\n",
    "\n",
    "while len(carts) != 1:\n",
    "    carts = move_carts()\n",
    "\n",
    "carts"
   ]
  },
  {
   "cell_type": "markdown",
   "metadata": {},
   "source": [
    "# Day 14"
   ]
  },
  {
   "cell_type": "markdown",
   "metadata": {},
   "source": [
    "## Part 1"
   ]
  },
  {
   "cell_type": "code",
   "execution_count": 360,
   "metadata": {},
   "outputs": [
    {
     "data": {
      "text/plain": [
       "'1052903161'"
      ]
     },
     "execution_count": 360,
     "metadata": {},
     "output_type": "execute_result"
    }
   ],
   "source": [
    "recipe_count = 440231\n",
    "recipes = ['3','7']\n",
    "e0 = 0\n",
    "e1 = 1\n",
    "\n",
    "def create(recipes, e0, e1):\n",
    "    new_recipe = int(recipes[e0])+int(recipes[e1])\n",
    "    if new_recipe < 10:\n",
    "        recipes.append(str(new_recipe))\n",
    "    else:\n",
    "        recipes.append(str(new_recipe//10))\n",
    "        recipes.append(str(new_recipe%10))\n",
    "    e0 = (e0 + int(recipes[e0]) + 1) % len(recipes)\n",
    "    e1 = (e1 + int(recipes[e1]) + 1) % len(recipes)\n",
    "    return recipes, e0, e1\n",
    "\n",
    "while len(recipes) < recipe_count + 10:\n",
    "    recipes, e0, e1 = create(recipes, e0, e1)\n",
    "    \n",
    "''.join(recipes[recipe_count:recipe_count+10])"
   ]
  },
  {
   "cell_type": "markdown",
   "metadata": {},
   "source": [
    "## Part 2"
   ]
  },
  {
   "cell_type": "code",
   "execution_count": 378,
   "metadata": {},
   "outputs": [
    {
     "data": {
      "text/plain": [
       "20165504"
      ]
     },
     "execution_count": 378,
     "metadata": {},
     "output_type": "execute_result"
    }
   ],
   "source": [
    "recipe_count_str = str(recipe_count)\n",
    "recipes = ['3','7']\n",
    "e0 = 0\n",
    "e1 = 1\n",
    "\n",
    "while recipe_count_str not in ''.join(recipes[-10:]):\n",
    "    recipes, e0, e1 = create(recipes, e0, e1)\n",
    "    \n",
    "''.join(recipes).index(recipe_count_str)"
   ]
  }
 ],
 "metadata": {
  "kernelspec": {
   "display_name": "Python 3",
   "language": "python",
   "name": "python3"
  },
  "language_info": {
   "codemirror_mode": {
    "name": "ipython",
    "version": 3
   },
   "file_extension": ".py",
   "mimetype": "text/x-python",
   "name": "python",
   "nbconvert_exporter": "python",
   "pygments_lexer": "ipython3",
   "version": "3.7.4"
  }
 },
 "nbformat": 4,
 "nbformat_minor": 2
}
