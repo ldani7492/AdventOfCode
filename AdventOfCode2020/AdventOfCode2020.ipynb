{
 "cells": [
  {
   "cell_type": "markdown",
   "metadata": {},
   "source": [
    "# Day 1"
   ]
  },
  {
   "cell_type": "markdown",
   "metadata": {},
   "source": [
    "## Part 1"
   ]
  },
  {
   "cell_type": "code",
   "execution_count": 1,
   "metadata": {},
   "outputs": [
    {
     "data": {
      "text/plain": [
       "1016964"
      ]
     },
     "execution_count": 1,
     "metadata": {},
     "output_type": "execute_result"
    }
   ],
   "source": [
    "with open('inputs/day1.txt') as f:\n",
    "    s = f.read()[:-1]\n",
    "    \n",
    "numbers = [int(n) for n in s.split('\\n')]\n",
    "\n",
    "for n in numbers:\n",
    "    if 2020-n in numbers:\n",
    "        break\n",
    "\n",
    "n*(2020-n)"
   ]
  },
  {
   "cell_type": "markdown",
   "metadata": {},
   "source": [
    "## Part 2"
   ]
  },
  {
   "cell_type": "code",
   "execution_count": 2,
   "metadata": {},
   "outputs": [
    {
     "data": {
      "text/plain": [
       "182588480"
      ]
     },
     "execution_count": 2,
     "metadata": {},
     "output_type": "execute_result"
    }
   ],
   "source": [
    "found = False\n",
    "\n",
    "for i in range(len(numbers)):\n",
    "    for j in range(i+1, len(numbers)):\n",
    "        if 2020-numbers[i]-numbers[j] in numbers:\n",
    "            found = True\n",
    "            break\n",
    "    if found:\n",
    "        break\n",
    "            \n",
    "numbers[i]*numbers[j]*(2020-numbers[i]-numbers[j])"
   ]
  },
  {
   "cell_type": "markdown",
   "metadata": {},
   "source": [
    "# Day 2"
   ]
  },
  {
   "cell_type": "markdown",
   "metadata": {},
   "source": [
    "## Part 1"
   ]
  },
  {
   "cell_type": "code",
   "execution_count": 32,
   "metadata": {},
   "outputs": [
    {
     "data": {
      "text/plain": [
       "517"
      ]
     },
     "execution_count": 32,
     "metadata": {},
     "output_type": "execute_result"
    }
   ],
   "source": [
    "with open('inputs/day2.txt') as f:\n",
    "    s = f.read()[:-1]\n",
    "    \n",
    "def policy(p):\n",
    "    min_count = int(p.split('-')[0])\n",
    "    max_count = int(p.split(' ')[0].split('-')[1])\n",
    "    char = p.split(' ')[1]\n",
    "    return (min_count, max_count, char)\n",
    "   \n",
    "    \n",
    "def validate(password, char, min_count, max_count):\n",
    "    return password.count(char) in range(min_count, max_count+1)\n",
    "    \n",
    "    \n",
    "passwords = [(p.split(': ')[1], policy(p.split(': ')[0])) for p in s.split('\\n')]\n",
    "valid = [passwd for passwd in passwords if validate(passwd[0], passwd[1][2], passwd[1][0], passwd[1][1])]\n",
    "\n",
    "len(valid)"
   ]
  },
  {
   "cell_type": "markdown",
   "metadata": {},
   "source": [
    "## Part 2"
   ]
  },
  {
   "cell_type": "code",
   "execution_count": 34,
   "metadata": {},
   "outputs": [
    {
     "data": {
      "text/plain": [
       "284"
      ]
     },
     "execution_count": 34,
     "metadata": {},
     "output_type": "execute_result"
    }
   ],
   "source": [
    "def validate(password, char, index1, index2):\n",
    "    valid = False\n",
    "    if password[index1-1] == char:\n",
    "        valid ^= True\n",
    "    if password[index2-1] == char:\n",
    "        valid ^= True\n",
    "    return valid\n",
    "\n",
    "valid = [passwd for passwd in passwords if validate(passwd[0], passwd[1][2], passwd[1][0], passwd[1][1])]\n",
    "\n",
    "len(valid)"
   ]
  },
  {
   "cell_type": "markdown",
   "metadata": {},
   "source": [
    "# Day 3"
   ]
  },
  {
   "cell_type": "markdown",
   "metadata": {},
   "source": [
    "## Part 1"
   ]
  },
  {
   "cell_type": "code",
   "execution_count": 7,
   "metadata": {},
   "outputs": [
    {
     "data": {
      "text/plain": [
       "220"
      ]
     },
     "execution_count": 7,
     "metadata": {},
     "output_type": "execute_result"
    }
   ],
   "source": [
    "with open('inputs/day3.txt') as f:\n",
    "    s = f.read()[:-1]\n",
    "    \n",
    "slope = s.split('\\n')\n",
    "v = (3,1)\n",
    "\n",
    "def trees(v):\n",
    "    tree_count = 0\n",
    "    pos = (0,0)\n",
    "    while pos[1] in range(len(slope)):\n",
    "        if slope[pos[1]][pos[0]] == '#':\n",
    "            tree_count += 1\n",
    "        pos = ((pos[0]+v[0])%len(slope[0]), pos[1]+v[1])\n",
    "    return tree_count\n",
    "        \n",
    "trees(v)"
   ]
  },
  {
   "cell_type": "markdown",
   "metadata": {},
   "source": [
    "## Part 2"
   ]
  },
  {
   "cell_type": "code",
   "execution_count": 8,
   "metadata": {},
   "outputs": [
    {
     "data": {
      "text/plain": [
       "2138320800"
      ]
     },
     "execution_count": 8,
     "metadata": {},
     "output_type": "execute_result"
    }
   ],
   "source": [
    "vectors = [(1,1), (3,1), (5,1), (7,1), (1,2)]\n",
    "m = 1\n",
    "\n",
    "for v in vectors:\n",
    "    m *= trees(v)\n",
    "    \n",
    "m"
   ]
  },
  {
   "cell_type": "markdown",
   "metadata": {},
   "source": [
    "# Day 4"
   ]
  },
  {
   "cell_type": "markdown",
   "metadata": {},
   "source": [
    "## Part 1"
   ]
  },
  {
   "cell_type": "code",
   "execution_count": 26,
   "metadata": {},
   "outputs": [
    {
     "data": {
      "text/plain": [
       "210"
      ]
     },
     "execution_count": 26,
     "metadata": {},
     "output_type": "execute_result"
    }
   ],
   "source": [
    "with open('inputs/day4.txt') as f:\n",
    "    s = f.read()[:-1]\n",
    "    \n",
    "fields = ['byr', 'iyr', 'eyr', 'hgt', 'hcl', 'ecl', 'pid']\n",
    "    \n",
    "documents = [d.replace(' ', ';').replace('\\n', ';').split(';') for d in s.split('\\n\\n')]\n",
    "documents = [{field.split(':')[0]: field.split(':')[1] for field in d} for d in documents]\n",
    "\n",
    "def valid(document):\n",
    "    for f in fields:\n",
    "        if f not in document:\n",
    "            return False\n",
    "    return True\n",
    "\n",
    "len([d for d in documents if valid(d)])"
   ]
  },
  {
   "cell_type": "markdown",
   "metadata": {},
   "source": [
    "## Part 2"
   ]
  },
  {
   "cell_type": "code",
   "execution_count": 28,
   "metadata": {},
   "outputs": [
    {
     "data": {
      "text/plain": [
       "131"
      ]
     },
     "execution_count": 28,
     "metadata": {},
     "output_type": "execute_result"
    }
   ],
   "source": [
    "def year(y, y0, y1):\n",
    "    return y.isdigit and int(y) >= y0 and int(y) <= y1\n",
    "\n",
    "def height(h):\n",
    "    if not h[-2:] in ['cm', 'in'] or not h[:-2].isdigit():\n",
    "        return False\n",
    "    if 'cm' in h:\n",
    "        return int(h[:-2]) in range(150,194)\n",
    "    else:\n",
    "        return int(h[:-2]) in range(59,77)\n",
    "    \n",
    "def hair(c):\n",
    "    if not (len(c) == 7 and c[0] == '#'):\n",
    "        return False\n",
    "    for ch in c[1:]:\n",
    "        if not (ch.isdigit() or ch in 'abcdef'):\n",
    "            return False\n",
    "    return True\n",
    "    \n",
    "\n",
    "validations = {'byr': (lambda byr: year(byr, 1920, 2002)), \\\n",
    "               'iyr': (lambda iyr: year(iyr, 2010, 2020)), \\\n",
    "               'eyr': (lambda eyr: year(eyr, 2020, 2030)), \\\n",
    "               'hgt': height, \\\n",
    "               'hcl': hair, \\\n",
    "               'ecl': (lambda ecl: ecl in ['amb', 'blu', 'brn', 'gry', 'grn', 'hzl', 'oth']), \\\n",
    "               'pid': (lambda pid: len(pid) == 9 and pid.isdigit())}\n",
    "\n",
    "def valid(document):\n",
    "    for f in validations:\n",
    "        if f not in document or not validations[f](document[f]):\n",
    "            return False\n",
    "    return True\n",
    "\n",
    "len([d for d in documents if valid(d)])"
   ]
  },
  {
   "cell_type": "markdown",
   "metadata": {},
   "source": [
    "# Day 5"
   ]
  },
  {
   "cell_type": "markdown",
   "metadata": {},
   "source": [
    "## Part 1"
   ]
  },
  {
   "cell_type": "code",
   "execution_count": 22,
   "metadata": {},
   "outputs": [
    {
     "data": {
      "text/plain": [
       "947"
      ]
     },
     "execution_count": 22,
     "metadata": {},
     "output_type": "execute_result"
    }
   ],
   "source": [
    "with open('inputs/day5.txt') as f:\n",
    "    seats = f.read()[:-1].split('\\n')\n",
    "    \n",
    "def calculate_row(directions):\n",
    "    low, high = 0,127\n",
    "    for d in directions:\n",
    "        if d == 'F':\n",
    "            high = (low+high)//2\n",
    "        else:\n",
    "            low = (low+high)//2 + 1\n",
    "    return low\n",
    "    \n",
    "def calculate_column(directions):\n",
    "    low, high = 0,7\n",
    "    for d in directions:\n",
    "        if d == 'L':\n",
    "            high = (low+high)//2\n",
    "        else:\n",
    "            low = (low+high)//2 + 1\n",
    "    return low\n",
    "    \n",
    "def seat(directions):\n",
    "    row = calculate_row(directions[:7])\n",
    "    column = calculate_column(directions[7:])\n",
    "    return (row, column)\n",
    "\n",
    "seats = {seat(s): 8*seat(s)[0]+seat(s)[1] for s in seats}\n",
    "max(seats.values())"
   ]
  },
  {
   "cell_type": "markdown",
   "metadata": {},
   "source": [
    "## Part 2"
   ]
  },
  {
   "cell_type": "code",
   "execution_count": 32,
   "metadata": {},
   "outputs": [
    {
     "data": {
      "text/plain": [
       "636"
      ]
     },
     "execution_count": 32,
     "metadata": {},
     "output_type": "execute_result"
    }
   ],
   "source": [
    "seat = [(x,y) for x in range(1,127) for y in range(0,8) \\\n",
    "              if (x,y) not in seats and 8*x+y-1 in seats.values() and 8*x+y+1 in seats.values()][0]\n",
    "\n",
    "8*seat[0]+seat[1]"
   ]
  },
  {
   "cell_type": "markdown",
   "metadata": {},
   "source": [
    "# Day 6"
   ]
  },
  {
   "cell_type": "markdown",
   "metadata": {},
   "source": [
    "## Part 1"
   ]
  },
  {
   "cell_type": "code",
   "execution_count": 1,
   "metadata": {},
   "outputs": [
    {
     "data": {
      "text/plain": [
       "7110"
      ]
     },
     "execution_count": 1,
     "metadata": {},
     "output_type": "execute_result"
    }
   ],
   "source": [
    "with open('inputs/day6.txt') as f:\n",
    "    s = f.read()[:-1]\n",
    "    \n",
    "groups = s.split('\\n\\n')\n",
    "\n",
    "def count_1s(n):\n",
    "    count = 0\n",
    "    while n != 0:\n",
    "        n &= n-1\n",
    "        count += 1\n",
    "        \n",
    "    return count\n",
    "\n",
    "def group_yes_or(group):\n",
    "    group = group.replace('\\n', '')\n",
    "    a = 0\n",
    "    for q in group:\n",
    "        a |= 1 << (ord(q) - ord('a'))\n",
    "        \n",
    "    return a\n",
    "\n",
    "sum([count_1s(group_yes_or(group)) for group in groups])"
   ]
  },
  {
   "cell_type": "markdown",
   "metadata": {},
   "source": [
    "## Part 2"
   ]
  },
  {
   "cell_type": "code",
   "execution_count": 2,
   "metadata": {},
   "outputs": [
    {
     "data": {
      "text/plain": [
       "3628"
      ]
     },
     "execution_count": 2,
     "metadata": {},
     "output_type": "execute_result"
    }
   ],
   "source": [
    "def group_yes_and(group):\n",
    "    people = [group_yes_or(person) for person in group.split('\\n')]\n",
    "    a = (2 << 26) - 1\n",
    "    for person in people:\n",
    "        a &= person\n",
    "        \n",
    "    return a\n",
    "\n",
    "sum([count_1s(group_yes_and(group)) for group in groups])"
   ]
  },
  {
   "cell_type": "markdown",
   "metadata": {},
   "source": [
    "# Day 7"
   ]
  },
  {
   "cell_type": "markdown",
   "metadata": {},
   "source": [
    "## Part 1"
   ]
  },
  {
   "cell_type": "code",
   "execution_count": 35,
   "metadata": {},
   "outputs": [
    {
     "data": {
      "text/plain": [
       "370"
      ]
     },
     "execution_count": 35,
     "metadata": {},
     "output_type": "execute_result"
    }
   ],
   "source": [
    "with open('inputs/day7.txt') as f:\n",
    "    s = f.read()[:-1]\n",
    "    \n",
    "target = 'shiny gold'\n",
    "\n",
    "def parse(rules):\n",
    "    if 'no other bags' in rules:\n",
    "        return {}\n",
    "    else:\n",
    "        rules = rules.replace(' bags', '').replace(' bag', '')\n",
    "        return {' '.join(rule.split(' ')[1:]): int(rule.split(' ')[0]) for rule in rules.split(', ')}\n",
    "    \n",
    "    \n",
    "rules = {bag.split(' bags contain ')[0]: parse(bag[:-1].split(' bags contain ')[1]) for bag in s.split('\\n')}\n",
    "\n",
    "outermost = set()\n",
    "next_outermost = {bag for bag in rules if target in rules[bag]}\n",
    "while len(outermost) != len(next_outermost):\n",
    "    outermost.update(next_outermost)\n",
    "    next_outermost.update({bag for bag in rules if len(outermost.intersection(rules[bag])) != 0})\n",
    "    \n",
    "len(outermost)"
   ]
  },
  {
   "cell_type": "markdown",
   "metadata": {},
   "source": [
    "## Part 2"
   ]
  },
  {
   "cell_type": "code",
   "execution_count": 43,
   "metadata": {},
   "outputs": [
    {
     "data": {
      "text/plain": [
       "29547"
      ]
     },
     "execution_count": 43,
     "metadata": {},
     "output_type": "execute_result"
    }
   ],
   "source": [
    "bags = {bag: rules[target][bag] for bag in rules[target]}\n",
    "\n",
    "def open_bag(bag):\n",
    "    contains = {inner: rules[bag][inner] for inner in rules[bag]}\n",
    "    contains_all = {bag: contains[bag] for bag in contains}\n",
    "    for inner in contains:\n",
    "        deep = open_bag(inner)\n",
    "        for inner_inner in deep:\n",
    "            contains_all[inner_inner] = contains_all.get(inner_inner, 0) + contains[inner]*deep[inner_inner]\n",
    "    return contains_all\n",
    "\n",
    "sum(open_bag(target).values())"
   ]
  },
  {
   "cell_type": "markdown",
   "metadata": {},
   "source": [
    "# Day 8"
   ]
  },
  {
   "cell_type": "markdown",
   "metadata": {},
   "source": [
    "## Part 1"
   ]
  },
  {
   "cell_type": "code",
   "execution_count": 3,
   "metadata": {},
   "outputs": [
    {
     "data": {
      "text/plain": [
       "2058"
      ]
     },
     "execution_count": 3,
     "metadata": {},
     "output_type": "execute_result"
    }
   ],
   "source": [
    "with open('inputs/day8.txt') as f:\n",
    "    instructions = f.read()[:-1].split('\\n')\n",
    "\n",
    "def acc(n,a,i):\n",
    "    return a+n,i+1\n",
    "\n",
    "def nop(n,a,i):\n",
    "    return a,i+1\n",
    "\n",
    "def jmp(n,a,i):\n",
    "    return a,i+n\n",
    "\n",
    "instruction_map = {'acc': acc, 'nop': nop, 'jmp': jmp}\n",
    "def execute(a,i):\n",
    "    instruction = instructions[i]\n",
    "    return instruction_map[instruction.split(' ')[0]](int(instruction.split(' ')[1]),a,i)\n",
    "\n",
    "def process(instructions):\n",
    "    a = i = 0\n",
    "    executed = set()\n",
    "    while i not in executed:\n",
    "        executed.add(i)\n",
    "        a,i = execute(a,i)\n",
    "    return a\n",
    "\n",
    "process(instructions)"
   ]
  },
  {
   "cell_type": "markdown",
   "metadata": {},
   "source": [
    "## Part 2"
   ]
  },
  {
   "cell_type": "code",
   "execution_count": 26,
   "metadata": {},
   "outputs": [
    {
     "data": {
      "text/plain": [
       "1000"
      ]
     },
     "execution_count": 26,
     "metadata": {},
     "output_type": "execute_result"
    }
   ],
   "source": [
    "def process(instructions):\n",
    "    a = i = 0\n",
    "    limit = 1000\n",
    "    while limit > 0 and i in range(len(instructions)):\n",
    "        limit -= 1\n",
    "        a,i = execute(a,i)\n",
    "    return a, i not in range(len(instructions))\n",
    "\n",
    "def toggle(instruction):\n",
    "    return instruction.replace('nop', 'jmp') if 'nop' in instruction else instruction.replace('jmp', 'nop')\n",
    "\n",
    "toggle_i = 0\n",
    "executed = False\n",
    "while toggle_i in range(len(instructions)) and not executed:\n",
    "    instructions[toggle_i] = toggle(instructions[toggle_i])\n",
    "    a, executed = process(instructions)\n",
    "    instructions[toggle_i] = toggle(instructions[toggle_i])\n",
    "    toggle_i += 1\n",
    "    \n",
    "a"
   ]
  },
  {
   "cell_type": "markdown",
   "metadata": {},
   "source": [
    "# Day 9"
   ]
  },
  {
   "cell_type": "markdown",
   "metadata": {},
   "source": [
    "## Part 1"
   ]
  },
  {
   "cell_type": "code",
   "execution_count": 12,
   "metadata": {},
   "outputs": [
    {
     "data": {
      "text/plain": [
       "731031916"
      ]
     },
     "execution_count": 12,
     "metadata": {},
     "output_type": "execute_result"
    }
   ],
   "source": [
    "with open('inputs/day9.txt') as f:\n",
    "    numbers = [int(n) for n in f.read()[:-1].split('\\n')]\n",
    "    \n",
    "i = 25\n",
    "\n",
    "def valid(i,numbers):\n",
    "    n = numbers[i]\n",
    "    pre = numbers[i-25:i]\n",
    "    parts = [p for p in pre if n-p in pre]\n",
    "    return (len(parts)) != 0\n",
    "\n",
    "for i in range(25,len(numbers)):\n",
    "    if not valid(i,numbers):\n",
    "        break\n",
    "        \n",
    "numbers[i]"
   ]
  },
  {
   "cell_type": "markdown",
   "metadata": {},
   "source": [
    "## Part 2"
   ]
  },
  {
   "cell_type": "code",
   "execution_count": 21,
   "metadata": {},
   "outputs": [
    {
     "data": {
      "text/plain": [
       "93396727"
      ]
     },
     "execution_count": 21,
     "metadata": {},
     "output_type": "execute_result"
    }
   ],
   "source": [
    "target = numbers[i]\n",
    "\n",
    "for low in range(i):\n",
    "    for high in range(low+1,i-1):\n",
    "        n = sum(numbers[low:high+1])\n",
    "        if n == target:\n",
    "            break\n",
    "    if n == target:\n",
    "        break\n",
    "        \n",
    "min(numbers[low:high+1]) + max(numbers[low:high+1])"
   ]
  },
  {
   "cell_type": "markdown",
   "metadata": {},
   "source": [
    "# Day 10"
   ]
  },
  {
   "cell_type": "markdown",
   "metadata": {},
   "source": [
    "## Part 1"
   ]
  },
  {
   "cell_type": "code",
   "execution_count": 50,
   "metadata": {},
   "outputs": [
    {
     "data": {
      "text/plain": [
       "1755"
      ]
     },
     "execution_count": 50,
     "metadata": {},
     "output_type": "execute_result"
    }
   ],
   "source": [
    "with open('inputs/day10.txt') as f:\n",
    "    adapters = [int(n) for n in f.read()[:-1].split('\\n')]\n",
    "        \n",
    "chain = adapters + [0] + [max(adapters)+3]\n",
    "chain.sort()\n",
    "\n",
    "jumps = {0: 0, 1: 0, 2: 0, 3: 0}\n",
    "for i in range(len(chain)-1):\n",
    "    jumps[chain[i+1] - chain[i]] += 1\n",
    "    \n",
    "jumps[1]*jumps[3]"
   ]
  },
  {
   "cell_type": "markdown",
   "metadata": {},
   "source": [
    "## Part 2"
   ]
  },
  {
   "cell_type": "code",
   "execution_count": 52,
   "metadata": {},
   "outputs": [
    {
     "data": {
      "text/plain": [
       "4049565169664"
      ]
     },
     "execution_count": 52,
     "metadata": {},
     "output_type": "execute_result"
    }
   ],
   "source": [
    "cache = {}\n",
    "\n",
    "def build(i):\n",
    "    if i in cache:\n",
    "        return cache[i]\n",
    "    \n",
    "    if i >= len(chain):\n",
    "        return 0\n",
    "    if i == len(chain)-1:\n",
    "        return 1\n",
    "    \n",
    "    chains = 0\n",
    "    last = chain[i]\n",
    "    for j in range(1,4):\n",
    "        if i+j < len(chain) and chain[i+j] <= last+3 and \\\n",
    "        (i+j == len(chain)-1 or chain[i+j]+1 in chain or chain[i+j]+2 in chain or chain[i+j]+3 in chain):\n",
    "            chains += build(i+j)\n",
    "    \n",
    "    cache[i] = chains\n",
    "    return chains\n",
    "        \n",
    "build(0)"
   ]
  },
  {
   "cell_type": "markdown",
   "metadata": {},
   "source": [
    "# Day 11"
   ]
  },
  {
   "cell_type": "markdown",
   "metadata": {},
   "source": [
    "## Part 1"
   ]
  },
  {
   "cell_type": "code",
   "execution_count": 20,
   "metadata": {},
   "outputs": [
    {
     "data": {
      "text/plain": [
       "2338"
      ]
     },
     "execution_count": 20,
     "metadata": {},
     "output_type": "execute_result"
    }
   ],
   "source": [
    "with open('inputs/day11.txt') as f:\n",
    "    s = f.read()[:-1].split('\\n')\n",
    "    \n",
    "h = len(s)\n",
    "w = len(s[0])\n",
    "\n",
    "seats = {}\n",
    "for y in range(h):\n",
    "    for x in range(w):\n",
    "        if s[y][x] != '.':\n",
    "            seats[(x,y)] = s[y][x]\n",
    "\n",
    "def occupied_neighbours(x,y,seats):\n",
    "    return sum([1 for i in range(-1,2) for j in range(-1,2) if not (i == 0 and j == 0) and seats.get((x+i,y+j),'.') == '#'])\n",
    "         \n",
    "def next_state(x,y,seats):\n",
    "    adjecent = occupied_neighbours(x,y,seats)\n",
    "    if seats[(x,y)] == 'L' and adjecent == 0:\n",
    "        return '#'\n",
    "    if seats[(x,y)] == '#' and adjecent >= 4:\n",
    "        return 'L'\n",
    "    return seats[(x,y)]\n",
    "    \n",
    "def tick(seats):\n",
    "    return {(x,y): next_state(x,y,seats) for (x,y) in seats}\n",
    "\n",
    "new_seats = tick(seats)\n",
    "while seats != new_seats:\n",
    "    seats = new_seats\n",
    "    new_seats = tick(seats)\n",
    "    \n",
    "list(seats.values()).count('#')"
   ]
  },
  {
   "cell_type": "markdown",
   "metadata": {},
   "source": [
    "## Part 2"
   ]
  },
  {
   "cell_type": "code",
   "execution_count": 21,
   "metadata": {},
   "outputs": [
    {
     "data": {
      "text/plain": [
       "2134"
      ]
     },
     "execution_count": 21,
     "metadata": {},
     "output_type": "execute_result"
    }
   ],
   "source": [
    "def find_first(x0,y0,dx,dy,seats):\n",
    "    n = 1\n",
    "    while x0+n*dx in range(w) and y0+n*dy in range(h):\n",
    "        if (x0+n*dx, y0+n*dy) in seats:\n",
    "            return seats[(x0+n*dx, y0+n*dy)]\n",
    "        n += 1\n",
    "    return '.'\n",
    "    \n",
    "            \n",
    "def visible_neighbours(x,y,seats):\n",
    "    return sum([1 for i in range(-1,2) for j in range(-1,2) if not (i == 0 and j == 0) and find_first(x,y,i,j,seats) == '#'])\n",
    "            \n",
    "def next_state(x,y,seats):\n",
    "    visible = visible_neighbours(x,y,seats)\n",
    "    if seats[(x,y)] == 'L' and visible == 0:\n",
    "        return '#'\n",
    "    if seats[(x,y)] == '#' and visible >= 5:\n",
    "        return 'L'\n",
    "    return seats[(x,y)]\n",
    "\n",
    "seats = {}\n",
    "for y in range(h):\n",
    "    for x in range(w):\n",
    "        if s[y][x] != '.':\n",
    "            seats[(x,y)] = s[y][x]\n",
    "\n",
    "new_seats = tick(seats)\n",
    "while seats != new_seats:\n",
    "    seats = new_seats\n",
    "    new_seats = tick(seats)\n",
    "    \n",
    "list(seats.values()).count('#')"
   ]
  },
  {
   "cell_type": "markdown",
   "metadata": {},
   "source": [
    "# Day 12"
   ]
  },
  {
   "cell_type": "markdown",
   "metadata": {},
   "source": [
    "## Part 1"
   ]
  },
  {
   "cell_type": "code",
   "execution_count": 10,
   "metadata": {},
   "outputs": [
    {
     "data": {
      "text/plain": [
       "757"
      ]
     },
     "execution_count": 10,
     "metadata": {},
     "output_type": "execute_result"
    }
   ],
   "source": [
    "with open('inputs/day12.txt') as f:\n",
    "    s = f.read()[:-1].split('\\n')\n",
    "\n",
    "absolute_directions = {'E': (1,0), 'N': (0,-1), 'W': (-1,0), 'S': (0,1)}\n",
    "directions = ['E', 'N', 'W', 'S']\n",
    "direction = 0\n",
    "position = (0,0)\n",
    "\n",
    "def move(command, position, direction):\n",
    "    if command[0] in 'ENWS':\n",
    "        d = absolute_directions[command[0]]\n",
    "        n = int(command[1:])\n",
    "        return (position[0]+n*d[0], position[1]+n*d[1]), direction\n",
    "    if command[0] == 'F':\n",
    "        d = absolute_directions[directions[direction]]\n",
    "        n = int(command[1:])\n",
    "        return (position[0]+n*d[0], position[1]+n*d[1]), direction\n",
    "    if command[0] == 'L':\n",
    "        n = int(command[1:]) // 90\n",
    "        return position, (direction + n) % 4\n",
    "    if command[0] == 'R':\n",
    "        n = int(command[1:]) // 90\n",
    "        return position, (direction - n) % 4\n",
    "    \n",
    "for command in s:\n",
    "    position, direction = move(command, position, direction)\n",
    "    \n",
    "abs(position[0]) + abs(position[1])"
   ]
  },
  {
   "cell_type": "markdown",
   "metadata": {},
   "source": [
    "## Part 2"
   ]
  },
  {
   "cell_type": "code",
   "execution_count": 12,
   "metadata": {},
   "outputs": [
    {
     "data": {
      "text/plain": [
       "51249"
      ]
     },
     "execution_count": 12,
     "metadata": {},
     "output_type": "execute_result"
    }
   ],
   "source": [
    "direction = 0\n",
    "position = (0,0)\n",
    "waypoint = (10,-1)\n",
    "\n",
    "def move(command, position, direction, waypoint):\n",
    "    if command[0] in 'ENWS':\n",
    "        d = absolute_directions[command[0]]\n",
    "        n = int(command[1:])\n",
    "        return position, direction, (waypoint[0]+n*d[0], waypoint[1]+n*d[1])\n",
    "    if command[0] == 'F':\n",
    "        n = int(command[1:])\n",
    "        return (position[0]+n*waypoint[0], position[1]+n*waypoint[1]), direction, waypoint\n",
    "    if command[0] == 'L':\n",
    "        n = int(command[1:]) // 90\n",
    "        for i in range(n):\n",
    "            waypoint = (waypoint[1], -waypoint[0])\n",
    "        return position, direction, waypoint\n",
    "    if command[0] == 'R':\n",
    "        n = int(command[1:]) // 90\n",
    "        for i in range(n):\n",
    "            waypoint = (-waypoint[1], waypoint[0])\n",
    "        return position, direction, waypoint\n",
    "    \n",
    "for command in s:\n",
    "    position, direction, waypoint = move(command, position, direction, waypoint)\n",
    "    \n",
    "abs(position[0]) + abs(position[1])"
   ]
  },
  {
   "cell_type": "markdown",
   "metadata": {},
   "source": [
    "# Day 13"
   ]
  },
  {
   "cell_type": "markdown",
   "metadata": {},
   "source": [
    "## Part 1"
   ]
  },
  {
   "cell_type": "code",
   "execution_count": 57,
   "metadata": {},
   "outputs": [
    {
     "data": {
      "text/plain": [
       "5257"
      ]
     },
     "execution_count": 57,
     "metadata": {},
     "output_type": "execute_result"
    }
   ],
   "source": [
    "with open('inputs/day13.txt') as f:\n",
    "    s = f.read()[:-1].split('\\n')\n",
    "    \n",
    "earliest = int(s[0])\n",
    "buses = [int(bus) for bus in s[1].replace(',x', '').split(',')]\n",
    "\n",
    "first = min(buses, key=lambda bus: bus - earliest % bus)\n",
    "\n",
    "first*(first - earliest%first)"
   ]
  },
  {
   "cell_type": "markdown",
   "metadata": {},
   "source": [
    "## Part 2"
   ]
  },
  {
   "cell_type": "code",
   "execution_count": 58,
   "metadata": {},
   "outputs": [
    {
     "data": {
      "text/plain": [
       "538703333547789"
      ]
     },
     "execution_count": 58,
     "metadata": {},
     "output_type": "execute_result"
    }
   ],
   "source": [
    "buses = [bus for bus in s[1].split(',')]\n",
    "timetable = {i: int(buses[i]) for i in range(len(buses)) if buses[i].isdigit()}\n",
    "\n",
    "d = 1\n",
    "start = 0\n",
    "for t in timetable:\n",
    "    offset = (timetable[t] - t) % timetable[t]\n",
    "    i = start - offset\n",
    "    while not i % timetable[t] == 0:\n",
    "        i += d\n",
    "    start = i + offset\n",
    "    d *= timetable[t]\n",
    "    \n",
    "start"
   ]
  },
  {
   "cell_type": "markdown",
   "metadata": {},
   "source": [
    "# Day 14"
   ]
  },
  {
   "cell_type": "markdown",
   "metadata": {},
   "source": [
    "## Part 1"
   ]
  },
  {
   "cell_type": "code",
   "execution_count": 139,
   "metadata": {},
   "outputs": [
    {
     "data": {
      "text/plain": [
       "15018100062885"
      ]
     },
     "execution_count": 139,
     "metadata": {},
     "output_type": "execute_result"
    }
   ],
   "source": [
    "with open('inputs/day14.txt') as f:\n",
    "    s = f.read()[:-1].split('\\n')\n",
    "    \n",
    "mask_and = 0\n",
    "mask_or = 0\n",
    "mem = {}\n",
    "\n",
    "def mask(mask_string):\n",
    "    return int(mask_string.replace('X', '1'), 2), int(mask_string.replace('X', '0'),2)\n",
    "\n",
    "def write(address, value, mask_and, mask_or):\n",
    "    mem[address] = (value & mask_and) | mask_or\n",
    "    \n",
    "def process(string, mask_and, mask_or):\n",
    "    if 'mask' in string:\n",
    "        return mask(string.split(' = ')[-1])\n",
    "    else:\n",
    "        address = int(string[4:].split(']')[0])\n",
    "        value = int(string.split(' = ')[-1])\n",
    "        write(address, value, mask_and, mask_or)\n",
    "        return mask_and, mask_or\n",
    "    \n",
    "for string in s:\n",
    "    mask_and, mask_or = process(string, mask_and, mask_or)\n",
    "    \n",
    "sum(mem.values())"
   ]
  },
  {
   "cell_type": "markdown",
   "metadata": {},
   "source": [
    "## Part 2"
   ]
  },
  {
   "cell_type": "code",
   "execution_count": 144,
   "metadata": {},
   "outputs": [
    {
     "data": {
      "text/plain": [
       "5724245857696"
      ]
     },
     "execution_count": 144,
     "metadata": {},
     "output_type": "execute_result"
    }
   ],
   "source": [
    "mem = {}\n",
    "mask = 'X'*36\n",
    "\n",
    "def addresses(masked_string):\n",
    "    if 'X' not in masked_string:\n",
    "        return [int(masked_string, 2)]\n",
    "    return addresses(masked_string.replace('X', '0', 1)) + addresses(masked_string.replace('X', '1', 1))\n",
    "\n",
    "def write(address, value, mask):\n",
    "    addr = (36-len(address)) * '0' + address\n",
    "    addr = ''.join([addr[i] if mask[i] == '0' else mask[i] for i in range(len(addr))])\n",
    "    for a in addresses(addr):\n",
    "        mem[a] = value\n",
    "    \n",
    "def process(string, masks):\n",
    "    if 'mask' in string:\n",
    "        return string.split(' = ')[-1]\n",
    "    else:\n",
    "        address = bin(int(string[4:].split(']')[0]))[2:]\n",
    "        value = int(string.split(' = ')[-1])\n",
    "        write(address, value, mask)\n",
    "        return mask\n",
    "    \n",
    "for string in s:\n",
    "    mask = process(string, masks)\n",
    "    \n",
    "sum(mem.values())"
   ]
  },
  {
   "cell_type": "markdown",
   "metadata": {},
   "source": [
    "# Day 15"
   ]
  },
  {
   "cell_type": "markdown",
   "metadata": {},
   "source": [
    "## Part 1"
   ]
  },
  {
   "cell_type": "code",
   "execution_count": 21,
   "metadata": {},
   "outputs": [
    {
     "data": {
      "text/plain": [
       "412"
      ]
     },
     "execution_count": 21,
     "metadata": {},
     "output_type": "execute_result"
    }
   ],
   "source": [
    "starting_numbers = [10,16,6,0,1,17]\n",
    "last_mentioned = {}\n",
    "\n",
    "new_number = None\n",
    "for i in range(2020):\n",
    "    if i in range(len(starting_numbers)):\n",
    "        last_number = new_number\n",
    "        last_mentioned[last_number] = i-1\n",
    "        new_number = starting_numbers[i]\n",
    "    else:\n",
    "        last_number = new_number\n",
    "        if last_number in last_mentioned:\n",
    "            new_number = i - 1 - last_mentioned[last_number]\n",
    "        else:\n",
    "            new_number = 0\n",
    "        last_mentioned[last_number] = i-1\n",
    "    \n",
    "new_number"
   ]
  },
  {
   "cell_type": "markdown",
   "metadata": {},
   "source": [
    "## Part 2"
   ]
  },
  {
   "cell_type": "code",
   "execution_count": 24,
   "metadata": {},
   "outputs": [
    {
     "data": {
      "text/plain": [
       "243"
      ]
     },
     "execution_count": 24,
     "metadata": {},
     "output_type": "execute_result"
    }
   ],
   "source": [
    "last_mentioned = {}\n",
    "\n",
    "new_number = None\n",
    "for i in range(30000000):\n",
    "    if i in range(len(starting_numbers)):\n",
    "        last_number = new_number\n",
    "        last_mentioned[last_number] = i-1\n",
    "        new_number = starting_numbers[i]\n",
    "    else:\n",
    "        last_number = new_number\n",
    "        if last_number in last_mentioned:\n",
    "            new_number = i - 1 - last_mentioned[last_number]\n",
    "        else:\n",
    "            new_number = 0\n",
    "        last_mentioned[last_number] = i-1\n",
    "    \n",
    "new_number"
   ]
  },
  {
   "cell_type": "markdown",
   "metadata": {},
   "source": [
    "# Day 16"
   ]
  },
  {
   "cell_type": "markdown",
   "metadata": {},
   "source": [
    "## Part 1"
   ]
  },
  {
   "cell_type": "code",
   "execution_count": 65,
   "metadata": {},
   "outputs": [
    {
     "data": {
      "text/plain": [
       "29019"
      ]
     },
     "execution_count": 65,
     "metadata": {},
     "output_type": "execute_result"
    }
   ],
   "source": [
    "with open('inputs/day16.txt') as f:\n",
    "    s = f.read()[:-1].split('\\n\\n')\n",
    "\n",
    "def rule_part(rule, p1, p2):\n",
    "    return int(rule.split(' or ')[p1].split('-')[p2])\n",
    "\n",
    "def parse_rule(rule):\n",
    "    return lambda r: r in range(rule_part(rule,0,0), rule_part(rule,0,1)+1) or \\\n",
    "                    r in range(rule_part(rule,1,0), rule_part(rule,1,1)+1)\n",
    "    \n",
    "rules = {rule[:rule.index(':')]: parse_rule(rule[rule.index(':')+2:]) for rule in s[0].split('\\n')}\n",
    "tickets = [list(map(int, ticket.split(','))) for ticket in s[2].split('\\n')[1:]]\n",
    "\n",
    "error = 0\n",
    "discard = []\n",
    "for ticket in tickets:\n",
    "    for field in ticket:\n",
    "        match = False\n",
    "        for rule in rules.values():\n",
    "            if rule(field):\n",
    "                match = True\n",
    "                break\n",
    "        if not match:\n",
    "            discard.append(ticket)\n",
    "            error += field\n",
    "            \n",
    "error"
   ]
  },
  {
   "cell_type": "markdown",
   "metadata": {},
   "source": [
    "## Part 2"
   ]
  },
  {
   "cell_type": "code",
   "execution_count": 79,
   "metadata": {},
   "outputs": [
    {
     "data": {
      "text/plain": [
       "517827547723"
      ]
     },
     "execution_count": 79,
     "metadata": {},
     "output_type": "execute_result"
    }
   ],
   "source": [
    "own = [int(field) for field in s[1].split('\\n')[1].split(',')]\n",
    "tickets = [list(map(int, ticket.split(','))) for ticket in s[2].split('\\n')[1:]]\n",
    "tickets = [ticket for ticket in tickets if ticket not in discard]\n",
    "tickets.append(own)\n",
    "possible_fields = {rule: [i for i in range(len(tickets[0]))] for rule in rules}\n",
    "\n",
    "def clean_once(possible):\n",
    "    fixed = {}\n",
    "    for rule in possible:\n",
    "        if len(possible[rule]) == 1:\n",
    "            fixed[rule] = possible[rule][0]\n",
    "    return {r: [i for i in possible[r] if r in fixed or i not in fixed.values()] for r in possible}\n",
    "    \n",
    "\n",
    "def clean(possible):\n",
    "    new = clean_once(possible)\n",
    "    while new != possible:\n",
    "        possible = new\n",
    "        new = clean_once(possible)\n",
    "    return new\n",
    "        \n",
    "\n",
    "for ticket in tickets:\n",
    "    for rule in rules:\n",
    "        possible_fields[rule] = [i for i in possible_fields[rule] if rules[rule](ticket[i])]\n",
    "        if len(possible_fields[rule]) == 1:\n",
    "            possible_fields = clean(possible_fields)\n",
    "             \n",
    "possible_fields = {rule: possible_fields[rule][0] for rule in possible_fields}    \n",
    "                \n",
    "prod = 1\n",
    "prod *= own[possible_fields['departure location']]\n",
    "prod *= own[possible_fields['departure station']]\n",
    "prod *= own[possible_fields['departure platform']]\n",
    "prod *= own[possible_fields['departure track']]\n",
    "prod *= own[possible_fields['departure date']]\n",
    "prod *= own[possible_fields['departure time']]\n",
    "\n",
    "prod"
   ]
  },
  {
   "cell_type": "markdown",
   "metadata": {},
   "source": [
    "# Day 17"
   ]
  },
  {
   "cell_type": "markdown",
   "metadata": {},
   "source": [
    "## Part 1"
   ]
  },
  {
   "cell_type": "code",
   "execution_count": 10,
   "metadata": {},
   "outputs": [
    {
     "data": {
      "text/plain": [
       "304"
      ]
     },
     "execution_count": 10,
     "metadata": {},
     "output_type": "execute_result"
    }
   ],
   "source": [
    "with open('inputs/day17.txt') as f:\n",
    "    s = f.read()[:-1].split('\\n')\n",
    "    \n",
    "active = {(x,y,0) for y in range(len(s)) for x in range(len(s[0])) if s[y][x] == '#'}\n",
    "\n",
    "def active_neighbours(x,y,z,active):\n",
    "    return sum([1 \\\n",
    "                for i in range(x-1,x+2) \\\n",
    "                for j in range(y-1,y+2) \\\n",
    "                for k in range(z-1,z+2) \\\n",
    "                if (x,y,z) != (i,j,k) and (i,j,k) in active])\n",
    "\n",
    "def tick(active):\n",
    "    min_x = min(active, key=lambda c: c[0])[0] - 1\n",
    "    max_x = max(active, key=lambda c: c[0])[0] + 1\n",
    "    min_y = min(active, key=lambda c: c[1])[1] - 1\n",
    "    max_y = max(active, key=lambda c: c[1])[1] + 1\n",
    "    min_z = min(active, key=lambda c: c[2])[2] - 1\n",
    "    max_z = max(active, key=lambda c: c[2])[2] + 1\n",
    "    return {(x,y,z) \\\n",
    "            for x in range(min_x, max_x+1) \\\n",
    "            for y in range(min_y, max_y+1) \\\n",
    "            for z in range(min_z, max_z+1) \\\n",
    "            if active_neighbours(x,y,z,active) == 3 or ((x,y,z) in active and active_neighbours(x,y,z,active) == 2)}\n",
    "\n",
    "for i in range(6):\n",
    "    active = tick(active)\n",
    "    \n",
    "len(active)"
   ]
  },
  {
   "cell_type": "markdown",
   "metadata": {},
   "source": [
    "## Part 2"
   ]
  },
  {
   "cell_type": "code",
   "execution_count": 15,
   "metadata": {},
   "outputs": [
    {
     "data": {
      "text/plain": [
       "1868"
      ]
     },
     "execution_count": 15,
     "metadata": {},
     "output_type": "execute_result"
    }
   ],
   "source": [
    "active = {(x,y,0,0) for y in range(len(s)) for x in range(len(s[0])) if s[y][x] == '#'}\n",
    "\n",
    "def active_neighbours(x,y,z,w,active):\n",
    "    return sum([1 \\\n",
    "                for i in range(x-1,x+2) \\\n",
    "                for j in range(y-1,y+2) \\\n",
    "                for k in range(z-1,z+2) \\\n",
    "                for l in range(w-1,w+2) \\\n",
    "                if (x,y,z,w) != (i,j,k,l) and (i,j,k,l) in active])\n",
    "\n",
    "def tick(active):\n",
    "    min_x = min(active, key=lambda c: c[0])[0] - 1\n",
    "    max_x = max(active, key=lambda c: c[0])[0] + 1\n",
    "    min_y = min(active, key=lambda c: c[1])[1] - 1\n",
    "    max_y = max(active, key=lambda c: c[1])[1] + 1\n",
    "    min_z = min(active, key=lambda c: c[2])[2] - 1\n",
    "    max_z = max(active, key=lambda c: c[2])[2] + 1\n",
    "    min_w = min(active, key=lambda c: c[3])[3] - 1\n",
    "    max_w = max(active, key=lambda c: c[3])[3] + 1\n",
    "    return {(x,y,z,w) \\\n",
    "            for x in range(min_x, max_x+1) \\\n",
    "            for y in range(min_y, max_y+1) \\\n",
    "            for z in range(min_z, max_z+1) \\\n",
    "            for w in range(min_w, max_w+1) \\\n",
    "            if active_neighbours(x,y,z,w,active) == 3 or ((x,y,z,w) in active and active_neighbours(x,y,z,w,active) == 2)}\n",
    "\n",
    "for i in range(6):\n",
    "    active = tick(active)\n",
    "    \n",
    "len(active)"
   ]
  },
  {
   "cell_type": "markdown",
   "metadata": {},
   "source": [
    "# Day 18"
   ]
  },
  {
   "cell_type": "markdown",
   "metadata": {},
   "source": [
    "## Part 1"
   ]
  },
  {
   "cell_type": "code",
   "execution_count": 396,
   "metadata": {},
   "outputs": [
    {
     "data": {
      "text/plain": [
       "510009915468"
      ]
     },
     "execution_count": 396,
     "metadata": {},
     "output_type": "execute_result"
    }
   ],
   "source": [
    "with open('inputs/day18.txt') as f:\n",
    "    s = f.read()[:-1].replace(' ', '').split('\\n')\n",
    "    \n",
    "def evaluate(op, n, a):\n",
    "    if op == '+':\n",
    "        return a+n\n",
    "    elif op == '*':\n",
    "        return a*n\n",
    "    \n",
    "    \n",
    "def matching_parent(expr, subexpr_start):\n",
    "    depth = 1\n",
    "    i = subexpr_start\n",
    "    while depth != 0:\n",
    "        i += 1\n",
    "        if expr[i] == '(':\n",
    "            depth += 1\n",
    "        elif expr[i] == ')':\n",
    "            depth -= 1\n",
    "    return i\n",
    "    \n",
    "    \n",
    "def process(expr):\n",
    "    a = 0\n",
    "    last_op = '+'\n",
    "    subexpr_start = 0\n",
    "    while subexpr_start != len(expr):\n",
    "        if expr[subexpr_start].isdigit():\n",
    "            a = evaluate(last_op, int(expr[subexpr_start]), a)\n",
    "            subexpr_start += 1\n",
    "        elif expr[subexpr_start] in '+*':\n",
    "            last_op = expr[subexpr_start]\n",
    "            subexpr_start += 1\n",
    "        elif expr[subexpr_start] == '(':\n",
    "            subexpr_end = matching_parent(expr, subexpr_start)\n",
    "            a = evaluate(last_op, process(expr[subexpr_start+1:subexpr_end]), a)\n",
    "            subexpr_start = subexpr_end + 1\n",
    "        else:\n",
    "            subexpr_start += 1\n",
    "    return a\n",
    "            \n",
    "sum([process(expr) for expr in s])"
   ]
  },
  {
   "cell_type": "markdown",
   "metadata": {},
   "source": [
    "## Part 2"
   ]
  },
  {
   "cell_type": "code",
   "execution_count": 397,
   "metadata": {},
   "outputs": [
    {
     "data": {
      "text/plain": [
       "321176691637769"
      ]
     },
     "execution_count": 397,
     "metadata": {},
     "output_type": "execute_result"
    }
   ],
   "source": [
    "def next_mul(expr, subexpr_start):\n",
    "    if '*' not in expr[subexpr_start+1:]:\n",
    "        return len(expr)\n",
    "    depth = 0\n",
    "    plus = False\n",
    "    i = subexpr_start\n",
    "    while not (plus or i >= len(expr)-1):\n",
    "        i += 1\n",
    "        if expr[i] == '(':\n",
    "            depth += 1\n",
    "        elif expr[i] == ')':\n",
    "            depth -= 1\n",
    "        elif expr[i] == '*' and depth == 0:\n",
    "            plus = True\n",
    "    if not plus:\n",
    "        i += 1\n",
    "    return i\n",
    "    \n",
    "def process(expr):\n",
    "    last_op = '+'\n",
    "    subexpr_start = 0\n",
    "    a = 0\n",
    "    subexpr_end = matching_parent(expr, subexpr_start) if expr[0] == '(' else 0\n",
    "    a = evaluate(last_op, process(expr[subexpr_start+1:subexpr_end]), 0) if expr[0] == '(' else a\n",
    "    subexpr_start = subexpr_end+1 if subexpr_end != 0 else 0\n",
    "    while subexpr_start < len(expr):\n",
    "        if expr[subexpr_start].isdigit():\n",
    "            a = evaluate(last_op, int(expr[subexpr_start]), a)\n",
    "            subexpr_start += 1\n",
    "        elif expr[subexpr_start] == '+':\n",
    "            last_op = expr[subexpr_start]\n",
    "            subexpr_start += 1\n",
    "        elif expr[subexpr_start] == '*':\n",
    "            last_op = expr[subexpr_start]\n",
    "            subexpr_end = next_mul(expr, subexpr_start)\n",
    "            a = evaluate(last_op, process(expr[subexpr_start+1:subexpr_end]), a)\n",
    "            subexpr_start = subexpr_end\n",
    "        elif expr[subexpr_start] == '(':\n",
    "            subexpr_end = matching_parent(expr, subexpr_start)\n",
    "            a = evaluate(last_op, process(expr[subexpr_start+1:subexpr_end]), a)\n",
    "            subexpr_start = subexpr_end + 1\n",
    "        else:\n",
    "            subexpr_start += 1\n",
    "    return a\n",
    "\n",
    "sum([process(expr) for expr in s])"
   ]
  },
  {
   "cell_type": "markdown",
   "metadata": {},
   "source": [
    "# Day 19"
   ]
  },
  {
   "cell_type": "markdown",
   "metadata": {},
   "source": [
    "## Part 1"
   ]
  },
  {
   "cell_type": "code",
   "execution_count": 361,
   "metadata": {},
   "outputs": [
    {
     "data": {
      "text/plain": [
       "165"
      ]
     },
     "execution_count": 361,
     "metadata": {},
     "output_type": "execute_result"
    }
   ],
   "source": [
    "with open('inputs/day19.txt') as f:\n",
    "    s = f.read()[:-1].split('\\n\\n')\n",
    "    \n",
    "def parse_rule(rule):\n",
    "    if '\"' in rule:\n",
    "        return rule[1:-1]\n",
    "    else:\n",
    "        rules = rule.split(' | ') if '|' in rule else [rule]\n",
    "        rules = [[int(ru) for ru in r.split(' ')] for r in rules]\n",
    "        return rules\n",
    "\n",
    "rules = {int(rule.split(': ')[0]): parse_rule(rule.split(': ')[1]) for rule in s[0].split('\\n')}\n",
    "calculated = {rule: rules[rule] for rule in rules if type(rules[rule]) == str}\n",
    "messages = s[1].split('\\n')\n",
    "\n",
    "def resolve_rules(rules, result):\n",
    "    if len(result[0]) == len(rules):\n",
    "        return result\n",
    "    rule = rules[len(result[0])]\n",
    "    if type(rule) == str:\n",
    "        for r in result:\n",
    "            r.append(rule)\n",
    "        return resolve_rules(rules, result)\n",
    "    new_result = []\n",
    "    for r in rule:\n",
    "        new_subresult = [res+[r] for res in result]\n",
    "        new_result.extend(new_subresult)\n",
    "    return resolve_rules(rules, new_result)\n",
    "\n",
    "def flatten_rules(rules):\n",
    "    rules = [resolve_rules(rule, [[]]) for rule in rules]\n",
    "    return {''.join(r) for rule in rules for r in rule}\n",
    "\n",
    "def calculate(opt, done):\n",
    "    new_rule = []\n",
    "    for o in opt:\n",
    "        if type(o) != int or o not in done:\n",
    "            new_rule.append(o)\n",
    "        else:\n",
    "            matching = done.get(o)\n",
    "            new_rule.append(matching)      \n",
    "    return new_rule\n",
    "\n",
    "while len(calculated) != len(rules):\n",
    "    for rule in rules:\n",
    "        if rule not in calculated:\n",
    "            new_rules = []\n",
    "            for opt in rules[rule]:\n",
    "                new_rules.append(calculate(opt, calculated))\n",
    "            rules[rule] = new_rules\n",
    "            done = True\n",
    "            for opt in rules[rule]:\n",
    "                for o in opt:\n",
    "                    if type(o) == int:\n",
    "                        done = False\n",
    "            if done:\n",
    "                rules[rule] = flatten_rules(rules[rule])\n",
    "                calculated[rule] = rules[rule]\n",
    "                \n",
    "len([m for m in messages if m in rules[0]])"
   ]
  },
  {
   "cell_type": "markdown",
   "metadata": {},
   "source": [
    "## Part 2"
   ]
  },
  {
   "cell_type": "code",
   "execution_count": 366,
   "metadata": {},
   "outputs": [
    {
     "data": {
      "text/plain": [
       "274"
      ]
     },
     "execution_count": 366,
     "metadata": {},
     "output_type": "execute_result"
    }
   ],
   "source": [
    "start = rules[42]\n",
    "end = rules[31]\n",
    "word_length = len(next(iter(start)))\n",
    "\n",
    "def valid_sub(message, start, end, word_length):\n",
    "    if len(message) == 0:\n",
    "        return True\n",
    "\n",
    "    if message[:word_length] in start and message[-word_length:] in end:\n",
    "        return valid_sub(message[word_length:-word_length], start, end, word_length)\n",
    "    if message[:word_length] in start:\n",
    "        return valid_sub(message[word_length:], start, end, word_length)\n",
    "    \n",
    "    return False\n",
    "\n",
    "def valid(message, start, end, word_length):\n",
    "    return message[:word_length] in start and \\\n",
    "        message[word_length:2*word_length] in start and \\\n",
    "        message[-word_length:] in end and \\\n",
    "        valid_sub(message[2*word_length:-word_length], start, end, word_length)\n",
    "\n",
    "len([m for m in messages if valid(m, start, end, word_length)])"
   ]
  },
  {
   "cell_type": "markdown",
   "metadata": {},
   "source": [
    "# Day 20"
   ]
  },
  {
   "cell_type": "markdown",
   "metadata": {},
   "source": [
    "## Part 1"
   ]
  },
  {
   "cell_type": "code",
   "execution_count": 1,
   "metadata": {},
   "outputs": [
    {
     "data": {
      "text/plain": [
       "83775126454273"
      ]
     },
     "execution_count": 1,
     "metadata": {},
     "output_type": "execute_result"
    }
   ],
   "source": [
    "with open('inputs/day20.txt') as f:\n",
    "    s = f.read()[:-2].split('\\n\\n')\n",
    "\n",
    "tiles = {int(tile.split('\\n')[0][5:-1]): tile.split('\\n')[1:] for tile in s}\n",
    "\n",
    "def shift_coordinates(x,y,l):\n",
    "    if x < l and y < l:\n",
    "        return x-l, l-y\n",
    "    if y < l:\n",
    "        return x-l+1, l-y\n",
    "    if x < l:\n",
    "        return x-l, l-1-y\n",
    "    else:\n",
    "        return x-l+1, l-1-y\n",
    "    \n",
    "def unshift_coordinates(x,y,l):\n",
    "    if x < 0 and y > 0:\n",
    "        return x+l, l-y\n",
    "    if y > 0:\n",
    "        return l+x-1, l-y\n",
    "    if x < 0:\n",
    "        return x+l, l-1-y\n",
    "    else:\n",
    "        return l+x-1, l-1-y\n",
    "    \n",
    "def rotate_coordinates(x,y,l):\n",
    "    s_x, s_y = shift_coordinates(x,y,l)\n",
    "    rs_x, rs_y = s_y, -s_x\n",
    "    return unshift_coordinates(rs_x, rs_y, l)\n",
    "    \n",
    "def rotate(tile):\n",
    "    tile_size = len(tile)\n",
    "    rotated = []\n",
    "    for y in range(tile_size):\n",
    "        row = []\n",
    "        for x in range(tile_size):\n",
    "            r_x, r_y = rotate_coordinates(x,y,tile_size//2)\n",
    "            row.append(tile[r_y][r_x])\n",
    "        rotated.append(''.join(row))\n",
    "    return rotated\n",
    "\n",
    "def flip(tile):\n",
    "    l = len(tile)\n",
    "    return [''.join([tile[l-1-y][x] for x in range(l)]) for y in range(l)]\n",
    "\n",
    "def orientations(tile):\n",
    "    o = []\n",
    "    for i in range(3):\n",
    "        tile = rotate(tile)\n",
    "        o.append(tile)\n",
    "    tile = rotate(tile)\n",
    "    o.append(tile)\n",
    "    tile = flip(tile)\n",
    "    for i in range(3):\n",
    "        tile = rotate(tile)\n",
    "        o.append(tile)\n",
    "    tile = rotate(tile)\n",
    "    o.append(tile)\n",
    "    return o\n",
    "    \n",
    "def edges(tile):\n",
    "    return [o[0] for o in orientations(tile)]\n",
    "    \n",
    "tile_edges = {tile: edges(tiles[tile]) for tile in tiles}\n",
    "\n",
    "matches = {}\n",
    "for tile in tiles:\n",
    "    connecting = set()\n",
    "    for edge in tile_edges[tile]:\n",
    "        for t1 in tiles:\n",
    "            if t1 != tile and edge in tile_edges[t1]:\n",
    "                connecting.add(t1)\n",
    "    matches[tile] = connecting\n",
    "    \n",
    "a = 1\n",
    "for tile in matches:\n",
    "    if len(matches[tile]) == 2:\n",
    "        a *= tile\n",
    "        \n",
    "a"
   ]
  },
  {
   "cell_type": "markdown",
   "metadata": {},
   "source": [
    "## Part 2"
   ]
  },
  {
   "cell_type": "code",
   "execution_count": 2,
   "metadata": {},
   "outputs": [
    {
     "data": {
      "text/plain": [
       "1993"
      ]
     },
     "execution_count": 2,
     "metadata": {},
     "output_type": "execute_result"
    }
   ],
   "source": [
    "def random_corner(matches, placed):\n",
    "    for tile in matches:\n",
    "        if tile not in placed and len(matches[tile]) == 2:\n",
    "            return tile\n",
    "        \n",
    "def place(x,y,tile,grid,placed):\n",
    "    grid[y][x] = tile\n",
    "    placed.add(tile)\n",
    "    \n",
    "def unplaced_matches(tiles, tile_edges, placed, grid, layer, override = []):\n",
    "    matches = {}\n",
    "    for tile in tiles:\n",
    "        if tile not in placed or tile in override:\n",
    "            connecting = set()\n",
    "            for edge in tile_edges[tile]:\n",
    "                for t1 in tiles:\n",
    "                    if t1 != tile and edge in tile_edges[t1] and (t1 not in placed or t1 in override):\n",
    "                        connecting.add(t1)\n",
    "            matches[tile] = connecting\n",
    "    return matches\n",
    "    \n",
    "def start_next_layer(grid,layer,matches,placed):\n",
    "    if layer == 0:\n",
    "        tile = random_corner(matches, placed)\n",
    "        place(layer,layer,tile,grid,placed)\n",
    "        for tile in matches:\n",
    "            if tile not in placed and grid[layer][layer] in matches[tile]:\n",
    "                break\n",
    "        place(layer+1,layer,tile,grid,placed)\n",
    "    else:\n",
    "        for tile in matches:\n",
    "            if tile not in placed and grid[layer][layer-1] in matches[tile] and grid[layer-1][layer] in matches[tile]:\n",
    "                break\n",
    "        place(layer,layer,tile,grid,placed)\n",
    "    if layer != 0:\n",
    "        for tile in matches:\n",
    "            if tile not in placed and grid[layer][layer] in matches[tile] and grid[layer-1][layer+1] in matches[tile]:\n",
    "                break\n",
    "        place(layer+1,layer,tile,grid,placed)\n",
    "        \n",
    "\n",
    "    \n",
    "def place_perimeter(tiles, tile_edges, placed, grid, layer):\n",
    "    override = [grid[layer][layer], grid[layer][layer+1]]\n",
    "    matches = unplaced_matches(tiles, tile_edges, placed, grid, layer, override)\n",
    "    perimeter = [tile for tile in matches if len(matches[tile]) <= 3]\n",
    "    \n",
    "    for x in range(layer+2,len(grid)-layer):\n",
    "        for tile in perimeter:\n",
    "            if tile not in placed and grid[layer][x-1] in matches[tile]:\n",
    "                place(x,layer,tile,grid,placed)\n",
    "                break\n",
    "\n",
    "    for y in range(layer+1,len(grid)-layer):\n",
    "        for tile in perimeter:\n",
    "            if tile not in placed and grid[y-1][layer] in matches[tile]:\n",
    "                place(layer,y,tile,grid,placed)\n",
    "                break\n",
    "        for tile in perimeter:\n",
    "            if tile not in placed and grid[y-1][len(grid)-1-layer] in matches[tile]:\n",
    "                place(len(grid)-1-layer,y,tile,grid,placed)\n",
    "                break\n",
    "\n",
    "    for x in range(layer+1,len(grid)-1-layer):\n",
    "        for tile in perimeter:\n",
    "            if tile not in placed and grid[len(grid)-1-layer][x-1] in matches[tile]:\n",
    "                place(x,len(grid)-1-layer,tile,grid,placed)\n",
    "                break\n",
    "           \n",
    "    if layer < len(tiles)**0.5 / 2 - 1:\n",
    "        start_next_layer(grid,layer+1,matches,placed)\n",
    "\n",
    "    \n",
    "def orient(tile, next_tile, tiles, tile_edges, left=False):\n",
    "    if left:\n",
    "        tile_edges[tile] = [s[::-1] for s in tile_edges[tile]]\n",
    "    common_edge = [edge for edge in tile_edges[tile] if edge in tile_edges[next_tile]][0]    \n",
    "    for o in orientations(tiles[tile]):\n",
    "        if common_edge == o[0]:\n",
    "            break\n",
    "           \n",
    "    if not left:\n",
    "        if tile_edges[next_tile].index(common_edge) < 4:\n",
    "            tile_edges[next_tile] = tile_edges[next_tile][4:]\n",
    "        else:\n",
    "            tile_edges[next_tile] = tile_edges[next_tile][:4]\n",
    "        \n",
    "    if not left:\n",
    "        return rotate(rotate(rotate(o)))\n",
    "    else:\n",
    "        return flip(rotate(o))\n",
    "\n",
    "def join(template):\n",
    "    rows = [[] for i in range(len(template[0])*len(template[0][0]))]\n",
    "    for tile_row in range(len(template)):\n",
    "        for tile in template[tile_row]:\n",
    "            for row in range(1,len(tile)-1):\n",
    "                rows[tile_row*len(tile)+row].append(tile[row][1:-1])\n",
    "\n",
    "    rows = [''.join(row) for row in rows]\n",
    "    rows = [row for row in rows if len(row) > 0]\n",
    "    return rows\n",
    "    \n",
    "def draw_grid(grid, tiles, tile_edges):    \n",
    "    drawn = [[None for i in range(len(grid))] for j in range(len(grid))]\n",
    "    for y in range(len(grid)):\n",
    "        if y == 0:\n",
    "            tile_edges[grid[y][0]] = tile_edges[grid[y][0]][:4]\n",
    "        else:\n",
    "            for edge in tile_edges[grid[y-1][0]]:\n",
    "                if edge in tile_edges[grid[y][0]]:\n",
    "                    if tile_edges[grid[y][0]].index(edge) < 4:\n",
    "                        tile_edges[grid[y][0]] = tile_edges[grid[y][0]][4:]\n",
    "                    else:\n",
    "                        tile_edges[grid[y][0]] = tile_edges[grid[y][0]][:4]\n",
    "                \n",
    "    for y in range(len(grid)):\n",
    "        for x in range(len(grid)-1):\n",
    "            drawn[y][x] = orient(grid[y][x], grid[y][x+1], tiles, tile_edges)\n",
    "        drawn[y][len(grid)-1] = orient(grid[y][len(grid)-1], grid[y][len(grid)-2], tiles, tile_edges, left=True)\n",
    "        \n",
    "    return join(drawn)\n",
    "\n",
    "def find_monsters(drawn, monster_map):\n",
    "    for y in range(len(drawn)-len(monster)):\n",
    "        for x in range(len(drawn[0])-len(monster[0])):\n",
    "            monster_found = True\n",
    "            for part in monster_map:\n",
    "                if drawn[y+part[1]][x+part[0]] not in '#O':\n",
    "                    monster_found = False\n",
    "            if monster_found:\n",
    "                for part in monster_map:\n",
    "                    drawn[y+part[1]] = drawn[y+part[1]][:x+part[0]] + 'O' + drawn[y+part[1]][x+part[0]+1:]\n",
    "\n",
    "grid = [[None for i in range(int(len(tiles)**0.5))] for j in range(int(len(tiles)**0.5))]\n",
    "placed = set()\n",
    "start_next_layer(grid,0,matches,placed)\n",
    "tile_edges = {tile: edges(tiles[tile]) for tile in tiles}\n",
    "\n",
    "for layer in range(int(len(tiles)**0.5 // 2)):\n",
    "    place_perimeter(tiles, tile_edges, placed, grid, layer)\n",
    "        \n",
    "drawn = draw_grid(grid, tiles, tile_edges)\n",
    "monster = \"\"\"\n",
    "                  # \n",
    "#    ##    ##    ###\n",
    " #  #  #  #  #  #   \n",
    " \"\"\".split('\\n')[1:-1]\n",
    "\n",
    "monster_map = {(x,y) for x in range(len(monster[0]))  for y in range(len(monster)) if monster[y][x] == '#'}\n",
    "\n",
    "find_monsters(drawn,monster_map)\n",
    "drawn = rotate(drawn)\n",
    "find_monsters(drawn,monster_map)\n",
    "drawn = rotate(drawn)\n",
    "find_monsters(drawn,monster_map)\n",
    "drawn = rotate(drawn)\n",
    "find_monsters(drawn,monster_map)\n",
    "drawn = flip(drawn)\n",
    "find_monsters(drawn,monster_map)\n",
    "drawn = rotate(drawn)\n",
    "find_monsters(drawn,monster_map)\n",
    "drawn = rotate(drawn)\n",
    "find_monsters(drawn,monster_map)\n",
    "drawn = rotate(drawn)\n",
    "find_monsters(drawn,monster_map)\n",
    "\n",
    "sum([row.count('#') for row in drawn])"
   ]
  },
  {
   "cell_type": "markdown",
   "metadata": {},
   "source": [
    "# Day 21"
   ]
  },
  {
   "cell_type": "markdown",
   "metadata": {},
   "source": [
    "## Part 1"
   ]
  },
  {
   "cell_type": "code",
   "execution_count": 28,
   "metadata": {},
   "outputs": [
    {
     "data": {
      "text/plain": [
       "2635"
      ]
     },
     "execution_count": 28,
     "metadata": {},
     "output_type": "execute_result"
    }
   ],
   "source": [
    "with open('inputs/day21.txt') as f:\n",
    "    s = f.read()[:-1].split('\\n')\n",
    "    \n",
    "ingredients = [f.split(' (')[0].split(' ') for f in s]\n",
    "allergens = [f[:-1].split('(contains ')[1].split(', ') for f in s]\n",
    "\n",
    "ingredient_dict = {}\n",
    "\n",
    "for c in range(2):\n",
    "    for i in range(len(allergens)):\n",
    "        for al in allergens[i]:\n",
    "            if al not in ingredient_dict:\n",
    "                ingredient_dict[al] = ingredients[i]\n",
    "            else:\n",
    "                ingredient_dict[al] = [ingr for ingr in ingredient_dict[al] if ingr in ingredients[i]]\n",
    "                if len(ingredient_dict[al]) == 1:\n",
    "                    ingr = ingredient_dict[al][0]\n",
    "                    for ing in ingredient_dict:\n",
    "                        if ing != al and ingr in ingredient_dict[ing]:\n",
    "                            ingredient_dict[ing].remove(ingr)\n",
    "\n",
    "\n",
    "ingredient_dict = {ingredient_dict[i][0]: i for i in ingredient_dict}                      \n",
    "safe = 0\n",
    "for food in ingredients:\n",
    "    for ing in food:\n",
    "        if ing not in ingredient_dict:\n",
    "            safe += 1\n",
    "            \n",
    "safe"
   ]
  },
  {
   "cell_type": "markdown",
   "metadata": {},
   "source": [
    "## Part 2"
   ]
  },
  {
   "cell_type": "code",
   "execution_count": 31,
   "metadata": {},
   "outputs": [
    {
     "data": {
      "text/plain": [
       "'xncgqbcp,frkmp,qhqs,qnhjhn,dhsnxr,rzrktx,ntflq,lgnhmx'"
      ]
     },
     "execution_count": 31,
     "metadata": {},
     "output_type": "execute_result"
    }
   ],
   "source": [
    "unsafe = [ing for ing in ingredient_dict]\n",
    "unsafe.sort(key=lambda al: ingredient_dict[al])\n",
    "','.join(unsafe)"
   ]
  },
  {
   "cell_type": "markdown",
   "metadata": {},
   "source": [
    "# Day 22"
   ]
  },
  {
   "cell_type": "markdown",
   "metadata": {},
   "source": [
    "## Part 1"
   ]
  },
  {
   "cell_type": "code",
   "execution_count": 92,
   "metadata": {},
   "outputs": [
    {
     "data": {
      "text/plain": [
       "34255"
      ]
     },
     "execution_count": 92,
     "metadata": {},
     "output_type": "execute_result"
    }
   ],
   "source": [
    "import queue\n",
    "\n",
    "with open('inputs/day22.txt') as f:\n",
    "    s = f.read()[:-1].split('\\n\\n')\n",
    "\n",
    "player1 = queue.Queue()\n",
    "player2 = queue.Queue()\n",
    "\n",
    "for card in s[0].split('\\n')[1:]:\n",
    "    player1.put(int(card))\n",
    "for card in s[1].split('\\n')[1:]:\n",
    "    player2.put(int(card))\n",
    "    \n",
    "while not (player1.empty() or player2.empty()):\n",
    "    p1 = player1.get()\n",
    "    p2 = player2.get()\n",
    "    if p1 > p2:\n",
    "        player1.put(p1)\n",
    "        player1.put(p2)\n",
    "    else:\n",
    "        player2.put(p2)\n",
    "        player2.put(p1)\n",
    "\n",
    "winner = player1 if player2.empty() else player2\n",
    "\n",
    "a = 0\n",
    "while not winner.empty():\n",
    "    a += winner.qsize() * winner.get()\n",
    "    \n",
    "a"
   ]
  },
  {
   "cell_type": "markdown",
   "metadata": {},
   "source": [
    "## Part 2"
   ]
  },
  {
   "cell_type": "code",
   "execution_count": 94,
   "metadata": {},
   "outputs": [
    {
     "data": {
      "text/plain": [
       "33369"
      ]
     },
     "execution_count": 94,
     "metadata": {},
     "output_type": "execute_result"
    }
   ],
   "source": [
    "player1 = tuple([int(card) for card in s[0].split('\\n')[1:]])\n",
    "player2 = tuple([int(card) for card in s[1].split('\\n')[1:]])\n",
    "    \n",
    "cache = {}\n",
    "def game(player1, player2, game_cache):\n",
    "    while not (player1, player2) in game_cache:\n",
    "        if len(player1) == 0:\n",
    "            return False, player2\n",
    "        elif len(player2) == 0:\n",
    "            return True, player1\n",
    "        \n",
    "        while (player1, player2) in cache:\n",
    "            if (player1, player2) not in game_cache:\n",
    "                game_cache.add((player1, player2))\n",
    "            else:\n",
    "                return True, player1\n",
    "            (player1, player2) = cache[(player1, player2)] \n",
    "        game_cache.add((player1, player2))\n",
    "            \n",
    "        if len(player1) == 0:\n",
    "            return False, player2\n",
    "        elif len(player2) == 0:\n",
    "            return True, player1\n",
    "        \n",
    "        p1 = player1[0]\n",
    "        p2 = player2[0]\n",
    "\n",
    "        if len(player1)-1 >= p1 and len(player2)-1 >= p2:\n",
    "            player1_won, winner_deck = game(player1[1:1+p1], player2[1:1+p2], set())\n",
    "        else:\n",
    "            player1_won = p1 > p2\n",
    "\n",
    "        if player1_won:\n",
    "            player1_new = player1[1:] + (p1,p2)\n",
    "            player2_new = player2[1:]\n",
    "        else:\n",
    "            player1_new = player1[1:]\n",
    "            player2_new = player2[1:] + (p2,p1)\n",
    "\n",
    "        cache[(player1, player2)] = (player1_new, player2_new)\n",
    "        (player1, player2) = (player1_new, player2_new)\n",
    "        \n",
    "    return True, player1\n",
    "    \n",
    "player1_won, winner_deck = game(player1, player2, set())\n",
    "\n",
    "winner_deck\n",
    "\n",
    "a = 0\n",
    "for i in range(len(winner_deck)):\n",
    "    a += winner_deck[i] * (len(winner_deck)-i)\n",
    "    \n",
    "a"
   ]
  },
  {
   "cell_type": "markdown",
   "metadata": {},
   "source": [
    "# Day 23"
   ]
  },
  {
   "cell_type": "markdown",
   "metadata": {},
   "source": [
    "# Part 1"
   ]
  },
  {
   "cell_type": "code",
   "execution_count": 116,
   "metadata": {},
   "outputs": [
    {
     "data": {
      "text/plain": [
       "'69473825'"
      ]
     },
     "execution_count": 116,
     "metadata": {},
     "output_type": "execute_result"
    }
   ],
   "source": [
    "clockwise = '158937462'\n",
    "rearranges = 100\n",
    "\n",
    "class Node:\n",
    "    def __init__(self,value,prv=None,nxt=None):\n",
    "        self.value = int(value)\n",
    "        self.prv = prv\n",
    "        self.nxt = nxt\n",
    "        if prv is not None:\n",
    "            prv.nxt = self\n",
    "        if nxt is not None:\n",
    "            nxt.prv = self\n",
    "\n",
    "def rearrange(node, nodes, highest=9):\n",
    "    picked = node.nxt\n",
    "    picked_values = [picked.value, picked.nxt.value, picked.nxt.nxt.value]\n",
    "    destination = node.value - 1\n",
    "    if destination == 0:\n",
    "        destination = highest\n",
    "    while destination in picked_values:\n",
    "        destination -= 1\n",
    "        if destination == 0:\n",
    "            destination = highest\n",
    "    destination_node = nodes[destination]\n",
    "    node.nxt = picked.nxt.nxt.nxt\n",
    "    picked.nxt.nxt.nxt.prv = node\n",
    "    picked.nxt.nxt.nxt = destination_node.nxt\n",
    "    destination_node.nxt.prv = picked.nxt.nxt\n",
    "    destination_node.nxt = picked\n",
    "    picked.prv = destination_node\n",
    "    \n",
    "\n",
    "nodes = {}\n",
    "for i in range(len(clockwise)):\n",
    "    if i == 0:\n",
    "        nodes[int(clockwise[i])] = Node(clockwise[i])\n",
    "    elif i == len(clockwise) - 1:\n",
    "        nodes[int(clockwise[i])] = Node(clockwise[i], nodes[int(clockwise[i-1])], nodes[int(clockwise[0])])\n",
    "    else:\n",
    "        nodes[int(clockwise[i])] = Node(clockwise[i], nodes[int(clockwise[i-1])])\n",
    "        \n",
    "current = nodes[int(clockwise[0])]\n",
    "  \n",
    "for i in range(rearranges):\n",
    "    rearrange(current, nodes)\n",
    "    current = current.nxt\n",
    "\n",
    "current = nodes[1].nxt\n",
    "    \n",
    "a = []\n",
    "while current.value != 1:\n",
    "    a.append(str(current.value))\n",
    "    current = current.nxt\n",
    "    \n",
    "''.join(a)"
   ]
  },
  {
   "cell_type": "markdown",
   "metadata": {},
   "source": [
    "## Part 2"
   ]
  },
  {
   "cell_type": "code",
   "execution_count": 151,
   "metadata": {},
   "outputs": [
    {
     "data": {
      "text/plain": [
       "96604396189"
      ]
     },
     "execution_count": 151,
     "metadata": {},
     "output_type": "execute_result"
    }
   ],
   "source": [
    "cups = 1000000\n",
    "rearranges = 10000000\n",
    "\n",
    "nodes = {}\n",
    "for i in range(len(clockwise)):\n",
    "    if i == 0:\n",
    "        nodes[int(clockwise[i])] = Node(clockwise[i])\n",
    "    else:\n",
    "        nodes[int(clockwise[i])] = Node(clockwise[i], nodes[int(clockwise[i-1])])\n",
    "    \n",
    "for i in range(len(clockwise)+1, cups+1):\n",
    "    if i == len(clockwise)+1:\n",
    "        nodes[i] = Node(i, nodes[int(clockwise[len(clockwise)-1])])\n",
    "    elif i == cups:\n",
    "        nodes[i] = Node(i, nodes[i-1], nodes[int(clockwise[0])])\n",
    "    else:\n",
    "        nodes[i] = Node(i, nodes[i-1])\n",
    "        \n",
    "current = nodes[int(clockwise[0])]\n",
    "  \n",
    "for i in range(rearranges):\n",
    "    rearrange(current,nodes, cups)\n",
    "    current = current.nxt\n",
    "\n",
    "current = nodes[1]\n",
    "\n",
    "current.nxt.value * current.nxt.nxt.value"
   ]
  }
 ],
 "metadata": {
  "kernelspec": {
   "display_name": "Python 3",
   "language": "python",
   "name": "python3"
  },
  "language_info": {
   "codemirror_mode": {
    "name": "ipython",
    "version": 3
   },
   "file_extension": ".py",
   "mimetype": "text/x-python",
   "name": "python",
   "nbconvert_exporter": "python",
   "pygments_lexer": "ipython3",
   "version": "3.7.4"
  }
 },
 "nbformat": 4,
 "nbformat_minor": 2
}
