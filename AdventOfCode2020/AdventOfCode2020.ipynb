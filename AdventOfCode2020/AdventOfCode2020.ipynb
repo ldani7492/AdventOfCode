{
 "cells": [
  {
   "cell_type": "markdown",
   "metadata": {},
   "source": [
    "# Day 1"
   ]
  },
  {
   "cell_type": "markdown",
   "metadata": {},
   "source": [
    "## Part 1"
   ]
  },
  {
   "cell_type": "code",
   "execution_count": 1,
   "metadata": {},
   "outputs": [
    {
     "data": {
      "text/plain": [
       "1016964"
      ]
     },
     "execution_count": 1,
     "metadata": {},
     "output_type": "execute_result"
    }
   ],
   "source": [
    "with open('inputs/day1.txt') as f:\n",
    "    s = f.read()[:-1]\n",
    "    \n",
    "numbers = [int(n) for n in s.split('\\n')]\n",
    "\n",
    "for n in numbers:\n",
    "    if 2020-n in numbers:\n",
    "        break\n",
    "\n",
    "n*(2020-n)"
   ]
  },
  {
   "cell_type": "markdown",
   "metadata": {},
   "source": [
    "## Part 2"
   ]
  },
  {
   "cell_type": "code",
   "execution_count": 2,
   "metadata": {},
   "outputs": [
    {
     "data": {
      "text/plain": [
       "182588480"
      ]
     },
     "execution_count": 2,
     "metadata": {},
     "output_type": "execute_result"
    }
   ],
   "source": [
    "found = False\n",
    "\n",
    "for i in range(len(numbers)):\n",
    "    for j in range(i+1, len(numbers)):\n",
    "        if 2020-numbers[i]-numbers[j] in numbers:\n",
    "            found = True\n",
    "            break\n",
    "    if found:\n",
    "        break\n",
    "            \n",
    "numbers[i]*numbers[j]*(2020-numbers[i]-numbers[j])"
   ]
  },
  {
   "cell_type": "markdown",
   "metadata": {},
   "source": [
    "# Day 2"
   ]
  },
  {
   "cell_type": "markdown",
   "metadata": {},
   "source": [
    "## Part 1"
   ]
  },
  {
   "cell_type": "code",
   "execution_count": 32,
   "metadata": {},
   "outputs": [
    {
     "data": {
      "text/plain": [
       "517"
      ]
     },
     "execution_count": 32,
     "metadata": {},
     "output_type": "execute_result"
    }
   ],
   "source": [
    "with open('inputs/day2.txt') as f:\n",
    "    s = f.read()[:-1]\n",
    "    \n",
    "def policy(p):\n",
    "    min_count = int(p.split('-')[0])\n",
    "    max_count = int(p.split(' ')[0].split('-')[1])\n",
    "    char = p.split(' ')[1]\n",
    "    return (min_count, max_count, char)\n",
    "   \n",
    "    \n",
    "def validate(password, char, min_count, max_count):\n",
    "    return password.count(char) in range(min_count, max_count+1)\n",
    "    \n",
    "    \n",
    "passwords = [(p.split(': ')[1], policy(p.split(': ')[0])) for p in s.split('\\n')]\n",
    "valid = [passwd for passwd in passwords if validate(passwd[0], passwd[1][2], passwd[1][0], passwd[1][1])]\n",
    "\n",
    "len(valid)"
   ]
  },
  {
   "cell_type": "markdown",
   "metadata": {},
   "source": [
    "## Part 2"
   ]
  },
  {
   "cell_type": "code",
   "execution_count": 34,
   "metadata": {},
   "outputs": [
    {
     "data": {
      "text/plain": [
       "284"
      ]
     },
     "execution_count": 34,
     "metadata": {},
     "output_type": "execute_result"
    }
   ],
   "source": [
    "def validate(password, char, index1, index2):\n",
    "    valid = False\n",
    "    if password[index1-1] == char:\n",
    "        valid ^= True\n",
    "    if password[index2-1] == char:\n",
    "        valid ^= True\n",
    "    return valid\n",
    "\n",
    "valid = [passwd for passwd in passwords if validate(passwd[0], passwd[1][2], passwd[1][0], passwd[1][1])]\n",
    "\n",
    "len(valid)"
   ]
  },
  {
   "cell_type": "markdown",
   "metadata": {},
   "source": [
    "# Day 3"
   ]
  },
  {
   "cell_type": "markdown",
   "metadata": {},
   "source": [
    "## Part 1"
   ]
  },
  {
   "cell_type": "code",
   "execution_count": 7,
   "metadata": {},
   "outputs": [
    {
     "data": {
      "text/plain": [
       "220"
      ]
     },
     "execution_count": 7,
     "metadata": {},
     "output_type": "execute_result"
    }
   ],
   "source": [
    "with open('inputs/day3.txt') as f:\n",
    "    s = f.read()[:-1]\n",
    "    \n",
    "slope = s.split('\\n')\n",
    "v = (3,1)\n",
    "\n",
    "def trees(v):\n",
    "    tree_count = 0\n",
    "    pos = (0,0)\n",
    "    while pos[1] in range(len(slope)):\n",
    "        if slope[pos[1]][pos[0]] == '#':\n",
    "            tree_count += 1\n",
    "        pos = ((pos[0]+v[0])%len(slope[0]), pos[1]+v[1])\n",
    "    return tree_count\n",
    "        \n",
    "trees(v)"
   ]
  },
  {
   "cell_type": "markdown",
   "metadata": {},
   "source": [
    "## Part 2"
   ]
  },
  {
   "cell_type": "code",
   "execution_count": 8,
   "metadata": {},
   "outputs": [
    {
     "data": {
      "text/plain": [
       "2138320800"
      ]
     },
     "execution_count": 8,
     "metadata": {},
     "output_type": "execute_result"
    }
   ],
   "source": [
    "vectors = [(1,1), (3,1), (5,1), (7,1), (1,2)]\n",
    "m = 1\n",
    "\n",
    "for v in vectors:\n",
    "    m *= trees(v)\n",
    "    \n",
    "m"
   ]
  },
  {
   "cell_type": "markdown",
   "metadata": {},
   "source": [
    "# Day 4"
   ]
  },
  {
   "cell_type": "markdown",
   "metadata": {},
   "source": [
    "## Part 1"
   ]
  },
  {
   "cell_type": "code",
   "execution_count": 26,
   "metadata": {},
   "outputs": [
    {
     "data": {
      "text/plain": [
       "210"
      ]
     },
     "execution_count": 26,
     "metadata": {},
     "output_type": "execute_result"
    }
   ],
   "source": [
    "with open('inputs/day4.txt') as f:\n",
    "    s = f.read()[:-1]\n",
    "    \n",
    "fields = ['byr', 'iyr', 'eyr', 'hgt', 'hcl', 'ecl', 'pid']\n",
    "    \n",
    "documents = [d.replace(' ', ';').replace('\\n', ';').split(';') for d in s.split('\\n\\n')]\n",
    "documents = [{field.split(':')[0]: field.split(':')[1] for field in d} for d in documents]\n",
    "\n",
    "def valid(document):\n",
    "    for f in fields:\n",
    "        if f not in document:\n",
    "            return False\n",
    "    return True\n",
    "\n",
    "len([d for d in documents if valid(d)])"
   ]
  },
  {
   "cell_type": "markdown",
   "metadata": {},
   "source": [
    "## Part 2"
   ]
  },
  {
   "cell_type": "code",
   "execution_count": 28,
   "metadata": {},
   "outputs": [
    {
     "data": {
      "text/plain": [
       "131"
      ]
     },
     "execution_count": 28,
     "metadata": {},
     "output_type": "execute_result"
    }
   ],
   "source": [
    "def year(y, y0, y1):\n",
    "    return y.isdigit and int(y) >= y0 and int(y) <= y1\n",
    "\n",
    "def height(h):\n",
    "    if not h[-2:] in ['cm', 'in'] or not h[:-2].isdigit():\n",
    "        return False\n",
    "    if 'cm' in h:\n",
    "        return int(h[:-2]) in range(150,194)\n",
    "    else:\n",
    "        return int(h[:-2]) in range(59,77)\n",
    "    \n",
    "def hair(c):\n",
    "    if not (len(c) == 7 and c[0] == '#'):\n",
    "        return False\n",
    "    for ch in c[1:]:\n",
    "        if not (ch.isdigit() or ch in 'abcdef'):\n",
    "            return False\n",
    "    return True\n",
    "    \n",
    "\n",
    "validations = {'byr': (lambda byr: year(byr, 1920, 2002)), \\\n",
    "               'iyr': (lambda iyr: year(iyr, 2010, 2020)), \\\n",
    "               'eyr': (lambda eyr: year(eyr, 2020, 2030)), \\\n",
    "               'hgt': height, \\\n",
    "               'hcl': hair, \\\n",
    "               'ecl': (lambda ecl: ecl in ['amb', 'blu', 'brn', 'gry', 'grn', 'hzl', 'oth']), \\\n",
    "               'pid': (lambda pid: len(pid) == 9 and pid.isdigit())}\n",
    "\n",
    "def valid(document):\n",
    "    for f in validations:\n",
    "        if f not in document or not validations[f](document[f]):\n",
    "            return False\n",
    "    return True\n",
    "\n",
    "len([d for d in documents if valid(d)])"
   ]
  },
  {
   "cell_type": "markdown",
   "metadata": {},
   "source": [
    "# Day 5"
   ]
  },
  {
   "cell_type": "markdown",
   "metadata": {},
   "source": [
    "## Part 1"
   ]
  },
  {
   "cell_type": "code",
   "execution_count": 22,
   "metadata": {},
   "outputs": [
    {
     "data": {
      "text/plain": [
       "947"
      ]
     },
     "execution_count": 22,
     "metadata": {},
     "output_type": "execute_result"
    }
   ],
   "source": [
    "with open('inputs/day5.txt') as f:\n",
    "    seats = f.read()[:-1].split('\\n')\n",
    "    \n",
    "def calculate_row(directions):\n",
    "    low, high = 0,127\n",
    "    for d in directions:\n",
    "        if d == 'F':\n",
    "            high = (low+high)//2\n",
    "        else:\n",
    "            low = (low+high)//2 + 1\n",
    "    return low\n",
    "    \n",
    "def calculate_column(directions):\n",
    "    low, high = 0,7\n",
    "    for d in directions:\n",
    "        if d == 'L':\n",
    "            high = (low+high)//2\n",
    "        else:\n",
    "            low = (low+high)//2 + 1\n",
    "    return low\n",
    "    \n",
    "def seat(directions):\n",
    "    row = calculate_row(directions[:7])\n",
    "    column = calculate_column(directions[7:])\n",
    "    return (row, column)\n",
    "\n",
    "seats = {seat(s): 8*seat(s)[0]+seat(s)[1] for s in seats}\n",
    "max(seats.values())"
   ]
  },
  {
   "cell_type": "markdown",
   "metadata": {},
   "source": [
    "## Part 2"
   ]
  },
  {
   "cell_type": "code",
   "execution_count": 32,
   "metadata": {},
   "outputs": [
    {
     "data": {
      "text/plain": [
       "636"
      ]
     },
     "execution_count": 32,
     "metadata": {},
     "output_type": "execute_result"
    }
   ],
   "source": [
    "seat = [(x,y) for x in range(1,127) for y in range(0,8) \\\n",
    "              if (x,y) not in seats and 8*x+y-1 in seats.values() and 8*x+y+1 in seats.values()][0]\n",
    "\n",
    "8*seat[0]+seat[1]"
   ]
  },
  {
   "cell_type": "markdown",
   "metadata": {},
   "source": [
    "# Day 6"
   ]
  },
  {
   "cell_type": "markdown",
   "metadata": {},
   "source": [
    "## Part 1"
   ]
  },
  {
   "cell_type": "code",
   "execution_count": 1,
   "metadata": {},
   "outputs": [
    {
     "data": {
      "text/plain": [
       "7110"
      ]
     },
     "execution_count": 1,
     "metadata": {},
     "output_type": "execute_result"
    }
   ],
   "source": [
    "with open('inputs/day6.txt') as f:\n",
    "    s = f.read()[:-1]\n",
    "    \n",
    "groups = s.split('\\n\\n')\n",
    "\n",
    "def count_1s(n):\n",
    "    count = 0\n",
    "    while n != 0:\n",
    "        n &= n-1\n",
    "        count += 1\n",
    "        \n",
    "    return count\n",
    "\n",
    "def group_yes_or(group):\n",
    "    group = group.replace('\\n', '')\n",
    "    a = 0\n",
    "    for q in group:\n",
    "        a |= 1 << (ord(q) - ord('a'))\n",
    "        \n",
    "    return a\n",
    "\n",
    "sum([count_1s(group_yes_or(group)) for group in groups])"
   ]
  },
  {
   "cell_type": "markdown",
   "metadata": {},
   "source": [
    "## Part 2"
   ]
  },
  {
   "cell_type": "code",
   "execution_count": 2,
   "metadata": {},
   "outputs": [
    {
     "data": {
      "text/plain": [
       "3628"
      ]
     },
     "execution_count": 2,
     "metadata": {},
     "output_type": "execute_result"
    }
   ],
   "source": [
    "def group_yes_and(group):\n",
    "    people = [group_yes_or(person) for person in group.split('\\n')]\n",
    "    a = (2 << 26) - 1\n",
    "    for person in people:\n",
    "        a &= person\n",
    "        \n",
    "    return a\n",
    "\n",
    "sum([count_1s(group_yes_and(group)) for group in groups])"
   ]
  },
  {
   "cell_type": "markdown",
   "metadata": {},
   "source": [
    "# Day 7"
   ]
  },
  {
   "cell_type": "markdown",
   "metadata": {},
   "source": [
    "## Part 1"
   ]
  },
  {
   "cell_type": "code",
   "execution_count": 35,
   "metadata": {},
   "outputs": [
    {
     "data": {
      "text/plain": [
       "370"
      ]
     },
     "execution_count": 35,
     "metadata": {},
     "output_type": "execute_result"
    }
   ],
   "source": [
    "with open('inputs/day7.txt') as f:\n",
    "    s = f.read()[:-1]\n",
    "    \n",
    "target = 'shiny gold'\n",
    "\n",
    "def parse(rules):\n",
    "    if 'no other bags' in rules:\n",
    "        return {}\n",
    "    else:\n",
    "        rules = rules.replace(' bags', '').replace(' bag', '')\n",
    "        return {' '.join(rule.split(' ')[1:]): int(rule.split(' ')[0]) for rule in rules.split(', ')}\n",
    "    \n",
    "    \n",
    "rules = {bag.split(' bags contain ')[0]: parse(bag[:-1].split(' bags contain ')[1]) for bag in s.split('\\n')}\n",
    "\n",
    "outermost = set()\n",
    "next_outermost = {bag for bag in rules if target in rules[bag]}\n",
    "while len(outermost) != len(next_outermost):\n",
    "    outermost.update(next_outermost)\n",
    "    next_outermost.update({bag for bag in rules if len(outermost.intersection(rules[bag])) != 0})\n",
    "    \n",
    "len(outermost)"
   ]
  },
  {
   "cell_type": "markdown",
   "metadata": {},
   "source": [
    "## Part 2"
   ]
  },
  {
   "cell_type": "code",
   "execution_count": 43,
   "metadata": {},
   "outputs": [
    {
     "data": {
      "text/plain": [
       "29547"
      ]
     },
     "execution_count": 43,
     "metadata": {},
     "output_type": "execute_result"
    }
   ],
   "source": [
    "bags = {bag: rules[target][bag] for bag in rules[target]}\n",
    "\n",
    "def open_bag(bag):\n",
    "    contains = {inner: rules[bag][inner] for inner in rules[bag]}\n",
    "    contains_all = {bag: contains[bag] for bag in contains}\n",
    "    for inner in contains:\n",
    "        deep = open_bag(inner)\n",
    "        for inner_inner in deep:\n",
    "            contains_all[inner_inner] = contains_all.get(inner_inner, 0) + contains[inner]*deep[inner_inner]\n",
    "    return contains_all\n",
    "\n",
    "sum(open_bag(target).values())"
   ]
  },
  {
   "cell_type": "markdown",
   "metadata": {},
   "source": [
    "# Day 8"
   ]
  },
  {
   "cell_type": "markdown",
   "metadata": {},
   "source": [
    "## Part 1"
   ]
  },
  {
   "cell_type": "code",
   "execution_count": 3,
   "metadata": {},
   "outputs": [
    {
     "data": {
      "text/plain": [
       "2058"
      ]
     },
     "execution_count": 3,
     "metadata": {},
     "output_type": "execute_result"
    }
   ],
   "source": [
    "with open('inputs/day8.txt') as f:\n",
    "    instructions = f.read()[:-1].split('\\n')\n",
    "\n",
    "def acc(n,a,i):\n",
    "    return a+n,i+1\n",
    "\n",
    "def nop(n,a,i):\n",
    "    return a,i+1\n",
    "\n",
    "def jmp(n,a,i):\n",
    "    return a,i+n\n",
    "\n",
    "instruction_map = {'acc': acc, 'nop': nop, 'jmp': jmp}\n",
    "def execute(a,i):\n",
    "    instruction = instructions[i]\n",
    "    return instruction_map[instruction.split(' ')[0]](int(instruction.split(' ')[1]),a,i)\n",
    "\n",
    "def process(instructions):\n",
    "    a = i = 0\n",
    "    executed = set()\n",
    "    while i not in executed:\n",
    "        executed.add(i)\n",
    "        a,i = execute(a,i)\n",
    "    return a\n",
    "\n",
    "process(instructions)"
   ]
  },
  {
   "cell_type": "markdown",
   "metadata": {},
   "source": [
    "## Part 2"
   ]
  },
  {
   "cell_type": "code",
   "execution_count": 26,
   "metadata": {},
   "outputs": [
    {
     "data": {
      "text/plain": [
       "1000"
      ]
     },
     "execution_count": 26,
     "metadata": {},
     "output_type": "execute_result"
    }
   ],
   "source": [
    "def process(instructions):\n",
    "    a = i = 0\n",
    "    limit = 1000\n",
    "    while limit > 0 and i in range(len(instructions)):\n",
    "        limit -= 1\n",
    "        a,i = execute(a,i)\n",
    "    return a, i not in range(len(instructions))\n",
    "\n",
    "def toggle(instruction):\n",
    "    return instruction.replace('nop', 'jmp') if 'nop' in instruction else instruction.replace('jmp', 'nop')\n",
    "\n",
    "toggle_i = 0\n",
    "executed = False\n",
    "while toggle_i in range(len(instructions)) and not executed:\n",
    "    instructions[toggle_i] = toggle(instructions[toggle_i])\n",
    "    a, executed = process(instructions)\n",
    "    instructions[toggle_i] = toggle(instructions[toggle_i])\n",
    "    toggle_i += 1\n",
    "    \n",
    "a"
   ]
  },
  {
   "cell_type": "markdown",
   "metadata": {},
   "source": [
    "# Day 9"
   ]
  },
  {
   "cell_type": "markdown",
   "metadata": {},
   "source": [
    "## Part 1"
   ]
  },
  {
   "cell_type": "code",
   "execution_count": 12,
   "metadata": {},
   "outputs": [
    {
     "data": {
      "text/plain": [
       "731031916"
      ]
     },
     "execution_count": 12,
     "metadata": {},
     "output_type": "execute_result"
    }
   ],
   "source": [
    "with open('inputs/day9.txt') as f:\n",
    "    numbers = [int(n) for n in f.read()[:-1].split('\\n')]\n",
    "    \n",
    "i = 25\n",
    "\n",
    "def valid(i,numbers):\n",
    "    n = numbers[i]\n",
    "    pre = numbers[i-25:i]\n",
    "    parts = [p for p in pre if n-p in pre]\n",
    "    return (len(parts)) != 0\n",
    "\n",
    "for i in range(25,len(numbers)):\n",
    "    if not valid(i,numbers):\n",
    "        break\n",
    "        \n",
    "numbers[i]"
   ]
  },
  {
   "cell_type": "markdown",
   "metadata": {},
   "source": [
    "## Part 2"
   ]
  },
  {
   "cell_type": "code",
   "execution_count": 21,
   "metadata": {},
   "outputs": [
    {
     "data": {
      "text/plain": [
       "93396727"
      ]
     },
     "execution_count": 21,
     "metadata": {},
     "output_type": "execute_result"
    }
   ],
   "source": [
    "target = numbers[i]\n",
    "\n",
    "for low in range(i):\n",
    "    for high in range(low+1,i-1):\n",
    "        n = sum(numbers[low:high+1])\n",
    "        if n == target:\n",
    "            break\n",
    "    if n == target:\n",
    "        break\n",
    "        \n",
    "min(numbers[low:high+1]) + max(numbers[low:high+1])"
   ]
  },
  {
   "cell_type": "markdown",
   "metadata": {},
   "source": [
    "# Day 10"
   ]
  },
  {
   "cell_type": "markdown",
   "metadata": {},
   "source": [
    "## Part 1"
   ]
  },
  {
   "cell_type": "code",
   "execution_count": 50,
   "metadata": {},
   "outputs": [
    {
     "data": {
      "text/plain": [
       "1755"
      ]
     },
     "execution_count": 50,
     "metadata": {},
     "output_type": "execute_result"
    }
   ],
   "source": [
    "with open('inputs/day10.txt') as f:\n",
    "    adapters = [int(n) for n in f.read()[:-1].split('\\n')]\n",
    "        \n",
    "chain = adapters + [0] + [max(adapters)+3]\n",
    "chain.sort()\n",
    "\n",
    "jumps = {0: 0, 1: 0, 2: 0, 3: 0}\n",
    "for i in range(len(chain)-1):\n",
    "    jumps[chain[i+1] - chain[i]] += 1\n",
    "    \n",
    "jumps[1]*jumps[3]"
   ]
  },
  {
   "cell_type": "markdown",
   "metadata": {},
   "source": [
    "## Part 2"
   ]
  },
  {
   "cell_type": "code",
   "execution_count": 52,
   "metadata": {},
   "outputs": [
    {
     "data": {
      "text/plain": [
       "4049565169664"
      ]
     },
     "execution_count": 52,
     "metadata": {},
     "output_type": "execute_result"
    }
   ],
   "source": [
    "cache = {}\n",
    "\n",
    "def build(i):\n",
    "    if i in cache:\n",
    "        return cache[i]\n",
    "    \n",
    "    if i >= len(chain):\n",
    "        return 0\n",
    "    if i == len(chain)-1:\n",
    "        return 1\n",
    "    \n",
    "    chains = 0\n",
    "    last = chain[i]\n",
    "    for j in range(1,4):\n",
    "        if i+j < len(chain) and chain[i+j] <= last+3 and \\\n",
    "        (i+j == len(chain)-1 or chain[i+j]+1 in chain or chain[i+j]+2 in chain or chain[i+j]+3 in chain):\n",
    "            chains += build(i+j)\n",
    "    \n",
    "    cache[i] = chains\n",
    "    return chains\n",
    "        \n",
    "build(0)"
   ]
  },
  {
   "cell_type": "markdown",
   "metadata": {},
   "source": [
    "# Day 11"
   ]
  },
  {
   "cell_type": "markdown",
   "metadata": {},
   "source": [
    "## Part 1"
   ]
  },
  {
   "cell_type": "code",
   "execution_count": 20,
   "metadata": {},
   "outputs": [
    {
     "data": {
      "text/plain": [
       "2338"
      ]
     },
     "execution_count": 20,
     "metadata": {},
     "output_type": "execute_result"
    }
   ],
   "source": [
    "with open('inputs/day11.txt') as f:\n",
    "    s = f.read()[:-1].split('\\n')\n",
    "    \n",
    "h = len(s)\n",
    "w = len(s[0])\n",
    "\n",
    "seats = {}\n",
    "for y in range(h):\n",
    "    for x in range(w):\n",
    "        if s[y][x] != '.':\n",
    "            seats[(x,y)] = s[y][x]\n",
    "\n",
    "def occupied_neighbours(x,y,seats):\n",
    "    return sum([1 for i in range(-1,2) for j in range(-1,2) if not (i == 0 and j == 0) and seats.get((x+i,y+j),'.') == '#'])\n",
    "         \n",
    "def next_state(x,y,seats):\n",
    "    adjecent = occupied_neighbours(x,y,seats)\n",
    "    if seats[(x,y)] == 'L' and adjecent == 0:\n",
    "        return '#'\n",
    "    if seats[(x,y)] == '#' and adjecent >= 4:\n",
    "        return 'L'\n",
    "    return seats[(x,y)]\n",
    "    \n",
    "def tick(seats):\n",
    "    return {(x,y): next_state(x,y,seats) for (x,y) in seats}\n",
    "\n",
    "new_seats = tick(seats)\n",
    "while seats != new_seats:\n",
    "    seats = new_seats\n",
    "    new_seats = tick(seats)\n",
    "    \n",
    "list(seats.values()).count('#')"
   ]
  },
  {
   "cell_type": "markdown",
   "metadata": {},
   "source": [
    "## Part 2"
   ]
  },
  {
   "cell_type": "code",
   "execution_count": 21,
   "metadata": {},
   "outputs": [
    {
     "data": {
      "text/plain": [
       "2134"
      ]
     },
     "execution_count": 21,
     "metadata": {},
     "output_type": "execute_result"
    }
   ],
   "source": [
    "def find_first(x0,y0,dx,dy,seats):\n",
    "    n = 1\n",
    "    while x0+n*dx in range(w) and y0+n*dy in range(h):\n",
    "        if (x0+n*dx, y0+n*dy) in seats:\n",
    "            return seats[(x0+n*dx, y0+n*dy)]\n",
    "        n += 1\n",
    "    return '.'\n",
    "    \n",
    "            \n",
    "def visible_neighbours(x,y,seats):\n",
    "    return sum([1 for i in range(-1,2) for j in range(-1,2) if not (i == 0 and j == 0) and find_first(x,y,i,j,seats) == '#'])\n",
    "            \n",
    "def next_state(x,y,seats):\n",
    "    visible = visible_neighbours(x,y,seats)\n",
    "    if seats[(x,y)] == 'L' and visible == 0:\n",
    "        return '#'\n",
    "    if seats[(x,y)] == '#' and visible >= 5:\n",
    "        return 'L'\n",
    "    return seats[(x,y)]\n",
    "\n",
    "seats = {}\n",
    "for y in range(h):\n",
    "    for x in range(w):\n",
    "        if s[y][x] != '.':\n",
    "            seats[(x,y)] = s[y][x]\n",
    "\n",
    "new_seats = tick(seats)\n",
    "while seats != new_seats:\n",
    "    seats = new_seats\n",
    "    new_seats = tick(seats)\n",
    "    \n",
    "list(seats.values()).count('#')"
   ]
  },
  {
   "cell_type": "markdown",
   "metadata": {},
   "source": [
    "# Day 12"
   ]
  },
  {
   "cell_type": "markdown",
   "metadata": {},
   "source": [
    "## Part 1"
   ]
  },
  {
   "cell_type": "code",
   "execution_count": 10,
   "metadata": {},
   "outputs": [
    {
     "data": {
      "text/plain": [
       "757"
      ]
     },
     "execution_count": 10,
     "metadata": {},
     "output_type": "execute_result"
    }
   ],
   "source": [
    "with open('inputs/day12.txt') as f:\n",
    "    s = f.read()[:-1].split('\\n')\n",
    "\n",
    "absolute_directions = {'E': (1,0), 'N': (0,-1), 'W': (-1,0), 'S': (0,1)}\n",
    "directions = ['E', 'N', 'W', 'S']\n",
    "direction = 0\n",
    "position = (0,0)\n",
    "\n",
    "def move(command, position, direction):\n",
    "    if command[0] in 'ENWS':\n",
    "        d = absolute_directions[command[0]]\n",
    "        n = int(command[1:])\n",
    "        return (position[0]+n*d[0], position[1]+n*d[1]), direction\n",
    "    if command[0] == 'F':\n",
    "        d = absolute_directions[directions[direction]]\n",
    "        n = int(command[1:])\n",
    "        return (position[0]+n*d[0], position[1]+n*d[1]), direction\n",
    "    if command[0] == 'L':\n",
    "        n = int(command[1:]) // 90\n",
    "        return position, (direction + n) % 4\n",
    "    if command[0] == 'R':\n",
    "        n = int(command[1:]) // 90\n",
    "        return position, (direction - n) % 4\n",
    "    \n",
    "for command in s:\n",
    "    position, direction = move(command, position, direction)\n",
    "    \n",
    "abs(position[0]) + abs(position[1])"
   ]
  },
  {
   "cell_type": "markdown",
   "metadata": {},
   "source": [
    "## Part 2"
   ]
  },
  {
   "cell_type": "code",
   "execution_count": 12,
   "metadata": {},
   "outputs": [
    {
     "data": {
      "text/plain": [
       "51249"
      ]
     },
     "execution_count": 12,
     "metadata": {},
     "output_type": "execute_result"
    }
   ],
   "source": [
    "direction = 0\n",
    "position = (0,0)\n",
    "waypoint = (10,-1)\n",
    "\n",
    "def move(command, position, direction, waypoint):\n",
    "    if command[0] in 'ENWS':\n",
    "        d = absolute_directions[command[0]]\n",
    "        n = int(command[1:])\n",
    "        return position, direction, (waypoint[0]+n*d[0], waypoint[1]+n*d[1])\n",
    "    if command[0] == 'F':\n",
    "        n = int(command[1:])\n",
    "        return (position[0]+n*waypoint[0], position[1]+n*waypoint[1]), direction, waypoint\n",
    "    if command[0] == 'L':\n",
    "        n = int(command[1:]) // 90\n",
    "        for i in range(n):\n",
    "            waypoint = (waypoint[1], -waypoint[0])\n",
    "        return position, direction, waypoint\n",
    "    if command[0] == 'R':\n",
    "        n = int(command[1:]) // 90\n",
    "        for i in range(n):\n",
    "            waypoint = (-waypoint[1], waypoint[0])\n",
    "        return position, direction, waypoint\n",
    "    \n",
    "for command in s:\n",
    "    position, direction, waypoint = move(command, position, direction, waypoint)\n",
    "    \n",
    "abs(position[0]) + abs(position[1])"
   ]
  },
  {
   "cell_type": "markdown",
   "metadata": {},
   "source": [
    "# Day 13"
   ]
  },
  {
   "cell_type": "markdown",
   "metadata": {},
   "source": [
    "## Part 1"
   ]
  },
  {
   "cell_type": "code",
   "execution_count": 57,
   "metadata": {},
   "outputs": [
    {
     "data": {
      "text/plain": [
       "5257"
      ]
     },
     "execution_count": 57,
     "metadata": {},
     "output_type": "execute_result"
    }
   ],
   "source": [
    "with open('inputs/day13.txt') as f:\n",
    "    s = f.read()[:-1].split('\\n')\n",
    "    \n",
    "earliest = int(s[0])\n",
    "buses = [int(bus) for bus in s[1].replace(',x', '').split(',')]\n",
    "\n",
    "first = min(buses, key=lambda bus: bus - earliest % bus)\n",
    "\n",
    "first*(first - earliest%first)"
   ]
  },
  {
   "cell_type": "markdown",
   "metadata": {},
   "source": [
    "## Part 2"
   ]
  },
  {
   "cell_type": "code",
   "execution_count": 58,
   "metadata": {},
   "outputs": [
    {
     "data": {
      "text/plain": [
       "538703333547789"
      ]
     },
     "execution_count": 58,
     "metadata": {},
     "output_type": "execute_result"
    }
   ],
   "source": [
    "buses = [bus for bus in s[1].split(',')]\n",
    "timetable = {i: int(buses[i]) for i in range(len(buses)) if buses[i].isdigit()}\n",
    "\n",
    "d = 1\n",
    "start = 0\n",
    "for t in timetable:\n",
    "    offset = (timetable[t] - t) % timetable[t]\n",
    "    i = start - offset\n",
    "    while not i % timetable[t] == 0:\n",
    "        i += d\n",
    "    start = i + offset\n",
    "    d *= timetable[t]\n",
    "    \n",
    "start"
   ]
  },
  {
   "cell_type": "markdown",
   "metadata": {},
   "source": [
    "# Day 14"
   ]
  },
  {
   "cell_type": "markdown",
   "metadata": {},
   "source": [
    "## Part 1"
   ]
  },
  {
   "cell_type": "code",
   "execution_count": 139,
   "metadata": {},
   "outputs": [
    {
     "data": {
      "text/plain": [
       "15018100062885"
      ]
     },
     "execution_count": 139,
     "metadata": {},
     "output_type": "execute_result"
    }
   ],
   "source": [
    "with open('inputs/day14.txt') as f:\n",
    "    s = f.read()[:-1].split('\\n')\n",
    "    \n",
    "mask_and = 0\n",
    "mask_or = 0\n",
    "mem = {}\n",
    "\n",
    "def mask(mask_string):\n",
    "    return int(mask_string.replace('X', '1'), 2), int(mask_string.replace('X', '0'),2)\n",
    "\n",
    "def write(address, value, mask_and, mask_or):\n",
    "    mem[address] = (value & mask_and) | mask_or\n",
    "    \n",
    "def process(string, mask_and, mask_or):\n",
    "    if 'mask' in string:\n",
    "        return mask(string.split(' = ')[-1])\n",
    "    else:\n",
    "        address = int(string[4:].split(']')[0])\n",
    "        value = int(string.split(' = ')[-1])\n",
    "        write(address, value, mask_and, mask_or)\n",
    "        return mask_and, mask_or\n",
    "    \n",
    "for string in s:\n",
    "    mask_and, mask_or = process(string, mask_and, mask_or)\n",
    "    \n",
    "sum(mem.values())"
   ]
  },
  {
   "cell_type": "markdown",
   "metadata": {},
   "source": [
    "## Part 2"
   ]
  },
  {
   "cell_type": "code",
   "execution_count": 144,
   "metadata": {},
   "outputs": [
    {
     "data": {
      "text/plain": [
       "5724245857696"
      ]
     },
     "execution_count": 144,
     "metadata": {},
     "output_type": "execute_result"
    }
   ],
   "source": [
    "mem = {}\n",
    "mask = 'X'*36\n",
    "\n",
    "def addresses(masked_string):\n",
    "    if 'X' not in masked_string:\n",
    "        return [int(masked_string, 2)]\n",
    "    return addresses(masked_string.replace('X', '0', 1)) + addresses(masked_string.replace('X', '1', 1))\n",
    "\n",
    "def write(address, value, mask):\n",
    "    addr = (36-len(address)) * '0' + address\n",
    "    addr = ''.join([addr[i] if mask[i] == '0' else mask[i] for i in range(len(addr))])\n",
    "    for a in addresses(addr):\n",
    "        mem[a] = value\n",
    "    \n",
    "def process(string, masks):\n",
    "    if 'mask' in string:\n",
    "        return string.split(' = ')[-1]\n",
    "    else:\n",
    "        address = bin(int(string[4:].split(']')[0]))[2:]\n",
    "        value = int(string.split(' = ')[-1])\n",
    "        write(address, value, mask)\n",
    "        return mask\n",
    "    \n",
    "for string in s:\n",
    "    mask = process(string, masks)\n",
    "    \n",
    "sum(mem.values())"
   ]
  },
  {
   "cell_type": "markdown",
   "metadata": {},
   "source": [
    "# Day 15"
   ]
  },
  {
   "cell_type": "markdown",
   "metadata": {},
   "source": [
    "## Part 1"
   ]
  },
  {
   "cell_type": "code",
   "execution_count": 21,
   "metadata": {},
   "outputs": [
    {
     "data": {
      "text/plain": [
       "412"
      ]
     },
     "execution_count": 21,
     "metadata": {},
     "output_type": "execute_result"
    }
   ],
   "source": [
    "starting_numbers = [10,16,6,0,1,17]\n",
    "last_mentioned = {}\n",
    "\n",
    "new_number = None\n",
    "for i in range(2020):\n",
    "    if i in range(len(starting_numbers)):\n",
    "        last_number = new_number\n",
    "        last_mentioned[last_number] = i-1\n",
    "        new_number = starting_numbers[i]\n",
    "    else:\n",
    "        last_number = new_number\n",
    "        if last_number in last_mentioned:\n",
    "            new_number = i - 1 - last_mentioned[last_number]\n",
    "        else:\n",
    "            new_number = 0\n",
    "        last_mentioned[last_number] = i-1\n",
    "    \n",
    "new_number"
   ]
  },
  {
   "cell_type": "markdown",
   "metadata": {},
   "source": [
    "## Part 2"
   ]
  },
  {
   "cell_type": "code",
   "execution_count": 24,
   "metadata": {},
   "outputs": [
    {
     "data": {
      "text/plain": [
       "243"
      ]
     },
     "execution_count": 24,
     "metadata": {},
     "output_type": "execute_result"
    }
   ],
   "source": [
    "last_mentioned = {}\n",
    "\n",
    "new_number = None\n",
    "for i in range(30000000):\n",
    "    if i in range(len(starting_numbers)):\n",
    "        last_number = new_number\n",
    "        last_mentioned[last_number] = i-1\n",
    "        new_number = starting_numbers[i]\n",
    "    else:\n",
    "        last_number = new_number\n",
    "        if last_number in last_mentioned:\n",
    "            new_number = i - 1 - last_mentioned[last_number]\n",
    "        else:\n",
    "            new_number = 0\n",
    "        last_mentioned[last_number] = i-1\n",
    "    \n",
    "new_number"
   ]
  },
  {
   "cell_type": "markdown",
   "metadata": {},
   "source": [
    "# Day 16"
   ]
  },
  {
   "cell_type": "markdown",
   "metadata": {},
   "source": [
    "## Part 1"
   ]
  },
  {
   "cell_type": "code",
   "execution_count": 65,
   "metadata": {},
   "outputs": [
    {
     "data": {
      "text/plain": [
       "29019"
      ]
     },
     "execution_count": 65,
     "metadata": {},
     "output_type": "execute_result"
    }
   ],
   "source": [
    "with open('inputs/day16.txt') as f:\n",
    "    s = f.read()[:-1].split('\\n\\n')\n",
    "\n",
    "def rule_part(rule, p1, p2):\n",
    "    return int(rule.split(' or ')[p1].split('-')[p2])\n",
    "\n",
    "def parse_rule(rule):\n",
    "    return lambda r: r in range(rule_part(rule,0,0), rule_part(rule,0,1)+1) or \\\n",
    "                    r in range(rule_part(rule,1,0), rule_part(rule,1,1)+1)\n",
    "    \n",
    "rules = {rule[:rule.index(':')]: parse_rule(rule[rule.index(':')+2:]) for rule in s[0].split('\\n')}\n",
    "tickets = [list(map(int, ticket.split(','))) for ticket in s[2].split('\\n')[1:]]\n",
    "\n",
    "error = 0\n",
    "discard = []\n",
    "for ticket in tickets:\n",
    "    for field in ticket:\n",
    "        match = False\n",
    "        for rule in rules.values():\n",
    "            if rule(field):\n",
    "                match = True\n",
    "                break\n",
    "        if not match:\n",
    "            discard.append(ticket)\n",
    "            error += field\n",
    "            \n",
    "error"
   ]
  },
  {
   "cell_type": "markdown",
   "metadata": {},
   "source": [
    "## Part 2"
   ]
  },
  {
   "cell_type": "code",
   "execution_count": 79,
   "metadata": {},
   "outputs": [
    {
     "data": {
      "text/plain": [
       "517827547723"
      ]
     },
     "execution_count": 79,
     "metadata": {},
     "output_type": "execute_result"
    }
   ],
   "source": [
    "own = [int(field) for field in s[1].split('\\n')[1].split(',')]\n",
    "tickets = [list(map(int, ticket.split(','))) for ticket in s[2].split('\\n')[1:]]\n",
    "tickets = [ticket for ticket in tickets if ticket not in discard]\n",
    "tickets.append(own)\n",
    "possible_fields = {rule: [i for i in range(len(tickets[0]))] for rule in rules}\n",
    "\n",
    "def clean_once(possible):\n",
    "    fixed = {}\n",
    "    for rule in possible:\n",
    "        if len(possible[rule]) == 1:\n",
    "            fixed[rule] = possible[rule][0]\n",
    "    return {r: [i for i in possible[r] if r in fixed or i not in fixed.values()] for r in possible}\n",
    "    \n",
    "\n",
    "def clean(possible):\n",
    "    new = clean_once(possible)\n",
    "    while new != possible:\n",
    "        possible = new\n",
    "        new = clean_once(possible)\n",
    "    return new\n",
    "        \n",
    "\n",
    "for ticket in tickets:\n",
    "    for rule in rules:\n",
    "        possible_fields[rule] = [i for i in possible_fields[rule] if rules[rule](ticket[i])]\n",
    "        if len(possible_fields[rule]) == 1:\n",
    "            possible_fields = clean(possible_fields)\n",
    "             \n",
    "possible_fields = {rule: possible_fields[rule][0] for rule in possible_fields}    \n",
    "                \n",
    "prod = 1\n",
    "prod *= own[possible_fields['departure location']]\n",
    "prod *= own[possible_fields['departure station']]\n",
    "prod *= own[possible_fields['departure platform']]\n",
    "prod *= own[possible_fields['departure track']]\n",
    "prod *= own[possible_fields['departure date']]\n",
    "prod *= own[possible_fields['departure time']]\n",
    "\n",
    "prod"
   ]
  }
 ],
 "metadata": {
  "kernelspec": {
   "display_name": "Python 3",
   "language": "python",
   "name": "python3"
  },
  "language_info": {
   "codemirror_mode": {
    "name": "ipython",
    "version": 3
   },
   "file_extension": ".py",
   "mimetype": "text/x-python",
   "name": "python",
   "nbconvert_exporter": "python",
   "pygments_lexer": "ipython3",
   "version": "3.7.4"
  }
 },
 "nbformat": 4,
 "nbformat_minor": 2
}
