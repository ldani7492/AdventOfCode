{
 "cells": [
  {
   "cell_type": "markdown",
   "id": "39509882",
   "metadata": {},
   "source": [
    "# Advent of Code 2021"
   ]
  },
  {
   "cell_type": "markdown",
   "id": "acc844b3",
   "metadata": {},
   "source": [
    "## Day 1"
   ]
  },
  {
   "cell_type": "markdown",
   "id": "2a724ffb",
   "metadata": {},
   "source": [
    "### Part 1"
   ]
  },
  {
   "cell_type": "code",
   "execution_count": 3,
   "id": "f09f9451",
   "metadata": {},
   "outputs": [
    {
     "data": {
      "text/plain": [
       "1393"
      ]
     },
     "execution_count": 3,
     "metadata": {},
     "output_type": "execute_result"
    }
   ],
   "source": [
    "with open('inputs/day1.txt') as f:\n",
    "    s = f.read()[:-1]\n",
    "    \n",
    "measurements = [int(n) for n in s.split('\\n')]\n",
    "\n",
    "m0 = measurements[0]\n",
    "inc = 0\n",
    "for m in measurements[1:]:\n",
    "    if m > m0:\n",
    "        inc += 1\n",
    "    m0 = m\n",
    "    \n",
    "inc"
   ]
  },
  {
   "cell_type": "markdown",
   "id": "d03e0244",
   "metadata": {},
   "source": [
    "### Part 2"
   ]
  },
  {
   "cell_type": "code",
   "execution_count": 5,
   "id": "9eefea68",
   "metadata": {},
   "outputs": [
    {
     "data": {
      "text/plain": [
       "1359"
      ]
     },
     "execution_count": 5,
     "metadata": {},
     "output_type": "execute_result"
    }
   ],
   "source": [
    "windows = [measurements[i]+measurements[i+1]+measurements[i+2] for i in range(len(measurements)-2)]\n",
    "\n",
    "w0 = windows[0]\n",
    "inc = 0\n",
    "for w in windows[1:]:\n",
    "    if w > w0:\n",
    "        inc += 1\n",
    "    w0 = w\n",
    "    \n",
    "inc"
   ]
  },
  {
   "cell_type": "markdown",
   "id": "ad44d35f",
   "metadata": {},
   "source": [
    "## Day 2"
   ]
  },
  {
   "cell_type": "markdown",
   "id": "58057070",
   "metadata": {},
   "source": [
    "### Part 1"
   ]
  },
  {
   "cell_type": "code",
   "execution_count": 5,
   "id": "fc004290",
   "metadata": {},
   "outputs": [
    {
     "data": {
      "text/plain": [
       "1989014"
      ]
     },
     "execution_count": 5,
     "metadata": {},
     "output_type": "execute_result"
    }
   ],
   "source": [
    "with open('inputs/day2.txt') as f:\n",
    "    s = f.read()[:-1]\n",
    "    \n",
    "directions = [n.split(' ') for n in s.split('\\n')]\n",
    "\n",
    "x,y = 0,0\n",
    "\n",
    "for d in directions:\n",
    "    if d[0] == 'forward':\n",
    "        x += int(d[1])\n",
    "    if d[0] == 'down':\n",
    "        y += int(d[1])\n",
    "    if d[0] == 'up':\n",
    "        y -= int(d[1])\n",
    "            \n",
    "x*y"
   ]
  },
  {
   "cell_type": "markdown",
   "id": "75c2078d",
   "metadata": {},
   "source": [
    "### Part 2"
   ]
  },
  {
   "cell_type": "code",
   "execution_count": 8,
   "id": "383f1dac",
   "metadata": {},
   "outputs": [
    {
     "data": {
      "text/plain": [
       "2006917119"
      ]
     },
     "execution_count": 8,
     "metadata": {},
     "output_type": "execute_result"
    }
   ],
   "source": [
    "x,y,aim = 0,0,0\n",
    "\n",
    "for d in directions:\n",
    "    if d[0] == 'down':\n",
    "        aim += int(d[1])\n",
    "    if d[0] == 'up':\n",
    "        aim -= int(d[1])\n",
    "    if d[0] == 'forward':\n",
    "        x += int(d[1])\n",
    "        y += aim*int(d[1])\n",
    "            \n",
    "x*y"
   ]
  },
  {
   "cell_type": "markdown",
   "id": "62b47da2",
   "metadata": {},
   "source": [
    "## Day 3"
   ]
  },
  {
   "cell_type": "markdown",
   "id": "1d670861",
   "metadata": {},
   "source": [
    "### Part 1"
   ]
  },
  {
   "cell_type": "code",
   "execution_count": 27,
   "id": "9ec791d1",
   "metadata": {},
   "outputs": [
    {
     "data": {
      "text/plain": [
       "2743844"
      ]
     },
     "execution_count": 27,
     "metadata": {},
     "output_type": "execute_result"
    }
   ],
   "source": [
    "with open('inputs/day3.txt') as f:\n",
    "    s = f.read()[:-1]\n",
    "    \n",
    "report = [n for n in s.split('\\n')]\n",
    "\n",
    "gamma,epsilon = 0,0\n",
    "\n",
    "for i in range(len(report[0])):\n",
    "    gamma *= 2\n",
    "    epsilon *= 2\n",
    "    zero,one = 0,0\n",
    "    for n in report:\n",
    "        if n[i] == '0':\n",
    "            zero += 1\n",
    "        else:\n",
    "            one += 1\n",
    "            \n",
    "    if zero > one:\n",
    "        epsilon += 1\n",
    "    else:\n",
    "        gamma += 1\n",
    "        \n",
    "gamma*epsilon"
   ]
  },
  {
   "cell_type": "markdown",
   "id": "86f636d8",
   "metadata": {},
   "source": [
    "### Part 2"
   ]
  },
  {
   "cell_type": "code",
   "execution_count": 29,
   "id": "109e5440",
   "metadata": {},
   "outputs": [
    {
     "data": {
      "text/plain": [
       "6677951"
      ]
     },
     "execution_count": 29,
     "metadata": {},
     "output_type": "execute_result"
    }
   ],
   "source": [
    "def count_bits(report,i):\n",
    "    zero,one = 0,0\n",
    "    for n in report:\n",
    "        if n[i] == '0':\n",
    "            zero += 1\n",
    "        else:\n",
    "            one += 1\n",
    "    return zero,one\n",
    "\n",
    "def o2(report,i):\n",
    "    if len(report) == 1:\n",
    "        return int(report[0],2)\n",
    "    zero,one = count_bits(report,i)\n",
    "    if zero > one:\n",
    "        return o2([n for n in report if n[i] == '0'], i+1)\n",
    "    else:\n",
    "        return o2([n for n in report if n[i] == '1'], i+1)\n",
    "    \n",
    "def co2(report,i):\n",
    "    if len(report) == 1:\n",
    "        return int(report[0],2)\n",
    "    zero,one = count_bits(report,i)\n",
    "    if zero > one:\n",
    "        return co2([n for n in report if n[i] == '1'], i+1)\n",
    "    else:\n",
    "        return co2([n for n in report if n[i] == '0'], i+1)\n",
    "    \n",
    "o2(report, 0)*co2(report, 0)"
   ]
  },
  {
   "cell_type": "markdown",
   "id": "ee1e614e",
   "metadata": {},
   "source": [
    "## Day 4"
   ]
  },
  {
   "cell_type": "markdown",
   "id": "1d45b1e7",
   "metadata": {},
   "source": [
    "### Part 1"
   ]
  },
  {
   "cell_type": "code",
   "execution_count": 90,
   "id": "b1141c4e",
   "metadata": {},
   "outputs": [
    {
     "name": "stdout",
     "output_type": "stream",
     "text": [
      "10374\n"
     ]
    }
   ],
   "source": [
    "with open('inputs/day4.txt') as f:\n",
    "    s = f.read()[:-1]\n",
    "    \n",
    "bingo = [n for n in s.split('\\n\\n')]\n",
    "numbers = [int(n) for n in bingo[0].split(',')]\n",
    "boards = [[[int(n) for n in r.split(' ') if n != ''] for r in b.split('\\n')] for b in bingo[1:]]\n",
    "marks = [[[0,0,0,0,0],[0,0,0,0,0],[0,0,0,0,0],[0,0,0,0,0],[0,0,0,0,0]] for i in range(len(boards))]\n",
    "\n",
    "\n",
    "def trans(board):\n",
    "    return [[board[y][x] for y in range(len(board[x]))] for x in range(len(board))]\n",
    "\n",
    "\n",
    "def board_wins(marks):\n",
    "    rows = [sum(r) for r in marks]\n",
    "    cols = [sum(c) for c in trans(marks)]\n",
    "    return 5 in rows or 5 in cols\n",
    "\n",
    "\n",
    "def board_score(board,marks):\n",
    "    if not board_wins(marks):\n",
    "        return 0\n",
    "    else:\n",
    "        score = 0\n",
    "        for x in range(5):\n",
    "            for y in range(5):\n",
    "                if marks[x][y] == 0:\n",
    "                    score += board[x][y]\n",
    "        return score\n",
    "    \n",
    "\n",
    "def mark(board,marks,number):\n",
    "    for x in range(5):\n",
    "        for y in range(5):\n",
    "            if board[x][y] == number:\n",
    "                marks[x][y] = 1\n",
    "    return marks\n",
    "\n",
    "\n",
    "over = False\n",
    "i = 0\n",
    "while not over:\n",
    "    for j in range(len(boards)):\n",
    "        marks[j] = mark(boards[j],marks[j],numbers[i])\n",
    "    for j in range(len(boards)):\n",
    "        score = board_score(boards[j],marks[j])\n",
    "        if score != 0:\n",
    "            over = True\n",
    "            print(score*numbers[i])\n",
    "    if not over:\n",
    "        i += 1"
   ]
  },
  {
   "cell_type": "markdown",
   "id": "07f0d75c",
   "metadata": {},
   "source": [
    "### Part 2"
   ]
  },
  {
   "cell_type": "code",
   "execution_count": 91,
   "id": "d0fb1a82",
   "metadata": {},
   "outputs": [
    {
     "name": "stdout",
     "output_type": "stream",
     "text": [
      "24742\n"
     ]
    }
   ],
   "source": [
    "won = set()\n",
    "over = False\n",
    "i = 0\n",
    "while not over:\n",
    "    over = True\n",
    "    for j in range(len(boards)):\n",
    "        marks[j] = mark(boards[j],marks[j],numbers[i])\n",
    "    for j in range(len(boards)):\n",
    "        if j not in won:\n",
    "            score = board_score(boards[j],marks[j])\n",
    "            if score == 0:\n",
    "                over = False\n",
    "            else:\n",
    "                won.add(j)\n",
    "                if len(won) == 100:\n",
    "                    print(score*numbers[i])\n",
    "    if not over:\n",
    "        i += 1"
   ]
  },
  {
   "cell_type": "markdown",
   "id": "79467ca4",
   "metadata": {},
   "source": [
    "## Day 5"
   ]
  },
  {
   "cell_type": "markdown",
   "id": "dc651617",
   "metadata": {},
   "source": [
    "### Part 1"
   ]
  },
  {
   "cell_type": "code",
   "execution_count": 66,
   "id": "5297528b",
   "metadata": {},
   "outputs": [
    {
     "data": {
      "text/plain": [
       "8350"
      ]
     },
     "execution_count": 66,
     "metadata": {},
     "output_type": "execute_result"
    }
   ],
   "source": [
    "with open('inputs/day5.txt') as f:\n",
    "    s = f.read()[:-1]\n",
    "    \n",
    "vectors = [tuple([tuple([int(i) for i in coord.split(',')]) for coord in line.split(' -> ')]) for line in s.split('\\n')]\n",
    "h_or_v = [v for v in vectors if v[0][0] == v[1][0] or v[0][1] == v[1][1]]\n",
    "count = {}\n",
    "\n",
    "for ((x0,y0),(x1,y1)) in h_or_v:\n",
    "    for x in range(min(x0,x1), max(x0,x1)+1):\n",
    "        for y in range(min(y0,y1), max(y0,y1)+1):\n",
    "            count[(x,y)] = count.get((x,y),0)+1\n",
    "\n",
    "len({k for k in count if count[k] > 1})"
   ]
  },
  {
   "cell_type": "markdown",
   "id": "e5f7ac9e",
   "metadata": {},
   "source": [
    "### Part 2"
   ]
  },
  {
   "cell_type": "code",
   "execution_count": 67,
   "id": "31587dd2",
   "metadata": {},
   "outputs": [
    {
     "data": {
      "text/plain": [
       "19374"
      ]
     },
     "execution_count": 67,
     "metadata": {},
     "output_type": "execute_result"
    }
   ],
   "source": [
    "count = {}\n",
    "\n",
    "for ((x0,y0),(x1,y1)) in h_or_v:\n",
    "    for x in range(min(x0,x1), max(x0,x1)+1):\n",
    "        for y in range(min(y0,y1), max(y0,y1)+1):\n",
    "            count[(x,y)] = count.get((x,y),0)+1\n",
    "\n",
    "d = [v for v in vectors if v[0][0] != v[1][0] and v[0][1] != v[1][1]]\n",
    "\n",
    "for ((x0,y0),(x1,y1)) in d:\n",
    "    x_dir = (x1-x0) / abs(x1-x0)\n",
    "    y_dir = (y1-y0) / abs(y1-y0)\n",
    "    for i in range(abs(x1-x0)+1):\n",
    "        x = x0 + i * x_dir\n",
    "        y = y0 + i * y_dir\n",
    "        count[(x,y)] = count.get((x,y),0)+1\n",
    "\n",
    "len({k for k in count if count[k] > 1})"
   ]
  },
  {
   "cell_type": "markdown",
   "id": "9d44b555",
   "metadata": {},
   "source": [
    "## Day 6"
   ]
  },
  {
   "cell_type": "markdown",
   "id": "209fd591",
   "metadata": {},
   "source": [
    "### Part 1"
   ]
  },
  {
   "cell_type": "code",
   "execution_count": 41,
   "id": "3f2ca9a0",
   "metadata": {},
   "outputs": [
    {
     "data": {
      "text/plain": [
       "345387"
      ]
     },
     "execution_count": 41,
     "metadata": {},
     "output_type": "execute_result"
    }
   ],
   "source": [
    "with open('inputs/day6.txt') as f:\n",
    "    s = f.read()[:-1]\n",
    "    \n",
    "fish = [int(line) for line in s.split(',')]\n",
    "\n",
    "fish_d = {}\n",
    "for f in fish:\n",
    "    fish_d[f] = fish_d.get(f,0) + 1\n",
    "\n",
    "def pass_days(fish_d, days):\n",
    "    for i in range(days):\n",
    "        fish_d_new = {}\n",
    "        for f in fish_d:\n",
    "            if f == 0:\n",
    "                fish_d_new[6] = fish_d_new.get(6,0) + fish_d[f]\n",
    "                fish_d_new[8] = fish_d[f]\n",
    "            else:\n",
    "                fish_d_new[f-1] =fish_d_new.get(f-1,0) + fish_d[f]\n",
    "        fish_d = fish_d_new\n",
    "    return fish_d\n",
    "            \n",
    "sum(pass_days(fish_d, 80).values())"
   ]
  },
  {
   "cell_type": "markdown",
   "id": "7c1aae5f",
   "metadata": {},
   "source": [
    "### Part 2"
   ]
  },
  {
   "cell_type": "code",
   "execution_count": 43,
   "id": "b5d071cb",
   "metadata": {},
   "outputs": [
    {
     "data": {
      "text/plain": [
       "1574445493136"
      ]
     },
     "execution_count": 43,
     "metadata": {},
     "output_type": "execute_result"
    }
   ],
   "source": [
    "sum(pass_days(fish_d, 256).values())"
   ]
  },
  {
   "cell_type": "markdown",
   "id": "f6e48d5a",
   "metadata": {},
   "source": [
    "## Day 7"
   ]
  },
  {
   "cell_type": "markdown",
   "id": "5aaeb907",
   "metadata": {},
   "source": [
    "### Part 1"
   ]
  },
  {
   "cell_type": "code",
   "execution_count": 14,
   "id": "9c091b71",
   "metadata": {},
   "outputs": [
    {
     "data": {
      "text/plain": [
       "357353"
      ]
     },
     "execution_count": 14,
     "metadata": {},
     "output_type": "execute_result"
    }
   ],
   "source": [
    "with open('inputs/day7.txt') as f:\n",
    "    s = f.read()[:-1]\n",
    "    \n",
    "crabs = [int(line) for line in s.split(',')]\n",
    "\n",
    "crabs.sort()\n",
    "median = crabs[len(crabs)//2]\n",
    "sum([abs(x-med) for x in crabs])"
   ]
  },
  {
   "cell_type": "markdown",
   "id": "d49e64a1",
   "metadata": {},
   "source": [
    "### Part 2"
   ]
  },
  {
   "cell_type": "code",
   "execution_count": 30,
   "id": "7e0eb54e",
   "metadata": {},
   "outputs": [
    {
     "data": {
      "text/plain": [
       "104822130"
      ]
     },
     "execution_count": 30,
     "metadata": {},
     "output_type": "execute_result"
    }
   ],
   "source": [
    "def fuel(x,c):\n",
    "    return abs(x-c)*(abs(x-c)+1)//2\n",
    "\n",
    "avg_down = int(sum(crabs)/len(crabs))\n",
    "avg_up = round(sum(crabs)/len(crabs))\n",
    "\n",
    "min(sum([fuel(x,avg_down) for x in crabs]),sum([fuel(x,avg_up) for x in crabs]))"
   ]
  },
  {
   "cell_type": "markdown",
   "id": "1abba75e",
   "metadata": {},
   "source": [
    "## Day 8"
   ]
  },
  {
   "cell_type": "markdown",
   "id": "d7b0f52b",
   "metadata": {},
   "source": [
    "### Part 1"
   ]
  },
  {
   "cell_type": "code",
   "execution_count": 8,
   "id": "d4a74065",
   "metadata": {},
   "outputs": [
    {
     "data": {
      "text/plain": [
       "488"
      ]
     },
     "execution_count": 8,
     "metadata": {},
     "output_type": "execute_result"
    }
   ],
   "source": [
    "with open('inputs/day8.txt') as f:\n",
    "    s = f.read()[:-1]\n",
    "    \n",
    "digits = [[x.split(' ') for x in line.split(' | ')] for line in s.split('\\n')]\n",
    "outputs = [x[1] for x in digits]\n",
    "len([x for sublist in outputs for x in sublist if len(x) in {2,3,4,7}])"
   ]
  },
  {
   "cell_type": "markdown",
   "id": "bb113ae2",
   "metadata": {},
   "source": [
    "### Part 2"
   ]
  },
  {
   "cell_type": "code",
   "execution_count": 77,
   "id": "e68b62fe",
   "metadata": {},
   "outputs": [
    {
     "data": {
      "text/plain": [
       "1040429"
      ]
     },
     "execution_count": 77,
     "metadata": {},
     "output_type": "execute_result"
    }
   ],
   "source": [
    "base = {'abcefg': 0,\n",
    "        'cf': 1,\n",
    "        'acdeg': 2,\n",
    "        'acdfg': 3,\n",
    "        'bcdf': 4,\n",
    "        'abdfg': 5,\n",
    "        'abdefg': 6,\n",
    "        'acf': 7,\n",
    "        'abcdefg': 8,\n",
    "        'abcdfg': 9}\n",
    "base_r = {base[k]:k for k in base}\n",
    "\n",
    "def find_code(in_digits):\n",
    "    options = {x:['a','b','c','d','e','f','g'] for x in 'abcdefg'}\n",
    "    count = {}\n",
    "    digits = {}\n",
    "    for d in in_digits:\n",
    "        if len(d) == 2:\n",
    "            for b in d:\n",
    "                options[b] = [x for x in options[b] if x in base_r[1]]\n",
    "            digits[1] = d\n",
    "        if len(d) == 3:\n",
    "            for b in d:\n",
    "                options[b] = [x for x in options[b] if x in base_r[7]]\n",
    "            digits[7] = d\n",
    "        if len(d) == 4:\n",
    "            for b in d:\n",
    "                options[b] = [x for x in options[b] if x in base_r[4]]\n",
    "            digits[4] = d\n",
    "        if len(d) == 7:\n",
    "            for b in d:\n",
    "                options[b] = [x for x in options[b] if x in base_r[8]]\n",
    "            digits[8] = d\n",
    "        for b in d:\n",
    "            count[b] = count.get(b,0) + 1\n",
    "    digit_a = [b for b in digits[7] if b not in digits[1]][0]\n",
    "    options = {k:[x for x in options[k] if x != 'a'] for k in options}\n",
    "    options[digit_a] = ['a']\n",
    "    digit_f = [b for b in count if count[b] == 9][0]\n",
    "    options = {k:[x for x in options[k] if x != 'f'] for k in options}\n",
    "    options[digit_f] = ['f']\n",
    "    for o in options:\n",
    "        if len(options[o]) > 1:\n",
    "            options[o] = [x for x in options[o] if x != 'c']\n",
    "        elif options[o] == ['c']:\n",
    "            digit_c = o\n",
    "    for d in in_digits:\n",
    "        if len(d) == 6 and digit_c not in d:\n",
    "            digits[6] = d\n",
    "        if len(d) == 5 and digit_c not in d:\n",
    "            digits[5] = d\n",
    "    digit_e = [b for b in digits[6] if b not in digits[5]][0]\n",
    "    options = {k:[x for x in options[k] if x != 'e'] for k in options}\n",
    "    options[digit_e] = ['e']\n",
    "    for b in count:\n",
    "        if count[b] == 7 and b not in digits[7] and b in digits[4]:\n",
    "            digit_d = b\n",
    "    options = {k:[x for x in options[k] if x != 'd'] for k in options}\n",
    "    options[digit_d] = ['d']\n",
    "    for o in options:\n",
    "        if len(options[o]) > 1:\n",
    "            options[o] = [x for x in options[o] if x != 'b']\n",
    "        elif options[o] == ['b']:\n",
    "            digit_b = o\n",
    "    return {k:options[k][0] for k in options}\n",
    "\n",
    "def decode(out_digits,code_table):\n",
    "    code = 0\n",
    "    for digit in out_digits:\n",
    "        code *= 10\n",
    "        d = [code_table[x] for x in list(digit)]\n",
    "        d.sort()\n",
    "        code += base[''.join(d)]\n",
    "    return code\n",
    "\n",
    "def solve(in_digits,out_digits):\n",
    "    code_table = find_code(in_digits)\n",
    "    return decode(out_digits, code_table)\n",
    "\n",
    "sum([solve(x[0],x[1]) for x in digits])"
   ]
  }
 ],
 "metadata": {
  "kernelspec": {
   "display_name": "Python 3 (ipykernel)",
   "language": "python",
   "name": "python3"
  },
  "language_info": {
   "codemirror_mode": {
    "name": "ipython",
    "version": 3
   },
   "file_extension": ".py",
   "mimetype": "text/x-python",
   "name": "python",
   "nbconvert_exporter": "python",
   "pygments_lexer": "ipython3",
   "version": "3.9.7"
  }
 },
 "nbformat": 4,
 "nbformat_minor": 5
}
