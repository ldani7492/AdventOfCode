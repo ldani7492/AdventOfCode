{
 "cells": [
  {
   "cell_type": "markdown",
   "id": "39509882",
   "metadata": {},
   "source": [
    "# Advent of Code 2021"
   ]
  },
  {
   "cell_type": "markdown",
   "id": "acc844b3",
   "metadata": {},
   "source": [
    "## Day 1"
   ]
  },
  {
   "cell_type": "markdown",
   "id": "2a724ffb",
   "metadata": {},
   "source": [
    "### Part 1"
   ]
  },
  {
   "cell_type": "code",
   "execution_count": 3,
   "id": "f09f9451",
   "metadata": {},
   "outputs": [
    {
     "data": {
      "text/plain": [
       "1393"
      ]
     },
     "execution_count": 3,
     "metadata": {},
     "output_type": "execute_result"
    }
   ],
   "source": [
    "with open('inputs/day1.txt') as f:\n",
    "    s = f.read()[:-1]\n",
    "    \n",
    "measurements = [int(n) for n in s.split('\\n')]\n",
    "\n",
    "m0 = measurements[0]\n",
    "inc = 0\n",
    "for m in measurements[1:]:\n",
    "    if m > m0:\n",
    "        inc += 1\n",
    "    m0 = m\n",
    "    \n",
    "inc"
   ]
  },
  {
   "cell_type": "markdown",
   "id": "d03e0244",
   "metadata": {},
   "source": [
    "### Part 2"
   ]
  },
  {
   "cell_type": "code",
   "execution_count": 5,
   "id": "9eefea68",
   "metadata": {},
   "outputs": [
    {
     "data": {
      "text/plain": [
       "1359"
      ]
     },
     "execution_count": 5,
     "metadata": {},
     "output_type": "execute_result"
    }
   ],
   "source": [
    "windows = [measurements[i]+measurements[i+1]+measurements[i+2] for i in range(len(measurements)-2)]\n",
    "\n",
    "w0 = windows[0]\n",
    "inc = 0\n",
    "for w in windows[1:]:\n",
    "    if w > w0:\n",
    "        inc += 1\n",
    "    w0 = w\n",
    "    \n",
    "inc"
   ]
  },
  {
   "cell_type": "markdown",
   "id": "ad44d35f",
   "metadata": {},
   "source": [
    "## Day 2"
   ]
  },
  {
   "cell_type": "markdown",
   "id": "58057070",
   "metadata": {},
   "source": [
    "### Part 1"
   ]
  },
  {
   "cell_type": "code",
   "execution_count": 5,
   "id": "fc004290",
   "metadata": {},
   "outputs": [
    {
     "data": {
      "text/plain": [
       "1989014"
      ]
     },
     "execution_count": 5,
     "metadata": {},
     "output_type": "execute_result"
    }
   ],
   "source": [
    "with open('inputs/day2.txt') as f:\n",
    "    s = f.read()[:-1]\n",
    "    \n",
    "directions = [n.split(' ') for n in s.split('\\n')]\n",
    "\n",
    "x,y = 0,0\n",
    "\n",
    "for d in directions:\n",
    "    if d[0] == 'forward':\n",
    "        x += int(d[1])\n",
    "    if d[0] == 'down':\n",
    "        y += int(d[1])\n",
    "    if d[0] == 'up':\n",
    "        y -= int(d[1])\n",
    "            \n",
    "x*y"
   ]
  },
  {
   "cell_type": "markdown",
   "id": "75c2078d",
   "metadata": {},
   "source": [
    "### Part 2"
   ]
  },
  {
   "cell_type": "code",
   "execution_count": 8,
   "id": "383f1dac",
   "metadata": {},
   "outputs": [
    {
     "data": {
      "text/plain": [
       "2006917119"
      ]
     },
     "execution_count": 8,
     "metadata": {},
     "output_type": "execute_result"
    }
   ],
   "source": [
    "x,y,aim = 0,0,0\n",
    "\n",
    "for d in directions:\n",
    "    if d[0] == 'down':\n",
    "        aim += int(d[1])\n",
    "    if d[0] == 'up':\n",
    "        aim -= int(d[1])\n",
    "    if d[0] == 'forward':\n",
    "        x += int(d[1])\n",
    "        y += aim*int(d[1])\n",
    "            \n",
    "x*y"
   ]
  },
  {
   "cell_type": "markdown",
   "id": "62b47da2",
   "metadata": {},
   "source": [
    "## Day 3"
   ]
  },
  {
   "cell_type": "markdown",
   "id": "1d670861",
   "metadata": {},
   "source": [
    "### Part 1"
   ]
  },
  {
   "cell_type": "code",
   "execution_count": 27,
   "id": "9ec791d1",
   "metadata": {},
   "outputs": [
    {
     "data": {
      "text/plain": [
       "2743844"
      ]
     },
     "execution_count": 27,
     "metadata": {},
     "output_type": "execute_result"
    }
   ],
   "source": [
    "with open('inputs/day3.txt') as f:\n",
    "    s = f.read()[:-1]\n",
    "    \n",
    "report = [n for n in s.split('\\n')]\n",
    "\n",
    "gamma,epsilon = 0,0\n",
    "\n",
    "for i in range(len(report[0])):\n",
    "    gamma *= 2\n",
    "    epsilon *= 2\n",
    "    zero,one = 0,0\n",
    "    for n in report:\n",
    "        if n[i] == '0':\n",
    "            zero += 1\n",
    "        else:\n",
    "            one += 1\n",
    "            \n",
    "    if zero > one:\n",
    "        epsilon += 1\n",
    "    else:\n",
    "        gamma += 1\n",
    "        \n",
    "gamma*epsilon"
   ]
  },
  {
   "cell_type": "markdown",
   "id": "86f636d8",
   "metadata": {},
   "source": [
    "### Part 2"
   ]
  },
  {
   "cell_type": "code",
   "execution_count": 29,
   "id": "109e5440",
   "metadata": {},
   "outputs": [
    {
     "data": {
      "text/plain": [
       "6677951"
      ]
     },
     "execution_count": 29,
     "metadata": {},
     "output_type": "execute_result"
    }
   ],
   "source": [
    "def count_bits(report,i):\n",
    "    zero,one = 0,0\n",
    "    for n in report:\n",
    "        if n[i] == '0':\n",
    "            zero += 1\n",
    "        else:\n",
    "            one += 1\n",
    "    return zero,one\n",
    "\n",
    "def o2(report,i):\n",
    "    if len(report) == 1:\n",
    "        return int(report[0],2)\n",
    "    zero,one = count_bits(report,i)\n",
    "    if zero > one:\n",
    "        return o2([n for n in report if n[i] == '0'], i+1)\n",
    "    else:\n",
    "        return o2([n for n in report if n[i] == '1'], i+1)\n",
    "    \n",
    "def co2(report,i):\n",
    "    if len(report) == 1:\n",
    "        return int(report[0],2)\n",
    "    zero,one = count_bits(report,i)\n",
    "    if zero > one:\n",
    "        return co2([n for n in report if n[i] == '1'], i+1)\n",
    "    else:\n",
    "        return co2([n for n in report if n[i] == '0'], i+1)\n",
    "    \n",
    "o2(report, 0)*co2(report, 0)"
   ]
  },
  {
   "cell_type": "markdown",
   "id": "ee1e614e",
   "metadata": {},
   "source": [
    "## Day 4"
   ]
  },
  {
   "cell_type": "markdown",
   "id": "1d45b1e7",
   "metadata": {},
   "source": [
    "### Part 1"
   ]
  },
  {
   "cell_type": "code",
   "execution_count": 90,
   "id": "b1141c4e",
   "metadata": {},
   "outputs": [
    {
     "name": "stdout",
     "output_type": "stream",
     "text": [
      "10374\n"
     ]
    }
   ],
   "source": [
    "with open('inputs/day4.txt') as f:\n",
    "    s = f.read()[:-1]\n",
    "    \n",
    "bingo = [n for n in s.split('\\n\\n')]\n",
    "numbers = [int(n) for n in bingo[0].split(',')]\n",
    "boards = [[[int(n) for n in r.split(' ') if n != ''] for r in b.split('\\n')] for b in bingo[1:]]\n",
    "marks = [[[0,0,0,0,0],[0,0,0,0,0],[0,0,0,0,0],[0,0,0,0,0],[0,0,0,0,0]] for i in range(len(boards))]\n",
    "\n",
    "\n",
    "def trans(board):\n",
    "    return [[board[y][x] for y in range(len(board[x]))] for x in range(len(board))]\n",
    "\n",
    "\n",
    "def board_wins(marks):\n",
    "    rows = [sum(r) for r in marks]\n",
    "    cols = [sum(c) for c in trans(marks)]\n",
    "    return 5 in rows or 5 in cols\n",
    "\n",
    "\n",
    "def board_score(board,marks):\n",
    "    if not board_wins(marks):\n",
    "        return 0\n",
    "    else:\n",
    "        score = 0\n",
    "        for x in range(5):\n",
    "            for y in range(5):\n",
    "                if marks[x][y] == 0:\n",
    "                    score += board[x][y]\n",
    "        return score\n",
    "    \n",
    "\n",
    "def mark(board,marks,number):\n",
    "    for x in range(5):\n",
    "        for y in range(5):\n",
    "            if board[x][y] == number:\n",
    "                marks[x][y] = 1\n",
    "    return marks\n",
    "\n",
    "\n",
    "over = False\n",
    "i = 0\n",
    "while not over:\n",
    "    for j in range(len(boards)):\n",
    "        marks[j] = mark(boards[j],marks[j],numbers[i])\n",
    "    for j in range(len(boards)):\n",
    "        score = board_score(boards[j],marks[j])\n",
    "        if score != 0:\n",
    "            over = True\n",
    "            print(score*numbers[i])\n",
    "    if not over:\n",
    "        i += 1"
   ]
  },
  {
   "cell_type": "markdown",
   "id": "07f0d75c",
   "metadata": {},
   "source": [
    "### Part 2"
   ]
  },
  {
   "cell_type": "code",
   "execution_count": 91,
   "id": "d0fb1a82",
   "metadata": {},
   "outputs": [
    {
     "name": "stdout",
     "output_type": "stream",
     "text": [
      "24742\n"
     ]
    }
   ],
   "source": [
    "won = set()\n",
    "over = False\n",
    "i = 0\n",
    "while not over:\n",
    "    over = True\n",
    "    for j in range(len(boards)):\n",
    "        marks[j] = mark(boards[j],marks[j],numbers[i])\n",
    "    for j in range(len(boards)):\n",
    "        if j not in won:\n",
    "            score = board_score(boards[j],marks[j])\n",
    "            if score == 0:\n",
    "                over = False\n",
    "            else:\n",
    "                won.add(j)\n",
    "                if len(won) == 100:\n",
    "                    print(score*numbers[i])\n",
    "    if not over:\n",
    "        i += 1"
   ]
  },
  {
   "cell_type": "markdown",
   "id": "79467ca4",
   "metadata": {},
   "source": [
    "## Day 5"
   ]
  },
  {
   "cell_type": "markdown",
   "id": "dc651617",
   "metadata": {},
   "source": [
    "### Part 1"
   ]
  },
  {
   "cell_type": "code",
   "execution_count": 66,
   "id": "5297528b",
   "metadata": {},
   "outputs": [
    {
     "data": {
      "text/plain": [
       "8350"
      ]
     },
     "execution_count": 66,
     "metadata": {},
     "output_type": "execute_result"
    }
   ],
   "source": [
    "with open('inputs/day5.txt') as f:\n",
    "    s = f.read()[:-1]\n",
    "    \n",
    "vectors = [tuple([tuple([int(i) for i in coord.split(',')]) for coord in line.split(' -> ')]) for line in s.split('\\n')]\n",
    "h_or_v = [v for v in vectors if v[0][0] == v[1][0] or v[0][1] == v[1][1]]\n",
    "count = {}\n",
    "\n",
    "for ((x0,y0),(x1,y1)) in h_or_v:\n",
    "    for x in range(min(x0,x1), max(x0,x1)+1):\n",
    "        for y in range(min(y0,y1), max(y0,y1)+1):\n",
    "            count[(x,y)] = count.get((x,y),0)+1\n",
    "\n",
    "len({k for k in count if count[k] > 1})"
   ]
  },
  {
   "cell_type": "markdown",
   "id": "e5f7ac9e",
   "metadata": {},
   "source": [
    "### Part 2"
   ]
  },
  {
   "cell_type": "code",
   "execution_count": 67,
   "id": "31587dd2",
   "metadata": {},
   "outputs": [
    {
     "data": {
      "text/plain": [
       "19374"
      ]
     },
     "execution_count": 67,
     "metadata": {},
     "output_type": "execute_result"
    }
   ],
   "source": [
    "count = {}\n",
    "\n",
    "for ((x0,y0),(x1,y1)) in h_or_v:\n",
    "    for x in range(min(x0,x1), max(x0,x1)+1):\n",
    "        for y in range(min(y0,y1), max(y0,y1)+1):\n",
    "            count[(x,y)] = count.get((x,y),0)+1\n",
    "\n",
    "d = [v for v in vectors if v[0][0] != v[1][0] and v[0][1] != v[1][1]]\n",
    "\n",
    "for ((x0,y0),(x1,y1)) in d:\n",
    "    x_dir = (x1-x0) / abs(x1-x0)\n",
    "    y_dir = (y1-y0) / abs(y1-y0)\n",
    "    for i in range(abs(x1-x0)+1):\n",
    "        x = x0 + i * x_dir\n",
    "        y = y0 + i * y_dir\n",
    "        count[(x,y)] = count.get((x,y),0)+1\n",
    "\n",
    "len({k for k in count if count[k] > 1})"
   ]
  },
  {
   "cell_type": "markdown",
   "id": "9d44b555",
   "metadata": {},
   "source": [
    "## Day 6"
   ]
  },
  {
   "cell_type": "markdown",
   "id": "209fd591",
   "metadata": {},
   "source": [
    "### Part 1"
   ]
  },
  {
   "cell_type": "code",
   "execution_count": 41,
   "id": "3f2ca9a0",
   "metadata": {},
   "outputs": [
    {
     "data": {
      "text/plain": [
       "345387"
      ]
     },
     "execution_count": 41,
     "metadata": {},
     "output_type": "execute_result"
    }
   ],
   "source": [
    "with open('inputs/day6.txt') as f:\n",
    "    s = f.read()[:-1]\n",
    "    \n",
    "fish = [int(line) for line in s.split(',')]\n",
    "\n",
    "fish_d = {}\n",
    "for f in fish:\n",
    "    fish_d[f] = fish_d.get(f,0) + 1\n",
    "\n",
    "def pass_days(fish_d, days):\n",
    "    for i in range(days):\n",
    "        fish_d_new = {}\n",
    "        for f in fish_d:\n",
    "            if f == 0:\n",
    "                fish_d_new[6] = fish_d_new.get(6,0) + fish_d[f]\n",
    "                fish_d_new[8] = fish_d[f]\n",
    "            else:\n",
    "                fish_d_new[f-1] =fish_d_new.get(f-1,0) + fish_d[f]\n",
    "        fish_d = fish_d_new\n",
    "    return fish_d\n",
    "            \n",
    "sum(pass_days(fish_d, 80).values())"
   ]
  },
  {
   "cell_type": "markdown",
   "id": "7c1aae5f",
   "metadata": {},
   "source": [
    "### Part 2"
   ]
  },
  {
   "cell_type": "code",
   "execution_count": 43,
   "id": "b5d071cb",
   "metadata": {},
   "outputs": [
    {
     "data": {
      "text/plain": [
       "1574445493136"
      ]
     },
     "execution_count": 43,
     "metadata": {},
     "output_type": "execute_result"
    }
   ],
   "source": [
    "sum(pass_days(fish_d, 256).values())"
   ]
  },
  {
   "cell_type": "markdown",
   "id": "f6e48d5a",
   "metadata": {},
   "source": [
    "## Day 7"
   ]
  },
  {
   "cell_type": "markdown",
   "id": "5aaeb907",
   "metadata": {},
   "source": [
    "### Part 1"
   ]
  },
  {
   "cell_type": "code",
   "execution_count": 14,
   "id": "9c091b71",
   "metadata": {},
   "outputs": [
    {
     "data": {
      "text/plain": [
       "357353"
      ]
     },
     "execution_count": 14,
     "metadata": {},
     "output_type": "execute_result"
    }
   ],
   "source": [
    "with open('inputs/day7.txt') as f:\n",
    "    s = f.read()[:-1]\n",
    "    \n",
    "crabs = [int(line) for line in s.split(',')]\n",
    "\n",
    "crabs.sort()\n",
    "median = crabs[len(crabs)//2]\n",
    "sum([abs(x-med) for x in crabs])"
   ]
  },
  {
   "cell_type": "markdown",
   "id": "d49e64a1",
   "metadata": {},
   "source": [
    "### Part 2"
   ]
  },
  {
   "cell_type": "code",
   "execution_count": 30,
   "id": "7e0eb54e",
   "metadata": {},
   "outputs": [
    {
     "data": {
      "text/plain": [
       "104822130"
      ]
     },
     "execution_count": 30,
     "metadata": {},
     "output_type": "execute_result"
    }
   ],
   "source": [
    "def fuel(x,c):\n",
    "    return abs(x-c)*(abs(x-c)+1)//2\n",
    "\n",
    "avg_down = int(sum(crabs)/len(crabs))\n",
    "avg_up = round(sum(crabs)/len(crabs))\n",
    "\n",
    "min(sum([fuel(x,avg_down) for x in crabs]),sum([fuel(x,avg_up) for x in crabs]))"
   ]
  },
  {
   "cell_type": "markdown",
   "id": "1abba75e",
   "metadata": {},
   "source": [
    "## Day 8"
   ]
  },
  {
   "cell_type": "markdown",
   "id": "d7b0f52b",
   "metadata": {},
   "source": [
    "### Part 1"
   ]
  },
  {
   "cell_type": "code",
   "execution_count": 8,
   "id": "d4a74065",
   "metadata": {},
   "outputs": [
    {
     "data": {
      "text/plain": [
       "488"
      ]
     },
     "execution_count": 8,
     "metadata": {},
     "output_type": "execute_result"
    }
   ],
   "source": [
    "with open('inputs/day8.txt') as f:\n",
    "    s = f.read()[:-1]\n",
    "    \n",
    "digits = [[x.split(' ') for x in line.split(' | ')] for line in s.split('\\n')]\n",
    "outputs = [x[1] for x in digits]\n",
    "len([x for sublist in outputs for x in sublist if len(x) in {2,3,4,7}])"
   ]
  },
  {
   "cell_type": "markdown",
   "id": "bb113ae2",
   "metadata": {},
   "source": [
    "### Part 2"
   ]
  },
  {
   "cell_type": "code",
   "execution_count": 77,
   "id": "e68b62fe",
   "metadata": {},
   "outputs": [
    {
     "data": {
      "text/plain": [
       "1040429"
      ]
     },
     "execution_count": 77,
     "metadata": {},
     "output_type": "execute_result"
    }
   ],
   "source": [
    "base = {'abcefg': 0,\n",
    "        'cf': 1,\n",
    "        'acdeg': 2,\n",
    "        'acdfg': 3,\n",
    "        'bcdf': 4,\n",
    "        'abdfg': 5,\n",
    "        'abdefg': 6,\n",
    "        'acf': 7,\n",
    "        'abcdefg': 8,\n",
    "        'abcdfg': 9}\n",
    "base_r = {base[k]:k for k in base}\n",
    "\n",
    "def find_code(in_digits):\n",
    "    options = {x:['a','b','c','d','e','f','g'] for x in 'abcdefg'}\n",
    "    count = {}\n",
    "    digits = {}\n",
    "    for d in in_digits:\n",
    "        if len(d) == 2:\n",
    "            for b in d:\n",
    "                options[b] = [x for x in options[b] if x in base_r[1]]\n",
    "            digits[1] = d\n",
    "        if len(d) == 3:\n",
    "            for b in d:\n",
    "                options[b] = [x for x in options[b] if x in base_r[7]]\n",
    "            digits[7] = d\n",
    "        if len(d) == 4:\n",
    "            for b in d:\n",
    "                options[b] = [x for x in options[b] if x in base_r[4]]\n",
    "            digits[4] = d\n",
    "        if len(d) == 7:\n",
    "            for b in d:\n",
    "                options[b] = [x for x in options[b] if x in base_r[8]]\n",
    "            digits[8] = d\n",
    "        for b in d:\n",
    "            count[b] = count.get(b,0) + 1\n",
    "    digit_a = [b for b in digits[7] if b not in digits[1]][0]\n",
    "    options = {k:[x for x in options[k] if x != 'a'] for k in options}\n",
    "    options[digit_a] = ['a']\n",
    "    digit_f = [b for b in count if count[b] == 9][0]\n",
    "    options = {k:[x for x in options[k] if x != 'f'] for k in options}\n",
    "    options[digit_f] = ['f']\n",
    "    for o in options:\n",
    "        if len(options[o]) > 1:\n",
    "            options[o] = [x for x in options[o] if x != 'c']\n",
    "        elif options[o] == ['c']:\n",
    "            digit_c = o\n",
    "    for d in in_digits:\n",
    "        if len(d) == 6 and digit_c not in d:\n",
    "            digits[6] = d\n",
    "        if len(d) == 5 and digit_c not in d:\n",
    "            digits[5] = d\n",
    "    digit_e = [b for b in digits[6] if b not in digits[5]][0]\n",
    "    options = {k:[x for x in options[k] if x != 'e'] for k in options}\n",
    "    options[digit_e] = ['e']\n",
    "    for b in count:\n",
    "        if count[b] == 7 and b not in digits[7] and b in digits[4]:\n",
    "            digit_d = b\n",
    "    options = {k:[x for x in options[k] if x != 'd'] for k in options}\n",
    "    options[digit_d] = ['d']\n",
    "    for o in options:\n",
    "        if len(options[o]) > 1:\n",
    "            options[o] = [x for x in options[o] if x != 'b']\n",
    "        elif options[o] == ['b']:\n",
    "            digit_b = o\n",
    "    return {k:options[k][0] for k in options}\n",
    "\n",
    "def decode(out_digits,code_table):\n",
    "    code = 0\n",
    "    for digit in out_digits:\n",
    "        code *= 10\n",
    "        d = [code_table[x] for x in list(digit)]\n",
    "        d.sort()\n",
    "        code += base[''.join(d)]\n",
    "    return code\n",
    "\n",
    "def solve(in_digits,out_digits):\n",
    "    code_table = find_code(in_digits)\n",
    "    return decode(out_digits, code_table)\n",
    "\n",
    "sum([solve(x[0],x[1]) for x in digits])"
   ]
  },
  {
   "cell_type": "markdown",
   "id": "81e83b22",
   "metadata": {},
   "source": [
    "## Day 9"
   ]
  },
  {
   "cell_type": "markdown",
   "id": "152f3a42",
   "metadata": {},
   "source": [
    "### Part 1"
   ]
  },
  {
   "cell_type": "code",
   "execution_count": 29,
   "id": "1812de5f",
   "metadata": {},
   "outputs": [
    {
     "data": {
      "text/plain": [
       "516"
      ]
     },
     "execution_count": 29,
     "metadata": {},
     "output_type": "execute_result"
    }
   ],
   "source": [
    "with open('inputs/day9.txt') as f:\n",
    "    s = f.read()[:-1]\n",
    "    \n",
    "split = s.split('\\n')\n",
    "heatmap = {(x,y): int(split[y][x]) for x in range(len(split)) for y in range(len(split))}\n",
    "\n",
    "low_sum = 0\n",
    "for (x,y) in heatmap:\n",
    "    if heatmap[(x,y)] < heatmap.get((x,y-1),9) and \\\n",
    "    heatmap[(x,y)] < heatmap.get((x,y+1),9) and \\\n",
    "    heatmap[(x,y)] < heatmap.get((x-1,y),9) and \\\n",
    "    heatmap[(x,y)] < heatmap.get((x+1,y),9):\n",
    "        low_sum += 1 + heatmap[(x,y)]\n",
    "        \n",
    "low_sum"
   ]
  },
  {
   "cell_type": "markdown",
   "id": "97ec503b",
   "metadata": {},
   "source": [
    "### Part 2"
   ]
  },
  {
   "cell_type": "code",
   "execution_count": 42,
   "id": "117002f9",
   "metadata": {},
   "outputs": [
    {
     "data": {
      "text/plain": [
       "1023660"
      ]
     },
     "execution_count": 42,
     "metadata": {},
     "output_type": "execute_result"
    }
   ],
   "source": [
    "def bfs(x,y,heatmap,basin,visited):\n",
    "    if (x,y) in visited or heatmap.get((x,y),9) == 9:\n",
    "        return basin,visited\n",
    "    basin.add((x,y))\n",
    "    visited.add((x,y))\n",
    "    basin,visited = bfs(x,y-1,heatmap,basin,visited)\n",
    "    basin,visited = bfs(x,y+1,heatmap,basin,visited)\n",
    "    basin,visited = bfs(x-1,y,heatmap,basin,visited)\n",
    "    basin,visited = bfs(x+1,y,heatmap,basin,visited)\n",
    "    return basin,visited\n",
    "\n",
    "\n",
    "visited = set()\n",
    "basins = []\n",
    "for (x,y) in heatmap:\n",
    "    if heatmap[(x,y)] != 9 and (x,y) not in visited:\n",
    "        basin, visited = bfs(x,y,heatmap,set(),visited)\n",
    "        basins.append(basin)\n",
    "        \n",
    "sizes = [len(basin) for basin in basins]\n",
    "sizes.sort(reverse=True)\n",
    "\n",
    "sizes[0]*sizes[1]*sizes[2]"
   ]
  },
  {
   "cell_type": "markdown",
   "id": "15b2e203",
   "metadata": {},
   "source": [
    "## Day 10"
   ]
  },
  {
   "cell_type": "markdown",
   "id": "054de5c8",
   "metadata": {},
   "source": [
    "### Part 1"
   ]
  },
  {
   "cell_type": "code",
   "execution_count": 16,
   "id": "9efbb1eb",
   "metadata": {},
   "outputs": [
    {
     "data": {
      "text/plain": [
       "364389"
      ]
     },
     "execution_count": 16,
     "metadata": {},
     "output_type": "execute_result"
    }
   ],
   "source": [
    "with open('inputs/day10.txt') as f:\n",
    "    s = f.read()[:-1]\n",
    "    \n",
    "lines = s.split('\\n')\n",
    "pairs = {')':'(',']':'[','}':'{','>':'<'}\n",
    "values = {')':3,']':57,'}':1197,'>':25137}\n",
    "\n",
    "def check(line):\n",
    "    s = []\n",
    "    for c in line:\n",
    "        if c in '([{<':\n",
    "            s.append(c)\n",
    "        elif len(s) > 0 and s[-1] == pairs[c]:\n",
    "            s.pop()\n",
    "        else:\n",
    "            return values[c]\n",
    "    return 0\n",
    "        \n",
    "sum([check(line) for line in lines])"
   ]
  },
  {
   "cell_type": "markdown",
   "id": "bac3abdd",
   "metadata": {},
   "source": [
    "### Part 2"
   ]
  },
  {
   "cell_type": "code",
   "execution_count": 31,
   "id": "938c6d40",
   "metadata": {},
   "outputs": [
    {
     "data": {
      "text/plain": [
       "2870201088"
      ]
     },
     "execution_count": 31,
     "metadata": {},
     "output_type": "execute_result"
    }
   ],
   "source": [
    "incomplete = [line for line in lines if check(line) == 0]\n",
    "pairs_r = {pairs[k]:k for k in pairs}\n",
    "values = {')':1,']':2,'}':3,'>':4}\n",
    "\n",
    "def autocomplete(line):\n",
    "    s = []\n",
    "    for c in line:\n",
    "        if c in '([{<':\n",
    "            s.append(c)\n",
    "        elif len(s) > 0 and s[-1] == pairs[c]:\n",
    "            s.pop()\n",
    "    score = 0\n",
    "    while len(s) != 0:\n",
    "        c = s.pop()\n",
    "        score *= 5\n",
    "        score += values[pairs_r[c]]\n",
    "    return score\n",
    "\n",
    "scores = [autocomplete(line) for line in incomplete]\n",
    "scores.sort()\n",
    "scores[len(scores)//2]"
   ]
  },
  {
   "cell_type": "markdown",
   "id": "03dd8ac4",
   "metadata": {},
   "source": [
    "## Day 11"
   ]
  },
  {
   "cell_type": "markdown",
   "id": "5d563590",
   "metadata": {},
   "source": [
    "### Part 1"
   ]
  },
  {
   "cell_type": "code",
   "execution_count": 53,
   "id": "9ead7e24",
   "metadata": {},
   "outputs": [
    {
     "data": {
      "text/plain": [
       "1620"
      ]
     },
     "execution_count": 53,
     "metadata": {},
     "output_type": "execute_result"
    }
   ],
   "source": [
    "with open('inputs/day11.txt') as f:\n",
    "    s = f.read()[:-1].split('\\n')\n",
    "    \n",
    "octopuses = {(x,y):int(s[y][x]) for y in range(len(s)) for x in range(len(s))}\n",
    "\n",
    "def step(octopuses):\n",
    "    flashes_all = set()\n",
    "    new_octopuses = {k:octopuses[k]+1 for k in octopuses}\n",
    "    flashes = {k for k in new_octopuses if new_octopuses[k] > 9 and k not in flashes_all}\n",
    "    while len(flashes) != 0:\n",
    "        flashes_all.update(flashes)\n",
    "        for (x,y) in flashes:\n",
    "            for o in [(x-1,y-1),(x-1,y),(x-1,y+1),(x,y-1),(x,y+1),(x+1,y-1),(x+1,y),(x+1,y+1)]:\n",
    "                if o in new_octopuses:\n",
    "                    new_octopuses[o] += 1\n",
    "        flashes = {k for k in new_octopuses if new_octopuses[k] > 9 and k not in flashes_all}\n",
    "    for f in flashes_all:\n",
    "        new_octopuses[f] = 0\n",
    "    return new_octopuses,len(flashes_all)\n",
    "\n",
    "flash_count = 0\n",
    "for i in range(100):\n",
    "    octopuses, flashes = step(octopuses)\n",
    "    flash_count += flashes\n",
    "    \n",
    "flash_count"
   ]
  },
  {
   "cell_type": "markdown",
   "id": "027fb7ec",
   "metadata": {},
   "source": [
    "### Part 2"
   ]
  },
  {
   "cell_type": "code",
   "execution_count": 54,
   "id": "5a731aa6",
   "metadata": {},
   "outputs": [
    {
     "data": {
      "text/plain": [
       "371"
      ]
     },
     "execution_count": 54,
     "metadata": {},
     "output_type": "execute_result"
    }
   ],
   "source": [
    "octopuses = {(x,y):int(s[y][x]) for y in range(len(s)) for x in range(len(s))}\n",
    "\n",
    "flashes = 0\n",
    "i = 0\n",
    "while flashes != 100:\n",
    "    i += 1\n",
    "    octopuses,flashes = step(octopuses)\n",
    "\n",
    "i"
   ]
  },
  {
   "cell_type": "markdown",
   "id": "3b46de6c",
   "metadata": {},
   "source": [
    "## Day 12"
   ]
  },
  {
   "cell_type": "markdown",
   "id": "3e9a4f30",
   "metadata": {},
   "source": [
    "### Part 1"
   ]
  },
  {
   "cell_type": "code",
   "execution_count": 40,
   "id": "32f47001",
   "metadata": {},
   "outputs": [
    {
     "data": {
      "text/plain": [
       "3856"
      ]
     },
     "execution_count": 40,
     "metadata": {},
     "output_type": "execute_result"
    }
   ],
   "source": [
    "with open('inputs/day12.txt') as f:\n",
    "    s = f.read()[:-1].split('\\n')\n",
    "    \n",
    "edges = {tuple(line.split('-')) for line in s}\n",
    "reverse = {(x[1],x[0]) for x in edges}\n",
    "edges.update(reverse)\n",
    "edge_list = {}\n",
    "for (n0,n1) in edges:\n",
    "    l = edge_list.get(n0,[])\n",
    "    if n1 != 'start':\n",
    "        l.append(n1)\n",
    "    edge_list[n0] = l\n",
    "\n",
    "def explore(current,path):\n",
    "    if current in path and current == current.lower():\n",
    "        return []\n",
    "    path = path + [current]\n",
    "    if current == 'end':\n",
    "        return [path]\n",
    "    paths = []\n",
    "    for next_node in edge_list[current]:\n",
    "        paths = paths + explore(next_node,path)\n",
    "    return paths\n",
    "\n",
    "len(explore('start',[]))"
   ]
  },
  {
   "cell_type": "markdown",
   "id": "4a07b7d0",
   "metadata": {},
   "source": [
    "### Part 2"
   ]
  },
  {
   "cell_type": "code",
   "execution_count": 56,
   "id": "edd3c973",
   "metadata": {},
   "outputs": [
    {
     "data": {
      "text/plain": [
       "116692"
      ]
     },
     "execution_count": 56,
     "metadata": {},
     "output_type": "execute_result"
    }
   ],
   "source": [
    "def explore(current,path,double_visit_done):\n",
    "    if current in path and current == current.lower():\n",
    "        if double_visit_done:\n",
    "            return []\n",
    "        else:\n",
    "            double_visit_done = True\n",
    "    path = path + [current]\n",
    "    if current == 'end':\n",
    "        return [path]\n",
    "    paths = []\n",
    "    for next_node in edge_list[current]:\n",
    "        paths = paths + explore(next_node,path,double_visit_done)\n",
    "    return paths\n",
    "\n",
    "len(explore('start',[],False))"
   ]
  },
  {
   "cell_type": "markdown",
   "id": "ee37f4d2",
   "metadata": {},
   "source": [
    "## Day 13"
   ]
  },
  {
   "cell_type": "markdown",
   "id": "045b5455",
   "metadata": {},
   "source": [
    "### Part 1"
   ]
  },
  {
   "cell_type": "code",
   "execution_count": 184,
   "id": "25a65293",
   "metadata": {},
   "outputs": [
    {
     "data": {
      "text/plain": [
       "745"
      ]
     },
     "execution_count": 184,
     "metadata": {},
     "output_type": "execute_result"
    }
   ],
   "source": [
    "with open('inputs/day13.txt') as f:\n",
    "    s = f.read()[:-1]\n",
    "    \n",
    "points, folds = [x.split('\\n') for x in s.split('\\n\\n')]\n",
    "points = {tuple(int(c) for c in p.split(',')) for p in points}\n",
    "folds = [fold.replace('fold along ','').split('=') for fold in folds]\n",
    "folds = [tuple([f[0], int(f[1])]) for f in folds]\n",
    "\n",
    "def fold(points, fold):\n",
    "    new_points = set()\n",
    "    fold_at = fold[1]\n",
    "    if fold[0] == 'x':\n",
    "        for (x,y) in points:\n",
    "            if x < fold_at:\n",
    "                new_points.add((x,y))\n",
    "            else:\n",
    "                new_points.add((2*fold_at-x,y))\n",
    "    elif fold[0] == 'y':\n",
    "        for (x,y) in points:\n",
    "            if y < fold_at:\n",
    "                new_points.add((x,y))\n",
    "            else:\n",
    "                new_points.add((x,2*fold_at-y))\n",
    "    return new_points\n",
    "\n",
    "len(fold(points,folds[0]))"
   ]
  },
  {
   "cell_type": "markdown",
   "id": "48d17427",
   "metadata": {},
   "source": [
    "### Part 2"
   ]
  },
  {
   "cell_type": "code",
   "execution_count": 185,
   "id": "6b686c2c",
   "metadata": {},
   "outputs": [
    {
     "name": "stdout",
     "output_type": "stream",
     "text": [
      ".##..###..#..#...##.####.###...##...##.\n",
      "#..#.#..#.#.#.....#.#....#..#.#..#.#..#\n",
      "#..#.###..##......#.###..###..#....#...\n",
      "####.#..#.#.#.....#.#....#..#.#.##.#...\n",
      "#..#.#..#.#.#..#..#.#....#..#.#..#.#..#\n",
      "#..#.###..#..#..##..#....###...###..##.\n"
     ]
    }
   ],
   "source": [
    "result = points\n",
    "for f in folds:\n",
    "    result = fold(result,f)\n",
    "\n",
    "max_x = max([c[0] for c in result])\n",
    "max_y = max([c[1] for c in result])\n",
    "\n",
    "for line in [''.join(['#' if (x,y) in result else '.' for x in range(max_x+1)]) for y in range(max_y+1)]:\n",
    "    print(line)"
   ]
  },
  {
   "cell_type": "markdown",
   "id": "18bf7f61",
   "metadata": {},
   "source": [
    "## Day 14"
   ]
  },
  {
   "cell_type": "markdown",
   "id": "a5af98e2",
   "metadata": {},
   "source": [
    "### Part 1"
   ]
  },
  {
   "cell_type": "code",
   "execution_count": 19,
   "id": "52c5a7eb",
   "metadata": {},
   "outputs": [
    {
     "data": {
      "text/plain": [
       "2899"
      ]
     },
     "execution_count": 19,
     "metadata": {},
     "output_type": "execute_result"
    }
   ],
   "source": [
    "with open('inputs/day14.txt') as f:\n",
    "    s = f.read()[:-1]\n",
    "    \n",
    "template = s.split('\\n\\n')[0]\n",
    "rules = {line.split(' -> ')[0]: line.split(' -> ')[1] for line in s.split('\\n\\n')[1].split('\\n')}\n",
    "\n",
    "def insert(poly):\n",
    "    new_poly = []\n",
    "    for i in range(len(poly)-1):\n",
    "        new_poly.append(poly[i])\n",
    "        if poly[i:i+2] in rules:\n",
    "            new_poly.append(rules[poly[i:i+2]])\n",
    "    new_poly.append(poly[-1])\n",
    "    return ''.join(new_poly)\n",
    "\n",
    "new_poly = template\n",
    "for i in range(10):\n",
    "    new_poly = insert(new_poly)\n",
    "    \n",
    "count = {}\n",
    "for c in new_poly:\n",
    "    count[c] = count.get(c,0)+1\n",
    "    \n",
    "max(count.values()) - min(count.values())"
   ]
  },
  {
   "cell_type": "markdown",
   "id": "f1aff9ba",
   "metadata": {},
   "source": [
    "### Part 2"
   ]
  },
  {
   "cell_type": "code",
   "execution_count": 64,
   "id": "30099bf4",
   "metadata": {},
   "outputs": [
    {
     "data": {
      "text/plain": [
       "3528317079545"
      ]
     },
     "execution_count": 64,
     "metadata": {},
     "output_type": "execute_result"
    }
   ],
   "source": [
    "rules_result = {k:[''.join([k[0],rules[k]]), ''.join([rules[k],k[1]])] for k in rules}\n",
    "\n",
    "poly = template\n",
    "rule_count = {}\n",
    "for i in range(len(poly)-1):\n",
    "    rule_count[poly[i:i+2]] = rule_count.get(poly[i:i+2],0)+1\n",
    "    \n",
    "for i in range(40):\n",
    "    new_rule_count = {}\n",
    "    for c in rule_count:\n",
    "        for r in rules_result[c]:\n",
    "            new_rule_count[r] = new_rule_count.get(r,0) + rule_count[c]\n",
    "    rule_count = new_rule_count\n",
    "      \n",
    "c_count = {poly[0]: 1, poly[-1]: 1}\n",
    "for r in rule_count:\n",
    "    for c in r:\n",
    "        c_count[c] = c_count.get(c,0) + rule_count[r]\n",
    "c_count = {c: c_count[c]//2 for c in c_count}\n",
    "\n",
    "max(c_count.values()) - min(c_count.values())"
   ]
  },
  {
   "cell_type": "markdown",
   "id": "13947859",
   "metadata": {},
   "source": [
    "## Day 15"
   ]
  },
  {
   "cell_type": "markdown",
   "id": "bc3a7723",
   "metadata": {},
   "source": [
    "### Part 1"
   ]
  },
  {
   "cell_type": "code",
   "execution_count": 93,
   "id": "d6b48aa3",
   "metadata": {},
   "outputs": [
    {
     "data": {
      "text/plain": [
       "696"
      ]
     },
     "execution_count": 93,
     "metadata": {},
     "output_type": "execute_result"
    }
   ],
   "source": [
    "from heapq import heappop, heappush\n",
    "\n",
    "with open('inputs/day15.txt') as f:\n",
    "    s = f.read()[:-1].split('\\n')\n",
    "    \n",
    "grid = [[int(i) for i in line] for line in s]\n",
    "\n",
    "def h(x,y,grid):\n",
    "    return len(grid)-1-y + len(grid[0])-1-x\n",
    "\n",
    "start = (0,0)\n",
    "target = (99,99)\n",
    "def find(start, target,grid):\n",
    "    dist = {start: 0}\n",
    "    fs = {start: h(0,0,grid)}\n",
    "    open_nodes = [(fs[start],start)]\n",
    "    while len(open_nodes) != 0 and target not in dist:\n",
    "        f,(x,y) = heappop(open_nodes)\n",
    "        for (xi,yi) in [(x-1,y),(x+1,y),(x,y-1),(x,y+1)]:\n",
    "            if xi >= 0 and yi >= 0 and xi < len(grid[0]) and yi < len(grid):\n",
    "                d = dist[(x,y)] + grid[yi][xi]\n",
    "                f = d + h(xi,yi,grid)\n",
    "                if (xi,yi) not in dist or d < dist[(xi,yi)]:\n",
    "                    dist[(xi,yi)] = d\n",
    "                    fs[(xi,yi)] = f\n",
    "                    heappush(open_nodes,(f,(xi,yi)))\n",
    "    return dist[target]\n",
    "                \n",
    "find(start,target,grid)"
   ]
  },
  {
   "cell_type": "markdown",
   "id": "976daffb",
   "metadata": {},
   "source": [
    "### Part 2"
   ]
  },
  {
   "cell_type": "code",
   "execution_count": 96,
   "id": "1d189fff",
   "metadata": {},
   "outputs": [
    {
     "data": {
      "text/plain": [
       "2952"
      ]
     },
     "execution_count": 96,
     "metadata": {},
     "output_type": "execute_result"
    }
   ],
   "source": [
    "def value(x,y):\n",
    "    base = grid[y%len(grid)][x%len(grid[0])]\n",
    "    add_x = x//len(grid[0])\n",
    "    add_y = y//len(grid)\n",
    "    s = base + add_x + add_y\n",
    "    if s > 9:\n",
    "        s -= 9\n",
    "    return s\n",
    "    \n",
    "large_grid = [[value(x,y) for x in range(len(grid[0])*5)] for y in range(len(grid)*5)]\n",
    "\n",
    "start = (0,0)\n",
    "target = (499,499)\n",
    "                \n",
    "find(start,target,large_grid)"
   ]
  },
  {
   "cell_type": "markdown",
   "id": "1fce2caa",
   "metadata": {},
   "source": [
    "## Day 16"
   ]
  },
  {
   "cell_type": "markdown",
   "id": "aabb8b8b",
   "metadata": {},
   "source": [
    "### Part 1"
   ]
  },
  {
   "cell_type": "code",
   "execution_count": 162,
   "id": "28cd1fc9",
   "metadata": {},
   "outputs": [
    {
     "data": {
      "text/plain": [
       "873"
      ]
     },
     "execution_count": 162,
     "metadata": {},
     "output_type": "execute_result"
    }
   ],
   "source": [
    "with open('inputs/day16.txt') as f:\n",
    "    s = f.read()[:-1]\n",
    "    \n",
    "b = bin(int(s,16))[2:]\n",
    "if len(b) % 4 != 0:\n",
    "    b = '0'*(4-len(b)%4) + b\n",
    "\n",
    "def literal(payload):\n",
    "    b = []\n",
    "    i = 0\n",
    "    while payload[i*5] == '1':\n",
    "        b.append(payload[i*5+1:(i+1)*5])\n",
    "        i += 1\n",
    "    b.append(payload[i*5+1:(i+1)*5])\n",
    "    result = int(''.join(b),2)\n",
    "    end = (i+1)*5\n",
    "    return result, end\n",
    "\n",
    "def operator(payload,type_id):\n",
    "    length_type_id = int(payload[0],2)\n",
    "    if length_type_id == 0:\n",
    "        length = int(payload[1:16],2)\n",
    "        results,version_acc,end = process_multiple(payload[16:16+length])\n",
    "        end += 16\n",
    "    else:\n",
    "        packet_count = int(payload[1:12],2)\n",
    "        results,version_acc,end = process_multiple(payload[12:],packet_count)\n",
    "        end += 12\n",
    "    return results,version_acc,end\n",
    "    \n",
    "def process(packet):\n",
    "    version = int(packet[:3],2)\n",
    "    type_id = int(packet[3:6],2)\n",
    "    if type_id == 4:\n",
    "        results,end = literal(packet[6:])\n",
    "    else:\n",
    "        results,version_acc,end = operator(packet[6:],type_id)\n",
    "        version += version_acc      \n",
    "    end += 6\n",
    "    return results,version,end\n",
    "\n",
    "def process_multiple(packets,n = None):\n",
    "    results = []\n",
    "    version_acc = 0\n",
    "    end = 0\n",
    "    processed = 0\n",
    "    while (end < len(packets) and n is None) or (n is not None and processed < n):\n",
    "        result,version,end_l = process(packets[end:])\n",
    "        end += end_l\n",
    "        results.append(result)\n",
    "        version_acc += version\n",
    "        processed += 1\n",
    "    return results,version_acc,end\n",
    "      \n",
    "def decode(packet):\n",
    "    b = bin(int(packet,16))[2:]\n",
    "    if len(b) % 4 != 0:\n",
    "        b = '0'*(4-len(b)%4) + b\n",
    "    i = 0\n",
    "    while packet[i] == '0':\n",
    "        b = '0'*4 + b\n",
    "        i += 1\n",
    "    return b\n",
    "    \n",
    "def decode_and_process(packet):\n",
    "    b = decode(packet)\n",
    "    return process(b)\n",
    "    \n",
    "decode_and_process(s)[1]"
   ]
  },
  {
   "cell_type": "markdown",
   "id": "e93a5a35",
   "metadata": {},
   "source": [
    "### Part 2"
   ]
  },
  {
   "cell_type": "code",
   "execution_count": 165,
   "id": "51ff568f",
   "metadata": {},
   "outputs": [
    {
     "data": {
      "text/plain": [
       "402817863665"
      ]
     },
     "execution_count": 165,
     "metadata": {},
     "output_type": "execute_result"
    }
   ],
   "source": [
    "def execute_operator(inputs,type_id):\n",
    "    if type_id == 0:\n",
    "        return sum(inputs)\n",
    "    if type_id == 1:\n",
    "        m = 1\n",
    "        for i in inputs:\n",
    "            m *= i\n",
    "        return m\n",
    "    if type_id == 2:\n",
    "        return min(inputs)\n",
    "    if type_id == 3:\n",
    "        return max(inputs)\n",
    "    if type_id == 5:\n",
    "        if inputs[0] > inputs[1]:\n",
    "            return 1\n",
    "        return 0\n",
    "    if type_id == 6:\n",
    "        if inputs[0] < inputs[1]:\n",
    "            return 1\n",
    "        return 0\n",
    "    if type_id == 7:\n",
    "        if inputs[0] == inputs[1]:\n",
    "            return 1\n",
    "        return 0\n",
    "    \n",
    "\n",
    "def operator(payload,type_id):\n",
    "    length_type_id = int(payload[0],2)\n",
    "    if length_type_id == 0:\n",
    "        length = int(payload[1:16],2)\n",
    "        results,version_acc,end = process_multiple(payload[16:16+length])\n",
    "        end += 16\n",
    "    else:\n",
    "        packet_count = int(payload[1:12],2)\n",
    "        results,version_acc,end = process_multiple(payload[12:],packet_count)\n",
    "        end += 12\n",
    "    result = execute_operator(results,type_id)\n",
    "    return result,version_acc,end\n",
    "\n",
    "decode_and_process(s)[0]"
   ]
  },
  {
   "cell_type": "markdown",
   "id": "7ad906c2",
   "metadata": {},
   "source": [
    "## Day 17"
   ]
  },
  {
   "cell_type": "markdown",
   "id": "7516256b",
   "metadata": {},
   "source": [
    "### Part 1"
   ]
  },
  {
   "cell_type": "code",
   "execution_count": 9,
   "id": "fccd9068",
   "metadata": {},
   "outputs": [
    {
     "data": {
      "text/plain": [
       "15931"
      ]
     },
     "execution_count": 9,
     "metadata": {},
     "output_type": "execute_result"
    }
   ],
   "source": [
    "with open('inputs/day17.txt') as f:\n",
    "    s = f.read()[:-1]\n",
    "\n",
    "y_min = int(s.split('=')[-1].split('..')[0])\n",
    "y_min*(y_min+1)//2"
   ]
  },
  {
   "cell_type": "markdown",
   "id": "cf5494a8",
   "metadata": {},
   "source": [
    "### Part 2"
   ]
  },
  {
   "cell_type": "code",
   "execution_count": 14,
   "id": "3d85fbc2",
   "metadata": {},
   "outputs": [
    {
     "data": {
      "text/plain": [
       "2555"
      ]
     },
     "execution_count": 14,
     "metadata": {},
     "output_type": "execute_result"
    }
   ],
   "source": [
    "x,y = s.split(' ')[2:]\n",
    "x = x[2:-1].split('..')\n",
    "y = y[2:].split('..')\n",
    "\n",
    "x_min = int(x[0])\n",
    "x_max = int(x[1])\n",
    "y_min = int(y[0])\n",
    "y_max = int(y[1])\n",
    "\n",
    "def fits(vx0,vy0):\n",
    "    x,y = 0,0\n",
    "    vx,vy = vx0,vy0\n",
    "    while x <= x_max and y >= y_min:\n",
    "        if x >= x_min and y <= y_max:\n",
    "            return True\n",
    "        x += vx\n",
    "        y += vy\n",
    "        vy -= 1\n",
    "        if vx != 0:\n",
    "            vx -= 1\n",
    "    return False\n",
    "\n",
    "count = 0\n",
    "for x in range(x_max+1):\n",
    "    for y in range(y_min-1,abs(y_min)):\n",
    "        if fits(x,y):\n",
    "            count += 1\n",
    "            \n",
    "count"
   ]
  },
  {
   "cell_type": "markdown",
   "id": "491fa6ba",
   "metadata": {},
   "source": [
    "## Day 18"
   ]
  },
  {
   "cell_type": "markdown",
   "id": "7de9d3bc",
   "metadata": {},
   "source": [
    "### Part 1"
   ]
  },
  {
   "cell_type": "code",
   "execution_count": 166,
   "id": "b3248f00",
   "metadata": {},
   "outputs": [
    {
     "data": {
      "text/plain": [
       "4033"
      ]
     },
     "execution_count": 166,
     "metadata": {},
     "output_type": "execute_result"
    }
   ],
   "source": [
    "import math\n",
    "\n",
    "with open('inputs/day18.txt') as f:\n",
    "    s = f.read()[:-1].split('\\n')\n",
    "\n",
    "\n",
    "def separate(string):\n",
    "    level = 0\n",
    "    for i in range(len(string)):\n",
    "        if string[i] == '[':\n",
    "            level += 1\n",
    "        if string[i] == ']':\n",
    "            level -= 1\n",
    "        if string[i] == ',' and level == 1:\n",
    "            return [string[1:i],string[i+1:-1]]\n",
    "    return string\n",
    "\n",
    "def process(string,node):\n",
    "    if ',' not in string:\n",
    "        node.data = int(string)\n",
    "        return node\n",
    "    sep = separate(string)\n",
    "    node.left = Node(sep[0],node)\n",
    "    node.right = Node(sep[1],node)\n",
    "    process(sep[0],node.left)\n",
    "    process(sep[1],node.right)\n",
    "    return node\n",
    "    \n",
    "class Node:\n",
    "    def __init__(self,data,parent=None):\n",
    "        self.data = data\n",
    "        self.parent = parent\n",
    "        self.left = None\n",
    "        self.right = None\n",
    "        \n",
    "    def __str__(self):\n",
    "        return str(self.data)\n",
    "    \n",
    "    def refresh(self):\n",
    "        current = self\n",
    "        if current.left is not None and current.right is not None:\n",
    "            current.data = '[' + str(current.left) + ',' + str(current.right) + ']'\n",
    "        if current.parent is not None:\n",
    "            current.parent.refresh()  \n",
    "            \n",
    "    def build_tree(self):\n",
    "        process(self.data,self)\n",
    "            \n",
    "    def is_root(self):\n",
    "        return self.parent is None\n",
    "            \n",
    "    def is_leaf(self):\n",
    "        return isinstance(self.data,int)\n",
    "            \n",
    "    def is_number(self):\n",
    "        return self.left is not None and self.right is not None and self.left.is_leaf() and self.right.is_leaf()\n",
    "    \n",
    "    def magnitude(self):\n",
    "        if isinstance(self.data,int):\n",
    "            return self.data\n",
    "        return 3*self.left.magnitude() + 2*self.right.magnitude()\n",
    "\n",
    "\n",
    "def left(node):\n",
    "    current = node\n",
    "    while not current.is_root() and current == current.parent.left:\n",
    "        current = current.parent\n",
    "    if current.is_root():\n",
    "        return None\n",
    "    current = current.parent.left\n",
    "    while current.right is not None:\n",
    "        current = current.right\n",
    "    return current\n",
    "\n",
    "def right(node):\n",
    "    current = node\n",
    "    while not current.is_root() and current == current.parent.right:\n",
    "        current = current.parent\n",
    "    if current.is_root():\n",
    "        return None\n",
    "    current = current.parent.right\n",
    "    while current.left is not None:\n",
    "        current = current.left\n",
    "    return current\n",
    "\n",
    "def add_to(node,n):\n",
    "    node.data += n\n",
    "\n",
    "def explode(n):\n",
    "    leftmost = left(n)\n",
    "    rightmost = right(n)\n",
    "    if leftmost is not None:\n",
    "        add_to(leftmost,n.left.data)\n",
    "    if rightmost is not None:\n",
    "        add_to(rightmost,n.right.data)\n",
    "    n.data = 0\n",
    "    n.left = None\n",
    "    n.right = None\n",
    "    n.refresh()\n",
    "    if leftmost is not None:\n",
    "        leftmost.refresh()\n",
    "    if rightmost is not None:\n",
    "        rightmost.refresh()\n",
    "    return n\n",
    "\n",
    "def split(n):\n",
    "    n.left = Node(n.data//2,n)\n",
    "    n.right = Node(math.ceil(n.data/2),n)\n",
    "    n.refresh()\n",
    "    return n\n",
    "\n",
    "def find_explosion(node,level):\n",
    "    if node.is_number():\n",
    "        if level >= 4:\n",
    "            return node\n",
    "        else:\n",
    "            return None\n",
    "    left,right = None,None\n",
    "    if not node.left.is_leaf():\n",
    "        left = find_explosion(node.left,level+1)\n",
    "    if not node.right.is_leaf():\n",
    "        right = find_explosion(node.right,level+1)\n",
    "    if left is not None:\n",
    "        return left\n",
    "    return right\n",
    "\n",
    "def find_split(node):\n",
    "    if node.is_leaf():\n",
    "        if node.data >= 10:\n",
    "            return node\n",
    "        else:\n",
    "            return None\n",
    "    left,right = None,None\n",
    "    left = find_split(node.left)\n",
    "    right = find_split(node.right)\n",
    "    if left is not None:\n",
    "        return left\n",
    "    return right\n",
    "    \n",
    "def reduce_once(n):\n",
    "    target = find_explosion(n,0)\n",
    "    if target is not None:\n",
    "        explode(target)\n",
    "        return True\n",
    "    target = find_split(n)\n",
    "    if target is not None:\n",
    "        split(target)\n",
    "        return True\n",
    "    return False\n",
    "\n",
    "def reduce(n):\n",
    "    red = True\n",
    "    while red:\n",
    "        red = reduce_once(n)\n",
    "    return n\n",
    "\n",
    "def add(n1,n2):\n",
    "    s = '['+str(n1)+','+str(n2)+']'\n",
    "    node = Node(s)\n",
    "    node.build_tree()\n",
    "    return reduce(node)\n",
    "\n",
    "numbers = [Node(line) for line in s]\n",
    "for number in numbers:\n",
    "    number.build_tree()\n",
    "    \n",
    "result = numbers[0]\n",
    "for number in numbers[1:]:\n",
    "    result = add(result,number)\n",
    "    \n",
    "result.magnitude()"
   ]
  },
  {
   "cell_type": "markdown",
   "id": "042b09f6",
   "metadata": {},
   "source": [
    "### Part 2"
   ]
  },
  {
   "cell_type": "code",
   "execution_count": 172,
   "id": "1da3f8d0",
   "metadata": {},
   "outputs": [
    {
     "data": {
      "text/plain": [
       "4864"
      ]
     },
     "execution_count": 172,
     "metadata": {},
     "output_type": "execute_result"
    }
   ],
   "source": [
    "max_magnitude = 0\n",
    "for i in range(len(numbers)):\n",
    "    for j in range(len(numbers)):\n",
    "        if i != j:\n",
    "            number = add(numbers[i],numbers[j])\n",
    "            magnitude = number.magnitude()\n",
    "            if magnitude > max_magnitude:\n",
    "                max_magnitude = magnitude\n",
    "                \n",
    "max_magnitude"
   ]
  },
  {
   "cell_type": "markdown",
   "id": "1e1b214c",
   "metadata": {},
   "source": [
    "## Day 19"
   ]
  },
  {
   "cell_type": "markdown",
   "id": "0a382852",
   "metadata": {},
   "source": [
    "### Part 1"
   ]
  },
  {
   "cell_type": "code",
   "execution_count": 511,
   "id": "b277cb7c",
   "metadata": {},
   "outputs": [
    {
     "data": {
      "text/plain": [
       "372"
      ]
     },
     "execution_count": 511,
     "metadata": {},
     "output_type": "execute_result"
    }
   ],
   "source": [
    "with open('inputs/day19.txt') as f:\n",
    "    s = f.read()[:-1].split('\\n\\n')\n",
    "    \n",
    "scanners = [scanner.split('\\n')[1:] for scanner in s]\n",
    "scanners = [[tuple([int(coord) for coord in beacon.split(',')]) for beacon in scanner] for scanner in scanners]\n",
    "\n",
    "def rotate(coord):\n",
    "    (x,y,z) = coord\n",
    "    return (x,z,-y)\n",
    "\n",
    "transformations = [lambda x,y,z: ( x, y, z),\n",
    "                   lambda x,y,z: ( x,-y,-z),\n",
    "                   lambda x,y,z: (-x,-y, z),\n",
    "                   lambda x,y,z: (-x, y,-z),\n",
    "                   lambda x,y,z: ( x,-z, y),\n",
    "                   lambda x,y,z: ( x, z,-y),\n",
    "                   lambda x,y,z: (-x, z, y),\n",
    "                   lambda x,y,z: (-x,-z,-y),\n",
    "                   lambda x,y,z: ( y,-x, z),\n",
    "                   lambda x,y,z: ( y, x,-z),\n",
    "                   lambda x,y,z: (-y, x, z),\n",
    "                   lambda x,y,z: (-y,-x,-z),\n",
    "                   lambda x,y,z: ( y,-z,-x),\n",
    "                   lambda x,y,z: ( y, z, x),\n",
    "                   lambda x,y,z: (-y,-z, x),\n",
    "                   lambda x,y,z: (-y, z,-x),\n",
    "                   lambda x,y,z: ( z, x, y),\n",
    "                   lambda x,y,z: ( z,-x,-y),\n",
    "                   lambda x,y,z: (-z, x,-y),\n",
    "                   lambda x,y,z: (-z,-x, y),\n",
    "                   lambda x,y,z: ( z,-y, x),\n",
    "                   lambda x,y,z: ( z, y,-x),\n",
    "                   lambda x,y,z: (-z, y, x),\n",
    "                   lambda x,y,z: (-z,-y,-x)]\n",
    "\n",
    "def distance_in(scanner):\n",
    "    scanner_dist = {}\n",
    "    for i in range(len(scanner)):\n",
    "        for j in range(len(scanner)):\n",
    "            if i != j:\n",
    "                d = (scanner[j][0]-scanner[i][0],scanner[j][1]-scanner[i][1],scanner[j][2]-scanner[i][2])\n",
    "                if d not in scanner_dist:\n",
    "                    scanner_dist[d] = (i,j)\n",
    "    return scanner_dist\n",
    "    \n",
    "\n",
    "def distances(scanners):\n",
    "    dist = {}\n",
    "    for s_n in range(len(scanners)):\n",
    "        s = scanners[s_n]\n",
    "        scanner_dist = distance_in(s)\n",
    "        dist[s_n] = scanner_dist\n",
    "    return dist\n",
    "\n",
    "def align(s1,s2,scanners,dist):\n",
    "    scanner1 = dist[s1]\n",
    "    scanner2 = dist[s2]\n",
    "    if scanner1 != scanner2:\n",
    "        for tra in transformations:\n",
    "            s2t = {tra(x,y,z):scanner2[(x,y,z)] for (x,y,z) in scanner2}\n",
    "            common = {coord:(scanner1[coord],s2t[coord]) for coord in scanner1 if coord in s2t}\n",
    "            if len(common) >= 12*11:\n",
    "                scanners[s2] = [tra(x,y,z) for (x,y,z) in scanners[s2]]\n",
    "                return common\n",
    "    return None\n",
    "    \n",
    "def find_first(b1,b2):\n",
    "    if (b1[0] < b2[0]) or (b1[0] == b2[0] and b1[1] < b2[1]) or (b1[0] == b2[0] and b1[1] == b2[1] and b1[2] < b2[2]):\n",
    "        return b1\n",
    "    else:\n",
    "        return b2\n",
    "    \n",
    "def find_dist(pair1,pair2,scanners,s1,s2):\n",
    "    (b1a,b1b) = pair1\n",
    "    (b2a,b2b) = pair2\n",
    "    b1 = find_first(scanners[s1][b1a],scanners[s1][b1b])\n",
    "    b2 = find_first(scanners[s2][b2a],scanners[s2][b2b])\n",
    "    return (b1[0]-b2[0],b1[1]-b2[1],b1[2]-b2[2])\n",
    "    \n",
    "def move_by(x,y,z,d):\n",
    "    return (x+d[0],y+d[1],z+d[2])\n",
    "    \n",
    "def move(s1,s2,scanners,common):\n",
    "    (pair1,pair2) = next(iter(common.values()))\n",
    "    dist = find_dist(pair1,pair2,scanners,s1,s2)\n",
    "    scanners[s2] = [move_by(x,y,z,dist) for (x,y,z) in scanners[s2]]\n",
    "    return dist\n",
    "\n",
    "def update(s1,s2,scanners,paired,dist):\n",
    "    paired[s1].add(s2)\n",
    "    paired[s2].add(s1)\n",
    "    affected = set()\n",
    "    affected.update(paired[s1])\n",
    "    affected.update(paired[s2])\n",
    "    fixed = set()\n",
    "    for s in affected:\n",
    "        fixed.update(scanners[s])\n",
    "    fixed_l = list(fixed)\n",
    "    for s in affected:\n",
    "        if set(scanners[s]) != fixed:\n",
    "            scanners[s] = fixed_l\n",
    "            dist[s] = distance_in(scanners[s])\n",
    "    return affected\n",
    "            \n",
    "dist = distances(scanners)\n",
    "paired = {i:set() for i in range(len(scanners))}\n",
    "distances = {}\n",
    "                    \n",
    "s1 = 0\n",
    "while len(paired[s1]) < len(scanners)-1:\n",
    "    for s2 in range(s1+1,len(scanners)):\n",
    "        if s2 not in paired[s1]:\n",
    "            common = align(s1,s2,scanners,dist)\n",
    "            if common is not None:\n",
    "                d = move(s1,s2,scanners,common)\n",
    "                if d[0] != 0 or d[1] != 0 or d[2] != 0:\n",
    "                    distances[s2] = d\n",
    "                    affected = update(s1,s2,scanners,paired,dist)\n",
    "    \n",
    "len(scanners[0])"
   ]
  },
  {
   "cell_type": "markdown",
   "id": "4723a1ad",
   "metadata": {},
   "source": [
    "### Part 2"
   ]
  },
  {
   "cell_type": "code",
   "execution_count": 514,
   "id": "a9f636fb",
   "metadata": {},
   "outputs": [
    {
     "data": {
      "text/plain": [
       "12241"
      ]
     },
     "execution_count": 514,
     "metadata": {},
     "output_type": "execute_result"
    }
   ],
   "source": [
    "def manhattan(s1,s2):\n",
    "    return abs(s1[0]-s2[0]) + abs(s1[1]-s2[1]) + abs(s1[2]-s2[2])\n",
    "\n",
    "manhattans = [manhattan(distances[i],distances[j]) for i in range(1,len(distances)) for j in range(i+1,len(distances))]\n",
    "\n",
    "max(manhattans)"
   ]
  },
  {
   "cell_type": "markdown",
   "id": "86c033b0",
   "metadata": {},
   "source": [
    "## Day 20"
   ]
  },
  {
   "cell_type": "markdown",
   "id": "ee303014",
   "metadata": {},
   "source": [
    "### Part 1"
   ]
  },
  {
   "cell_type": "code",
   "execution_count": 574,
   "id": "92cdc92d",
   "metadata": {
    "scrolled": false
   },
   "outputs": [
    {
     "data": {
      "text/plain": [
       "5057"
      ]
     },
     "execution_count": 574,
     "metadata": {},
     "output_type": "execute_result"
    }
   ],
   "source": [
    "with open('inputs/day20.txt') as f:\n",
    "    s = f.read()[:-1].split('\\n\\n')\n",
    "    \n",
    "enhancement = s[0]\n",
    "image = [line for line in s[1].split('\\n')]\n",
    "neighborhood = [(-1,-1),(0,-1),(1,-1),(-1,0),(0,0),(1,0),(-1,1),(0,1),(1,1)]\n",
    "\n",
    "def pixel(x,y,image,default):\n",
    "    if x < 0 or y < 0 or y >= len(image) or x >= len(image[0]):\n",
    "        return default\n",
    "    return image[y][x]\n",
    "\n",
    "def index(x,y,image,default):\n",
    "    parts = [pixel(x+xd,y+yd,image,default) for (xd,yd) in neighborhood]\n",
    "    code = ''.join(parts)\n",
    "    code = code.replace('.','0')\n",
    "    code = code.replace('#','1')\n",
    "    return int(code,2)\n",
    "\n",
    "def result(index,enhancement):\n",
    "    return enhancement[index]\n",
    "\n",
    "def encode_pixel(x,y,image,enhancement,default):\n",
    "    i = index(x,y,image,default)\n",
    "    return result(i,enhancement)\n",
    "\n",
    "def preprocess(image,default):\n",
    "    padding = 3\n",
    "    result = []\n",
    "    for i in range(padding):\n",
    "        result.append(default*(len(image[0])+2*padding))\n",
    "    for line in image:\n",
    "        result.append(default*padding + line + default*padding)\n",
    "    for i in range(padding):\n",
    "        result.append(default*(len(image[0])+2*padding))\n",
    "    return result\n",
    "    \n",
    "\n",
    "def encode(image,enhancement,default):\n",
    "    img = preprocess(image,default)\n",
    "    return [''.join([encode_pixel(x,y,img,enhancement,default) for x in range(len(img[0]))]) for y in range(len(img))]\n",
    "\n",
    "img = image\n",
    "img = encode(img,enhancement,'.')\n",
    "img = encode(img,enhancement,'#')\n",
    "\n",
    "sum([line.count('#') for line in img])"
   ]
  },
  {
   "cell_type": "markdown",
   "id": "46427b05",
   "metadata": {},
   "source": [
    "### Part 2"
   ]
  },
  {
   "cell_type": "code",
   "execution_count": 584,
   "id": "ad8b23be",
   "metadata": {},
   "outputs": [
    {
     "data": {
      "text/plain": [
       "18502"
      ]
     },
     "execution_count": 584,
     "metadata": {},
     "output_type": "execute_result"
    }
   ],
   "source": [
    "img = image\n",
    "for i in range(50):\n",
    "    if i%2 == 0:\n",
    "        default = '.'\n",
    "    else:\n",
    "        default = '#'\n",
    "    img = encode(img,enhancement,default)\n",
    "    \n",
    "sum([line.count('#') for line in img])"
   ]
  },
  {
   "cell_type": "markdown",
   "id": "3f7a21a5",
   "metadata": {},
   "source": [
    "## Day 21"
   ]
  },
  {
   "cell_type": "markdown",
   "id": "2716b008",
   "metadata": {},
   "source": [
    "### Part 1"
   ]
  },
  {
   "cell_type": "code",
   "execution_count": 3,
   "id": "913e8493",
   "metadata": {},
   "outputs": [
    {
     "data": {
      "text/plain": [
       "742257"
      ]
     },
     "execution_count": 3,
     "metadata": {},
     "output_type": "execute_result"
    }
   ],
   "source": [
    "with open('inputs/day21.txt') as f:\n",
    "    s = f.read()[:-1].split('\\n')\n",
    "    \n",
    "p1 = int(s[0].split(' ')[-1])\n",
    "p2 = int(s[1].split(' ')[-1])\n",
    "tiles = [p1,p2]\n",
    "scores = [0,0]\n",
    "\n",
    "def move(start,move_by):\n",
    "    m = (start + move_by) % 10\n",
    "    return m if m > 0 else 10\n",
    "\n",
    "def roll3_det(rolls):\n",
    "    move_by = 3*rolls+6\n",
    "    return move_by,rolls+3\n",
    "\n",
    "turn = 0\n",
    "rolls = 0\n",
    "while scores[0] < 1000 and scores[1] < 1000:\n",
    "    move_by,rolls = roll3_det(rolls)\n",
    "    tiles[turn] = move(tiles[turn],move_by)\n",
    "    scores[turn] += tiles[turn]\n",
    "    turn = (turn+1)%2\n",
    "    \n",
    "rolls*min(scores)"
   ]
  },
  {
   "cell_type": "markdown",
   "id": "33b885cc",
   "metadata": {},
   "source": [
    "### Part 2"
   ]
  },
  {
   "cell_type": "code",
   "execution_count": 6,
   "id": "5cb4319f",
   "metadata": {},
   "outputs": [
    {
     "data": {
      "text/plain": [
       "93726416205179"
      ]
     },
     "execution_count": 6,
     "metadata": {},
     "output_type": "execute_result"
    }
   ],
   "source": [
    "outcome_cache = {}\n",
    "for s_win in range(21,31):\n",
    "    for s_lose in range(21):\n",
    "        for t1 in range(10):\n",
    "            for t2 in range(10):\n",
    "                for next_p in range(2):\n",
    "                    outcome_cache[(s_win,s_lose,t1+1,t2+1,next_p)] = (1,0)\n",
    "                    outcome_cache[(s_lose,s_win,t1+1,t2+1,next_p)] = (0,1)\n",
    "\n",
    "rolls = [i+j+k for i in range(1,4) for j in range(1,4) for k in range(1,4)]\n",
    "                                 \n",
    "def next_states(p1_score,p2_score,p1_tile,p2_tile,next_player):\n",
    "    states = []\n",
    "    for roll in rolls:\n",
    "        if next_player == 0:\n",
    "            next_tile = move(p1_tile,roll)\n",
    "            states.append((p1_score+next_tile,p2_score,next_tile,p2_tile,(next_player+1)%2))\n",
    "        else:\n",
    "            next_tile = move(p2_tile,roll)\n",
    "            states.append((p1_score,p2_score+next_tile,p1_tile,next_tile,(next_player+1)%2))\n",
    "    return states\n",
    "\n",
    "def winning_outcomes(state):\n",
    "    if state in outcome_cache:\n",
    "        return outcome_cache[state]\n",
    "    p1_score,p2_score,p1_tile,p2_tile,next_player = state\n",
    "    states = next_states(p1_score,p2_score,p1_tile,p2_tile,next_player)\n",
    "    wins = [0,0]\n",
    "    for s in states:\n",
    "        (p1,p2) = winning_outcomes(s)\n",
    "        wins[0] += p1\n",
    "        wins[1] += p2\n",
    "    wins = tuple(wins)\n",
    "    outcome_cache[state] = wins\n",
    "    return wins\n",
    "\n",
    "max(winning_outcomes((0,0,p1,p2,0)))"
   ]
  },
  {
   "cell_type": "markdown",
   "id": "b766bbe6",
   "metadata": {},
   "source": [
    "## Day 22"
   ]
  },
  {
   "cell_type": "markdown",
   "id": "ce20141a",
   "metadata": {},
   "source": [
    "### Part 1"
   ]
  },
  {
   "cell_type": "code",
   "execution_count": 227,
   "id": "688e6004",
   "metadata": {},
   "outputs": [
    {
     "data": {
      "text/plain": [
       "537042"
      ]
     },
     "execution_count": 227,
     "metadata": {},
     "output_type": "execute_result"
    }
   ],
   "source": [
    "with open('inputs/day22.txt') as f:\n",
    "    s = f.read()[:-1].split('\\n')\n",
    "    \n",
    "steps = [[line.split(' ')[1], line.split(' ')[0]=='on'] for line in s]\n",
    "for i in range(len(steps)):\n",
    "    cuboid = steps[i][0].split(',')\n",
    "    cuboid = tuple([tuple([int(x) for x in coord.split('=')[1].split('..')]) for coord in cuboid])\n",
    "    steps[i][0] = cuboid\n",
    "\n",
    "def dimension_overlap(c1,c2):\n",
    "    if c1[0] >= c2[0] and c1[1] <= c2[1]:\n",
    "        return c1\n",
    "    if c2[0] >= c1[0] and c2[1] <= c1[1]:\n",
    "        return c2\n",
    "    if c1[0] < c2[0] and c2[0] <= c1[1]:\n",
    "        return (c2[0],c1[1])\n",
    "    if c2[0] < c1[0] and c1[0] <= c2[1]:\n",
    "        return (c1[0],c2[1])\n",
    "    return None\n",
    "\n",
    "def overlap(c1,c2):\n",
    "    return (dimension_overlap(c1[0],c2[0]),dimension_overlap(c1[1],c2[1]),dimension_overlap(c1[2],c2[2]))\n",
    "\n",
    "def dimension_size(dimension):\n",
    "    return dimension[1]+1 - dimension[0]\n",
    "\n",
    "def size(cuboid):\n",
    "    if cuboid[0] is None or cuboid[1] is None or cuboid[2] is None:\n",
    "        return 0\n",
    "    return dimension_size(cuboid[0]) * dimension_size(cuboid[1]) * dimension_size(cuboid[2])\n",
    "\n",
    "def cut_dimension(c,ol):\n",
    "    if c[0] == ol[0] and c[1] == ol[1]:\n",
    "        return [ol]\n",
    "    if ol[0] == c[0] and ol[1] < c[1]:\n",
    "        return [ol,(ol[1]+1,c[1])]\n",
    "    if ol[1] == c[1] and ol[0] > c[0]:\n",
    "        return [(c[0],ol[0]-1),ol]\n",
    "    if ol[0] > c[0] and ol[1] < c[1]:\n",
    "        return [(c[0],ol[0]-1),ol,(ol[1]+1,c[1])]\n",
    "\n",
    "def cut_dimensions(c,ol):\n",
    "    return (cut_dimension(c[0],ol[0]),cut_dimension(c[1],ol[1]),cut_dimension(c[2],ol[2]))\n",
    "\n",
    "def pieces(x_cut,y_cut,z_cut):\n",
    "    return [(x,y,z) for x in x_cut for y in y_cut for z in z_cut]\n",
    "\n",
    "def cut(c,ol):\n",
    "    if size(ol) == 0:\n",
    "        return c\n",
    "    (x_cut,y_cut,z_cut) = cut_dimensions(c,ol)\n",
    "    return pieces(x_cut,y_cut,z_cut)\n",
    "    \n",
    "def switch(cuboids,new,turn_on):\n",
    "    new_cuboids = set()\n",
    "    overlaps = []\n",
    "    for c in cuboids:\n",
    "        ol = overlap(new,c)\n",
    "        if size(ol) != 0:\n",
    "            overlaps.append(ol)\n",
    "            new_cuboids.update(cut(c,ol))\n",
    "            new_cuboids.remove(ol)\n",
    "        else:\n",
    "            new_cuboids.add(c)\n",
    "    if turn_on:\n",
    "        new_cuboids.add(new)\n",
    "    return new_cuboids\n",
    "\n",
    "def easy(cuboid):\n",
    "    return cuboid[0][0] in range(-50,51) and cuboid[0][1] in range(-50,51) and \\\n",
    "            cuboid[1][0] in range(-50,51) and cuboid[1][1] in range(-50,51) and \\\n",
    "            cuboid[2][0] in range(-50,51) and cuboid[2][1] in range(-50,51)\n",
    "    \n",
    "easy_steps = [step for step in steps if easy(step[0])]\n",
    "\n",
    "cuboids = set()\n",
    "for step in easy_steps:\n",
    "    cuboids = switch(cuboids,step[0],step[1])\n",
    "\n",
    "sum([size(c) for c in cuboids])"
   ]
  },
  {
   "cell_type": "markdown",
   "id": "3d0cfa9c",
   "metadata": {},
   "source": [
    "### Part 2"
   ]
  },
  {
   "cell_type": "code",
   "execution_count": 228,
   "id": "bf86e9b0",
   "metadata": {},
   "outputs": [
    {
     "data": {
      "text/plain": [
       "1304385553084863"
      ]
     },
     "execution_count": 228,
     "metadata": {},
     "output_type": "execute_result"
    }
   ],
   "source": [
    "cuboids = set()\n",
    "for step in steps:\n",
    "    cuboids = switch(cuboids,step[0],step[1])\n",
    "\n",
    "sum([size(c) for c in cuboids])"
   ]
  },
  {
   "cell_type": "markdown",
   "id": "82c90620",
   "metadata": {},
   "source": [
    "## Day 23"
   ]
  },
  {
   "cell_type": "markdown",
   "id": "59facf09",
   "metadata": {},
   "source": [
    "### Part 1"
   ]
  },
  {
   "cell_type": "code",
   "execution_count": 57,
   "id": "63c324c4",
   "metadata": {},
   "outputs": [
    {
     "data": {
      "text/plain": [
       "19167"
      ]
     },
     "execution_count": 57,
     "metadata": {},
     "output_type": "execute_result"
    }
   ],
   "source": [
    "with open('inputs/day23.txt') as f:\n",
    "    s = f.read()[:-1].split('\\n')\n",
    "    \n",
    "room1 = [s[2][3],s[3][3]]\n",
    "room2 = [s[2][5],s[3][5]]\n",
    "room3 = [s[2][7],s[3][7]]\n",
    "room4 = [s[2][9],s[3][9]]\n",
    "\n",
    "corridor = [None]*7\n",
    "\n",
    "distances = {1:{0:3,1:2,2:2,3:4,4:6,5:8,6:9},\n",
    "             2:{0:5,1:4,2:2,3:2,4:4,5:6,6:7},\n",
    "             3:{0:7,1:6,2:4,3:2,4:2,5:4,6:5},\n",
    "             4:{0:9,1:8,2:6,3:4,4:2,5:2,6:3}}\n",
    "\n",
    "def is_free(start,end):\n",
    "    return lambda corridor: len([i for i in range(start,end+1) if corridor[i] is not None]) == 0\n",
    "\n",
    "can_move_to = {1:{0: is_free(0,1),\n",
    "                  1: is_free(1,1),\n",
    "                  2: is_free(2,2),\n",
    "                  3: is_free(2,3),\n",
    "                  4: is_free(2,4),\n",
    "                  5: is_free(2,5),\n",
    "                  6: is_free(2,6)},\n",
    "               2:{0: is_free(0,2),\n",
    "                  1: is_free(1,2),\n",
    "                  2: is_free(2,2),\n",
    "                  3: is_free(3,3),\n",
    "                  4: is_free(3,4),\n",
    "                  5: is_free(3,5),\n",
    "                  6: is_free(3,6)},\n",
    "               3:{0: is_free(0,3),\n",
    "                  1: is_free(1,3),\n",
    "                  2: is_free(2,3),\n",
    "                  3: is_free(3,3),\n",
    "                  4: is_free(4,4),\n",
    "                  5: is_free(4,5),\n",
    "                  6: is_free(4,6)},\n",
    "               4:{0: is_free(0,4),\n",
    "                  1: is_free(1,4),\n",
    "                  2: is_free(2,4),\n",
    "                  3: is_free(3,4),\n",
    "                  4: is_free(4,4),\n",
    "                  5: is_free(5,5),\n",
    "                  6: is_free(5,6)}}\n",
    "\n",
    "tenants = {1:'A',2:'B',3:'C',4:'D'}\n",
    "homes = {'A':1,'B':2,'C':3,'D':4}\n",
    "cost = {'A':1,'B':10,'C':100,'D':1000}\n",
    "room_size = 2\n",
    "limit = 19187 # This is a 1st attempt pen-and-paper solution\n",
    "\n",
    "def room_free(agent,room_no,corridor,room,corridor_pos):\n",
    "    fake_corridor = corridor.copy()\n",
    "    fake_corridor[corridor_pos] = None\n",
    "    return agent == tenants[room_no] and \\\n",
    "            len([True for present in room if present != tenants[room_no]]) == 0 and \\\n",
    "            can_move_to[room_no][corridor_pos](fake_corridor)\n",
    "\n",
    "def room_done(room_no,room):\n",
    "    return len([tenant for tenant in room if tenant != tenants[room_no]]) == 0\n",
    "\n",
    "def to_state(corridor,room1,room2,room3,room4):\n",
    "    return tuple([tuple(corridor),tuple(room1),tuple(room2),tuple(room3),tuple(room4)])\n",
    "\n",
    "def to_list(state):\n",
    "    return tuple([list(x) for x in state])\n",
    "\n",
    "def move_out(corridor,room,corridor_pos,room_no):\n",
    "    new_corridor = corridor.copy()\n",
    "    new_corridor[corridor_pos] = room[0]\n",
    "    new_room = room.copy()\n",
    "    new_room = new_room[1:]\n",
    "    move_cost = cost[room[0]]*distances[room_no][corridor_pos]\n",
    "    adjust_cost = sum([cost[tenant] for tenant in room[1:]])\n",
    "    return new_corridor,new_room,move_cost+adjust_cost\n",
    "    \n",
    "def move_in(corridor,room,corridor_pos,room_no):\n",
    "    new_corridor = corridor.copy()\n",
    "    new_corridor[corridor_pos] = None\n",
    "    new_room = room.copy()\n",
    "    new_room.append(corridor[corridor_pos])\n",
    "    move_cost = cost[corridor[corridor_pos]]*distances[room_no][corridor_pos]\n",
    "    adjust_cost = sum([cost[tenant] for tenant in room])\n",
    "    return new_corridor,new_room,move_cost+adjust_cost\n",
    "\n",
    "def next_states_from_corridor(corridor,rooms,base_cost):\n",
    "    next_states = {}\n",
    "    for i in range(len(corridor)):\n",
    "        if corridor[i] is not None:\n",
    "            room_no = homes[corridor[i]]\n",
    "            if room_free(corridor[i],room_no,corridor,rooms[room_no],i):\n",
    "                new_corridor,new_room,move_cost = move_in(corridor,rooms[room_no],i,room_no)\n",
    "                new_rooms = rooms.copy()\n",
    "                new_rooms[room_no] = new_room\n",
    "                next_state =  to_state(new_corridor,new_rooms[1],new_rooms[2],new_rooms[3],new_rooms[4])\n",
    "                next_states[next_state] = base_cost + move_cost\n",
    "    return next_states\n",
    "    \n",
    "def next_states_from_room(corridor,rooms,room_no,base_cost):\n",
    "    next_states = {}\n",
    "    room = rooms[room_no]\n",
    "    if len(room) > 0:\n",
    "        for i in range(len(corridor)):\n",
    "            if can_move_to[room_no][i](corridor):\n",
    "                new_corridor,new_room,move_cost = move_out(corridor,room,i,room_no)\n",
    "                new_rooms = rooms.copy()\n",
    "                new_rooms[room_no] = new_room\n",
    "                next_state =  to_state(new_corridor,new_rooms[1],new_rooms[2],new_rooms[3],new_rooms[4])\n",
    "                next_states[next_state] = base_cost + move_cost\n",
    "    return next_states\n",
    "\n",
    "def next_states(state):\n",
    "    corridor,room1,room2,room3,room4 = to_list(state)\n",
    "    base_cost = states[state]\n",
    "    if base_cost > limit:\n",
    "        return {}\n",
    "    rooms = {1:room1,2:room2,3:room3,4:room4}\n",
    "    in_corridor = [i for i in range(len(corridor)) if corridor[i] is not None]\n",
    "    rooms_left = {room_no:rooms[room_no] for room_no in rooms if not room_done(room_no,rooms[room_no])}\n",
    "    if len(rooms_left) == 0 and len(in_corridor) == 0:\n",
    "        return {}\n",
    "    next_states = {}\n",
    "    corridor_states = next_states_from_corridor(corridor,rooms,base_cost)\n",
    "    for s in corridor_states:\n",
    "        if states.get(s,limit) > corridor_states[s]:\n",
    "            states[s] = corridor_states[s]\n",
    "            next_states[s] = states[s]\n",
    "    for room_no in rooms_left:\n",
    "        room_states = next_states_from_room(corridor,rooms,room_no,base_cost)\n",
    "        for s in room_states:\n",
    "            if states.get(s,limit) > room_states[s]:\n",
    "                states[s] = room_states[s]\n",
    "                next_states[s] = states[s]\n",
    "    return next_states\n",
    "\n",
    "def traverse_states(start):\n",
    "    nxt = next_states(start)\n",
    "    for s in nxt:\n",
    "        traverse_states(s)\n",
    "\n",
    "start = to_state(corridor,room1,room2,room3,room4)\n",
    "states = {start:0}\n",
    "finish = to_state(corridor,('A','A'),('B','B'),('C','C'),('D','D'))\n",
    "\n",
    "traverse_states(start)\n",
    "        \n",
    "states[finish]"
   ]
  },
  {
   "cell_type": "markdown",
   "id": "b767bdd9",
   "metadata": {},
   "source": [
    "### Part 2"
   ]
  },
  {
   "cell_type": "code",
   "execution_count": 62,
   "id": "2dba20c9",
   "metadata": {},
   "outputs": [
    {
     "data": {
      "text/plain": [
       "47665"
      ]
     },
     "execution_count": 62,
     "metadata": {},
     "output_type": "execute_result"
    }
   ],
   "source": [
    "room_size = 4\n",
    "limit = 47711 # This is a 1st attempt pen-and-paper solution\n",
    "\n",
    "room1_big = [room1[0],'D','D',room1[1]]\n",
    "room2_big = [room2[0],'C','B',room2[1]]\n",
    "room3_big = [room3[0],'B','A',room3[1]]\n",
    "room4_big = [room4[0],'A','C',room4[1]]\n",
    "\n",
    "start = to_state(corridor,room1_big,room2_big,room3_big,room4_big)\n",
    "states = {start:0}\n",
    "finish = to_state(corridor,('A','A','A','A'),('B','B','B','B'),('C','C','C','C'),('D','D','D','D'))\n",
    "\n",
    "traverse_states(start)\n",
    "\n",
    "states[finish]"
   ]
  },
  {
   "cell_type": "markdown",
   "id": "f08e0d12",
   "metadata": {},
   "source": [
    "## Day 24"
   ]
  },
  {
   "cell_type": "markdown",
   "id": "665e77de",
   "metadata": {},
   "source": [
    "### Part 1"
   ]
  },
  {
   "cell_type": "code",
   "execution_count": 67,
   "id": "8d953cd2",
   "metadata": {},
   "outputs": [
    {
     "data": {
      "text/plain": [
       "29989297949519"
      ]
     },
     "execution_count": 67,
     "metadata": {},
     "output_type": "execute_result"
    }
   ],
   "source": [
    "with open('inputs/day24.txt') as f:\n",
    "    s = f.read()[:-1].split('inp w')[1:]\n",
    "    \n",
    "digits = [inst.split('\\n')[1:-1] for inst in s]\n",
    "\n",
    "def extract_numbers(inst):\n",
    "    div = int(inst[3].split(' ')[-1]) != 1\n",
    "    diff = int(inst[4].split(' ')[-1])\n",
    "    add = int(inst[14].split(' ')[-1])\n",
    "    return div,diff,add\n",
    "\n",
    "def process_digit(digit_no,present,div,diff,add,limits):\n",
    "    if len(present) != 0:\n",
    "        x = [present[-1][0],present[-1][1]+diff]\n",
    "    else:\n",
    "        x = [-1,diff]\n",
    "    if div:\n",
    "        present = present[:-1]\n",
    "    if abs(x[1]) < 9:\n",
    "        for i in range(1,10):\n",
    "            if i+x[1] in range(1,10):\n",
    "                limits[x[0]].append(i)\n",
    "                limits[digit_no].append(i+x[1])\n",
    "    else:\n",
    "        present.append([digit_no,add])\n",
    "    return present,limits\n",
    "\n",
    "instructions = [extract_numbers(inst) for inst in digits]\n",
    "limits = {i:[] for i in range(0,14)}\n",
    "present = []\n",
    "\n",
    "i = 0\n",
    "for div,diff,add in instructions:\n",
    "    present,limits = process_digit(i,present,div,diff,add,limits)\n",
    "    i += 1\n",
    "\n",
    "result = []\n",
    "for i in range(0,14):\n",
    "    result.append(str(limits[i][-1]))\n",
    "    \n",
    "int(''.join(result))"
   ]
  },
  {
   "cell_type": "markdown",
   "id": "6597b6dc",
   "metadata": {},
   "source": [
    "### Part 2"
   ]
  },
  {
   "cell_type": "code",
   "execution_count": 68,
   "id": "cc23dd1e",
   "metadata": {},
   "outputs": [
    {
     "data": {
      "text/plain": [
       "19518121316118"
      ]
     },
     "execution_count": 68,
     "metadata": {},
     "output_type": "execute_result"
    }
   ],
   "source": [
    "result = []\n",
    "for i in range(0,14):\n",
    "    result.append(str(limits[i][0]))\n",
    "    \n",
    "int(''.join(result))"
   ]
  }
 ],
 "metadata": {
  "kernelspec": {
   "display_name": "Python 3 (ipykernel)",
   "language": "python",
   "name": "python3"
  },
  "language_info": {
   "codemirror_mode": {
    "name": "ipython",
    "version": 3
   },
   "file_extension": ".py",
   "mimetype": "text/x-python",
   "name": "python",
   "nbconvert_exporter": "python",
   "pygments_lexer": "ipython3",
   "version": "3.9.7"
  }
 },
 "nbformat": 4,
 "nbformat_minor": 5
}
