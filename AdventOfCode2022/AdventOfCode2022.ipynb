{
 "cells": [
  {
   "cell_type": "markdown",
   "id": "4408f968",
   "metadata": {},
   "source": [
    "# Advent of Code 2022"
   ]
  },
  {
   "cell_type": "markdown",
   "id": "8a37027a",
   "metadata": {},
   "source": [
    "## Day 1"
   ]
  },
  {
   "cell_type": "markdown",
   "id": "d2e50a20",
   "metadata": {},
   "source": [
    "### Part 1"
   ]
  },
  {
   "cell_type": "code",
   "execution_count": 8,
   "id": "854900e8",
   "metadata": {},
   "outputs": [
    {
     "data": {
      "text/plain": [
       "65912"
      ]
     },
     "execution_count": 8,
     "metadata": {},
     "output_type": "execute_result"
    }
   ],
   "source": [
    "with open('inputs/day1.txt') as f:\n",
    "    s = f.read()[:-1]\n",
    "    \n",
    "calories = [sum([int(n) for n in elf.split('\\n')]) for elf in s.split('\\n\\n')]\n",
    "max(calories)"
   ]
  },
  {
   "cell_type": "markdown",
   "id": "5fb8c9dd",
   "metadata": {},
   "source": [
    "### Part 2"
   ]
  },
  {
   "cell_type": "code",
   "execution_count": 13,
   "id": "bb0e5fb1",
   "metadata": {},
   "outputs": [
    {
     "data": {
      "text/plain": [
       "195625"
      ]
     },
     "execution_count": 13,
     "metadata": {},
     "output_type": "execute_result"
    }
   ],
   "source": [
    "calories.sort()\n",
    "sum(calories[-3:])"
   ]
  },
  {
   "cell_type": "markdown",
   "id": "edc6c8cb",
   "metadata": {},
   "source": [
    "## Day 2"
   ]
  },
  {
   "cell_type": "markdown",
   "id": "68701d92",
   "metadata": {},
   "source": [
    "### Part 1"
   ]
  },
  {
   "cell_type": "code",
   "execution_count": 6,
   "id": "d36fde62",
   "metadata": {},
   "outputs": [
    {
     "data": {
      "text/plain": [
       "12740"
      ]
     },
     "execution_count": 6,
     "metadata": {},
     "output_type": "execute_result"
    }
   ],
   "source": [
    "with open('inputs/day2.txt') as f:\n",
    "    s = f.read()[:-1]\n",
    "\n",
    "rounds = [tuple(r.split(' ')) for r in s.split('\\n')]\n",
    "\n",
    "scores = {('A','X'): 3+1,\n",
    "          ('A','Y'): 6+2,\n",
    "          ('A','Z'): 0+3, \n",
    "          ('B','X'): 0+1, \n",
    "          ('B','Y'): 3+2, \n",
    "          ('B','Z'): 6+3, \n",
    "          ('C','X'): 6+1, \n",
    "          ('C','Y'): 0+2, \n",
    "          ('C','Z'): 3+3}\n",
    "\n",
    "sum([scores[r] for r in rounds])"
   ]
  },
  {
   "cell_type": "markdown",
   "id": "7fcade6a",
   "metadata": {},
   "source": [
    "## Part 2"
   ]
  },
  {
   "cell_type": "code",
   "execution_count": 7,
   "id": "1499c7c3",
   "metadata": {},
   "outputs": [
    {
     "data": {
      "text/plain": [
       "11980"
      ]
     },
     "execution_count": 7,
     "metadata": {},
     "output_type": "execute_result"
    }
   ],
   "source": [
    "scores = {('A','X'): 0+3,\n",
    "          ('A','Y'): 3+1,\n",
    "          ('A','Z'): 6+2, \n",
    "          ('B','X'): 0+1, \n",
    "          ('B','Y'): 3+2, \n",
    "          ('B','Z'): 6+3, \n",
    "          ('C','X'): 0+2, \n",
    "          ('C','Y'): 3+3, \n",
    "          ('C','Z'): 6+1}\n",
    "\n",
    "sum([scores[r] for r in rounds])"
   ]
  }
 ],
 "metadata": {
  "kernelspec": {
   "display_name": "Python 3 (ipykernel)",
   "language": "python",
   "name": "python3"
  },
  "language_info": {
   "codemirror_mode": {
    "name": "ipython",
    "version": 3
   },
   "file_extension": ".py",
   "mimetype": "text/x-python",
   "name": "python",
   "nbconvert_exporter": "python",
   "pygments_lexer": "ipython3",
   "version": "3.11.0"
  }
 },
 "nbformat": 4,
 "nbformat_minor": 5
}
