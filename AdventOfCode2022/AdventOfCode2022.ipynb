{
 "cells": [
  {
   "cell_type": "markdown",
   "id": "4408f968",
   "metadata": {},
   "source": [
    "# Advent of Code 2022"
   ]
  },
  {
   "cell_type": "markdown",
   "id": "8a37027a",
   "metadata": {},
   "source": [
    "## Day 1"
   ]
  },
  {
   "cell_type": "markdown",
   "id": "d2e50a20",
   "metadata": {},
   "source": [
    "### Part 1"
   ]
  },
  {
   "cell_type": "code",
   "execution_count": 8,
   "id": "854900e8",
   "metadata": {},
   "outputs": [
    {
     "data": {
      "text/plain": [
       "65912"
      ]
     },
     "execution_count": 8,
     "metadata": {},
     "output_type": "execute_result"
    }
   ],
   "source": [
    "with open('inputs/day1.txt') as f:\n",
    "    s = f.read()[:-1]\n",
    "    \n",
    "calories = [sum([int(n) for n in elf.split('\\n')]) for elf in s.split('\\n\\n')]\n",
    "max(calories)"
   ]
  },
  {
   "cell_type": "markdown",
   "id": "5fb8c9dd",
   "metadata": {},
   "source": [
    "### Part 2"
   ]
  },
  {
   "cell_type": "code",
   "execution_count": 13,
   "id": "bb0e5fb1",
   "metadata": {},
   "outputs": [
    {
     "data": {
      "text/plain": [
       "195625"
      ]
     },
     "execution_count": 13,
     "metadata": {},
     "output_type": "execute_result"
    }
   ],
   "source": [
    "calories.sort()\n",
    "sum(calories[-3:])"
   ]
  },
  {
   "cell_type": "markdown",
   "id": "edc6c8cb",
   "metadata": {},
   "source": [
    "## Day 2"
   ]
  },
  {
   "cell_type": "markdown",
   "id": "68701d92",
   "metadata": {},
   "source": [
    "### Part 1"
   ]
  },
  {
   "cell_type": "code",
   "execution_count": 6,
   "id": "d36fde62",
   "metadata": {},
   "outputs": [
    {
     "data": {
      "text/plain": [
       "12740"
      ]
     },
     "execution_count": 6,
     "metadata": {},
     "output_type": "execute_result"
    }
   ],
   "source": [
    "with open('inputs/day2.txt') as f:\n",
    "    s = f.read()[:-1]\n",
    "\n",
    "rounds = [tuple(r.split(' ')) for r in s.split('\\n')]\n",
    "\n",
    "scores = {('A','X'): 3+1,\n",
    "          ('A','Y'): 6+2,\n",
    "          ('A','Z'): 0+3, \n",
    "          ('B','X'): 0+1, \n",
    "          ('B','Y'): 3+2, \n",
    "          ('B','Z'): 6+3, \n",
    "          ('C','X'): 6+1, \n",
    "          ('C','Y'): 0+2, \n",
    "          ('C','Z'): 3+3}\n",
    "\n",
    "sum([scores[r] for r in rounds])"
   ]
  },
  {
   "cell_type": "markdown",
   "id": "7fcade6a",
   "metadata": {},
   "source": [
    "## Part 2"
   ]
  },
  {
   "cell_type": "code",
   "execution_count": 7,
   "id": "1499c7c3",
   "metadata": {},
   "outputs": [
    {
     "data": {
      "text/plain": [
       "11980"
      ]
     },
     "execution_count": 7,
     "metadata": {},
     "output_type": "execute_result"
    }
   ],
   "source": [
    "scores = {('A','X'): 0+3,\n",
    "          ('A','Y'): 3+1,\n",
    "          ('A','Z'): 6+2, \n",
    "          ('B','X'): 0+1, \n",
    "          ('B','Y'): 3+2, \n",
    "          ('B','Z'): 6+3, \n",
    "          ('C','X'): 0+2, \n",
    "          ('C','Y'): 3+3, \n",
    "          ('C','Z'): 6+1}\n",
    "\n",
    "sum([scores[r] for r in rounds])"
   ]
  },
  {
   "cell_type": "markdown",
   "id": "e6d00082",
   "metadata": {},
   "source": [
    "## Day 3"
   ]
  },
  {
   "cell_type": "markdown",
   "id": "d674ebca",
   "metadata": {},
   "source": [
    "### Part 1"
   ]
  },
  {
   "cell_type": "code",
   "execution_count": 28,
   "id": "d248e267",
   "metadata": {},
   "outputs": [
    {
     "data": {
      "text/plain": [
       "7878"
      ]
     },
     "execution_count": 28,
     "metadata": {},
     "output_type": "execute_result"
    }
   ],
   "source": [
    "with open('inputs/day3.txt') as f:\n",
    "    s = f.read()[:-1]\n",
    "\n",
    "def intersection(rucksack):\n",
    "    (c0,c1) = rucksack\n",
    "    for item in c0:\n",
    "        if item in c1:\n",
    "            return item\n",
    "        \n",
    "def priority(item):\n",
    "    o = ord(item)\n",
    "    if o > 90:\n",
    "        return o-96\n",
    "    return o-38\n",
    "\n",
    "rucksacks = [r for r in s.split('\\n')]        \n",
    "compartments = [(rucksack[:len(rucksack)//2], rucksack[len(rucksack)//2:]) for rucksack in rucksacks]        \n",
    "items = [intersection(r) for r in compartments]\n",
    "priorities = [priority(i) for i in items]\n",
    "\n",
    "sum(priorities)"
   ]
  },
  {
   "cell_type": "markdown",
   "id": "7bcff012",
   "metadata": {},
   "source": [
    "### Part 2"
   ]
  },
  {
   "cell_type": "code",
   "execution_count": 42,
   "id": "61e10e2c",
   "metadata": {},
   "outputs": [
    {
     "data": {
      "text/plain": [
       "2760"
      ]
     },
     "execution_count": 42,
     "metadata": {},
     "output_type": "execute_result"
    }
   ],
   "source": [
    "groups = [rucksacks[i*3:i*3+3] for i in range(len(rucksacks)//3)]\n",
    "\n",
    "def intersection_3(group):\n",
    "    [r0,r1,r2] = group\n",
    "    for item in r0:\n",
    "        if item in r1 and item in r2:\n",
    "            return item\n",
    "\n",
    "badges = [intersection_3(r) for r in groups]\n",
    "priorities = [priority(i) for i in badges]\n",
    "\n",
    "sum(priorities)"
   ]
  },
  {
   "cell_type": "markdown",
   "id": "5fddcff8",
   "metadata": {},
   "source": [
    "## Day 4"
   ]
  },
  {
   "cell_type": "markdown",
   "id": "e2d46fe5",
   "metadata": {},
   "source": [
    "### Part 1"
   ]
  },
  {
   "cell_type": "code",
   "execution_count": 23,
   "id": "324fe507",
   "metadata": {},
   "outputs": [
    {
     "data": {
      "text/plain": [
       "494"
      ]
     },
     "execution_count": 23,
     "metadata": {},
     "output_type": "execute_result"
    }
   ],
   "source": [
    "with open('inputs/day4.txt') as f:\n",
    "    s = f.read()[:-1]\n",
    "    \n",
    "pairs = [tuple(tuple(int(i) for i in elf.split('-')) for elf in pair.split(',')) for pair in s.split('\\n')]\n",
    "\n",
    "def contains(pair):\n",
    "    (elf0,elf1) = pair\n",
    "    return (elf0[0] <= elf1[0] and elf0[1] >= elf1[1]) or (elf1[0] <= elf0[0] and elf1[1] >= elf0[1])\n",
    "\n",
    "len([p for p in pairs if contains(p)])"
   ]
  },
  {
   "cell_type": "markdown",
   "id": "d521f36f",
   "metadata": {},
   "source": [
    "### Part 2"
   ]
  },
  {
   "cell_type": "code",
   "execution_count": 24,
   "id": "b6e7e4b5",
   "metadata": {},
   "outputs": [
    {
     "data": {
      "text/plain": [
       "833"
      ]
     },
     "execution_count": 24,
     "metadata": {},
     "output_type": "execute_result"
    }
   ],
   "source": [
    "def overlap(pair):\n",
    "    (elf0,elf1) = pair\n",
    "    return not (elf0[1] < elf1[0] or elf1[1] < elf0[0])\n",
    "\n",
    "len([p for p in pairs if overlap(p)])"
   ]
  }
 ],
 "metadata": {
  "kernelspec": {
   "display_name": "Python 3 (ipykernel)",
   "language": "python",
   "name": "python3"
  },
  "language_info": {
   "codemirror_mode": {
    "name": "ipython",
    "version": 3
   },
   "file_extension": ".py",
   "mimetype": "text/x-python",
   "name": "python",
   "nbconvert_exporter": "python",
   "pygments_lexer": "ipython3",
   "version": "3.11.0"
  }
 },
 "nbformat": 4,
 "nbformat_minor": 5
}
