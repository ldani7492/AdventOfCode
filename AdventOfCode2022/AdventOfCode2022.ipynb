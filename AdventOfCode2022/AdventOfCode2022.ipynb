{
 "cells": [
  {
   "cell_type": "markdown",
   "id": "4408f968",
   "metadata": {},
   "source": [
    "# Advent of Code 2022"
   ]
  },
  {
   "cell_type": "markdown",
   "id": "8a37027a",
   "metadata": {},
   "source": [
    "## Day 1"
   ]
  },
  {
   "cell_type": "markdown",
   "id": "d2e50a20",
   "metadata": {},
   "source": [
    "### Part 1"
   ]
  },
  {
   "cell_type": "code",
   "execution_count": 8,
   "id": "854900e8",
   "metadata": {},
   "outputs": [
    {
     "data": {
      "text/plain": [
       "65912"
      ]
     },
     "execution_count": 8,
     "metadata": {},
     "output_type": "execute_result"
    }
   ],
   "source": [
    "with open('inputs/day1.txt') as f:\n",
    "    s = f.read()[:-1]\n",
    "    \n",
    "calories = [sum([int(n) for n in elf.split('\\n')]) for elf in s.split('\\n\\n')]\n",
    "max(calories)"
   ]
  },
  {
   "cell_type": "markdown",
   "id": "5fb8c9dd",
   "metadata": {},
   "source": [
    "### Part 2"
   ]
  },
  {
   "cell_type": "code",
   "execution_count": 13,
   "id": "bb0e5fb1",
   "metadata": {},
   "outputs": [
    {
     "data": {
      "text/plain": [
       "195625"
      ]
     },
     "execution_count": 13,
     "metadata": {},
     "output_type": "execute_result"
    }
   ],
   "source": [
    "calories.sort()\n",
    "sum(calories[-3:])"
   ]
  },
  {
   "cell_type": "markdown",
   "id": "edc6c8cb",
   "metadata": {},
   "source": [
    "## Day 2"
   ]
  },
  {
   "cell_type": "markdown",
   "id": "68701d92",
   "metadata": {},
   "source": [
    "### Part 1"
   ]
  },
  {
   "cell_type": "code",
   "execution_count": 6,
   "id": "d36fde62",
   "metadata": {},
   "outputs": [
    {
     "data": {
      "text/plain": [
       "12740"
      ]
     },
     "execution_count": 6,
     "metadata": {},
     "output_type": "execute_result"
    }
   ],
   "source": [
    "with open('inputs/day2.txt') as f:\n",
    "    s = f.read()[:-1]\n",
    "\n",
    "rounds = [tuple(r.split(' ')) for r in s.split('\\n')]\n",
    "\n",
    "scores = {('A','X'): 3+1,\n",
    "          ('A','Y'): 6+2,\n",
    "          ('A','Z'): 0+3, \n",
    "          ('B','X'): 0+1, \n",
    "          ('B','Y'): 3+2, \n",
    "          ('B','Z'): 6+3, \n",
    "          ('C','X'): 6+1, \n",
    "          ('C','Y'): 0+2, \n",
    "          ('C','Z'): 3+3}\n",
    "\n",
    "sum([scores[r] for r in rounds])"
   ]
  },
  {
   "cell_type": "markdown",
   "id": "7fcade6a",
   "metadata": {},
   "source": [
    "## Part 2"
   ]
  },
  {
   "cell_type": "code",
   "execution_count": 7,
   "id": "1499c7c3",
   "metadata": {},
   "outputs": [
    {
     "data": {
      "text/plain": [
       "11980"
      ]
     },
     "execution_count": 7,
     "metadata": {},
     "output_type": "execute_result"
    }
   ],
   "source": [
    "scores = {('A','X'): 0+3,\n",
    "          ('A','Y'): 3+1,\n",
    "          ('A','Z'): 6+2, \n",
    "          ('B','X'): 0+1, \n",
    "          ('B','Y'): 3+2, \n",
    "          ('B','Z'): 6+3, \n",
    "          ('C','X'): 0+2, \n",
    "          ('C','Y'): 3+3, \n",
    "          ('C','Z'): 6+1}\n",
    "\n",
    "sum([scores[r] for r in rounds])"
   ]
  },
  {
   "cell_type": "markdown",
   "id": "e6d00082",
   "metadata": {},
   "source": [
    "## Day 3"
   ]
  },
  {
   "cell_type": "markdown",
   "id": "d674ebca",
   "metadata": {},
   "source": [
    "### Part 1"
   ]
  },
  {
   "cell_type": "code",
   "execution_count": 28,
   "id": "d248e267",
   "metadata": {},
   "outputs": [
    {
     "data": {
      "text/plain": [
       "7878"
      ]
     },
     "execution_count": 28,
     "metadata": {},
     "output_type": "execute_result"
    }
   ],
   "source": [
    "with open('inputs/day3.txt') as f:\n",
    "    s = f.read()[:-1]\n",
    "\n",
    "def intersection(rucksack):\n",
    "    (c0,c1) = rucksack\n",
    "    for item in c0:\n",
    "        if item in c1:\n",
    "            return item\n",
    "        \n",
    "def priority(item):\n",
    "    o = ord(item)\n",
    "    if o > 90:\n",
    "        return o-96\n",
    "    return o-38\n",
    "\n",
    "rucksacks = [r for r in s.split('\\n')]        \n",
    "compartments = [(rucksack[:len(rucksack)//2], rucksack[len(rucksack)//2:]) for rucksack in rucksacks]        \n",
    "items = [intersection(r) for r in compartments]\n",
    "priorities = [priority(i) for i in items]\n",
    "\n",
    "sum(priorities)"
   ]
  },
  {
   "cell_type": "markdown",
   "id": "7bcff012",
   "metadata": {},
   "source": [
    "### Part 2"
   ]
  },
  {
   "cell_type": "code",
   "execution_count": 42,
   "id": "61e10e2c",
   "metadata": {},
   "outputs": [
    {
     "data": {
      "text/plain": [
       "2760"
      ]
     },
     "execution_count": 42,
     "metadata": {},
     "output_type": "execute_result"
    }
   ],
   "source": [
    "groups = [rucksacks[i*3:i*3+3] for i in range(len(rucksacks)//3)]\n",
    "\n",
    "def intersection_3(group):\n",
    "    [r0,r1,r2] = group\n",
    "    for item in r0:\n",
    "        if item in r1 and item in r2:\n",
    "            return item\n",
    "\n",
    "badges = [intersection_3(r) for r in groups]\n",
    "priorities = [priority(i) for i in badges]\n",
    "\n",
    "sum(priorities)"
   ]
  },
  {
   "cell_type": "markdown",
   "id": "5fddcff8",
   "metadata": {},
   "source": [
    "## Day 4"
   ]
  },
  {
   "cell_type": "markdown",
   "id": "e2d46fe5",
   "metadata": {},
   "source": [
    "### Part 1"
   ]
  },
  {
   "cell_type": "code",
   "execution_count": 23,
   "id": "324fe507",
   "metadata": {},
   "outputs": [
    {
     "data": {
      "text/plain": [
       "494"
      ]
     },
     "execution_count": 23,
     "metadata": {},
     "output_type": "execute_result"
    }
   ],
   "source": [
    "with open('inputs/day4.txt') as f:\n",
    "    s = f.read()[:-1]\n",
    "    \n",
    "pairs = [tuple(tuple(int(i) for i in elf.split('-')) for elf in pair.split(',')) for pair in s.split('\\n')]\n",
    "\n",
    "def contains(pair):\n",
    "    (elf0,elf1) = pair\n",
    "    return (elf0[0] <= elf1[0] and elf0[1] >= elf1[1]) or (elf1[0] <= elf0[0] and elf1[1] >= elf0[1])\n",
    "\n",
    "len([p for p in pairs if contains(p)])"
   ]
  },
  {
   "cell_type": "markdown",
   "id": "d521f36f",
   "metadata": {},
   "source": [
    "### Part 2"
   ]
  },
  {
   "cell_type": "code",
   "execution_count": 24,
   "id": "b6e7e4b5",
   "metadata": {},
   "outputs": [
    {
     "data": {
      "text/plain": [
       "833"
      ]
     },
     "execution_count": 24,
     "metadata": {},
     "output_type": "execute_result"
    }
   ],
   "source": [
    "def overlap(pair):\n",
    "    (elf0,elf1) = pair\n",
    "    return not (elf0[1] < elf1[0] or elf1[1] < elf0[0])\n",
    "\n",
    "len([p for p in pairs if overlap(p)])"
   ]
  },
  {
   "cell_type": "markdown",
   "id": "44d952b2",
   "metadata": {},
   "source": [
    "## Day 5"
   ]
  },
  {
   "cell_type": "markdown",
   "id": "2af74012",
   "metadata": {},
   "source": [
    "### Part 1"
   ]
  },
  {
   "cell_type": "code",
   "execution_count": 54,
   "id": "e450be85",
   "metadata": {},
   "outputs": [
    {
     "data": {
      "text/plain": [
       "'ZBDRNPMVH'"
      ]
     },
     "execution_count": 54,
     "metadata": {},
     "output_type": "execute_result"
    }
   ],
   "source": [
    "with open('inputs/day5.txt') as f:\n",
    "    s = f.read()[:-1]\n",
    "    \n",
    "init = s.split('\\n\\n')[0].replace('[','').replace(']','').replace('  ', ' ').split('\\n')[:-1]\n",
    "init = [''.join([init[j][i] for j in range(len(init))]).strip()[::-1] for i in range(len(init[0]))][::2]\n",
    "stacks = [list(stack) for stack in init]\n",
    "\n",
    "inst = s.split('\\n\\n')[1].replace('move ','').replace(' from ',',').replace(' to ',',').split('\\n')\n",
    "inst = [tuple(int(n) for n in i.split(',')) for i in inst]\n",
    "\n",
    "def restack(stacks,inst):\n",
    "    (n,s,t) = inst\n",
    "    s -= 1\n",
    "    t -= 1\n",
    "    n = min(n,len(stacks[s]))\n",
    "    for i in range(n):\n",
    "        stacks[t].append(stacks[s].pop())\n",
    "    return stacks\n",
    "\n",
    "for i in inst:\n",
    "    stacks = restack(stacks, i)\n",
    "    \n",
    "''.join([s[-1] for s in stacks])"
   ]
  },
  {
   "cell_type": "markdown",
   "id": "2099ee8e",
   "metadata": {},
   "source": [
    "### Part 2"
   ]
  },
  {
   "cell_type": "code",
   "execution_count": 66,
   "id": "78395097",
   "metadata": {},
   "outputs": [
    {
     "data": {
      "text/plain": [
       "'WDLPFNNNB'"
      ]
     },
     "execution_count": 66,
     "metadata": {},
     "output_type": "execute_result"
    }
   ],
   "source": [
    "stacks = [list(stack) for stack in init]\n",
    "\n",
    "def restack(stacks,inst):\n",
    "    (n,s,t) = inst\n",
    "    s -= 1\n",
    "    t -= 1\n",
    "    n = min(n,len(stacks[s]))\n",
    "    stacks[t].extend(stacks[s][-n:])\n",
    "    stacks[s] = stacks[s][:-n]\n",
    "    return stacks\n",
    "\n",
    "for i in inst:\n",
    "    stacks = restack(stacks, i)\n",
    "    \n",
    "''.join([s[-1] for s in stacks])"
   ]
  },
  {
   "cell_type": "markdown",
   "id": "aa0a6c5f",
   "metadata": {},
   "source": [
    "## Day 6"
   ]
  },
  {
   "cell_type": "markdown",
   "id": "486fed83",
   "metadata": {},
   "source": [
    "### Part 1"
   ]
  },
  {
   "cell_type": "code",
   "execution_count": 5,
   "id": "ec8795cd",
   "metadata": {},
   "outputs": [
    {
     "data": {
      "text/plain": [
       "1343"
      ]
     },
     "execution_count": 5,
     "metadata": {},
     "output_type": "execute_result"
    }
   ],
   "source": [
    "with open('inputs/day6.txt') as f:\n",
    "    s = f.read()[:-1]\n",
    "    \n",
    "def marker(string,l):\n",
    "    i = l\n",
    "    while len(set(string[i-l:i])) < l:\n",
    "        i += 1\n",
    "    return i\n",
    "\n",
    "marker(s,4)"
   ]
  },
  {
   "cell_type": "markdown",
   "id": "8a74a223",
   "metadata": {},
   "source": [
    "### Part 2"
   ]
  },
  {
   "cell_type": "code",
   "execution_count": 6,
   "id": "8d5d81aa",
   "metadata": {},
   "outputs": [
    {
     "data": {
      "text/plain": [
       "2193"
      ]
     },
     "execution_count": 6,
     "metadata": {},
     "output_type": "execute_result"
    }
   ],
   "source": [
    "marker(s,14)"
   ]
  },
  {
   "cell_type": "markdown",
   "id": "c2bf3814",
   "metadata": {},
   "source": [
    "## Day 7"
   ]
  },
  {
   "cell_type": "markdown",
   "id": "6a401bf2",
   "metadata": {},
   "source": [
    "### Part 1"
   ]
  },
  {
   "cell_type": "code",
   "execution_count": 23,
   "id": "bf6357f6",
   "metadata": {},
   "outputs": [
    {
     "data": {
      "text/plain": [
       "1644735"
      ]
     },
     "execution_count": 23,
     "metadata": {},
     "output_type": "execute_result"
    }
   ],
   "source": [
    "with open('inputs/day7.txt') as f:\n",
    "    s = f.read()[:-1].split('\\n')\n",
    "    \n",
    "current = []\n",
    "tree = dict()\n",
    "    \n",
    "for cmd in s:\n",
    "    current_path = tuple(current)\n",
    "    if current_path not in tree:\n",
    "        tree[current_path] = {'dir': [], 'file': []}\n",
    "    cmd = cmd.split(' ')\n",
    "    if cmd[0] == '$':\n",
    "        if cmd[1] == 'cd':\n",
    "            if cmd[2] == '/':\n",
    "                current = []\n",
    "            elif cmd[2] == '..':\n",
    "                current = current[:-1]\n",
    "            else:\n",
    "                current.append(cmd[2])\n",
    "    elif cmd[0] == 'dir':\n",
    "        tree[current_path]['dir'].append(cmd[1])\n",
    "    else:\n",
    "        tree[current_path]['file'].append((cmd[1], int(cmd[0])))\n",
    "\n",
    "def calc_size(tree, current):\n",
    "    current_path = tuple(current)\n",
    "    current_dir = tree[current_path]\n",
    "    if 'size' in current_dir:\n",
    "        return current_dir['size']\n",
    "    direct_size = sum([f[1] for f in current_dir['file']])\n",
    "    indirect_size = 0\n",
    "    for d in current_dir['dir']:\n",
    "        indirect_size += calc_size(tree, current + [d])\n",
    "    current_dir['size'] = direct_size + indirect_size\n",
    "    return current_dir['size']\n",
    "   \n",
    "calc_size(tree, [])\n",
    "\n",
    "sizes = {d: tree[d]['size'] for d in tree}\n",
    "sum([sizes[d] for d in sizes if sizes[d] <= 100000])"
   ]
  },
  {
   "cell_type": "markdown",
   "id": "aacd3001",
   "metadata": {},
   "source": [
    "### Part 2"
   ]
  },
  {
   "cell_type": "code",
   "execution_count": 34,
   "id": "5827df4c",
   "metadata": {},
   "outputs": [
    {
     "data": {
      "text/plain": [
       "1300850"
      ]
     },
     "execution_count": 34,
     "metadata": {},
     "output_type": "execute_result"
    }
   ],
   "source": [
    "total = 70000000\n",
    "required = 30000000\n",
    "available = 70000000 - sizes[()]\n",
    "target = required - available\n",
    "diffs = {d: sizes[d] - target for d in sizes if sizes[d] > target}\n",
    "delete = [d for d in diffs if diffs[d] == min(diffs.values())][0]\n",
    "sizes[delete]"
   ]
  },
  {
   "cell_type": "markdown",
   "id": "5d5176e7",
   "metadata": {},
   "source": [
    "## Day 8"
   ]
  },
  {
   "cell_type": "markdown",
   "id": "7f0b5d39",
   "metadata": {},
   "source": [
    "### Part 1"
   ]
  },
  {
   "cell_type": "code",
   "execution_count": 12,
   "id": "b02d2b1d",
   "metadata": {},
   "outputs": [
    {
     "data": {
      "text/plain": [
       "1827"
      ]
     },
     "execution_count": 12,
     "metadata": {},
     "output_type": "execute_result"
    }
   ],
   "source": [
    "with open('inputs/day8.txt') as f:\n",
    "    s = f.read()[:-1].split('\\n')\n",
    "    \n",
    "forest = [[int(i) for i in row] for row in s]\n",
    "visible = set()\n",
    "\n",
    "for y in range(len(forest)):\n",
    "    max_h = -1\n",
    "    count = 0\n",
    "    for x in range(len(forest[y])):\n",
    "        tree = forest[y][x]\n",
    "        if tree > max_h:\n",
    "            max_h = tree\n",
    "            visible.add((x,y))\n",
    "    \n",
    "for y in range(len(forest)):\n",
    "    max_h = -1\n",
    "    count = 0\n",
    "    for x in range(len(forest[y])-1,-1,-1):\n",
    "        tree = forest[y][x]\n",
    "        if tree > max_h:\n",
    "            max_h = tree\n",
    "            visible.add((x,y))\n",
    "            \n",
    "for x in range(len(forest[0])):\n",
    "    max_h = -1\n",
    "    count = 0\n",
    "    for y in range(len(forest)):\n",
    "        tree = forest[y][x]\n",
    "        if tree > max_h:\n",
    "            max_h = tree\n",
    "            visible.add((x,y))\n",
    "            \n",
    "for x in range(len(forest[0])):\n",
    "    max_h = -1\n",
    "    count = 0\n",
    "    for y in range(len(forest)-1,-1,-1):\n",
    "        tree = forest[y][x]\n",
    "        if tree > max_h:\n",
    "            max_h = tree\n",
    "            visible.add((x,y))\n",
    "            \n",
    "len(visible)"
   ]
  },
  {
   "cell_type": "markdown",
   "id": "6ef00387",
   "metadata": {},
   "source": [
    "### Part 2"
   ]
  },
  {
   "cell_type": "code",
   "execution_count": 22,
   "id": "81f7dec7",
   "metadata": {},
   "outputs": [
    {
     "data": {
      "text/plain": [
       "335580"
      ]
     },
     "execution_count": 22,
     "metadata": {},
     "output_type": "execute_result"
    }
   ],
   "source": [
    "def look_left(forest,x,y):\n",
    "    height = forest[y][x]\n",
    "    count = 0\n",
    "    i = x-1\n",
    "    while i >= 0 and forest[y][i] < height:\n",
    "        count += 1\n",
    "        i -= 1\n",
    "    if i >= 0:\n",
    "        count += 1\n",
    "    return count\n",
    "\n",
    "def look_right(forest,x,y):\n",
    "    height = forest[y][x]\n",
    "    count = 0\n",
    "    i = x+1\n",
    "    while i < len(forest[y]) and forest[y][i] < height:\n",
    "        count += 1\n",
    "        i += 1\n",
    "    if i < len(forest[y]):\n",
    "        count += 1\n",
    "    return count\n",
    "\n",
    "def look_up(forest,x,y):\n",
    "    height = forest[y][x]\n",
    "    count = 0\n",
    "    i = y-1\n",
    "    while i >= 0 and forest[i][x] < height:\n",
    "        count += 1\n",
    "        i -= 1\n",
    "    if i >= 0:\n",
    "        count += 1\n",
    "    return count\n",
    "\n",
    "def look_down(forest,x,y):\n",
    "    height = forest[y][x]\n",
    "    count = 0\n",
    "    i = y+1\n",
    "    while i < len(forest) and forest[i][x] < height:\n",
    "        count += 1\n",
    "        i += 1\n",
    "    if i < len(forest):\n",
    "        count += 1\n",
    "    return count\n",
    "\n",
    "def scenic_score(forest,x,y):\n",
    "    return look_left(forest,x,y)*look_right(forest,x,y)*look_up(forest,x,y)*look_down(forest,x,y)\n",
    "\n",
    "max_score = 0\n",
    "for y in range(len(forest)):\n",
    "    for x in range(len(forest[y])):\n",
    "        score = scenic_score(forest,x,y)\n",
    "        if score > max_score:\n",
    "            max_score = score\n",
    "            \n",
    "max_score"
   ]
  },
  {
   "cell_type": "markdown",
   "id": "ecf5b3b9",
   "metadata": {},
   "source": [
    "## Day 9"
   ]
  },
  {
   "cell_type": "markdown",
   "id": "390754ce",
   "metadata": {},
   "source": [
    "### Part 1"
   ]
  },
  {
   "cell_type": "code",
   "execution_count": 43,
   "id": "136c9f18",
   "metadata": {},
   "outputs": [
    {
     "data": {
      "text/plain": [
       "6498"
      ]
     },
     "execution_count": 43,
     "metadata": {},
     "output_type": "execute_result"
    }
   ],
   "source": [
    "with open('inputs/day9.txt') as f:\n",
    "    s = f.read()[:-1].split('\\n')\n",
    "    \n",
    "instructions = [(line.split(' ')[0], int(line.split(' ')[1])) for line in s]\n",
    "head = (0,0)\n",
    "tail = head\n",
    "visited = {head}\n",
    "\n",
    "def correct(head,tail):\n",
    "    (h_x,h_y) = head\n",
    "    (t_x,t_y) = tail\n",
    "    d_x = h_x - t_x\n",
    "    d_y = h_y - t_y\n",
    "    if abs(d_x) > 1 or abs(d_y) > 1:\n",
    "        if d_x != 0:\n",
    "            t_x += d_x//abs(d_x)\n",
    "        if d_y != 0:\n",
    "            t_y += d_y//abs(d_y)  \n",
    "    return (t_x,t_y)\n",
    "\n",
    "def move_head(head,direction):\n",
    "    dirs = {'R':(1,0),'L':(-1,0),'D':(0,1),'U':(0,-1)}\n",
    "    (d_x,d_y) = dirs[direction]\n",
    "    (h_x,h_y) = head\n",
    "    return (h_x+d_x, h_y+d_y)\n",
    "\n",
    "for (d,count) in instructions:\n",
    "    for i in range(count):\n",
    "        head = move_head(head,d)\n",
    "        tail = correct(head,tail)          \n",
    "        visited.add(tail)\n",
    "        \n",
    "len(visited)"
   ]
  },
  {
   "cell_type": "markdown",
   "id": "2dfeaa73",
   "metadata": {},
   "source": [
    "### Part 2"
   ]
  },
  {
   "cell_type": "code",
   "execution_count": 45,
   "id": "6319ff51",
   "metadata": {},
   "outputs": [
    {
     "data": {
      "text/plain": [
       "2531"
      ]
     },
     "execution_count": 45,
     "metadata": {},
     "output_type": "execute_result"
    }
   ],
   "source": [
    "visited = {(0,0)}\n",
    "knots = {i:(0,0) for i in range(10)}\n",
    "\n",
    "for (d,count) in instructions:\n",
    "    for i in range(count):\n",
    "        knots[0] = move_head(knots[0],d)\n",
    "        for i in range(1,10):\n",
    "            knots[i] = correct(knots[i-1],knots[i])          \n",
    "        visited.add(knots[9])\n",
    "        \n",
    "len(visited)"
   ]
  },
  {
   "cell_type": "markdown",
   "id": "a5a283df",
   "metadata": {},
   "source": [
    "## Day 10"
   ]
  },
  {
   "cell_type": "markdown",
   "id": "ed85e3a5",
   "metadata": {},
   "source": [
    "### Part 1"
   ]
  },
  {
   "cell_type": "code",
   "execution_count": 42,
   "id": "ccc367a0",
   "metadata": {},
   "outputs": [
    {
     "data": {
      "text/plain": [
       "12460"
      ]
     },
     "execution_count": 42,
     "metadata": {},
     "output_type": "execute_result"
    }
   ],
   "source": [
    "with open('inputs/day10.txt') as f:\n",
    "    s = f.read()[:-1].split('\\n')\n",
    "    \n",
    "x = 1\n",
    "cycle = 0\n",
    "\n",
    "def addx(v,x,cycle):\n",
    "    return (x+v,cycle+2)\n",
    "\n",
    "def noop(cycle):\n",
    "    return cycle+1\n",
    "\n",
    "def execute(instruction,x,cycle):\n",
    "    if 'addx' in instruction:\n",
    "        v = int(instruction.split(' ')[1])\n",
    "        (x,cycle) = addx(v,x,cycle)\n",
    "    else:\n",
    "        cycle = noop(cycle)\n",
    "    return (x,cycle)\n",
    "        \n",
    "cycles = [20+40*i for i in range(6)]\n",
    "strength = 0\n",
    "\n",
    "for inst in s:\n",
    "    c = cycle\n",
    "    x_old = x\n",
    "    (x,cycle) = execute(inst,x,cycle)\n",
    "    if len(cycles) > 0:\n",
    "        if c < cycles[0] and cycle >= cycles[0]:\n",
    "            strength += x_old*cycles[0]\n",
    "            cycles = cycles[1:]\n",
    "        \n",
    "strength"
   ]
  },
  {
   "cell_type": "markdown",
   "id": "20781c4f",
   "metadata": {},
   "source": [
    "### Part 2"
   ]
  },
  {
   "cell_type": "code",
   "execution_count": 43,
   "id": "aab2f450",
   "metadata": {},
   "outputs": [
    {
     "data": {
      "text/plain": [
       "['####.####.####.###..###...##..#..#.#....',\n",
       " '#.......#.#....#..#.#..#.#..#.#.#..#....',\n",
       " '###....#..###..#..#.#..#.#..#.##...#....',\n",
       " '#.....#...#....###..###..####.#.#..#....',\n",
       " '#....#....#....#....#.#..#..#.#.#..#....',\n",
       " '####.####.#....#....#..#.#..#.#..#.####.']"
      ]
     },
     "execution_count": 43,
     "metadata": {},
     "output_type": "execute_result"
    }
   ],
   "source": [
    " crt = ['','','','','','']\n",
    "\n",
    "x = 1\n",
    "cycle = 0\n",
    "register = {cycle:x}\n",
    "\n",
    "for inst in s:\n",
    "    c = cycle\n",
    "    x_old = x\n",
    "    (x,cycle) = execute(inst,x,cycle)\n",
    "    register[cycle] = x\n",
    "    \n",
    "for i in range(240):\n",
    "    if i in register:\n",
    "        reg = register[i]\n",
    "    else:\n",
    "        reg = register[i-1]\n",
    "    h = i % 40\n",
    "    if h in range(reg-1,reg+2):\n",
    "        draw = '#'\n",
    "    else:\n",
    "        draw = '.'\n",
    "    crt[i // 40] += draw\n",
    "\n",
    "crt"
   ]
  },
  {
   "cell_type": "markdown",
   "id": "0f609fb6",
   "metadata": {},
   "source": [
    "## Day 11"
   ]
  },
  {
   "cell_type": "markdown",
   "id": "4738e077",
   "metadata": {},
   "source": [
    "### Part 1"
   ]
  },
  {
   "cell_type": "code",
   "execution_count": 69,
   "id": "dab1812e",
   "metadata": {},
   "outputs": [
    {
     "data": {
      "text/plain": [
       "55216"
      ]
     },
     "execution_count": 69,
     "metadata": {},
     "output_type": "execute_result"
    }
   ],
   "source": [
    "with open('inputs/day11.txt') as f:\n",
    "    s = f.read()[:-1]\n",
    "\n",
    "relief = 3\n",
    "normalize = 2*3*5*7*11*13*17*19\n",
    "\n",
    "class Monkey:\n",
    "    def __init__(self,init_string):\n",
    "        attr = init_string.split('\\n')\n",
    "        self.id = int(attr[0].split(' ')[1][0])\n",
    "        self.items = [int(i) for i in attr[1].split(': ')[1].split(', ')]\n",
    "        operator = attr[2].split('old')[1][1]\n",
    "        operand = attr[2].split(' ')[-1]\n",
    "        if operator == '*':\n",
    "            if operand == 'old':\n",
    "                self.operation = lambda x: ((x*x)//relief) % normalize\n",
    "            else:\n",
    "                self.operation = lambda x: ((x*int(operand))//relief) % normalize\n",
    "        if operator == '+':\n",
    "            self.operation = lambda x: ((x+int(operand))//relief) % normalize\n",
    "        test_div = int(attr[3].split(' ')[-1])\n",
    "        test_true = int(attr[4].split(' ')[-1])\n",
    "        test_false = int(attr[5].split(' ')[-1])\n",
    "        self.test = lambda x: test_true if x % test_div == 0 else test_false\n",
    "        self.inspections = 0\n",
    "        \n",
    "    def turn(self,monkeys):\n",
    "        for i in self.items:\n",
    "            self.inspections += 1\n",
    "            worry = self.operation(i)\n",
    "            target = self.test(worry)\n",
    "            monkeys[target].items.append(worry)\n",
    "        self.items = []\n",
    "        \n",
    "    def __str__(self):\n",
    "        return str(self.id) + ' ' + str(self.items) + ' ' + str(self.inspections)\n",
    "        \n",
    "monkeys = {i:Monkey(m) for (i,m) in enumerate(s.split('\\n\\n'))}   \n",
    "\n",
    "def monkey_round(monkeys):\n",
    "    for i in range(len(monkeys)):\n",
    "        monkeys[i].turn(monkeys)\n",
    "        \n",
    "def monkey_business(monkeys,rounds):\n",
    "    for i in range(rounds):\n",
    "        monkey_round(monkeys)\n",
    "    inspections = [monkeys[m].inspections for m in monkeys]\n",
    "    inspections.sort()\n",
    "    return inspections[-1]*inspections[-2]\n",
    "\n",
    "monkey_business(monkeys,20)"
   ]
  },
  {
   "cell_type": "markdown",
   "id": "219332ba",
   "metadata": {},
   "source": [
    "### Part 2"
   ]
  },
  {
   "cell_type": "code",
   "execution_count": 74,
   "id": "3e5a0c47",
   "metadata": {},
   "outputs": [
    {
     "data": {
      "text/plain": [
       "14400359996"
      ]
     },
     "execution_count": 74,
     "metadata": {},
     "output_type": "execute_result"
    }
   ],
   "source": [
    "relief = 1\n",
    "normalize = 1\n",
    "\n",
    "\n",
    "monkeys = {i:Monkey(m) for (i,m) in enumerate(s.split('\\n\\n'))}   \n",
    "\n",
    "monkey_business(monkeys,10000)"
   ]
  },
  {
   "cell_type": "markdown",
   "id": "a1ee001f",
   "metadata": {},
   "source": [
    "## Day 12"
   ]
  },
  {
   "cell_type": "markdown",
   "id": "49e3f31b",
   "metadata": {},
   "source": [
    "### Part 1"
   ]
  },
  {
   "cell_type": "code",
   "execution_count": 4,
   "id": "2ceb6277",
   "metadata": {},
   "outputs": [
    {
     "data": {
      "text/plain": [
       "420"
      ]
     },
     "execution_count": 4,
     "metadata": {},
     "output_type": "execute_result"
    }
   ],
   "source": [
    "with open('inputs/day12.txt') as f:\n",
    "    s = f.read()[:-1].split('\\n')\n",
    "    \n",
    "width = len(s)\n",
    "height = len(s[0])\n",
    "\n",
    "for y in range(width):\n",
    "    if 'S' in s[y]:\n",
    "        start = (s[y].index('S'),y)\n",
    "        s[y] = s[y].replace('S','a')\n",
    "    if 'E' in s[y]:\n",
    "        end = (s[y].index('E'),y)\n",
    "        s[y] = s[y].replace('E','z')\n",
    "\n",
    "heights = {}\n",
    "for y in range(len(s)):\n",
    "    for x in range(len(s[y])):\n",
    "        heights[(x,y)] = ord(s[y][x])-ord('a')\n",
    "\n",
    "\n",
    "def look_around(heights,dist,coord,d,queue):\n",
    "    (x,y) = coord\n",
    "    options = [(x-1,y),(x+1,y),(x,y-1),(x,y+1)]\n",
    "    for o in options:\n",
    "        if o in heights and heights[o]-heights[(x,y)] <= 1:\n",
    "            if o not in dist or dist[o] > d+1:\n",
    "                dist[o] = d+1\n",
    "                queue.add(o)\n",
    "    return (dist,queue)\n",
    "\n",
    "dist = {start: 0}\n",
    "queue = set()\n",
    "dist,queue = look_around(heights,dist,start,0,queue)\n",
    "\n",
    "while len(queue) != 0:\n",
    "    coord = queue.pop()\n",
    "    dist,queue = look_around(heights,dist,coord,dist[coord],queue)\n",
    "            \n",
    "dist[end]"
   ]
  },
  {
   "cell_type": "markdown",
   "id": "2fce4138",
   "metadata": {},
   "source": [
    "### Part 2"
   ]
  },
  {
   "cell_type": "code",
   "execution_count": 5,
   "id": "17f7d465",
   "metadata": {},
   "outputs": [
    {
     "data": {
      "text/plain": [
       "414"
      ]
     },
     "execution_count": 5,
     "metadata": {},
     "output_type": "execute_result"
    }
   ],
   "source": [
    "starts = [coord for coord in heights if heights[coord] == 0]\n",
    "queue = set()\n",
    "dist = {start: 0 for start in starts}\n",
    "\n",
    "for start in starts:\n",
    "    dist,queue = look_around(heights,dist,start,0,queue)\n",
    "\n",
    "while len(queue) != 0:\n",
    "    coord = queue.pop()\n",
    "    dist,queue = look_around(heights,dist,coord,dist[coord],queue)\n",
    "        \n",
    "min(start_distances)"
   ]
  },
  {
   "cell_type": "markdown",
   "id": "8caa4dcd",
   "metadata": {},
   "source": [
    "## Day 13"
   ]
  },
  {
   "cell_type": "markdown",
   "id": "fafd0d3a",
   "metadata": {},
   "source": [
    "### Part 1"
   ]
  },
  {
   "cell_type": "code",
   "execution_count": 69,
   "id": "1aad830f",
   "metadata": {},
   "outputs": [
    {
     "data": {
      "text/plain": [
       "5185"
      ]
     },
     "execution_count": 69,
     "metadata": {},
     "output_type": "execute_result"
    }
   ],
   "source": [
    "with open('inputs/day13.txt') as f:\n",
    "    s = f.read()[:-1]\n",
    "    \n",
    "packets = s.split('\\n\\n')\n",
    "    \n",
    "    \n",
    "def check_order(left,right):\n",
    "    for i in range(len(left)):\n",
    "        if i >= len(right):\n",
    "            return False\n",
    "        l = left[i]\n",
    "        r = right[i]\n",
    "        if isinstance(l,int) and isinstance(r,int):\n",
    "            if l < r:\n",
    "                return True\n",
    "            if l > r:\n",
    "                return False\n",
    "        else:\n",
    "            if not isinstance(l,list):\n",
    "                l = [l]\n",
    "            if not isinstance(r,list):\n",
    "                r = [r]\n",
    "            subresult = check_order(l,r)\n",
    "            if subresult is not None:\n",
    "                return subresult\n",
    "    if len(left) > len(right):\n",
    "        return False\n",
    "    if len(left) < len(right):\n",
    "        return True\n",
    "\n",
    "acc = 0\n",
    "for i,p in enumerate(packets,start=1):\n",
    "    [left,right] = p.split('\\n')\n",
    "    left = eval(left)\n",
    "    right = eval(right)\n",
    "    if check_order(left,right) is not False:\n",
    "        acc += i\n",
    "\n",
    "acc"
   ]
  },
  {
   "cell_type": "markdown",
   "id": "8d4460e7",
   "metadata": {},
   "source": [
    "### Part 2"
   ]
  },
  {
   "cell_type": "code",
   "execution_count": 73,
   "id": "8ad70eb4",
   "metadata": {},
   "outputs": [
    {
     "data": {
      "text/plain": [
       "23751"
      ]
     },
     "execution_count": 73,
     "metadata": {},
     "output_type": "execute_result"
    }
   ],
   "source": [
    "from functools import cmp_to_key\n",
    "\n",
    "def compare(left,right):\n",
    "    result = check_order(left,right)\n",
    "    if result is None:\n",
    "        return 0\n",
    "    if result:\n",
    "        return -1\n",
    "    return 1\n",
    "\n",
    "all_packets = [[[2]],[[6]]]\n",
    "for p in packets:\n",
    "    [left,right] = p.split('\\n')\n",
    "    left = eval(left)\n",
    "    right = eval(right)\n",
    "    all_packets.append(left)\n",
    "    all_packets.append(right)\n",
    "\n",
    "all_packets = sorted(all_packets, key=cmp_to_key(compare))\n",
    "\n",
    "m = 1\n",
    "for i,p in enumerate(all_packets,start=1):\n",
    "    if p == [[2]] or p == [[6]]:\n",
    "        m *= i\n",
    "        \n",
    "m"
   ]
  },
  {
   "cell_type": "markdown",
   "id": "9c32305f",
   "metadata": {},
   "source": [
    "## Day 14"
   ]
  },
  {
   "cell_type": "markdown",
   "id": "188b2956",
   "metadata": {},
   "source": [
    "### Part 1"
   ]
  },
  {
   "cell_type": "code",
   "execution_count": 55,
   "id": "41dc6c47",
   "metadata": {},
   "outputs": [
    {
     "data": {
      "text/plain": [
       "901"
      ]
     },
     "execution_count": 55,
     "metadata": {},
     "output_type": "execute_result"
    }
   ],
   "source": [
    "with open('inputs/day14.txt') as f:\n",
    "    s = f.read()[:-1].split('\\n')\n",
    "\n",
    "rocks = set()\n",
    "sand = set()\n",
    "lines = [[tuple(int(c) for c in edge.split(',')) for edge in line.split(' -> ')] for line in s]\n",
    "\n",
    "\n",
    "def iter_dir(c0,c1):\n",
    "    (x0,y0) = c0\n",
    "    (x1,y1) = c1\n",
    "    (dx,dy) = (x1-x0,y1-y0)\n",
    "    return (dx+dy)//abs(dx+dy)\n",
    "\n",
    "\n",
    "for l in lines:\n",
    "    for i in range(len(l)-1):\n",
    "        (x0,y0) = l[i]\n",
    "        (x1,y1) = l[i+1]\n",
    "        i_d = iter_dir(l[i],l[i+1])\n",
    "        for x in range(x0,x1+i_d,i_d):\n",
    "            for y in range(y0,y1+i_d,i_d):\n",
    "                rocks.add((x,y))\n",
    "    \n",
    "\n",
    "def fall(coord,rocks,sand):\n",
    "    (x,y) = coord\n",
    "    target = (x,y+1)\n",
    "    if target not in rocks and target not in sand:\n",
    "        return target\n",
    "    target = (x-1,y+1)\n",
    "    if target not in rocks and target not in sand:\n",
    "        return target\n",
    "    target = (x+1,y+1)\n",
    "    if target not in rocks and target not in sand:\n",
    "        return target\n",
    "    return coord\n",
    "\n",
    "\n",
    "def new_sand(rocks,sand,start,bottom):\n",
    "    (x,y) = start\n",
    "    (x1,y1) = fall((x,y),rocks,sand)\n",
    "    while (x1,y1) != (x,y) and y1 < bottom:\n",
    "        (x,y) = (x1,y1)\n",
    "        (x1,y1) = fall((x,y),rocks,sand)\n",
    "    return (x1,y1)\n",
    "    \n",
    "    \n",
    "bottom = max([c[1] for c in rocks])+1\n",
    "start = (500,0)\n",
    "\n",
    "(x,y) = new_sand(rocks,sand,start,bottom)\n",
    "while y < bottom:\n",
    "    sand.add((x,y))\n",
    "    (x,y) = new_sand(rocks,sand,start,bottom)\n",
    "\n",
    "len(sand)"
   ]
  },
  {
   "cell_type": "markdown",
   "id": "52e8c762",
   "metadata": {},
   "source": [
    "### Part 2"
   ]
  },
  {
   "cell_type": "code",
   "execution_count": 56,
   "id": "234bf895",
   "metadata": {},
   "outputs": [
    {
     "data": {
      "text/plain": [
       "24589"
      ]
     },
     "execution_count": 56,
     "metadata": {},
     "output_type": "execute_result"
    }
   ],
   "source": [
    "sand = set()\n",
    "\n",
    "(x,y) = new_sand(rocks,sand,start,bottom)\n",
    "sand.add((x,y))\n",
    "while (x,y) != start:\n",
    "    (x,y) = new_sand(rocks,sand,start,bottom)\n",
    "    sand.add((x,y))\n",
    "\n",
    "len(sand)"
   ]
  },
  {
   "cell_type": "markdown",
   "id": "3f0329ba",
   "metadata": {},
   "source": [
    "## Day 15"
   ]
  },
  {
   "cell_type": "markdown",
   "id": "6ead5d43",
   "metadata": {},
   "source": [
    "### Part 1"
   ]
  },
  {
   "cell_type": "code",
   "execution_count": 131,
   "id": "22087c5f",
   "metadata": {},
   "outputs": [
    {
     "data": {
      "text/plain": [
       "5166077"
      ]
     },
     "execution_count": 131,
     "metadata": {},
     "output_type": "execute_result"
    }
   ],
   "source": [
    "with open('inputs/day15.txt') as f:\n",
    "    s = f.read()[:-1].split('\\n')\n",
    "\n",
    "\n",
    "def parse(line):\n",
    "    x_s = int(line[line.index('x=')+2:line.index(',')])\n",
    "    y_s = int(line[line.index('y=')+2:line.index(':')])\n",
    "    x_b = int(line[line.rindex('x=')+2:line.rindex(',')])\n",
    "    y_b = int(line[line.rindex('y=')+2:])\n",
    "    return (x_s,y_s),(x_b,y_b)\n",
    "\n",
    "\n",
    "def manhattan(c0,c1):\n",
    "    (x0,y0) = c0\n",
    "    (x1,y1) = c1\n",
    "    return abs(x0-x1) + abs(y0-y1)\n",
    "\n",
    "\n",
    "def row_range(c0,y,d):\n",
    "    (x0,y0) = c0\n",
    "    y_d = abs(y-y0)\n",
    "    d_x = d-y_d\n",
    "    if d_x < 0:\n",
    "        return None\n",
    "    return (x0-d_x,x0+d_x)\n",
    "\n",
    "\n",
    "def union(s0,s1):\n",
    "    (f0,t0) = s0\n",
    "    (f1,t1) = s1\n",
    "    if not (f0 > t1 or f1 > t0):\n",
    "        return (min(f0,f1),max(t0,t1))\n",
    "    else:\n",
    "        return None\n",
    "\n",
    "\n",
    "def range_size(r):\n",
    "    (f,t) = r\n",
    "    return t-f+1\n",
    "\n",
    "\n",
    "def reduce(rr):\n",
    "    row_ranges = rr.copy()\n",
    "    changed = True\n",
    "    while changed:\n",
    "        changed = False\n",
    "        for i in range(len(row_ranges)):\n",
    "            for j in range(i):\n",
    "                r = union(row_ranges[i],row_ranges[j])\n",
    "                if r is not None:\n",
    "                    changed = True\n",
    "                    row_ranges[i] = r\n",
    "                    row_ranges[j] = r\n",
    "        row_ranges = set(row_ranges)\n",
    "        row_ranges = list(row_ranges)\n",
    "    return row_ranges\n",
    "\n",
    "\n",
    "sensors = [parse(line) for line in s]\n",
    "sensors = {s:b for s,b in sensors}\n",
    "\n",
    "dist = {s:manhattan(s,b) for s,b in sensors.items()}\n",
    "\n",
    "target_row = 2000000\n",
    "row_ranges = [row_range(s,target_row,dist[s]) for s in dist]\n",
    "row_ranges = [r for r in row_ranges if r is not None]\n",
    "row_ranges = reduce(row_ranges)\n",
    "beacons_in_row = len({x for (x,y) in sensors.values() if y == target_row})\n",
    "\n",
    "range_size(row_ranges[0]) - beacons_in_row"
   ]
  },
  {
   "cell_type": "markdown",
   "id": "6bf89170",
   "metadata": {},
   "source": [
    "### Part 2"
   ]
  },
  {
   "cell_type": "code",
   "execution_count": 138,
   "id": "cea10bf2",
   "metadata": {},
   "outputs": [
    {
     "data": {
      "text/plain": [
       "13071206703981"
      ]
     },
     "execution_count": 138,
     "metadata": {},
     "output_type": "execute_result"
    }
   ],
   "source": [
    "min_val = 0\n",
    "max_val = 4000000\n",
    "\n",
    "def boxed_row_range(c0,y,d,min_val,max_val):\n",
    "    rr = row_range(c0,y,d)\n",
    "    if rr is not None:\n",
    "        (x,y) = rr\n",
    "        x = max(min_val,x)\n",
    "        x = min(max_val,x)\n",
    "        y = max(min_val,y)\n",
    "        y = min(max_val,y)\n",
    "        return (x,y)\n",
    "    \n",
    "\n",
    "for i in range(min_val, max_val+1):\n",
    "    row_ranges = [boxed_row_range(s,i,dist[s],min_val,max_val) for s in dist]\n",
    "    row_ranges = [r for r in row_ranges if r is not None]\n",
    "    row_ranges = reduce(row_ranges)\n",
    "    if len(row_ranges) > 1:\n",
    "        row_ranges.sort()\n",
    "        x = row_ranges[0][1] + 1\n",
    "        y = i\n",
    "        break\n",
    "\n",
    "4000000*x + y"
   ]
  },
  {
   "cell_type": "markdown",
   "id": "2965a67e",
   "metadata": {},
   "source": [
    "## Day 16"
   ]
  },
  {
   "cell_type": "markdown",
   "id": "e5ec2709",
   "metadata": {},
   "source": [
    "### Part 1"
   ]
  },
  {
   "cell_type": "code",
   "execution_count": 49,
   "id": "47169283",
   "metadata": {},
   "outputs": [
    {
     "data": {
      "text/plain": [
       "1940"
      ]
     },
     "execution_count": 49,
     "metadata": {},
     "output_type": "execute_result"
    }
   ],
   "source": [
    "with open('inputs/day16.txt') as f:\n",
    "    s = f.read()[:-1].split('\\n')\n",
    "\n",
    "    \n",
    "def parse(line):\n",
    "    parts = line.split(' ')\n",
    "    valve = parts[1]\n",
    "    flow_rate = int(line[line.index('=')+1:line.index(';')])\n",
    "    if 'valves ' in line:\n",
    "        leads_to = line.split('valves ')[1].split(', ')\n",
    "    else:\n",
    "        leads_to = line.split('valve ')[1].split(', ')\n",
    "    return valve,flow_rate,leads_to\n",
    "\n",
    "\n",
    "def construct_paths(start,leads_to,poi):\n",
    "    distances = {start:0}\n",
    "    queue = {start}\n",
    "    while len(queue) > 0:\n",
    "        valve = queue.pop()\n",
    "        d = distances[valve]\n",
    "        for v in leads_to[valve]:\n",
    "            if v not in distances or d+1 < distances[v]:\n",
    "                distances[v] = d+1\n",
    "                queue.add(v)\n",
    "    return {k:v+1 for k,v in distances.items() if k in poi and v != 0}\n",
    "\n",
    "\n",
    "valves = [parse(line) for line in s]\n",
    "flow_rates = {v[0]:v[1] for v in valves if v[1] != 0}\n",
    "leads_to = {v[0]:v[2] for v in valves}\n",
    "distances = {valve:construct_paths(valve,leads_to,flow_rates) for valve in flow_rates}\n",
    "distances['AA'] = construct_paths('AA',leads_to,flow_rates)\n",
    "\n",
    "\n",
    "def path_value(visited,total_time,distances,flow_rates):\n",
    "    value = 0\n",
    "    time = total_time\n",
    "    for i in range(len(visited)-1):\n",
    "        time -= distances[visited[i]][visited[i+1]]\n",
    "        value += time*flow_rates[visited[i+1]]\n",
    "    return value\n",
    "\n",
    "\n",
    "def store(visited,current,value,cache):\n",
    "    v = visited.copy()\n",
    "    v.sort()\n",
    "    v = tuple(v)\n",
    "    cache[(v,current)] = value\n",
    "    \n",
    "\n",
    "def retrieve(visited,current,cache):\n",
    "    v = visited.copy()\n",
    "    v.sort()\n",
    "    v = tuple(v)\n",
    "    return cache.get((v,current))\n",
    "\n",
    "\n",
    "def check_cache(visited,current,value,cache,total_time,distances,flow_rates):\n",
    "    optimal_value = retrieve(visited,current,cache)\n",
    "    if optimal_value is None or optimal_value < value:\n",
    "        store(visited,current,value,cache)\n",
    "    else:\n",
    "        return optimal_value\n",
    "    return None\n",
    "\n",
    "\n",
    "def explore(current,visited,value,remaining_time,total_time,distances,flow_rates,cache):\n",
    "    cache_result = check_cache(visited,current,value,cache,total_time,distances,flow_rates)\n",
    "    if cache_result is not None:\n",
    "        return cache_result\n",
    "    subpath_values = [value]\n",
    "    options = [valve for valve in distances[current] if valve not in visited and remaining_time-distances[current][valve] >= 0]\n",
    "    for valve in options:\n",
    "        subpath_remaining = remaining_time-distances[current][valve]\n",
    "        subpath = explore(valve,\n",
    "                          visited+[valve],\n",
    "                          path_value(visited+[valve],total_time,distances,flow_rates),\n",
    "                          subpath_remaining,\n",
    "                          total_time,\n",
    "                          distances,\n",
    "                          flow_rates,\n",
    "                          cache)\n",
    "        subpath_values.append(subpath)\n",
    "    return max(subpath_values)\n",
    "\n",
    "\n",
    "cache = {}\n",
    "explore('AA',['AA'],0,30,30,distances,flow_rates,cache)"
   ]
  },
  {
   "cell_type": "markdown",
   "id": "a7fdab66",
   "metadata": {},
   "source": [
    "### Part 2"
   ]
  },
  {
   "cell_type": "code",
   "execution_count": 56,
   "id": "10edaeb7",
   "metadata": {},
   "outputs": [
    {
     "data": {
      "text/plain": [
       "2469"
      ]
     },
     "execution_count": 56,
     "metadata": {},
     "output_type": "execute_result"
    }
   ],
   "source": [
    "cache = {}\n",
    "explore('AA',['AA'],0,26,26,distances,flow_rates,cache)\n",
    "\n",
    "optimal_path_values = {}\n",
    "for c in cache:\n",
    "    key = c[0][1:]\n",
    "    value = cache[c]\n",
    "    if (key not in optimal_path_values or value > optimal_path_values[key]) and value != 0:\n",
    "        optimal_path_values[key] = value\n",
    "\n",
    "\n",
    "def best_pair_for(path,optimal_path_values):\n",
    "    visited = set(path)\n",
    "    options = {k:v for k,v in optimal_path_values.items() if len(visited.intersection(set(k))) == 0}\n",
    "    if len(options) == 0:\n",
    "        return None\n",
    "    return max(options,key=options.get)\n",
    "\n",
    "        \n",
    "optimal_pairs = {path:best_pair_for(path,optimal_path_values) for path in optimal_path_values}\n",
    "optimal_pairs = {k:v for k,v in optimal_pairs.items() if v is not None}\n",
    "\n",
    "max([optimal_path_values[k] + optimal_path_values[v] for k,v in optimal_pairs.items()])"
   ]
  }
 ],
 "metadata": {
  "kernelspec": {
   "display_name": "Python 3 (ipykernel)",
   "language": "python",
   "name": "python3"
  },
  "language_info": {
   "codemirror_mode": {
    "name": "ipython",
    "version": 3
   },
   "file_extension": ".py",
   "mimetype": "text/x-python",
   "name": "python",
   "nbconvert_exporter": "python",
   "pygments_lexer": "ipython3",
   "version": "3.11.0"
  }
 },
 "nbformat": 4,
 "nbformat_minor": 5
}
