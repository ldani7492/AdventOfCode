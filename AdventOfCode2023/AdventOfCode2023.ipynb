{
 "cells": [
  {
   "cell_type": "markdown",
   "id": "7a526a26-b5fa-4694-889a-1f6c7f57a95b",
   "metadata": {},
   "source": [
    "# Advent of Code 2023"
   ]
  },
  {
   "cell_type": "markdown",
   "id": "574fd75c-2cdb-4601-9c5d-ed366ac74d65",
   "metadata": {},
   "source": [
    "## Day 1"
   ]
  },
  {
   "cell_type": "markdown",
   "id": "3b98a848-ea08-46d2-99e6-fc40ca2d473a",
   "metadata": {},
   "source": [
    "### Part 1"
   ]
  },
  {
   "cell_type": "code",
   "execution_count": 3,
   "id": "5cd07bbe-282c-4b8b-bf67-6aced848db3e",
   "metadata": {},
   "outputs": [
    {
     "data": {
      "text/plain": [
       "54634"
      ]
     },
     "execution_count": 3,
     "metadata": {},
     "output_type": "execute_result"
    }
   ],
   "source": [
    "with open('inputs/day1.txt') as f:\n",
    "    s = f.read()[:-1]\n",
    "\n",
    "def parse(n):\n",
    "    return int(n[0] + n[-1])\n",
    "\n",
    "sum([parse([c for c in n if c.isnumeric()]) for n in s.split('\\n')])"
   ]
  },
  {
   "cell_type": "markdown",
   "id": "584bfe2b-0732-4f91-93e2-739292c5b21a",
   "metadata": {},
   "source": [
    "### Part 2"
   ]
  },
  {
   "cell_type": "code",
   "execution_count": 4,
   "id": "0a04f54a-5942-471e-b24f-2e248dfd2761",
   "metadata": {},
   "outputs": [
    {
     "data": {
      "text/plain": [
       "53855"
      ]
     },
     "execution_count": 4,
     "metadata": {},
     "output_type": "execute_result"
    }
   ],
   "source": [
    "numeral_map = {'one':'1',\n",
    "               'two':'2',\n",
    "               'three':'3',\n",
    "               'four':'4',\n",
    "               'five':'5',\n",
    "               'six':'6',\n",
    "               'seven':'7',\n",
    "               'eight':'8',\n",
    "               'nine':'9'}\n",
    "numerals = list(numeral_map.keys()) + list(numeral_map.values())\n",
    "\n",
    "def parse_numeral(n):\n",
    "    return numeral_map[n] if n in numeral_map else n\n",
    "\n",
    "\n",
    "def extract_number(s):\n",
    "    indices_left = {n:s.find(n) for n in numerals if s.find(n) >= 0}\n",
    "    indices_right = {n:s.rfind(n) for n in numerals if s.find(n) >= 0}\n",
    "    leftmost = parse_numeral(min(indices_left,key=indices_left.get))\n",
    "    rightmost = parse_numeral(max(indices_right,key=indices_right.get))\n",
    "    return int(leftmost + rightmost)\n",
    "\n",
    "\n",
    "sum([extract_number(n) for n in s.split('\\n')])"
   ]
  },
  {
   "cell_type": "markdown",
   "id": "63f43231-1975-4c2c-ac42-b8a28a297921",
   "metadata": {},
   "source": [
    "## Day 2"
   ]
  },
  {
   "cell_type": "markdown",
   "id": "8187e28b-4d7b-476c-8cc5-994b1f527885",
   "metadata": {},
   "source": [
    "### Part 1"
   ]
  },
  {
   "cell_type": "code",
   "execution_count": 1,
   "id": "0c60da48-56a6-4490-b44f-62efdfb47943",
   "metadata": {},
   "outputs": [
    {
     "data": {
      "text/plain": [
       "2593"
      ]
     },
     "execution_count": 1,
     "metadata": {},
     "output_type": "execute_result"
    }
   ],
   "source": [
    "with open('inputs/day2.txt') as f:\n",
    "    s = f.read()[:-1]\n",
    "\n",
    "def parse_round(round):\n",
    "    return {cubes.split(' ')[1]: int(cubes.split(' ')[0]) for cubes in round.split(', ')}\n",
    "\n",
    "\n",
    "def parse_game(game):\n",
    "    return [parse_round(round) for round in game.split(': ')[1].split('; ')]\n",
    "\n",
    "\n",
    "def max_color_value(game, color):\n",
    "    return (color, max([round.get(color,0) for round in game]))\n",
    "\n",
    "\n",
    "def max_values(game):\n",
    "    return dict(map(lambda c: max_color_value(game,c), ['red', 'green', 'blue']))\n",
    "\n",
    "\n",
    "def is_valid(game,reds,greens,blues):\n",
    "    maxes = max_values(game)\n",
    "    return maxes.get('red',0) <= reds and maxes.get('green',0) <= greens and maxes.get('blue',0) <= blues\n",
    "\n",
    "\n",
    "games = [parse_game(game) for game in s.split('\\n')]\n",
    "sum([i+1 for i,game in enumerate(games) if is_valid(game,12,13,14)])"
   ]
  },
  {
   "cell_type": "markdown",
   "id": "ccc6f12c-77d6-4eb8-afd6-3d9624332feb",
   "metadata": {},
   "source": [
    "### Part 2"
   ]
  },
  {
   "cell_type": "code",
   "execution_count": 3,
   "id": "fa906164-358e-466d-92d1-e596593f1add",
   "metadata": {},
   "outputs": [
    {
     "data": {
      "text/plain": [
       "54699"
      ]
     },
     "execution_count": 3,
     "metadata": {},
     "output_type": "execute_result"
    }
   ],
   "source": [
    "from functools import reduce\n",
    "\n",
    "def game_power(game):\n",
    "    return reduce(lambda a,b: a*b, max_values(game).values())\n",
    "\n",
    "\n",
    "sum(map(game_power, games))"
   ]
  },
  {
   "cell_type": "markdown",
   "id": "0f4db99e-6df6-4372-80ab-6aa6c506d057",
   "metadata": {},
   "source": [
    "## Day 3"
   ]
  },
  {
   "cell_type": "markdown",
   "id": "2b79e41f-d734-48ae-9a4f-a923ffa068a6",
   "metadata": {},
   "source": [
    "### Part 1"
   ]
  },
  {
   "cell_type": "code",
   "execution_count": 114,
   "id": "69155ba6-b7f8-4d10-9f69-43b16d9f47aa",
   "metadata": {},
   "outputs": [
    {
     "data": {
      "text/plain": [
       "521515"
      ]
     },
     "execution_count": 114,
     "metadata": {},
     "output_type": "execute_result"
    }
   ],
   "source": [
    "from functools import reduce\n",
    "\n",
    "with open('inputs/day3.txt') as f:\n",
    "    s = f.read()[:-1].split('\\n')\n",
    "\n",
    "symbols = [(x,y) for y in range(len(s)) for x in range(len(s[0])) if not (s[y][x] == '.' or s[y][x].isnumeric())]\n",
    "numbers = [(x,y) for y in range(len(s)) for x in range(len(s[0])) if s[y][x].isnumeric()]\n",
    "neighbours = [(-1,-1), (-1,0), (-1,1), (0,-1), (0,1), (1,-1), (1,0), (1,1)]\n",
    "\n",
    "def explore(reachable, current, target):\n",
    "    (x,y) = current\n",
    "    neighborhood = [(x+xd,y+yd) for (xd,yd) in neighbours]\n",
    "    for coord in neighborhood:\n",
    "        if coord in target and coord not in reachable:\n",
    "            reachable.add(coord)\n",
    "            explore(reachable, coord, target)\n",
    "    return reachable\n",
    "\n",
    "\n",
    "reachable = reduce(lambda acc,sym: explore(acc, sym, numbers), symbols, set())\n",
    "number_starts = [(x,y) for (x,y) in reachable if (x-1,y) not in reachable]\n",
    "\n",
    "def read_number(current, acc, reachable):\n",
    "    (x,y) = current\n",
    "    if current in reachable:\n",
    "        return read_number((x+1,y), acc*10+int(s[y][x]), reachable)\n",
    "    return acc\n",
    "\n",
    "\n",
    "sum(map(lambda x: read_number(x,0,reachable), number_starts))"
   ]
  },
  {
   "cell_type": "markdown",
   "id": "e4376c95-20f7-4ea3-afb6-600ccca8aa73",
   "metadata": {},
   "source": [
    "### Part 2"
   ]
  },
  {
   "cell_type": "code",
   "execution_count": 116,
   "id": "fd0b5e07-9e85-49ed-bc39-1e8bb9d2d301",
   "metadata": {},
   "outputs": [
    {
     "data": {
      "text/plain": [
       "69527306"
      ]
     },
     "execution_count": 116,
     "metadata": {},
     "output_type": "execute_result"
    }
   ],
   "source": [
    "symbols = [(x,y) for y in range(len(s)) for x in range(len(s[0])) if s[y][x] == '*']\n",
    "reachable = {sym: explore(set(), sym, numbers) for sym in symbols}\n",
    "numbers = list(reduce(lambda acc, v: acc.union(v), reachable.values(), set()))\n",
    "number_starts = [(x,y) for (x,y) in numbers if (x-1,y) not in numbers]\n",
    "reachable_number_starts = {sym: [n for n in reachable[sym] if n in number_starts] for sym in reachable}\n",
    "gears = [reduce(lambda a,b: a*b, map(lambda x: read_number(x,0,numbers), num_starts), 1) \n",
    "         for num_starts in reachable_number_starts.values() if len(num_starts) == 2]\n",
    "\n",
    "sum(gears)"
   ]
  },
  {
   "cell_type": "markdown",
   "id": "034215db-1487-4a42-a40a-cc874ec492fd",
   "metadata": {},
   "source": [
    "## Day 4"
   ]
  },
  {
   "cell_type": "markdown",
   "id": "5d2be558-bf5a-4154-9578-d987528d0bc7",
   "metadata": {},
   "source": [
    "### Part 1"
   ]
  },
  {
   "cell_type": "code",
   "execution_count": 39,
   "id": "e6c32399-3e1c-4928-a51a-e60ffb1fad46",
   "metadata": {},
   "outputs": [
    {
     "data": {
      "text/plain": [
       "21485"
      ]
     },
     "execution_count": 39,
     "metadata": {},
     "output_type": "execute_result"
    }
   ],
   "source": [
    "with open('inputs/day4.txt') as f:\n",
    "    s = f.read()[:-1]\n",
    "\n",
    "input = [line.replace('  ', ' ').split(': ')[1].split(' | ') for line in s.split('\\n')]\n",
    "cards = [(list(map(int,card[0].split(' '))), list(map(int,card[1].split(' ')))) for card in input]\n",
    "winning = [(len([x for x in card[1] if x in card[0]])) for card in cards]\n",
    "sum([2 ** (card-1) for card in winning if card > 0])"
   ]
  },
  {
   "cell_type": "markdown",
   "id": "61410d3a-eba3-44b7-bcd2-23366663540e",
   "metadata": {},
   "source": [
    "### Part 2"
   ]
  },
  {
   "cell_type": "code",
   "execution_count": 40,
   "id": "97abaceb-79e8-4714-b57f-9e289ef4dbf8",
   "metadata": {},
   "outputs": [
    {
     "data": {
      "text/plain": [
       "11024379"
      ]
     },
     "execution_count": 40,
     "metadata": {},
     "output_type": "execute_result"
    }
   ],
   "source": [
    "card_count = {i: 1 for i in range(len(cards))}\n",
    "for i in range(len(cards)):\n",
    "    for j in range(1, winning[i]+1):\n",
    "        card_count[i+j] += card_count[i]\n",
    "\n",
    "sum(card_count.values())"
   ]
  },
  {
   "cell_type": "markdown",
   "id": "6275e20e-9335-480c-8df1-b4270d126197",
   "metadata": {},
   "source": [
    "## Day 5"
   ]
  },
  {
   "cell_type": "markdown",
   "id": "bedb5ebe-c60a-4475-83af-d20f752d384c",
   "metadata": {},
   "source": [
    "### Part 1"
   ]
  },
  {
   "cell_type": "code",
   "execution_count": 2,
   "id": "d131d96b-854c-450d-857c-8b7e3a72ac1a",
   "metadata": {},
   "outputs": [
    {
     "data": {
      "text/plain": [
       "484023871"
      ]
     },
     "execution_count": 2,
     "metadata": {},
     "output_type": "execute_result"
    }
   ],
   "source": [
    "from functools import reduce\n",
    "\n",
    "with open('inputs/day5.txt') as f:\n",
    "    s = f.read()[:-1]\n",
    "\n",
    "seeds = [int(seed) for seed in s.split('\\n\\n')[0].split(' ')[1:]]\n",
    "maps = [[tuple(int(n) for n in m.split(' ')) for m in sec.split('\\n')[1:]] for sec in s.split('\\n\\n')[1:]]\n",
    "\n",
    "def attempt_map(n, map):\n",
    "    destination_start, source_start, range_length = map\n",
    "    if n >= source_start and n < source_start + range_length:\n",
    "        return (destination_start + n - source_start, True)\n",
    "    else:\n",
    "        return (n, False)\n",
    "\n",
    "def map_level(n,mapping):\n",
    "    match = False\n",
    "    i = -1\n",
    "    while not match and i < len(mapping) - 1:\n",
    "        i += 1\n",
    "        result, match = attempt_map(n, mapping[i])\n",
    "    return (result, i)\n",
    "\n",
    "\n",
    "def map_full(n, levels):\n",
    "    return reduce(lambda acc,level: map_level(acc[0],level), levels, (n,None))\n",
    "\n",
    "\n",
    "min([map_full(seed, maps)[0] for seed in seeds])"
   ]
  },
  {
   "cell_type": "markdown",
   "id": "0497c7cb-74b5-4a90-a627-b877a97734d7",
   "metadata": {},
   "source": [
    "### Part 2"
   ]
  },
  {
   "cell_type": "code",
   "execution_count": 3,
   "id": "c4e87db2-e51e-48f0-a862-5ab99fe14161",
   "metadata": {},
   "outputs": [
    {
     "data": {
      "text/plain": [
       "46294175"
      ]
     },
     "execution_count": 3,
     "metadata": {},
     "output_type": "execute_result"
    }
   ],
   "source": [
    "from math import ceil\n",
    "\n",
    "seed_ranges = [(seeds[i], seeds[i+1]) for i in range(0, len(seeds), 2)]\n",
    "lowest_start = min([map_full(seed_range[0], maps) for seed_range in seed_ranges])\n",
    "\n",
    "def find_buckets(seed_range, levels, buckets):\n",
    "    (start, length) = seed_range\n",
    "    if length <= 1:\n",
    "        return buckets\n",
    "    (result_1, last_map_1) = map_full(start, levels)\n",
    "    (result_2, last_map_2) = map_full(start+length-1, levels)\n",
    "    if last_map_1 not in buckets or buckets[last_map_1] > result_1:\n",
    "        buckets[last_map_1] = result_1\n",
    "    if last_map_2 not in buckets or buckets[last_map_2] > result_2:\n",
    "        buckets[last_map_2] = result_2\n",
    "    if last_map_1 != last_map_2:\n",
    "        h1 = find_buckets((start, length//2), levels, buckets)\n",
    "        h2 = find_buckets((start+length//2, ceil(length/2)), levels, buckets)\n",
    "        for b in h1:\n",
    "            if b not in buckets or buckets[b] > h1[b]:\n",
    "                buckets[b] = h1[b]\n",
    "        for b in h2:\n",
    "            if b not in buckets or buckets[b] > h2[b]:\n",
    "                buckets[b] = h2[b]\n",
    "    return buckets\n",
    "\n",
    "\n",
    "min(reduce(lambda acc,sr: find_buckets(sr,maps,acc), seed_ranges, {}).values())"
   ]
  },
  {
   "cell_type": "markdown",
   "id": "344dcd4c-b450-4be7-8c6c-6a9bf6590f1f",
   "metadata": {},
   "source": [
    "## Day 6"
   ]
  },
  {
   "cell_type": "markdown",
   "id": "d2e1a839-61d3-496e-8d42-ff42475a521f",
   "metadata": {},
   "source": [
    "### Part 1"
   ]
  },
  {
   "cell_type": "code",
   "execution_count": 34,
   "id": "07ec672c-e373-47d0-8e2f-a15cfe2ecc24",
   "metadata": {},
   "outputs": [
    {
     "data": {
      "text/plain": [
       "1624896"
      ]
     },
     "execution_count": 34,
     "metadata": {},
     "output_type": "execute_result"
    }
   ],
   "source": [
    "from functools import reduce\n",
    "\n",
    "with open('inputs/day6.txt') as f:\n",
    "    s = f.read()[:-1]\n",
    "\n",
    "[time, distance] = [[int(i) for i in ' '.join(line.split()).split(': ')[1].split(' ')] for line in s.split('\\n')]\n",
    "\n",
    "def distance_after(max_time, press_time):\n",
    "    return (max_time-press_time)*press_time\n",
    "\n",
    "\n",
    "reduce(lambda acc,i: acc*len([press for press in range(time[i]+1) if distance_after(time[i], press) > distance[i]]), range(len(time)), 1)"
   ]
  },
  {
   "cell_type": "markdown",
   "id": "7e99731c-36bf-418f-8fde-ad773cf86018",
   "metadata": {},
   "source": [
    "### Part 2"
   ]
  },
  {
   "cell_type": "code",
   "execution_count": 35,
   "id": "df984fa2-39a1-46cb-9751-139ad5c24414",
   "metadata": {},
   "outputs": [
    {
     "data": {
      "text/plain": [
       "32583852"
      ]
     },
     "execution_count": 35,
     "metadata": {},
     "output_type": "execute_result"
    }
   ],
   "source": [
    "[time, distance] = [int(''.join(line.split(':')[1].split())) for line in s.split('\\n')]\n",
    "len([press for press in range(time+1) if distance_after(time, press) > distance])"
   ]
  },
  {
   "cell_type": "markdown",
   "id": "5c3f8e42-b161-481f-8052-42bcae00d2f0",
   "metadata": {},
   "source": [
    "## Day 7"
   ]
  },
  {
   "cell_type": "markdown",
   "id": "662df9e8-9690-40ee-8371-d0e3fd16dff3",
   "metadata": {},
   "source": [
    "### Part 1"
   ]
  },
  {
   "cell_type": "code",
   "execution_count": 89,
   "id": "d0778765-5a45-4924-92ea-95318437eac6",
   "metadata": {},
   "outputs": [
    {
     "data": {
      "text/plain": [
       "249483956"
      ]
     },
     "execution_count": 89,
     "metadata": {},
     "output_type": "execute_result"
    }
   ],
   "source": [
    "with open('inputs/day7.txt') as f:\n",
    "    s = f.read()[:-1].split('\\n')\n",
    "\n",
    "\n",
    "def count_chars(hand):\n",
    "    chars = {}\n",
    "    for c in hand:\n",
    "        chars[c] = chars.get(c,0)+1\n",
    "    return chars\n",
    "\n",
    "\n",
    "def is_five_of_a_kind(hand):\n",
    "    return 5 in count_chars(hand).values()\n",
    "\n",
    "\n",
    "def is_four_of_a_kind(hand):\n",
    "    return 4 in count_chars(hand).values()\n",
    "\n",
    "\n",
    "def is_full_house(hand):\n",
    "    values = count_chars(hand).values()\n",
    "    return 3 in values and 2 in values\n",
    "\n",
    "\n",
    "def is_three_of_a_kind(hand):\n",
    "    values = count_chars(hand).values()\n",
    "    return 3 in values and 2 not in values\n",
    "\n",
    "\n",
    "def is_two_pairs(hand):\n",
    "    values = count_chars(hand).values()\n",
    "    return len([i for i in values if i == 2]) == 2\n",
    "\n",
    "\n",
    "def is_pair(hand):\n",
    "    values = count_chars(hand).values()\n",
    "    return len([i for i in values if i == 2]) == 1 and 3 not in values\n",
    "\n",
    "\n",
    "def is_high(hand):\n",
    "    values = count_chars(hand).values()\n",
    "    return len([i for i in values if i == 1]) == 5\n",
    "\n",
    "\n",
    "types = [is_five_of_a_kind, is_four_of_a_kind, is_full_house, is_three_of_a_kind, is_two_pairs, is_pair, is_high]\n",
    "\n",
    "\n",
    "def transform_hand(hand):\n",
    "    return hand.replace('K', 'B').replace('Q','C').replace('J','D').replace('T','E') \\\n",
    "    .replace('9', 'F').replace('8','G').replace('7','H').replace('6','I').replace('5', 'J') \\\n",
    "    .replace('4','K').replace('3','L').replace('2','M').replace('1','N')\n",
    "\n",
    "\n",
    "def normalize_hand(hand, bid):\n",
    "    hand_t = transform_hand(hand)\n",
    "    for i in range(len(types)):\n",
    "        if types[i](hand_t):\n",
    "            return ' '.join([str(i), hand_t, str(bid)])\n",
    "\n",
    "hands = [normalize_hand(line.split(' ')[0], line.split(' ')[1]) for line in s]\n",
    "hands.sort(reverse=True)\n",
    "\n",
    "sum([(i+1)*int(hands[i].split(' ')[-1]) for i in range(len(hands))])"
   ]
  },
  {
   "cell_type": "markdown",
   "id": "ae5bb46b-bbaa-4c05-8f99-74d16ca29126",
   "metadata": {},
   "source": [
    "### Part 2"
   ]
  },
  {
   "cell_type": "code",
   "execution_count": 90,
   "id": "7730935d-8b56-41c1-9dfb-ff09bc7983a3",
   "metadata": {},
   "outputs": [
    {
     "data": {
      "text/plain": [
       "252137472"
      ]
     },
     "execution_count": 90,
     "metadata": {},
     "output_type": "execute_result"
    }
   ],
   "source": [
    "def transform_hand(hand):\n",
    "    return hand.replace('K', 'B').replace('Q','C').replace('J','O').replace('T','E') \\\n",
    "    .replace('9', 'F').replace('8','G').replace('7','H').replace('6','I').replace('5', 'J') \\\n",
    "    .replace('4','K').replace('3','L').replace('2','M').replace('1','N')\n",
    "\n",
    "\n",
    "def jokers(hand):\n",
    "    return hand.count('O')\n",
    "\n",
    "\n",
    "def count_chars(hand):\n",
    "    chars = {}\n",
    "    for c in hand:\n",
    "        if c != 'O':\n",
    "            chars[c] = chars.get(c,0)+1\n",
    "    return chars\n",
    "\n",
    "\n",
    "def is_five_of_a_kind(hand):\n",
    "    joker_count = jokers(hand)\n",
    "    return (5-jokers(hand) in count_chars(hand).values()) or joker_count == 5\n",
    "\n",
    "\n",
    "def is_four_of_a_kind(hand):\n",
    "    return 4-jokers(hand) in count_chars(hand).values()\n",
    "\n",
    "\n",
    "def is_full_house(hand):\n",
    "    values = count_chars(hand).values()\n",
    "    joker_count = jokers(hand)\n",
    "    return (joker_count == 0 and 3 in values and 2 in values) or \\\n",
    "    (joker_count == 1 and (3 in values or len([i for i in values if i == 2]) == 2))\n",
    "\n",
    "\n",
    "def is_three_of_a_kind(hand):\n",
    "    values = count_chars(hand).values()\n",
    "    joker_count = jokers(hand)\n",
    "    return (joker_count == 0 and 3 in values and 2 not in values) or \\\n",
    "    (joker_count == 1 and len([i for i in values if i == 2]) == 1) or \\\n",
    "    (joker_count == 2 and len([i for i in values if i == 1]) == 3)\n",
    "\n",
    "\n",
    "def is_two_pairs(hand):\n",
    "    values = count_chars(hand).values()\n",
    "    return (len([i for i in values if i == 2]) == 2)\n",
    "\n",
    "\n",
    "def is_pair(hand):\n",
    "    values = count_chars(hand).values()\n",
    "    joker_count = jokers(hand)\n",
    "    return (joker_count == 0 and len([i for i in values if i == 2]) == 1 and 3 not in values) or \\\n",
    "    (joker_count == 1 and len([i for i in values if i == 1]) == 4)\n",
    "\n",
    "\n",
    "def is_high(hand):\n",
    "    values = count_chars(hand).values()\n",
    "    return len([i for i in values if i == 1]) == 5\n",
    "\n",
    "\n",
    "def normalize_hand(hand, bid):\n",
    "    hand_t = transform_hand(hand)\n",
    "    for i in range(len(types)):\n",
    "        if types[i](hand_t):\n",
    "            return ' '.join([str(i), hand_t, str(bid)])\n",
    "\n",
    "\n",
    "types = [is_five_of_a_kind, is_four_of_a_kind, is_full_house, is_three_of_a_kind, is_two_pairs, is_pair, is_high]\n",
    "hands = [normalize_hand(line.split(' ')[0], line.split(' ')[1]) for line in s]\n",
    "hands.sort(reverse=True)\n",
    "\n",
    "sum([(i+1)*int(hands[i].split(' ')[-1]) for i in range(len(hands))])"
   ]
  },
  {
   "cell_type": "markdown",
   "id": "77b612e1-9758-4e3c-99e3-b566744c335a",
   "metadata": {},
   "source": [
    "## Day 8"
   ]
  },
  {
   "cell_type": "markdown",
   "id": "fb89725b-127f-4461-a98d-6a99c41c0631",
   "metadata": {},
   "source": [
    "### Part 1"
   ]
  },
  {
   "cell_type": "code",
   "execution_count": 4,
   "id": "2fbbef5d-94b7-45d5-99cb-577271b111c7",
   "metadata": {},
   "outputs": [
    {
     "data": {
      "text/plain": [
       "12737"
      ]
     },
     "execution_count": 4,
     "metadata": {},
     "output_type": "execute_result"
    }
   ],
   "source": [
    "with open('inputs/day8.txt') as f:\n",
    "    s = f.read()[:-1]\n",
    "\n",
    "instructions = [0 if inst == 'L' else 1 for inst in s.split('\\n')[0]]\n",
    "nodes = {line.split(' = ')[0]: tuple(line.split(' = ')[-1][1:-1].split(', ')) for line in s.split('\\n\\n')[1].split('\\n')}\n",
    "\n",
    "current = 'AAA'\n",
    "steps = 0\n",
    "while current != 'ZZZ':\n",
    "    current = nodes[current][instructions[steps % len(instructions)]]\n",
    "    steps += 1\n",
    "\n",
    "steps"
   ]
  },
  {
   "cell_type": "markdown",
   "id": "b6144149-cbbb-4a90-b4ce-3c9fe9e590d6",
   "metadata": {},
   "source": [
    "### Part 2"
   ]
  },
  {
   "cell_type": "code",
   "execution_count": 11,
   "id": "11498f81-6fb7-4e49-8eaa-b19e5c0f7f3e",
   "metadata": {},
   "outputs": [
    {
     "data": {
      "text/plain": [
       "9064949303801"
      ]
     },
     "execution_count": 11,
     "metadata": {},
     "output_type": "execute_result"
    }
   ],
   "source": [
    "from functools import reduce\n",
    "from math import lcm\n",
    "\n",
    "def find_loop(start, instrtuctions, nodes):\n",
    "    i = 0\n",
    "    current = start\n",
    "    visited = []\n",
    "    ends = set()\n",
    "    while (current, i % len(instructions)) not in visited:\n",
    "        visited.append((current, i % len(instructions)))\n",
    "        current = nodes[current][instructions[i % len(instructions)]]\n",
    "        i += 1\n",
    "        if current[-1] == 'Z':\n",
    "            ends.add(i)\n",
    "    loop_start = visited.index((current, i % len(instructions)))\n",
    "    loop_length = i - loop_start\n",
    "    return (loop_length, ends)\n",
    "\n",
    "\n",
    "current_nodes = [node for node in nodes if node[-1] == 'A']\n",
    "loops = [find_loop(start, instructions, nodes)[0] for start in current_nodes]\n",
    "reduce(lambda acc,x: lcm(acc,x), loops, 1) # No further steps are necessary due to the input being a special case"
   ]
  },
  {
   "cell_type": "markdown",
   "id": "9b8bcf48-6c9e-4740-bbba-d308046a67cd",
   "metadata": {},
   "source": [
    "## Day 9"
   ]
  },
  {
   "cell_type": "markdown",
   "id": "b87c1371-a78e-4399-85b3-be3a8bb0a33e",
   "metadata": {},
   "source": [
    "### Part 1"
   ]
  },
  {
   "cell_type": "code",
   "execution_count": 48,
   "id": "3c02771c-0844-4b8d-8fc5-145a2e0974c4",
   "metadata": {},
   "outputs": [
    {
     "data": {
      "text/plain": [
       "1882395907"
      ]
     },
     "execution_count": 48,
     "metadata": {},
     "output_type": "execute_result"
    }
   ],
   "source": [
    "with open('inputs/day9.txt') as f:\n",
    "    s = f.read()[:-1].split('\\n')\n",
    "\n",
    "sequences = [[int(i) for i in line.split(' ')] for line in s]\n",
    "\n",
    "def next_seq(seq):\n",
    "    return [seq[i+1]-seq[i] for i in range(len(seq)-1)]\n",
    "\n",
    "\n",
    "def is_last(seq):\n",
    "    seq_set = set(seq)\n",
    "    return (len(seq_set) == 1 and 0 in seq_set) or len(seq_set) == 0\n",
    "\n",
    "\n",
    "def predict_next(seq):\n",
    "    acc = 0\n",
    "    while not is_last(seq):\n",
    "        acc += seq[-1]\n",
    "        seq = next_seq(seq)\n",
    "    return acc\n",
    "\n",
    "\n",
    "sum([predict_next(seq) for seq in sequences])"
   ]
  },
  {
   "cell_type": "markdown",
   "id": "ad22b8d2-0b80-4c73-a5c8-adfcef6faf4e",
   "metadata": {},
   "source": [
    "### Part 2"
   ]
  },
  {
   "cell_type": "code",
   "execution_count": 62,
   "id": "7ab064a0-56ef-460d-ad17-cb4d51e5abdf",
   "metadata": {},
   "outputs": [
    {
     "data": {
      "text/plain": [
       "1005"
      ]
     },
     "execution_count": 62,
     "metadata": {},
     "output_type": "execute_result"
    }
   ],
   "source": [
    "def all_subsequences(seq):\n",
    "    seqs = [seq]\n",
    "    while not is_last(seqs[-1]):\n",
    "        seqs.append(next_seq(seqs[-1]))\n",
    "    return seqs\n",
    "\n",
    "\n",
    "def predict_previous(seq):\n",
    "    all = all_subsequences(seq)\n",
    "    prev = 0\n",
    "    for i in range(1,len(all)+1):\n",
    "        current = all[-i][0] - prev\n",
    "        prev = current\n",
    "    return current\n",
    "\n",
    "\n",
    "sum([predict_previous(seq) for seq in sequences])"
   ]
  },
  {
   "cell_type": "markdown",
   "id": "29b44856-da22-4870-b664-3cac8562f20f",
   "metadata": {},
   "source": [
    " ## Day 10"
   ]
  },
  {
   "cell_type": "markdown",
   "id": "e23ef9a6-7933-424e-8d2e-988ea92ebb24",
   "metadata": {},
   "source": [
    "### Part 1"
   ]
  },
  {
   "cell_type": "code",
   "execution_count": 21,
   "id": "d1deca92-cd46-44f1-83f8-bd32017db4aa",
   "metadata": {},
   "outputs": [
    {
     "data": {
      "text/plain": [
       "6640"
      ]
     },
     "execution_count": 21,
     "metadata": {},
     "output_type": "execute_result"
    }
   ],
   "source": [
    "with open('inputs/day10.txt') as f:\n",
    "    s = f.read()[:-1]\n",
    "\n",
    "grid = s.split('\\n')\n",
    "neighbours = {'|': {(0,-1), (0,1)},\n",
    "              '-': {(-1,0), (1,0)},\n",
    "              'L': {(0,-1), (1,0)},\n",
    "              'J': {(0,-1), (-1,0)},\n",
    "              '7': {(0,1), (-1,0)},\n",
    "              'F': {(0,1), (1,0)},\n",
    "              'S': {(-1,0), (1,0), (0,-1), (0,1)},\n",
    "              '.': {}}\n",
    "\n",
    "for y,line in enumerate(grid):\n",
    "    if 'S' in line:\n",
    "        y0 = y\n",
    "        x0 = line.index('S')\n",
    "\n",
    "distances = {}\n",
    "queue = {(x0,y0,0)}\n",
    "\n",
    "\n",
    "def connections(x,y):\n",
    "    return neighbours[grid[y][x]]\n",
    "\n",
    "\n",
    "def connects_to(x0,y0,xd,yd):\n",
    "    return (xd,yd) in connections(x0,y0) and (-xd,-yd) in connections(x0+xd, y0+yd)\n",
    "\n",
    "\n",
    "def look_around(x,y):\n",
    "    return [(x+xd,y+yd) for (xd,yd) in connections(x,y) if connects_to(x,y,xd,yd)]\n",
    "\n",
    "\n",
    "def visit_neighbours(x,y,d):\n",
    "    if (x,y) in distances and d >= distances[(x,y)]:\n",
    "        return\n",
    "    distances[(x,y)] = d\n",
    "    connecting = look_around(x,y)\n",
    "    for (x1,y1) in connecting:\n",
    "        if (x1,y1) not in distances or distances[(x1,y1)] > d+1:\n",
    "            queue.add((x1,y1,d+1))\n",
    "\n",
    "\n",
    "while len(queue) > 0:\n",
    "    x,y,d = queue.pop()\n",
    "    visit_neighbours(x,y,d)\n",
    "\n",
    "\n",
    "(xf,yf) = max(distances,key=distances.get)\n",
    "distances[(xf,yf)]"
   ]
  },
  {
   "cell_type": "markdown",
   "id": "2cc9e6d5-62b8-440f-aa4e-393028387e99",
   "metadata": {},
   "source": [
    "### Part 2"
   ]
  },
  {
   "cell_type": "code",
   "execution_count": 22,
   "id": "0d174a7a-eb49-4ddf-877a-cf6ce058ead9",
   "metadata": {},
   "outputs": [
    {
     "data": {
      "text/plain": [
       "411"
      ]
     },
     "execution_count": 22,
     "metadata": {},
     "output_type": "execute_result"
    }
   ],
   "source": [
    "grid = [' '.join(list(y)) for y in s.split('\\n')]\n",
    "for i in range(len(grid)-1,-1,-1):\n",
    "    grid.insert(i+1,' '*len(grid[0]))\n",
    "\n",
    "neighbours = {'|': {(0,-2), (0,2)},\n",
    "              '-': {(-2,0), (2,0)},\n",
    "              'L': {(0,-2), (2,0)},\n",
    "              'J': {(0,-2), (-2,0)},\n",
    "              '7': {(0,2), (-2,0)},\n",
    "              'F': {(0,2), (2,0)},\n",
    "              'S': {(-2,0), (2,0), (0,-2), (0,2)},\n",
    "              '.': {}}\n",
    "\n",
    "for y,line in enumerate(grid):\n",
    "    if 'S' in line:\n",
    "        y0 = y\n",
    "        x0 = line.index('S')\n",
    "\n",
    "\n",
    "def connects_to(x0,y0,xd,yd):\n",
    "    connects = (xd,yd) in connections(x0,y0) and (-xd,-yd) in connections(x0+xd, y0+yd)\n",
    "    if connects:\n",
    "        grid[y0+yd//2] = grid[y0+yd//2][:x0+xd//2] + 'x' + grid[y0+yd//2][x0+xd//2+1:]\n",
    "    return connects\n",
    "\n",
    "\n",
    "distances = {}\n",
    "queue = {(x0,y0,0)}\n",
    "while len(queue) > 0:\n",
    "    x,y,d = queue.pop()\n",
    "    visit_neighbours(x,y,d)\n",
    "\n",
    "loop = [''.join(['.' if ((x,y) not in distances and grid[y][x] != 'x' and x % 2 == 0 and y % 2 == 0) else grid[y][x] \\\n",
    "                 for x in range(len(grid[0]))]) for y in range(len(grid))]\n",
    "\n",
    "def expand(x0,y0):\n",
    "    queue = {(x0,y0)}\n",
    "    visited = set()\n",
    "    while len(queue) > 0:\n",
    "        (x,y) = queue.pop()\n",
    "        if x >= 0 and x < len(grid[0]) and y >= 0 and y < len(grid) and (loop[y][x] == '.' or loop[y][x] == ' ') and (x,y) not in visited:\n",
    "            visited.add((x,y))\n",
    "            queue.add((x-1,y))\n",
    "            queue.add((x+1,y))\n",
    "            queue.add((x,y-1))\n",
    "            queue.add((x,y+1))\n",
    "    return visited\n",
    "\n",
    "outside = expand(0,0)\n",
    "inside = [''.join([' ' if (x,y) in outside else loop[y][x] for x in range(len(loop[0]))]) for y in range(len(loop))]\n",
    "\n",
    "sum([line.count('.') for line in inside])"
   ]
  },
  {
   "cell_type": "markdown",
   "id": "92b768f6-14ca-48bb-b5ac-99196be6b8fb",
   "metadata": {},
   "source": [
    "## Day 11"
   ]
  },
  {
   "cell_type": "markdown",
   "id": "43abfbe1-0b02-4d65-8cee-58a1cdbf871c",
   "metadata": {},
   "source": [
    "### Part 1"
   ]
  },
  {
   "cell_type": "code",
   "execution_count": 78,
   "id": "341fa171-96bb-4046-bc72-091e6a9ab081",
   "metadata": {},
   "outputs": [
    {
     "data": {
      "text/plain": [
       "9370588"
      ]
     },
     "execution_count": 78,
     "metadata": {},
     "output_type": "execute_result"
    }
   ],
   "source": [
    "with open('inputs/day11.txt') as f:\n",
    "    s = f.read()[:-1]\n",
    "\n",
    "\n",
    "def transpose(matrix):\n",
    "    return [''.join([matrix[y][x] for y in range(len(matrix))]) for x in range(len(matrix[0]))]\n",
    "\n",
    "\n",
    "space = s.split('\\n')\n",
    "space_t = transpose(space)\n",
    "empty_y = {y for y in range(len(space)) if '#' not in space[y]}\n",
    "empty_x = {x for x in range(len(space_t)) if '#' not in space_t[x]}\n",
    "galaxies = [(x,y) for x in range(len(space[0])) for y in range(len(space)) if space[y][x] == '#']\n",
    "\n",
    "\n",
    "def distance(g1,g2,empty_value):\n",
    "    (x1,y1) = g1\n",
    "    (x2,y2) = g2\n",
    "    acc = abs(x1-x2) + abs(y1-y2)\n",
    "    for x in empty_x:\n",
    "        if x in range(min(x1,x2), max(x1,x2)):\n",
    "            acc += empty_value-1\n",
    "    for y in empty_y:\n",
    "        if y in range(min(y1,y2), max(y1,y2)):\n",
    "            acc += empty_value-1\n",
    "    return acc\n",
    "\n",
    "\n",
    "acc = 0\n",
    "for i in range(len(galaxies)):\n",
    "    for j in range(i+1, len(galaxies)):\n",
    "        acc += distance(galaxies[i], galaxies[j],2)\n",
    "\n",
    "acc"
   ]
  },
  {
   "cell_type": "markdown",
   "id": "5bd9bc8e-f62f-44d8-bcd3-5bad7e3b8d39",
   "metadata": {},
   "source": [
    "### Part 2"
   ]
  },
  {
   "cell_type": "code",
   "execution_count": 79,
   "id": "4c0e5071-ddea-47fa-8601-b0c4005d772b",
   "metadata": {},
   "outputs": [
    {
     "data": {
      "text/plain": [
       "746207878188"
      ]
     },
     "execution_count": 79,
     "metadata": {},
     "output_type": "execute_result"
    }
   ],
   "source": [
    "acc = 0\n",
    "for i in range(len(galaxies)):\n",
    "    for j in range(i+1, len(galaxies)):\n",
    "        acc += distance(galaxies[i], galaxies[j],1000000)\n",
    "\n",
    "acc"
   ]
  },
  {
   "cell_type": "markdown",
   "id": "643155c0-c310-4a34-99c4-13f9bebd118c",
   "metadata": {},
   "source": [
    "## Day 12"
   ]
  },
  {
   "cell_type": "markdown",
   "id": "d1fd0357-5a5d-4d92-b5ae-71f9a6ea5a36",
   "metadata": {},
   "source": [
    "### Part 1"
   ]
  },
  {
   "cell_type": "code",
   "execution_count": 298,
   "id": "2b976711-1ddd-4d95-b8bd-8719e9d8dbf2",
   "metadata": {},
   "outputs": [
    {
     "data": {
      "text/plain": [
       "7204"
      ]
     },
     "execution_count": 298,
     "metadata": {},
     "output_type": "execute_result"
    }
   ],
   "source": [
    "from functools import cache\n",
    "\n",
    "with open('inputs/day12.txt') as f:\n",
    "    s = f.read()[:-1]\n",
    "\n",
    "@cache\n",
    "def count_solutions(record, broken_blocks, solutions):\n",
    "    if len(record) == 0 and len(broken_blocks) == 0:\n",
    "        return 1\n",
    "    if len(record) == 0 and len(broken_blocks) > 0:\n",
    "        return 0\n",
    "    if record[0] == '.':\n",
    "        return count_solutions(record[1:], broken_blocks, solutions)\n",
    "    if record[0] == '#':\n",
    "        if len(broken_blocks) == 0 or len(record) < broken_blocks[0] or '.' in record[:broken_blocks[0]] or \\\n",
    "           (len(record) > broken_blocks[0] and record[broken_blocks[0]] == '#'):\n",
    "            return 0\n",
    "        else:\n",
    "            return count_solutions('.' + record[broken_blocks[0]+1:], broken_blocks[1:], solutions)\n",
    "    return count_solutions('#' + record[1:], broken_blocks, solutions+1) + count_solutions('.' + record[1:], broken_blocks, solutions+1)\n",
    "\n",
    "\n",
    "springs = [(line.split(' ')[0], tuple([int(n) for n in line.split(' ')[1].split(',')])) for line in s.split('\\n')]\n",
    "sum([count_solutions(spring[0],spring[1],0) for spring in springs])"
   ]
  },
  {
   "cell_type": "markdown",
   "id": "88b1db76-1075-4a7b-9f7c-cf2c258542ee",
   "metadata": {},
   "source": [
    "### Part 2"
   ]
  },
  {
   "cell_type": "code",
   "execution_count": 299,
   "id": "7fe6afe5-443b-4de5-bdee-b899ba1799e8",
   "metadata": {},
   "outputs": [
    {
     "data": {
      "text/plain": [
       "1672318386674"
      ]
     },
     "execution_count": 299,
     "metadata": {},
     "output_type": "execute_result"
    }
   ],
   "source": [
    "def unfold(spring):\n",
    "    (record, broken_blocks) = spring\n",
    "    return ('?'.join([record]*5),broken_blocks*5)\n",
    "\n",
    "unfolded_springs = [unfold(spring) for spring in springs]\n",
    "sum([count_solutions(spring[0],spring[1],0) for spring in unfolded_springs])"
   ]
  },
  {
   "cell_type": "markdown",
   "id": "abeb0f3c-7649-4156-82cf-c5864f34affb",
   "metadata": {},
   "source": [
    "## Day 13"
   ]
  },
  {
   "cell_type": "markdown",
   "id": "b36e3507-2bf0-4a4d-966f-1a4e4b9a6ab7",
   "metadata": {},
   "source": [
    "### Part 1"
   ]
  },
  {
   "cell_type": "code",
   "execution_count": 89,
   "id": "48ffd7e9-09de-4864-82f8-5b23e5eb4cd0",
   "metadata": {},
   "outputs": [
    {
     "data": {
      "text/plain": [
       "26957"
      ]
     },
     "execution_count": 89,
     "metadata": {},
     "output_type": "execute_result"
    }
   ],
   "source": [
    "with open('inputs/day13.txt') as f:\n",
    "    s = f.read()[:-1]\n",
    "\n",
    "def transpose(matrix):\n",
    "    return [''.join([matrix[y][x] for y in range(len(matrix))]) for x in range(len(matrix[0]))]\n",
    "\n",
    "\n",
    "def check_reflection(pattern,y):\n",
    "    size = min(y, len(pattern)-y)\n",
    "    return pattern[y-size:y] == pattern[y:y+size][::-1] \n",
    "\n",
    "\n",
    "def find_horizontal_reflection(pattern):\n",
    "    for y in range(1,len(pattern)):\n",
    "        if check_reflection(pattern,y):\n",
    "            return y\n",
    "    return 0\n",
    "\n",
    "\n",
    "def find_vertical_reflection(pattern):\n",
    "    pattern_t = transpose(pattern)\n",
    "    for x in range(1,len(pattern_t)):\n",
    "        if check_reflection(pattern_t,x):\n",
    "            return x\n",
    "    return 0\n",
    "    \n",
    "\n",
    "def find_reflection_index(pattern):\n",
    "    return (find_vertical_reflection(pattern), find_horizontal_reflection(pattern))\n",
    "\n",
    "\n",
    "def reflection_value(pattern):\n",
    "    (ref_x, ref_y) = find_reflection_index(pattern)\n",
    "    return 100*ref_y + ref_x\n",
    "\n",
    "\n",
    "patterns = [pattern.split('\\n') for pattern in s.split('\\n\\n')]\n",
    "sum(map(lambda pattern: reflection_value(pattern), patterns))"
   ]
  },
  {
   "cell_type": "markdown",
   "id": "b68432f2-a750-4a50-ad82-cf36c7f86351",
   "metadata": {},
   "source": [
    "### Part 2"
   ]
  },
  {
   "cell_type": "code",
   "execution_count": 124,
   "id": "6da555d1-339e-4b7f-834a-4e9d3ff87d92",
   "metadata": {},
   "outputs": [
    {
     "data": {
      "text/plain": [
       "42695"
      ]
     },
     "execution_count": 124,
     "metadata": {},
     "output_type": "execute_result"
    }
   ],
   "source": [
    "def flip(pattern,x,y):\n",
    "    replacement = '.' if pattern[y][x] == '#' else '#'\n",
    "    return [pattern[yy][:x] + replacement + pattern[yy][x+1:] if yy == y else pattern[yy] for yy in range(len(pattern))]\n",
    "\n",
    "def find_horizontal_reflection_except(pattern,ex):\n",
    "    for y in range(1,len(pattern)):\n",
    "        if check_reflection(pattern,y) and y != ex:\n",
    "            return y\n",
    "    return 0\n",
    "\n",
    "\n",
    "def find_vertical_reflection_except(pattern,ex):\n",
    "    pattern_t = transpose(pattern)\n",
    "    for x in range(1,len(pattern_t)):\n",
    "        if check_reflection(pattern_t,x) and x != ex:\n",
    "            return x\n",
    "    return 0\n",
    "    \n",
    "\n",
    "def find_reflection_index_except(pattern,ex_x,ex_y):\n",
    "    return (find_vertical_reflection_except(pattern,ex_x), find_horizontal_reflection_except(pattern,ex_y))\n",
    "\n",
    "\n",
    "def reflection_value_smudged(pattern):\n",
    "    (ref_x_0, ref_y_0) = find_reflection_index(pattern)\n",
    "    for y in range(len(pattern)):\n",
    "        for x in range(len(pattern[0])):\n",
    "            cleaned = flip(pattern,x,y)\n",
    "            (ref_x, ref_y) = find_reflection_index_except(cleaned, ref_x_0, ref_y_0)\n",
    "            if ref_x == ref_x_0:\n",
    "                ref_x = 0\n",
    "            if ref_y == ref_y_0:\n",
    "                ref_y = 0\n",
    "            if ref_x + ref_y != 0:\n",
    "                return 100*ref_y + ref_x\n",
    "\n",
    "\n",
    "sum(map(lambda pattern: reflection_value_smudged(pattern), patterns))"
   ]
  },
  {
   "cell_type": "markdown",
   "id": "df4a2ccd-d4ff-49b0-9f75-f5a251fbac79",
   "metadata": {},
   "source": [
    "## Day 14"
   ]
  },
  {
   "cell_type": "markdown",
   "id": "94824d2b-2347-436c-a1db-fb48ce103e32",
   "metadata": {},
   "source": [
    "### Part 1"
   ]
  },
  {
   "cell_type": "code",
   "execution_count": 94,
   "id": "f56a64ff-3896-406c-b743-5441c72eb403",
   "metadata": {},
   "outputs": [
    {
     "data": {
      "text/plain": [
       "108144"
      ]
     },
     "execution_count": 94,
     "metadata": {},
     "output_type": "execute_result"
    }
   ],
   "source": [
    "with open('inputs/day14.txt') as f:\n",
    "    s = f.read()[:-1].split('\\n')\n",
    "\n",
    "min_x = 0\n",
    "min_y = 0\n",
    "max_x = len(s[0])-1\n",
    "max_y = len(s)-1\n",
    "\n",
    "static = {(x,y) for y in range(max_y+1) for x in range(max_x+1) if s[y][x] == '#'}\n",
    "rolling = {(x,y) for y in range(max_y+1) for x in range(max_x+1) if s[y][x] == 'O'}\n",
    "\n",
    "\n",
    "def discover_stuck(rolling, direction):\n",
    "    (x_d,y_d) = direction\n",
    "    stuck = {(x,y) for (x,y) in rolling if (x+x_d) < min_x or (y+y_d) < min_y or (x+x_d) > max_x or (y+y_d) > max_y or (x+x_d,y+y_d) in static}\n",
    "    added = len(stuck)\n",
    "    while added != 0:\n",
    "        also_stuck = {(x,y) for (x,y) in rolling if (x+x_d,y+y_d) in stuck and (x,y) not in stuck}\n",
    "        added = len(also_stuck)\n",
    "        stuck.update(also_stuck)\n",
    "    return stuck\n",
    "\n",
    "\n",
    "def roll_once(rolling, direction):\n",
    "    (x_d,y_d) = direction\n",
    "    stuck = discover_stuck(rolling, direction)\n",
    "    free = {(x+x_d,y+y_d) for (x,y) in rolling if (x,y) not in stuck}\n",
    "    new_rolling = stuck.union(free)\n",
    "    return (new_rolling, rolling != new_rolling)\n",
    "\n",
    "\n",
    "def full_roll(rolling, direction):\n",
    "    (rolling_new, changed) = roll(rolling, direction)\n",
    "    while changed:\n",
    "        (rolling_new, changed) = roll(rolling_new, direction)\n",
    "    return rolling_new\n",
    "\n",
    "\n",
    "def load(rolling):\n",
    "    return sum([max_y+1-y for (_,y) in rolling])\n",
    "\n",
    "rolling_new = full_roll(rolling, (0,-1))\n",
    "load(rolling_new)"
   ]
  },
  {
   "cell_type": "markdown",
   "id": "e54f611f-f187-4ced-a679-6da9669017c1",
   "metadata": {},
   "source": [
    "### Part 2"
   ]
  },
  {
   "cell_type": "code",
   "execution_count": 95,
   "id": "63f31fdb-1832-4a61-a196-ade76671286b",
   "metadata": {},
   "outputs": [
    {
     "data": {
      "text/plain": [
       "108404"
      ]
     },
     "execution_count": 95,
     "metadata": {},
     "output_type": "execute_result"
    }
   ],
   "source": [
    "cache = {}\n",
    "\n",
    "def to_tuple(rolling):\n",
    "    return tuple(sorted(list(rolling)))\n",
    "\n",
    "\n",
    "def cycle(rolling,i):\n",
    "    rolling_t = to_tuple(rolling)\n",
    "    if rolling_t in cache:\n",
    "        return cache[rolling_t]\n",
    "    rolling = full_roll(rolling, (0,-1))\n",
    "    rolling = full_roll(rolling, (-1,0))\n",
    "    rolling = full_roll(rolling, (0,1))\n",
    "    rolling = full_roll(rolling, (1,0))\n",
    "    cache[rolling_t] = (rolling,i)\n",
    "    return (rolling,None)\n",
    "\n",
    "(rolling_new,cache_hit) = cycle(rolling, 0)\n",
    "cycles = 1000000000\n",
    "i = 1\n",
    "while i < cycles:\n",
    "    (rolling_new, first_seen) = cycle(rolling_new,i)\n",
    "    if first_seen is not None:\n",
    "        loop_length = i-first_seen\n",
    "        i = first_seen + loop_length*((cycles-first_seen)//loop_length)\n",
    "    i += 1\n",
    "\n",
    "load(rolling_new)"
   ]
  },
  {
   "cell_type": "markdown",
   "id": "241f0d51-832b-47ad-9fd0-d7015f8235b3",
   "metadata": {},
   "source": [
    "## Day 15"
   ]
  },
  {
   "cell_type": "markdown",
   "id": "407dc43e-1a21-4174-baaf-98014985a168",
   "metadata": {},
   "source": [
    "### Part 1"
   ]
  },
  {
   "cell_type": "code",
   "execution_count": 32,
   "id": "5739f549-6a0a-4792-b4e8-c51fc90bc39e",
   "metadata": {},
   "outputs": [
    {
     "data": {
      "text/plain": [
       "515210"
      ]
     },
     "execution_count": 32,
     "metadata": {},
     "output_type": "execute_result"
    }
   ],
   "source": [
    "from functools import reduce\n",
    "\n",
    "with open('inputs/day15.txt') as f:\n",
    "    s = f.read()[:-1].split(',')\n",
    "\n",
    "\n",
    "def process_char(current, char):\n",
    "    return ((current + ord(char))*17)%256\n",
    "\n",
    "\n",
    "def hash(str):\n",
    "    return reduce(lambda current,char: process_char(current,char), str, 0)\n",
    "\n",
    "\n",
    "sum(map(lambda instruction: hash(instruction), s))"
   ]
  },
  {
   "cell_type": "markdown",
   "id": "81b03d9a-4644-416c-8fda-283562690d13",
   "metadata": {},
   "source": [
    "### Part 2"
   ]
  },
  {
   "cell_type": "code",
   "execution_count": 33,
   "id": "13931744-c048-4e28-bf56-1193ebf2e39f",
   "metadata": {},
   "outputs": [
    {
     "data": {
      "text/plain": [
       "246762"
      ]
     },
     "execution_count": 33,
     "metadata": {},
     "output_type": "execute_result"
    }
   ],
   "source": [
    "def get_label(str):\n",
    "    return str[:-1] if str[-1] == '-' else str[:-2]\n",
    "\n",
    "\n",
    "def execute(boxes, instruction):\n",
    "    label = get_label(instruction)\n",
    "    box_index = hash(label)\n",
    "    if instruction[-1] == '-':\n",
    "        boxes[box_index] = [lens for lens in boxes[box_index] if lens[0] != label]\n",
    "    else:\n",
    "        focal_length = int(instruction[-1])\n",
    "        if label not in map(lambda lens: lens[0], boxes[box_index]):\n",
    "            boxes[box_index] += [(label, focal_length)]\n",
    "        else:\n",
    "            boxes[box_index] = [lens if lens[0] != label  else (label,focal_length) for lens in boxes[box_index]]\n",
    "    return boxes\n",
    "\n",
    "\n",
    "def box_power(boxes,index):\n",
    "    box = boxes[index]\n",
    "    return sum(map(lambda lens: (index+1)*lens[0]*lens[1][1], enumerate(box,1)))\n",
    "\n",
    "\n",
    "boxes = reduce(lambda boxes, instruction: execute(boxes,instruction), s, [[] for _ in range(256)])\n",
    "sum(map(lambda box_index: box_power(boxes, box_index), range(256)))"
   ]
  },
  {
   "cell_type": "markdown",
   "id": "277502e2-b3cd-4ada-bb79-620bc8e532ad",
   "metadata": {},
   "source": [
    "## Day 16"
   ]
  },
  {
   "cell_type": "markdown",
   "id": "5271a8ea-1004-4b7d-b6a2-7e28a2f5a5d4",
   "metadata": {},
   "source": [
    "### Part 1"
   ]
  },
  {
   "cell_type": "code",
   "execution_count": 11,
   "id": "74e3b6bc-479d-49c7-89fd-af8bc72eca22",
   "metadata": {},
   "outputs": [
    {
     "data": {
      "text/plain": [
       "8389"
      ]
     },
     "execution_count": 11,
     "metadata": {},
     "output_type": "execute_result"
    }
   ],
   "source": [
    "with open('inputs/day16.txt') as f:\n",
    "    s = f.read()[:-1].split('\\n')\n",
    "\n",
    "min_x = 0\n",
    "min_y = 0\n",
    "max_x = len(s[0])\n",
    "max_y = len(s)\n",
    "\n",
    "def all_matching(grid, char):\n",
    "    return {(x,y) for y in range(len(grid)) for x in range(len(grid[0])) if grid[y][x] == char}\n",
    "\n",
    "\n",
    "dash = all_matching(s, '-')\n",
    "pipe = all_matching(s, '|')\n",
    "slash = all_matching(s, '/')\n",
    "backslash = all_matching(s, '\\\\')\n",
    "\n",
    "\n",
    "def interact_dash(direction):\n",
    "    if direction == (0,-1) or direction == (0,1):\n",
    "        return [(-1,0),(1,0)]\n",
    "    return [direction]\n",
    "\n",
    "\n",
    "def interact_pipe(direction):\n",
    "    if direction == (-1,0) or direction == (1,0):\n",
    "        return [(0,-1),(0,1)]\n",
    "    return [direction]\n",
    "\n",
    "\n",
    "def interact_slash(direction):\n",
    "    (x,y) = direction\n",
    "    return [(-y,-x)]\n",
    "\n",
    "\n",
    "def interact_backslash(direction):\n",
    "    (x,y) = direction\n",
    "    return [(y,x)]\n",
    "\n",
    "\n",
    "def interact(light, direction):\n",
    "    if light in dash:\n",
    "        dir = interact_dash(direction)\n",
    "    elif light in pipe:\n",
    "        dir = interact_pipe(direction)\n",
    "    elif light in slash:\n",
    "        dir = interact_slash(direction)\n",
    "    elif light in backslash:\n",
    "        dir = interact_backslash(direction)\n",
    "    else:\n",
    "        dir = [direction]\n",
    "    return [(light,d) for d in dir]\n",
    "\n",
    "\n",
    "def move_light(light, direction):\n",
    "    (x,y) = light\n",
    "    (x_d,y_d) = direction\n",
    "    if not (x+x_d in range(min_x, max_x) and y+y_d in range(min_y, max_y)):\n",
    "        return None\n",
    "    return ((x+x_d, y+y_d),direction)\n",
    "\n",
    "\n",
    "def tick_single(light,direction):\n",
    "    new_lights = interact(light,direction)\n",
    "    return [move_light(light[0],light[1]) for light in new_lights if light is not None]\n",
    "\n",
    "\n",
    "def tick_all(lights, visited):\n",
    "    new_lights = set()\n",
    "    for light,direction in lights:\n",
    "        for new_light in tick_single(light,direction):\n",
    "            new_lights.add(new_light)\n",
    "    new_lights = {light for light in new_lights if light not in visited and light is not None}\n",
    "    for light in new_lights:\n",
    "        visited.add((light))\n",
    "    return (new_lights, visited)\n",
    "\n",
    "\n",
    "def energy_with_config(position, direction):\n",
    "    lights = {(position,direction)}\n",
    "    visited = {(position,direction)}\n",
    "    \n",
    "    while len(lights) > 0:\n",
    "        (lights,visited) = tick_all(lights, visited)\n",
    "\n",
    "    return len({light for (light,_) in visited})\n",
    "    \n",
    "\n",
    "energy_with_config((0,0),(1,0))"
   ]
  },
  {
   "cell_type": "markdown",
   "id": "76790f2a-2e37-4d05-a6bf-e196e2ce086d",
   "metadata": {},
   "source": [
    "### Part 2"
   ]
  },
  {
   "cell_type": "code",
   "execution_count": 12,
   "id": "5355922d-2412-495e-ab56-7b403fea591e",
   "metadata": {},
   "outputs": [
    {
     "data": {
      "text/plain": [
       "8564"
      ]
     },
     "execution_count": 12,
     "metadata": {},
     "output_type": "execute_result"
    }
   ],
   "source": [
    "north = max(map(lambda x: energy_with_config((x,0),(0,1)), range(min_x,max_x)))\n",
    "south = max(map(lambda x: energy_with_config((x,max_y-1),(0,-1)), range(min_x,max_x)))\n",
    "west = max(map(lambda y: energy_with_config((0,y),(1,0)), range(min_y,max_y)))\n",
    "east = max(map(lambda y: energy_with_config((max_x-1,y),(-1,0)), range(min_y,max_y)))\n",
    "\n",
    "max([north,south,west,east])"
   ]
  },
  {
   "cell_type": "markdown",
   "id": "416fa9a0-b47a-4050-8000-0e96979595fd",
   "metadata": {},
   "source": [
    " ## Day 17"
   ]
  },
  {
   "cell_type": "markdown",
   "id": "eb7199fc-bdb6-4ee8-80e7-2b485318c004",
   "metadata": {},
   "source": [
    "### Part 1"
   ]
  },
  {
   "cell_type": "code",
   "execution_count": 106,
   "id": "e2fa38e3-451d-49ef-ae64-d931361556b9",
   "metadata": {},
   "outputs": [
    {
     "data": {
      "text/plain": [
       "791"
      ]
     },
     "execution_count": 106,
     "metadata": {},
     "output_type": "execute_result"
    }
   ],
   "source": [
    "with open('inputs/day17.txt') as f:\n",
    "    s = f.read()[:-1].split('\\n')\n",
    "\n",
    "start = (0,0)\n",
    "target = (len(s[0])-1, len(s)-1)\n",
    "min_heat_loss = {(start,0,(0,1)): 0, (start,0,(1,0)): 0}\n",
    "queue = {(start,0,0,(0,1)),(start,0,0,(1,0))}\n",
    "\n",
    "def move(current,heat_loss,straight_for,previous_direction):\n",
    "    if (current,straight_for,previous_direction) in min_heat_loss and \\\n",
    "        min_heat_loss[(current,straight_for,previous_direction)] <= heat_loss and heat_loss != 0:\n",
    "        return\n",
    "    (x,y) = current\n",
    "    min_heat_loss[(current,straight_for,previous_direction)] = heat_loss\n",
    "    (prev_x,prev_y) = previous_direction\n",
    "    next_options = [(prev_y,prev_x),(-prev_y,-prev_x)]\n",
    "    if straight_for < 3:\n",
    "        next_options.append(previous_direction)\n",
    "    for dir in next_options:\n",
    "        (x_d,y_d) = dir\n",
    "        if x+x_d in range(0,len(s[0])) and y+y_d in range(0,len(s)):\n",
    "            queue.add(((x+x_d,y+y_d), heat_loss + int(s[y+y_d][x+x_d]), straight_for+1 if dir == previous_direction else 1, dir))\n",
    "\n",
    "while len(queue) > 0:\n",
    "    (current, heat_loss, straight_for, previous_direction) = queue.pop()\n",
    "    move(current, heat_loss, straight_for, previous_direction)\n",
    "\n",
    "min([min_heat_loss[k] for k in min_heat_loss if k[0] == target])"
   ]
  },
  {
   "cell_type": "markdown",
   "id": "26c0525b-b47d-441f-8f38-2024fd31cc20",
   "metadata": {},
   "source": [
    "### Part 2"
   ]
  },
  {
   "cell_type": "code",
   "execution_count": 107,
   "id": "7a575bb2-e5be-4a56-812e-9028e3d9b95f",
   "metadata": {},
   "outputs": [
    {
     "data": {
      "text/plain": [
       "900"
      ]
     },
     "execution_count": 107,
     "metadata": {},
     "output_type": "execute_result"
    }
   ],
   "source": [
    "min_heat_loss = {(start,0,(0,1)): 0, (start,0,(1,0)): 0}\n",
    "queue = {(start,0,0,(0,1)),(start,0,0,(1,0))}\n",
    "\n",
    "def move_ultra(current,heat_loss,straight_for,previous_direction):\n",
    "    if (current,straight_for,previous_direction) in min_heat_loss and \\\n",
    "        min_heat_loss[(current,straight_for,previous_direction)] <= heat_loss and heat_loss != 0:\n",
    "        return\n",
    "    (x,y) = current\n",
    "    min_heat_loss[(current,straight_for,previous_direction)] = heat_loss\n",
    "    (prev_x,prev_y) = previous_direction\n",
    "    if straight_for < 4:\n",
    "        next_options = [previous_direction]\n",
    "    else:\n",
    "        next_options = []\n",
    "        if x+4*prev_y in range(0,len(s[0])) and y+4*prev_x in range(0,len(s)):\n",
    "            next_options.append((prev_y,prev_x))\n",
    "        if x-4*prev_y in range(0,len(s[0])) and y-4*prev_x in range(0,len(s)):\n",
    "            next_options.append((-prev_y,-prev_x))\n",
    "        if straight_for < 10:\n",
    "            next_options.append(previous_direction)\n",
    "    for dir in next_options:\n",
    "        (x_d,y_d) = dir\n",
    "        if x+x_d in range(0,len(s[0])) and y+y_d in range(0,len(s)):\n",
    "            queue.add(((x+x_d,y+y_d), heat_loss + int(s[y+y_d][x+x_d]), straight_for+1 if dir == previous_direction else 1, dir))\n",
    "\n",
    "while len(queue) > 0:\n",
    "    (current, heat_loss, straight_for, previous_direction) = queue.pop()\n",
    "    move_ultra(current, heat_loss, straight_for, previous_direction)\n",
    "\n",
    "min([min_heat_loss[k] for k in min_heat_loss if k[0] == target])"
   ]
  },
  {
   "cell_type": "markdown",
   "id": "ddd538c9-5b75-4f6e-89fd-674bba2b2011",
   "metadata": {},
   "source": [
    "## Day 18"
   ]
  },
  {
   "cell_type": "markdown",
   "id": "f703c8b2-1f36-4950-a496-274f33d2af59",
   "metadata": {},
   "source": [
    "### Part 1"
   ]
  },
  {
   "cell_type": "code",
   "execution_count": 99,
   "id": "fb3d5021-dfc9-4218-9841-3d93fb272c00",
   "metadata": {},
   "outputs": [
    {
     "data": {
      "text/plain": [
       "108909"
      ]
     },
     "execution_count": 99,
     "metadata": {},
     "output_type": "execute_result"
    }
   ],
   "source": [
    "with open('inputs/day18.txt') as f:\n",
    "    s = f.read()[:-1]\n",
    "\n",
    "instructions = [tuple([line.split(' ')[0], int(line.split(' ')[1])]) for line in s.split('\\n')]\n",
    "directions = {'U': (0,-1), 'D': (0,1), 'L': (-1,0), 'R': (1,0)}\n",
    "\n",
    "\n",
    "def dig_holes(instructions):\n",
    "    current = (0,0)\n",
    "    hole_ranges = set()\n",
    "\n",
    "    min_x = 0\n",
    "    max_x = 0\n",
    "    min_y = 0\n",
    "    max_y = 0\n",
    "    \n",
    "    for (dir,times) in instructions:\n",
    "        d = directions[dir]\n",
    "        if dir == 'D' or dir == 'R':\n",
    "            hole_ranges.add(((current[0],current[0]+times*d[0]), (current[1],current[1]+times*d[1])))\n",
    "        else:\n",
    "            hole_ranges.add(((current[0]+times*d[0],current[0]), (current[1]+times*d[1],current[1])))\n",
    "            \n",
    "        current = (current[0]+times*d[0], current[1]+times*d[1])\n",
    "        \n",
    "        if current[0] < min_x:\n",
    "            min_x = current[0]\n",
    "        if current[1] < min_y:\n",
    "            min_y = current[1]\n",
    "        if current[0] > max_x:\n",
    "            max_x = current[0]\n",
    "        if current[1] > max_y:\n",
    "            max_y = current[1]\n",
    "    \n",
    "    min_x -= 1\n",
    "    max_x += 1\n",
    "    min_y -= 1\n",
    "    max_y += 1\n",
    "\n",
    "    return hole_ranges\n",
    "\n",
    "\n",
    "def holes_in_row(hole_ranges,y):\n",
    "    related_vertical = [r for r in hole_ranges if y in range(r[1][0],r[1][1]+1) if r[0][0] == r[0][1]]\n",
    "    down = set()\n",
    "    up = set()\n",
    "    \n",
    "    for ((xv,_), (yv1,yv2)) in related_vertical:\n",
    "        match = False\n",
    "        if yv1 == y:\n",
    "            down.add(xv)\n",
    "            match = True\n",
    "        if yv2 == y:\n",
    "            up.add(xv)\n",
    "            match = True\n",
    "        if not match:\n",
    "            down.add(xv)\n",
    "            up.add(xv)\n",
    "                \n",
    "    down = sorted(list(down))\n",
    "    up = sorted(list(up))\n",
    "    down_pairs = [(down[i],down[i+1]) for i in range(0,len(down),2)]\n",
    "    up_pairs = [(up[i],up[i+1]) for i in range(0,len(up),2)]\n",
    "    down_sum = sum([h2-h1+1 for (h1,h2) in down_pairs])\n",
    "    up_sum = sum([h2-h1+1 for (h1,h2) in up_pairs])\n",
    "    overlaps = []\n",
    "    for (d1,d2) in down_pairs:\n",
    "        for (u1,u2) in up_pairs:\n",
    "            if d1 in range(u1,u2+1) and d2 in range(u1,u2+1):\n",
    "                overlaps.append((d1,d2))\n",
    "            elif u1 in range(d1,d2+1) and u2 in range(d1,d2+1):\n",
    "                overlaps.append((u1,u2))\n",
    "            elif d1 in range(u1,u2+1):\n",
    "                overlaps.append((d1,u2))\n",
    "            elif u1 in range(d1,d2+1):\n",
    "                overlaps.append((u1,d2))\n",
    "    overlap_sum = sum([h2-h1+1 for (h1,h2) in overlaps])\n",
    "    return down_sum + up_sum - overlap_sum\n",
    "\n",
    "\n",
    "def count_holes(hole_ranges):  \n",
    "    horizontal = sorted(list({r[1][0] for r in hole_ranges if r[1][0] == r[1][1]}))\n",
    "    acc = 0\n",
    "    for i,y in enumerate(horizontal):\n",
    "        acc += holes_in_row(hole_ranges,y)\n",
    "        if i < len(horizontal)-1:\n",
    "            acc += holes_in_row(hole_ranges,y+1)*(horizontal[i+1]-y-1)\n",
    "    return acc\n",
    "\n",
    "hole_ranges = dig_holes(instructions)\n",
    "count_holes(hole_ranges)"
   ]
  },
  {
   "cell_type": "markdown",
   "id": "c75c947c-c69e-418a-a3f2-554279844774",
   "metadata": {},
   "source": [
    "### Part 2"
   ]
  },
  {
   "cell_type": "code",
   "execution_count": 100,
   "id": "ae687fe3-4bdd-4f6c-9376-29397546b3ca",
   "metadata": {},
   "outputs": [
    {
     "data": {
      "text/plain": [
       "133125706867777"
      ]
     },
     "execution_count": 100,
     "metadata": {},
     "output_type": "execute_result"
    }
   ],
   "source": [
    "hex_directions = {'0': 'R', '1': 'D', '2': 'L', '3': 'U'}\n",
    "hex_instructions = [tuple([hex_directions[line.split(' ')[2][-2]], int(line.split(' ')[2][2:-2], 16)]) for line in s.split('\\n')]\n",
    "\n",
    "hole_ranges = dig_holes(hex_instructions)\n",
    "count_holes(hole_ranges)"
   ]
  },
  {
   "cell_type": "markdown",
   "id": "ddf5d4f5-1719-4375-a267-07bad5f35c2a",
   "metadata": {},
   "source": [
    "## Day 19"
   ]
  },
  {
   "cell_type": "markdown",
   "id": "7e431f68-2498-43e9-a5ff-c92a5cbb1790",
   "metadata": {},
   "source": [
    "### Part 1"
   ]
  },
  {
   "cell_type": "code",
   "execution_count": 113,
   "id": "074c7098-5e19-461f-8073-0e5a4e151983",
   "metadata": {},
   "outputs": [
    {
     "data": {
      "text/plain": [
       "263678"
      ]
     },
     "execution_count": 113,
     "metadata": {},
     "output_type": "execute_result"
    }
   ],
   "source": [
    "from functools import reduce\n",
    "\n",
    "with open('inputs/day19.txt') as f:\n",
    "    s = f.read()[:-1].split('\\n\\n')\n",
    "\n",
    "\n",
    "def get_threshold(rule):\n",
    "    return int(rule[2:].split(':')[0])\n",
    "\n",
    "\n",
    "def get_destination(rule):\n",
    "    destination = rule.split(':')[-1]\n",
    "    if destination == 'A':\n",
    "        return True\n",
    "    if destination == 'R':\n",
    "        return False\n",
    "    return destination\n",
    "\n",
    "\n",
    "def add_rule(rules,new_rule):\n",
    "    if ':' not in new_rule:\n",
    "        rules.append((None,get_destination(new_rule)))\n",
    "        return rules\n",
    "        \n",
    "    threshold = get_threshold(new_rule)\n",
    "    if '<' in new_rule:\n",
    "        condition_sym = '<'\n",
    "        condition_f = lambda n: n < threshold\n",
    "    elif '>' in new_rule:\n",
    "        condition_sym = '>'\n",
    "        condition_f = lambda n: n > threshold\n",
    "        \n",
    "    condition = (new_rule[0], condition_f, threshold, condition_sym)\n",
    "    destination = get_destination(new_rule)\n",
    "    rule = (condition, destination)\n",
    "    rules.append(rule)\n",
    "    return rules\n",
    "\n",
    "\n",
    "def parse_workflow(workflow):\n",
    "    return reduce(lambda rs,r: add_rule(rs,r), workflow, [])\n",
    "    \n",
    "\n",
    "def run_workflow(part, workflow):\n",
    "    for (condition, destination) in workflow:\n",
    "        if condition is not None and condition[1](part[condition[0]]):\n",
    "            return destination\n",
    "        elif condition is None:\n",
    "            return destination\n",
    "\n",
    "\n",
    "def check_part(part, workflows):\n",
    "    current = 'in'\n",
    "    while current != True and current != False:\n",
    "        current = run_workflow(part, workflows[current])\n",
    "    return current\n",
    "        \n",
    "\n",
    "workflows = {workflow.split('{')[0]: parse_workflow(workflow[:-1].split('{')[1].split(',')) for workflow in s[0].split('\\n')}\n",
    "parts = [{rating.split('=')[0]: int(rating.split('=')[1]) for rating in part[1:-1].split(',')} for part in s[1].split('\\n')]\n",
    "        \n",
    "selected_parts = [part for part in parts if check_part(part,workflows)]\n",
    "sum([sum(part.values()) for part in selected_parts])"
   ]
  },
  {
   "cell_type": "markdown",
   "id": "ad6218d3-b6ac-45fa-8cc8-649cde8c8f7a",
   "metadata": {},
   "source": [
    "### Part 2"
   ]
  },
  {
   "cell_type": "code",
   "execution_count": 114,
   "id": "698e9301-7a76-41de-b542-b6af82862fb8",
   "metadata": {},
   "outputs": [
    {
     "data": {
      "text/plain": [
       "125455345557345"
      ]
     },
     "execution_count": 114,
     "metadata": {},
     "output_type": "execute_result"
    }
   ],
   "source": [
    "def split_rule_sets_on_rule(rule, rule_sets):\n",
    "    (category, _, split_on, sym) = rule\n",
    "    matching = []\n",
    "    non_matching = []\n",
    "    for rule_set in rule_sets:\n",
    "        if sym == '<':\n",
    "            if rule_set[category][-1] < split_on:\n",
    "                matching.append(rule_set)\n",
    "            elif rule_set[category][0] >= split_on:\n",
    "                non_matching.append(rule_set)\n",
    "            else:\n",
    "                matching.append({cat: rule_set[cat] if cat != category else (rule_set[cat][0], split_on-1) for cat in rule_set})\n",
    "                non_matching.append({cat: rule_set[cat] if cat != category else (split_on, rule_set[cat][-1]) for cat in rule_set})\n",
    "        elif sym == '>':\n",
    "            if rule_set[category][0] > split_on:\n",
    "                matching.append(rule_set)\n",
    "            elif rule_set[category][-1] <= split_on:\n",
    "                non_matching.append(rule_set)\n",
    "            else:\n",
    "                matching.append({cat: rule_set[cat] if cat != category else (split_on+1, rule_set[cat][-1]) for cat in rule_set})\n",
    "                non_matching.append({cat: rule_set[cat] if cat != category else (rule_set[cat][0], split_on) for cat in rule_set})\n",
    "    return (matching, non_matching)\n",
    "            \n",
    "            \n",
    "def create_rule_sets_from(rule_sets, workflow_name):\n",
    "    workflow = workflows[workflow_name]\n",
    "    matching = []\n",
    "    non_matching = rule_sets\n",
    "    for (condition, destination) in workflow:\n",
    "        if condition is not None:\n",
    "            (match, non_matching) = split_rule_sets_on_rule(condition, non_matching)\n",
    "        else:\n",
    "            match = non_matching\n",
    "            \n",
    "        if destination not in {True, False}:\n",
    "            match = create_rule_sets_from(match, destination)\n",
    "        elif not destination:\n",
    "            match = []\n",
    "            \n",
    "        matching.extend(match)\n",
    "\n",
    "    return matching\n",
    "\n",
    "\n",
    "def rule_set_value(rule_set):\n",
    "    return reduce(lambda acc,x: acc*x, [end-start+1 for (start, end) in rule_set.values()], 1)\n",
    "\n",
    "\n",
    "rule_sets = create_rule_sets_from([{'x': (1,4000), 'm': (1,4000), 'a': (1,4000), 's': (1,4000)}], 'in')\n",
    "sum([rule_set_value(rule_set) for rule_set in rule_sets])"
   ]
  },
  {
   "cell_type": "markdown",
   "id": "7ec266a4-3a3a-4b82-bde4-d39acd9d24ed",
   "metadata": {},
   "source": [
    "## Day 20"
   ]
  },
  {
   "cell_type": "markdown",
   "id": "4f4e67f5-c012-4a68-95ed-06469ab4e3e7",
   "metadata": {},
   "source": [
    "### Day 1"
   ]
  },
  {
   "cell_type": "code",
   "execution_count": 390,
   "id": "690d4848-ff36-4489-9bd7-b3e9b008bb5d",
   "metadata": {},
   "outputs": [
    {
     "data": {
      "text/plain": [
       "819397964"
      ]
     },
     "execution_count": 390,
     "metadata": {},
     "output_type": "execute_result"
    }
   ],
   "source": [
    "with open('inputs/day20.txt') as f:\n",
    "    s = f.read()[:-1].split('\\n')\n",
    "\n",
    "\n",
    "class Module:\n",
    "    def __init__(self,name,inputs,outputs):\n",
    "        self.name = name\n",
    "        self.state = None\n",
    "        self.inputs = {i:None for i in inputs}\n",
    "        self.outputs = {o:None for o in outputs}\n",
    "        self.type = ''\n",
    "        self.low = 0\n",
    "        self.high = 0\n",
    "\n",
    "    def send(self,pulse):\n",
    "        if pulse is not None:\n",
    "            for module in self.outputs:\n",
    "                self.outputs[module] = pulse\n",
    "                if pulse == True:\n",
    "                    self.high += 1\n",
    "                else:\n",
    "                    self.low += 1\n",
    "\n",
    "    def receive(self,pulse,source):\n",
    "        self.inputs[source] = pulse\n",
    "\n",
    "    def process_pulses(self):\n",
    "        pass\n",
    "\n",
    "    def process(self):\n",
    "        self.outputs = {o:None for o in self.outputs}\n",
    "        self.process_pulses()\n",
    "        self.inputs = {i:None for i in self.inputs}\n",
    "\n",
    "    def __repr__(self):\n",
    "        return  ','.join(self.inputs) + \" -> \" + self.type + self.name + \" -> \" + ','.join(self.outputs)\n",
    "\n",
    "\n",
    "class FlipFlop(Module):\n",
    "    def __init__(self,name,inputs,outputs):\n",
    "        super().__init__(name,inputs,outputs)\n",
    "        self.state = False\n",
    "        self.type = '%'\n",
    "    \n",
    "    def process_pulses(self):\n",
    "        if False in self.inputs.values():\n",
    "            self.state = not self.state\n",
    "            self.send(self.state)\n",
    "\n",
    "\n",
    "class Conjunction(Module):\n",
    "    def __init__(self,name,inputs,outputs):\n",
    "        super().__init__(name,inputs,outputs)\n",
    "        self.state = {i:False for i in inputs}\n",
    "        self.type = '&'\n",
    "\n",
    "    def process_pulses(self):\n",
    "        count = 0\n",
    "        for i in self.inputs:\n",
    "            if self.inputs[i] is not None:\n",
    "                self.state[i] = self.inputs[i]\n",
    "                count += 1\n",
    "\n",
    "        for _ in range(count):\n",
    "            if False in self.state.values():\n",
    "                self.send(True)\n",
    "            else:\n",
    "                self.send(False)\n",
    "\n",
    "\n",
    "class Broadcast(Module):\n",
    "    def __init__(self,outputs):\n",
    "        super().__init__(\"broadcaster\", [\"button\"], outputs)\n",
    "\n",
    "    def process_pulses(self):\n",
    "        self.send(list(self.inputs.values())[0])\n",
    "\n",
    "\n",
    "class Button(Module):\n",
    "    def __init__(self):\n",
    "        super().__init__(\"button\", [], [\"broadcaster\"])\n",
    "        self.state = False\n",
    "\n",
    "    def process_pulses(self):\n",
    "        if self.state:\n",
    "            self.send(False)\n",
    "        self.state = False\n",
    "\n",
    "    def press(self):\n",
    "        self.state = True\n",
    "\n",
    "\n",
    "input_map = {}\n",
    "for line in s:\n",
    "    outputs = line.split(' -> ')[-1].split(', ')\n",
    "    for o in outputs:\n",
    "        if o not in input_map:\n",
    "            input_map[o] = []\n",
    "        if line[0] in {'%', '&'}:\n",
    "            input_map[o].append(line.split(' -> ')[0][1:])\n",
    "        else:\n",
    "            input_map[o].append(line.split(' -> ')[0])\n",
    "\n",
    "def init_modules():\n",
    "    modules = {\"button\": Button()}\n",
    "    for line in s:\n",
    "        module, outputs = line.split(' -> ')\n",
    "        outputs = outputs.split(', ')\n",
    "        if module == 'broadcaster':\n",
    "            modules[module] = Broadcast(outputs)\n",
    "        else:\n",
    "            module = module[1:]\n",
    "        if line[0] == '%':\n",
    "            modules[module] = FlipFlop(module, input_map[module], outputs)\n",
    "        elif line[0] == '&':\n",
    "            modules[module] = Conjunction(module, input_map[module], outputs)\n",
    "    return modules\n",
    "\n",
    "\n",
    "def tick(modules):\n",
    "    changed = False\n",
    "    for name in modules:\n",
    "        for o in modules[name].outputs:\n",
    "            pulse = modules[name].outputs[o]\n",
    "            if pulse is not None:\n",
    "                changed = True \n",
    "                if o in modules:\n",
    "                    modules[o].receive(pulse, name)\n",
    "\n",
    "    for module in modules.values():\n",
    "        module.process()\n",
    "        \n",
    "    return changed\n",
    "\n",
    "\n",
    "def push_button(modules):\n",
    "    modules[\"button\"].press()\n",
    "    tick(modules)\n",
    "    changed = True\n",
    "    while changed:\n",
    "        changed = tick(modules)\n",
    "\n",
    "def count_pulses(modules):\n",
    "    low = 0\n",
    "    high = 0\n",
    "    for module in modules.values():\n",
    "        low += module.low\n",
    "        high += module.high\n",
    "    return (low,high)\n",
    "\n",
    "modules = init_modules()\n",
    "\n",
    "for _ in range(1000):\n",
    "    push_button(modules)\n",
    "\n",
    "low, high = count_pulses(modules)\n",
    "\n",
    "low*high"
   ]
  },
  {
   "cell_type": "markdown",
   "id": "16e473f3-9044-41ae-97a2-fbc56c5fa375",
   "metadata": {},
   "source": [
    "### Day 2"
   ]
  },
  {
   "cell_type": "code",
   "execution_count": 391,
   "id": "afeb28cb-7639-42b5-8130-59061efbde8e",
   "metadata": {},
   "outputs": [
    {
     "data": {
      "text/plain": [
       "252667369442479"
      ]
     },
     "execution_count": 391,
     "metadata": {},
     "output_type": "execute_result"
    }
   ],
   "source": [
    "from functools import reduce\n",
    "from math import lcm\n",
    "\n",
    "def identify_core(circuit):\n",
    "    flip_flops = {module for module in circuit if module in modules and modules[module].type == '%'}\n",
    "    center = [module for module in circuit if module in modules and modules[module].type == '&' and list(modules[module].inputs)[0] in flip_flops][0]\n",
    "    return (flip_flops, center)\n",
    "    \n",
    "\n",
    "def identify_circuit(start, modules):\n",
    "    queue = {start}\n",
    "    circuit = set()\n",
    "    while len(queue) > 0:\n",
    "        current = queue.pop()\n",
    "        circuit.add(current)\n",
    "        if current in modules:\n",
    "            for o in modules[current].outputs:\n",
    "                if o not in circuit:\n",
    "                    queue.add(o)\n",
    "    return identify_core(circuit)  \n",
    "\n",
    "\n",
    "def circuit_state(circuit,modules):\n",
    "    (flip_flops, _) = circuit\n",
    "    return tuple([modules[ff].state for ff in sorted(list(flip_flops))])\n",
    "\n",
    "\n",
    "def find_loop(circuit):\n",
    "    modules = init_modules()\n",
    "    states = []\n",
    "    current = circuit_state(circuit, modules)\n",
    "    while current not in states:\n",
    "        states.append(current)\n",
    "        push_button(modules)\n",
    "        current = circuit_state(circuit, modules)\n",
    "    return len(states) - states.index(current)\n",
    "\n",
    "\n",
    "circuits = [identify_circuit(module, modules) for module in modules['broadcaster'].outputs]\n",
    "loop_lengths = [find_loop(circuit) for circuit in circuits]\n",
    "\n",
    "reduce(lambda acc,n: lcm(acc,n), loop_lengths, 1)"
   ]
  },
  {
   "cell_type": "markdown",
   "id": "27ce510e-e0c0-47e3-aba0-51819fbbe3b9",
   "metadata": {},
   "source": [
    "## Day 21"
   ]
  },
  {
   "cell_type": "markdown",
   "id": "60ec3567-0a05-4d8b-bbde-2079943b356b",
   "metadata": {},
   "source": [
    "### Part 1"
   ]
  },
  {
   "cell_type": "code",
   "execution_count": 392,
   "id": "94de8e62-ff74-405f-8fd0-ad5cad8badee",
   "metadata": {},
   "outputs": [
    {
     "data": {
      "text/plain": [
       "3532"
      ]
     },
     "execution_count": 392,
     "metadata": {},
     "output_type": "execute_result"
    }
   ],
   "source": [
    "with open('inputs/day21.txt') as f:\n",
    "    s = f.read()[:-1].split('\\n')\n",
    "\n",
    "start = [(x,y) for x in range(len(s[0])) for y in range(len(s)) if s[y][x] == 'S'][0]\n",
    "plots = {(x-start[0],y-start[1]) for x in range(len(s[0])) for y in range(len(s)) if s[y][x] != '#'}\n",
    "\n",
    "def neighbours(x,y):\n",
    "    return {(x+xd, y+yd) for (xd,yd) in {(-1,0),(1,0),(0,-1),(0,1)} if ((x+xd), (y+yd)) in plots}\n",
    "\n",
    "\n",
    "def next_plots(current,next):\n",
    "    new_plots = set()\n",
    "    for (x,y) in current:\n",
    "        for c in neighbours(x,y):\n",
    "            if c not in next:\n",
    "                new_plots.add(c)\n",
    "    return new_plots,current\n",
    "\n",
    "\n",
    "def reachable(steps,start=(0,0)):\n",
    "    even_ring = {start}\n",
    "    odd_ring = set()\n",
    "    even = 1\n",
    "    odd = 0\n",
    "    \n",
    "    for i in range(1,steps+1):\n",
    "        if i % 2 == 0:\n",
    "            even_ring,odd_ring = next_plots(odd_ring,even_ring)\n",
    "            even += len(even_ring)\n",
    "        else:\n",
    "            odd_ring,even_ring = next_plots(even_ring,odd_ring)\n",
    "            odd += len(odd_ring)\n",
    "\n",
    "    return (even,odd)\n",
    "    \n",
    "\n",
    "reachable(64)[0]"
   ]
  },
  {
   "cell_type": "markdown",
   "id": "02b84396-30ae-4e69-bf9f-bc5fc1eb8f5a",
   "metadata": {},
   "source": [
    "### Part 2"
   ]
  },
  {
   "cell_type": "code",
   "execution_count": 393,
   "id": "db8da68e-c5f1-4d67-9b54-e473ef93dcb1",
   "metadata": {},
   "outputs": [
    {
     "data": {
      "text/plain": [
       "590104708070703"
      ]
     },
     "execution_count": 393,
     "metadata": {},
     "output_type": "execute_result"
    }
   ],
   "source": [
    "target = 26501365\n",
    "length = len(s)\n",
    "half = length//2\n",
    "reached_gardens_1d = target//length\n",
    "inner_gardens = reached_gardens_1d**2+(reached_gardens_1d-1)**2\n",
    "inner_normal = (int(reached_gardens_1d/2)*2)**2 + (reached_gardens_1d % 2)*4*(reached_gardens_1d-1)\n",
    "inner_swapped = inner_gardens - inner_normal\n",
    "corner_index = reached_gardens_1d % 2\n",
    "edge_index = (reached_gardens_1d+1) % 2\n",
    "\n",
    "(fully_explored_even, fully_explored_odd) = reachable(131)\n",
    "\n",
    "inner_normal_total = inner_normal*fully_explored_even\n",
    "inner_swapped_total = inner_swapped*fully_explored_odd\n",
    "corners = sum([reachable(131,start)[corner_index] for start in [(half,0), (-half,0), (0,half), (0,-half)]])\n",
    "edges_small = reached_gardens_1d*sum([reachable(65,start)[corner_index] for start in [(half,half), (half,-half), (-half,half), (-half,-half)]])\n",
    "edges_large = (reached_gardens_1d-1)*sum([reachable(131+65,start)[edge_index] for start in [(half,half), (half,-half), (-half,half), (-half,-half)]])\n",
    "\n",
    "inner_normal_total+inner_swapped_total+corners+edges_small+edges_large"
   ]
  },
  {
   "cell_type": "markdown",
   "id": "97d8ec81-49f0-4772-baa3-ca9e24e0d53f",
   "metadata": {},
   "source": [
    "## Day 22"
   ]
  },
  {
   "cell_type": "markdown",
   "id": "e788f71c-e3ef-4e3a-ba36-59ef2ff28f9a",
   "metadata": {},
   "source": [
    "### Part 1"
   ]
  },
  {
   "cell_type": "code",
   "execution_count": 62,
   "id": "0b273fda-29a2-4415-a5fc-c22a353f9069",
   "metadata": {},
   "outputs": [
    {
     "data": {
      "text/plain": [
       "393"
      ]
     },
     "execution_count": 62,
     "metadata": {},
     "output_type": "execute_result"
    }
   ],
   "source": [
    "with open('inputs/day22.txt') as f:\n",
    "    s = f.read()[:-1]\n",
    "\n",
    "bricks = [tuple([tuple([int(n) for n in end.split(',')]) for end in line.split('~')]) for line in s.split('\\n')]\n",
    "\n",
    "def brick_parts(brick):\n",
    "    end1,end2 = brick\n",
    "    x1,y1,z1 = end1\n",
    "    x2,y2,z2 = end2\n",
    "    return [(x,y,z) for x in range(x1,x2+1) for y in range(y1,y2+1) for z in range(z1,z2+1)]\n",
    "\n",
    "\n",
    "def final_position(brick, highest_point):\n",
    "    highest = 0\n",
    "    for (x,y,_) in brick_parts(brick):\n",
    "        below = highest_point.get((x,y),0)\n",
    "        if below > highest:\n",
    "            highest = below\n",
    "    \n",
    "    fall_for = brick[0][2] - (highest+1)\n",
    "    final_brick = ((brick[0][0],brick[0][1],brick[0][2]-fall_for),(brick[1][0],brick[1][1],brick[1][2]-fall_for))\n",
    "    final_parts = brick_parts(final_brick)\n",
    "    \n",
    "    for (x,y,_) in final_parts:\n",
    "        highest_point[(x,y)] = brick[1][2] - fall_for\n",
    "    \n",
    "    return final_brick\n",
    "\n",
    "\n",
    "def drop_bricks(bricks):\n",
    "    bricks = sorted(bricks, key=lambda brick: brick[0][2])\n",
    "    highest_point = {}\n",
    "    bricks_final = [final_position(brick, highest_point) for brick in bricks]\n",
    "\n",
    "    return bricks_final\n",
    "\n",
    "\n",
    "bricks_final = sorted(drop_bricks(bricks), key=lambda brick: brick[0][2])\n",
    "count = 0\n",
    "for brick in bricks_final:\n",
    "    missing = [b for b in bricks_final if b != brick]\n",
    "    if missing == drop_bricks(missing):\n",
    "        count += 1\n",
    "\n",
    "count"
   ]
  },
  {
   "cell_type": "markdown",
   "id": "97ef7ce4-a0e8-4353-b020-0ede2b2a2187",
   "metadata": {},
   "source": [
    "### Part 2"
   ]
  },
  {
   "cell_type": "code",
   "execution_count": 63,
   "id": "970a93fc-8fa3-4fba-8ac6-370b294cefd8",
   "metadata": {},
   "outputs": [
    {
     "data": {
      "text/plain": [
       "58440"
      ]
     },
     "execution_count": 63,
     "metadata": {},
     "output_type": "execute_result"
    }
   ],
   "source": [
    "fall_sum = 0\n",
    "for brick in bricks_final:\n",
    "    missing = [b for b in bricks_final if b != brick]\n",
    "    missing_final = drop_bricks(missing)\n",
    "    for i in range(len(missing)):\n",
    "        if missing[i] != missing_final[i]:\n",
    "            fall_sum += 1\n",
    "\n",
    "fall_sum"
   ]
  },
  {
   "cell_type": "markdown",
   "id": "32a09236-1d4a-4e93-a1b7-f12cea66cd2e",
   "metadata": {},
   "source": [
    "## Day 23"
   ]
  },
  {
   "cell_type": "markdown",
   "id": "cdceea11-c2a0-4921-a7a4-1f0a38b0e601",
   "metadata": {},
   "source": [
    "### Part 1"
   ]
  },
  {
   "cell_type": "code",
   "execution_count": 49,
   "id": "45e37acf-6233-487a-8b04-f8e658e77bce",
   "metadata": {},
   "outputs": [
    {
     "data": {
      "text/plain": [
       "2050"
      ]
     },
     "execution_count": 49,
     "metadata": {},
     "output_type": "execute_result"
    }
   ],
   "source": [
    "with open('inputs/day23.txt') as f:\n",
    "    s = f.read()[:-1].split('\\n')\n",
    "\n",
    "path = {(x,y): s[y][x] for y in range(len(s)) for x in range(len(s[0])) if s[y][x] != '#'}\n",
    "start = (s[0].index('.'), 0)\n",
    "finish = (s[-1].index('.'), len(s)-1)\n",
    "\n",
    "\n",
    "def is_valid_move(current, candidate, visited, path):\n",
    "    xd = candidate[0]-current[0]\n",
    "    yd = candidate[1]-current[1]\n",
    "    \n",
    "    if candidate not in path:\n",
    "        return False\n",
    "    if candidate in visited:\n",
    "        return False\n",
    "    if (xd,yd) == (-1,0) and path[candidate] == '>':\n",
    "        return False\n",
    "    if (xd,yd) == (1,0) and path[candidate] == '<':\n",
    "        return False\n",
    "    if (xd,yd) == (0,-1) and path[candidate] == 'v':\n",
    "        return False\n",
    "    if (xd,yd) == (0,1) and path[candidate] == '^':\n",
    "        return False\n",
    "    else:\n",
    "        return True\n",
    "\n",
    "\n",
    "def next_steps(current, visited, path):\n",
    "    (x,y) = current\n",
    "    if path[current] == '>':\n",
    "        return [(x+1,y)]\n",
    "    elif path[current] == '<':\n",
    "        return [(x-1,y)]\n",
    "    elif path[current] == 'v':\n",
    "        return [(x,y+1)]\n",
    "    elif path[current] == '^':\n",
    "        return [(x,y-1)]\n",
    "    else:\n",
    "        return [(x+xd,y+yd) for (xd,yd) in [(-1,0),(1,0),(0,-1),(0,1)] if is_valid_move(current, (x+xd,y+yd), visited, path)]\n",
    "\n",
    "\n",
    "def move(current, visited, path, longest, seen, queue):\n",
    "    if (current, visited) in seen:\n",
    "        return\n",
    "\n",
    "    seen.add((current,visited))\n",
    "    if current not in longest or longest[current] < len(visited):\n",
    "        longest[current] = len(visited)\n",
    "    \n",
    "    visited_n = [v for v in visited]\n",
    "    visited_n.append(current)\n",
    "    visited_n.sort()\n",
    "    visited_n = tuple(visited_n)\n",
    "    for n in next_steps(current, visited_n, path):\n",
    "        queue.add((n, visited_n))\n",
    "\n",
    "\n",
    "def find_longest(start, finish, path):\n",
    "    longest = {}\n",
    "    seen = set()\n",
    "    queue = set()\n",
    "    queue.add((start, ()))\n",
    "    while len(queue) > 0:\n",
    "        (current, visited) = queue.pop()\n",
    "        move(current, visited, path, longest, seen, queue)\n",
    "    \n",
    "    return longest[finish]\n",
    "\n",
    "\n",
    "find_longest(start, finish, path)"
   ]
  },
  {
   "cell_type": "markdown",
   "id": "a9c65852-38d3-446d-8cf4-74ce760f7f4a",
   "metadata": {},
   "source": [
    "### Part 2"
   ]
  },
  {
   "cell_type": "code",
   "execution_count": 53,
   "id": "f20b4db6-0880-493f-9b56-994a4753a452",
   "metadata": {},
   "outputs": [
    {
     "data": {
      "text/plain": [
       "6262"
      ]
     },
     "execution_count": 53,
     "metadata": {},
     "output_type": "execute_result"
    }
   ],
   "source": [
    "with open('inputs/day23.txt') as f:\n",
    "    s = f.read()[:-1].split('\\n')\n",
    "\n",
    "\n",
    "def is_crossroads(coord, path):\n",
    "    (x,y) = coord\n",
    "    if (x,y) not in path:\n",
    "        return False\n",
    "    return ((x-1,y) in path and (x+1,y) in path and (x,y-1) in path) or \\\n",
    "            ((x-1,y) in path and (x+1,y) in path and (x,y+1) in path) or \\\n",
    "            ((x,y-1) in path and (x,y+1) in path and (x-1,y) in path) or \\\n",
    "            ((x,y-1) in path and (x,y+1) in path and (x+1,y) in path)\n",
    "\n",
    "\n",
    "def is_valid_move(current, candidate, previous, path):\n",
    "    return candidate in path and candidate != previous\n",
    "\n",
    "\n",
    "def next_steps(current, previous, path):\n",
    "    (x,y) = current\n",
    "    return [(x+xd,y+yd) for (xd,yd) in [(-1,0),(1,0),(0,-1),(0,1)] if is_valid_move(current, (x+xd,y+yd), previous, path)]\n",
    "\n",
    "\n",
    "def walk_path(current, previous, poi, path):\n",
    "    length = 1\n",
    "    next_options = next_steps(current, previous, path)\n",
    "    while len(next_options) == 1:\n",
    "        previous = current\n",
    "        current = next_options[0]\n",
    "        next_options = next_steps(current, previous, path)\n",
    "        length += 1\n",
    "    if current in poi:\n",
    "        return (current, length)\n",
    "\n",
    "\n",
    "def distances(current, poi, path):\n",
    "    directions = next_steps(current, None, path)\n",
    "    neighbours = {}\n",
    "    for d in directions:\n",
    "        neighbour = walk_path(d, current, poi, path)\n",
    "        if neighbour is not None:\n",
    "            neighbours[neighbour[0]] = neighbour[1]\n",
    "    return neighbours\n",
    "\n",
    "\n",
    "def walk_full(current, dist, visited, target, length):\n",
    "    if current == target:\n",
    "        return length\n",
    "\n",
    "    options = [opt for opt in dist[current] if opt not in visited]\n",
    "    if len(options) == 0:\n",
    "        return 0\n",
    "        \n",
    "    max_subpath = max([walk_full(opt, dist, visited + [current], target, length + dist[current][opt]) for opt in options])\n",
    "\n",
    "    return max_subpath\n",
    "\n",
    "\n",
    "path_no_slope = {p: '.' for p in path}\n",
    "poi = {c for c in path_no_slope if is_crossroads(c, path) or c == start or c == finish}\n",
    "\n",
    "dist = {}\n",
    "for p in list(poi):\n",
    "    dist[p] = distances(p, poi, path_no_slope)\n",
    "\n",
    "walk_full(start, dist, [], finish, 0)"
   ]
  },
  {
   "cell_type": "markdown",
   "id": "8dbd824f-e3f5-420d-948f-83d313dfdbaa",
   "metadata": {},
   "source": [
    "## Day 24"
   ]
  },
  {
   "cell_type": "markdown",
   "id": "f485756c-4505-42e7-bd31-ee1f87f429b8",
   "metadata": {},
   "source": [
    "### Part 1"
   ]
  },
  {
   "cell_type": "code",
   "execution_count": 1,
   "id": "4cf57044-15c4-4a27-8f01-7e538228da07",
   "metadata": {},
   "outputs": [
    {
     "data": {
      "text/plain": [
       "13754"
      ]
     },
     "execution_count": 1,
     "metadata": {},
     "output_type": "execute_result"
    }
   ],
   "source": [
    "with open('inputs/day24.txt') as f:\n",
    "    s = f.read()[:-1].split('\\n')\n",
    "\n",
    "\n",
    "def parse_coords(coords):\n",
    "    return tuple([int(c) for c in coords.split(', ')])\n",
    "\n",
    "\n",
    "def parse_hail(line):\n",
    "    coords = line.split(' @ ')\n",
    "    return parse_coords(coords[0]), parse_coords(coords[1])\n",
    "\n",
    "\n",
    "def collides_at_2d(hail1, hail2):\n",
    "    (h01, ht1) = hail1\n",
    "    (h02, ht2) = hail2\n",
    "    a1 = ht1[1]\n",
    "    a2 = ht2[1]\n",
    "    b1 = -ht1[0]\n",
    "    b2 = -ht2[0]\n",
    "    c1 = ht1[0]*h01[1] - ht1[1]*h01[0]\n",
    "    c2 = ht2[0]*h02[1] - ht2[1]*h02[0]\n",
    "    if (a1*b2-a2*b1) == 0:\n",
    "        return None\n",
    "    x = (b1*c2-b2*c1)/(a1*b2-a2*b1)\n",
    "    y = (a2*c1-a1*c2)/(a1*b2-a2*b1)\n",
    "\n",
    "    if (x-h01[0])/ht1[0] < 0 or (y-h01[1])/ht1[1] < 0 or (x-h02[0])/ht2[0] < 0 or (y-h02[1])/ht2[1] < 0:\n",
    "        return None\n",
    "    \n",
    "    return (x,y)\n",
    "\n",
    "\n",
    "hail = [parse_hail(line) for line in s]\n",
    "area_start = 200000000000000\n",
    "area_end = 400000000000000\n",
    "\n",
    "count = 0\n",
    "for i in range(len(hail)):\n",
    "    for j in range(i+1, len(hail)):\n",
    "        collision = collides_at_2d(hail[i], hail[j])\n",
    "        if collision is not None:\n",
    "            (x,y) = collision\n",
    "            if x >= area_start and x <= area_end and  y >= area_start and y <= area_end:\n",
    "                count += 1\n",
    "\n",
    "count"
   ]
  },
  {
   "cell_type": "markdown",
   "id": "a0e83365-cf74-4ef7-86ba-a99d9608eddb",
   "metadata": {},
   "source": [
    "### Part 2"
   ]
  },
  {
   "cell_type": "code",
   "execution_count": 3,
   "id": "99daf6e4-9e70-4f6b-862b-32d900241331",
   "metadata": {},
   "outputs": [
    {
     "data": {
      "text/plain": [
       "711031616315001"
      ]
     },
     "execution_count": 3,
     "metadata": {},
     "output_type": "execute_result"
    }
   ],
   "source": [
    "import numpy as np\n",
    "\n",
    "# There are rounding errors for the first 3\n",
    "(p1,v1) = hail[1]\n",
    "(p2,v2) = hail[2]\n",
    "(p3,v3) = hail[3]\n",
    "\n",
    "A = np.array([\n",
    "    [v2[1]-v1[1], v1[0]-v2[0], 0,           p1[1]-p2[1], p2[0]-p1[0], 0],\n",
    "    [v3[1]-v1[1], v1[0]-v3[0], 0,           p1[1]-p3[1], p3[0]-p1[0], 0],\n",
    "    [0,           v2[2]-v1[2], v1[1]-v2[1], 0,           p1[2]-p2[2], p2[1]-p1[1]],\n",
    "    [0,           v3[2]-v1[2], v1[1]-v3[1], 0,           p1[2]-p3[2], p3[1]-p1[1]],\n",
    "    [v2[2]-v1[2], 0,           v1[0]-v2[0], p1[2]-p2[2], 0,           p2[0]-p1[0]],\n",
    "    [v3[2]-v1[2], 0,           v1[0]-v3[0], p1[2]-p3[2], 0,           p3[0]-p1[0]]])\n",
    "\n",
    "b = [(p1[1]*v1[0] - p2[1]*v2[0]) - (p1[0]*v1[1] - p2[0]*v2[1]),\n",
    "     (p1[1]*v1[0] - p3[1]*v3[0]) - (p1[0]*v1[1] - p3[0]*v3[1]),\n",
    "     (p1[2]*v1[1] - p2[2]*v2[1]) - (p1[1]*v1[2] - p2[1]*v2[2]),\n",
    "     (p1[2]*v1[1] - p3[2]*v3[1]) - (p1[1]*v1[2] - p3[1]*v3[2]),\n",
    "     (p1[2]*v1[0] - p2[2]*v2[0]) - (p1[0]*v1[2] - p2[0]*v2[2]),\n",
    "     (p1[2]*v1[0] - p3[2]*v3[0]) - (p1[0]*v1[2] - p3[0]*v3[2])]\n",
    "\n",
    "x = np.linalg.solve(A, b)\n",
    "int(sum(x[:3]))"
   ]
  },
  {
   "cell_type": "markdown",
   "id": "8ee6a443-e771-48e1-8706-edc3d07adb0f",
   "metadata": {},
   "source": [
    "## Day 25"
   ]
  },
  {
   "cell_type": "code",
   "execution_count": 36,
   "id": "5bf40a5a-b582-4695-aeb6-641f7031d496",
   "metadata": {},
   "outputs": [
    {
     "data": {
      "text/plain": [
       "598120"
      ]
     },
     "execution_count": 36,
     "metadata": {},
     "output_type": "execute_result"
    }
   ],
   "source": [
    "import random\n",
    "from functools import reduce\n",
    "\n",
    "with open('inputs/day25.txt') as f:\n",
    "    s = f.read()[:-1].split('\\n')\n",
    "\n",
    "\n",
    "connections = {}\n",
    "for line in s:\n",
    "    parts = line.split(': ')\n",
    "    if parts[0] not in connections:\n",
    "        connections[parts[0]] = set()\n",
    "    for p in parts[1].split(' '):\n",
    "        if p not in connections:\n",
    "            connections[p] = set()\n",
    "        connections[parts[0]].add(p)\n",
    "        connections[p].add(parts[0])\n",
    "\n",
    "\n",
    "def connected_to(start, connections):\n",
    "    queue = {start}\n",
    "    connected = {}\n",
    "    while len(queue) > 0:\n",
    "        current = queue.pop()\n",
    "        connected[current] = connected.get(current, 0) + 1\n",
    "        for nxt in connections[current]:\n",
    "            if nxt not in connected:\n",
    "                queue.add(nxt)\n",
    "    return connected\n",
    "\n",
    "\n",
    "def merge(node1, node2, connections):\n",
    "    if node1 not in connections[node2] or node2 not in connections[node1]:\n",
    "        return connections\n",
    "    connections[node1] = [node for node in connections[node1] if node != node2]\n",
    "    connections[node2] = [node for node in connections[node2] if node != node1]\n",
    "    node_conn = connections[node1] + connections[node2]\n",
    "    del connections[node1]\n",
    "    del connections[node2]\n",
    "    new_node = node1 + '-' + node2\n",
    "    connections[new_node] = node_conn\n",
    "    for node in connections:\n",
    "        connections[node] = [n if n != node1 and n != node2 else new_node for n in connections[node]]\n",
    "    return connections\n",
    "\n",
    "\n",
    "def pick_nodes(connections):\n",
    "    node1 = random.choice(list(connections.keys()))\n",
    "    node2 = random.choice(list(connections[node1]))\n",
    "    return node1, node2\n",
    "\n",
    "\n",
    "def find_cut(connections):\n",
    "    conn = connections\n",
    "    while len(conn) > 2:\n",
    "        node1, node2 = pick_nodes(conn)\n",
    "        conn = merge(node1, node2, conn)\n",
    "    return conn\n",
    "\n",
    "\n",
    "def find_min_cut(connections):\n",
    "    conn = connections.copy()\n",
    "    conn = find_cut(conn)\n",
    "    while len(list(conn.values())[0]) > 3:\n",
    "        conn = connections.copy()\n",
    "        conn = find_cut(conn)\n",
    "    return conn\n",
    "\n",
    "\n",
    "conn = find_min_cut(connections)\n",
    "reduce(lambda acc, x: acc*x, map(lambda x: x.count('-')+1, conn.keys()), 1)"
   ]
  }
 ],
 "metadata": {
  "kernelspec": {
   "display_name": "Python 3 (ipykernel)",
   "language": "python",
   "name": "python3"
  },
  "language_info": {
   "codemirror_mode": {
    "name": "ipython",
    "version": 3
   },
   "file_extension": ".py",
   "mimetype": "text/x-python",
   "name": "python",
   "nbconvert_exporter": "python",
   "pygments_lexer": "ipython3",
   "version": "3.11.6"
  }
 },
 "nbformat": 4,
 "nbformat_minor": 5
}
