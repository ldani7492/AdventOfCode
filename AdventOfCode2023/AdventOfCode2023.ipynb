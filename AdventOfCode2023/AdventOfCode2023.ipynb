{
 "cells": [
  {
   "cell_type": "markdown",
   "id": "7a526a26-b5fa-4694-889a-1f6c7f57a95b",
   "metadata": {},
   "source": [
    "# Advent of Code 2023"
   ]
  },
  {
   "cell_type": "markdown",
   "id": "574fd75c-2cdb-4601-9c5d-ed366ac74d65",
   "metadata": {},
   "source": [
    "## Day 1"
   ]
  },
  {
   "cell_type": "markdown",
   "id": "3b98a848-ea08-46d2-99e6-fc40ca2d473a",
   "metadata": {},
   "source": [
    "### Part 1"
   ]
  },
  {
   "cell_type": "code",
   "execution_count": 3,
   "id": "5cd07bbe-282c-4b8b-bf67-6aced848db3e",
   "metadata": {},
   "outputs": [
    {
     "data": {
      "text/plain": [
       "54634"
      ]
     },
     "execution_count": 3,
     "metadata": {},
     "output_type": "execute_result"
    }
   ],
   "source": [
    "with open('inputs/day1.txt') as f:\n",
    "    s = f.read()[:-1]\n",
    "\n",
    "def parse(n):\n",
    "    return int(n[0] + n[-1])\n",
    "\n",
    "sum([parse([c for c in n if c.isnumeric()]) for n in s.split('\\n')])"
   ]
  },
  {
   "cell_type": "markdown",
   "id": "584bfe2b-0732-4f91-93e2-739292c5b21a",
   "metadata": {},
   "source": [
    "### Part 2"
   ]
  },
  {
   "cell_type": "code",
   "execution_count": 4,
   "id": "0a04f54a-5942-471e-b24f-2e248dfd2761",
   "metadata": {},
   "outputs": [
    {
     "data": {
      "text/plain": [
       "53855"
      ]
     },
     "execution_count": 4,
     "metadata": {},
     "output_type": "execute_result"
    }
   ],
   "source": [
    "numeral_map = {'one':'1',\n",
    "               'two':'2',\n",
    "               'three':'3',\n",
    "               'four':'4',\n",
    "               'five':'5',\n",
    "               'six':'6',\n",
    "               'seven':'7',\n",
    "               'eight':'8',\n",
    "               'nine':'9'}\n",
    "numerals = list(numeral_map.keys()) + list(numeral_map.values())\n",
    "\n",
    "def parse_numeral(n):\n",
    "    return numeral_map[n] if n in numeral_map else n\n",
    "\n",
    "\n",
    "def extract_number(s):\n",
    "    indices_left = {n:s.find(n) for n in numerals if s.find(n) >= 0}\n",
    "    indices_right = {n:s.rfind(n) for n in numerals if s.find(n) >= 0}\n",
    "    leftmost = parse_numeral(min(indices_left,key=indices_left.get))\n",
    "    rightmost = parse_numeral(max(indices_right,key=indices_right.get))\n",
    "    return int(leftmost + rightmost)\n",
    "\n",
    "\n",
    "sum([extract_number(n) for n in s.split('\\n')])"
   ]
  },
  {
   "cell_type": "markdown",
   "id": "63f43231-1975-4c2c-ac42-b8a28a297921",
   "metadata": {},
   "source": [
    "## Day 2"
   ]
  },
  {
   "cell_type": "markdown",
   "id": "8187e28b-4d7b-476c-8cc5-994b1f527885",
   "metadata": {},
   "source": [
    "### Part 1"
   ]
  },
  {
   "cell_type": "code",
   "execution_count": 1,
   "id": "0c60da48-56a6-4490-b44f-62efdfb47943",
   "metadata": {},
   "outputs": [
    {
     "data": {
      "text/plain": [
       "2593"
      ]
     },
     "execution_count": 1,
     "metadata": {},
     "output_type": "execute_result"
    }
   ],
   "source": [
    "with open('inputs/day2.txt') as f:\n",
    "    s = f.read()[:-1]\n",
    "\n",
    "def parse_round(round):\n",
    "    return {cubes.split(' ')[1]: int(cubes.split(' ')[0]) for cubes in round.split(', ')}\n",
    "\n",
    "\n",
    "def parse_game(game):\n",
    "    return [parse_round(round) for round in game.split(': ')[1].split('; ')]\n",
    "\n",
    "\n",
    "def max_color_value(game, color):\n",
    "    return (color, max([round.get(color,0) for round in game]))\n",
    "\n",
    "\n",
    "def max_values(game):\n",
    "    return dict(map(lambda c: max_color_value(game,c), ['red', 'green', 'blue']))\n",
    "\n",
    "\n",
    "def is_valid(game,reds,greens,blues):\n",
    "    maxes = max_values(game)\n",
    "    return maxes.get('red',0) <= reds and maxes.get('green',0) <= greens and maxes.get('blue',0) <= blues\n",
    "\n",
    "\n",
    "games = [parse_game(game) for game in s.split('\\n')]\n",
    "sum([i+1 for i,game in enumerate(games) if is_valid(game,12,13,14)])"
   ]
  },
  {
   "cell_type": "markdown",
   "id": "ccc6f12c-77d6-4eb8-afd6-3d9624332feb",
   "metadata": {},
   "source": [
    "### Part 2"
   ]
  },
  {
   "cell_type": "code",
   "execution_count": 3,
   "id": "fa906164-358e-466d-92d1-e596593f1add",
   "metadata": {},
   "outputs": [
    {
     "data": {
      "text/plain": [
       "54699"
      ]
     },
     "execution_count": 3,
     "metadata": {},
     "output_type": "execute_result"
    }
   ],
   "source": [
    "from functools import reduce\n",
    "\n",
    "def game_power(game):\n",
    "    return reduce(lambda a,b: a*b, max_values(game).values())\n",
    "\n",
    "\n",
    "sum(map(game_power, games))"
   ]
  },
  {
   "cell_type": "markdown",
   "id": "0f4db99e-6df6-4372-80ab-6aa6c506d057",
   "metadata": {},
   "source": [
    "## Day 3"
   ]
  },
  {
   "cell_type": "markdown",
   "id": "2b79e41f-d734-48ae-9a4f-a923ffa068a6",
   "metadata": {},
   "source": [
    "### Part 1"
   ]
  },
  {
   "cell_type": "code",
   "execution_count": 114,
   "id": "69155ba6-b7f8-4d10-9f69-43b16d9f47aa",
   "metadata": {},
   "outputs": [
    {
     "data": {
      "text/plain": [
       "521515"
      ]
     },
     "execution_count": 114,
     "metadata": {},
     "output_type": "execute_result"
    }
   ],
   "source": [
    "from functools import reduce\n",
    "\n",
    "with open('inputs/day3.txt') as f:\n",
    "    s = f.read()[:-1].split('\\n')\n",
    "\n",
    "symbols = [(x,y) for y in range(len(s)) for x in range(len(s[0])) if not (s[y][x] == '.' or s[y][x].isnumeric())]\n",
    "numbers = [(x,y) for y in range(len(s)) for x in range(len(s[0])) if s[y][x].isnumeric()]\n",
    "neighbours = [(-1,-1), (-1,0), (-1,1), (0,-1), (0,1), (1,-1), (1,0), (1,1)]\n",
    "\n",
    "def explore(reachable, current, target):\n",
    "    (x,y) = current\n",
    "    neighborhood = [(x+xd,y+yd) for (xd,yd) in neighbours]\n",
    "    for coord in neighborhood:\n",
    "        if coord in target and coord not in reachable:\n",
    "            reachable.add(coord)\n",
    "            explore(reachable, coord, target)\n",
    "    return reachable\n",
    "\n",
    "\n",
    "reachable = reduce(lambda acc,sym: explore(acc, sym, numbers), symbols, set())\n",
    "number_starts = [(x,y) for (x,y) in reachable if (x-1,y) not in reachable]\n",
    "\n",
    "def read_number(current, acc, reachable):\n",
    "    (x,y) = current\n",
    "    if current in reachable:\n",
    "        return read_number((x+1,y), acc*10+int(s[y][x]), reachable)\n",
    "    return acc\n",
    "\n",
    "\n",
    "sum(map(lambda x: read_number(x,0,reachable), number_starts))"
   ]
  },
  {
   "cell_type": "markdown",
   "id": "e4376c95-20f7-4ea3-afb6-600ccca8aa73",
   "metadata": {},
   "source": [
    "### Part 2"
   ]
  },
  {
   "cell_type": "code",
   "execution_count": 116,
   "id": "fd0b5e07-9e85-49ed-bc39-1e8bb9d2d301",
   "metadata": {},
   "outputs": [
    {
     "data": {
      "text/plain": [
       "69527306"
      ]
     },
     "execution_count": 116,
     "metadata": {},
     "output_type": "execute_result"
    }
   ],
   "source": [
    "symbols = [(x,y) for y in range(len(s)) for x in range(len(s[0])) if s[y][x] == '*']\n",
    "reachable = {sym: explore(set(), sym, numbers) for sym in symbols}\n",
    "numbers = list(reduce(lambda acc, v: acc.union(v), reachable.values(), set()))\n",
    "number_starts = [(x,y) for (x,y) in numbers if (x-1,y) not in numbers]\n",
    "reachable_number_starts = {sym: [n for n in reachable[sym] if n in number_starts] for sym in reachable}\n",
    "gears = [reduce(lambda a,b: a*b, map(lambda x: read_number(x,0,numbers), num_starts), 1) \n",
    "         for num_starts in reachable_number_starts.values() if len(num_starts) == 2]\n",
    "\n",
    "sum(gears)"
   ]
  },
  {
   "cell_type": "markdown",
   "id": "034215db-1487-4a42-a40a-cc874ec492fd",
   "metadata": {},
   "source": [
    "## Day 4"
   ]
  },
  {
   "cell_type": "markdown",
   "id": "5d2be558-bf5a-4154-9578-d987528d0bc7",
   "metadata": {},
   "source": [
    "### Part 1"
   ]
  },
  {
   "cell_type": "code",
   "execution_count": 39,
   "id": "e6c32399-3e1c-4928-a51a-e60ffb1fad46",
   "metadata": {},
   "outputs": [
    {
     "data": {
      "text/plain": [
       "21485"
      ]
     },
     "execution_count": 39,
     "metadata": {},
     "output_type": "execute_result"
    }
   ],
   "source": [
    "with open('inputs/day4.txt') as f:\n",
    "    s = f.read()[:-1]\n",
    "\n",
    "input = [line.replace('  ', ' ').split(': ')[1].split(' | ') for line in s.split('\\n')]\n",
    "cards = [(list(map(int,card[0].split(' '))), list(map(int,card[1].split(' ')))) for card in input]\n",
    "winning = [(len([x for x in card[1] if x in card[0]])) for card in cards]\n",
    "sum([2 ** (card-1) for card in winning if card > 0])"
   ]
  },
  {
   "cell_type": "markdown",
   "id": "61410d3a-eba3-44b7-bcd2-23366663540e",
   "metadata": {},
   "source": [
    "### Part 2"
   ]
  },
  {
   "cell_type": "code",
   "execution_count": 40,
   "id": "97abaceb-79e8-4714-b57f-9e289ef4dbf8",
   "metadata": {},
   "outputs": [
    {
     "data": {
      "text/plain": [
       "11024379"
      ]
     },
     "execution_count": 40,
     "metadata": {},
     "output_type": "execute_result"
    }
   ],
   "source": [
    "card_count = {i: 1 for i in range(len(cards))}\n",
    "for i in range(len(cards)):\n",
    "    for j in range(1, winning[i]+1):\n",
    "        card_count[i+j] += card_count[i]\n",
    "\n",
    "sum(card_count.values())"
   ]
  },
  {
   "cell_type": "markdown",
   "id": "6275e20e-9335-480c-8df1-b4270d126197",
   "metadata": {},
   "source": [
    "## Day 5"
   ]
  },
  {
   "cell_type": "markdown",
   "id": "bedb5ebe-c60a-4475-83af-d20f752d384c",
   "metadata": {},
   "source": [
    "### Part 1"
   ]
  },
  {
   "cell_type": "code",
   "execution_count": 2,
   "id": "d131d96b-854c-450d-857c-8b7e3a72ac1a",
   "metadata": {},
   "outputs": [
    {
     "data": {
      "text/plain": [
       "484023871"
      ]
     },
     "execution_count": 2,
     "metadata": {},
     "output_type": "execute_result"
    }
   ],
   "source": [
    "from functools import reduce\n",
    "\n",
    "with open('inputs/day5.txt') as f:\n",
    "    s = f.read()[:-1]\n",
    "\n",
    "seeds = [int(seed) for seed in s.split('\\n\\n')[0].split(' ')[1:]]\n",
    "maps = [[tuple(int(n) for n in m.split(' ')) for m in sec.split('\\n')[1:]] for sec in s.split('\\n\\n')[1:]]\n",
    "\n",
    "def attempt_map(n, map):\n",
    "    destination_start, source_start, range_length = map\n",
    "    if n >= source_start and n < source_start + range_length:\n",
    "        return (destination_start + n - source_start, True)\n",
    "    else:\n",
    "        return (n, False)\n",
    "\n",
    "def map_level(n,mapping):\n",
    "    match = False\n",
    "    i = -1\n",
    "    while not match and i < len(mapping) - 1:\n",
    "        i += 1\n",
    "        result, match = attempt_map(n, mapping[i])\n",
    "    return (result, i)\n",
    "\n",
    "\n",
    "def map_full(n, levels):\n",
    "    return reduce(lambda acc,level: map_level(acc[0],level), levels, (n,None))\n",
    "\n",
    "\n",
    "min([map_full(seed, maps)[0] for seed in seeds])"
   ]
  },
  {
   "cell_type": "markdown",
   "id": "0497c7cb-74b5-4a90-a627-b877a97734d7",
   "metadata": {},
   "source": [
    "### Part 2"
   ]
  },
  {
   "cell_type": "code",
   "execution_count": 3,
   "id": "c4e87db2-e51e-48f0-a862-5ab99fe14161",
   "metadata": {},
   "outputs": [
    {
     "data": {
      "text/plain": [
       "46294175"
      ]
     },
     "execution_count": 3,
     "metadata": {},
     "output_type": "execute_result"
    }
   ],
   "source": [
    "from math import ceil\n",
    "\n",
    "seed_ranges = [(seeds[i], seeds[i+1]) for i in range(0, len(seeds), 2)]\n",
    "lowest_start = min([map_full(seed_range[0], maps) for seed_range in seed_ranges])\n",
    "\n",
    "def find_buckets(seed_range, levels, buckets):\n",
    "    (start, length) = seed_range\n",
    "    if length <= 1:\n",
    "        return buckets\n",
    "    (result_1, last_map_1) = map_full(start, levels)\n",
    "    (result_2, last_map_2) = map_full(start+length-1, levels)\n",
    "    if last_map_1 not in buckets or buckets[last_map_1] > result_1:\n",
    "        buckets[last_map_1] = result_1\n",
    "    if last_map_2 not in buckets or buckets[last_map_2] > result_2:\n",
    "        buckets[last_map_2] = result_2\n",
    "    if last_map_1 != last_map_2:\n",
    "        h1 = find_buckets((start, length//2), levels, buckets)\n",
    "        h2 = find_buckets((start+length//2, ceil(length/2)), levels, buckets)\n",
    "        for b in h1:\n",
    "            if b not in buckets or buckets[b] > h1[b]:\n",
    "                buckets[b] = h1[b]\n",
    "        for b in h2:\n",
    "            if b not in buckets or buckets[b] > h2[b]:\n",
    "                buckets[b] = h2[b]\n",
    "    return buckets\n",
    "\n",
    "\n",
    "min(reduce(lambda acc,sr: find_buckets(sr,maps,acc), seed_ranges, {}).values())"
   ]
  },
  {
   "cell_type": "markdown",
   "id": "344dcd4c-b450-4be7-8c6c-6a9bf6590f1f",
   "metadata": {},
   "source": [
    "## Day 6"
   ]
  },
  {
   "cell_type": "markdown",
   "id": "d2e1a839-61d3-496e-8d42-ff42475a521f",
   "metadata": {},
   "source": [
    "### Part 1"
   ]
  },
  {
   "cell_type": "code",
   "execution_count": 34,
   "id": "07ec672c-e373-47d0-8e2f-a15cfe2ecc24",
   "metadata": {},
   "outputs": [
    {
     "data": {
      "text/plain": [
       "1624896"
      ]
     },
     "execution_count": 34,
     "metadata": {},
     "output_type": "execute_result"
    }
   ],
   "source": [
    "from functools import reduce\n",
    "\n",
    "with open('inputs/day6.txt') as f:\n",
    "    s = f.read()[:-1]\n",
    "\n",
    "[time, distance] = [[int(i) for i in ' '.join(line.split()).split(': ')[1].split(' ')] for line in s.split('\\n')]\n",
    "\n",
    "def distance_after(max_time, press_time):\n",
    "    return (max_time-press_time)*press_time\n",
    "\n",
    "\n",
    "reduce(lambda acc,i: acc*len([press for press in range(time[i]+1) if distance_after(time[i], press) > distance[i]]), range(len(time)), 1)"
   ]
  },
  {
   "cell_type": "markdown",
   "id": "7e99731c-36bf-418f-8fde-ad773cf86018",
   "metadata": {},
   "source": [
    "### Part 2"
   ]
  },
  {
   "cell_type": "code",
   "execution_count": 35,
   "id": "df984fa2-39a1-46cb-9751-139ad5c24414",
   "metadata": {},
   "outputs": [
    {
     "data": {
      "text/plain": [
       "32583852"
      ]
     },
     "execution_count": 35,
     "metadata": {},
     "output_type": "execute_result"
    }
   ],
   "source": [
    "[time, distance] = [int(''.join(line.split(':')[1].split())) for line in s.split('\\n')]\n",
    "len([press for press in range(time+1) if distance_after(time, press) > distance])"
   ]
  },
  {
   "cell_type": "markdown",
   "id": "5c3f8e42-b161-481f-8052-42bcae00d2f0",
   "metadata": {},
   "source": [
    "## Day 7"
   ]
  },
  {
   "cell_type": "markdown",
   "id": "662df9e8-9690-40ee-8371-d0e3fd16dff3",
   "metadata": {},
   "source": [
    "### Part 1"
   ]
  },
  {
   "cell_type": "code",
   "execution_count": 89,
   "id": "d0778765-5a45-4924-92ea-95318437eac6",
   "metadata": {},
   "outputs": [
    {
     "data": {
      "text/plain": [
       "249483956"
      ]
     },
     "execution_count": 89,
     "metadata": {},
     "output_type": "execute_result"
    }
   ],
   "source": [
    "with open('inputs/day7.txt') as f:\n",
    "    s = f.read()[:-1].split('\\n')\n",
    "\n",
    "\n",
    "def count_chars(hand):\n",
    "    chars = {}\n",
    "    for c in hand:\n",
    "        chars[c] = chars.get(c,0)+1\n",
    "    return chars\n",
    "\n",
    "\n",
    "def is_five_of_a_kind(hand):\n",
    "    return 5 in count_chars(hand).values()\n",
    "\n",
    "\n",
    "def is_four_of_a_kind(hand):\n",
    "    return 4 in count_chars(hand).values()\n",
    "\n",
    "\n",
    "def is_full_house(hand):\n",
    "    values = count_chars(hand).values()\n",
    "    return 3 in values and 2 in values\n",
    "\n",
    "\n",
    "def is_three_of_a_kind(hand):\n",
    "    values = count_chars(hand).values()\n",
    "    return 3 in values and 2 not in values\n",
    "\n",
    "\n",
    "def is_two_pairs(hand):\n",
    "    values = count_chars(hand).values()\n",
    "    return len([i for i in values if i == 2]) == 2\n",
    "\n",
    "\n",
    "def is_pair(hand):\n",
    "    values = count_chars(hand).values()\n",
    "    return len([i for i in values if i == 2]) == 1 and 3 not in values\n",
    "\n",
    "\n",
    "def is_high(hand):\n",
    "    values = count_chars(hand).values()\n",
    "    return len([i for i in values if i == 1]) == 5\n",
    "\n",
    "\n",
    "types = [is_five_of_a_kind, is_four_of_a_kind, is_full_house, is_three_of_a_kind, is_two_pairs, is_pair, is_high]\n",
    "\n",
    "\n",
    "def transform_hand(hand):\n",
    "    return hand.replace('K', 'B').replace('Q','C').replace('J','D').replace('T','E') \\\n",
    "    .replace('9', 'F').replace('8','G').replace('7','H').replace('6','I').replace('5', 'J') \\\n",
    "    .replace('4','K').replace('3','L').replace('2','M').replace('1','N')\n",
    "\n",
    "\n",
    "def normalize_hand(hand, bid):\n",
    "    hand_t = transform_hand(hand)\n",
    "    for i in range(len(types)):\n",
    "        if types[i](hand_t):\n",
    "            return ' '.join([str(i), hand_t, str(bid)])\n",
    "\n",
    "hands = [normalize_hand(line.split(' ')[0], line.split(' ')[1]) for line in s]\n",
    "hands.sort(reverse=True)\n",
    "\n",
    "sum([(i+1)*int(hands[i].split(' ')[-1]) for i in range(len(hands))])"
   ]
  },
  {
   "cell_type": "markdown",
   "id": "ae5bb46b-bbaa-4c05-8f99-74d16ca29126",
   "metadata": {},
   "source": [
    "### Part 2"
   ]
  },
  {
   "cell_type": "code",
   "execution_count": 90,
   "id": "7730935d-8b56-41c1-9dfb-ff09bc7983a3",
   "metadata": {},
   "outputs": [
    {
     "data": {
      "text/plain": [
       "252137472"
      ]
     },
     "execution_count": 90,
     "metadata": {},
     "output_type": "execute_result"
    }
   ],
   "source": [
    "def transform_hand(hand):\n",
    "    return hand.replace('K', 'B').replace('Q','C').replace('J','O').replace('T','E') \\\n",
    "    .replace('9', 'F').replace('8','G').replace('7','H').replace('6','I').replace('5', 'J') \\\n",
    "    .replace('4','K').replace('3','L').replace('2','M').replace('1','N')\n",
    "\n",
    "\n",
    "def jokers(hand):\n",
    "    return hand.count('O')\n",
    "\n",
    "\n",
    "def count_chars(hand):\n",
    "    chars = {}\n",
    "    for c in hand:\n",
    "        if c != 'O':\n",
    "            chars[c] = chars.get(c,0)+1\n",
    "    return chars\n",
    "\n",
    "\n",
    "def is_five_of_a_kind(hand):\n",
    "    joker_count = jokers(hand)\n",
    "    return (5-jokers(hand) in count_chars(hand).values()) or joker_count == 5\n",
    "\n",
    "\n",
    "def is_four_of_a_kind(hand):\n",
    "    return 4-jokers(hand) in count_chars(hand).values()\n",
    "\n",
    "\n",
    "def is_full_house(hand):\n",
    "    values = count_chars(hand).values()\n",
    "    joker_count = jokers(hand)\n",
    "    return (joker_count == 0 and 3 in values and 2 in values) or \\\n",
    "    (joker_count == 1 and (3 in values or len([i for i in values if i == 2]) == 2))\n",
    "\n",
    "\n",
    "def is_three_of_a_kind(hand):\n",
    "    values = count_chars(hand).values()\n",
    "    joker_count = jokers(hand)\n",
    "    return (joker_count == 0 and 3 in values and 2 not in values) or \\\n",
    "    (joker_count == 1 and len([i for i in values if i == 2]) == 1) or \\\n",
    "    (joker_count == 2 and len([i for i in values if i == 1]) == 3)\n",
    "\n",
    "\n",
    "def is_two_pairs(hand):\n",
    "    values = count_chars(hand).values()\n",
    "    return (len([i for i in values if i == 2]) == 2)\n",
    "\n",
    "\n",
    "def is_pair(hand):\n",
    "    values = count_chars(hand).values()\n",
    "    joker_count = jokers(hand)\n",
    "    return (joker_count == 0 and len([i for i in values if i == 2]) == 1 and 3 not in values) or \\\n",
    "    (joker_count == 1 and len([i for i in values if i == 1]) == 4)\n",
    "\n",
    "\n",
    "def is_high(hand):\n",
    "    values = count_chars(hand).values()\n",
    "    return len([i for i in values if i == 1]) == 5\n",
    "\n",
    "\n",
    "def normalize_hand(hand, bid):\n",
    "    hand_t = transform_hand(hand)\n",
    "    for i in range(len(types)):\n",
    "        if types[i](hand_t):\n",
    "            return ' '.join([str(i), hand_t, str(bid)])\n",
    "\n",
    "\n",
    "types = [is_five_of_a_kind, is_four_of_a_kind, is_full_house, is_three_of_a_kind, is_two_pairs, is_pair, is_high]\n",
    "hands = [normalize_hand(line.split(' ')[0], line.split(' ')[1]) for line in s]\n",
    "hands.sort(reverse=True)\n",
    "\n",
    "sum([(i+1)*int(hands[i].split(' ')[-1]) for i in range(len(hands))])"
   ]
  },
  {
   "cell_type": "markdown",
   "id": "77b612e1-9758-4e3c-99e3-b566744c335a",
   "metadata": {},
   "source": [
    "## Day 8"
   ]
  },
  {
   "cell_type": "markdown",
   "id": "fb89725b-127f-4461-a98d-6a99c41c0631",
   "metadata": {},
   "source": [
    "### Part 1"
   ]
  },
  {
   "cell_type": "code",
   "execution_count": 4,
   "id": "2fbbef5d-94b7-45d5-99cb-577271b111c7",
   "metadata": {},
   "outputs": [
    {
     "data": {
      "text/plain": [
       "12737"
      ]
     },
     "execution_count": 4,
     "metadata": {},
     "output_type": "execute_result"
    }
   ],
   "source": [
    "with open('inputs/day8.txt') as f:\n",
    "    s = f.read()[:-1]\n",
    "\n",
    "instructions = [0 if inst == 'L' else 1 for inst in s.split('\\n')[0]]\n",
    "nodes = {line.split(' = ')[0]: tuple(line.split(' = ')[-1][1:-1].split(', ')) for line in s.split('\\n\\n')[1].split('\\n')}\n",
    "\n",
    "current = 'AAA'\n",
    "steps = 0\n",
    "while current != 'ZZZ':\n",
    "    current = nodes[current][instructions[steps % len(instructions)]]\n",
    "    steps += 1\n",
    "\n",
    "steps"
   ]
  },
  {
   "cell_type": "markdown",
   "id": "b6144149-cbbb-4a90-b4ce-3c9fe9e590d6",
   "metadata": {},
   "source": [
    "### Part 2"
   ]
  },
  {
   "cell_type": "code",
   "execution_count": 11,
   "id": "11498f81-6fb7-4e49-8eaa-b19e5c0f7f3e",
   "metadata": {},
   "outputs": [
    {
     "data": {
      "text/plain": [
       "9064949303801"
      ]
     },
     "execution_count": 11,
     "metadata": {},
     "output_type": "execute_result"
    }
   ],
   "source": [
    "from functools import reduce\n",
    "from math import lcm\n",
    "\n",
    "def find_loop(start, instrtuctions, nodes):\n",
    "    i = 0\n",
    "    current = start\n",
    "    visited = []\n",
    "    ends = set()\n",
    "    while (current, i % len(instructions)) not in visited:\n",
    "        visited.append((current, i % len(instructions)))\n",
    "        current = nodes[current][instructions[i % len(instructions)]]\n",
    "        i += 1\n",
    "        if current[-1] == 'Z':\n",
    "            ends.add(i)\n",
    "    loop_start = visited.index((current, i % len(instructions)))\n",
    "    loop_length = i - loop_start\n",
    "    return (loop_length, ends)\n",
    "\n",
    "\n",
    "current_nodes = [node for node in nodes if node[-1] == 'A']\n",
    "loops = [find_loop(start, instructions, nodes)[0] for start in current_nodes]\n",
    "reduce(lambda acc,x: lcm(acc,x), loops, 1) # No further steps are necessary due to the input being a special case"
   ]
  },
  {
   "cell_type": "markdown",
   "id": "9b8bcf48-6c9e-4740-bbba-d308046a67cd",
   "metadata": {},
   "source": [
    "## Day 9"
   ]
  },
  {
   "cell_type": "markdown",
   "id": "b87c1371-a78e-4399-85b3-be3a8bb0a33e",
   "metadata": {},
   "source": [
    "### Part 1"
   ]
  },
  {
   "cell_type": "code",
   "execution_count": 48,
   "id": "3c02771c-0844-4b8d-8fc5-145a2e0974c4",
   "metadata": {},
   "outputs": [
    {
     "data": {
      "text/plain": [
       "1882395907"
      ]
     },
     "execution_count": 48,
     "metadata": {},
     "output_type": "execute_result"
    }
   ],
   "source": [
    "with open('inputs/day9.txt') as f:\n",
    "    s = f.read()[:-1].split('\\n')\n",
    "\n",
    "sequences = [[int(i) for i in line.split(' ')] for line in s]\n",
    "\n",
    "def next_seq(seq):\n",
    "    return [seq[i+1]-seq[i] for i in range(len(seq)-1)]\n",
    "\n",
    "\n",
    "def is_last(seq):\n",
    "    seq_set = set(seq)\n",
    "    return (len(seq_set) == 1 and 0 in seq_set) or len(seq_set) == 0\n",
    "\n",
    "\n",
    "def predict_next(seq):\n",
    "    acc = 0\n",
    "    while not is_last(seq):\n",
    "        acc += seq[-1]\n",
    "        seq = next_seq(seq)\n",
    "    return acc\n",
    "\n",
    "\n",
    "sum([predict_next(seq) for seq in sequences])"
   ]
  },
  {
   "cell_type": "markdown",
   "id": "ad22b8d2-0b80-4c73-a5c8-adfcef6faf4e",
   "metadata": {},
   "source": [
    "### Part 2"
   ]
  },
  {
   "cell_type": "code",
   "execution_count": 62,
   "id": "7ab064a0-56ef-460d-ad17-cb4d51e5abdf",
   "metadata": {},
   "outputs": [
    {
     "data": {
      "text/plain": [
       "1005"
      ]
     },
     "execution_count": 62,
     "metadata": {},
     "output_type": "execute_result"
    }
   ],
   "source": [
    "def all_subsequences(seq):\n",
    "    seqs = [seq]\n",
    "    while not is_last(seqs[-1]):\n",
    "        seqs.append(next_seq(seqs[-1]))\n",
    "    return seqs\n",
    "\n",
    "\n",
    "def predict_previous(seq):\n",
    "    all = all_subsequences(seq)\n",
    "    prev = 0\n",
    "    for i in range(1,len(all)+1):\n",
    "        current = all[-i][0] - prev\n",
    "        prev = current\n",
    "    return current\n",
    "\n",
    "\n",
    "sum([predict_previous(seq) for seq in sequences])"
   ]
  },
  {
   "cell_type": "markdown",
   "id": "29b44856-da22-4870-b664-3cac8562f20f",
   "metadata": {},
   "source": [
    " ## Day 10"
   ]
  },
  {
   "cell_type": "markdown",
   "id": "e23ef9a6-7933-424e-8d2e-988ea92ebb24",
   "metadata": {},
   "source": [
    "### Part 1"
   ]
  },
  {
   "cell_type": "code",
   "execution_count": 21,
   "id": "d1deca92-cd46-44f1-83f8-bd32017db4aa",
   "metadata": {},
   "outputs": [
    {
     "data": {
      "text/plain": [
       "6640"
      ]
     },
     "execution_count": 21,
     "metadata": {},
     "output_type": "execute_result"
    }
   ],
   "source": [
    "with open('inputs/day10.txt') as f:\n",
    "    s = f.read()[:-1]\n",
    "\n",
    "grid = s.split('\\n')\n",
    "neighbours = {'|': {(0,-1), (0,1)},\n",
    "              '-': {(-1,0), (1,0)},\n",
    "              'L': {(0,-1), (1,0)},\n",
    "              'J': {(0,-1), (-1,0)},\n",
    "              '7': {(0,1), (-1,0)},\n",
    "              'F': {(0,1), (1,0)},\n",
    "              'S': {(-1,0), (1,0), (0,-1), (0,1)},\n",
    "              '.': {}}\n",
    "\n",
    "for y,line in enumerate(grid):\n",
    "    if 'S' in line:\n",
    "        y0 = y\n",
    "        x0 = line.index('S')\n",
    "\n",
    "distances = {}\n",
    "queue = {(x0,y0,0)}\n",
    "\n",
    "\n",
    "def connections(x,y):\n",
    "    return neighbours[grid[y][x]]\n",
    "\n",
    "\n",
    "def connects_to(x0,y0,xd,yd):\n",
    "    return (xd,yd) in connections(x0,y0) and (-xd,-yd) in connections(x0+xd, y0+yd)\n",
    "\n",
    "\n",
    "def look_around(x,y):\n",
    "    return [(x+xd,y+yd) for (xd,yd) in connections(x,y) if connects_to(x,y,xd,yd)]\n",
    "\n",
    "\n",
    "def visit_neighbours(x,y,d):\n",
    "    if (x,y) in distances and d >= distances[(x,y)]:\n",
    "        return\n",
    "    distances[(x,y)] = d\n",
    "    connecting = look_around(x,y)\n",
    "    for (x1,y1) in connecting:\n",
    "        if (x1,y1) not in distances or distances[(x1,y1)] > d+1:\n",
    "            queue.add((x1,y1,d+1))\n",
    "\n",
    "\n",
    "while len(queue) > 0:\n",
    "    x,y,d = queue.pop()\n",
    "    visit_neighbours(x,y,d)\n",
    "\n",
    "\n",
    "(xf,yf) = max(distances,key=distances.get)\n",
    "distances[(xf,yf)]"
   ]
  },
  {
   "cell_type": "markdown",
   "id": "2cc9e6d5-62b8-440f-aa4e-393028387e99",
   "metadata": {},
   "source": [
    "### Part 2"
   ]
  },
  {
   "cell_type": "code",
   "execution_count": 22,
   "id": "0d174a7a-eb49-4ddf-877a-cf6ce058ead9",
   "metadata": {},
   "outputs": [
    {
     "data": {
      "text/plain": [
       "411"
      ]
     },
     "execution_count": 22,
     "metadata": {},
     "output_type": "execute_result"
    }
   ],
   "source": [
    "grid = [' '.join(list(y)) for y in s.split('\\n')]\n",
    "for i in range(len(grid)-1,-1,-1):\n",
    "    grid.insert(i+1,' '*len(grid[0]))\n",
    "\n",
    "neighbours = {'|': {(0,-2), (0,2)},\n",
    "              '-': {(-2,0), (2,0)},\n",
    "              'L': {(0,-2), (2,0)},\n",
    "              'J': {(0,-2), (-2,0)},\n",
    "              '7': {(0,2), (-2,0)},\n",
    "              'F': {(0,2), (2,0)},\n",
    "              'S': {(-2,0), (2,0), (0,-2), (0,2)},\n",
    "              '.': {}}\n",
    "\n",
    "for y,line in enumerate(grid):\n",
    "    if 'S' in line:\n",
    "        y0 = y\n",
    "        x0 = line.index('S')\n",
    "\n",
    "\n",
    "def connects_to(x0,y0,xd,yd):\n",
    "    connects = (xd,yd) in connections(x0,y0) and (-xd,-yd) in connections(x0+xd, y0+yd)\n",
    "    if connects:\n",
    "        grid[y0+yd//2] = grid[y0+yd//2][:x0+xd//2] + 'x' + grid[y0+yd//2][x0+xd//2+1:]\n",
    "    return connects\n",
    "\n",
    "\n",
    "distances = {}\n",
    "queue = {(x0,y0,0)}\n",
    "while len(queue) > 0:\n",
    "    x,y,d = queue.pop()\n",
    "    visit_neighbours(x,y,d)\n",
    "\n",
    "loop = [''.join(['.' if ((x,y) not in distances and grid[y][x] != 'x' and x % 2 == 0 and y % 2 == 0) else grid[y][x] \\\n",
    "                 for x in range(len(grid[0]))]) for y in range(len(grid))]\n",
    "\n",
    "def expand(x0,y0):\n",
    "    queue = {(x0,y0)}\n",
    "    visited = set()\n",
    "    while len(queue) > 0:\n",
    "        (x,y) = queue.pop()\n",
    "        if x >= 0 and x < len(grid[0]) and y >= 0 and y < len(grid) and (loop[y][x] == '.' or loop[y][x] == ' ') and (x,y) not in visited:\n",
    "            visited.add((x,y))\n",
    "            queue.add((x-1,y))\n",
    "            queue.add((x+1,y))\n",
    "            queue.add((x,y-1))\n",
    "            queue.add((x,y+1))\n",
    "    return visited\n",
    "\n",
    "outside = expand(0,0)\n",
    "inside = [''.join([' ' if (x,y) in outside else loop[y][x] for x in range(len(loop[0]))]) for y in range(len(loop))]\n",
    "\n",
    "sum([line.count('.') for line in inside])"
   ]
  },
  {
   "cell_type": "markdown",
   "id": "92b768f6-14ca-48bb-b5ac-99196be6b8fb",
   "metadata": {},
   "source": [
    "## Day 11"
   ]
  },
  {
   "cell_type": "markdown",
   "id": "43abfbe1-0b02-4d65-8cee-58a1cdbf871c",
   "metadata": {},
   "source": [
    "### Part 1"
   ]
  },
  {
   "cell_type": "code",
   "execution_count": 78,
   "id": "341fa171-96bb-4046-bc72-091e6a9ab081",
   "metadata": {},
   "outputs": [
    {
     "data": {
      "text/plain": [
       "9370588"
      ]
     },
     "execution_count": 78,
     "metadata": {},
     "output_type": "execute_result"
    }
   ],
   "source": [
    "with open('inputs/day11.txt') as f:\n",
    "    s = f.read()[:-1]\n",
    "\n",
    "\n",
    "def transpose(matrix):\n",
    "    return [''.join([matrix[y][x] for y in range(len(matrix))]) for x in range(len(matrix[0]))]\n",
    "\n",
    "\n",
    "space = s.split('\\n')\n",
    "space_t = transpose(space)\n",
    "empty_y = {y for y in range(len(space)) if '#' not in space[y]}\n",
    "empty_x = {x for x in range(len(space_t)) if '#' not in space_t[x]}\n",
    "galaxies = [(x,y) for x in range(len(space[0])) for y in range(len(space)) if space[y][x] == '#']\n",
    "\n",
    "\n",
    "def distance(g1,g2,empty_value):\n",
    "    (x1,y1) = g1\n",
    "    (x2,y2) = g2\n",
    "    acc = abs(x1-x2) + abs(y1-y2)\n",
    "    for x in empty_x:\n",
    "        if x in range(min(x1,x2), max(x1,x2)):\n",
    "            acc += empty_value-1\n",
    "    for y in empty_y:\n",
    "        if y in range(min(y1,y2), max(y1,y2)):\n",
    "            acc += empty_value-1\n",
    "    return acc\n",
    "\n",
    "\n",
    "acc = 0\n",
    "for i in range(len(galaxies)):\n",
    "    for j in range(i+1, len(galaxies)):\n",
    "        acc += distance(galaxies[i], galaxies[j],2)\n",
    "\n",
    "acc"
   ]
  },
  {
   "cell_type": "markdown",
   "id": "5bd9bc8e-f62f-44d8-bcd3-5bad7e3b8d39",
   "metadata": {},
   "source": [
    "### Part 2"
   ]
  },
  {
   "cell_type": "code",
   "execution_count": 79,
   "id": "4c0e5071-ddea-47fa-8601-b0c4005d772b",
   "metadata": {},
   "outputs": [
    {
     "data": {
      "text/plain": [
       "746207878188"
      ]
     },
     "execution_count": 79,
     "metadata": {},
     "output_type": "execute_result"
    }
   ],
   "source": [
    "acc = 0\n",
    "for i in range(len(galaxies)):\n",
    "    for j in range(i+1, len(galaxies)):\n",
    "        acc += distance(galaxies[i], galaxies[j],1000000)\n",
    "\n",
    "acc"
   ]
  },
  {
   "cell_type": "markdown",
   "id": "643155c0-c310-4a34-99c4-13f9bebd118c",
   "metadata": {},
   "source": [
    "## Day 12"
   ]
  },
  {
   "cell_type": "markdown",
   "id": "d1fd0357-5a5d-4d92-b5ae-71f9a6ea5a36",
   "metadata": {},
   "source": [
    "### Part 1"
   ]
  },
  {
   "cell_type": "code",
   "execution_count": 298,
   "id": "2b976711-1ddd-4d95-b8bd-8719e9d8dbf2",
   "metadata": {},
   "outputs": [
    {
     "data": {
      "text/plain": [
       "7204"
      ]
     },
     "execution_count": 298,
     "metadata": {},
     "output_type": "execute_result"
    }
   ],
   "source": [
    "from functools import cache\n",
    "\n",
    "with open('inputs/day12.txt') as f:\n",
    "    s = f.read()[:-1]\n",
    "\n",
    "@cache\n",
    "def count_solutions(record, broken_blocks, solutions):\n",
    "    if len(record) == 0 and len(broken_blocks) == 0:\n",
    "        return 1\n",
    "    if len(record) == 0 and len(broken_blocks) > 0:\n",
    "        return 0\n",
    "    if record[0] == '.':\n",
    "        return count_solutions(record[1:], broken_blocks, solutions)\n",
    "    if record[0] == '#':\n",
    "        if len(broken_blocks) == 0 or len(record) < broken_blocks[0] or '.' in record[:broken_blocks[0]] or \\\n",
    "           (len(record) > broken_blocks[0] and record[broken_blocks[0]] == '#'):\n",
    "            return 0\n",
    "        else:\n",
    "            return count_solutions('.' + record[broken_blocks[0]+1:], broken_blocks[1:], solutions)\n",
    "    return count_solutions('#' + record[1:], broken_blocks, solutions+1) + count_solutions('.' + record[1:], broken_blocks, solutions+1)\n",
    "\n",
    "\n",
    "springs = [(line.split(' ')[0], tuple([int(n) for n in line.split(' ')[1].split(',')])) for line in s.split('\\n')]\n",
    "sum([count_solutions(spring[0],spring[1],0) for spring in springs])"
   ]
  },
  {
   "cell_type": "markdown",
   "id": "88b1db76-1075-4a7b-9f7c-cf2c258542ee",
   "metadata": {},
   "source": [
    "### Part 2"
   ]
  },
  {
   "cell_type": "code",
   "execution_count": 299,
   "id": "7fe6afe5-443b-4de5-bdee-b899ba1799e8",
   "metadata": {},
   "outputs": [
    {
     "data": {
      "text/plain": [
       "1672318386674"
      ]
     },
     "execution_count": 299,
     "metadata": {},
     "output_type": "execute_result"
    }
   ],
   "source": [
    "def unfold(spring):\n",
    "    (record, broken_blocks) = spring\n",
    "    return ('?'.join([record]*5),broken_blocks*5)\n",
    "\n",
    "unfolded_springs = [unfold(spring) for spring in springs]\n",
    "sum([count_solutions(spring[0],spring[1],0) for spring in unfolded_springs])"
   ]
  },
  {
   "cell_type": "markdown",
   "id": "abeb0f3c-7649-4156-82cf-c5864f34affb",
   "metadata": {},
   "source": [
    "## Day 13"
   ]
  },
  {
   "cell_type": "markdown",
   "id": "b36e3507-2bf0-4a4d-966f-1a4e4b9a6ab7",
   "metadata": {},
   "source": [
    "### Part 1"
   ]
  },
  {
   "cell_type": "code",
   "execution_count": 89,
   "id": "48ffd7e9-09de-4864-82f8-5b23e5eb4cd0",
   "metadata": {},
   "outputs": [
    {
     "data": {
      "text/plain": [
       "26957"
      ]
     },
     "execution_count": 89,
     "metadata": {},
     "output_type": "execute_result"
    }
   ],
   "source": [
    "with open('inputs/day13.txt') as f:\n",
    "    s = f.read()[:-1]\n",
    "\n",
    "def transpose(matrix):\n",
    "    return [''.join([matrix[y][x] for y in range(len(matrix))]) for x in range(len(matrix[0]))]\n",
    "\n",
    "\n",
    "def check_reflection(pattern,y):\n",
    "    size = min(y, len(pattern)-y)\n",
    "    return pattern[y-size:y] == pattern[y:y+size][::-1] \n",
    "\n",
    "\n",
    "def find_horizontal_reflection(pattern):\n",
    "    for y in range(1,len(pattern)):\n",
    "        if check_reflection(pattern,y):\n",
    "            return y\n",
    "    return 0\n",
    "\n",
    "\n",
    "def find_vertical_reflection(pattern):\n",
    "    pattern_t = transpose(pattern)\n",
    "    for x in range(1,len(pattern_t)):\n",
    "        if check_reflection(pattern_t,x):\n",
    "            return x\n",
    "    return 0\n",
    "    \n",
    "\n",
    "def find_reflection_index(pattern):\n",
    "    return (find_vertical_reflection(pattern), find_horizontal_reflection(pattern))\n",
    "\n",
    "\n",
    "def reflection_value(pattern):\n",
    "    (ref_x, ref_y) = find_reflection_index(pattern)\n",
    "    return 100*ref_y + ref_x\n",
    "\n",
    "\n",
    "patterns = [pattern.split('\\n') for pattern in s.split('\\n\\n')]\n",
    "sum(map(lambda pattern: reflection_value(pattern), patterns))"
   ]
  },
  {
   "cell_type": "markdown",
   "id": "b68432f2-a750-4a50-ad82-cf36c7f86351",
   "metadata": {},
   "source": [
    "### Part 2"
   ]
  },
  {
   "cell_type": "code",
   "execution_count": 124,
   "id": "6da555d1-339e-4b7f-834a-4e9d3ff87d92",
   "metadata": {},
   "outputs": [
    {
     "data": {
      "text/plain": [
       "42695"
      ]
     },
     "execution_count": 124,
     "metadata": {},
     "output_type": "execute_result"
    }
   ],
   "source": [
    "def flip(pattern,x,y):\n",
    "    replacement = '.' if pattern[y][x] == '#' else '#'\n",
    "    return [pattern[yy][:x] + replacement + pattern[yy][x+1:] if yy == y else pattern[yy] for yy in range(len(pattern))]\n",
    "\n",
    "def find_horizontal_reflection_except(pattern,ex):\n",
    "    for y in range(1,len(pattern)):\n",
    "        if check_reflection(pattern,y) and y != ex:\n",
    "            return y\n",
    "    return 0\n",
    "\n",
    "\n",
    "def find_vertical_reflection_except(pattern,ex):\n",
    "    pattern_t = transpose(pattern)\n",
    "    for x in range(1,len(pattern_t)):\n",
    "        if check_reflection(pattern_t,x) and x != ex:\n",
    "            return x\n",
    "    return 0\n",
    "    \n",
    "\n",
    "def find_reflection_index_except(pattern,ex_x,ex_y):\n",
    "    return (find_vertical_reflection_except(pattern,ex_x), find_horizontal_reflection_except(pattern,ex_y))\n",
    "\n",
    "\n",
    "def reflection_value_smudged(pattern):\n",
    "    (ref_x_0, ref_y_0) = find_reflection_index(pattern)\n",
    "    for y in range(len(pattern)):\n",
    "        for x in range(len(pattern[0])):\n",
    "            cleaned = flip(pattern,x,y)\n",
    "            (ref_x, ref_y) = find_reflection_index_except(cleaned, ref_x_0, ref_y_0)\n",
    "            if ref_x == ref_x_0:\n",
    "                ref_x = 0\n",
    "            if ref_y == ref_y_0:\n",
    "                ref_y = 0\n",
    "            if ref_x + ref_y != 0:\n",
    "                return 100*ref_y + ref_x\n",
    "\n",
    "\n",
    "sum(map(lambda pattern: reflection_value_smudged(pattern), patterns))"
   ]
  },
  {
   "cell_type": "markdown",
   "id": "df4a2ccd-d4ff-49b0-9f75-f5a251fbac79",
   "metadata": {},
   "source": [
    "## Day 14"
   ]
  },
  {
   "cell_type": "markdown",
   "id": "94824d2b-2347-436c-a1db-fb48ce103e32",
   "metadata": {},
   "source": [
    "### Part 1"
   ]
  },
  {
   "cell_type": "code",
   "execution_count": 94,
   "id": "f56a64ff-3896-406c-b743-5441c72eb403",
   "metadata": {},
   "outputs": [
    {
     "data": {
      "text/plain": [
       "108144"
      ]
     },
     "execution_count": 94,
     "metadata": {},
     "output_type": "execute_result"
    }
   ],
   "source": [
    "with open('inputs/day14.txt') as f:\n",
    "    s = f.read()[:-1].split('\\n')\n",
    "\n",
    "min_x = 0\n",
    "min_y = 0\n",
    "max_x = len(s[0])-1\n",
    "max_y = len(s)-1\n",
    "\n",
    "static = {(x,y) for y in range(max_y+1) for x in range(max_x+1) if s[y][x] == '#'}\n",
    "rolling = {(x,y) for y in range(max_y+1) for x in range(max_x+1) if s[y][x] == 'O'}\n",
    "\n",
    "\n",
    "def discover_stuck(rolling, direction):\n",
    "    (x_d,y_d) = direction\n",
    "    stuck = {(x,y) for (x,y) in rolling if (x+x_d) < min_x or (y+y_d) < min_y or (x+x_d) > max_x or (y+y_d) > max_y or (x+x_d,y+y_d) in static}\n",
    "    added = len(stuck)\n",
    "    while added != 0:\n",
    "        also_stuck = {(x,y) for (x,y) in rolling if (x+x_d,y+y_d) in stuck and (x,y) not in stuck}\n",
    "        added = len(also_stuck)\n",
    "        stuck.update(also_stuck)\n",
    "    return stuck\n",
    "\n",
    "\n",
    "def roll_once(rolling, direction):\n",
    "    (x_d,y_d) = direction\n",
    "    stuck = discover_stuck(rolling, direction)\n",
    "    free = {(x+x_d,y+y_d) for (x,y) in rolling if (x,y) not in stuck}\n",
    "    new_rolling = stuck.union(free)\n",
    "    return (new_rolling, rolling != new_rolling)\n",
    "\n",
    "\n",
    "def full_roll(rolling, direction):\n",
    "    (rolling_new, changed) = roll(rolling, direction)\n",
    "    while changed:\n",
    "        (rolling_new, changed) = roll(rolling_new, direction)\n",
    "    return rolling_new\n",
    "\n",
    "\n",
    "def load(rolling):\n",
    "    return sum([max_y+1-y for (_,y) in rolling])\n",
    "\n",
    "rolling_new = full_roll(rolling, (0,-1))\n",
    "load(rolling_new)"
   ]
  },
  {
   "cell_type": "markdown",
   "id": "e54f611f-f187-4ced-a679-6da9669017c1",
   "metadata": {},
   "source": [
    "### Part 2"
   ]
  },
  {
   "cell_type": "code",
   "execution_count": 95,
   "id": "63f31fdb-1832-4a61-a196-ade76671286b",
   "metadata": {},
   "outputs": [
    {
     "data": {
      "text/plain": [
       "108404"
      ]
     },
     "execution_count": 95,
     "metadata": {},
     "output_type": "execute_result"
    }
   ],
   "source": [
    "cache = {}\n",
    "\n",
    "def to_tuple(rolling):\n",
    "    return tuple(sorted(list(rolling)))\n",
    "\n",
    "\n",
    "def cycle(rolling,i):\n",
    "    rolling_t = to_tuple(rolling)\n",
    "    if rolling_t in cache:\n",
    "        return cache[rolling_t]\n",
    "    rolling = full_roll(rolling, (0,-1))\n",
    "    rolling = full_roll(rolling, (-1,0))\n",
    "    rolling = full_roll(rolling, (0,1))\n",
    "    rolling = full_roll(rolling, (1,0))\n",
    "    cache[rolling_t] = (rolling,i)\n",
    "    return (rolling,None)\n",
    "\n",
    "(rolling_new,cache_hit) = cycle(rolling, 0)\n",
    "cycles = 1000000000\n",
    "i = 1\n",
    "while i < cycles:\n",
    "    (rolling_new, first_seen) = cycle(rolling_new,i)\n",
    "    if first_seen is not None:\n",
    "        loop_length = i-first_seen\n",
    "        i = first_seen + loop_length*((cycles-first_seen)//loop_length)\n",
    "    i += 1\n",
    "\n",
    "load(rolling_new)"
   ]
  }
 ],
 "metadata": {
  "kernelspec": {
   "display_name": "Python 3 (ipykernel)",
   "language": "python",
   "name": "python3"
  },
  "language_info": {
   "codemirror_mode": {
    "name": "ipython",
    "version": 3
   },
   "file_extension": ".py",
   "mimetype": "text/x-python",
   "name": "python",
   "nbconvert_exporter": "python",
   "pygments_lexer": "ipython3",
   "version": "3.11.6"
  }
 },
 "nbformat": 4,
 "nbformat_minor": 5
}
