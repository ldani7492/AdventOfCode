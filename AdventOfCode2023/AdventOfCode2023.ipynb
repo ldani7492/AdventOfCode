{
 "cells": [
  {
   "cell_type": "markdown",
   "id": "7a526a26-b5fa-4694-889a-1f6c7f57a95b",
   "metadata": {},
   "source": [
    "# Advent of Code 2023"
   ]
  },
  {
   "cell_type": "markdown",
   "id": "574fd75c-2cdb-4601-9c5d-ed366ac74d65",
   "metadata": {},
   "source": [
    "## Day 1"
   ]
  },
  {
   "cell_type": "markdown",
   "id": "3b98a848-ea08-46d2-99e6-fc40ca2d473a",
   "metadata": {},
   "source": [
    "### Part 1"
   ]
  },
  {
   "cell_type": "code",
   "execution_count": 3,
   "id": "5cd07bbe-282c-4b8b-bf67-6aced848db3e",
   "metadata": {},
   "outputs": [
    {
     "data": {
      "text/plain": [
       "54634"
      ]
     },
     "execution_count": 3,
     "metadata": {},
     "output_type": "execute_result"
    }
   ],
   "source": [
    "with open('inputs/day1.txt') as f:\n",
    "    s = f.read()[:-1]\n",
    "\n",
    "def parse(n):\n",
    "    return int(n[0] + n[-1])\n",
    "\n",
    "sum([parse([c for c in n if c.isnumeric()]) for n in s.split('\\n')])"
   ]
  },
  {
   "cell_type": "markdown",
   "id": "584bfe2b-0732-4f91-93e2-739292c5b21a",
   "metadata": {},
   "source": [
    "### Part 2"
   ]
  },
  {
   "cell_type": "code",
   "execution_count": 4,
   "id": "0a04f54a-5942-471e-b24f-2e248dfd2761",
   "metadata": {},
   "outputs": [
    {
     "data": {
      "text/plain": [
       "53855"
      ]
     },
     "execution_count": 4,
     "metadata": {},
     "output_type": "execute_result"
    }
   ],
   "source": [
    "numeral_map = {'one':'1',\n",
    "               'two':'2',\n",
    "               'three':'3',\n",
    "               'four':'4',\n",
    "               'five':'5',\n",
    "               'six':'6',\n",
    "               'seven':'7',\n",
    "               'eight':'8',\n",
    "               'nine':'9'}\n",
    "numerals = list(numeral_map.keys()) + list(numeral_map.values())\n",
    "\n",
    "def parse_numeral(n):\n",
    "    return numeral_map[n] if n in numeral_map else n\n",
    "\n",
    "\n",
    "def extract_number(s):\n",
    "    indices_left = {n:s.find(n) for n in numerals if s.find(n) >= 0}\n",
    "    indices_right = {n:s.rfind(n) for n in numerals if s.find(n) >= 0}\n",
    "    leftmost = parse_numeral(min(indices_left,key=indices_left.get))\n",
    "    rightmost = parse_numeral(max(indices_right,key=indices_right.get))\n",
    "    return int(leftmost + rightmost)\n",
    "\n",
    "\n",
    "sum([extract_number(n) for n in s.split('\\n')])"
   ]
  },
  {
   "cell_type": "markdown",
   "id": "63f43231-1975-4c2c-ac42-b8a28a297921",
   "metadata": {},
   "source": [
    "## Day 2"
   ]
  },
  {
   "cell_type": "markdown",
   "id": "8187e28b-4d7b-476c-8cc5-994b1f527885",
   "metadata": {},
   "source": [
    "### Part 1"
   ]
  },
  {
   "cell_type": "code",
   "execution_count": 57,
   "id": "0c60da48-56a6-4490-b44f-62efdfb47943",
   "metadata": {},
   "outputs": [
    {
     "data": {
      "text/plain": [
       "2593"
      ]
     },
     "execution_count": 57,
     "metadata": {},
     "output_type": "execute_result"
    }
   ],
   "source": [
    "with open('inputs/day2.txt') as f:\n",
    "    s = f.read()[:-1]\n",
    "\n",
    "def parse_round(round):\n",
    "    return {cubes.split(' ')[1]: int(cubes.split(' ')[0]) for cubes in round.split(', ')}\n",
    "\n",
    "\n",
    "def parse_game(game):\n",
    "    return [parse_round(round) for round in game.split(': ')[1].split('; ')]\n",
    "\n",
    "\n",
    "def max_color_value(game, color):\n",
    "    return (color, max([round.get(color,0) for round in game]))\n",
    "\n",
    "\n",
    "def max_values(game):\n",
    "    return dict(map(lambda c: max_color_value(game,c), ['red', 'green', 'blue']))\n",
    "\n",
    "\n",
    "def is_valid(game,reds,greens,blues):\n",
    "    maxes = max_values(game)\n",
    "    return maxes.get('red',0) <= reds and maxes.get('green',0) <= greens and maxes.get('blue',0) <= blues\n",
    "\n",
    "\n",
    "games = [parse_game(game) for game in s.split('\\n')]\n",
    "sum([i+1 for i,game in enumerate(games) if is_valid(game,12,13,14)])"
   ]
  },
  {
   "cell_type": "markdown",
   "id": "ccc6f12c-77d6-4eb8-afd6-3d9624332feb",
   "metadata": {},
   "source": [
    "### Part 2"
   ]
  },
  {
   "cell_type": "code",
   "execution_count": 59,
   "id": "fa906164-358e-466d-92d1-e596593f1add",
   "metadata": {},
   "outputs": [
    {
     "data": {
      "text/plain": [
       "54699"
      ]
     },
     "execution_count": 59,
     "metadata": {},
     "output_type": "execute_result"
    }
   ],
   "source": [
    "from functools import reduce\n",
    "\n",
    "def game_power(game):\n",
    "    return reduce(lambda a,b: a*b, max_values(game).values())\n",
    "\n",
    "\n",
    "sum(list(map(game_power, games)))"
   ]
  },
  {
   "cell_type": "markdown",
   "id": "0f4db99e-6df6-4372-80ab-6aa6c506d057",
   "metadata": {},
   "source": [
    "## Day 3"
   ]
  },
  {
   "cell_type": "markdown",
   "id": "2b79e41f-d734-48ae-9a4f-a923ffa068a6",
   "metadata": {},
   "source": [
    "### Part 1"
   ]
  },
  {
   "cell_type": "code",
   "execution_count": 114,
   "id": "69155ba6-b7f8-4d10-9f69-43b16d9f47aa",
   "metadata": {},
   "outputs": [
    {
     "data": {
      "text/plain": [
       "521515"
      ]
     },
     "execution_count": 114,
     "metadata": {},
     "output_type": "execute_result"
    }
   ],
   "source": [
    "from functools import reduce\n",
    "\n",
    "with open('inputs/day3.txt') as f:\n",
    "    s = f.read()[:-1].split('\\n')\n",
    "\n",
    "symbols = [(x,y) for y in range(len(s)) for x in range(len(s[0])) if not (s[y][x] == '.' or s[y][x].isnumeric())]\n",
    "numbers = [(x,y) for y in range(len(s)) for x in range(len(s[0])) if s[y][x].isnumeric()]\n",
    "neighbours = [(-1,-1), (-1,0), (-1,1), (0,-1), (0,1), (1,-1), (1,0), (1,1)]\n",
    "\n",
    "def explore(reachable, current, target):\n",
    "    (x,y) = current\n",
    "    neighborhood = [(x+xd,y+yd) for (xd,yd) in neighbours]\n",
    "    for coord in neighborhood:\n",
    "        if coord in target and coord not in reachable:\n",
    "            reachable.add(coord)\n",
    "            explore(reachable, coord, target)\n",
    "    return reachable\n",
    "\n",
    "\n",
    "reachable = reduce(lambda acc,sym: explore(acc, sym, numbers), symbols, set())\n",
    "number_starts = [(x,y) for (x,y) in reachable if (x-1,y) not in reachable]\n",
    "\n",
    "def read_number(current, acc, reachable):\n",
    "    (x,y) = current\n",
    "    if current in reachable:\n",
    "        return read_number((x+1,y), acc*10+int(s[y][x]), reachable)\n",
    "    return acc\n",
    "\n",
    "\n",
    "sum(map(lambda x: read_number(x,0,reachable), number_starts))"
   ]
  },
  {
   "cell_type": "markdown",
   "id": "e4376c95-20f7-4ea3-afb6-600ccca8aa73",
   "metadata": {},
   "source": [
    "### Part 2"
   ]
  },
  {
   "cell_type": "code",
   "execution_count": 116,
   "id": "fd0b5e07-9e85-49ed-bc39-1e8bb9d2d301",
   "metadata": {},
   "outputs": [
    {
     "data": {
      "text/plain": [
       "69527306"
      ]
     },
     "execution_count": 116,
     "metadata": {},
     "output_type": "execute_result"
    }
   ],
   "source": [
    "symbols = [(x,y) for y in range(len(s)) for x in range(len(s[0])) if s[y][x] == '*']\n",
    "reachable = {sym: explore(set(), sym, numbers) for sym in symbols}\n",
    "numbers = list(reduce(lambda acc, v: acc.union(v), reachable.values(), set()))\n",
    "number_starts = [(x,y) for (x,y) in numbers if (x-1,y) not in numbers]\n",
    "reachable_number_starts = {sym: [n for n in reachable[sym] if n in number_starts] for sym in reachable}\n",
    "gears = [reduce(lambda a,b: a*b, map(lambda x: read_number(x,0,numbers), num_starts), 1) \n",
    "         for num_starts in reachable_number_starts.values() if len(num_starts) == 2]\n",
    "\n",
    "sum(gears)"
   ]
  }
 ],
 "metadata": {
  "kernelspec": {
   "display_name": "Python 3 (ipykernel)",
   "language": "python",
   "name": "python3"
  },
  "language_info": {
   "codemirror_mode": {
    "name": "ipython",
    "version": 3
   },
   "file_extension": ".py",
   "mimetype": "text/x-python",
   "name": "python",
   "nbconvert_exporter": "python",
   "pygments_lexer": "ipython3",
   "version": "3.11.6"
  }
 },
 "nbformat": 4,
 "nbformat_minor": 5
}
