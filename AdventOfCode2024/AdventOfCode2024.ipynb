{
 "cells": [
  {
   "cell_type": "markdown",
   "id": "33663446-274a-4ea7-bae0-a3c9689c8ccf",
   "metadata": {},
   "source": [
    "# Advent of Code 2024"
   ]
  },
  {
   "cell_type": "markdown",
   "id": "a34128c5-ed64-424d-851f-63e084495561",
   "metadata": {},
   "source": [
    "## Day 1"
   ]
  },
  {
   "cell_type": "markdown",
   "id": "6032dc62-7f2c-48b7-9899-acd49381592a",
   "metadata": {},
   "source": [
    "### Part 1"
   ]
  },
  {
   "cell_type": "code",
   "execution_count": 8,
   "id": "cd185483-47a4-4077-bc7a-0b674318f35f",
   "metadata": {},
   "outputs": [
    {
     "data": {
      "text/plain": [
       "2344935"
      ]
     },
     "execution_count": 8,
     "metadata": {},
     "output_type": "execute_result"
    }
   ],
   "source": [
    "with open('inputs/day1.txt') as f:\n",
    "    s = f.read().split('\\n')[:-1]\n",
    "\n",
    "left = sorted([int(line.split('   ')[0]) for line in s])\n",
    "right = sorted([int(line.split('   ')[1]) for line in s])\n",
    "\n",
    "sum([abs(left[i] - right[i]) for i in range(len(left))])"
   ]
  },
  {
   "cell_type": "markdown",
   "id": "4e4839ff-28aa-4a0e-8e1c-0d981e581b0a",
   "metadata": {},
   "source": [
    "### Part 2"
   ]
  },
  {
   "cell_type": "code",
   "execution_count": 10,
   "id": "9e0e4a04-cdff-411e-9d8c-924817e43b0d",
   "metadata": {},
   "outputs": [
    {
     "data": {
      "text/plain": [
       "27647262"
      ]
     },
     "execution_count": 10,
     "metadata": {},
     "output_type": "execute_result"
    }
   ],
   "source": [
    "frequency = {n: right.count(n) for n in left}\n",
    "\n",
    "sum([n*frequency[n] for n in frequency])"
   ]
  },
  {
   "cell_type": "markdown",
   "id": "4df7bc05-c5f3-4d41-bbce-f970c5e625cf",
   "metadata": {},
   "source": [
    "## Day 2"
   ]
  },
  {
   "cell_type": "markdown",
   "id": "a4dee7f1-7656-457e-9361-e7a8178d4b1b",
   "metadata": {},
   "source": [
    "### Part 1"
   ]
  },
  {
   "cell_type": "code",
   "execution_count": 17,
   "id": "23ca0ce1-66cb-44ba-b9c7-d0f2d0e7fc1c",
   "metadata": {},
   "outputs": [
    {
     "data": {
      "text/plain": [
       "516"
      ]
     },
     "execution_count": 17,
     "metadata": {},
     "output_type": "execute_result"
    }
   ],
   "source": [
    "with open('inputs/day2.txt') as f:\n",
    "    s = f.read().split('\\n')[:-1]\n",
    "\n",
    "\n",
    "def is_safe(levels):\n",
    "    direction = levels[1] - levels[0]\n",
    "    for i in range(1, len(levels)):\n",
    "        d = levels[i] - levels[i-1]\n",
    "        if direction * d < 0 or abs(d) < 1 or abs(d) > 3:\n",
    "            return False\n",
    "    return True\n",
    "\n",
    "\n",
    "report = [[int(level) for level in line.split(' ')] for line in s]\n",
    "sum([1 if is_safe(levels) else 0 for levels in report])"
   ]
  },
  {
   "cell_type": "markdown",
   "id": "7bef81b5-c166-44d5-96b6-e401e84eb107",
   "metadata": {},
   "source": [
    "### Part 2"
   ]
  },
  {
   "cell_type": "code",
   "execution_count": 19,
   "id": "252c150a-1dc3-4599-9586-bf90d7121541",
   "metadata": {},
   "outputs": [
    {
     "data": {
      "text/plain": [
       "561"
      ]
     },
     "execution_count": 19,
     "metadata": {},
     "output_type": "execute_result"
    }
   ],
   "source": [
    "def remove_level(levels, i):\n",
    "    return levels[:i] + levels[i+1:]\n",
    "\n",
    "\n",
    "def is_safe_tolerate(levels):\n",
    "    if is_safe(levels):\n",
    "        return True\n",
    "    for i in range(len(levels)):\n",
    "        if is_safe(remove_level(levels, i)):\n",
    "            return True\n",
    "    return False\n",
    "\n",
    "\n",
    "sum([1 if is_safe_tolerate(levels) else 0 for levels in report])"
   ]
  }
 ],
 "metadata": {
  "kernelspec": {
   "display_name": "Python 3 (ipykernel)",
   "language": "python",
   "name": "python3"
  },
  "language_info": {
   "codemirror_mode": {
    "name": "ipython",
    "version": 3
   },
   "file_extension": ".py",
   "mimetype": "text/x-python",
   "name": "python",
   "nbconvert_exporter": "python",
   "pygments_lexer": "ipython3",
   "version": "3.12.7"
  }
 },
 "nbformat": 4,
 "nbformat_minor": 5
}
