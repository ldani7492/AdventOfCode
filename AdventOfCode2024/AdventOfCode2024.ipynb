{
 "cells": [
  {
   "cell_type": "markdown",
   "id": "33663446-274a-4ea7-bae0-a3c9689c8ccf",
   "metadata": {},
   "source": [
    "# Advent of Code 2024"
   ]
  },
  {
   "cell_type": "markdown",
   "id": "a34128c5-ed64-424d-851f-63e084495561",
   "metadata": {},
   "source": [
    "## Day 1"
   ]
  },
  {
   "cell_type": "markdown",
   "id": "6032dc62-7f2c-48b7-9899-acd49381592a",
   "metadata": {},
   "source": [
    "### Part 1"
   ]
  },
  {
   "cell_type": "code",
   "execution_count": 8,
   "id": "cd185483-47a4-4077-bc7a-0b674318f35f",
   "metadata": {},
   "outputs": [
    {
     "data": {
      "text/plain": [
       "2344935"
      ]
     },
     "execution_count": 8,
     "metadata": {},
     "output_type": "execute_result"
    }
   ],
   "source": [
    "with open('inputs/day1.txt') as f:\n",
    "    s = f.read().split('\\n')[:-1]\n",
    "\n",
    "left = sorted([int(line.split('   ')[0]) for line in s])\n",
    "right = sorted([int(line.split('   ')[1]) for line in s])\n",
    "\n",
    "sum([abs(left[i] - right[i]) for i in range(len(left))])"
   ]
  },
  {
   "cell_type": "markdown",
   "id": "4e4839ff-28aa-4a0e-8e1c-0d981e581b0a",
   "metadata": {},
   "source": [
    "### Part 2"
   ]
  },
  {
   "cell_type": "code",
   "execution_count": 10,
   "id": "9e0e4a04-cdff-411e-9d8c-924817e43b0d",
   "metadata": {},
   "outputs": [
    {
     "data": {
      "text/plain": [
       "27647262"
      ]
     },
     "execution_count": 10,
     "metadata": {},
     "output_type": "execute_result"
    }
   ],
   "source": [
    "frequency = {n: right.count(n) for n in left}\n",
    "\n",
    "sum([n*frequency[n] for n in frequency])"
   ]
  },
  {
   "cell_type": "markdown",
   "id": "4df7bc05-c5f3-4d41-bbce-f970c5e625cf",
   "metadata": {},
   "source": [
    "## Day 2"
   ]
  },
  {
   "cell_type": "markdown",
   "id": "a4dee7f1-7656-457e-9361-e7a8178d4b1b",
   "metadata": {},
   "source": [
    "### Part 1"
   ]
  },
  {
   "cell_type": "code",
   "execution_count": 17,
   "id": "23ca0ce1-66cb-44ba-b9c7-d0f2d0e7fc1c",
   "metadata": {},
   "outputs": [
    {
     "data": {
      "text/plain": [
       "516"
      ]
     },
     "execution_count": 17,
     "metadata": {},
     "output_type": "execute_result"
    }
   ],
   "source": [
    "with open('inputs/day2.txt') as f:\n",
    "    s = f.read().split('\\n')[:-1]\n",
    "\n",
    "\n",
    "def is_safe(levels):\n",
    "    direction = levels[1] - levels[0]\n",
    "    for i in range(1, len(levels)):\n",
    "        d = levels[i] - levels[i-1]\n",
    "        if direction * d < 0 or abs(d) < 1 or abs(d) > 3:\n",
    "            return False\n",
    "    return True\n",
    "\n",
    "\n",
    "report = [[int(level) for level in line.split(' ')] for line in s]\n",
    "sum([1 if is_safe(levels) else 0 for levels in report])"
   ]
  },
  {
   "cell_type": "markdown",
   "id": "7bef81b5-c166-44d5-96b6-e401e84eb107",
   "metadata": {},
   "source": [
    "### Part 2"
   ]
  },
  {
   "cell_type": "code",
   "execution_count": 19,
   "id": "252c150a-1dc3-4599-9586-bf90d7121541",
   "metadata": {},
   "outputs": [
    {
     "data": {
      "text/plain": [
       "561"
      ]
     },
     "execution_count": 19,
     "metadata": {},
     "output_type": "execute_result"
    }
   ],
   "source": [
    "def remove_level(levels, i):\n",
    "    return levels[:i] + levels[i+1:]\n",
    "\n",
    "\n",
    "def is_safe_tolerate(levels):\n",
    "    if is_safe(levels):\n",
    "        return True\n",
    "    for i in range(len(levels)):\n",
    "        if is_safe(remove_level(levels, i)):\n",
    "            return True\n",
    "    return False\n",
    "\n",
    "\n",
    "sum([1 if is_safe_tolerate(levels) else 0 for levels in report])"
   ]
  },
  {
   "cell_type": "markdown",
   "id": "6fd5129c-287e-4701-afb2-da625ec1d9b4",
   "metadata": {},
   "source": [
    "## Day 3"
   ]
  },
  {
   "cell_type": "markdown",
   "id": "4cde996a-1b5f-47c4-8c51-5a7ff36b95d2",
   "metadata": {},
   "source": [
    "### Part 1"
   ]
  },
  {
   "cell_type": "code",
   "execution_count": 31,
   "id": "d75bfd84-743a-4428-95ab-8d4f33fa2ac4",
   "metadata": {},
   "outputs": [
    {
     "data": {
      "text/plain": [
       "189527826"
      ]
     },
     "execution_count": 31,
     "metadata": {},
     "output_type": "execute_result"
    }
   ],
   "source": [
    "import re\n",
    "\n",
    "with open('inputs/day3.txt') as f:\n",
    "    s = f.read()[:-1]\n",
    "\n",
    "\n",
    "def mul(command):\n",
    "    num = [int(i) for i in command[4:-1].split(',')]\n",
    "    return num[0]*num[1]\n",
    "\n",
    "\n",
    "reg = re.compile(r'mul\\(\\d{1,3},\\d{1,3}\\)')\n",
    "sum([mul(i) for i in reg.findall(s)])"
   ]
  },
  {
   "cell_type": "markdown",
   "id": "1548a886-89c3-4518-9356-ce94b27b364e",
   "metadata": {},
   "source": [
    "### Part 2"
   ]
  },
  {
   "cell_type": "code",
   "execution_count": 36,
   "id": "a7ade998-b8c2-420e-9624-2a54656d55f0",
   "metadata": {},
   "outputs": [
    {
     "data": {
      "text/plain": [
       "63013756"
      ]
     },
     "execution_count": 36,
     "metadata": {},
     "output_type": "execute_result"
    }
   ],
   "source": [
    "reg = re.compile(r'mul\\(\\d{1,3},\\d{1,3}\\)|do\\(\\)|don\\'t\\(\\)')\n",
    "\n",
    "a = 0\n",
    "enabled = True\n",
    "for comm in reg.findall(s):\n",
    "    if comm == 'do()':\n",
    "        enabled = True\n",
    "    elif comm == 'don\\'t()':\n",
    "        enabled = False\n",
    "    elif enabled:\n",
    "        a += mul(comm)\n",
    "\n",
    "a"
   ]
  },
  {
   "cell_type": "markdown",
   "id": "219a129d-0c02-419e-a2df-a27da6621417",
   "metadata": {},
   "source": [
    "## Day 4"
   ]
  },
  {
   "cell_type": "markdown",
   "id": "e5537845-f7c3-4e4f-8874-0027869c1fee",
   "metadata": {},
   "source": [
    "### Part 1"
   ]
  },
  {
   "cell_type": "code",
   "execution_count": 23,
   "id": "f8354b52-516f-4275-99a5-3b20a16069a2",
   "metadata": {},
   "outputs": [
    {
     "data": {
      "text/plain": [
       "2583"
      ]
     },
     "execution_count": 23,
     "metadata": {},
     "output_type": "execute_result"
    }
   ],
   "source": [
    "with open('inputs/day4.txt') as f:\n",
    "    s = f.read().split('\\n')[:-1]\n",
    "\n",
    "\n",
    "def transpose(s):\n",
    "    return [''.join([s[y][x] for y in range(len(s))]) for x in range(len(s[0]))]\n",
    "\n",
    "\n",
    "def diagonal_words(s, min_l):\n",
    "    words = []\n",
    "    for y in range(len(s)):\n",
    "        for x in range(len(s[0])):\n",
    "            for (dx,dy) in [(1,1),(1,-1),(-1,1),(-1,-1)]:\n",
    "                if x + (min_l-1)*dx in range(len(s[0])) and y + (min_l-1)*dy in range(len(s)):\n",
    "                    words.append(''.join([s[y+i*dy][x+i*dx] for i in range(min_l)]))\n",
    "    return words\n",
    "\n",
    "\n",
    "search = 'XMAS'\n",
    "a = 0\n",
    "\n",
    "for line in s:\n",
    "    a += line.count(search)\n",
    "    a += line.count(search[::-1])\n",
    "\n",
    "for line in transpose(s):\n",
    "    a += line.count(search)\n",
    "    a += line.count(search[::-1])\n",
    "\n",
    "a += diagonal_words(s, len(search)).count(search)\n",
    "\n",
    "a"
   ]
  },
  {
   "cell_type": "markdown",
   "id": "4762be37-1b1f-48cf-aaf1-f29b07836420",
   "metadata": {},
   "source": [
    "### Part 2"
   ]
  },
  {
   "cell_type": "code",
   "execution_count": 24,
   "id": "cac3f205-f507-454a-81f9-5ca7879aedcb",
   "metadata": {},
   "outputs": [
    {
     "data": {
      "text/plain": [
       "1978"
      ]
     },
     "execution_count": 24,
     "metadata": {},
     "output_type": "execute_result"
    }
   ],
   "source": [
    "search = 'MAS'\n",
    "\n",
    "def check_cross_word(x,y,s):\n",
    "    x_in_range = x in range(1, len(s[0])-1)\n",
    "    y_in_range = y in range(1, len(s)-1)\n",
    "    if not x_in_range or not y_in_range:\n",
    "        return False\n",
    "    center_ok = s[y][x] == search[1]\n",
    "    diag_up_left    = s[y-1][x-1] == search[0] and s[y+1][x+1] == search[2]\n",
    "    diag_up_right   = s[y-1][x+1] == search[0] and s[y+1][x-1] == search[2]\n",
    "    diag_down_left  = s[y+1][x-1] == search[0] and s[y-1][x+1] == search[2]\n",
    "    diag_down_right = s[y+1][x+1] == search[0] and s[y-1][x-1] == search[2]\n",
    "    return center_ok and (diag_up_left or diag_down_right) and (diag_up_right or diag_down_left)\n",
    "\n",
    "\n",
    "len([(x,y) for y in range(len(s)) for x in range(len(s[0])) if check_cross_word(x,y,s)])"
   ]
  },
  {
   "cell_type": "markdown",
   "id": "e9730f30-da90-4553-bb55-9fb3c6694b3b",
   "metadata": {},
   "source": [
    "## Day 5"
   ]
  },
  {
   "cell_type": "markdown",
   "id": "97a9843c-5e15-42e7-ba48-ac8af572fff7",
   "metadata": {},
   "source": [
    "### Part 1"
   ]
  },
  {
   "cell_type": "code",
   "execution_count": 27,
   "id": "f956c961-136a-4fa0-975b-1d8f7b33dc2f",
   "metadata": {},
   "outputs": [
    {
     "data": {
      "text/plain": [
       "7365"
      ]
     },
     "execution_count": 27,
     "metadata": {},
     "output_type": "execute_result"
    }
   ],
   "source": [
    "with open('inputs/day5.txt') as f:\n",
    "    s = f.read()[:-1].split('\\n\\n')\n",
    "\n",
    "\n",
    "def in_order(pages, rules):\n",
    "    visited = set()\n",
    "    for page in pages:\n",
    "        visited.add(page)\n",
    "        related_rules = rules.get(page, [])\n",
    "        for rule in related_rules:\n",
    "            if rule in pages and rule not in visited:\n",
    "                return False\n",
    "    return True\n",
    "\n",
    "\n",
    "def middle(pages):\n",
    "    return pages[len(pages)//2]\n",
    "\n",
    "\n",
    "rules = {}\n",
    "for rule in s[0].split('\\n'):\n",
    "    (x,y) = tuple(int(i) for i in rule.split('|'))\n",
    "    preceding = rules.get(y, [])\n",
    "    preceding.append(x)\n",
    "    rules[y] = preceding\n",
    "\n",
    "pages = [[int(i) for i in line.split(',')] for line in s[1].split('\\n')]\n",
    "\n",
    "sum([middle(p) for p in pages if in_order(p, rules)])"
   ]
  },
  {
   "cell_type": "markdown",
   "id": "1160fb57-91c2-47d1-9b24-7e204c6703c0",
   "metadata": {},
   "source": [
    "### Part 2"
   ]
  },
  {
   "cell_type": "code",
   "execution_count": 28,
   "id": "dd58b996-acb2-4457-805a-886a3da2dab2",
   "metadata": {},
   "outputs": [
    {
     "data": {
      "text/plain": [
       "5770"
      ]
     },
     "execution_count": 28,
     "metadata": {},
     "output_type": "execute_result"
    }
   ],
   "source": [
    "def filtered_rules(page, pages, rules, visited):\n",
    "    return [r for r in rules.get(page, []) if r in pages and r not in visited]\n",
    "\n",
    "\n",
    "def order(pages, rules):\n",
    "    result = []\n",
    "    while len(result) < len(pages):\n",
    "        relevant_rules = {p: filtered_rules(p, pages, rules, result) for p in pages if p not in result}\n",
    "        next_page = [r for r in relevant_rules if len(relevant_rules[r]) == 0][0]\n",
    "        result.append(next_page)\n",
    "    return result\n",
    "\n",
    "sum([middle(order(p, rules)) for p in pages if not in_order(p, rules)])"
   ]
  },
  {
   "cell_type": "markdown",
   "id": "51868b52-8ebb-4b20-80bf-7aeb3739357b",
   "metadata": {},
   "source": [
    "## Day 6"
   ]
  },
  {
   "cell_type": "markdown",
   "id": "0d1a8954-3918-487c-b601-0b8a583dda7c",
   "metadata": {},
   "source": [
    "### Part 1"
   ]
  },
  {
   "cell_type": "code",
   "execution_count": 107,
   "id": "ff42364f-2649-46e7-b859-e77da6b4ca39",
   "metadata": {
    "scrolled": true
   },
   "outputs": [
    {
     "data": {
      "text/plain": [
       "4977"
      ]
     },
     "execution_count": 107,
     "metadata": {},
     "output_type": "execute_result"
    }
   ],
   "source": [
    "with open('inputs/day6.txt') as f:\n",
    "    s = f.read().split('\\n')[:-1]\n",
    "\n",
    "\n",
    "directions = [(0,-1),(1,0),(0,1),(-1,0)]\n",
    "obst = set()\n",
    "for y in range(len(s)):\n",
    "    for x in range(len(s[0])):\n",
    "        if s[y][x] == '#':\n",
    "            obst.add((x,y))\n",
    "        if s[y][x] == '^':\n",
    "            start = (x,y)\n",
    "\n",
    "\n",
    "def move_guard(pos, facing, obst):\n",
    "    (x,y) = pos\n",
    "    (dx,dy) = directions[facing]\n",
    "    if (x+dx, y+dy) not in obst:\n",
    "        return ((x+dx, y+dy), facing)\n",
    "    return (pos, (facing+1)%4)\n",
    "\n",
    "\n",
    "def walk(start, facing, obst):\n",
    "    visited = set()\n",
    "    guard = start\n",
    "    while guard[0] in range(len(s[0])) and guard[1] in range(len(s)) and (guard, facing) not in visited:\n",
    "        visited.add((guard, facing))\n",
    "        (guard, facing) = move_guard(guard, facing, obst)\n",
    "    return visited\n",
    "    \n",
    "\n",
    "visited = walk(start, 0, obst)\n",
    "len({v[0] for v in visited})"
   ]
  },
  {
   "cell_type": "markdown",
   "id": "22657312-bb4c-4bea-a8c8-8ad61395868b",
   "metadata": {},
   "source": [
    "### Part 2"
   ]
  },
  {
   "cell_type": "code",
   "execution_count": 108,
   "id": "6e10610b-3c04-4895-80ae-452e92ed0e80",
   "metadata": {},
   "outputs": [
    {
     "data": {
      "text/plain": [
       "1729"
      ]
     },
     "execution_count": 108,
     "metadata": {},
     "output_type": "execute_result"
    }
   ],
   "source": [
    "def has_loop(visited):\n",
    "    return len([((x,y), f) for ((x,y), f) in visited if x+directions[f][0] not in range(len(s[0])) or y+directions[f][1] not in range(len(s))]) == 0\n",
    "\n",
    "\n",
    "looping = set()\n",
    "for (guard, facing) in visited:\n",
    "    new_obst = (guard[0]+directions[facing][0], guard[1]+directions[facing][1])\n",
    "    if new_obst not in obst and new_obst[0] in range(len(s[0])) and new_obst[1] in range(len(s)):\n",
    "        new_obsts = {o for o in obst}\n",
    "        new_obsts.add(new_obst)\n",
    "        new_visited = walk(start, 0, new_obsts)\n",
    "        if has_loop(new_visited):\n",
    "            looping.add(new_obst)\n",
    "\n",
    "len(looping)"
   ]
  },
  {
   "cell_type": "markdown",
   "id": "c837ed23-e04a-4b5e-8329-94f0ba0a2ec1",
   "metadata": {},
   "source": [
    "## Day 7"
   ]
  },
  {
   "cell_type": "markdown",
   "id": "6a4c1e66-4110-45fa-8fd7-983b645b0f89",
   "metadata": {},
   "source": [
    "### Part 1"
   ]
  },
  {
   "cell_type": "code",
   "execution_count": 11,
   "id": "2adc8495-5aa2-4aca-876d-08fe1926cc27",
   "metadata": {},
   "outputs": [
    {
     "data": {
      "text/plain": [
       "1038838357795"
      ]
     },
     "execution_count": 11,
     "metadata": {},
     "output_type": "execute_result"
    }
   ],
   "source": [
    "with open('inputs/day7.txt') as f:\n",
    "    s = f.read().split('\\n')[:-1]\n",
    "\n",
    "equations = [(int(line.split(': ')[0]), [int(i) for i in line.split(': ')[1].split(' ')]) for line in s]\n",
    "\n",
    "\n",
    "def options(current, nxt):\n",
    "    return [current+nxt, current*nxt]\n",
    "\n",
    "\n",
    "def has_solution(target, current, remaining):\n",
    "    if len(remaining) == 0:\n",
    "        return current == target\n",
    "    if current > target:\n",
    "        return False\n",
    "    opt = options(current, remaining[0])\n",
    "    solvable = False\n",
    "    for o in opt:\n",
    "        solvable |= has_solution(target, o, remaining[1:])\n",
    "    return solvable\n",
    "\n",
    "sum([eq[0] for eq in equations if has_solution(eq[0], 0, eq[1])])"
   ]
  },
  {
   "cell_type": "markdown",
   "id": "a1477134-0305-47ff-9fe7-63f76dc32538",
   "metadata": {},
   "source": [
    "### Part 2"
   ]
  },
  {
   "cell_type": "code",
   "execution_count": 12,
   "id": "da806360-96f7-4d8e-8f1f-c8e10b41bea5",
   "metadata": {},
   "outputs": [
    {
     "data": {
      "text/plain": [
       "254136560217241"
      ]
     },
     "execution_count": 12,
     "metadata": {},
     "output_type": "execute_result"
    }
   ],
   "source": [
    "def options(current, nxt):\n",
    "    return [current+nxt, current*nxt, int(str(current)+str(nxt))]\n",
    "\n",
    "sum([eq[0] for eq in equations if has_solution(eq[0], 0, eq[1])])"
   ]
  },
  {
   "cell_type": "markdown",
   "id": "e89f2711-d3db-4fff-89e0-871ab3457a4c",
   "metadata": {},
   "source": [
    "### Day 8"
   ]
  },
  {
   "cell_type": "markdown",
   "id": "52992f49-2c37-4308-ae90-2ac6110e9e57",
   "metadata": {},
   "source": [
    "### Part 1"
   ]
  },
  {
   "cell_type": "code",
   "execution_count": 17,
   "id": "b7499386-a86b-4dce-b43f-341eaa757068",
   "metadata": {},
   "outputs": [
    {
     "data": {
      "text/plain": [
       "361"
      ]
     },
     "execution_count": 17,
     "metadata": {},
     "output_type": "execute_result"
    }
   ],
   "source": [
    "with open('inputs/day8.txt') as f:\n",
    "    s = f.read().split('\\n')[:-1]\n",
    "\n",
    "\n",
    "def antinodes(antennas, width, height):\n",
    "    anti = set()\n",
    "    for a1 in antennas:\n",
    "        for a2 in antennas:\n",
    "            if a1 != a2:\n",
    "                dx = a1[0]-a2[0]\n",
    "                dy = a1[1]-a2[1]\n",
    "                anti.add((a1[0]+dx,a1[1]+dy))\n",
    "                anti.add((a2[0]-dx,a2[1]-dy,))\n",
    "    return {a for a in anti if a[0] in range(width) and a[1] in range(height)}\n",
    "\n",
    "\n",
    "width = len(s[0])\n",
    "height = len(s)\n",
    "antennas = {}\n",
    "for y in range(height):\n",
    "    for x in range(width):\n",
    "        if s[y][x] != '.':\n",
    "            a = antennas.get(s[y][x], [])\n",
    "            a.append((x,y))\n",
    "            antennas[s[y][x]] = a\n",
    "\n",
    "anti = set()\n",
    "for a in antennas:\n",
    "    anti.update(antinodes(antennas[a], width, height))\n",
    "\n",
    "len(anti)"
   ]
  },
  {
   "cell_type": "markdown",
   "id": "e78efcec-16a1-47b8-bccb-46723fdc8c7d",
   "metadata": {},
   "source": [
    "### Part 2"
   ]
  },
  {
   "cell_type": "code",
   "execution_count": 18,
   "id": "056d1ef3-d38f-4915-9432-2d36179cc2b4",
   "metadata": {},
   "outputs": [
    {
     "data": {
      "text/plain": [
       "1249"
      ]
     },
     "execution_count": 18,
     "metadata": {},
     "output_type": "execute_result"
    }
   ],
   "source": [
    "def antinodes(antennas, width, height):\n",
    "    anti = {a for a in antennas}\n",
    "    for a1 in antennas:\n",
    "        for a2 in antennas:\n",
    "            if a1 != a2:\n",
    "                dx = a1[0]-a2[0]\n",
    "                dy = a1[1]-a2[1]\n",
    "                i = 1\n",
    "                while a1[0]+i*dx in range(width) and a1[1]+i*dy in range(height):\n",
    "                    anti.add((a1[0]+i*dx,a1[1]+i*dy))\n",
    "                    i += 1\n",
    "                i = 1\n",
    "                while a1[0]+i*dx in range(width) and a1[1]+i*dy in range(height):\n",
    "                    anti.add((a2[0]-i*dx,a2[1]-i*dy))\n",
    "                    i += 1\n",
    "    return {a for a in anti if a[0] in range(width) and a[1] in range(height)}\n",
    "\n",
    "anti = set()\n",
    "for a in antennas:\n",
    "    anti.update(antinodes(antennas[a], width, height))\n",
    "\n",
    "len(anti)"
   ]
  },
  {
   "cell_type": "markdown",
   "id": "6b9b31c4-6459-4a11-9bd6-11c3ff3cd738",
   "metadata": {},
   "source": [
    "## Day 9"
   ]
  },
  {
   "cell_type": "markdown",
   "id": "8187c56e-f496-4e4c-93f5-25920599c08f",
   "metadata": {},
   "source": [
    "### Part 1"
   ]
  },
  {
   "cell_type": "code",
   "execution_count": 71,
   "id": "754b87f9-a8f7-4f96-93a3-4ec2a2db4280",
   "metadata": {},
   "outputs": [
    {
     "data": {
      "text/plain": [
       "6154342787400"
      ]
     },
     "execution_count": 71,
     "metadata": {},
     "output_type": "execute_result"
    }
   ],
   "source": [
    "with open('inputs/day9.txt') as f:\n",
    "    s = f.read()[:-1]\n",
    "\n",
    "disk = []\n",
    "file = True\n",
    "file_id = 0\n",
    "file_blocks = 0\n",
    "disk_idx = 0\n",
    "for i in s:\n",
    "    disk.append((disk_idx, disk_idx+int(i), file, file_id if file else None))\n",
    "    if file:\n",
    "            file_blocks += int(i)\n",
    "            file_id += 1\n",
    "    file = not file\n",
    "    disk_idx += int(i)\n",
    "\n",
    "a = 0\n",
    "fwd_idx = 0\n",
    "bwd_idx = disk[-1][1]-1\n",
    "fwd_block = 0\n",
    "bwd_block = len(disk)-1\n",
    "while fwd_idx < file_blocks:\n",
    "    if disk[fwd_block][2]:\n",
    "        a += fwd_idx*disk[fwd_block][3]\n",
    "    else:\n",
    "        a += fwd_idx*disk[bwd_block][3]\n",
    "        bwd_idx -= 1\n",
    "        if bwd_idx < disk[bwd_block][0]:\n",
    "            bwd_block -= 2\n",
    "            bwd_idx = disk[bwd_block][1]-1\n",
    "    fwd_idx += 1\n",
    "    while fwd_idx >= disk[fwd_block][1]:\n",
    "        fwd_block += 1\n",
    "\n",
    "a"
   ]
  },
  {
   "cell_type": "markdown",
   "id": "cdc536c0-384c-425f-9679-81a902eb7f92",
   "metadata": {},
   "source": [
    "### Part 2"
   ]
  },
  {
   "cell_type": "code",
   "execution_count": 72,
   "id": "8ff7c5b0-d88f-4c1f-9cba-8a4a32aa8956",
   "metadata": {},
   "outputs": [
    {
     "data": {
      "text/plain": [
       "6183632723350"
      ]
     },
     "execution_count": 72,
     "metadata": {},
     "output_type": "execute_result"
    }
   ],
   "source": [
    "def fits(file, into):\n",
    "    return file[1]-file[0] <= into[1]-into[0]\n",
    "\n",
    "\n",
    "def move(disk, idx, target):\n",
    "    empty_block = disk[target]\n",
    "    file_block = disk[idx]\n",
    "    new_file_block = (empty_block[0], empty_block[0]+(file_block[1]-file_block[0]), True, file_block[3])\n",
    "    new_empty_block = (file_block[0], file_block[1], False, None)\n",
    "    disk[target] = new_file_block\n",
    "    \n",
    "    disk[idx] = new_empty_block\n",
    "    if new_file_block[1] < empty_block[1]:\n",
    "        disk.insert(target+1, (new_file_block[1], empty_block[1], False, None))\n",
    "\n",
    "\n",
    "def find_space(disk, idx):\n",
    "    for i in range(idx):\n",
    "        if not disk[i][2] and fits(disk[idx], disk[i]):\n",
    "            return i\n",
    "\n",
    "\n",
    "def defrag(disk):\n",
    "    defragged = [d for d in disk]\n",
    "    for idx in range(len(defragged)-1, -1, -1):\n",
    "        if defragged[idx][2]:\n",
    "            target = find_space(defragged, idx)\n",
    "            if target is not None:\n",
    "                move(defragged, idx, target)\n",
    "    return defragged\n",
    "\n",
    "\n",
    "defragged = defrag(disk)\n",
    "sum([block[3]*sum(range(block[0], block[1])) for block in defragged if block[2]])"
   ]
  },
  {
   "cell_type": "markdown",
   "id": "c1c9677d-be29-4f8b-bd10-ac9c1303b6ee",
   "metadata": {},
   "source": [
    "## Day 10"
   ]
  },
  {
   "cell_type": "markdown",
   "id": "f18c0776-a1d8-4d7d-a7e6-4fbb2582ed17",
   "metadata": {},
   "source": [
    "### Part 1"
   ]
  },
  {
   "cell_type": "code",
   "execution_count": 110,
   "id": "441a51a3-62b1-46db-9a4a-33d189f38d1f",
   "metadata": {},
   "outputs": [
    {
     "data": {
      "text/plain": [
       "786"
      ]
     },
     "execution_count": 110,
     "metadata": {},
     "output_type": "execute_result"
    }
   ],
   "source": [
    "with open('inputs/day10.txt') as f:\n",
    "    s = f.read().split('\\n')[:-1]\n",
    "\n",
    "grid = {(x,y): int(s[y][x]) for y in range(len(s)) for x in range(len(s[0])) if s[y][x] != '.'}\n",
    "starts = {c for c in grid if grid[c] == 0}\n",
    "\n",
    "\n",
    "def reachable(coord, grid):\n",
    "    (x,y) = coord\n",
    "    return [(x+dx,y+dy) for (dx,dy) in [(1,0),(-1,0),(0,1),(0,-1)] if (x+dx,y+dy) in grid and grid[(x+dx,y+dy)] == grid[coord]+1]\n",
    "\n",
    "\n",
    "def score(grid, start):\n",
    "    visited = set()\n",
    "    queue = {start}\n",
    "    while len(queue) > 0:\n",
    "        current = queue.pop()\n",
    "        visited.add(current)\n",
    "        for nxt in reachable(current, grid):\n",
    "            queue.add(nxt)\n",
    "    return len([c for c in visited if grid[c] == 9])\n",
    "\n",
    "sum([score(grid, start) for start in starts])"
   ]
  },
  {
   "cell_type": "markdown",
   "id": "3e324d31-b36c-40a4-a255-f97f3690a916",
   "metadata": {},
   "source": [
    "### Part 2"
   ]
  },
  {
   "cell_type": "code",
   "execution_count": 111,
   "id": "44ed90a2-4038-4e2e-aeda-654d57886d67",
   "metadata": {},
   "outputs": [
    {
     "data": {
      "text/plain": [
       "1722"
      ]
     },
     "execution_count": 111,
     "metadata": {},
     "output_type": "execute_result"
    }
   ],
   "source": [
    "ratings = {c: 1  if grid[c] == 0 else 0 for c in grid}\n",
    "for height in range(1,10):\n",
    "    for (x,y) in ratings:\n",
    "        if grid[(x,y)] == height-1:\n",
    "            for (dx,dy) in [(1,0),(-1,0),(0,1),(0,-1)]:\n",
    "                if (x+dx,y+dy) in grid and grid[(x+dx,y+dy)] == height:\n",
    "                    ratings[(x+dx,y+dy)] = ratings[(x+dx,y+dy)] + ratings[(x,y)]\n",
    "\n",
    "sum([ratings[c] for c in ratings if grid[c] == 9])"
   ]
  },
  {
   "cell_type": "markdown",
   "id": "69f56d9e-6f65-4c2a-9e98-264141eb88e5",
   "metadata": {},
   "source": [
    "## Day 11"
   ]
  },
  {
   "cell_type": "markdown",
   "id": "adf8ec64-636b-4d02-bcc6-ca8e4e018511",
   "metadata": {},
   "source": [
    "### Part 1"
   ]
  },
  {
   "cell_type": "code",
   "execution_count": 42,
   "id": "0348def2-3443-46f9-8b36-bc5b7e5cdffb",
   "metadata": {},
   "outputs": [
    {
     "data": {
      "text/plain": [
       "212655"
      ]
     },
     "execution_count": 42,
     "metadata": {},
     "output_type": "execute_result"
    }
   ],
   "source": [
    "with open('inputs/day11.txt') as f:\n",
    "    s = f.read()[:-1]\n",
    "\n",
    "\n",
    "def blink_single(stone):\n",
    "    if stone == 0:\n",
    "        return [1]\n",
    "    if len(str(stone)) % 2 == 0:\n",
    "        string = str(stone)\n",
    "        first = string[:len(string)//2]\n",
    "        second = string[len(string)//2:]\n",
    "        return [int(first), int(second)]\n",
    "    return [stone*2024]\n",
    "\n",
    "\n",
    "def blink(stones):\n",
    "    new_stones = {}\n",
    "    for stone in stones:\n",
    "        for st in blink_single(stone):\n",
    "            new_stones[st] = new_stones.get(st, 0) + stones[stone]\n",
    "    return new_stones\n",
    "\n",
    "\n",
    "stones = {int(n):1 for n in s.split(' ')}\n",
    "\n",
    "for _ in range(25):\n",
    "    stones = blink(stones)\n",
    "\n",
    "sum(stones.values())"
   ]
  },
  {
   "cell_type": "markdown",
   "id": "0593e99f-a55d-4bd7-ba15-10087aadf970",
   "metadata": {},
   "source": [
    "### Part 2"
   ]
  },
  {
   "cell_type": "code",
   "execution_count": 47,
   "id": "3d4c0e3b-2af9-4467-a63e-080869801daf",
   "metadata": {},
   "outputs": [
    {
     "data": {
      "text/plain": [
       "253582809724830"
      ]
     },
     "execution_count": 47,
     "metadata": {},
     "output_type": "execute_result"
    }
   ],
   "source": [
    "stones = {int(n):1 for n in s.split(' ')}\n",
    "\n",
    "for _ in range(75):\n",
    "    stones = blink(stones)\n",
    "\n",
    "sum(stones.values())"
   ]
  },
  {
   "cell_type": "markdown",
   "id": "d6a9f493-2e7f-42a9-8409-2135502f3156",
   "metadata": {},
   "source": [
    "## Day 12"
   ]
  },
  {
   "cell_type": "markdown",
   "id": "48a073ba-40b8-4796-978d-ee64903fa622",
   "metadata": {},
   "source": [
    "### Part 1"
   ]
  },
  {
   "cell_type": "code",
   "execution_count": 36,
   "id": "b359792d-527e-439a-99ad-836e7309e473",
   "metadata": {},
   "outputs": [
    {
     "data": {
      "text/plain": [
       "1424472"
      ]
     },
     "execution_count": 36,
     "metadata": {},
     "output_type": "execute_result"
    }
   ],
   "source": [
    "with open('inputs/day12.txt') as f:\n",
    "    s = f.read().split('\\n')[:-1]\n",
    "\n",
    "\n",
    "def neighbour_coords(coord):\n",
    "    (x,y) = coord\n",
    "    return [(x+dx,y+dy) for (dx,dy) in [(1,0),(-1,0),(0,1),(0,-1)]]\n",
    "\n",
    "\n",
    "def neighbours(coord, grid):\n",
    "    return [c for c in neighbour_coords(coord) if c in grid]\n",
    "\n",
    "\n",
    "def fill_region(start, grid):\n",
    "    visited = {start}\n",
    "    queue = {start}\n",
    "    while len(queue) > 0:\n",
    "        current = queue.pop()\n",
    "        nxt = [n for n in neighbours(current, grid) if grid[n] == grid[start] and n not in visited]\n",
    "        visited.update(nxt)\n",
    "        queue.update(nxt)\n",
    "    return visited\n",
    "\n",
    "\n",
    "def next_unvisited(all_nodes, visited):\n",
    "    for c in all_nodes:\n",
    "        if c not in visited:\n",
    "            return c\n",
    "\n",
    "\n",
    "def identify_regions(grid):\n",
    "    regions = {}\n",
    "    visited = set()\n",
    "    region_id = 0\n",
    "    while len(visited) < len(grid):\n",
    "        current = next_unvisited(grid, visited)\n",
    "        area = fill_region(current, grid)\n",
    "        regions[region_id] = area\n",
    "        visited.update(area)\n",
    "        region_id += 1\n",
    "    return regions\n",
    "\n",
    "\n",
    "def identify_sides(region):\n",
    "    return {(coord, c) for coord in region for c in neighbour_coords(coord) if c not in region}\n",
    "\n",
    "\n",
    "def area(region):\n",
    "    return len(region)\n",
    "\n",
    "\n",
    "def perimeter(region):\n",
    "    return len(identify_sides(region))\n",
    "\n",
    "\n",
    "grid = {(x,y): s[y][x] for y in range(len(s)) for x in range(len(s[0]))}\n",
    "regions = identify_regions(grid)\n",
    "\n",
    "sum([area(regions[r])*perimeter(regions[r]) for r in regions])"
   ]
  },
  {
   "cell_type": "markdown",
   "id": "241120cb-1431-4bca-bb99-1e82a8d15f30",
   "metadata": {},
   "source": [
    "### Part 2"
   ]
  },
  {
   "cell_type": "code",
   "execution_count": 37,
   "id": "eab52d20-29d6-42c6-877e-9661d67e7d3f",
   "metadata": {},
   "outputs": [
    {
     "data": {
      "text/plain": [
       "870202"
      ]
     },
     "execution_count": 37,
     "metadata": {},
     "output_type": "execute_result"
    }
   ],
   "source": [
    "def neighbouring_sides(side, sides):\n",
    "    ((x1,y1),(x2,y2)) = side\n",
    "    return [((x1+dx,y1+dy),(x2+dx,y2+dy)) for (dx,dy) in [(1,0),(-1,0),(0,1),(0,-1)] if ((x1+dx,y1+dy),(x2+dx,y2+dy)) in sides]\n",
    "\n",
    "\n",
    "def traverse_side(start, sides):\n",
    "    visited = {start}\n",
    "    queue = {start}\n",
    "    while len(queue) > 0:\n",
    "        current = queue.pop()\n",
    "        nxt = [n for n in neighbouring_sides(current, sides) if n not in visited]\n",
    "        visited.update(nxt)\n",
    "        queue.update(nxt)\n",
    "    return visited      \n",
    "\n",
    "\n",
    "def region_sides(region):\n",
    "    side_sections = identify_sides(region)\n",
    "    sides = {}\n",
    "    visited = set()\n",
    "    side_id = 0\n",
    "    while len(visited) < len(side_sections):\n",
    "        current = next_unvisited(side_sections, visited)\n",
    "        side = traverse_side(current, side_sections)\n",
    "        sides[side_id] = side\n",
    "        visited.update(side)\n",
    "        side_id += 1\n",
    "    return sides\n",
    "    \n",
    "    \n",
    "def side_count(region):\n",
    "    return len(region_sides(region))\n",
    "\n",
    "\n",
    "sum([area(regions[r])*side_count(regions[r]) for r in regions])"
   ]
  },
  {
   "cell_type": "markdown",
   "id": "4fcdbf48-b1e5-4815-9f37-b33b7bab05e6",
   "metadata": {},
   "source": [
    "## Day 13"
   ]
  },
  {
   "cell_type": "markdown",
   "id": "805a3775-3fc2-4dd9-8c21-d88f7c4fb908",
   "metadata": {},
   "source": [
    "### Part 1"
   ]
  },
  {
   "cell_type": "code",
   "execution_count": 89,
   "id": "648626d6-c4d1-4c2a-8178-c9c4d3262704",
   "metadata": {},
   "outputs": [
    {
     "data": {
      "text/plain": [
       "39996"
      ]
     },
     "execution_count": 89,
     "metadata": {},
     "output_type": "execute_result"
    }
   ],
   "source": [
    "with open('inputs/day13.txt') as f:\n",
    "    s = f.read()[:-1].split('\\n\\n')\n",
    "\n",
    "\n",
    "def parse_button(line):\n",
    "    parts = line.replace(',', '+').split('+')\n",
    "    return (int(parts[1]), int(parts[-1]))\n",
    "\n",
    "\n",
    "def parse_prize(line):\n",
    "    parts = line.replace(',', '=').split('=')\n",
    "    return (int(parts[1]), int(parts[-1]))\n",
    "    \n",
    "\n",
    "def parse_machine(s):\n",
    "    lines = s.split('\\n')\n",
    "    return (parse_button(lines[0]),parse_button(lines[1]),parse_prize(lines[2]))\n",
    "\n",
    "\n",
    "def solve(machine):\n",
    "    ((ax,ay), (bx,by), (px,py)) = machine\n",
    "    if ay*bx-ax*by != 0:\n",
    "        b = (ay*px-ax*py) / (ay*bx-ax*by)\n",
    "        a = (px-b*bx) / ax\n",
    "        if a == int(a) and b == int(b) and a > 0 and b > 0:\n",
    "            return (int(a),int(b))\n",
    "\n",
    "\n",
    "def tokens(machine):\n",
    "    buttons = solve(machine)\n",
    "    if buttons is not None:\n",
    "        a,b = buttons\n",
    "        return 3*a+b\n",
    "    return 0\n",
    "\n",
    "machines = [parse_machine(machine) for machine in s]\n",
    "sum([tokens(machine) for machine in machines])"
   ]
  },
  {
   "cell_type": "markdown",
   "id": "65dea0c5-6ab1-4660-96f6-db7779a44334",
   "metadata": {},
   "source": [
    "### Part 2"
   ]
  },
  {
   "cell_type": "code",
   "execution_count": 90,
   "id": "589cf5b4-5f74-45ef-b680-a21083a1741d",
   "metadata": {},
   "outputs": [
    {
     "data": {
      "text/plain": [
       "73267584326867"
      ]
     },
     "execution_count": 90,
     "metadata": {},
     "output_type": "execute_result"
    }
   ],
   "source": [
    "increase = 10000000000000\n",
    "machines = [parse_machine(machine) for machine in s]\n",
    "machines = [(a,b,(px+increase, py+increase)) for (a,b,(px,py)) in machines]\n",
    "\n",
    "sum([tokens(machine) for machine in machines])"
   ]
  },
  {
   "cell_type": "markdown",
   "id": "2201bab8-3241-4ece-a6e6-f6f3cbcc7332",
   "metadata": {},
   "source": [
    "## Day 14"
   ]
  },
  {
   "cell_type": "markdown",
   "id": "508ff604-70a7-4e99-b066-b11e822469f5",
   "metadata": {},
   "source": [
    "### Part 1"
   ]
  },
  {
   "cell_type": "code",
   "execution_count": 116,
   "id": "49acecc3-c570-48f1-b60e-8c27d88e24ef",
   "metadata": {},
   "outputs": [
    {
     "data": {
      "text/plain": [
       "229839456"
      ]
     },
     "execution_count": 116,
     "metadata": {},
     "output_type": "execute_result"
    }
   ],
   "source": [
    "with open('inputs/day14.txt') as f:\n",
    "    s = f.read().split('\\n')[:-1]\n",
    "\n",
    "\n",
    "def parse_line(line):\n",
    "    return tuple(tuple(int(i) for i in vec.split('=')[-1].split(',')) for vec in line.split(' '))\n",
    "\n",
    "\n",
    "robots = [parse_line(line) for line in s]\n",
    "width = 101\n",
    "height = 103\n",
    "\n",
    "\n",
    "def pos_after(p,v,t):\n",
    "    (px,py) = p\n",
    "    (vx,vy) = v\n",
    "    return (((px+t*vx)%width, (py+t*vy)%height), v)\n",
    "\n",
    "\n",
    "def move_all(robots, t):\n",
    "    return [pos_after(p,v,t) for (p,v) in robots]\n",
    "\n",
    "\n",
    "robots_final = move_all(robots,100)\n",
    "separator_x = width//2 \n",
    "separator_y = height//2\n",
    "\n",
    "quad_1 = len([(px,py) for ((px,py),_) in robots_final if px in range(separator_x) and py in range(separator_y)])\n",
    "quad_2 = len([(px,py) for ((px,py),_) in robots_final if px in range(separator_x+1, width) and py in range(separator_y)])\n",
    "quad_3 = len([(px,py) for ((px,py),_) in robots_final if px in range(separator_x) and py in range(separator_y+1, height)])\n",
    "quad_4 = len([(px,py) for ((px,py),_) in robots_final if px in range(separator_x+1, width) and py in range(separator_y+1, height)])\n",
    "\n",
    "quad_1 * quad_2 * quad_3 * quad_4"
   ]
  },
  {
   "cell_type": "markdown",
   "id": "bd85d8ca-40b4-4c46-b6b5-0842d39b699c",
   "metadata": {},
   "source": [
    "### Part 2"
   ]
  },
  {
   "cell_type": "code",
   "execution_count": 120,
   "id": "93304dd0-2f77-4eb2-a62f-6e03be7be5bf",
   "metadata": {},
   "outputs": [
    {
     "data": {
      "text/plain": [
       "7138"
      ]
     },
     "execution_count": 120,
     "metadata": {},
     "output_type": "execute_result"
    }
   ],
   "source": [
    "def has_tree(robots):\n",
    "    robots_p = [r[0] for r in robots]\n",
    "    robots_t = [r for r in robots_p]\n",
    "    for d in range(1,8):\n",
    "        robots_t = [(px,py) for (px,py) in robots_t if (px+d,py) in robots_p]\n",
    "    return len(robots_t) > 0\n",
    "\n",
    "\n",
    "t = 0\n",
    "while not has_tree(move_all(robots,t)):\n",
    "    t += 1\n",
    "\n",
    "t"
   ]
  },
  {
   "cell_type": "markdown",
   "id": "fd89858f-f0ac-4d60-8caa-c13ba440d1cf",
   "metadata": {},
   "source": [
    "## Day 15"
   ]
  },
  {
   "cell_type": "markdown",
   "id": "15aa3a20-71a1-4e85-bd6e-c4de9545af5f",
   "metadata": {},
   "source": [
    "### Part 1"
   ]
  },
  {
   "cell_type": "code",
   "execution_count": 90,
   "id": "bf4d6b0d-ff7e-4c54-9bfd-06b8078c73b4",
   "metadata": {},
   "outputs": [
    {
     "data": {
      "text/plain": [
       "1471826"
      ]
     },
     "execution_count": 90,
     "metadata": {},
     "output_type": "execute_result"
    }
   ],
   "source": [
    "with open('inputs/day15.txt') as f:\n",
    "    s = f.read()[:-1].split('\\n\\n')\n",
    "\n",
    "\n",
    "area = s[0].split('\\n')\n",
    "inst = s[1].replace('\\n', '')\n",
    "directions = {'<': (-1,0), '>': (1,0), 'v': (0,1), '^': (0,-1)}\n",
    "\n",
    "grid = set()\n",
    "boxes = set()\n",
    "for y in range(len(area)):\n",
    "    for x in range(len(area[0])):\n",
    "        if area[y][x] != '#':\n",
    "            grid.add((x,y))\n",
    "            if area[y][x] == 'O':\n",
    "                boxes.add((x,y))\n",
    "            if area[y][x] == '@':\n",
    "                robot = (x,y)\n",
    "\n",
    "\n",
    "def move(coord, direction, grid):\n",
    "    (x,y) = coord\n",
    "    (dx,dy) = direction\n",
    "    nxt = (x+dx,y+dy)\n",
    "    if nxt in grid:\n",
    "        return nxt\n",
    "    return coord\n",
    "    \n",
    "\n",
    "\n",
    "def push(coord, direction, boxes, grid):\n",
    "    (x,y) = coord\n",
    "    (dx,dy) = direction\n",
    "    boxes_new = {b for b in boxes}\n",
    "    if coord in boxes:\n",
    "        nxt = (x+dx,y+dy)\n",
    "        if nxt in grid:\n",
    "            boxes_new = push(nxt,direction,boxes,grid)\n",
    "            if nxt not in boxes_new:\n",
    "                boxes_new.remove(coord)\n",
    "                boxes_new.add(nxt)\n",
    "    return boxes_new\n",
    "\n",
    "\n",
    "def gps(coord):\n",
    "    (x,y) = coord\n",
    "    return 100*y+x\n",
    "\n",
    "\n",
    "current = robot\n",
    "boxes_current = {b for b in boxes}\n",
    "for i in inst:\n",
    "    d = directions[i]\n",
    "    nxt = move(current, d, grid)\n",
    "    if nxt != current:\n",
    "        if nxt not in boxes_current:\n",
    "            current = nxt\n",
    "        else:\n",
    "            boxes_nxt = push(nxt, d, boxes_current, grid)\n",
    "            if boxes_current != boxes_nxt:\n",
    "                current = nxt\n",
    "            boxes_current = boxes_nxt\n",
    "\n",
    "\n",
    "sum([gps(box) for box in boxes_current])"
   ]
  },
  {
   "cell_type": "markdown",
   "id": "8438d5d9-1d55-41d4-9517-3b07474b833d",
   "metadata": {},
   "source": [
    "### Part 2"
   ]
  },
  {
   "cell_type": "code",
   "execution_count": 96,
   "id": "d800044d-fe70-4249-8015-a46b471aff93",
   "metadata": {},
   "outputs": [
    {
     "data": {
      "text/plain": [
       "1457703"
      ]
     },
     "execution_count": 96,
     "metadata": {},
     "output_type": "execute_result"
    }
   ],
   "source": [
    "grid = set()\n",
    "boxes = set()\n",
    "for y in range(len(area)):\n",
    "    for x in range(len(area[0])):\n",
    "        if area[y][x] != '#':\n",
    "            grid.add((2*x,y))\n",
    "            grid.add((2*x+1,y))\n",
    "            if area[y][x] == 'O':\n",
    "                boxes.add(((2*x,y),(2*x+1,y)))\n",
    "            if area[y][x] == '@':\n",
    "                robot = (2*x,y)\n",
    "\n",
    "\n",
    "def find_in(coord,boxes):\n",
    "    for box in boxes:\n",
    "        if coord in box:\n",
    "            return box\n",
    "\n",
    "\n",
    "def push(coord, direction, boxes, grid):\n",
    "    (dx,dy) = direction\n",
    "    boxes_new = {b for b in boxes}\n",
    "    box = find_in(coord, boxes)\n",
    "    if box is not None:\n",
    "        nxt = ((box[0][0]+dx, box[0][1]+dy),(box[1][0]+dx, box[1][1]+dy))\n",
    "        if nxt[0] in grid and nxt[1] in grid:\n",
    "            nxt_l = find_in(nxt[0], boxes)\n",
    "            nxt_r = find_in(nxt[1], boxes)\n",
    "            boxes_new_l = None\n",
    "            boxes_new_r = None\n",
    "            if nxt_l is not None and nxt_l != box:\n",
    "                boxes_new_l = push(nxt[0],direction,boxes_new,grid)\n",
    "            if nxt_r is not None and nxt_r != box:\n",
    "                boxes_new_r = push(nxt[1],direction,boxes_new,grid)\n",
    "            left_ok = boxes_new_l is None or find_in(nxt[0], boxes_new_l) is None\n",
    "            right_ok = boxes_new_r is None or find_in(nxt[1], boxes_new_r) is None\n",
    "            if left_ok and right_ok:\n",
    "                if nxt_l is not None and nxt_l != box:\n",
    "                    boxes_new = push(nxt[0],direction,boxes_new,grid)\n",
    "                if nxt_r is not None and nxt_r != box:\n",
    "                    boxes_new = push(nxt[1],direction,boxes_new,grid)\n",
    "                boxes_new.remove(box)\n",
    "                boxes_new.add(nxt)\n",
    "    return boxes_new\n",
    "\n",
    "\n",
    "def gps(box):\n",
    "    ((x,y),_) = box\n",
    "    return 100*y+x\n",
    "\n",
    "\n",
    "current = robot\n",
    "boxes_current = {b for b in boxes}\n",
    "for i in inst:\n",
    "    d = directions[i]\n",
    "    nxt = move(current, d, grid)\n",
    "    if nxt != current:\n",
    "        if find_in(nxt, boxes_current) is None:\n",
    "            current = nxt\n",
    "        else:\n",
    "            boxes_nxt = push(nxt, d, boxes_current, grid)\n",
    "            if boxes_current != boxes_nxt:\n",
    "                current = nxt\n",
    "            boxes_current = boxes_nxt\n",
    "\n",
    "\n",
    "sum([gps(box) for box in boxes_current])"
   ]
  },
  {
   "cell_type": "markdown",
   "id": "fe6ebacf-7f9b-4114-a78a-0735d9607c80",
   "metadata": {},
   "source": [
    "## Day 16"
   ]
  },
  {
   "cell_type": "markdown",
   "id": "8059400a-2304-487a-88d9-608047265df9",
   "metadata": {},
   "source": [
    "### Part 1"
   ]
  },
  {
   "cell_type": "code",
   "execution_count": 135,
   "id": "acc1d38b-f005-4e88-b79e-5db12ded2a0c",
   "metadata": {},
   "outputs": [
    {
     "data": {
      "text/plain": [
       "106512"
      ]
     },
     "execution_count": 135,
     "metadata": {},
     "output_type": "execute_result"
    }
   ],
   "source": [
    "with open('inputs/day16.txt') as f:\n",
    "    s = f.read()[:-1].split('\\n')\n",
    "\n",
    "grid = {(x,y): s[y][x] for x in range(len(s[0])) for y in range(len(s)) if s[y][x] != '#'}\n",
    "directions = [(1,0),(0,1),(-1,0),(0,-1)]\n",
    "start = [c for c in grid if grid[c] == 'S'][0]\n",
    "end = [c for c in grid if grid[c] == 'E'][0]\n",
    "\n",
    "\n",
    "def moves(coord, direction, grid):\n",
    "    (x,y) = coord\n",
    "    (dx,dy) = directions[direction]\n",
    "    options = [(coord, (direction+1)%4, 1000), (coord, (direction-1)%4, 1000)]\n",
    "    fwd = (x+dx, y+dy)\n",
    "    if fwd in grid:\n",
    "        options.append((fwd, direction, 1))\n",
    "    return options\n",
    "\n",
    "\n",
    "scores = {(start, 0): 0}\n",
    "queue = {(start, 0)}\n",
    "while len(queue) > 0:\n",
    "    (current, d) = queue.pop()\n",
    "    current_score = scores[(current, d)]\n",
    "    for (nxt_coord, nxt_d, cost) in moves(current, d, grid):\n",
    "        if (nxt_coord, nxt_d) not in scores or current_score+cost < scores[(nxt_coord, nxt_d)]:\n",
    "            scores[(nxt_coord, nxt_d)] = current_score+cost\n",
    "            queue.add((nxt_coord, nxt_d))\n",
    "\n",
    "\n",
    "best = min({(c,d): scores[(c,d)] for (c,d) in scores if grid[c] == 'E'}.values())\n",
    "best"
   ]
  },
  {
   "cell_type": "markdown",
   "id": "9a824e7d-5de2-4d8c-a9e5-43fd5ee18dc3",
   "metadata": {},
   "source": [
    "### Part 2"
   ]
  },
  {
   "cell_type": "code",
   "execution_count": 139,
   "id": "1bbd5368-6f0e-4463-80ce-d08a9be49e73",
   "metadata": {},
   "outputs": [
    {
     "data": {
      "text/plain": [
       "563"
      ]
     },
     "execution_count": 139,
     "metadata": {},
     "output_type": "execute_result"
    }
   ],
   "source": [
    "scores = {(start, 0): 0}\n",
    "queue = {(start, 0)}\n",
    "previous = {(start, 0): set()}\n",
    "while len(queue) > 0:\n",
    "    (current, d) = queue.pop()\n",
    "    current_score = scores[(current, d)]\n",
    "    prev = previous[(current, d)]\n",
    "    for (nxt_coord, nxt_d, cost) in moves(current, d, grid):\n",
    "        if (nxt_coord, nxt_d) in scores and current_score+cost == scores[(nxt_coord, nxt_d)]:\n",
    "            previous[(nxt_coord, nxt_d)].add((current, d))\n",
    "        if (nxt_coord, nxt_d) not in scores or current_score+cost < scores[(nxt_coord, nxt_d)]:\n",
    "            scores[(nxt_coord, nxt_d)] = current_score+cost\n",
    "            queue.add((nxt_coord, nxt_d))\n",
    "            previous[(nxt_coord, nxt_d)] = {(current, d)}\n",
    "\n",
    "\n",
    "queue = {(c,d) for (c,d) in previous if grid[c] == 'E' and scores[(c,d)] == best}\n",
    "visited = set()\n",
    "while len(queue) > 0:\n",
    "    current = queue.pop()\n",
    "    if current not in visited:\n",
    "        visited.add(current)\n",
    "        queue.update(previous[current])\n",
    "\n",
    "tiles = {c for (c,_) in visited}\n",
    "len(tiles)"
   ]
  },
  {
   "cell_type": "markdown",
   "id": "f3309124-60d9-48d7-b44e-95ea1987f7a0",
   "metadata": {},
   "source": [
    "## Day 17"
   ]
  },
  {
   "cell_type": "markdown",
   "id": "0b2dc971-8127-4334-9e1a-636645ca3d20",
   "metadata": {},
   "source": [
    "### Part 1"
   ]
  },
  {
   "cell_type": "code",
   "execution_count": 1,
   "id": "7d75a1b7-c041-4cd9-9231-1d21d01c11da",
   "metadata": {},
   "outputs": [
    {
     "data": {
      "text/plain": [
       "'2,7,4,7,2,1,7,5,1'"
      ]
     },
     "execution_count": 1,
     "metadata": {},
     "output_type": "execute_result"
    }
   ],
   "source": [
    "with open('inputs/day17.txt') as f:\n",
    "    s = f.read()[:-1].split('\\n\\n')\n",
    "\n",
    "\n",
    "(a,b,c) = tuple([int(r.split(': ')[-1]) for r in s[0].split('\\n')])\n",
    "instructions = [int(i) for i in s[1].split(': ')[-1].split(',')]\n",
    "\n",
    "\n",
    "def literal(a,b,c,p,instructions):\n",
    "    return instructions[p]\n",
    "\n",
    "\n",
    "def combo(a,b,c,p,instructions):\n",
    "    o = instructions[p]\n",
    "    if o in range(4):\n",
    "        return o\n",
    "    if o == 4:\n",
    "        return a\n",
    "    if o == 5:\n",
    "        return b\n",
    "    if o == 6:\n",
    "        return c\n",
    "\n",
    "\n",
    "def adv(a,b,c,p,instructions):\n",
    "    op = combo(a,b,c,p+1,instructions)\n",
    "    return (a>>op,b,c,p+2)\n",
    "\n",
    "\n",
    "def bxl(a,b,c,p,instructions):\n",
    "    op = literal(a,b,c,p+1,instructions)\n",
    "    return (a,b^op,c,p+2)\n",
    "\n",
    "\n",
    "def bst(a,b,c,p,instructions):\n",
    "    op = combo(a,b,c,p+1,instructions)\n",
    "    return (a,op&7,c,p+2)\n",
    "\n",
    "\n",
    "def jnz(a,b,c,p,instructions):\n",
    "    if a == 0:\n",
    "        return (a,b,c,p+2)\n",
    "    op = literal(a,b,c,p+1,instructions)\n",
    "    return (a,b,c,op)\n",
    "\n",
    "\n",
    "def bxc(a,b,c,p,instructions):\n",
    "    return (a,b^c,c,p+2)\n",
    "\n",
    "\n",
    "def out(a,b,c,p,instructions,std_out):\n",
    "    op = combo(a,b,c,p+1,instructions)\n",
    "    std_out.append(op & 7)\n",
    "    return (a,b,c,p+2)\n",
    "\n",
    "\n",
    "def bdv(a,b,c,p,instructions):\n",
    "    op = combo(a,b,c,p+1,instructions)\n",
    "    return (a,a>>op,c,p+2)\n",
    "\n",
    "\n",
    "def cdv(a,b,c,p,instructions):\n",
    "    op = combo(a,b,c,p+1,instructions)\n",
    "    return (a,b,a>>op,p+2)\n",
    "\n",
    "\n",
    "def execute(a,b,c,p,instructions,std_out):\n",
    "    op = instructions[p]\n",
    "    if op == 0:\n",
    "        return adv(a,b,c,p,instructions)\n",
    "    if op == 1:\n",
    "        return bxl(a,b,c,p,instructions)\n",
    "    if op == 2:\n",
    "        return bst(a,b,c,p,instructions)\n",
    "    if op == 3:\n",
    "        return jnz(a,b,c,p,instructions)\n",
    "    if op == 4:\n",
    "        return bxc(a,b,c,p,instructions)\n",
    "    if op == 5:\n",
    "        return out(a,b,c,p,instructions,std_out)\n",
    "    if op == 6:\n",
    "        return bdv(a,b,c,p,instructions)\n",
    "    if op == 7:\n",
    "        return cdv(a,b,c,p,instructions)\n",
    "\n",
    "\n",
    "def run(a,b,c,instructions):\n",
    "    p = 0\n",
    "    std_out = []\n",
    "    while p < len(instructions)-1:\n",
    "        (a,b,c,p) = execute(a,b,c,p,instructions,std_out)\n",
    "    return std_out\n",
    "\n",
    "std_out = run(a,b,c,instructions)\n",
    "','.join([str(i) for i in std_out])"
   ]
  },
  {
   "cell_type": "markdown",
   "id": "5d642862-b68b-4a00-b99f-5d73a75b9e95",
   "metadata": {},
   "source": [
    "### Part 2"
   ]
  },
  {
   "cell_type": "code",
   "execution_count": 28,
   "id": "f59dab36-b883-48cf-914d-8db17d7f9d59",
   "metadata": {},
   "outputs": [
    {
     "data": {
      "text/plain": [
       "37221274271220"
      ]
     },
     "execution_count": 28,
     "metadata": {},
     "output_type": "execute_result"
    }
   ],
   "source": [
    "def output(a):\n",
    "    b = a & 7\n",
    "    b = b ^ 2\n",
    "    c = a >> b\n",
    "    b = b ^ c\n",
    "    b = b ^ 3\n",
    "    return b & 7\n",
    "\n",
    "\n",
    "def find_a(inst,i,a):\n",
    "    if output(a) == inst[i]:\n",
    "        if i >= len(inst)-1:\n",
    "            return a\n",
    "        opts = [find_a(inst, i+1, (a << 3) | nxt) for nxt in range(8)]\n",
    "        opts = [opt for opt in opts if opt is not None]\n",
    "        if len(opts) > 0:\n",
    "            return opts[0]\n",
    "\n",
    "\n",
    "opts = []\n",
    "for n in range(8):\n",
    "    res = find_a(instructions[::-1],0,n)\n",
    "    if res is not None:\n",
    "        opts.append(res)\n",
    "\n",
    "opts[0]"
   ]
  },
  {
   "cell_type": "markdown",
   "id": "efe641ea-a3fb-4505-8b1c-7293e5511f2e",
   "metadata": {},
   "source": [
    "## Day 18"
   ]
  },
  {
   "cell_type": "markdown",
   "id": "d097653c-5cf7-4273-91cc-f48b5fcb8c21",
   "metadata": {},
   "source": [
    "### Part 1"
   ]
  },
  {
   "cell_type": "code",
   "execution_count": 17,
   "id": "38bdba1f-646f-4c78-ac71-4813d26bcd8e",
   "metadata": {},
   "outputs": [
    {
     "data": {
      "text/plain": [
       "226"
      ]
     },
     "execution_count": 17,
     "metadata": {},
     "output_type": "execute_result"
    }
   ],
   "source": [
    "with open('inputs/day18.txt') as f:\n",
    "    s = f.read()[:-1].split('\\n')\n",
    "\n",
    "incoming = [tuple(int(i) for i in line.split(',')) for line in s]\n",
    "width = 70\n",
    "height = 70\n",
    "start = (0,0)\n",
    "end = (width, height)\n",
    "time = 1024\n",
    "\n",
    "\n",
    "def neighbours_at(coord,t):\n",
    "    (x,y) = coord\n",
    "    return [(x+dx,y+dy) for (dx,dy) in [(0,1),(0,-1),(1,0),(-1,0)] \n",
    "            if x+dx in range(width+1) and y+dy in range(height+1) and (x+dx,y+dy) not in incoming[:t]]\n",
    "\n",
    "\n",
    "def shortest_path_at(t):\n",
    "    queue = {start}\n",
    "    shortest = {start: 0}\n",
    "    while len(queue) > 0:\n",
    "        current = queue.pop()\n",
    "        d = shortest[current]\n",
    "        for nxt in neighbours_at(current, t):\n",
    "            if nxt not in shortest or shortest[nxt] > d+1:\n",
    "                shortest[nxt] = d+1\n",
    "                queue.add(nxt)\n",
    "\n",
    "    if end in shortest:\n",
    "        return shortest[end]\n",
    "\n",
    "\n",
    "shortest_path_at(time)"
   ]
  },
  {
   "cell_type": "markdown",
   "id": "740d13f6-88d2-45f4-95ee-e0ed2288df52",
   "metadata": {},
   "source": [
    "### Part 2"
   ]
  },
  {
   "cell_type": "code",
   "execution_count": 37,
   "id": "4b398373-0fac-4b3b-b586-c8895e801d4b",
   "metadata": {},
   "outputs": [
    {
     "data": {
      "text/plain": [
       "(60, 46)"
      ]
     },
     "execution_count": 37,
     "metadata": {},
     "output_type": "execute_result"
    }
   ],
   "source": [
    "min_t = 0\n",
    "max_t = len(incoming)-1\n",
    "while not max_t-min_t == 1:\n",
    "    t = (min_t+max_t)//2\n",
    "    if shortest_path_at(t) is None:\n",
    "        max_t = t\n",
    "    else:\n",
    "        min_t = t\n",
    "\n",
    "incoming[max_t-1]"
   ]
  },
  {
   "cell_type": "markdown",
   "id": "8268a3ab-30c8-4803-8c26-c52fce8b0697",
   "metadata": {},
   "source": [
    "## Day 19"
   ]
  },
  {
   "cell_type": "markdown",
   "id": "b98b9b04-8caa-48ae-9e46-271069f13c74",
   "metadata": {},
   "source": [
    "### Part 1"
   ]
  },
  {
   "cell_type": "code",
   "execution_count": 38,
   "id": "a72f2a18-b7a4-420c-a82d-79fd49d15e07",
   "metadata": {},
   "outputs": [
    {
     "data": {
      "text/plain": [
       "209"
      ]
     },
     "execution_count": 38,
     "metadata": {},
     "output_type": "execute_result"
    }
   ],
   "source": [
    "with open('inputs/day19.txt') as f:\n",
    "    s = f.read()[:-1].split('\\n\\n')\n",
    "\n",
    "\n",
    "towels = s[0].split(', ')\n",
    "designs = s[1].split('\\n')\n",
    "cache = {}\n",
    "\n",
    "def starts_with(towel, design):\n",
    "    return len(design) >= len(towel) and design[:len(towel)] == towel\n",
    "\n",
    "\n",
    "def is_possible(towels, design):\n",
    "    if design in cache:\n",
    "        return cache[design]\n",
    "    if len(design) == 0:\n",
    "        cache[design] = True\n",
    "    else:\n",
    "        opts = [is_possible(towels, design[len(towel):]) for towel in towels if starts_with(towel, design)]\n",
    "        cache[design] = True in opts\n",
    "    return cache[design]\n",
    "\n",
    "\n",
    "len([design for design in designs if is_possible(towels, design)])"
   ]
  },
  {
   "cell_type": "markdown",
   "id": "4394cd49-e085-4cac-a76f-fc8bc4261677",
   "metadata": {},
   "source": [
    "### Part 2"
   ]
  },
  {
   "cell_type": "code",
   "execution_count": 42,
   "id": "59bea497-68a1-44a5-b45a-861d8c5fc507",
   "metadata": {},
   "outputs": [
    {
     "data": {
      "text/plain": [
       "777669668613191"
      ]
     },
     "execution_count": 42,
     "metadata": {},
     "output_type": "execute_result"
    }
   ],
   "source": [
    "cache = {}\n",
    "\n",
    "def arrangements(towels, design):\n",
    "    if design in cache:\n",
    "        return cache[design]\n",
    "    if len(design) == 0:\n",
    "        cache[design] = 1\n",
    "    else:\n",
    "        opts = [arrangements(towels, design[len(towel):]) for towel in towels if starts_with(towel, design)]\n",
    "        cache[design] = sum(opts)\n",
    "    return cache[design]\n",
    "\n",
    "\n",
    "sum([arrangements(towels,design) for design in designs])"
   ]
  },
  {
   "cell_type": "markdown",
   "id": "23d786fa-0cc0-463f-95a3-1829908c6b5f",
   "metadata": {},
   "source": [
    "## Day 20"
   ]
  },
  {
   "cell_type": "markdown",
   "id": "5cc50317-db6a-49e6-b5e9-d2dbe2e432d2",
   "metadata": {},
   "source": [
    "### Part 1"
   ]
  },
  {
   "cell_type": "code",
   "execution_count": 52,
   "id": "613fa639-1952-4cad-84d4-6f89ab4b257e",
   "metadata": {},
   "outputs": [
    {
     "data": {
      "text/plain": [
       "1286"
      ]
     },
     "execution_count": 52,
     "metadata": {},
     "output_type": "execute_result"
    }
   ],
   "source": [
    "with open('inputs/day20.txt') as f:\n",
    "    s = f.read()[:-1].split('\\n')\n",
    "\n",
    "\n",
    "grid = {(x,y): s[y][x] for x in range(len(s[0])) for y in range(len(s)) if s[y][x] != '#'}\n",
    "start = [c for c in grid if grid[c] == 'S'][0]\n",
    "end = [c for c in grid if grid[c] == 'E'][0]\n",
    "\n",
    "\n",
    "def neighbours(coord):\n",
    "    (x,y) = coord\n",
    "    return [(x+dx,y+dy) for (dx,dy) in [(0,1),(0,-1),(1,0),(-1,0)] if (x+dx,y+dy) in grid]\n",
    "\n",
    "\n",
    "queue = {start}\n",
    "distances = {start: 0}\n",
    "while len(queue) > 0:\n",
    "    current = queue.pop()\n",
    "    d = distances[current]\n",
    "    for nxt in neighbours(current):\n",
    "        if nxt not in distances or distances[nxt] > d+1:\n",
    "            distances[nxt] = d+1\n",
    "            queue.add(nxt)\n",
    "\n",
    "\n",
    "def neighbours_cheat(coord):\n",
    "    (x,y) = coord\n",
    "    return [(x+dx,y+dy) for (dx,dy) in [(0,2),(0,-2),(2,0),(-2,0),(1,1),(-1,-1),(1,-1),(-1,1)] if (x+dx,y+dy) in grid]\n",
    "\n",
    "\n",
    "def cheat_at(coord, threshold):\n",
    "    return [c for c in neighbours_cheat(coord) if distances[c] - distances[coord] >= threshold+2]\n",
    "\n",
    "\n",
    "sum([len(cheat_at(c,100)) for c in grid])"
   ]
  },
  {
   "cell_type": "markdown",
   "id": "739d0b60-672f-46c0-8629-14a7bf4347f6",
   "metadata": {},
   "source": [
    "### Part 2"
   ]
  },
  {
   "cell_type": "code",
   "execution_count": 61,
   "id": "062bf34f-38c5-477c-b53f-1397d7ebfb38",
   "metadata": {},
   "outputs": [
    {
     "data": {
      "text/plain": [
       "989316"
      ]
     },
     "execution_count": 61,
     "metadata": {},
     "output_type": "execute_result"
    }
   ],
   "source": [
    "def manhattan(coord1,coord2):\n",
    "    (x1,y1) = coord1\n",
    "    (x2,y2) = coord2\n",
    "    return abs(x1-x2)+abs(y1-y2)\n",
    "\n",
    "\n",
    "manhattan_distances = {c1: {c2: manhattan(c1,c2) for c2 in grid} for c1 in grid}\n",
    "\n",
    "\n",
    "def neighbours_cheat(coord,max_distance):\n",
    "    return {c:manhattan_distances[coord][c] for c in manhattan_distances[coord] if manhattan_distances[coord][c] in range(2,max_distance+1)}\n",
    "\n",
    "\n",
    "def cheat_at(coord, threshold, max_distance):\n",
    "    opts = neighbours_cheat(coord, max_distance)\n",
    "    return [c for c in opts if distances[c]-distances[coord] >= threshold+opts[c]]\n",
    "\n",
    "\n",
    "sum([len(cheat_at(c,100,20)) for c in grid])"
   ]
  },
  {
   "cell_type": "markdown",
   "id": "b6c97392-b130-4453-b82d-23ce64ab7392",
   "metadata": {},
   "source": [
    "## Day 21"
   ]
  },
  {
   "cell_type": "markdown",
   "id": "a10ff1a3-4f82-4962-a2d1-9f82b34e600e",
   "metadata": {},
   "source": [
    "### Part 1"
   ]
  },
  {
   "cell_type": "code",
   "execution_count": 225,
   "id": "4e7a0d84-74fd-48de-abc6-9b229aa5ec89",
   "metadata": {},
   "outputs": [
    {
     "data": {
      "text/plain": [
       "176452"
      ]
     },
     "execution_count": 225,
     "metadata": {},
     "output_type": "execute_result"
    }
   ],
   "source": [
    "with open('inputs/day21.txt') as f:\n",
    "    s = f.read()[:-1].split('\\n')\n",
    "\n",
    "keypad = {'7': (0,0),'8': (1,0),'9': (2,0),'4': (0,1),'5': (1,1),'6': (2,1),'1': (0,2),'2': (1,2),'3': (2,2),'0': (1,3),'A': (2,3)}\n",
    "dpad = {'^': (1,0), 'A': (2,0), '<': (0,1), 'v': (1,1), '>': (2,1)}\n",
    "\n",
    "\n",
    "def keypad_path_options(start,end):\n",
    "    (x0,y0) = start\n",
    "    (x1,y1) = end\n",
    "    dx = x1-x0\n",
    "    dy = y1-y0\n",
    "    x_symbols = ('>' if dx > 0 else '<')*abs(dx)\n",
    "    y_symbols = ('v' if dy > 0 else '^')*abs(dy)\n",
    "    if dx == 0 and dy == 0:\n",
    "        return ['A']\n",
    "    if dx == 0 or dy == 0:\n",
    "        return [x_symbols+y_symbols+'A']\n",
    "    if (0,3) not in {(x0,y1),(x1,y0)}:\n",
    "        return [x_symbols+y_symbols+'A', y_symbols+x_symbols+'A']\n",
    "    if (x0,y1) == (0,3):\n",
    "        return [x_symbols+y_symbols+'A']\n",
    "    if (x1,y0) == (0,3):\n",
    "        return [y_symbols+x_symbols+'A']\n",
    "\n",
    "\n",
    "def dpad_path_options(start, end):\n",
    "    (x0,y0) = start\n",
    "    (x1,y1) = end\n",
    "    dx = x1-x0\n",
    "    dy = y1-y0\n",
    "    x_symbols = ('>' if dx > 0 else '<')*abs(dx)\n",
    "    y_symbols = ('v' if dy > 0 else '^')*abs(dy)\n",
    "    if dx == 0 and dy == 0:\n",
    "        return ['A']\n",
    "    if dx == 0 or dy == 0:\n",
    "        return [x_symbols+y_symbols+'A']\n",
    "    if (0,0) not in {(x0,y1),(x1,y0)}:\n",
    "        return [x_symbols+y_symbols+'A', y_symbols+x_symbols+'A']\n",
    "    if (x0,y1) == (0,0):\n",
    "        return [x_symbols+y_symbols+'A']\n",
    "    if (x1,y0) == (0,0):\n",
    "        return [y_symbols+x_symbols+'A']\n",
    "    \n",
    "\n",
    "keypad_paths = {k1: {k2: keypad_path_options(keypad[k1],keypad[k2]) for k2 in keypad} for k1 in keypad}\n",
    "dpad_paths = {k1: {k2: dpad_path_options(dpad[k1],dpad[k2]) for k2 in dpad} for k1 in dpad}\n",
    "\n",
    "\n",
    "def next_level(remaining, path_map, current_path='', current='A', result=set()):\n",
    "    if len(remaining) == 0:\n",
    "        result.add(current_path)\n",
    "        return result\n",
    "    for path in path_map[current][remaining[0]]:\n",
    "        next_level(remaining[1:], path_map, current_path+path, remaining[0], result)\n",
    "    return result\n",
    "    \n",
    "\n",
    "cache = {}\n",
    "\n",
    "\n",
    "def final_length(code,depth_left):\n",
    "    if (code, depth_left) in cache:\n",
    "        return cache[(code, depth_left)]\n",
    "    if depth_left == 0:\n",
    "        cache[(code, depth_left)] = len(code)\n",
    "        return cache[(code, depth_left)]\n",
    "    subcodes = [c+'A' for c in code.split('A')[:-1]]\n",
    "    length = 0\n",
    "    for subcode in subcodes:\n",
    "        nxt_lvl = set() \n",
    "        next_level(subcode,dpad_paths,result=nxt_lvl)\n",
    "        length += min([final_length(opt,depth_left-1) for opt in nxt_lvl])\n",
    "    cache[(code, depth_left)] = length\n",
    "    return length\n",
    "\n",
    "\n",
    "def numeric(code):\n",
    "    return int(code[:-1])\n",
    "\n",
    "\n",
    "def complexity(code,levels):\n",
    "    first_level = set()\n",
    "    next_level(code, keypad_paths, result=first_level)\n",
    "    length = min(final_length(opt, levels) for opt in first_level)\n",
    "    return numeric(code)*length\n",
    "\n",
    "\n",
    "sum([complexity(code,2) for code in s])"
   ]
  },
  {
   "cell_type": "markdown",
   "id": "fcd6d9c7-28e9-4b32-8bfd-7c5d5e94495b",
   "metadata": {},
   "source": [
    "### Part 2"
   ]
  },
  {
   "cell_type": "code",
   "execution_count": 226,
   "id": "bb8239b7-a8f4-413a-8359-f1c8ca9bb14b",
   "metadata": {},
   "outputs": [
    {
     "data": {
      "text/plain": [
       "218309335714068"
      ]
     },
     "execution_count": 226,
     "metadata": {},
     "output_type": "execute_result"
    }
   ],
   "source": [
    "sum([complexity(code,25) for code in s])"
   ]
  },
  {
   "cell_type": "markdown",
   "id": "66f8b0d3-f86c-4375-8ed2-bfd34d29de85",
   "metadata": {},
   "source": [
    "## Day 22"
   ]
  },
  {
   "cell_type": "markdown",
   "id": "1aae9a18-da1e-4540-9798-11613633567b",
   "metadata": {},
   "source": [
    "### Part 1"
   ]
  },
  {
   "cell_type": "code",
   "execution_count": 149,
   "id": "33699882-0b0c-44ee-9a53-5e5478246b79",
   "metadata": {},
   "outputs": [
    {
     "data": {
      "text/plain": [
       "12979353889"
      ]
     },
     "execution_count": 149,
     "metadata": {},
     "output_type": "execute_result"
    }
   ],
   "source": [
    "with open('inputs/day22.txt') as f:\n",
    "    s = f.read()[:-1].split('\\n')\n",
    "\n",
    "init = [int(i) for i in s]\n",
    "\n",
    "\n",
    "def mix(value,secret):\n",
    "    return value ^ secret\n",
    "\n",
    "\n",
    "def prune(value):\n",
    "    return value & int('1'*24,2)\n",
    "\n",
    "\n",
    "ops = [lambda x: x << 6, lambda x: x >> 5, lambda x: x << 11]\n",
    "\n",
    "def next_secret(secret):\n",
    "    tmp = secret\n",
    "    for op in range(3):\n",
    "        new_secret = ops[op](tmp)\n",
    "        new_secret = prune(new_secret)\n",
    "        new_secret = mix(new_secret, tmp)\n",
    "        tmp = new_secret\n",
    "    return new_secret\n",
    "\n",
    "\n",
    "def nth_secret(initial, n):\n",
    "    secret = initial\n",
    "    for _ in range(n):\n",
    "        secret = next_secret(secret)\n",
    "    return secret\n",
    "\n",
    "sum([nth_secret(i, 2000) for i in init])"
   ]
  },
  {
   "cell_type": "markdown",
   "id": "6d5c07e9-3afe-4acb-aa58-f8e3f6c25ad5",
   "metadata": {},
   "source": [
    "### Part 2"
   ]
  },
  {
   "cell_type": "code",
   "execution_count": 150,
   "id": "857db6b4-e93e-4bca-946c-93930b15824c",
   "metadata": {},
   "outputs": [
    {
     "data": {
      "text/plain": [
       "1449"
      ]
     },
     "execution_count": 150,
     "metadata": {},
     "output_type": "execute_result"
    }
   ],
   "source": [
    "def prices_for(initial,n):\n",
    "    secret = initial\n",
    "    price_list = [secret%10]\n",
    "    for _ in range(n):\n",
    "        secret = next_secret(secret)\n",
    "        price_list.append(secret%10)\n",
    "    return price_list\n",
    "\n",
    "\n",
    "def changes_for(price_list):\n",
    "    return [price_list[i]-price_list[i-1] for i in range(1,len(price_list))]\n",
    "\n",
    "\n",
    "def sequence_values(prices, changes):\n",
    "    sequences = {}\n",
    "    for i in range(len(changes)-3):\n",
    "        seq = tuple(changes[i:i+4])\n",
    "        if seq  not in sequences:\n",
    "            sequences[seq] = prices[i+4]\n",
    "    return sequences\n",
    "\n",
    "\n",
    "prices = {i: prices_for(i,2000) for i in init}\n",
    "changes = {i: changes_for(prices[i]) for i in prices}\n",
    "\n",
    "seq_vals = {}\n",
    "for i in init:\n",
    "    seqs = sequence_values(prices[i], changes[i])\n",
    "    for seq in seqs:\n",
    "        val = seq_vals.get(seq,0)\n",
    "        seq_vals[seq] = val+seqs[seq]\n",
    "\n",
    "max(seq_vals.values())"
   ]
  },
  {
   "cell_type": "markdown",
   "id": "b4eb66ce-459d-45de-adca-69af17866dde",
   "metadata": {},
   "source": [
    "## Day 23"
   ]
  },
  {
   "cell_type": "markdown",
   "id": "ff2cbedd-e9d3-4470-9625-81dc2f677f4a",
   "metadata": {},
   "source": [
    "### Part 1"
   ]
  },
  {
   "cell_type": "code",
   "execution_count": 310,
   "id": "16999bce-7202-4d0e-8459-996f70a6d2df",
   "metadata": {},
   "outputs": [
    {
     "data": {
      "text/plain": [
       "1154"
      ]
     },
     "execution_count": 310,
     "metadata": {},
     "output_type": "execute_result"
    }
   ],
   "source": [
    "with open('inputs/day23.txt') as f:\n",
    "    s = f.read()[:-1].split('\\n')\n",
    "\n",
    "\n",
    "connection_data = [tuple(line.split('-')) for line in s]\n",
    "connections = {}\n",
    "for (c1,c2) in connection_data:\n",
    "    c1_conns = connections.get(c1,set())\n",
    "    c2_conns = connections.get(c2,set())\n",
    "    c1_conns.add(c2)\n",
    "    c2_conns.add(c1)\n",
    "    connections[c1] = c1_conns\n",
    "    connections[c2] = c2_conns\n",
    "\n",
    "\n",
    "def remains_complete(graph, new_node, connections):\n",
    "    for node in graph:\n",
    "        if new_node not in connections[node]:\n",
    "            return False\n",
    "    return True\n",
    "\n",
    "\n",
    "def expand(graph, connections):\n",
    "    new_graphs = set()\n",
    "    for node in connections:\n",
    "        if node not in graph and remains_complete(graph, node, connections):\n",
    "            new_graphs.add(tuple(sorted(list(graph) + [node])))\n",
    "    return new_graphs\n",
    "\n",
    "\n",
    "graphs = {tuple([node]) for node in connections if node[0] == 't'}\n",
    "\n",
    "for _ in range(2):\n",
    "    new_graphs = set()\n",
    "    for graph in graphs:\n",
    "        new_graphs.update(expand(graph, connections))\n",
    "    graphs = new_graphs\n",
    "\n",
    "len(graphs)"
   ]
  },
  {
   "cell_type": "markdown",
   "id": "a269f93a-f9b3-4df7-90d9-e3ef744b55e7",
   "metadata": {},
   "source": [
    "### Part 2"
   ]
  },
  {
   "cell_type": "code",
   "execution_count": 317,
   "id": "83b09cf7-7c9e-46b2-8b12-d1d5c489d499",
   "metadata": {},
   "outputs": [
    {
     "data": {
      "text/plain": [
       "'aj,ds,gg,id,im,jx,kq,nj,ql,qr,ua,yh,zn'"
      ]
     },
     "execution_count": 317,
     "metadata": {},
     "output_type": "execute_result"
    }
   ],
   "source": [
    "graphs = {tuple([node]) for node in connections}\n",
    "done = False\n",
    "while not done:\n",
    "    new_graphs = set()\n",
    "    for graph in graphs:\n",
    "        new_graphs.update(expand(graph, connections))\n",
    "    if len(new_graphs) > 0:\n",
    "        graphs = new_graphs\n",
    "    else:\n",
    "        done = True\n",
    "\n",
    "','.join(list(graphs)[0])"
   ]
  },
  {
   "cell_type": "markdown",
   "id": "fae3ec9b-8cd4-4f00-96ae-38948ae16ae8",
   "metadata": {},
   "source": [
    "## Day 24"
   ]
  },
  {
   "cell_type": "markdown",
   "id": "88586005-3b3f-41d5-8aad-2cf700ed3222",
   "metadata": {},
   "source": [
    "### Part 1"
   ]
  },
  {
   "cell_type": "code",
   "execution_count": 153,
   "id": "053ae088-2ee4-4080-bb3a-91506d902059",
   "metadata": {},
   "outputs": [
    {
     "data": {
      "text/plain": [
       "53325321422566"
      ]
     },
     "execution_count": 153,
     "metadata": {},
     "output_type": "execute_result"
    }
   ],
   "source": [
    "with open('inputs/day24.txt') as f:\n",
    "    s = f.read()[:-1].split('\\n\\n')\n",
    "\n",
    "\n",
    "inputs = {inp.split(':')[0]: int(inp.split(': ')[1]) for inp in s[0].split('\\n')}\n",
    "ops = {'AND': lambda x,y: x & y,\n",
    "       'OR': lambda x,y: x | y,\n",
    "       'XOR': lambda x,y: x ^ y}\n",
    "\n",
    "\n",
    "def parse_gate(line):\n",
    "    parts = line.split(' ')\n",
    "    return (parts[0], parts[2], ops[parts[1]], parts[4])\n",
    "\n",
    "\n",
    "gates = [parse_gate(line) for line in s[1].split('\\n')]\n",
    "\n",
    "\n",
    "def compute_gate(gate, values):\n",
    "    (inp1, inp2, op, _) = gate\n",
    "    if inp1 in values and inp2 in values:\n",
    "        return op(inp1,inp2)\n",
    "\n",
    "\n",
    "def next_wires(values, new_values):\n",
    "    nxt_values = set()\n",
    "    for (inp1,inp2,op,outp) in gates:\n",
    "        if inp1 in values and inp2 in values and (inp1 in new_values or inp2 in new_values):\n",
    "            val = op(values[inp1], values[inp2])\n",
    "            values[outp] = val\n",
    "            nxt_values.add(outp)\n",
    "    return nxt_values\n",
    "\n",
    "\n",
    "def solve(initial_values):\n",
    "    values = {wire: initial_values[wire] for wire in initial_values}\n",
    "    new_values = {wire: initial_values[wire] for wire in initial_values}\n",
    "    while len(new_values) > 0:\n",
    "        new_values = next_wires(values, new_values)\n",
    "\n",
    "    result_wires = sorted([wire for wire in values if wire[0] == 'z'], reverse=True)\n",
    "    result_bits = ''.join([str(values[wire]) for wire in result_wires])\n",
    "    return int(result_bits,2)\n",
    "\n",
    "\n",
    "solve(inputs)"
   ]
  },
  {
   "cell_type": "markdown",
   "id": "8ede3a77-3c53-44c6-a357-227e50dd52ca",
   "metadata": {},
   "source": [
    "### Part 2"
   ]
  },
  {
   "cell_type": "code",
   "execution_count": 176,
   "id": "ebc5f3fd-8500-40f2-9e91-3368c9763a5d",
   "metadata": {},
   "outputs": [
    {
     "data": {
      "text/plain": [
       "'fkb,nnr,rdn,rqf,rrn,z16,z31,z37'"
      ]
     },
     "execution_count": 176,
     "metadata": {},
     "output_type": "execute_result"
    }
   ],
   "source": [
    "VALUE_BASE = 'value_base'\n",
    "CARRY_BASE = 'carry_base'\n",
    "FINAL_VALUE = 'final_value'\n",
    "PARTIAL_CARRY = 'partial_carry'\n",
    "FINAL_CARRY = 'final_carry'\n",
    "AND = 'AND'\n",
    "OR = 'OR'\n",
    "XOR = 'XOR'\n",
    "\n",
    "\n",
    "def parse_gate(line):\n",
    "    parts = line.split(' ')\n",
    "    inputs = sorted([parts[0],parts[2]])\n",
    "    return (inputs[0], inputs[1], parts[1], parts[4])\n",
    "\n",
    "\n",
    "def convert_n(n):\n",
    "    return str(n) if n >= 10 else '0' + str(n)\n",
    "\n",
    "\n",
    "def find_bases(gates,n):\n",
    "    n_str = convert_n(n)\n",
    "    for gate in gates:\n",
    "        if n_str in gate[0]:\n",
    "            if gate[2] == XOR:\n",
    "                value = gate[3]\n",
    "            if gate[2] == AND:\n",
    "                carry = gate[3]\n",
    "    return (value,carry)\n",
    "\n",
    "\n",
    "def find_gate(gates, op, w1, w2=None):\n",
    "    for gate in gates:\n",
    "        if gate[2] == op and (gate[0] == w1 or gate[1] == w1):\n",
    "            if w2 is None:\n",
    "                return gate\n",
    "            elif gate[0] == w2 or gate[1] == w2:\n",
    "                return gate\n",
    "\n",
    "\n",
    "def find_gate_output(gates, op, w1, w2=None):\n",
    "    gate = find_gate(gates, op, w1, w2)\n",
    "    if gate is not None:\n",
    "        return gate[3]\n",
    "\n",
    "\n",
    "def fix_gates(gates, w1, w2):\n",
    "    new_gates = []\n",
    "    for gate in gates:\n",
    "        if gate[3] == w1:\n",
    "            new_gates.append((gate[0],gate[1],gate[2],w2))\n",
    "        elif gate[3] == w2:\n",
    "            new_gates.append((gate[0],gate[1],gate[2],w1))\n",
    "        else:\n",
    "            new_gates.append(gate)\n",
    "    return new_gates\n",
    "\n",
    "\n",
    "def populate_roles(gates,roles,n):\n",
    "    n_roles = {}\n",
    "    bases = find_bases(gates,n)\n",
    "    n_roles[VALUE_BASE] = bases[0]\n",
    "    n_roles[CARRY_BASE] = bases[1]\n",
    "    if n-1 not in roles:\n",
    "        n_roles[FINAL_VALUE] = n_roles[VALUE_BASE]\n",
    "        n_roles[PARTIAL_CARRY] = n_roles[CARRY_BASE]\n",
    "        n_roles[FINAL_CARRY] = n_roles[CARRY_BASE]\n",
    "    else:\n",
    "        n_roles[FINAL_VALUE] = find_gate_output(gates,XOR, n_roles[VALUE_BASE], roles[n-1][FINAL_CARRY])\n",
    "        n_roles[PARTIAL_CARRY] = find_gate_output(gates,AND, n_roles[VALUE_BASE], roles[n-1][FINAL_CARRY])\n",
    "        n_roles[FINAL_CARRY] = find_gate_output(gates,OR, n_roles[CARRY_BASE], n_roles[PARTIAL_CARRY])\n",
    "    expected_final_value = 'z' + convert_n(n)\n",
    "    if n_roles[PARTIAL_CARRY] is None:\n",
    "        if find_gate(gates,XOR,n_roles[CARRY_BASE], roles[n-1][FINAL_CARRY]) is not None:\n",
    "            return [n_roles[CARRY_BASE], n_roles[VALUE_BASE]]\n",
    "    if n_roles[FINAL_VALUE] != expected_final_value:\n",
    "        return [expected_final_value, n_roles[FINAL_VALUE]]\n",
    "    roles[n] = n_roles\n",
    "    return []\n",
    "\n",
    "\n",
    "def populate_until_error(gates):\n",
    "    roles = {}\n",
    "    for n in range(45):\n",
    "        flags = populate_roles(gates, roles, n)\n",
    "        if len(flags) > 0:\n",
    "            return flags\n",
    "    return []\n",
    "\n",
    "\n",
    "def scan_and_fix(gates):\n",
    "    gates_fixed = [gate for gate in gates]\n",
    "    flags = []\n",
    "    finished = False\n",
    "    while not finished:\n",
    "        new_flags = populate_until_error(gates_fixed)\n",
    "        if len(new_flags) > 0:\n",
    "            flags.extend(new_flags)\n",
    "            gates_fixed = fix_gates(gates_fixed, new_flags[0], new_flags[1])\n",
    "        else:\n",
    "            finished = True\n",
    "    return flags\n",
    "\n",
    "\n",
    "gates = [parse_gate(line) for line in s[1].split('\\n')]\n",
    "flags = scan_and_fix(gates)\n",
    "flags.sort()\n",
    "','.join(flags)"
   ]
  },
  {
   "cell_type": "markdown",
   "id": "5b9ef7fd-aeeb-4a41-b90c-d146dd75ed71",
   "metadata": {},
   "source": [
    "## Day 25"
   ]
  },
  {
   "cell_type": "code",
   "execution_count": 10,
   "id": "101c07d4-db6b-48f6-8930-ea5135d6cfe1",
   "metadata": {},
   "outputs": [
    {
     "data": {
      "text/plain": [
       "3242"
      ]
     },
     "execution_count": 10,
     "metadata": {},
     "output_type": "execute_result"
    }
   ],
   "source": [
    "with open('inputs/day25.txt') as f:\n",
    "    s = f.read()[:-1].split('\\n\\n')\n",
    "\n",
    "\n",
    "schemas = [schema.split('\\n') for schema in s]\n",
    "\n",
    "def parse_schema(schema):\n",
    "    return [[schema[y][x] for y in range(len(schema))].count('#')-1 for x in range(len(schema[0]))]\n",
    "    \n",
    "\n",
    "def is_lock(schema):\n",
    "    return schema[0][0] == '#'\n",
    "\n",
    "\n",
    "def fits(lock, key):\n",
    "    for i in range(len(lock)):\n",
    "        if lock[i]+key[i] > 5:\n",
    "            return False\n",
    "    return True\n",
    "\n",
    "\n",
    "locks = []\n",
    "keys = []\n",
    "for schema in schemas:\n",
    "    parsed = parse_schema(schema)\n",
    "    if is_lock(schema):\n",
    "        locks.append(parsed)\n",
    "    else:\n",
    "        keys.append(parsed)\n",
    "\n",
    "\n",
    "fit_count = 0\n",
    "for lock in locks:\n",
    "    for key in keys:\n",
    "        if fits(lock, key):\n",
    "            fit_count += 1\n",
    "\n",
    "fit_count"
   ]
  }
 ],
 "metadata": {
  "kernelspec": {
   "display_name": "Python 3 (ipykernel)",
   "language": "python",
   "name": "python3"
  },
  "language_info": {
   "codemirror_mode": {
    "name": "ipython",
    "version": 3
   },
   "file_extension": ".py",
   "mimetype": "text/x-python",
   "name": "python",
   "nbconvert_exporter": "python",
   "pygments_lexer": "ipython3",
   "version": "3.12.7"
  }
 },
 "nbformat": 4,
 "nbformat_minor": 5
}
