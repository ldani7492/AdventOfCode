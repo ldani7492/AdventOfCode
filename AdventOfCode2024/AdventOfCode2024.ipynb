{
 "cells": [
  {
   "cell_type": "markdown",
   "id": "33663446-274a-4ea7-bae0-a3c9689c8ccf",
   "metadata": {},
   "source": [
    "# Advent of Code 2024"
   ]
  },
  {
   "cell_type": "markdown",
   "id": "a34128c5-ed64-424d-851f-63e084495561",
   "metadata": {},
   "source": [
    "## Day 1"
   ]
  },
  {
   "cell_type": "markdown",
   "id": "6032dc62-7f2c-48b7-9899-acd49381592a",
   "metadata": {},
   "source": [
    "### Part 1"
   ]
  },
  {
   "cell_type": "code",
   "execution_count": 8,
   "id": "cd185483-47a4-4077-bc7a-0b674318f35f",
   "metadata": {},
   "outputs": [
    {
     "data": {
      "text/plain": [
       "2344935"
      ]
     },
     "execution_count": 8,
     "metadata": {},
     "output_type": "execute_result"
    }
   ],
   "source": [
    "with open('inputs/day1.txt') as f:\n",
    "    s = f.read().split('\\n')[:-1]\n",
    "\n",
    "left = sorted([int(line.split('   ')[0]) for line in s])\n",
    "right = sorted([int(line.split('   ')[1]) for line in s])\n",
    "\n",
    "sum([abs(left[i] - right[i]) for i in range(len(left))])"
   ]
  },
  {
   "cell_type": "markdown",
   "id": "4e4839ff-28aa-4a0e-8e1c-0d981e581b0a",
   "metadata": {},
   "source": [
    "### Part 2"
   ]
  },
  {
   "cell_type": "code",
   "execution_count": 10,
   "id": "9e0e4a04-cdff-411e-9d8c-924817e43b0d",
   "metadata": {},
   "outputs": [
    {
     "data": {
      "text/plain": [
       "27647262"
      ]
     },
     "execution_count": 10,
     "metadata": {},
     "output_type": "execute_result"
    }
   ],
   "source": [
    "frequency = {n: right.count(n) for n in left}\n",
    "\n",
    "sum([n*frequency[n] for n in frequency])"
   ]
  },
  {
   "cell_type": "markdown",
   "id": "4df7bc05-c5f3-4d41-bbce-f970c5e625cf",
   "metadata": {},
   "source": [
    "## Day 2"
   ]
  },
  {
   "cell_type": "markdown",
   "id": "a4dee7f1-7656-457e-9361-e7a8178d4b1b",
   "metadata": {},
   "source": [
    "### Part 1"
   ]
  },
  {
   "cell_type": "code",
   "execution_count": 17,
   "id": "23ca0ce1-66cb-44ba-b9c7-d0f2d0e7fc1c",
   "metadata": {},
   "outputs": [
    {
     "data": {
      "text/plain": [
       "516"
      ]
     },
     "execution_count": 17,
     "metadata": {},
     "output_type": "execute_result"
    }
   ],
   "source": [
    "with open('inputs/day2.txt') as f:\n",
    "    s = f.read().split('\\n')[:-1]\n",
    "\n",
    "\n",
    "def is_safe(levels):\n",
    "    direction = levels[1] - levels[0]\n",
    "    for i in range(1, len(levels)):\n",
    "        d = levels[i] - levels[i-1]\n",
    "        if direction * d < 0 or abs(d) < 1 or abs(d) > 3:\n",
    "            return False\n",
    "    return True\n",
    "\n",
    "\n",
    "report = [[int(level) for level in line.split(' ')] for line in s]\n",
    "sum([1 if is_safe(levels) else 0 for levels in report])"
   ]
  },
  {
   "cell_type": "markdown",
   "id": "7bef81b5-c166-44d5-96b6-e401e84eb107",
   "metadata": {},
   "source": [
    "### Part 2"
   ]
  },
  {
   "cell_type": "code",
   "execution_count": 19,
   "id": "252c150a-1dc3-4599-9586-bf90d7121541",
   "metadata": {},
   "outputs": [
    {
     "data": {
      "text/plain": [
       "561"
      ]
     },
     "execution_count": 19,
     "metadata": {},
     "output_type": "execute_result"
    }
   ],
   "source": [
    "def remove_level(levels, i):\n",
    "    return levels[:i] + levels[i+1:]\n",
    "\n",
    "\n",
    "def is_safe_tolerate(levels):\n",
    "    if is_safe(levels):\n",
    "        return True\n",
    "    for i in range(len(levels)):\n",
    "        if is_safe(remove_level(levels, i)):\n",
    "            return True\n",
    "    return False\n",
    "\n",
    "\n",
    "sum([1 if is_safe_tolerate(levels) else 0 for levels in report])"
   ]
  },
  {
   "cell_type": "markdown",
   "id": "6fd5129c-287e-4701-afb2-da625ec1d9b4",
   "metadata": {},
   "source": [
    "## Day 3"
   ]
  },
  {
   "cell_type": "markdown",
   "id": "4cde996a-1b5f-47c4-8c51-5a7ff36b95d2",
   "metadata": {},
   "source": [
    "### Part 1"
   ]
  },
  {
   "cell_type": "code",
   "execution_count": 31,
   "id": "d75bfd84-743a-4428-95ab-8d4f33fa2ac4",
   "metadata": {},
   "outputs": [
    {
     "data": {
      "text/plain": [
       "189527826"
      ]
     },
     "execution_count": 31,
     "metadata": {},
     "output_type": "execute_result"
    }
   ],
   "source": [
    "import re\n",
    "\n",
    "with open('inputs/day3.txt') as f:\n",
    "    s = f.read()[:-1]\n",
    "\n",
    "\n",
    "def mul(command):\n",
    "    num = [int(i) for i in command[4:-1].split(',')]\n",
    "    return num[0]*num[1]\n",
    "\n",
    "\n",
    "reg = re.compile(r'mul\\(\\d{1,3},\\d{1,3}\\)')\n",
    "sum([mul(i) for i in reg.findall(s)])"
   ]
  },
  {
   "cell_type": "markdown",
   "id": "1548a886-89c3-4518-9356-ce94b27b364e",
   "metadata": {},
   "source": [
    "### Part 2"
   ]
  },
  {
   "cell_type": "code",
   "execution_count": 36,
   "id": "a7ade998-b8c2-420e-9624-2a54656d55f0",
   "metadata": {},
   "outputs": [
    {
     "data": {
      "text/plain": [
       "63013756"
      ]
     },
     "execution_count": 36,
     "metadata": {},
     "output_type": "execute_result"
    }
   ],
   "source": [
    "reg = re.compile(r'mul\\(\\d{1,3},\\d{1,3}\\)|do\\(\\)|don\\'t\\(\\)')\n",
    "\n",
    "a = 0\n",
    "enabled = True\n",
    "for comm in reg.findall(s):\n",
    "    if comm == 'do()':\n",
    "        enabled = True\n",
    "    elif comm == 'don\\'t()':\n",
    "        enabled = False\n",
    "    elif enabled:\n",
    "        a += mul(comm)\n",
    "\n",
    "a"
   ]
  },
  {
   "cell_type": "markdown",
   "id": "219a129d-0c02-419e-a2df-a27da6621417",
   "metadata": {},
   "source": [
    "## Day 4"
   ]
  },
  {
   "cell_type": "markdown",
   "id": "e5537845-f7c3-4e4f-8874-0027869c1fee",
   "metadata": {},
   "source": [
    "### Part 1"
   ]
  },
  {
   "cell_type": "code",
   "execution_count": 23,
   "id": "f8354b52-516f-4275-99a5-3b20a16069a2",
   "metadata": {},
   "outputs": [
    {
     "data": {
      "text/plain": [
       "2583"
      ]
     },
     "execution_count": 23,
     "metadata": {},
     "output_type": "execute_result"
    }
   ],
   "source": [
    "with open('inputs/day4.txt') as f:\n",
    "    s = f.read().split('\\n')[:-1]\n",
    "\n",
    "\n",
    "def transpose(s):\n",
    "    return [''.join([s[y][x] for y in range(len(s))]) for x in range(len(s[0]))]\n",
    "\n",
    "\n",
    "def diagonal_words(s, min_l):\n",
    "    words = []\n",
    "    for y in range(len(s)):\n",
    "        for x in range(len(s[0])):\n",
    "            for (dx,dy) in [(1,1),(1,-1),(-1,1),(-1,-1)]:\n",
    "                if x + (min_l-1)*dx in range(len(s[0])) and y + (min_l-1)*dy in range(len(s)):\n",
    "                    words.append(''.join([s[y+i*dy][x+i*dx] for i in range(min_l)]))\n",
    "    return words\n",
    "\n",
    "\n",
    "search = 'XMAS'\n",
    "a = 0\n",
    "\n",
    "for line in s:\n",
    "    a += line.count(search)\n",
    "    a += line.count(search[::-1])\n",
    "\n",
    "for line in transpose(s):\n",
    "    a += line.count(search)\n",
    "    a += line.count(search[::-1])\n",
    "\n",
    "a += diagonal_words(s, len(search)).count(search)\n",
    "\n",
    "a"
   ]
  },
  {
   "cell_type": "markdown",
   "id": "4762be37-1b1f-48cf-aaf1-f29b07836420",
   "metadata": {},
   "source": [
    "### Part 2"
   ]
  },
  {
   "cell_type": "code",
   "execution_count": 24,
   "id": "cac3f205-f507-454a-81f9-5ca7879aedcb",
   "metadata": {},
   "outputs": [
    {
     "data": {
      "text/plain": [
       "1978"
      ]
     },
     "execution_count": 24,
     "metadata": {},
     "output_type": "execute_result"
    }
   ],
   "source": [
    "search = 'MAS'\n",
    "\n",
    "def check_cross_word(x,y,s):\n",
    "    x_in_range = x in range(1, len(s[0])-1)\n",
    "    y_in_range = y in range(1, len(s)-1)\n",
    "    if not x_in_range or not y_in_range:\n",
    "        return False\n",
    "    center_ok = s[y][x] == search[1]\n",
    "    diag_up_left    = s[y-1][x-1] == search[0] and s[y+1][x+1] == search[2]\n",
    "    diag_up_right   = s[y-1][x+1] == search[0] and s[y+1][x-1] == search[2]\n",
    "    diag_down_left  = s[y+1][x-1] == search[0] and s[y-1][x+1] == search[2]\n",
    "    diag_down_right = s[y+1][x+1] == search[0] and s[y-1][x-1] == search[2]\n",
    "    return center_ok and (diag_up_left or diag_down_right) and (diag_up_right or diag_down_left)\n",
    "\n",
    "\n",
    "len([(x,y) for y in range(len(s)) for x in range(len(s[0])) if check_cross_word(x,y,s)])"
   ]
  },
  {
   "cell_type": "markdown",
   "id": "e9730f30-da90-4553-bb55-9fb3c6694b3b",
   "metadata": {},
   "source": [
    "## Day 5"
   ]
  },
  {
   "cell_type": "markdown",
   "id": "97a9843c-5e15-42e7-ba48-ac8af572fff7",
   "metadata": {},
   "source": [
    "### Part 1"
   ]
  },
  {
   "cell_type": "code",
   "execution_count": 27,
   "id": "f956c961-136a-4fa0-975b-1d8f7b33dc2f",
   "metadata": {},
   "outputs": [
    {
     "data": {
      "text/plain": [
       "7365"
      ]
     },
     "execution_count": 27,
     "metadata": {},
     "output_type": "execute_result"
    }
   ],
   "source": [
    "with open('inputs/day5.txt') as f:\n",
    "    s = f.read()[:-1].split('\\n\\n')\n",
    "\n",
    "\n",
    "def in_order(pages, rules):\n",
    "    visited = set()\n",
    "    for page in pages:\n",
    "        visited.add(page)\n",
    "        related_rules = rules.get(page, [])\n",
    "        for rule in related_rules:\n",
    "            if rule in pages and rule not in visited:\n",
    "                return False\n",
    "    return True\n",
    "\n",
    "\n",
    "def middle(pages):\n",
    "    return pages[len(pages)//2]\n",
    "\n",
    "\n",
    "rules = {}\n",
    "for rule in s[0].split('\\n'):\n",
    "    (x,y) = tuple(int(i) for i in rule.split('|'))\n",
    "    preceding = rules.get(y, [])\n",
    "    preceding.append(x)\n",
    "    rules[y] = preceding\n",
    "\n",
    "pages = [[int(i) for i in line.split(',')] for line in s[1].split('\\n')]\n",
    "\n",
    "sum([middle(p) for p in pages if in_order(p, rules)])"
   ]
  },
  {
   "cell_type": "markdown",
   "id": "1160fb57-91c2-47d1-9b24-7e204c6703c0",
   "metadata": {},
   "source": [
    "### Part 2"
   ]
  },
  {
   "cell_type": "code",
   "execution_count": 28,
   "id": "dd58b996-acb2-4457-805a-886a3da2dab2",
   "metadata": {},
   "outputs": [
    {
     "data": {
      "text/plain": [
       "5770"
      ]
     },
     "execution_count": 28,
     "metadata": {},
     "output_type": "execute_result"
    }
   ],
   "source": [
    "def filtered_rules(page, pages, rules, visited):\n",
    "    return [r for r in rules.get(page, []) if r in pages and r not in visited]\n",
    "\n",
    "\n",
    "def order(pages, rules):\n",
    "    result = []\n",
    "    while len(result) < len(pages):\n",
    "        relevant_rules = {p: filtered_rules(p, pages, rules, result) for p in pages if p not in result}\n",
    "        next_page = [r for r in relevant_rules if len(relevant_rules[r]) == 0][0]\n",
    "        result.append(next_page)\n",
    "    return result\n",
    "\n",
    "sum([middle(order(p, rules)) for p in pages if not in_order(p, rules)])"
   ]
  },
  {
   "cell_type": "markdown",
   "id": "51868b52-8ebb-4b20-80bf-7aeb3739357b",
   "metadata": {},
   "source": [
    "## Day 6"
   ]
  },
  {
   "cell_type": "markdown",
   "id": "0d1a8954-3918-487c-b601-0b8a583dda7c",
   "metadata": {},
   "source": [
    "### Part 1"
   ]
  },
  {
   "cell_type": "code",
   "execution_count": 107,
   "id": "ff42364f-2649-46e7-b859-e77da6b4ca39",
   "metadata": {
    "scrolled": true
   },
   "outputs": [
    {
     "data": {
      "text/plain": [
       "4977"
      ]
     },
     "execution_count": 107,
     "metadata": {},
     "output_type": "execute_result"
    }
   ],
   "source": [
    "with open('inputs/day6.txt') as f:\n",
    "    s = f.read().split('\\n')[:-1]\n",
    "\n",
    "\n",
    "directions = [(0,-1),(1,0),(0,1),(-1,0)]\n",
    "obst = set()\n",
    "for y in range(len(s)):\n",
    "    for x in range(len(s[0])):\n",
    "        if s[y][x] == '#':\n",
    "            obst.add((x,y))\n",
    "        if s[y][x] == '^':\n",
    "            start = (x,y)\n",
    "\n",
    "\n",
    "def move_guard(pos, facing, obst):\n",
    "    (x,y) = pos\n",
    "    (dx,dy) = directions[facing]\n",
    "    if (x+dx, y+dy) not in obst:\n",
    "        return ((x+dx, y+dy), facing)\n",
    "    return (pos, (facing+1)%4)\n",
    "\n",
    "\n",
    "def walk(start, facing, obst):\n",
    "    visited = set()\n",
    "    guard = start\n",
    "    while guard[0] in range(len(s[0])) and guard[1] in range(len(s)) and (guard, facing) not in visited:\n",
    "        visited.add((guard, facing))\n",
    "        (guard, facing) = move_guard(guard, facing, obst)\n",
    "    return visited\n",
    "    \n",
    "\n",
    "visited = walk(start, 0, obst)\n",
    "len({v[0] for v in visited})"
   ]
  },
  {
   "cell_type": "markdown",
   "id": "22657312-bb4c-4bea-a8c8-8ad61395868b",
   "metadata": {},
   "source": [
    "### Part 2"
   ]
  },
  {
   "cell_type": "code",
   "execution_count": 108,
   "id": "6e10610b-3c04-4895-80ae-452e92ed0e80",
   "metadata": {},
   "outputs": [
    {
     "data": {
      "text/plain": [
       "1729"
      ]
     },
     "execution_count": 108,
     "metadata": {},
     "output_type": "execute_result"
    }
   ],
   "source": [
    "def has_loop(visited):\n",
    "    return len([((x,y), f) for ((x,y), f) in visited if x+directions[f][0] not in range(len(s[0])) or y+directions[f][1] not in range(len(s))]) == 0\n",
    "\n",
    "\n",
    "looping = set()\n",
    "for (guard, facing) in visited:\n",
    "    new_obst = (guard[0]+directions[facing][0], guard[1]+directions[facing][1])\n",
    "    if new_obst not in obst and new_obst[0] in range(len(s[0])) and new_obst[1] in range(len(s)):\n",
    "        new_obsts = {o for o in obst}\n",
    "        new_obsts.add(new_obst)\n",
    "        new_visited = walk(start, 0, new_obsts)\n",
    "        if has_loop(new_visited):\n",
    "            looping.add(new_obst)\n",
    "\n",
    "len(looping)"
   ]
  },
  {
   "cell_type": "markdown",
   "id": "c837ed23-e04a-4b5e-8329-94f0ba0a2ec1",
   "metadata": {},
   "source": [
    "## Day 7"
   ]
  },
  {
   "cell_type": "markdown",
   "id": "6a4c1e66-4110-45fa-8fd7-983b645b0f89",
   "metadata": {},
   "source": [
    "### Part 1"
   ]
  },
  {
   "cell_type": "code",
   "execution_count": 11,
   "id": "2adc8495-5aa2-4aca-876d-08fe1926cc27",
   "metadata": {},
   "outputs": [
    {
     "data": {
      "text/plain": [
       "1038838357795"
      ]
     },
     "execution_count": 11,
     "metadata": {},
     "output_type": "execute_result"
    }
   ],
   "source": [
    "with open('inputs/day7.txt') as f:\n",
    "    s = f.read().split('\\n')[:-1]\n",
    "\n",
    "equations = [(int(line.split(': ')[0]), [int(i) for i in line.split(': ')[1].split(' ')]) for line in s]\n",
    "\n",
    "\n",
    "def options(current, nxt):\n",
    "    return [current+nxt, current*nxt]\n",
    "\n",
    "\n",
    "def has_solution(target, current, remaining):\n",
    "    if len(remaining) == 0:\n",
    "        return current == target\n",
    "    if current > target:\n",
    "        return False\n",
    "    opt = options(current, remaining[0])\n",
    "    solvable = False\n",
    "    for o in opt:\n",
    "        solvable |= has_solution(target, o, remaining[1:])\n",
    "    return solvable\n",
    "\n",
    "sum([eq[0] for eq in equations if has_solution(eq[0], 0, eq[1])])"
   ]
  },
  {
   "cell_type": "markdown",
   "id": "a1477134-0305-47ff-9fe7-63f76dc32538",
   "metadata": {},
   "source": [
    "### Part 2"
   ]
  },
  {
   "cell_type": "code",
   "execution_count": 12,
   "id": "da806360-96f7-4d8e-8f1f-c8e10b41bea5",
   "metadata": {},
   "outputs": [
    {
     "data": {
      "text/plain": [
       "254136560217241"
      ]
     },
     "execution_count": 12,
     "metadata": {},
     "output_type": "execute_result"
    }
   ],
   "source": [
    "def options(current, nxt):\n",
    "    return [current+nxt, current*nxt, int(str(current)+str(nxt))]\n",
    "\n",
    "sum([eq[0] for eq in equations if has_solution(eq[0], 0, eq[1])])"
   ]
  },
  {
   "cell_type": "markdown",
   "id": "e89f2711-d3db-4fff-89e0-871ab3457a4c",
   "metadata": {},
   "source": [
    "### Day 8"
   ]
  },
  {
   "cell_type": "markdown",
   "id": "52992f49-2c37-4308-ae90-2ac6110e9e57",
   "metadata": {},
   "source": [
    "### Part 1"
   ]
  },
  {
   "cell_type": "code",
   "execution_count": 17,
   "id": "b7499386-a86b-4dce-b43f-341eaa757068",
   "metadata": {},
   "outputs": [
    {
     "data": {
      "text/plain": [
       "361"
      ]
     },
     "execution_count": 17,
     "metadata": {},
     "output_type": "execute_result"
    }
   ],
   "source": [
    "with open('inputs/day8.txt') as f:\n",
    "    s = f.read().split('\\n')[:-1]\n",
    "\n",
    "\n",
    "def antinodes(antennas, width, height):\n",
    "    anti = set()\n",
    "    for a1 in antennas:\n",
    "        for a2 in antennas:\n",
    "            if a1 != a2:\n",
    "                dx = a1[0]-a2[0]\n",
    "                dy = a1[1]-a2[1]\n",
    "                anti.add((a1[0]+dx,a1[1]+dy))\n",
    "                anti.add((a2[0]-dx,a2[1]-dy,))\n",
    "    return {a for a in anti if a[0] in range(width) and a[1] in range(height)}\n",
    "\n",
    "\n",
    "width = len(s[0])\n",
    "height = len(s)\n",
    "antennas = {}\n",
    "for y in range(height):\n",
    "    for x in range(width):\n",
    "        if s[y][x] != '.':\n",
    "            a = antennas.get(s[y][x], [])\n",
    "            a.append((x,y))\n",
    "            antennas[s[y][x]] = a\n",
    "\n",
    "anti = set()\n",
    "for a in antennas:\n",
    "    anti.update(antinodes(antennas[a], width, height))\n",
    "\n",
    "len(anti)"
   ]
  },
  {
   "cell_type": "markdown",
   "id": "e78efcec-16a1-47b8-bccb-46723fdc8c7d",
   "metadata": {},
   "source": [
    "### Part 2"
   ]
  },
  {
   "cell_type": "code",
   "execution_count": 18,
   "id": "056d1ef3-d38f-4915-9432-2d36179cc2b4",
   "metadata": {},
   "outputs": [
    {
     "data": {
      "text/plain": [
       "1249"
      ]
     },
     "execution_count": 18,
     "metadata": {},
     "output_type": "execute_result"
    }
   ],
   "source": [
    "def antinodes(antennas, width, height):\n",
    "    anti = {a for a in antennas}\n",
    "    for a1 in antennas:\n",
    "        for a2 in antennas:\n",
    "            if a1 != a2:\n",
    "                dx = a1[0]-a2[0]\n",
    "                dy = a1[1]-a2[1]\n",
    "                i = 1\n",
    "                while a1[0]+i*dx in range(width) and a1[1]+i*dy in range(height):\n",
    "                    anti.add((a1[0]+i*dx,a1[1]+i*dy))\n",
    "                    i += 1\n",
    "                i = 1\n",
    "                while a1[0]+i*dx in range(width) and a1[1]+i*dy in range(height):\n",
    "                    anti.add((a2[0]-i*dx,a2[1]-i*dy))\n",
    "                    i += 1\n",
    "    return {a for a in anti if a[0] in range(width) and a[1] in range(height)}\n",
    "\n",
    "anti = set()\n",
    "for a in antennas:\n",
    "    anti.update(antinodes(antennas[a], width, height))\n",
    "\n",
    "len(anti)"
   ]
  },
  {
   "cell_type": "markdown",
   "id": "6b9b31c4-6459-4a11-9bd6-11c3ff3cd738",
   "metadata": {},
   "source": [
    "## Day 9"
   ]
  },
  {
   "cell_type": "markdown",
   "id": "8187c56e-f496-4e4c-93f5-25920599c08f",
   "metadata": {},
   "source": [
    "### Part 1"
   ]
  },
  {
   "cell_type": "code",
   "execution_count": 71,
   "id": "754b87f9-a8f7-4f96-93a3-4ec2a2db4280",
   "metadata": {},
   "outputs": [
    {
     "data": {
      "text/plain": [
       "6154342787400"
      ]
     },
     "execution_count": 71,
     "metadata": {},
     "output_type": "execute_result"
    }
   ],
   "source": [
    "with open('inputs/day9.txt') as f:\n",
    "    s = f.read()[:-1]\n",
    "\n",
    "disk = []\n",
    "file = True\n",
    "file_id = 0\n",
    "file_blocks = 0\n",
    "disk_idx = 0\n",
    "for i in s:\n",
    "    disk.append((disk_idx, disk_idx+int(i), file, file_id if file else None))\n",
    "    if file:\n",
    "            file_blocks += int(i)\n",
    "            file_id += 1\n",
    "    file = not file\n",
    "    disk_idx += int(i)\n",
    "\n",
    "a = 0\n",
    "fwd_idx = 0\n",
    "bwd_idx = disk[-1][1]-1\n",
    "fwd_block = 0\n",
    "bwd_block = len(disk)-1\n",
    "while fwd_idx < file_blocks:\n",
    "    if disk[fwd_block][2]:\n",
    "        a += fwd_idx*disk[fwd_block][3]\n",
    "    else:\n",
    "        a += fwd_idx*disk[bwd_block][3]\n",
    "        bwd_idx -= 1\n",
    "        if bwd_idx < disk[bwd_block][0]:\n",
    "            bwd_block -= 2\n",
    "            bwd_idx = disk[bwd_block][1]-1\n",
    "    fwd_idx += 1\n",
    "    while fwd_idx >= disk[fwd_block][1]:\n",
    "        fwd_block += 1\n",
    "\n",
    "a"
   ]
  },
  {
   "cell_type": "markdown",
   "id": "cdc536c0-384c-425f-9679-81a902eb7f92",
   "metadata": {},
   "source": [
    "### Part 2"
   ]
  },
  {
   "cell_type": "code",
   "execution_count": 72,
   "id": "8ff7c5b0-d88f-4c1f-9cba-8a4a32aa8956",
   "metadata": {},
   "outputs": [
    {
     "data": {
      "text/plain": [
       "6183632723350"
      ]
     },
     "execution_count": 72,
     "metadata": {},
     "output_type": "execute_result"
    }
   ],
   "source": [
    "def fits(file, into):\n",
    "    return file[1]-file[0] <= into[1]-into[0]\n",
    "\n",
    "\n",
    "def move(disk, idx, target):\n",
    "    empty_block = disk[target]\n",
    "    file_block = disk[idx]\n",
    "    new_file_block = (empty_block[0], empty_block[0]+(file_block[1]-file_block[0]), True, file_block[3])\n",
    "    new_empty_block = (file_block[0], file_block[1], False, None)\n",
    "    disk[target] = new_file_block\n",
    "    \n",
    "    disk[idx] = new_empty_block\n",
    "    if new_file_block[1] < empty_block[1]:\n",
    "        disk.insert(target+1, (new_file_block[1], empty_block[1], False, None))\n",
    "\n",
    "\n",
    "def find_space(disk, idx):\n",
    "    for i in range(idx):\n",
    "        if not disk[i][2] and fits(disk[idx], disk[i]):\n",
    "            return i\n",
    "\n",
    "\n",
    "def defrag(disk):\n",
    "    defragged = [d for d in disk]\n",
    "    for idx in range(len(defragged)-1, -1, -1):\n",
    "        if defragged[idx][2]:\n",
    "            target = find_space(defragged, idx)\n",
    "            if target is not None:\n",
    "                move(defragged, idx, target)\n",
    "    return defragged\n",
    "\n",
    "\n",
    "defragged = defrag(disk)\n",
    "sum([block[3]*sum(range(block[0], block[1])) for block in defragged if block[2]])"
   ]
  },
  {
   "cell_type": "markdown",
   "id": "c1c9677d-be29-4f8b-bd10-ac9c1303b6ee",
   "metadata": {},
   "source": [
    "## Day 10"
   ]
  },
  {
   "cell_type": "markdown",
   "id": "f18c0776-a1d8-4d7d-a7e6-4fbb2582ed17",
   "metadata": {},
   "source": [
    "### Part 1"
   ]
  },
  {
   "cell_type": "code",
   "execution_count": 110,
   "id": "441a51a3-62b1-46db-9a4a-33d189f38d1f",
   "metadata": {},
   "outputs": [
    {
     "data": {
      "text/plain": [
       "786"
      ]
     },
     "execution_count": 110,
     "metadata": {},
     "output_type": "execute_result"
    }
   ],
   "source": [
    "with open('inputs/day10.txt') as f:\n",
    "    s = f.read().split('\\n')[:-1]\n",
    "\n",
    "grid = {(x,y): int(s[y][x]) for y in range(len(s)) for x in range(len(s[0])) if s[y][x] != '.'}\n",
    "starts = {c for c in grid if grid[c] == 0}\n",
    "\n",
    "\n",
    "def reachable(coord, grid):\n",
    "    (x,y) = coord\n",
    "    return [(x+dx,y+dy) for (dx,dy) in [(1,0),(-1,0),(0,1),(0,-1)] if (x+dx,y+dy) in grid and grid[(x+dx,y+dy)] == grid[coord]+1]\n",
    "\n",
    "\n",
    "def score(grid, start):\n",
    "    visited = set()\n",
    "    queue = {start}\n",
    "    while len(queue) > 0:\n",
    "        current = queue.pop()\n",
    "        visited.add(current)\n",
    "        for nxt in reachable(current, grid):\n",
    "            queue.add(nxt)\n",
    "    return len([c for c in visited if grid[c] == 9])\n",
    "\n",
    "sum([score(grid, start) for start in starts])"
   ]
  },
  {
   "cell_type": "markdown",
   "id": "3e324d31-b36c-40a4-a255-f97f3690a916",
   "metadata": {},
   "source": [
    "### Part 2"
   ]
  },
  {
   "cell_type": "code",
   "execution_count": 111,
   "id": "44ed90a2-4038-4e2e-aeda-654d57886d67",
   "metadata": {},
   "outputs": [
    {
     "data": {
      "text/plain": [
       "1722"
      ]
     },
     "execution_count": 111,
     "metadata": {},
     "output_type": "execute_result"
    }
   ],
   "source": [
    "ratings = {c: 1  if grid[c] == 0 else 0 for c in grid}\n",
    "for height in range(1,10):\n",
    "    for (x,y) in ratings:\n",
    "        if grid[(x,y)] == height-1:\n",
    "            for (dx,dy) in [(1,0),(-1,0),(0,1),(0,-1)]:\n",
    "                if (x+dx,y+dy) in grid and grid[(x+dx,y+dy)] == height:\n",
    "                    ratings[(x+dx,y+dy)] = ratings[(x+dx,y+dy)] + ratings[(x,y)]\n",
    "\n",
    "sum([ratings[c] for c in ratings if grid[c] == 9])"
   ]
  },
  {
   "cell_type": "markdown",
   "id": "69f56d9e-6f65-4c2a-9e98-264141eb88e5",
   "metadata": {},
   "source": [
    "## Day 11"
   ]
  },
  {
   "cell_type": "markdown",
   "id": "adf8ec64-636b-4d02-bcc6-ca8e4e018511",
   "metadata": {},
   "source": [
    "### Part 1"
   ]
  },
  {
   "cell_type": "code",
   "execution_count": 42,
   "id": "0348def2-3443-46f9-8b36-bc5b7e5cdffb",
   "metadata": {},
   "outputs": [
    {
     "data": {
      "text/plain": [
       "212655"
      ]
     },
     "execution_count": 42,
     "metadata": {},
     "output_type": "execute_result"
    }
   ],
   "source": [
    "with open('inputs/day11.txt') as f:\n",
    "    s = f.read()[:-1]\n",
    "\n",
    "\n",
    "def blink_single(stone):\n",
    "    if stone == 0:\n",
    "        return [1]\n",
    "    if len(str(stone)) % 2 == 0:\n",
    "        string = str(stone)\n",
    "        first = string[:len(string)//2]\n",
    "        second = string[len(string)//2:]\n",
    "        return [int(first), int(second)]\n",
    "    return [stone*2024]\n",
    "\n",
    "\n",
    "def blink(stones):\n",
    "    new_stones = {}\n",
    "    for stone in stones:\n",
    "        for st in blink_single(stone):\n",
    "            new_stones[st] = new_stones.get(st, 0) + stones[stone]\n",
    "    return new_stones\n",
    "\n",
    "\n",
    "stones = {int(n):1 for n in s.split(' ')}\n",
    "\n",
    "for _ in range(25):\n",
    "    stones = blink(stones)\n",
    "\n",
    "sum(stones.values())"
   ]
  },
  {
   "cell_type": "markdown",
   "id": "0593e99f-a55d-4bd7-ba15-10087aadf970",
   "metadata": {},
   "source": [
    "### Part 2"
   ]
  },
  {
   "cell_type": "code",
   "execution_count": 47,
   "id": "3d4c0e3b-2af9-4467-a63e-080869801daf",
   "metadata": {},
   "outputs": [
    {
     "data": {
      "text/plain": [
       "253582809724830"
      ]
     },
     "execution_count": 47,
     "metadata": {},
     "output_type": "execute_result"
    }
   ],
   "source": [
    "stones = {int(n):1 for n in s.split(' ')}\n",
    "\n",
    "for _ in range(75):\n",
    "    stones = blink(stones)\n",
    "\n",
    "sum(stones.values())"
   ]
  },
  {
   "cell_type": "markdown",
   "id": "d6a9f493-2e7f-42a9-8409-2135502f3156",
   "metadata": {},
   "source": [
    "## Day 12"
   ]
  },
  {
   "cell_type": "markdown",
   "id": "48a073ba-40b8-4796-978d-ee64903fa622",
   "metadata": {},
   "source": [
    "### Part 1"
   ]
  },
  {
   "cell_type": "code",
   "execution_count": 36,
   "id": "b359792d-527e-439a-99ad-836e7309e473",
   "metadata": {},
   "outputs": [
    {
     "data": {
      "text/plain": [
       "1424472"
      ]
     },
     "execution_count": 36,
     "metadata": {},
     "output_type": "execute_result"
    }
   ],
   "source": [
    "with open('inputs/day12.txt') as f:\n",
    "    s = f.read().split('\\n')[:-1]\n",
    "\n",
    "\n",
    "def neighbour_coords(coord):\n",
    "    (x,y) = coord\n",
    "    return [(x+dx,y+dy) for (dx,dy) in [(1,0),(-1,0),(0,1),(0,-1)]]\n",
    "\n",
    "\n",
    "def neighbours(coord, grid):\n",
    "    return [c for c in neighbour_coords(coord) if c in grid]\n",
    "\n",
    "\n",
    "def fill_region(start, grid):\n",
    "    visited = {start}\n",
    "    queue = {start}\n",
    "    while len(queue) > 0:\n",
    "        current = queue.pop()\n",
    "        nxt = [n for n in neighbours(current, grid) if grid[n] == grid[start] and n not in visited]\n",
    "        visited.update(nxt)\n",
    "        queue.update(nxt)\n",
    "    return visited\n",
    "\n",
    "\n",
    "def next_unvisited(all_nodes, visited):\n",
    "    for c in all_nodes:\n",
    "        if c not in visited:\n",
    "            return c\n",
    "\n",
    "\n",
    "def identify_regions(grid):\n",
    "    regions = {}\n",
    "    visited = set()\n",
    "    region_id = 0\n",
    "    while len(visited) < len(grid):\n",
    "        current = next_unvisited(grid, visited)\n",
    "        area = fill_region(current, grid)\n",
    "        regions[region_id] = area\n",
    "        visited.update(area)\n",
    "        region_id += 1\n",
    "    return regions\n",
    "\n",
    "\n",
    "def identify_sides(region):\n",
    "    return {(coord, c) for coord in region for c in neighbour_coords(coord) if c not in region}\n",
    "\n",
    "\n",
    "def area(region):\n",
    "    return len(region)\n",
    "\n",
    "\n",
    "def perimeter(region):\n",
    "    return len(identify_sides(region))\n",
    "\n",
    "\n",
    "grid = {(x,y): s[y][x] for y in range(len(s)) for x in range(len(s[0]))}\n",
    "regions = identify_regions(grid)\n",
    "\n",
    "sum([area(regions[r])*perimeter(regions[r]) for r in regions])"
   ]
  },
  {
   "cell_type": "markdown",
   "id": "241120cb-1431-4bca-bb99-1e82a8d15f30",
   "metadata": {},
   "source": [
    "### Part 2"
   ]
  },
  {
   "cell_type": "code",
   "execution_count": 37,
   "id": "eab52d20-29d6-42c6-877e-9661d67e7d3f",
   "metadata": {},
   "outputs": [
    {
     "data": {
      "text/plain": [
       "870202"
      ]
     },
     "execution_count": 37,
     "metadata": {},
     "output_type": "execute_result"
    }
   ],
   "source": [
    "def neighbouring_sides(side, sides):\n",
    "    ((x1,y1),(x2,y2)) = side\n",
    "    return [((x1+dx,y1+dy),(x2+dx,y2+dy)) for (dx,dy) in [(1,0),(-1,0),(0,1),(0,-1)] if ((x1+dx,y1+dy),(x2+dx,y2+dy)) in sides]\n",
    "\n",
    "\n",
    "def traverse_side(start, sides):\n",
    "    visited = {start}\n",
    "    queue = {start}\n",
    "    while len(queue) > 0:\n",
    "        current = queue.pop()\n",
    "        nxt = [n for n in neighbouring_sides(current, sides) if n not in visited]\n",
    "        visited.update(nxt)\n",
    "        queue.update(nxt)\n",
    "    return visited      \n",
    "\n",
    "\n",
    "def region_sides(region):\n",
    "    side_sections = identify_sides(region)\n",
    "    sides = {}\n",
    "    visited = set()\n",
    "    side_id = 0\n",
    "    while len(visited) < len(side_sections):\n",
    "        current = next_unvisited(side_sections, visited)\n",
    "        side = traverse_side(current, side_sections)\n",
    "        sides[side_id] = side\n",
    "        visited.update(side)\n",
    "        side_id += 1\n",
    "    return sides\n",
    "    \n",
    "    \n",
    "def side_count(region):\n",
    "    return len(region_sides(region))\n",
    "\n",
    "\n",
    "sum([area(regions[r])*side_count(regions[r]) for r in regions])"
   ]
  },
  {
   "cell_type": "markdown",
   "id": "4fcdbf48-b1e5-4815-9f37-b33b7bab05e6",
   "metadata": {},
   "source": [
    "## Day 13"
   ]
  },
  {
   "cell_type": "markdown",
   "id": "805a3775-3fc2-4dd9-8c21-d88f7c4fb908",
   "metadata": {},
   "source": [
    "### Part 1"
   ]
  },
  {
   "cell_type": "code",
   "execution_count": 89,
   "id": "648626d6-c4d1-4c2a-8178-c9c4d3262704",
   "metadata": {},
   "outputs": [
    {
     "data": {
      "text/plain": [
       "39996"
      ]
     },
     "execution_count": 89,
     "metadata": {},
     "output_type": "execute_result"
    }
   ],
   "source": [
    "with open('inputs/day13.txt') as f:\n",
    "    s = f.read()[:-1].split('\\n\\n')\n",
    "\n",
    "\n",
    "def parse_button(line):\n",
    "    parts = line.replace(',', '+').split('+')\n",
    "    return (int(parts[1]), int(parts[-1]))\n",
    "\n",
    "\n",
    "def parse_prize(line):\n",
    "    parts = line.replace(',', '=').split('=')\n",
    "    return (int(parts[1]), int(parts[-1]))\n",
    "    \n",
    "\n",
    "def parse_machine(s):\n",
    "    lines = s.split('\\n')\n",
    "    return (parse_button(lines[0]),parse_button(lines[1]),parse_prize(lines[2]))\n",
    "\n",
    "\n",
    "def solve(machine):\n",
    "    ((ax,ay), (bx,by), (px,py)) = machine\n",
    "    if ay*bx-ax*by != 0:\n",
    "        b = (ay*px-ax*py) / (ay*bx-ax*by)\n",
    "        a = (px-b*bx) / ax\n",
    "        if a == int(a) and b == int(b) and a > 0 and b > 0:\n",
    "            return (int(a),int(b))\n",
    "\n",
    "\n",
    "def tokens(machine):\n",
    "    buttons = solve(machine)\n",
    "    if buttons is not None:\n",
    "        a,b = buttons\n",
    "        return 3*a+b\n",
    "    return 0\n",
    "\n",
    "machines = [parse_machine(machine) for machine in s]\n",
    "sum([tokens(machine) for machine in machines])"
   ]
  },
  {
   "cell_type": "markdown",
   "id": "65dea0c5-6ab1-4660-96f6-db7779a44334",
   "metadata": {},
   "source": [
    "### Part 2"
   ]
  },
  {
   "cell_type": "code",
   "execution_count": 90,
   "id": "589cf5b4-5f74-45ef-b680-a21083a1741d",
   "metadata": {},
   "outputs": [
    {
     "data": {
      "text/plain": [
       "73267584326867"
      ]
     },
     "execution_count": 90,
     "metadata": {},
     "output_type": "execute_result"
    }
   ],
   "source": [
    "increase = 10000000000000\n",
    "machines = [parse_machine(machine) for machine in s]\n",
    "machines = [(a,b,(px+increase, py+increase)) for (a,b,(px,py)) in machines]\n",
    "\n",
    "sum([tokens(machine) for machine in machines])"
   ]
  },
  {
   "cell_type": "markdown",
   "id": "2201bab8-3241-4ece-a6e6-f6f3cbcc7332",
   "metadata": {},
   "source": [
    "## Day 14"
   ]
  },
  {
   "cell_type": "markdown",
   "id": "508ff604-70a7-4e99-b066-b11e822469f5",
   "metadata": {},
   "source": [
    "### Part 1"
   ]
  },
  {
   "cell_type": "code",
   "execution_count": 116,
   "id": "49acecc3-c570-48f1-b60e-8c27d88e24ef",
   "metadata": {},
   "outputs": [
    {
     "data": {
      "text/plain": [
       "229839456"
      ]
     },
     "execution_count": 116,
     "metadata": {},
     "output_type": "execute_result"
    }
   ],
   "source": [
    "with open('inputs/day14.txt') as f:\n",
    "    s = f.read().split('\\n')[:-1]\n",
    "\n",
    "\n",
    "def parse_line(line):\n",
    "    return tuple(tuple(int(i) for i in vec.split('=')[-1].split(',')) for vec in line.split(' '))\n",
    "\n",
    "\n",
    "robots = [parse_line(line) for line in s]\n",
    "width = 101\n",
    "height = 103\n",
    "\n",
    "\n",
    "def pos_after(p,v,t):\n",
    "    (px,py) = p\n",
    "    (vx,vy) = v\n",
    "    return (((px+t*vx)%width, (py+t*vy)%height), v)\n",
    "\n",
    "\n",
    "def move_all(robots, t):\n",
    "    return [pos_after(p,v,t) for (p,v) in robots]\n",
    "\n",
    "\n",
    "robots_final = move_all(robots,100)\n",
    "separator_x = width//2 \n",
    "separator_y = height//2\n",
    "\n",
    "quad_1 = len([(px,py) for ((px,py),_) in robots_final if px in range(separator_x) and py in range(separator_y)])\n",
    "quad_2 = len([(px,py) for ((px,py),_) in robots_final if px in range(separator_x+1, width) and py in range(separator_y)])\n",
    "quad_3 = len([(px,py) for ((px,py),_) in robots_final if px in range(separator_x) and py in range(separator_y+1, height)])\n",
    "quad_4 = len([(px,py) for ((px,py),_) in robots_final if px in range(separator_x+1, width) and py in range(separator_y+1, height)])\n",
    "\n",
    "quad_1 * quad_2 * quad_3 * quad_4"
   ]
  },
  {
   "cell_type": "markdown",
   "id": "bd85d8ca-40b4-4c46-b6b5-0842d39b699c",
   "metadata": {},
   "source": [
    "### Part 2"
   ]
  },
  {
   "cell_type": "code",
   "execution_count": 120,
   "id": "93304dd0-2f77-4eb2-a62f-6e03be7be5bf",
   "metadata": {},
   "outputs": [
    {
     "data": {
      "text/plain": [
       "7138"
      ]
     },
     "execution_count": 120,
     "metadata": {},
     "output_type": "execute_result"
    }
   ],
   "source": [
    "def has_tree(robots):\n",
    "    robots_p = [r[0] for r in robots]\n",
    "    robots_t = [r for r in robots_p]\n",
    "    for d in range(1,8):\n",
    "        robots_t = [(px,py) for (px,py) in robots_t if (px+d,py) in robots_p]\n",
    "    return len(robots_t) > 0\n",
    "\n",
    "\n",
    "t = 0\n",
    "while not has_tree(move_all(robots,t)):\n",
    "    t += 1\n",
    "\n",
    "t"
   ]
  },
  {
   "cell_type": "markdown",
   "id": "fd89858f-f0ac-4d60-8caa-c13ba440d1cf",
   "metadata": {},
   "source": [
    "## Day 15"
   ]
  },
  {
   "cell_type": "markdown",
   "id": "15aa3a20-71a1-4e85-bd6e-c4de9545af5f",
   "metadata": {},
   "source": [
    "### Part 1"
   ]
  },
  {
   "cell_type": "code",
   "execution_count": 90,
   "id": "bf4d6b0d-ff7e-4c54-9bfd-06b8078c73b4",
   "metadata": {},
   "outputs": [
    {
     "data": {
      "text/plain": [
       "1471826"
      ]
     },
     "execution_count": 90,
     "metadata": {},
     "output_type": "execute_result"
    }
   ],
   "source": [
    "with open('inputs/day15.txt') as f:\n",
    "    s = f.read()[:-1].split('\\n\\n')\n",
    "\n",
    "\n",
    "area = s[0].split('\\n')\n",
    "inst = s[1].replace('\\n', '')\n",
    "directions = {'<': (-1,0), '>': (1,0), 'v': (0,1), '^': (0,-1)}\n",
    "\n",
    "grid = set()\n",
    "boxes = set()\n",
    "for y in range(len(area)):\n",
    "    for x in range(len(area[0])):\n",
    "        if area[y][x] != '#':\n",
    "            grid.add((x,y))\n",
    "            if area[y][x] == 'O':\n",
    "                boxes.add((x,y))\n",
    "            if area[y][x] == '@':\n",
    "                robot = (x,y)\n",
    "\n",
    "\n",
    "def move(coord, direction, grid):\n",
    "    (x,y) = coord\n",
    "    (dx,dy) = direction\n",
    "    nxt = (x+dx,y+dy)\n",
    "    if nxt in grid:\n",
    "        return nxt\n",
    "    return coord\n",
    "    \n",
    "\n",
    "\n",
    "def push(coord, direction, boxes, grid):\n",
    "    (x,y) = coord\n",
    "    (dx,dy) = direction\n",
    "    boxes_new = {b for b in boxes}\n",
    "    if coord in boxes:\n",
    "        nxt = (x+dx,y+dy)\n",
    "        if nxt in grid:\n",
    "            boxes_new = push(nxt,direction,boxes,grid)\n",
    "            if nxt not in boxes_new:\n",
    "                boxes_new.remove(coord)\n",
    "                boxes_new.add(nxt)\n",
    "    return boxes_new\n",
    "\n",
    "\n",
    "def gps(coord):\n",
    "    (x,y) = coord\n",
    "    return 100*y+x\n",
    "\n",
    "\n",
    "current = robot\n",
    "boxes_current = {b for b in boxes}\n",
    "for i in inst:\n",
    "    d = directions[i]\n",
    "    nxt = move(current, d, grid)\n",
    "    if nxt != current:\n",
    "        if nxt not in boxes_current:\n",
    "            current = nxt\n",
    "        else:\n",
    "            boxes_nxt = push(nxt, d, boxes_current, grid)\n",
    "            if boxes_current != boxes_nxt:\n",
    "                current = nxt\n",
    "            boxes_current = boxes_nxt\n",
    "\n",
    "\n",
    "sum([gps(box) for box in boxes_current])"
   ]
  },
  {
   "cell_type": "markdown",
   "id": "8438d5d9-1d55-41d4-9517-3b07474b833d",
   "metadata": {},
   "source": [
    "### Part 2"
   ]
  },
  {
   "cell_type": "code",
   "execution_count": 96,
   "id": "d800044d-fe70-4249-8015-a46b471aff93",
   "metadata": {},
   "outputs": [
    {
     "data": {
      "text/plain": [
       "1457703"
      ]
     },
     "execution_count": 96,
     "metadata": {},
     "output_type": "execute_result"
    }
   ],
   "source": [
    "grid = set()\n",
    "boxes = set()\n",
    "for y in range(len(area)):\n",
    "    for x in range(len(area[0])):\n",
    "        if area[y][x] != '#':\n",
    "            grid.add((2*x,y))\n",
    "            grid.add((2*x+1,y))\n",
    "            if area[y][x] == 'O':\n",
    "                boxes.add(((2*x,y),(2*x+1,y)))\n",
    "            if area[y][x] == '@':\n",
    "                robot = (2*x,y)\n",
    "\n",
    "\n",
    "def find_in(coord,boxes):\n",
    "    for box in boxes:\n",
    "        if coord in box:\n",
    "            return box\n",
    "\n",
    "\n",
    "def push(coord, direction, boxes, grid):\n",
    "    (dx,dy) = direction\n",
    "    boxes_new = {b for b in boxes}\n",
    "    box = find_in(coord, boxes)\n",
    "    if box is not None:\n",
    "        nxt = ((box[0][0]+dx, box[0][1]+dy),(box[1][0]+dx, box[1][1]+dy))\n",
    "        if nxt[0] in grid and nxt[1] in grid:\n",
    "            nxt_l = find_in(nxt[0], boxes)\n",
    "            nxt_r = find_in(nxt[1], boxes)\n",
    "            boxes_new_l = None\n",
    "            boxes_new_r = None\n",
    "            if nxt_l is not None and nxt_l != box:\n",
    "                boxes_new_l = push(nxt[0],direction,boxes_new,grid)\n",
    "            if nxt_r is not None and nxt_r != box:\n",
    "                boxes_new_r = push(nxt[1],direction,boxes_new,grid)\n",
    "            left_ok = boxes_new_l is None or find_in(nxt[0], boxes_new_l) is None\n",
    "            right_ok = boxes_new_r is None or find_in(nxt[1], boxes_new_r) is None\n",
    "            if left_ok and right_ok:\n",
    "                if nxt_l is not None and nxt_l != box:\n",
    "                    boxes_new = push(nxt[0],direction,boxes_new,grid)\n",
    "                if nxt_r is not None and nxt_r != box:\n",
    "                    boxes_new = push(nxt[1],direction,boxes_new,grid)\n",
    "                boxes_new.remove(box)\n",
    "                boxes_new.add(nxt)\n",
    "    return boxes_new\n",
    "\n",
    "\n",
    "def gps(box):\n",
    "    ((x,y),_) = box\n",
    "    return 100*y+x\n",
    "\n",
    "\n",
    "current = robot\n",
    "boxes_current = {b for b in boxes}\n",
    "for i in inst:\n",
    "    d = directions[i]\n",
    "    nxt = move(current, d, grid)\n",
    "    if nxt != current:\n",
    "        if find_in(nxt, boxes_current) is None:\n",
    "            current = nxt\n",
    "        else:\n",
    "            boxes_nxt = push(nxt, d, boxes_current, grid)\n",
    "            if boxes_current != boxes_nxt:\n",
    "                current = nxt\n",
    "            boxes_current = boxes_nxt\n",
    "\n",
    "\n",
    "sum([gps(box) for box in boxes_current])"
   ]
  },
  {
   "cell_type": "markdown",
   "id": "fe6ebacf-7f9b-4114-a78a-0735d9607c80",
   "metadata": {},
   "source": [
    "## Day 16"
   ]
  },
  {
   "cell_type": "markdown",
   "id": "8059400a-2304-487a-88d9-608047265df9",
   "metadata": {},
   "source": [
    "### Part 1"
   ]
  },
  {
   "cell_type": "code",
   "execution_count": 135,
   "id": "acc1d38b-f005-4e88-b79e-5db12ded2a0c",
   "metadata": {},
   "outputs": [
    {
     "data": {
      "text/plain": [
       "106512"
      ]
     },
     "execution_count": 135,
     "metadata": {},
     "output_type": "execute_result"
    }
   ],
   "source": [
    "with open('inputs/day16.txt') as f:\n",
    "    s = f.read()[:-1].split('\\n')\n",
    "\n",
    "grid = {(x,y): s[y][x] for x in range(len(s[0])) for y in range(len(s)) if s[y][x] != '#'}\n",
    "directions = [(1,0),(0,1),(-1,0),(0,-1)]\n",
    "start = [c for c in grid if grid[c] == 'S'][0]\n",
    "end = [c for c in grid if grid[c] == 'E'][0]\n",
    "\n",
    "\n",
    "def moves(coord, direction, grid):\n",
    "    (x,y) = coord\n",
    "    (dx,dy) = directions[direction]\n",
    "    options = [(coord, (direction+1)%4, 1000), (coord, (direction-1)%4, 1000)]\n",
    "    fwd = (x+dx, y+dy)\n",
    "    if fwd in grid:\n",
    "        options.append((fwd, direction, 1))\n",
    "    return options\n",
    "\n",
    "\n",
    "scores = {(start, 0): 0}\n",
    "queue = {(start, 0)}\n",
    "while len(queue) > 0:\n",
    "    (current, d) = queue.pop()\n",
    "    current_score = scores[(current, d)]\n",
    "    for (nxt_coord, nxt_d, cost) in moves(current, d, grid):\n",
    "        if (nxt_coord, nxt_d) not in scores or current_score+cost < scores[(nxt_coord, nxt_d)]:\n",
    "            scores[(nxt_coord, nxt_d)] = current_score+cost\n",
    "            queue.add((nxt_coord, nxt_d))\n",
    "\n",
    "\n",
    "best = min({(c,d): scores[(c,d)] for (c,d) in scores if grid[c] == 'E'}.values())\n",
    "best"
   ]
  },
  {
   "cell_type": "markdown",
   "id": "9a824e7d-5de2-4d8c-a9e5-43fd5ee18dc3",
   "metadata": {},
   "source": [
    "### Part 2"
   ]
  },
  {
   "cell_type": "code",
   "execution_count": 139,
   "id": "1bbd5368-6f0e-4463-80ce-d08a9be49e73",
   "metadata": {},
   "outputs": [
    {
     "data": {
      "text/plain": [
       "563"
      ]
     },
     "execution_count": 139,
     "metadata": {},
     "output_type": "execute_result"
    }
   ],
   "source": [
    "scores = {(start, 0): 0}\n",
    "queue = {(start, 0)}\n",
    "previous = {(start, 0): set()}\n",
    "while len(queue) > 0:\n",
    "    (current, d) = queue.pop()\n",
    "    current_score = scores[(current, d)]\n",
    "    prev = previous[(current, d)]\n",
    "    for (nxt_coord, nxt_d, cost) in moves(current, d, grid):\n",
    "        if (nxt_coord, nxt_d) in scores and current_score+cost == scores[(nxt_coord, nxt_d)]:\n",
    "            previous[(nxt_coord, nxt_d)].add((current, d))\n",
    "        if (nxt_coord, nxt_d) not in scores or current_score+cost < scores[(nxt_coord, nxt_d)]:\n",
    "            scores[(nxt_coord, nxt_d)] = current_score+cost\n",
    "            queue.add((nxt_coord, nxt_d))\n",
    "            previous[(nxt_coord, nxt_d)] = {(current, d)}\n",
    "\n",
    "\n",
    "queue = {(c,d) for (c,d) in previous if grid[c] == 'E' and scores[(c,d)] == best}\n",
    "visited = set()\n",
    "while len(queue) > 0:\n",
    "    current = queue.pop()\n",
    "    if current not in visited:\n",
    "        visited.add(current)\n",
    "        queue.update(previous[current])\n",
    "\n",
    "tiles = {c for (c,_) in visited}\n",
    "len(tiles)"
   ]
  }
 ],
 "metadata": {
  "kernelspec": {
   "display_name": "Python 3 (ipykernel)",
   "language": "python",
   "name": "python3"
  },
  "language_info": {
   "codemirror_mode": {
    "name": "ipython",
    "version": 3
   },
   "file_extension": ".py",
   "mimetype": "text/x-python",
   "name": "python",
   "nbconvert_exporter": "python",
   "pygments_lexer": "ipython3",
   "version": "3.12.7"
  }
 },
 "nbformat": 4,
 "nbformat_minor": 5
}
