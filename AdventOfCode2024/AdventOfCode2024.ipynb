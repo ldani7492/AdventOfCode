{
 "cells": [
  {
   "cell_type": "markdown",
   "id": "33663446-274a-4ea7-bae0-a3c9689c8ccf",
   "metadata": {},
   "source": [
    "# Advent of Code 2024"
   ]
  },
  {
   "cell_type": "markdown",
   "id": "a34128c5-ed64-424d-851f-63e084495561",
   "metadata": {},
   "source": [
    "## Day 1"
   ]
  },
  {
   "cell_type": "markdown",
   "id": "6032dc62-7f2c-48b7-9899-acd49381592a",
   "metadata": {},
   "source": [
    "### Part 1"
   ]
  },
  {
   "cell_type": "code",
   "execution_count": 8,
   "id": "cd185483-47a4-4077-bc7a-0b674318f35f",
   "metadata": {},
   "outputs": [
    {
     "data": {
      "text/plain": [
       "2344935"
      ]
     },
     "execution_count": 8,
     "metadata": {},
     "output_type": "execute_result"
    }
   ],
   "source": [
    "with open('inputs/day1.txt') as f:\n",
    "    s = f.read().split('\\n')[:-1]\n",
    "\n",
    "left = sorted([int(line.split('   ')[0]) for line in s])\n",
    "right = sorted([int(line.split('   ')[1]) for line in s])\n",
    "\n",
    "sum([abs(left[i] - right[i]) for i in range(len(left))])"
   ]
  },
  {
   "cell_type": "markdown",
   "id": "4e4839ff-28aa-4a0e-8e1c-0d981e581b0a",
   "metadata": {},
   "source": [
    "### Part 2"
   ]
  },
  {
   "cell_type": "code",
   "execution_count": 10,
   "id": "9e0e4a04-cdff-411e-9d8c-924817e43b0d",
   "metadata": {},
   "outputs": [
    {
     "data": {
      "text/plain": [
       "27647262"
      ]
     },
     "execution_count": 10,
     "metadata": {},
     "output_type": "execute_result"
    }
   ],
   "source": [
    "frequency = {n: right.count(n) for n in left}\n",
    "\n",
    "sum([n*frequency[n] for n in frequency])"
   ]
  },
  {
   "cell_type": "markdown",
   "id": "4df7bc05-c5f3-4d41-bbce-f970c5e625cf",
   "metadata": {},
   "source": [
    "## Day 2"
   ]
  },
  {
   "cell_type": "markdown",
   "id": "a4dee7f1-7656-457e-9361-e7a8178d4b1b",
   "metadata": {},
   "source": [
    "### Part 1"
   ]
  },
  {
   "cell_type": "code",
   "execution_count": 17,
   "id": "23ca0ce1-66cb-44ba-b9c7-d0f2d0e7fc1c",
   "metadata": {},
   "outputs": [
    {
     "data": {
      "text/plain": [
       "516"
      ]
     },
     "execution_count": 17,
     "metadata": {},
     "output_type": "execute_result"
    }
   ],
   "source": [
    "with open('inputs/day2.txt') as f:\n",
    "    s = f.read().split('\\n')[:-1]\n",
    "\n",
    "\n",
    "def is_safe(levels):\n",
    "    direction = levels[1] - levels[0]\n",
    "    for i in range(1, len(levels)):\n",
    "        d = levels[i] - levels[i-1]\n",
    "        if direction * d < 0 or abs(d) < 1 or abs(d) > 3:\n",
    "            return False\n",
    "    return True\n",
    "\n",
    "\n",
    "report = [[int(level) for level in line.split(' ')] for line in s]\n",
    "sum([1 if is_safe(levels) else 0 for levels in report])"
   ]
  },
  {
   "cell_type": "markdown",
   "id": "7bef81b5-c166-44d5-96b6-e401e84eb107",
   "metadata": {},
   "source": [
    "### Part 2"
   ]
  },
  {
   "cell_type": "code",
   "execution_count": 19,
   "id": "252c150a-1dc3-4599-9586-bf90d7121541",
   "metadata": {},
   "outputs": [
    {
     "data": {
      "text/plain": [
       "561"
      ]
     },
     "execution_count": 19,
     "metadata": {},
     "output_type": "execute_result"
    }
   ],
   "source": [
    "def remove_level(levels, i):\n",
    "    return levels[:i] + levels[i+1:]\n",
    "\n",
    "\n",
    "def is_safe_tolerate(levels):\n",
    "    if is_safe(levels):\n",
    "        return True\n",
    "    for i in range(len(levels)):\n",
    "        if is_safe(remove_level(levels, i)):\n",
    "            return True\n",
    "    return False\n",
    "\n",
    "\n",
    "sum([1 if is_safe_tolerate(levels) else 0 for levels in report])"
   ]
  },
  {
   "cell_type": "markdown",
   "id": "6fd5129c-287e-4701-afb2-da625ec1d9b4",
   "metadata": {},
   "source": [
    "## Day 3"
   ]
  },
  {
   "cell_type": "markdown",
   "id": "4cde996a-1b5f-47c4-8c51-5a7ff36b95d2",
   "metadata": {},
   "source": [
    "### Part 1"
   ]
  },
  {
   "cell_type": "code",
   "execution_count": 31,
   "id": "d75bfd84-743a-4428-95ab-8d4f33fa2ac4",
   "metadata": {},
   "outputs": [
    {
     "data": {
      "text/plain": [
       "189527826"
      ]
     },
     "execution_count": 31,
     "metadata": {},
     "output_type": "execute_result"
    }
   ],
   "source": [
    "import re\n",
    "\n",
    "with open('inputs/day3.txt') as f:\n",
    "    s = f.read()[:-1]\n",
    "\n",
    "\n",
    "def mul(command):\n",
    "    num = [int(i) for i in command[4:-1].split(',')]\n",
    "    return num[0]*num[1]\n",
    "\n",
    "\n",
    "reg = re.compile(r'mul\\(\\d{1,3},\\d{1,3}\\)')\n",
    "sum([mul(i) for i in reg.findall(s)])"
   ]
  },
  {
   "cell_type": "markdown",
   "id": "1548a886-89c3-4518-9356-ce94b27b364e",
   "metadata": {},
   "source": [
    "### Part 2"
   ]
  },
  {
   "cell_type": "code",
   "execution_count": 36,
   "id": "a7ade998-b8c2-420e-9624-2a54656d55f0",
   "metadata": {},
   "outputs": [
    {
     "data": {
      "text/plain": [
       "63013756"
      ]
     },
     "execution_count": 36,
     "metadata": {},
     "output_type": "execute_result"
    }
   ],
   "source": [
    "reg = re.compile(r'mul\\(\\d{1,3},\\d{1,3}\\)|do\\(\\)|don\\'t\\(\\)')\n",
    "\n",
    "a = 0\n",
    "enabled = True\n",
    "for comm in reg.findall(s):\n",
    "    if comm == 'do()':\n",
    "        enabled = True\n",
    "    elif comm == 'don\\'t()':\n",
    "        enabled = False\n",
    "    elif enabled:\n",
    "        a += mul(comm)\n",
    "\n",
    "a"
   ]
  },
  {
   "cell_type": "markdown",
   "id": "219a129d-0c02-419e-a2df-a27da6621417",
   "metadata": {},
   "source": [
    "## Day 4"
   ]
  },
  {
   "cell_type": "markdown",
   "id": "e5537845-f7c3-4e4f-8874-0027869c1fee",
   "metadata": {},
   "source": [
    "### Part 1"
   ]
  },
  {
   "cell_type": "code",
   "execution_count": 23,
   "id": "f8354b52-516f-4275-99a5-3b20a16069a2",
   "metadata": {},
   "outputs": [
    {
     "data": {
      "text/plain": [
       "2583"
      ]
     },
     "execution_count": 23,
     "metadata": {},
     "output_type": "execute_result"
    }
   ],
   "source": [
    "with open('inputs/day4.txt') as f:\n",
    "    s = f.read().split('\\n')[:-1]\n",
    "\n",
    "\n",
    "def transpose(s):\n",
    "    return [''.join([s[y][x] for y in range(len(s))]) for x in range(len(s[0]))]\n",
    "\n",
    "\n",
    "def diagonal_words(s, min_l):\n",
    "    words = []\n",
    "    for y in range(len(s)):\n",
    "        for x in range(len(s[0])):\n",
    "            for (dx,dy) in [(1,1),(1,-1),(-1,1),(-1,-1)]:\n",
    "                if x + (min_l-1)*dx in range(len(s[0])) and y + (min_l-1)*dy in range(len(s)):\n",
    "                    words.append(''.join([s[y+i*dy][x+i*dx] for i in range(min_l)]))\n",
    "    return words\n",
    "\n",
    "\n",
    "search = 'XMAS'\n",
    "a = 0\n",
    "\n",
    "for line in s:\n",
    "    a += line.count(search)\n",
    "    a += line.count(search[::-1])\n",
    "\n",
    "for line in transpose(s):\n",
    "    a += line.count(search)\n",
    "    a += line.count(search[::-1])\n",
    "\n",
    "a += diagonal_words(s, len(search)).count(search)\n",
    "\n",
    "a"
   ]
  },
  {
   "cell_type": "markdown",
   "id": "4762be37-1b1f-48cf-aaf1-f29b07836420",
   "metadata": {},
   "source": [
    "### Part 2"
   ]
  },
  {
   "cell_type": "code",
   "execution_count": 24,
   "id": "cac3f205-f507-454a-81f9-5ca7879aedcb",
   "metadata": {},
   "outputs": [
    {
     "data": {
      "text/plain": [
       "1978"
      ]
     },
     "execution_count": 24,
     "metadata": {},
     "output_type": "execute_result"
    }
   ],
   "source": [
    "search = 'MAS'\n",
    "\n",
    "def check_cross_word(x,y,s):\n",
    "    x_in_range = x in range(1, len(s[0])-1)\n",
    "    y_in_range = y in range(1, len(s)-1)\n",
    "    if not x_in_range or not y_in_range:\n",
    "        return False\n",
    "    center_ok = s[y][x] == search[1]\n",
    "    diag_up_left    = s[y-1][x-1] == search[0] and s[y+1][x+1] == search[2]\n",
    "    diag_up_right   = s[y-1][x+1] == search[0] and s[y+1][x-1] == search[2]\n",
    "    diag_down_left  = s[y+1][x-1] == search[0] and s[y-1][x+1] == search[2]\n",
    "    diag_down_right = s[y+1][x+1] == search[0] and s[y-1][x-1] == search[2]\n",
    "    return center_ok and (diag_up_left or diag_down_right) and (diag_up_right or diag_down_left)\n",
    "\n",
    "\n",
    "len([(x,y) for y in range(len(s)) for x in range(len(s[0])) if check_cross_word(x,y,s)])"
   ]
  }
 ],
 "metadata": {
  "kernelspec": {
   "display_name": "Python 3 (ipykernel)",
   "language": "python",
   "name": "python3"
  },
  "language_info": {
   "codemirror_mode": {
    "name": "ipython",
    "version": 3
   },
   "file_extension": ".py",
   "mimetype": "text/x-python",
   "name": "python",
   "nbconvert_exporter": "python",
   "pygments_lexer": "ipython3",
   "version": "3.12.7"
  }
 },
 "nbformat": 4,
 "nbformat_minor": 5
}
