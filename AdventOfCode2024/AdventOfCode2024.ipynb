{
 "cells": [
  {
   "cell_type": "markdown",
   "id": "33663446-274a-4ea7-bae0-a3c9689c8ccf",
   "metadata": {},
   "source": [
    "# Advent of Code 2024"
   ]
  },
  {
   "cell_type": "markdown",
   "id": "a34128c5-ed64-424d-851f-63e084495561",
   "metadata": {},
   "source": [
    "## Day 1"
   ]
  },
  {
   "cell_type": "markdown",
   "id": "6032dc62-7f2c-48b7-9899-acd49381592a",
   "metadata": {},
   "source": [
    "### Part 1"
   ]
  },
  {
   "cell_type": "code",
   "execution_count": 8,
   "id": "cd185483-47a4-4077-bc7a-0b674318f35f",
   "metadata": {},
   "outputs": [
    {
     "data": {
      "text/plain": [
       "2344935"
      ]
     },
     "execution_count": 8,
     "metadata": {},
     "output_type": "execute_result"
    }
   ],
   "source": [
    "with open('inputs/day1.txt') as f:\n",
    "    s = f.read().split('\\n')[:-1]\n",
    "\n",
    "left = sorted([int(line.split('   ')[0]) for line in s])\n",
    "right = sorted([int(line.split('   ')[1]) for line in s])\n",
    "\n",
    "sum([abs(left[i] - right[i]) for i in range(len(left))])"
   ]
  },
  {
   "cell_type": "markdown",
   "id": "4e4839ff-28aa-4a0e-8e1c-0d981e581b0a",
   "metadata": {},
   "source": [
    "### Part 2"
   ]
  },
  {
   "cell_type": "code",
   "execution_count": 10,
   "id": "9e0e4a04-cdff-411e-9d8c-924817e43b0d",
   "metadata": {},
   "outputs": [
    {
     "data": {
      "text/plain": [
       "27647262"
      ]
     },
     "execution_count": 10,
     "metadata": {},
     "output_type": "execute_result"
    }
   ],
   "source": [
    "frequency = {n: right.count(n) for n in left}\n",
    "\n",
    "sum([n*frequency[n] for n in frequency])"
   ]
  }
 ],
 "metadata": {
  "kernelspec": {
   "display_name": "Python 3 (ipykernel)",
   "language": "python",
   "name": "python3"
  },
  "language_info": {
   "codemirror_mode": {
    "name": "ipython",
    "version": 3
   },
   "file_extension": ".py",
   "mimetype": "text/x-python",
   "name": "python",
   "nbconvert_exporter": "python",
   "pygments_lexer": "ipython3",
   "version": "3.12.7"
  }
 },
 "nbformat": 4,
 "nbformat_minor": 5
}
